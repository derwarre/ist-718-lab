{
 "cells": [
  {
   "cell_type": "code",
   "execution_count": 10,
   "metadata": {},
   "outputs": [
    {
     "name": "stdout",
     "output_type": "stream",
     "text": [
      "Successfully downloaded train-images-idx3-ubyte.gz 9912422 bytes.\n",
      "Extracting input/data\\train-images-idx3-ubyte.gz\n",
      "Successfully downloaded train-labels-idx1-ubyte.gz 28881 bytes.\n",
      "Extracting input/data\\train-labels-idx1-ubyte.gz\n",
      "Successfully downloaded t10k-images-idx3-ubyte.gz 1648877 bytes.\n",
      "Extracting input/data\\t10k-images-idx3-ubyte.gz\n",
      "Successfully downloaded t10k-labels-idx1-ubyte.gz 4542 bytes.\n",
      "Extracting input/data\\t10k-labels-idx1-ubyte.gz\n"
     ]
    }
   ],
   "source": [
    "#\n",
    "# conda install -c anaconda keras\n",
    "# conda install -c anaconda numpy\n",
    "# pip3 install python-mnist\n",
    "#\n",
    "import os\n",
    "import gzip\n",
    "import numpy as np\n",
    "import keras\n",
    "from keras.layers import Conv2D, MaxPool2D, Flatten\n",
    "from keras.layers import Dense, Dropout\n",
    "import matplotlib.pyplot as plt\n",
    "\n",
    "from tensorflow.examples.tutorials.mnist import input_data\n",
    "\n",
    "# Import Fashion MNIST\n",
    "fashion_mnist = input_data.read_data_sets('input/data', one_hot=True)"
   ]
  },
  {
   "cell_type": "code",
   "execution_count": 2,
   "metadata": {},
   "outputs": [],
   "source": [
    "def load_mnist(path, kind='train'):\n",
    "    '''\n",
    "\n",
    "    Load MNIST data from `path`:\n",
    "\n",
    "    - https://github.com/zalandoresearch/fashion-mnist/blob/master/utils/mnist_reader.py\n",
    "\n",
    "    '''\n",
    "    labels_path = os.path.join(\n",
    "        path,\n",
    "        '{}-labels-idx1-ubyte.gz'.format(kind)\n",
    "    )\n",
    "    images_path = os.path.join(\n",
    "        path,\n",
    "        '{}-images-idx3-ubyte.gz'.format(kind)\n",
    "\n",
    "\n",
    "    with gzip.open(labels_path, 'rb') as lbpath:\n",
    "        labels = np.frombuffer(\n",
    "            lbpath.read(),\n",
    "            dtype=np.uint8,\n",
    "            offset=8\n",
    "        )\n",
    "\n",
    "    with gzip.open(images_path, 'rb') as imgpath:\n",
    "        images = np.frombuffer(\n",
    "            imgpath.read(),\n",
    "            dtype=np.uint8,\n",
    "            offset=16\n",
    "        ).reshape(len(labels), 784)\n",
    "\n",
    "    return images, labels"
   ]
  },
  {
   "cell_type": "code",
   "execution_count": 36,
   "metadata": {},
   "outputs": [
    {
     "name": "stdout",
     "output_type": "stream",
     "text": [
      "Training set (images) shape: (60000, 784)\n",
      "Training set (labels) shape: (60000,)\n",
      "Test set (images) shape: (10000, 784)\n",
      "Test set (labels) shape: (10000,)\n"
     ]
    }
   ],
   "source": [
    "# import data\n",
    "X_train, y_train = load_mnist('../data', kind='train')\n",
    "X_test, y_test = load_mnist('../data', kind='t10k')\n",
    "\n",
    "# Shapes of training set\n",
    "print(\"Training set (images) shape: {shape}\".format(shape=X_train.shape))\n",
    "print(\"Training set (labels) shape: {shape}\".format(shape=y_train.shape))\n",
    "\n",
    "# Shapes of test set\n",
    "print(\"Test set (images) shape: {shape}\".format(shape=X_test.shape))\n",
    "print(\"Test set (labels) shape: {shape}\".format(shape=y_test.shape))"
   ]
  },
  {
   "cell_type": "code",
   "execution_count": 20,
   "metadata": {},
   "outputs": [],
   "source": [
    "labels = {\n",
    " 0: 't-shirt',\n",
    " 1: 'trouser',\n",
    " 2: 'pullover',\n",
    " 3: 'dress',\n",
    " 4: 'coat',\n",
    " 5: 'sandal',\n",
    " 6: 'shirt',\n",
    " 7: 'sneaker',\n",
    " 8: 'bag',\n",
    " 9: 'ankle-boot'\n",
    "}"
   ]
  },
  {
   "cell_type": "code",
   "execution_count": 91,
   "metadata": {},
   "outputs": [
    {
     "name": "stdout",
     "output_type": "stream",
     "text": [
      "y = 6 (shirt)\n"
     ]
    },
    {
     "data": {
      "text/plain": [
       "<matplotlib.image.AxesImage at 0x19903da80b8>"
      ]
     },
     "execution_count": 91,
     "metadata": {},
     "output_type": "execute_result"
    },
    {
     "data": {
      "image/png": "[encoded data removed]",
      "text/plain": [
       "<Figure size 432x288 with 1 Axes>"
      ]
     },
     "metadata": {
      "needs_background": "light"
     },
     "output_type": "display_data"
    }
   ],
   "source": [
    "# exploratory #1\n",
    "sample_1 = X_train[33].reshape(28,28)\n",
    "sample_label_1 = y_train[33]\n",
    "\n",
    "print('y = {index} ({label})'.format(\n",
    "    index=sample_label_1,\n",
    "    label=labels[sample_label_1])\n",
    ")\n",
    "plt.imshow(sample_1, cmap='Greys')"
   ]
  },
  {
   "cell_type": "code",
   "execution_count": 92,
   "metadata": {},
   "outputs": [
    {
     "name": "stdout",
     "output_type": "stream",
     "text": [
      "y = 4 (coat)\n"
     ]
    },
    {
     "data": {
      "text/plain": [
       "<matplotlib.image.AxesImage at 0x19903dfcdd8>"
      ]
     },
     "execution_count": 92,
     "metadata": {},
     "output_type": "execute_result"
    },
    {
     "data": {
      "image/png": "[encoded data removed]",
      "text/plain": [
       "<Figure size 432x288 with 1 Axes>"
      ]
     },
     "metadata": {
      "needs_background": "light"
     },
     "output_type": "display_data"
    }
   ],
   "source": [
    "# exploratory #3\n",
    "sample_2 = X_train[24].reshape(28,28)\n",
    "sample_label_2 = y_train[24]\n",
    "\n",
    "print('y = {index} ({label})'.format(\n",
    "    index=sample_label_2,\n",
    "    label=labels[sample_label_2])\n",
    ")\n",
    "plt.imshow(sample_2, cmap='Greys')"
   ]
  },
  {
   "cell_type": "code",
   "execution_count": null,
   "metadata": {},
   "outputs": [],
   "source": []
  }
 ],
 "metadata": {
  "kernelspec": {
   "display_name": "Python 3",
   "language": "python",
   "name": "python3"
  },
  "language_info": {
   "codemirror_mode": {
    "name": "ipython",
    "version": 3
   },
   "file_extension": ".py",
   "mimetype": "text/x-python",
   "name": "python",
   "nbconvert_exporter": "python",
   "pygments_lexer": "ipython3",
   "version": "3.6.7"
  }
 },
 "nbformat": 4,
 "nbformat_minor": 2
}
