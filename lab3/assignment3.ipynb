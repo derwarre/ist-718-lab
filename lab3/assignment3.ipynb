{
 "cells": [
  {
   "cell_type": "code",
   "execution_count": 1,
   "metadata": {},
   "outputs": [
    {
     "ename": "ImportError",
     "evalue": "cannot import name 'viz_svm'",
     "output_type": "error",
     "traceback": [
      "\u001b[1;31m---------------------------------------------------------------------------\u001b[0m",
      "\u001b[1;31mImportError\u001b[0m                               Traceback (most recent call last)",
      "\u001b[1;32m<ipython-input-1-0d9a740046d4>\u001b[0m in \u001b[0;36m<module>\u001b[1;34m\u001b[0m\n\u001b[0;32m      1\u001b[0m \u001b[1;32mfrom\u001b[0m \u001b[0mtensor\u001b[0m \u001b[1;32mimport\u001b[0m \u001b[0mviz_tensor\u001b[0m\u001b[1;33m,\u001b[0m \u001b[0mmodel\u001b[0m\u001b[1;33m\u001b[0m\u001b[1;33m\u001b[0m\u001b[0m\n\u001b[0;32m      2\u001b[0m \u001b[1;32mfrom\u001b[0m \u001b[0mtensorflow\u001b[0m\u001b[1;33m.\u001b[0m\u001b[0mexamples\u001b[0m\u001b[1;33m.\u001b[0m\u001b[0mtutorials\u001b[0m\u001b[1;33m.\u001b[0m\u001b[0mmnist\u001b[0m \u001b[1;32mimport\u001b[0m \u001b[0minput_data\u001b[0m\u001b[1;33m\u001b[0m\u001b[1;33m\u001b[0m\u001b[0m\n\u001b[1;32m----> 3\u001b[1;33m \u001b[1;32mfrom\u001b[0m \u001b[0msvm\u001b[0m \u001b[1;32mimport\u001b[0m \u001b[0mload_mnist\u001b[0m\u001b[1;33m,\u001b[0m \u001b[0mfit\u001b[0m\u001b[1;33m,\u001b[0m \u001b[0mpredict\u001b[0m\u001b[1;33m,\u001b[0m \u001b[0maccuracy\u001b[0m\u001b[1;33m,\u001b[0m \u001b[0mviz_svm\u001b[0m\u001b[1;33m\u001b[0m\u001b[1;33m\u001b[0m\u001b[0m\n\u001b[0m",
      "\u001b[1;31mImportError\u001b[0m: cannot import name 'viz_svm'"
     ]
    }
   ],
   "source": [
    "from tensor import viz_tensor, model\n",
    "from tensorflow.examples.tutorials.mnist import input_data\n",
    "from svm import load_mnist, fit, predict, accuracy"
   ]
  },
  {
   "cell_type": "code",
   "execution_count": null,
   "metadata": {
    "scrolled": true
   },
   "outputs": [],
   "source": [
    "# import data\n",
    "fashion_mnist = input_data.read_data_sets('../data', one_hot=True)\n",
    "\n",
    "# shapes of training set\n",
    "print('Training set (images) shape: {shape}'.format(shape=fashion_mnist.train.images.shape))\n",
    "print('Training set (labels) shape: {shape}'.format(shape=fashion_mnist.train.labels.shape))\n",
    "\n",
    "# shapes of test set\n",
    "print('Test set (images) shape: {shape}'.format(shape=fashion_mnist.test.images.shape))\n",
    "print('Test set (labels) shape: {shape}'.format(shape=fashion_mnist.test.labels.shape))"
   ]
  },
  {
   "cell_type": "code",
   "execution_count": null,
   "metadata": {},
   "outputs": [],
   "source": [
    "# image labels\n",
    "labels = {\n",
    "    0: 't-shirt',\n",
    "    1: 'trouser',\n",
    "    2: 'pullover',\n",
    "    3: 'dress',\n",
    "    4: 'coat',\n",
    "    5: 'sandal',\n",
    "    6: 'shirt',\n",
    "    7: 'sneaker',\n",
    "    8: 'bag',\n",
    "    9: 'ankle-boot'\n",
    "}"
   ]
  },
  {
   "cell_type": "code",
   "execution_count": null,
   "metadata": {},
   "outputs": [],
   "source": [
    "# visualize train sample\n",
    "viz_tensor(range(25), fashion_mnist, labels)"
   ]
  },
  {
   "cell_type": "code",
   "execution_count": null,
   "metadata": {
    "scrolled": true
   },
   "outputs": [],
   "source": [
    "# generate neural network\n",
    "train = fashion_mnist.train\n",
    "test = fashion_mnist.test\n",
    "\n",
    "model(train, test, labels, learning_rate=0.0005)"
   ]
  },
  {
   "cell_type": "code",
   "execution_count": null,
   "metadata": {},
   "outputs": [],
   "source": [
    "# load svm data\n",
    "train = load_mnist('../data/')\n",
    "test = load_mnist('../data/', kind='t10k')\n",
    "\n",
    "# shapes of training set\n",
    "print('Training set (images) shape: {shape}'.format(shape=train[0].shape))\n",
    "print('Training set (labels) shape: {shape}'.format(shape=train[1].shape))\n",
    "\n",
    "# shapes of test set\n",
    "print('Test set (images) shape: {shape}'.format(shape=test[0].shape))\n",
    "print('Test set (labels) shape: {shape}'.format(shape=test[1].shape))"
   ]
  },
  {
   "cell_type": "code",
   "execution_count": null,
   "metadata": {},
   "outputs": [],
   "source": [
    "# train + predict with svm\n",
    "model = fit(train)\n",
    "prediction = predict(model, test)"
   ]
  },
  {
   "cell_type": "code",
   "execution_count": null,
   "metadata": {},
   "outputs": [],
   "source": [
    "# determine svm accuracy\n",
    "predicted_labels = accuracy(model, test, prediction)"
   ]
  },
  {
   "cell_type": "code",
   "execution_count": null,
   "metadata": {},
   "outputs": [],
   "source": []
  }
 ],
 "metadata": {
  "kernelspec": {
   "display_name": "Python 3",
   "language": "python",
   "name": "python3"
  },
  "language_info": {
   "codemirror_mode": {
    "name": "ipython",
    "version": 3
   },
   "file_extension": ".py",
   "mimetype": "text/x-python",
   "name": "python",
   "nbconvert_exporter": "python",
   "pygments_lexer": "ipython3",
   "version": "3.6.7"
  }
 },
 "nbformat": 4,
 "nbformat_minor": 2
}
