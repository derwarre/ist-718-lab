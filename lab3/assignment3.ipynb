{
 "cells": [
  {
   "cell_type": "code",
   "execution_count": null,
   "metadata": {},
   "outputs": [],
   "source": [
    "from tensor import viz_tensor, model\n",
    "from tensorflow.examples.tutorials.mnist import input_data\n",
    "from svm import load_mnist, fit, predict, accuracy, viz_svm"
   ]
  },
  {
   "cell_type": "code",
   "execution_count": null,
   "metadata": {
    "scrolled": true
   },
   "outputs": [],
   "source": [
    "# import data\n",
    "fashion_mnist = input_data.read_data_sets('../data', one_hot=True)\n",
    "\n",
    "# shapes of training set\n",
    "print('Training set (images) shape: {shape}'.format(shape=fashion_mnist.train.images.shape))\n",
    "print('Training set (labels) shape: {shape}'.format(shape=fashion_mnist.train.labels.shape))\n",
    "\n",
    "# shapes of test set\n",
    "print('Test set (images) shape: {shape}'.format(shape=fashion_mnist.test.images.shape))\n",
    "print('Test set (labels) shape: {shape}'.format(shape=fashion_mnist.test.labels.shape))"
   ]
  },
  {
   "cell_type": "code",
   "execution_count": null,
   "metadata": {},
   "outputs": [],
   "source": [
    "# image labels\n",
    "labels = {\n",
    "    0: 't-shirt',\n",
    "    1: 'trouser',\n",
    "    2: 'pullover',\n",
    "    3: 'dress',\n",
    "    4: 'coat',\n",
    "    5: 'sandal',\n",
    "    6: 'shirt',\n",
    "    7: 'sneaker',\n",
    "    8: 'bag',\n",
    "    9: 'ankle-boot'\n",
    "}"
   ]
  },
  {
   "cell_type": "code",
   "execution_count": null,
   "metadata": {},
   "outputs": [],
   "source": [
    "# visualize train sample\n",
    "viz_tensor(range(25), fashion_mnist, labels)"
   ]
  },
  {
   "cell_type": "code",
   "execution_count": null,
   "metadata": {
    "scrolled": true
   },
   "outputs": [],
   "source": [
    "# generate neural network\n",
    "train = fashion_mnist.train\n",
    "test = fashion_mnist.test\n",
    "\n",
    "model(train, test, labels, learning_rate=0.0005)"
   ]
  },
  {
   "cell_type": "code",
   "execution_count": null,
   "metadata": {},
   "outputs": [],
   "source": [
    "# load svm data\n",
    "train = load_mnist('../data/')\n",
    "test = load_mnist('../data/', kind='t10k')\n",
    "\n",
    "# shapes of training set\n",
    "print('Training set (images) shape: {shape}'.format(shape=train[0].shape))\n",
    "print('Training set (labels) shape: {shape}'.format(shape=train[1].shape))\n",
    "\n",
    "# shapes of test set\n",
    "print('Test set (images) shape: {shape}'.format(shape=test[0].shape))\n",
    "print('Test set (labels) shape: {shape}'.format(shape=test[1].shape))"
   ]
  },
  {
   "cell_type": "code",
   "execution_count": null,
   "metadata": {},
   "outputs": [],
   "source": [
    "# train + predict with svm\n",
    "model = fit(train)\n",
    "prediction = predict(model, test)"
   ]
  },
  {
   "cell_type": "code",
   "execution_count": null,
   "metadata": {},
   "outputs": [],
   "source": [
    "# determine svm accuracy\n",
    "predicted_labels = accuracy(model, test, prediction)"
   ]
  },
  {
   "cell_type": "code",
   "execution_count": null,
   "metadata": {},
   "outputs": [],
   "source": []
  }
 ],
 "metadata": {
  "kernelspec": {
   "display_name": "Python 3",
   "language": "python",
   "name": "python3"
  },
  "language_info": {
   "codemirror_mode": {
    "name": "ipython",
    "version": 3
   },
   "file_extension": ".py",
   "mimetype": "text/x-python",
   "name": "python",
   "nbconvert_exporter": "python",
   "pygments_lexer": "ipython3",
   "version": "3.6.7"
  }
 },
 "nbformat": 4,
 "nbformat_minor": 2
}
