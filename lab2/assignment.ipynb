{
 "cells": [
  {
   "cell_type": "code",
   "execution_count": 1,
   "metadata": {},
   "outputs": [],
   "source": [
    "# import\n",
    "import numpy as np\n",
    "import pandas as pd\n",
    "from pandas import DataFrame\n",
    "import matplotlib.pyplot as plt\n",
    "import zipcodes\n",
    "from statsmodels.tsa.arima_model import ARIMA\n",
    "from statsmodels.tsa.stattools import adfuller\n",
    "from sklearn.metrics import mean_squared_error"
   ]
  },
  {
   "cell_type": "code",
   "execution_count": 2,
   "metadata": {},
   "outputs": [],
   "source": [
    "# read zillow data\n",
    "with open('../data/Zip_Zhvi_SingleFamilyResidence.csv', 'rb') as f:\n",
    "    df_zillow = pd.read_csv(f).fillna(0)\n",
    "\n",
    "# read unemployment data\n",
    "with open('../data/laucnty17.xlsx', 'rb') as f:\n",
    "    df_labor = pd.read_excel(f, skiprows=range(1, 6)).fillna(0)\n",
    "\n",
    "# read crime data\n",
    "with open('../data/district-of-columbia.xls', 'rb') as f:\n",
    "    df_crime_dc = pd.read_excel(f, skiprows=range(1, 2)).fillna(0)\n",
    "\n",
    "with open('../data/maryland.xls', 'rb') as f:\n",
    "    df_crime_md = pd.read_excel(f, skiprows=range(1, 5)).fillna(0)\n",
    "\n",
    "with open('../data/massachusetts.xls', 'rb') as f:\n",
    "    df_crime_ma = pd.read_excel(f, skiprows=range(1, 5)).fillna(0)\n",
    "\n",
    "with open('../data/virginia.xls', 'rb') as f:\n",
    "    df_crime_va = pd.read_excel(f, skiprows=range(1, 5)).fillna(0)\n",
    "\n",
    "with open('../data/new-hampshire.xls', 'rb') as f:\n",
    "    df_crime_nh = pd.read_excel(f, skiprows=range(1, 5)).fillna(0)"
   ]
  },
  {
   "cell_type": "code",
   "execution_count": 3,
   "metadata": {},
   "outputs": [],
   "source": [
    "# crime columns\n",
    "#dc_col_list = df_crime_dc.iloc[:, 3:12].columns.tolist()\n",
    "md_col_list = df_crime_md.iloc[:, 3:12].columns.tolist()\n",
    "ma_col_list = df_crime_ma.iloc[:, 3:12].columns.tolist()\n",
    "va_col_list = df_crime_va.iloc[:, 3:12].columns.tolist()\n",
    "nh_col_list = df_crime_nh.iloc[:, 3:12].columns.tolist()\n",
    "\n",
    "# crime sum: simplified by summing all offense types\n",
    "#dc_sum = df_crime_dc[dc_col_list].sum(axis=1)\n",
    "md_sum = df_crime_md[md_col_list].sum(axis=1)\n",
    "ma_sum = df_crime_ma[ma_col_list].sum(axis=1)\n",
    "va_sum = df_crime_va[va_col_list].sum(axis=1)\n",
    "nh_sum = df_crime_nh[nh_col_list].sum(axis=1)\n",
    "\n",
    "# crime ratio: offense sum / population\n",
    "df_md = df_crime_md\n",
    "df_md['City'] = df_crime_md.iloc[:, 0]\n",
    "df_md['State'] = 'md'\n",
    "df_md['Population'] = df_crime_md.iloc[:, 1]\n",
    "df_md['CrimeRatio'] = md_sum/df_crime_md.iloc[:, 1]\n",
    "df_md = df_crime_md[['City', 'Population', 'CrimeRatio', 'State']]\n",
    "\n",
    "df_ma = df_crime_ma\n",
    "df_ma['City'] = df_crime_ma.iloc[:, 0]\n",
    "df_ma['State'] = 'ma'\n",
    "df_ma['Population'] = df_crime_ma.iloc[:, 1]\n",
    "df_ma['CrimeRatio'] = ma_sum/df_crime_ma.iloc[:, 1]\n",
    "df_ma = df_crime_ma[['City', 'Population', 'CrimeRatio', 'State']]\n",
    "\n",
    "df_va = df_crime_va\n",
    "df_va['City'] = df_crime_va.iloc[:, 0]\n",
    "df_va['State'] = 'va'\n",
    "df_va['Population'] = df_crime_va.iloc[:, 1]\n",
    "df_va['CrimeRatio'] = va_sum/df_crime_va.iloc[:, 1]\n",
    "df_va = df_crime_va[['City', 'Population', 'CrimeRatio', 'State']]\n",
    "\n",
    "df_nh = df_crime_nh\n",
    "df_nh['City'] = df_crime_nh.iloc[:, 0]\n",
    "df_nh['State'] = 'nh'\n",
    "df_nh['Population'] = df_crime_nh.iloc[:, 1]\n",
    "df_nh['CrimeRatio'] = nh_sum/df_crime_nh.iloc[:, 1]\n",
    "df_nh = df_crime_nh[['City', 'Population', 'CrimeRatio', 'State']]\n",
    "\n",
    "# combine dataframe\n",
    "df_crime = pd.concat([df_md, df_ma, df_va, df_nh])\n",
    "\n",
    "# remove unneeded column\n",
    "df_crime.drop(['Population'], axis=1, inplace=True)\n",
    "\n",
    "# convert to lowercase\n",
    "df_crime[['City', 'State']] = df_crime[['City', 'State']].apply(\n",
    "  lambda x: x.astype(str).str.lower().map(lambda x: x.strip())\n",
    ")"
   ]
  },
  {
   "cell_type": "code",
   "execution_count": 4,
   "metadata": {},
   "outputs": [],
   "source": [
    "# restructure labor columns\n",
    "df_labor = pd.DataFrame(df_labor.iloc[:, [3,9]])\n",
    "df_labor.columns = ['Location', 'Unemployment']\n",
    "df_labor[['CountyName', 'State']] = df_labor['Location'].str.split(',', expand=True)\n",
    "df_labor.drop(['Location'], axis=1, inplace=True)"
   ]
  },
  {
   "cell_type": "code",
   "execution_count": 5,
   "metadata": {},
   "outputs": [],
   "source": [
    "# convert non-timeseries\n",
    "df_zillow[['City', 'State', 'Metro', 'CountyName']] = df_zillow[['City', 'State', 'Metro', 'CountyName']].astype(str)\n",
    "df_zillow[['RegionID', 'RegionName', 'SizeRank']] = df_zillow[['RegionID', 'RegionName', 'SizeRank']].astype(int)\n",
    "\n",
    "# convert to lowercase\n",
    "df_zillow[['City', 'State', 'Metro', 'CountyName']] = df_zillow[['City', 'State', 'Metro', 'CountyName']].apply(\n",
    "  lambda x: x.astype(str).str.lower().map(lambda x: x.strip())\n",
    ")\n",
    "df_labor[['CountyName', 'State']] = df_labor[['CountyName', 'State']].apply(\n",
    "  lambda x: x.astype(str).str.lower().map(lambda x: x.strip())\n",
    ")\n",
    "\n",
    "# remove redundant suffix\n",
    "df_labor[['CountyName']] = df_labor['CountyName'].str.rstrip('county').map(lambda x: x.strip())"
   ]
  },
  {
   "cell_type": "code",
   "execution_count": 6,
   "metadata": {},
   "outputs": [],
   "source": [
    "# arkansas metro areas\n",
    "hot_springs = df_zillow.loc[(df_zillow['Metro'] == 'hot springs') & (df_zillow['State'] == 'ar')]\n",
    "little_rock = df_zillow.loc[(df_zillow['Metro'] == 'little rock') & (df_zillow['State'] == 'ar')]\n",
    "fayetteville = df_zillow.loc[(df_zillow['Metro'] == 'fayetteville') & (df_zillow['State'] == 'ar')]\n",
    "searcy = df_zillow.loc[(df_zillow['Metro'] == 'searcy') & (df_zillow['State'] == 'ar')]"
   ]
  },
  {
   "cell_type": "code",
   "execution_count": 7,
   "metadata": {},
   "outputs": [],
   "source": [
    "# merge dataframes\n",
    "df = pd.merge(df_zillow, df_labor, on=['CountyName', 'State'])\n",
    "df = pd.merge(df, df_crime, on=['City', 'State'])\n",
    "\n",
    "# timeseries data\n",
    "ts_start = df.columns.get_loc('1996-04') + 1\n",
    "ts_end = df.columns.get_loc('2017-09')\n",
    "date_columns = df.iloc[:, ts_start:ts_end].columns.tolist()\n",
    "\n",
    "# ensure integer timeseries\n",
    "df[date_columns] = df[date_columns].astype(int)"
   ]
  },
  {
   "cell_type": "code",
   "execution_count": 8,
   "metadata": {},
   "outputs": [
    {
     "data": {
      "image/png": "[encoded data removed]",
      "text/plain": [
       "<Figure size 432x288 with 1 Axes>"
      ]
     },
     "metadata": {
      "needs_background": "light"
     },
     "output_type": "display_data"
    }
   ],
   "source": [
    "# timeseries plot\n",
    "fig, ax = plt.subplots()\n",
    "ax.plot(hot_springs[date_columns].mean(), linestyle='solid')\n",
    "ax.plot(little_rock[date_columns].mean(), linestyle='solid')\n",
    "ax.plot(fayetteville[date_columns].mean(), linestyle='solid')\n",
    "ax.plot(searcy[date_columns].mean(), linestyle='solid')\n",
    "\n",
    "# decrease ticks\n",
    "xmin, xmax = ax.get_xlim()\n",
    "ax.set_xticks(np.round(np.linspace(xmin, xmax, 23), 2))\n",
    "\n",
    "# rotate ticks + show legend\n",
    "plt.xticks(rotation=90)\n",
    "plt.gca().legend(('hot_springs', 'little_rock', 'fayetteville', 'searcy'))\n",
    "\n",
    "# show overall plot\n",
    "plt.show()"
   ]
  },
  {
   "cell_type": "code",
   "execution_count": 9,
   "metadata": {},
   "outputs": [],
   "source": [
    "# remove rows with unemployment >= 3.5%\n",
    "df = df[df.Unemployment < 3.5]\n",
    "\n",
    "# remove rows with crime >= 3%\n",
    "df = df[df.CrimeRatio < 0.03]\n",
    "\n",
    "# remove redundant columns\n",
    "df.drop(['Unemployment'], axis=1, inplace=True)\n",
    "df.drop(['CrimeRatio'], axis=1, inplace=True)"
   ]
  },
  {
   "cell_type": "code",
   "execution_count": 10,
   "metadata": {},
   "outputs": [],
   "source": [
    "# filter specific states\n",
    "df = df.loc[df['State'].isin(['md','va', 'nh', 'ma', 'dc'])]\n",
    "\n",
    "# remove specific cities\n",
    "df = df.loc[-((df['Metro'] == 'baltimore') & (df['State'] == 'md'))]"
   ]
  },
  {
   "cell_type": "code",
   "execution_count": 11,
   "metadata": {},
   "outputs": [],
   "source": [
    "# train: collapse column by median\n",
    "train_start = df.columns.get_loc('1997-01')\n",
    "train_stop = df.columns.get_loc('2017-01')\n",
    "test_stop = df.columns.get_loc('2017-09')\n",
    "train_columns = df.iloc[:, train_start:train_stop].columns.tolist()\n",
    "test_columns = df.iloc[:, (train_stop + 1):test_stop].columns.tolist()"
   ]
  },
  {
   "cell_type": "code",
   "execution_count": 12,
   "metadata": {},
   "outputs": [],
   "source": [
    "# remove rows with 0's beginning (1997-01) with trainset\n",
    "date_columns = df.iloc[:, train_start:test_stop].columns.tolist()\n",
    "\n",
    "df[date_columns] = df[date_columns].replace(0, np.nan).dropna(\n",
    "    axis=0,\n",
    "    how='any',\n",
    "    subset=date_columns\n",
    ")"
   ]
  },
  {
   "cell_type": "code",
   "execution_count": 13,
   "metadata": {},
   "outputs": [
    {
     "name": "stderr",
     "output_type": "stream",
     "text": [
      "C:\\Users\\jeff1\\Anaconda3\\lib\\site-packages\\statsmodels\\tsa\\base\\tsa_model.py:171: ValueWarning: No frequency information was provided, so inferred frequency MS will be used.\n",
      "  % freq, ValueWarning)\n",
      "C:\\Users\\jeff1\\Anaconda3\\lib\\site-packages\\statsmodels\\tsa\\base\\tsa_model.py:171: ValueWarning: No frequency information was provided, so inferred frequency MS will be used.\n",
      "  % freq, ValueWarning)\n",
      "C:\\Users\\jeff1\\Anaconda3\\lib\\site-packages\\scipy\\signal\\signaltools.py:1341: FutureWarning: Using a non-tuple sequence for multidimensional indexing is deprecated; use `arr[tuple(seq)]` instead of `arr[seq]`. In the future this will be interpreted as an array index, `arr[np.array(seq)]`, which will result either in an error or a different result.\n",
      "  out_full[ind] += zi\n",
      "C:\\Users\\jeff1\\Anaconda3\\lib\\site-packages\\scipy\\signal\\signaltools.py:1344: FutureWarning: Using a non-tuple sequence for multidimensional indexing is deprecated; use `arr[tuple(seq)]` instead of `arr[seq]`. In the future this will be interpreted as an array index, `arr[np.array(seq)]`, which will result either in an error or a different result.\n",
      "  out = out_full[ind]\n",
      "C:\\Users\\jeff1\\Anaconda3\\lib\\site-packages\\scipy\\signal\\signaltools.py:1350: FutureWarning: Using a non-tuple sequence for multidimensional indexing is deprecated; use `arr[tuple(seq)]` instead of `arr[seq]`. In the future this will be interpreted as an array index, `arr[np.array(seq)]`, which will result either in an error or a different result.\n",
      "  zf = out_full[ind]\n"
     ]
    },
    {
     "name": "stdout",
     "output_type": "stream",
     "text": [
      "                             ARIMA Model Results                              \n",
      "==============================================================================\n",
      "Dep. Variable:                    D.y   No. Observations:                  239\n",
      "Model:                 ARIMA(5, 1, 0)   Log Likelihood               -1992.196\n",
      "Method:                       css-mle   S.D. of innovations           1006.221\n",
      "Date:                Sun, 18 Nov 2018   AIC                           3998.391\n",
      "Time:                        10:00:50   BIC                           4022.726\n",
      "Sample:                    02-01-1997   HQIC                          4008.197\n",
      "                         - 12-01-2016                                         \n",
      "==============================================================================\n",
      "                 coef    std err          z      P>|z|      [0.025      0.975]\n",
      "------------------------------------------------------------------------------\n",
      "const       1010.1910    484.735      2.084      0.038      60.127    1960.255\n",
      "ar.L1.D.y      0.7894      0.065     12.235      0.000       0.663       0.916\n",
      "ar.L2.D.y     -0.0996      0.082     -1.211      0.227      -0.261       0.062\n",
      "ar.L3.D.y      0.1331      0.082      1.625      0.106      -0.027       0.294\n",
      "ar.L4.D.y      0.0433      0.082      0.527      0.598      -0.118       0.204\n",
      "ar.L5.D.y      0.0044      0.064      0.068      0.946      -0.121       0.130\n",
      "                                    Roots                                    \n",
      "=============================================================================\n",
      "                  Real          Imaginary           Modulus         Frequency\n",
      "-----------------------------------------------------------------------------\n",
      "AR.1            1.1035           -0.0000j            1.1035           -0.0000\n",
      "AR.2            0.3177           -2.1123j            2.1360           -0.2262\n",
      "AR.3            0.3177           +2.1123j            2.1360            0.2262\n",
      "AR.4           -5.8238           -3.4003j            6.7437           -0.4159\n",
      "AR.5           -5.8238           +3.4003j            6.7437            0.4159\n",
      "-----------------------------------------------------------------------------\n"
     ]
    }
   ],
   "source": [
    "#\n",
    "# transpose dataframe: left column data, right column value\n",
    "#\n",
    "#     date1  val1\n",
    "#     date2  val2\n",
    "#      ...   ...\n",
    "#     daten  valn\n",
    "#\n",
    "df_train = df[train_columns].median().T\n",
    "df_test = df[test_columns].median().T\n",
    "\n",
    "#\n",
    "# build arima model:\n",
    "#\n",
    "#     AR: autoregression, uses observations from previous time steps as input to\n",
    "#         a regression equation to predict the value at the next time step.\n",
    "#\n",
    "#     I: integrated, use of differencing of raw observations, or subtracting an\n",
    "#         observation from previous time step. The goal is to attain a time\n",
    "#         series that is stationary.\n",
    "#\n",
    "#     MA: moving average, uses the dependency between an observation and a residual\n",
    "#         error from a moving average model applied to lagged observations.\n",
    "#\n",
    "model = ARIMA(df_train, order=(5,1,0))\n",
    "model_fit = model.fit()\n",
    "print(model_fit.summary())"
   ]
  },
  {
   "cell_type": "code",
   "execution_count": 14,
   "metadata": {},
   "outputs": [
    {
     "data": {
      "image/png": "[encoded data removed]",
      "text/plain": [
       "<Figure size 432x288 with 1 Axes>"
      ]
     },
     "metadata": {
      "needs_background": "light"
     },
     "output_type": "display_data"
    },
    {
     "data": {
      "image/png": "[encoded data removed]",
      "text/plain": [
       "<Figure size 432x288 with 1 Axes>"
      ]
     },
     "metadata": {
      "needs_background": "light"
     },
     "output_type": "display_data"
    }
   ],
   "source": [
    "# plot residual errors\n",
    "residuals = DataFrame(model_fit.resid)\n",
    "residuals.plot()\n",
    "plt.show()\n",
    "\n",
    "# plot kernel density estimation\n",
    "residuals.plot(kind='kde')\n",
    "plt.show()"
   ]
  },
  {
   "cell_type": "code",
   "execution_count": 15,
   "metadata": {},
   "outputs": [
    {
     "name": "stdout",
     "output_type": "stream",
     "text": [
      "                 0\n",
      "count   239.000000\n",
      "mean     -2.069194\n",
      "std    1008.618450\n",
      "min   -2682.753851\n",
      "25%    -675.706720\n",
      "50%       9.156721\n",
      "75%     595.122398\n",
      "max    4625.965351\n"
     ]
    }
   ],
   "source": [
    "# descriptive statistics on residual\n",
    "print(residuals.describe())"
   ]
  },
  {
   "cell_type": "code",
   "execution_count": 17,
   "metadata": {},
   "outputs": [
    {
     "name": "stderr",
     "output_type": "stream",
     "text": [
      "C:\\Users\\jeff1\\Anaconda3\\lib\\site-packages\\scipy\\signal\\signaltools.py:1341: FutureWarning: Using a non-tuple sequence for multidimensional indexing is deprecated; use `arr[tuple(seq)]` instead of `arr[seq]`. In the future this will be interpreted as an array index, `arr[np.array(seq)]`, which will result either in an error or a different result.\n",
      "  out_full[ind] += zi\n",
      "C:\\Users\\jeff1\\Anaconda3\\lib\\site-packages\\scipy\\signal\\signaltools.py:1344: FutureWarning: Using a non-tuple sequence for multidimensional indexing is deprecated; use `arr[tuple(seq)]` instead of `arr[seq]`. In the future this will be interpreted as an array index, `arr[np.array(seq)]`, which will result either in an error or a different result.\n",
      "  out = out_full[ind]\n",
      "C:\\Users\\jeff1\\Anaconda3\\lib\\site-packages\\scipy\\signal\\signaltools.py:1350: FutureWarning: Using a non-tuple sequence for multidimensional indexing is deprecated; use `arr[tuple(seq)]` instead of `arr[seq]`. In the future this will be interpreted as an array index, `arr[np.array(seq)]`, which will result either in an error or a different result.\n",
      "  zf = out_full[ind]\n"
     ]
    },
    {
     "name": "stdout",
     "output_type": "stream",
     "text": [
      "\n",
      "===============================================\n",
      "date: 2017-2\n",
      "-----------------------------------------------\n",
      "predicted=388813.576701, expected=391050.000000\n",
      "prediction difference: 0.005719\n",
      "\n",
      "===============================================\n",
      "predicted=388813.576701\n",
      "\n",
      "===============================================\n",
      "date: 2017-3\n",
      "-----------------------------------------------\n",
      "predicted=390443.689396, expected=392900.000000\n",
      "prediction difference: 0.006252\n",
      "\n",
      "===============================================\n",
      "predicted=390443.689396\n",
      "\n",
      "===============================================\n",
      "date: 2017-4\n",
      "-----------------------------------------------\n",
      "predicted=392003.290988, expected=395800.000000\n",
      "prediction difference: 0.009592\n",
      "\n",
      "===============================================\n",
      "predicted=392003.290988\n",
      "\n",
      "===============================================\n",
      "date: 2017-5\n",
      "-----------------------------------------------\n",
      "predicted=393503.316512, expected=398850.000000\n",
      "prediction difference: 0.013405\n",
      "\n",
      "===============================================\n",
      "predicted=393503.316512\n",
      "\n",
      "===============================================\n",
      "date: 2017-6\n",
      "-----------------------------------------------\n",
      "predicted=394958.772728, expected=400850.000000\n",
      "prediction difference: 0.014697\n",
      "\n",
      "===============================================\n",
      "predicted=394958.772728\n",
      "\n",
      "===============================================\n",
      "date: 2017-7\n",
      "-----------------------------------------------\n",
      "predicted=396374.708561, expected=402250.000000\n",
      "prediction difference: 0.014606\n",
      "\n",
      "===============================================\n",
      "predicted=396374.708561\n",
      "\n",
      "===============================================\n",
      "date: 2017-8\n",
      "-----------------------------------------------\n",
      "predicted=397752.815045, expected=403400.000000\n",
      "prediction difference: 0.013999\n",
      "\n",
      "===============================================\n",
      "Test MSE: 22164768.684165\n",
      "\n",
      "\n",
      "\n",
      "===============================================\n",
      "date: 2017-9\n",
      "-----------------------------------------------\n",
      "predicted=409223.452509\n",
      "\n",
      "===============================================\n",
      "date: 2017-10\n",
      "-----------------------------------------------\n",
      "predicted=413533.867822\n",
      "\n",
      "===============================================\n",
      "date: 2017-11\n",
      "-----------------------------------------------\n",
      "predicted=417515.922014\n",
      "\n",
      "===============================================\n",
      "date: 2017-12\n",
      "-----------------------------------------------\n",
      "predicted=421472.969033\n",
      "\n",
      "===============================================\n",
      "date: 2018-1\n",
      "-----------------------------------------------\n",
      "predicted=425233.650838\n",
      "\n",
      "===============================================\n",
      "date: 2018-2\n",
      "-----------------------------------------------\n",
      "predicted=428722.288873\n",
      "\n",
      "===============================================\n",
      "date: 2018-3\n",
      "-----------------------------------------------\n",
      "predicted=431986.176158\n",
      "\n",
      "===============================================\n",
      "date: 2018-4\n",
      "-----------------------------------------------\n",
      "predicted=435068.894530\n",
      "\n",
      "===============================================\n",
      "date: 2018-5\n",
      "-----------------------------------------------\n",
      "predicted=437986.877565\n",
      "\n",
      "===============================================\n",
      "date: 2018-6\n",
      "-----------------------------------------------\n",
      "predicted=440749.383756\n",
      "\n",
      "===============================================\n",
      "date: 2018-7\n",
      "-----------------------------------------------\n",
      "predicted=443369.575329\n",
      "\n",
      "===============================================\n",
      "date: 2018-8\n",
      "-----------------------------------------------\n",
      "predicted=445861.222357\n",
      "\n",
      "===============================================\n",
      "date: 2018-9\n",
      "-----------------------------------------------\n",
      "predicted=448234.798712\n",
      "\n",
      "===============================================\n",
      "date: 2018-10\n",
      "-----------------------------------------------\n",
      "predicted=450501.831974\n",
      "\n",
      "===============================================\n",
      "date: 2018-11\n",
      "-----------------------------------------------\n",
      "predicted=452672.004600\n",
      "\n",
      "===============================================\n",
      "date: 2018-12\n",
      "-----------------------------------------------\n",
      "predicted=454753.750478\n"
     ]
    }
   ],
   "source": [
    "#\n",
    "# rolling prediction (verify model): month +2, since the train\n",
    "#     includes 2017-01.\n",
    "#\n",
    "# Note: rolling prediction is required since there is an implicit\n",
    "#       dependence on observations in prior time steps inheritted\n",
    "#       when autogressive (AR) model was defined.\n",
    "#\n",
    "history = [x for x in df_train]\n",
    "predictions = list()\n",
    "iterations = (12-len(df_test)) + 18\n",
    "\n",
    "for t in range(iterations):\n",
    "    model = ARIMA(history, order=(5,1,0))\n",
    "    model_fit = model.fit(disp=0)\n",
    "    output = model_fit.forecast()\n",
    "    yhat = output[0]\n",
    "    predictions.append(yhat)\n",
    "\n",
    "    if t > 10:\n",
    "        year = 2018\n",
    "        month = (t+2) % 12\n",
    "        if month == 0:\n",
    "            month = 12\n",
    "    else:\n",
    "        year = 2017\n",
    "        month = t+2\n",
    "        if month == 0:\n",
    "            month = 12\n",
    "\n",
    "    print('\\n===============================================')\n",
    "    print('date: {}-{:01d}'.format(year, month))\n",
    "    print('-----------------------------------------------')\n",
    "\n",
    "    #\n",
    "    # observation: if current value doesn't exist from test, append current\n",
    "    #     predition, to ensure successive rolling prediction computed.\n",
    "    #\n",
    "    try:\n",
    "        obs = df_test[t]\n",
    "        print('predicted={:03f}, expected={:03f}'.format(float(yhat), obs))\n",
    "        print('prediction difference: {:03f}'.format(abs(1-float(yhat)/obs)))\n",
    "        print('\\n===============================================')\n",
    "        error = mean_squared_error(df_test, predictions)\n",
    "        print('Test MSE: {:03f}\\n\\n'.format(error))\n",
    "    except:\n",
    "        obs = yhat\n",
    "        print('predicted={:03f}'.format(float(yhat)))\n",
    "\n",
    "    history.append(obs)"
   ]
  },
  {
   "cell_type": "code",
   "execution_count": 18,
   "metadata": {},
   "outputs": [
    {
     "data": {
      "image/png": "[encoded data removed]",
      "text/plain": [
       "<Figure size 432x288 with 1 Axes>"
      ]
     },
     "metadata": {
      "needs_background": "light"
     },
     "output_type": "display_data"
    }
   ],
   "source": [
    "# plot rolling prediction\n",
    "plt.plot(df_test)\n",
    "plt.plot(predictions, color='red')\n",
    "plt.xticks(rotation=90)\n",
    "plt.show()"
   ]
  },
  {
   "cell_type": "code",
   "execution_count": 19,
   "metadata": {},
   "outputs": [],
   "source": [
    "# stationarity test\n",
    "def difference(dataset, delta):\n",
    "    diff = list()\n",
    "    for i in range(1, len(dataset)):\n",
    "        value = dataset[i] - dataset[i - delta]\n",
    "        diff.append(value)\n",
    "    return pd.Series(diff)\n",
    "\n",
    "# invert differenced value\n",
    "def inverse_difference(history, yhat, interval=1):\n",
    "    return yhat + history[-interval]\n",
    "\n",
    "def compute_arima(df_train, iterations=len(df_test)):\n",
    "    #\n",
    "    # Note: rolling prediction is required since there is an implicit\n",
    "    #       dependence on observations in prior time steps inheritted\n",
    "    #       when autogressive (AR) model was defined.\n",
    "    #\n",
    "    history = [x for x in df_train]\n",
    "    predictions = list()\n",
    "\n",
    "    for t in range(iterations):\n",
    "        delta = 0\n",
    "        model_fit = False\n",
    "\n",
    "        #\n",
    "        # determine stationarity value: differencing handled with supplied data,\n",
    "        #     as an indirect solution, since statsmodel not allow d > 2.\n",
    "        #\n",
    "        # @delta, autoregressive factor.\n",
    "        #\n",
    "        for delta in range(10):\n",
    "            stationary = difference(history, delta)\n",
    "            stationary.index = history[1:]\n",
    "            result = adfuller(stationary)\n",
    "            print('delta: {}, p: {}'.format(delta, result[1]))\n",
    "\n",
    "            #\n",
    "            # generate model\n",
    "            #\n",
    "            if (result[1] <= 0.05):\n",
    "                try:\n",
    "                    model = ARIMA(stationary, order=(10, 0, 1))\n",
    "                    model_fit = model.fit(disp=0)\n",
    "                    break\n",
    "                except:\n",
    "                    print('bad condition {}: stationarity not adequate'.format(delta))\n",
    "                    continue\n",
    "\n",
    "        # no significant stationarity: use any that works\n",
    "        if not model_fit:\n",
    "            for delta in range(10):\n",
    "                stationary = difference(history, delta)\n",
    "                stationary.index = history[1:]\n",
    "                result = adfuller(stationary)\n",
    "                print('delta: {}, p: {}'.format(delta, result[1]))\n",
    "\n",
    "                #\n",
    "                # generate model: increase autoregression\n",
    "                #\n",
    "                try:\n",
    "                    model = ARIMA(stationary, order=(10, 0, 1))\n",
    "                    model_fit = model.fit(disp=0)\n",
    "                    break\n",
    "                except:\n",
    "                    print('bad condition {}: stationarity not adequate'.format(delta))\n",
    "                    continue\n",
    "\n",
    "        #\n",
    "        # generate forecast: an inverse difference is needed to reverse the earlier\n",
    "        #     difference model scaling.\n",
    "        #\n",
    "        if model_fit:\n",
    "            output = model_fit.forecast()\n",
    "            yhat = inverse_difference(history, output[0], delta)\n",
    "\n",
    "            #\n",
    "            # observation: if current value doesn't exist from test, append current\n",
    "            #     predition, to ensure successive rolling prediction computed.\n",
    "            #\n",
    "            try:\n",
    "                obs = df_test[t]\n",
    "            except:\n",
    "                obs = yhat\n",
    "            history.append(obs)\n",
    "            predictions.append(yhat)\n",
    "        else:\n",
    "            predictions.append(None)\n",
    "            break\n",
    "\n",
    "        print('predictions: {}'.format(predictions))\n",
    "\n",
    "    return(predictions)\n",
    "\n",
    "def get_zipcode(city, state):\n",
    "    result = zipcodes.filter_by(\n",
    "        zipcodes.list_all(),\n",
    "        active=True,\n",
    "        city=city,\n",
    "        state=state\n",
    "    )\n",
    "\n",
    "    if result and result[0] and result[0]['zip_code']:\n",
    "        return(result[0]['zip_code'])\n",
    "    else:\n",
    "        return(0)"
   ]
  },
  {
   "cell_type": "code",
   "execution_count": 20,
   "metadata": {},
   "outputs": [],
   "source": [
    "# add zipcode column\n",
    "df['zip_code'] = df[['City', 'State']].apply(\n",
    "    lambda x: get_zipcode(\n",
    "        x['City'].upper(),\n",
    "        x['State'].upper()\n",
    "    ),\n",
    "    axis=1\n",
    ")"
   ]
  },
  {
   "cell_type": "code",
   "execution_count": 21,
   "metadata": {},
   "outputs": [
    {
     "data": {
      "image/png": "[encoded data removed]",
      "text/plain": [
       "<Figure size 432x288 with 1 Axes>"
      ]
     },
     "metadata": {
      "needs_background": "light"
     },
     "output_type": "display_data"
    }
   ],
   "source": [
    "# group by zipcode\n",
    "df_zipcode = df.groupby('zip_code').agg(np.median).dropna().T\n",
    "\n",
    "#\n",
    "# remove columns: column 0 indicates an NaN column\n",
    "#\n",
    "df_zipcode_clean = df_zipcode.drop([\n",
    "    'RegionName',\n",
    "    'RegionID',\n",
    "    'SizeRank'\n",
    "], axis=0)\n",
    "df_zipcode_clean = df_zipcode_clean.drop([0], axis=1)\n",
    "\n",
    "df_zipcode_clean.plot(legend=None)\n",
    "plt.show()"
   ]
  },
  {
   "cell_type": "code",
   "execution_count": null,
   "metadata": {},
   "outputs": [
    {
     "name": "stderr",
     "output_type": "stream",
     "text": [
      "C:\\Users\\jeff1\\Anaconda3\\lib\\site-packages\\statsmodels\\regression\\linear_model.py:846: RuntimeWarning: divide by zero encountered in log\n",
      "  llf = -nobs2*np.log(2*np.pi) - nobs2*np.log(ssr / nobs) - nobs2\n",
      "C:\\Users\\jeff1\\Anaconda3\\lib\\site-packages\\statsmodels\\base\\model.py:1100: RuntimeWarning: invalid value encountered in true_divide\n",
      "  return self.params / self.bse\n",
      "C:\\Users\\jeff1\\Anaconda3\\lib\\site-packages\\scipy\\stats\\_distn_infrastructure.py:879: RuntimeWarning: invalid value encountered in greater\n",
      "  return (self.a < x) & (x < self.b)\n",
      "C:\\Users\\jeff1\\Anaconda3\\lib\\site-packages\\scipy\\stats\\_distn_infrastructure.py:879: RuntimeWarning: invalid value encountered in less\n",
      "  return (self.a < x) & (x < self.b)\n",
      "C:\\Users\\jeff1\\Anaconda3\\lib\\site-packages\\scipy\\stats\\_distn_infrastructure.py:1738: RuntimeWarning: invalid value encountered in greater_equal\n",
      "  cond2 = (x >= self.b) & cond0\n",
      "C:\\Users\\jeff1\\Anaconda3\\lib\\site-packages\\statsmodels\\tsa\\base\\tsa_model.py:221: ValueWarning: An unsupported index was provided and will be ignored when e.g. forecasting.\n",
      "  ' ignored when e.g. forecasting.', ValueWarning)\n",
      "C:\\Users\\jeff1\\Anaconda3\\lib\\site-packages\\scipy\\signal\\signaltools.py:1341: FutureWarning: Using a non-tuple sequence for multidimensional indexing is deprecated; use `arr[tuple(seq)]` instead of `arr[seq]`. In the future this will be interpreted as an array index, `arr[np.array(seq)]`, which will result either in an error or a different result.\n",
      "  out_full[ind] += zi\n",
      "C:\\Users\\jeff1\\Anaconda3\\lib\\site-packages\\scipy\\signal\\signaltools.py:1344: FutureWarning: Using a non-tuple sequence for multidimensional indexing is deprecated; use `arr[tuple(seq)]` instead of `arr[seq]`. In the future this will be interpreted as an array index, `arr[np.array(seq)]`, which will result either in an error or a different result.\n",
      "  out = out_full[ind]\n",
      "C:\\Users\\jeff1\\Anaconda3\\lib\\site-packages\\scipy\\signal\\signaltools.py:1350: FutureWarning: Using a non-tuple sequence for multidimensional indexing is deprecated; use `arr[tuple(seq)]` instead of `arr[seq]`. In the future this will be interpreted as an array index, `arr[np.array(seq)]`, which will result either in an error or a different result.\n",
      "  zf = out_full[ind]\n"
     ]
    },
    {
     "name": "stdout",
     "output_type": "stream",
     "text": [
      "delta: 0, p: nan\n",
      "delta: 1, p: 0.43581480343739437\n",
      "delta: 2, p: 0.09602268561265981\n",
      "delta: 3, p: 0.12330830782157487\n",
      "delta: 4, p: 0.13016438413596815\n",
      "delta: 5, p: 0.10373052767375313\n",
      "delta: 6, p: 0.1603877865387051\n",
      "delta: 7, p: 0.042705747735187594\n",
      "predictions: [array([344226.00658382])]\n",
      "delta: 0, p: nan\n",
      "delta: 1, p: 0.8768240199863697\n",
      "delta: 2, p: 0.8828024790581743\n",
      "delta: 3, p: 0.039179355794582676\n"
     ]
    },
    {
     "name": "stderr",
     "output_type": "stream",
     "text": [
      "C:\\Users\\jeff1\\Anaconda3\\lib\\site-packages\\statsmodels\\tsa\\base\\tsa_model.py:221: ValueWarning: An unsupported index was provided and will be ignored when e.g. forecasting.\n",
      "  ' ignored when e.g. forecasting.', ValueWarning)\n"
     ]
    },
    {
     "name": "stdout",
     "output_type": "stream",
     "text": [
      "predictions: [array([344226.00658382]), array([382998.00143301])]\n",
      "delta: 0, p: nan\n",
      "delta: 1, p: 0.15158606647269718\n",
      "delta: 2, p: 0.0018426601523951897\n"
     ]
    },
    {
     "name": "stderr",
     "output_type": "stream",
     "text": [
      "C:\\Users\\jeff1\\Anaconda3\\lib\\site-packages\\statsmodels\\tsa\\base\\tsa_model.py:221: ValueWarning: An unsupported index was provided and will be ignored when e.g. forecasting.\n",
      "  ' ignored when e.g. forecasting.', ValueWarning)\n"
     ]
    },
    {
     "name": "stdout",
     "output_type": "stream",
     "text": [
      "predictions: [array([344226.00658382]), array([382998.00143301]), array([412880.71951544])]\n",
      "delta: 0, p: nan\n",
      "delta: 1, p: 0.00021384232041649597\n"
     ]
    },
    {
     "name": "stderr",
     "output_type": "stream",
     "text": [
      "C:\\Users\\jeff1\\Anaconda3\\lib\\site-packages\\statsmodels\\tsa\\base\\tsa_model.py:221: ValueWarning: An unsupported index was provided and will be ignored when e.g. forecasting.\n",
      "  ' ignored when e.g. forecasting.', ValueWarning)\n"
     ]
    },
    {
     "name": "stdout",
     "output_type": "stream",
     "text": [
      "predictions: [array([344226.00658382]), array([382998.00143301]), array([412880.71951544]), array([404797.31772275])]\n",
      "delta: 0, p: nan\n",
      "delta: 1, p: 6.459178176025904e-14\n"
     ]
    },
    {
     "name": "stderr",
     "output_type": "stream",
     "text": [
      "C:\\Users\\jeff1\\Anaconda3\\lib\\site-packages\\statsmodels\\tsa\\base\\tsa_model.py:221: ValueWarning: An unsupported index was provided and will be ignored when e.g. forecasting.\n",
      "  ' ignored when e.g. forecasting.', ValueWarning)\n"
     ]
    },
    {
     "name": "stdout",
     "output_type": "stream",
     "text": [
      "predictions: [array([344226.00658382]), array([382998.00143301]), array([412880.71951544]), array([404797.31772275]), array([402855.77823772])]\n",
      "delta: 0, p: nan\n",
      "delta: 1, p: 5.703022030764592e-14\n"
     ]
    },
    {
     "name": "stderr",
     "output_type": "stream",
     "text": [
      "C:\\Users\\jeff1\\Anaconda3\\lib\\site-packages\\statsmodels\\tsa\\base\\tsa_model.py:221: ValueWarning: An unsupported index was provided and will be ignored when e.g. forecasting.\n",
      "  ' ignored when e.g. forecasting.', ValueWarning)\n"
     ]
    },
    {
     "name": "stdout",
     "output_type": "stream",
     "text": [
      "predictions: [array([344226.00658382]), array([382998.00143301]), array([412880.71951544]), array([404797.31772275]), array([402855.77823772]), array([412061.85195022])]\n",
      "delta: 0, p: nan\n",
      "delta: 1, p: 4.9887507058352884e-14\n"
     ]
    },
    {
     "name": "stderr",
     "output_type": "stream",
     "text": [
      "C:\\Users\\jeff1\\Anaconda3\\lib\\site-packages\\statsmodels\\tsa\\base\\tsa_model.py:221: ValueWarning: An unsupported index was provided and will be ignored when e.g. forecasting.\n",
      "  ' ignored when e.g. forecasting.', ValueWarning)\n"
     ]
    },
    {
     "name": "stdout",
     "output_type": "stream",
     "text": [
      "predictions: [array([344226.00658382]), array([382998.00143301]), array([412880.71951544]), array([404797.31772275]), array([402855.77823772]), array([412061.85195022]), array([403655.02744931])]\n",
      "delta: 0, p: nan\n",
      "delta: 1, p: 0.3052551311039995\n",
      "delta: 2, p: 0.021320120487985518\n"
     ]
    },
    {
     "name": "stderr",
     "output_type": "stream",
     "text": [
      "C:\\Users\\jeff1\\Anaconda3\\lib\\site-packages\\statsmodels\\tsa\\base\\tsa_model.py:221: ValueWarning: An unsupported index was provided and will be ignored when e.g. forecasting.\n",
      "  ' ignored when e.g. forecasting.', ValueWarning)\n",
      "C:\\Users\\jeff1\\Anaconda3\\lib\\site-packages\\statsmodels\\base\\model.py:488: HessianInversionWarning: Inverting hessian failed, no bse or cov_params available\n",
      "  'available', HessianInversionWarning)\n",
      "C:\\Users\\jeff1\\Anaconda3\\lib\\site-packages\\statsmodels\\tsa\\base\\tsa_model.py:221: ValueWarning: An unsupported index was provided and will be ignored when e.g. forecasting.\n",
      "  ' ignored when e.g. forecasting.', ValueWarning)\n"
     ]
    },
    {
     "name": "stdout",
     "output_type": "stream",
     "text": [
      "predictions: [array([237966.74653401])]\n",
      "delta: 0, p: nan\n",
      "delta: 1, p: 0.4558473736448858\n",
      "delta: 2, p: 0.23274885370376386\n",
      "delta: 3, p: 0.4033439268825675\n",
      "delta: 4, p: 4.23375524590364e-15\n",
      "predictions: [array([237966.74653401]), array([308502.37132928])]\n",
      "delta: 0, p: nan\n",
      "delta: 1, p: 1.0199842297079028e-28\n"
     ]
    },
    {
     "name": "stderr",
     "output_type": "stream",
     "text": [
      "C:\\Users\\jeff1\\Anaconda3\\lib\\site-packages\\statsmodels\\tsa\\base\\tsa_model.py:221: ValueWarning: An unsupported index was provided and will be ignored when e.g. forecasting.\n",
      "  ' ignored when e.g. forecasting.', ValueWarning)\n",
      "C:\\Users\\jeff1\\Anaconda3\\lib\\site-packages\\statsmodels\\base\\model.py:488: HessianInversionWarning: Inverting hessian failed, no bse or cov_params available\n",
      "  'available', HessianInversionWarning)\n",
      "C:\\Users\\jeff1\\Anaconda3\\lib\\site-packages\\statsmodels\\base\\model.py:508: ConvergenceWarning: Maximum Likelihood optimization failed to converge. Check mle_retvals\n",
      "  \"Check mle_retvals\", ConvergenceWarning)\n",
      "C:\\Users\\jeff1\\Anaconda3\\lib\\site-packages\\statsmodels\\tsa\\base\\tsa_model.py:221: ValueWarning: An unsupported index was provided and will be ignored when e.g. forecasting.\n",
      "  ' ignored when e.g. forecasting.', ValueWarning)\n"
     ]
    },
    {
     "name": "stdout",
     "output_type": "stream",
     "text": [
      "predictions: [array([237966.74653401]), array([308502.37132928]), array([428322.18232146])]\n",
      "delta: 0, p: nan\n",
      "delta: 1, p: 9.470413498841611e-29\n"
     ]
    },
    {
     "name": "stderr",
     "output_type": "stream",
     "text": [
      "C:\\Users\\jeff1\\Anaconda3\\lib\\site-packages\\statsmodels\\tsa\\tsatools.py:607: RuntimeWarning: invalid value encountered in true_divide\n",
      "  (1+np.exp(-params))).copy()\n",
      "C:\\Users\\jeff1\\Anaconda3\\lib\\site-packages\\statsmodels\\tsa\\tsatools.py:609: RuntimeWarning: invalid value encountered in true_divide\n",
      "  (1+np.exp(-params))).copy()\n",
      "C:\\Users\\jeff1\\Anaconda3\\lib\\site-packages\\statsmodels\\tsa\\base\\tsa_model.py:221: ValueWarning: An unsupported index was provided and will be ignored when e.g. forecasting.\n",
      "  ' ignored when e.g. forecasting.', ValueWarning)\n"
     ]
    },
    {
     "name": "stdout",
     "output_type": "stream",
     "text": [
      "bad condition 1: stationarity not adequate\n",
      "delta: 2, p: 8.497942050335637e-26\n"
     ]
    },
    {
     "name": "stderr",
     "output_type": "stream",
     "text": [
      "C:\\Users\\jeff1\\Anaconda3\\lib\\site-packages\\statsmodels\\tsa\\tsatools.py:632: RuntimeWarning: invalid value encountered in double_scalars\n",
      "  (1-a**2)\n",
      "C:\\Users\\jeff1\\Anaconda3\\lib\\site-packages\\statsmodels\\tsa\\tsatools.py:634: RuntimeWarning: divide by zero encountered in true_divide\n",
      "  invarcoefs = -np.log((1-params)/(1+params))\n",
      "C:\\Users\\jeff1\\Anaconda3\\lib\\site-packages\\statsmodels\\tsa\\base\\tsa_model.py:221: ValueWarning: An unsupported index was provided and will be ignored when e.g. forecasting.\n",
      "  ' ignored when e.g. forecasting.', ValueWarning)\n"
     ]
    },
    {
     "name": "stdout",
     "output_type": "stream",
     "text": [
      "bad condition 2: stationarity not adequate\n",
      "delta: 3, p: 0.9041293291271675\n",
      "delta: 4, p: 0.9516730394930468\n",
      "delta: 5, p: 1.7621133261774645e-05\n"
     ]
    },
    {
     "name": "stderr",
     "output_type": "stream",
     "text": [
      "C:\\Users\\jeff1\\Anaconda3\\lib\\site-packages\\statsmodels\\base\\model.py:488: HessianInversionWarning: Inverting hessian failed, no bse or cov_params available\n",
      "  'available', HessianInversionWarning)\n",
      "C:\\Users\\jeff1\\Anaconda3\\lib\\site-packages\\statsmodels\\base\\model.py:508: ConvergenceWarning: Maximum Likelihood optimization failed to converge. Check mle_retvals\n",
      "  \"Check mle_retvals\", ConvergenceWarning)\n",
      "C:\\Users\\jeff1\\Anaconda3\\lib\\site-packages\\statsmodels\\tsa\\base\\tsa_model.py:221: ValueWarning: An unsupported index was provided and will be ignored when e.g. forecasting.\n",
      "  ' ignored when e.g. forecasting.', ValueWarning)\n"
     ]
    },
    {
     "name": "stdout",
     "output_type": "stream",
     "text": [
      "predictions: [array([237966.74653401]), array([308502.37132928]), array([428322.18232146]), array([314079.0603684])]\n",
      "delta: 0, p: nan\n",
      "delta: 1, p: 8.816050206692114e-29\n"
     ]
    },
    {
     "name": "stderr",
     "output_type": "stream",
     "text": [
      "C:\\Users\\jeff1\\Anaconda3\\lib\\site-packages\\statsmodels\\base\\model.py:488: HessianInversionWarning: Inverting hessian failed, no bse or cov_params available\n",
      "  'available', HessianInversionWarning)\n",
      "C:\\Users\\jeff1\\Anaconda3\\lib\\site-packages\\statsmodels\\tsa\\base\\tsa_model.py:221: ValueWarning: An unsupported index was provided and will be ignored when e.g. forecasting.\n",
      "  ' ignored when e.g. forecasting.', ValueWarning)\n"
     ]
    },
    {
     "name": "stdout",
     "output_type": "stream",
     "text": [
      "predictions: [array([237966.74653401]), array([308502.37132928]), array([428322.18232146]), array([314079.0603684]), array([331932.38686442])]\n",
      "delta: 0, p: nan\n",
      "delta: 1, p: 8.164451752348966e-29\n",
      "predictions: [array([237966.74653401]), array([308502.37132928]), array([428322.18232146]), array([314079.0603684]), array([331932.38686442]), array([433759.78222388])]\n",
      "delta: 0, p: nan\n",
      "delta: 1, p: 7.564010573756768e-29\n",
      "predictions: [array([237966.74653401]), array([308502.37132928]), array([428322.18232146]), array([314079.0603684]), array([331932.38686442]), array([433759.78222388]), array([403396.28593584])]\n"
     ]
    },
    {
     "name": "stderr",
     "output_type": "stream",
     "text": [
      "C:\\Users\\jeff1\\Anaconda3\\lib\\site-packages\\statsmodels\\tsa\\base\\tsa_model.py:221: ValueWarning: An unsupported index was provided and will be ignored when e.g. forecasting.\n",
      "  ' ignored when e.g. forecasting.', ValueWarning)\n"
     ]
    },
    {
     "name": "stdout",
     "output_type": "stream",
     "text": [
      "delta: 0, p: nan\n",
      "delta: 1, p: 0.029907846604406978\n"
     ]
    },
    {
     "name": "stderr",
     "output_type": "stream",
     "text": [
      "C:\\Users\\jeff1\\Anaconda3\\lib\\site-packages\\statsmodels\\tsa\\base\\tsa_model.py:221: ValueWarning: An unsupported index was provided and will be ignored when e.g. forecasting.\n",
      "  ' ignored when e.g. forecasting.', ValueWarning)\n"
     ]
    },
    {
     "name": "stdout",
     "output_type": "stream",
     "text": [
      "predictions: [array([312503.82902581])]\n",
      "delta: 0, p: nan\n",
      "delta: 1, p: 0.690340698331332\n",
      "delta: 2, p: 0.07030938192254911\n",
      "delta: 3, p: 0.10785791284824403\n",
      "delta: 4, p: 0.0\n"
     ]
    },
    {
     "name": "stderr",
     "output_type": "stream",
     "text": [
      "C:\\Users\\jeff1\\Anaconda3\\lib\\site-packages\\statsmodels\\tsa\\base\\tsa_model.py:221: ValueWarning: An unsupported index was provided and will be ignored when e.g. forecasting.\n",
      "  ' ignored when e.g. forecasting.', ValueWarning)\n"
     ]
    },
    {
     "name": "stdout",
     "output_type": "stream",
     "text": [
      "predictions: [array([312503.82902581]), array([371616.64057452])]\n",
      "delta: 0, p: nan\n",
      "delta: 1, p: 7.226524064961006e-05\n"
     ]
    },
    {
     "name": "stderr",
     "output_type": "stream",
     "text": [
      "C:\\Users\\jeff1\\Anaconda3\\lib\\site-packages\\statsmodels\\tsa\\base\\tsa_model.py:221: ValueWarning: An unsupported index was provided and will be ignored when e.g. forecasting.\n",
      "  ' ignored when e.g. forecasting.', ValueWarning)\n",
      "C:\\Users\\jeff1\\Anaconda3\\lib\\site-packages\\statsmodels\\tsa\\tsatools.py:634: RuntimeWarning: invalid value encountered in log\n",
      "  invarcoefs = -np.log((1-params)/(1+params))\n",
      "C:\\Users\\jeff1\\Anaconda3\\lib\\site-packages\\statsmodels\\tsa\\base\\tsa_model.py:221: ValueWarning: An unsupported index was provided and will be ignored when e.g. forecasting.\n",
      "  ' ignored when e.g. forecasting.', ValueWarning)\n"
     ]
    },
    {
     "name": "stdout",
     "output_type": "stream",
     "text": [
      "bad condition 1: stationarity not adequate\n",
      "delta: 2, p: 0.31631541291382503\n",
      "delta: 3, p: 0.05877839971743285\n",
      "delta: 4, p: 0.24320648745831142\n",
      "delta: 5, p: 0.003531379559904771\n",
      "predictions: [array([312503.82902581]), array([371616.64057452]), array([370159.93184512])]\n",
      "delta: 0, p: nan\n",
      "delta: 1, p: 1.988197806749615e-25\n"
     ]
    },
    {
     "name": "stderr",
     "output_type": "stream",
     "text": [
      "C:\\Users\\jeff1\\Anaconda3\\lib\\site-packages\\statsmodels\\tsa\\base\\tsa_model.py:221: ValueWarning: An unsupported index was provided and will be ignored when e.g. forecasting.\n",
      "  ' ignored when e.g. forecasting.', ValueWarning)\n"
     ]
    },
    {
     "name": "stdout",
     "output_type": "stream",
     "text": [
      "predictions: [array([312503.82902581]), array([371616.64057452]), array([370159.93184512]), array([405660.43207064])]\n",
      "delta: 0, p: nan\n",
      "delta: 1, p: 1.8295452200779012e-25\n"
     ]
    },
    {
     "name": "stderr",
     "output_type": "stream",
     "text": [
      "C:\\Users\\jeff1\\Anaconda3\\lib\\site-packages\\statsmodels\\tsa\\base\\tsa_model.py:221: ValueWarning: An unsupported index was provided and will be ignored when e.g. forecasting.\n",
      "  ' ignored when e.g. forecasting.', ValueWarning)\n"
     ]
    },
    {
     "name": "stdout",
     "output_type": "stream",
     "text": [
      "predictions: [array([312503.82902581]), array([371616.64057452]), array([370159.93184512]), array([405660.43207064]), array([392063.47591372])]\n",
      "delta: 0, p: nan\n",
      "delta: 1, p: 1.6355821125642477e-25\n"
     ]
    },
    {
     "name": "stderr",
     "output_type": "stream",
     "text": [
      "C:\\Users\\jeff1\\Anaconda3\\lib\\site-packages\\statsmodels\\tsa\\base\\tsa_model.py:221: ValueWarning: An unsupported index was provided and will be ignored when e.g. forecasting.\n",
      "  ' ignored when e.g. forecasting.', ValueWarning)\n"
     ]
    },
    {
     "name": "stdout",
     "output_type": "stream",
     "text": [
      "predictions: [array([312503.82902581]), array([371616.64057452]), array([370159.93184512]), array([405660.43207064]), array([392063.47591372]), array([402408.90844676])]\n",
      "delta: 0, p: nan\n",
      "delta: 1, p: 1.4641632861451348e-25\n",
      "predictions: [array([312503.82902581]), array([371616.64057452]), array([370159.93184512]), array([405660.43207064]), array([392063.47591372]), array([402408.90844676]), array([403416.18985648])]\n"
     ]
    },
    {
     "name": "stderr",
     "output_type": "stream",
     "text": [
      "C:\\Users\\jeff1\\Anaconda3\\lib\\site-packages\\statsmodels\\tsa\\base\\tsa_model.py:221: ValueWarning: An unsupported index was provided and will be ignored when e.g. forecasting.\n",
      "  ' ignored when e.g. forecasting.', ValueWarning)\n"
     ]
    },
    {
     "name": "stdout",
     "output_type": "stream",
     "text": [
      "delta: 0, p: nan\n",
      "delta: 1, p: 0.29761973706228295\n",
      "delta: 2, p: 0.10870299644714909\n",
      "delta: 3, p: 0.007966593451658444\n"
     ]
    },
    {
     "name": "stderr",
     "output_type": "stream",
     "text": [
      "C:\\Users\\jeff1\\Anaconda3\\lib\\site-packages\\statsmodels\\tsa\\base\\tsa_model.py:221: ValueWarning: An unsupported index was provided and will be ignored when e.g. forecasting.\n",
      "  ' ignored when e.g. forecasting.', ValueWarning)\n"
     ]
    },
    {
     "name": "stdout",
     "output_type": "stream",
     "text": [
      "predictions: [array([298009.80569626])]\n",
      "delta: 0, p: nan\n",
      "delta: 1, p: 0.5408066111239609\n",
      "delta: 2, p: 0.11587310549638818\n",
      "delta: 3, p: 0.5307484047072955\n",
      "delta: 4, p: 0.0\n"
     ]
    },
    {
     "name": "stderr",
     "output_type": "stream",
     "text": [
      "C:\\Users\\jeff1\\Anaconda3\\lib\\site-packages\\statsmodels\\tsa\\base\\tsa_model.py:221: ValueWarning: An unsupported index was provided and will be ignored when e.g. forecasting.\n",
      "  ' ignored when e.g. forecasting.', ValueWarning)\n"
     ]
    },
    {
     "name": "stdout",
     "output_type": "stream",
     "text": [
      "predictions: [array([298009.80569626]), array([359474.96322974])]\n",
      "delta: 0, p: nan\n",
      "delta: 1, p: 0.6918931108643536\n",
      "delta: 2, p: 0.3253846102884248\n",
      "delta: 3, p: 0.8028715171333994\n",
      "delta: 4, p: 0.8816541583369674\n",
      "delta: 5, p: 4.056187359263081e-09\n"
     ]
    },
    {
     "name": "stderr",
     "output_type": "stream",
     "text": [
      "C:\\Users\\jeff1\\Anaconda3\\lib\\site-packages\\statsmodels\\tsa\\base\\tsa_model.py:221: ValueWarning: An unsupported index was provided and will be ignored when e.g. forecasting.\n",
      "  ' ignored when e.g. forecasting.', ValueWarning)\n"
     ]
    },
    {
     "name": "stdout",
     "output_type": "stream",
     "text": [
      "predictions: [array([298009.80569626]), array([359474.96322974]), array([360262.97385889])]\n",
      "delta: 0, p: nan\n",
      "delta: 1, p: 1.087612597548957e-27\n"
     ]
    },
    {
     "name": "stderr",
     "output_type": "stream",
     "text": [
      "C:\\Users\\jeff1\\Anaconda3\\lib\\site-packages\\statsmodels\\tsa\\base\\tsa_model.py:221: ValueWarning: An unsupported index was provided and will be ignored when e.g. forecasting.\n",
      "  ' ignored when e.g. forecasting.', ValueWarning)\n"
     ]
    },
    {
     "name": "stdout",
     "output_type": "stream",
     "text": [
      "predictions: [array([298009.80569626]), array([359474.96322974]), array([360262.97385889]), array([387412.62355051])]\n",
      "delta: 0, p: nan\n",
      "delta: 1, p: 1.011156843921274e-27\n"
     ]
    },
    {
     "name": "stderr",
     "output_type": "stream",
     "text": [
      "C:\\Users\\jeff1\\Anaconda3\\lib\\site-packages\\statsmodels\\tsa\\base\\tsa_model.py:221: ValueWarning: An unsupported index was provided and will be ignored when e.g. forecasting.\n",
      "  ' ignored when e.g. forecasting.', ValueWarning)\n"
     ]
    },
    {
     "name": "stdout",
     "output_type": "stream",
     "text": [
      "predictions: [array([298009.80569626]), array([359474.96322974]), array([360262.97385889]), array([387412.62355051]), array([413079.50626858])]\n",
      "delta: 0, p: nan\n",
      "delta: 1, p: 9.225822663477897e-28\n"
     ]
    },
    {
     "name": "stderr",
     "output_type": "stream",
     "text": [
      "C:\\Users\\jeff1\\Anaconda3\\lib\\site-packages\\statsmodels\\tsa\\base\\tsa_model.py:221: ValueWarning: An unsupported index was provided and will be ignored when e.g. forecasting.\n",
      "  ' ignored when e.g. forecasting.', ValueWarning)\n"
     ]
    },
    {
     "name": "stdout",
     "output_type": "stream",
     "text": [
      "predictions: [array([298009.80569626]), array([359474.96322974]), array([360262.97385889]), array([387412.62355051]), array([413079.50626858]), array([441425.64143039])]\n",
      "delta: 0, p: nan\n",
      "delta: 1, p: 8.41435659677635e-28\n"
     ]
    },
    {
     "name": "stderr",
     "output_type": "stream",
     "text": [
      "C:\\Users\\jeff1\\Anaconda3\\lib\\site-packages\\statsmodels\\tsa\\base\\tsa_model.py:221: ValueWarning: An unsupported index was provided and will be ignored when e.g. forecasting.\n",
      "  ' ignored when e.g. forecasting.', ValueWarning)\n"
     ]
    },
    {
     "name": "stdout",
     "output_type": "stream",
     "text": [
      "predictions: [array([298009.80569626]), array([359474.96322974]), array([360262.97385889]), array([387412.62355051]), array([413079.50626858]), array([441425.64143039]), array([403493.64810675])]\n",
      "delta: 0, p: nan\n",
      "delta: 1, p: 0.38129134811371024\n",
      "delta: 2, p: 0.07845233864600282\n",
      "delta: 3, p: 0.17462785006160925\n",
      "delta: 4, p: 0.010221138460875854\n"
     ]
    },
    {
     "name": "stderr",
     "output_type": "stream",
     "text": [
      "C:\\Users\\jeff1\\Anaconda3\\lib\\site-packages\\statsmodels\\tsa\\base\\tsa_model.py:221: ValueWarning: An unsupported index was provided and will be ignored when e.g. forecasting.\n",
      "  ' ignored when e.g. forecasting.', ValueWarning)\n"
     ]
    },
    {
     "name": "stdout",
     "output_type": "stream",
     "text": [
      "predictions: [array([226466.38615204])]\n",
      "delta: 0, p: nan\n",
      "delta: 1, p: 0.7914057663659043\n",
      "delta: 2, p: 0.0\n"
     ]
    },
    {
     "name": "stderr",
     "output_type": "stream",
     "text": [
      "C:\\Users\\jeff1\\Anaconda3\\lib\\site-packages\\statsmodels\\tsa\\base\\tsa_model.py:221: ValueWarning: An unsupported index was provided and will be ignored when e.g. forecasting.\n",
      "  ' ignored when e.g. forecasting.', ValueWarning)\n"
     ]
    },
    {
     "name": "stdout",
     "output_type": "stream",
     "text": [
      "bad condition 2: stationarity not adequate\n",
      "delta: 3, p: 7.378200585890994e-18\n"
     ]
    },
    {
     "name": "stderr",
     "output_type": "stream",
     "text": [
      "C:\\Users\\jeff1\\Anaconda3\\lib\\site-packages\\statsmodels\\tsa\\base\\tsa_model.py:221: ValueWarning: An unsupported index was provided and will be ignored when e.g. forecasting.\n",
      "  ' ignored when e.g. forecasting.', ValueWarning)\n"
     ]
    },
    {
     "name": "stdout",
     "output_type": "stream",
     "text": [
      "predictions: [array([226466.38615204]), array([295768.26631112])]\n",
      "delta: 0, p: nan\n",
      "delta: 1, p: 1.0876574018979374e-28\n"
     ]
    },
    {
     "name": "stderr",
     "output_type": "stream",
     "text": [
      "C:\\Users\\jeff1\\Anaconda3\\lib\\site-packages\\statsmodels\\tsa\\base\\tsa_model.py:221: ValueWarning: An unsupported index was provided and will be ignored when e.g. forecasting.\n",
      "  ' ignored when e.g. forecasting.', ValueWarning)\n"
     ]
    },
    {
     "name": "stdout",
     "output_type": "stream",
     "text": [
      "bad condition 1: stationarity not adequate\n",
      "delta: 2, p: 0.9381771945055973\n",
      "delta: 3, p: 1.4019769553286292e-19\n"
     ]
    },
    {
     "name": "stderr",
     "output_type": "stream",
     "text": [
      "C:\\Users\\jeff1\\Anaconda3\\lib\\site-packages\\statsmodels\\tsa\\base\\tsa_model.py:221: ValueWarning: An unsupported index was provided and will be ignored when e.g. forecasting.\n",
      "  ' ignored when e.g. forecasting.', ValueWarning)\n"
     ]
    },
    {
     "name": "stdout",
     "output_type": "stream",
     "text": [
      "predictions: [array([226466.38615204]), array([295768.26631112]), array([281804.83883522])]\n",
      "delta: 0, p: nan\n",
      "delta: 1, p: 1.0086561475680359e-28\n"
     ]
    },
    {
     "name": "stderr",
     "output_type": "stream",
     "text": [
      "C:\\Users\\jeff1\\Anaconda3\\lib\\site-packages\\statsmodels\\tsa\\base\\tsa_model.py:221: ValueWarning: An unsupported index was provided and will be ignored when e.g. forecasting.\n",
      "  ' ignored when e.g. forecasting.', ValueWarning)\n"
     ]
    },
    {
     "name": "stdout",
     "output_type": "stream",
     "text": [
      "predictions: [array([226466.38615204]), array([295768.26631112]), array([281804.83883522]), array([340895.07758536])]\n",
      "delta: 0, p: nan\n",
      "delta: 1, p: 9.376148286989256e-29\n"
     ]
    },
    {
     "name": "stderr",
     "output_type": "stream",
     "text": [
      "C:\\Users\\jeff1\\Anaconda3\\lib\\site-packages\\statsmodels\\tsa\\base\\tsa_model.py:221: ValueWarning: An unsupported index was provided and will be ignored when e.g. forecasting.\n",
      "  ' ignored when e.g. forecasting.', ValueWarning)\n"
     ]
    },
    {
     "name": "stdout",
     "output_type": "stream",
     "text": [
      "predictions: [array([226466.38615204]), array([295768.26631112]), array([281804.83883522]), array([340895.07758536]), array([422776.20396274])]\n",
      "delta: 0, p: nan\n",
      "delta: 1, p: 8.678278398964988e-29\n"
     ]
    },
    {
     "name": "stderr",
     "output_type": "stream",
     "text": [
      "C:\\Users\\jeff1\\Anaconda3\\lib\\site-packages\\statsmodels\\tsa\\base\\tsa_model.py:221: ValueWarning: An unsupported index was provided and will be ignored when e.g. forecasting.\n",
      "  ' ignored when e.g. forecasting.', ValueWarning)\n"
     ]
    },
    {
     "name": "stdout",
     "output_type": "stream",
     "text": [
      "predictions: [array([226466.38615204]), array([295768.26631112]), array([281804.83883522]), array([340895.07758536]), array([422776.20396274]), array([417706.99772034])]\n",
      "delta: 0, p: nan\n",
      "delta: 1, p: 8.036288516091894e-29\n",
      "predictions: [array([226466.38615204]), array([295768.26631112]), array([281804.83883522]), array([340895.07758536]), array([422776.20396274]), array([417706.99772034]), array([403432.3590088])]\n"
     ]
    },
    {
     "name": "stderr",
     "output_type": "stream",
     "text": [
      "C:\\Users\\jeff1\\Anaconda3\\lib\\site-packages\\statsmodels\\tsa\\base\\tsa_model.py:221: ValueWarning: An unsupported index was provided and will be ignored when e.g. forecasting.\n",
      "  ' ignored when e.g. forecasting.', ValueWarning)\n"
     ]
    },
    {
     "name": "stdout",
     "output_type": "stream",
     "text": [
      "delta: 0, p: nan\n",
      "delta: 1, p: 0.23114187316675217\n",
      "delta: 2, p: 0.04835996370018675\n"
     ]
    },
    {
     "name": "stderr",
     "output_type": "stream",
     "text": [
      "C:\\Users\\jeff1\\Anaconda3\\lib\\site-packages\\statsmodels\\tsa\\base\\tsa_model.py:221: ValueWarning: An unsupported index was provided and will be ignored when e.g. forecasting.\n",
      "  ' ignored when e.g. forecasting.', ValueWarning)\n"
     ]
    },
    {
     "name": "stdout",
     "output_type": "stream",
     "text": [
      "predictions: [array([208380.28144683])]\n",
      "delta: 0, p: nan\n",
      "delta: 1, p: 0.5218262666998853\n",
      "delta: 2, p: 0.0\n"
     ]
    },
    {
     "name": "stderr",
     "output_type": "stream",
     "text": [
      "C:\\Users\\jeff1\\Anaconda3\\lib\\site-packages\\statsmodels\\tsa\\base\\tsa_model.py:221: ValueWarning: An unsupported index was provided and will be ignored when e.g. forecasting.\n",
      "  ' ignored when e.g. forecasting.', ValueWarning)\n",
      "C:\\Users\\jeff1\\Anaconda3\\lib\\site-packages\\statsmodels\\base\\model.py:488: HessianInversionWarning: Inverting hessian failed, no bse or cov_params available\n",
      "  'available', HessianInversionWarning)\n",
      "C:\\Users\\jeff1\\Anaconda3\\lib\\site-packages\\statsmodels\\base\\model.py:508: ConvergenceWarning: Maximum Likelihood optimization failed to converge. Check mle_retvals\n",
      "  \"Check mle_retvals\", ConvergenceWarning)\n",
      "C:\\Users\\jeff1\\Anaconda3\\lib\\site-packages\\statsmodels\\tsa\\base\\tsa_model.py:221: ValueWarning: An unsupported index was provided and will be ignored when e.g. forecasting.\n",
      "  ' ignored when e.g. forecasting.', ValueWarning)\n"
     ]
    },
    {
     "name": "stdout",
     "output_type": "stream",
     "text": [
      "predictions: [array([208380.28144683]), array([454957.82675969])]\n",
      "delta: 0, p: nan\n",
      "delta: 1, p: 8.13017841191645e-29\n",
      "bad condition 1: stationarity not adequate\n",
      "delta: 2, p: 0.9216348924020965\n",
      "delta: 3, p: 2.4164096729558693e-30\n"
     ]
    },
    {
     "name": "stderr",
     "output_type": "stream",
     "text": [
      "C:\\Users\\jeff1\\Anaconda3\\lib\\site-packages\\statsmodels\\tsa\\base\\tsa_model.py:221: ValueWarning: An unsupported index was provided and will be ignored when e.g. forecasting.\n",
      "  ' ignored when e.g. forecasting.', ValueWarning)\n"
     ]
    },
    {
     "name": "stdout",
     "output_type": "stream",
     "text": [
      "predictions: [array([208380.28144683]), array([454957.82675969]), array([312134.18153509])]\n",
      "delta: 0, p: nan\n",
      "delta: 1, p: 7.550165497046469e-29\n"
     ]
    },
    {
     "name": "stderr",
     "output_type": "stream",
     "text": [
      "C:\\Users\\jeff1\\Anaconda3\\lib\\site-packages\\statsmodels\\tsa\\base\\tsa_model.py:221: ValueWarning: An unsupported index was provided and will be ignored when e.g. forecasting.\n",
      "  ' ignored when e.g. forecasting.', ValueWarning)\n"
     ]
    },
    {
     "name": "stdout",
     "output_type": "stream",
     "text": [
      "predictions: [array([208380.28144683]), array([454957.82675969]), array([312134.18153509]), array([388385.55041419])]\n",
      "delta: 0, p: nan\n",
      "delta: 1, p: 7.026306019084879e-29\n"
     ]
    },
    {
     "name": "stderr",
     "output_type": "stream",
     "text": [
      "C:\\Users\\jeff1\\Anaconda3\\lib\\site-packages\\statsmodels\\tsa\\base\\tsa_model.py:221: ValueWarning: An unsupported index was provided and will be ignored when e.g. forecasting.\n",
      "  ' ignored when e.g. forecasting.', ValueWarning)\n"
     ]
    },
    {
     "name": "stdout",
     "output_type": "stream",
     "text": [
      "predictions: [array([208380.28144683]), array([454957.82675969]), array([312134.18153509]), array([388385.55041419]), array([388448.39096663])]\n",
      "delta: 0, p: nan\n",
      "delta: 1, p: 6.517934912126225e-29\n"
     ]
    },
    {
     "name": "stderr",
     "output_type": "stream",
     "text": [
      "C:\\Users\\jeff1\\Anaconda3\\lib\\site-packages\\statsmodels\\tsa\\base\\tsa_model.py:221: ValueWarning: An unsupported index was provided and will be ignored when e.g. forecasting.\n",
      "  ' ignored when e.g. forecasting.', ValueWarning)\n"
     ]
    },
    {
     "name": "stdout",
     "output_type": "stream",
     "text": [
      "predictions: [array([208380.28144683]), array([454957.82675969]), array([312134.18153509]), array([388385.55041419]), array([388448.39096663]), array([414060.78975265])]\n",
      "delta: 0, p: nan\n",
      "delta: 1, p: 6.049975747900385e-29\n",
      "predictions: [array([208380.28144683]), array([454957.82675969]), array([312134.18153509]), array([388385.55041419]), array([388448.39096663]), array([414060.78975265]), array([403430.36074984])]\n",
      "delta: 0, p: nan\n"
     ]
    },
    {
     "name": "stderr",
     "output_type": "stream",
     "text": [
      "C:\\Users\\jeff1\\Anaconda3\\lib\\site-packages\\statsmodels\\tsa\\base\\tsa_model.py:221: ValueWarning: An unsupported index was provided and will be ignored when e.g. forecasting.\n",
      "  ' ignored when e.g. forecasting.', ValueWarning)\n"
     ]
    },
    {
     "name": "stdout",
     "output_type": "stream",
     "text": [
      "delta: 1, p: 0.05766580901828412\n",
      "delta: 2, p: 0.04409623656804488\n"
     ]
    },
    {
     "name": "stderr",
     "output_type": "stream",
     "text": [
      "C:\\Users\\jeff1\\Anaconda3\\lib\\site-packages\\statsmodels\\tsa\\base\\tsa_model.py:221: ValueWarning: An unsupported index was provided and will be ignored when e.g. forecasting.\n",
      "  ' ignored when e.g. forecasting.', ValueWarning)\n",
      "C:\\Users\\jeff1\\Anaconda3\\lib\\site-packages\\statsmodels\\base\\model.py:488: HessianInversionWarning: Inverting hessian failed, no bse or cov_params available\n",
      "  'available', HessianInversionWarning)\n",
      "C:\\Users\\jeff1\\Anaconda3\\lib\\site-packages\\statsmodels\\tsa\\base\\tsa_model.py:221: ValueWarning: An unsupported index was provided and will be ignored when e.g. forecasting.\n",
      "  ' ignored when e.g. forecasting.', ValueWarning)\n"
     ]
    },
    {
     "name": "stdout",
     "output_type": "stream",
     "text": [
      "predictions: [array([286754.96864209])]\n",
      "delta: 0, p: nan\n",
      "delta: 1, p: 0.6006188461234814\n",
      "delta: 2, p: 0.47555320672308604\n",
      "delta: 3, p: 0.0\n",
      "bad condition 3: stationarity not adequate\n",
      "delta: 4, p: 0.14759570738936384\n",
      "delta: 5, p: 0.47101306094814827\n",
      "delta: 6, p: 0.0\n"
     ]
    },
    {
     "name": "stderr",
     "output_type": "stream",
     "text": [
      "C:\\Users\\jeff1\\Anaconda3\\lib\\site-packages\\statsmodels\\tsa\\base\\tsa_model.py:221: ValueWarning: An unsupported index was provided and will be ignored when e.g. forecasting.\n",
      "  ' ignored when e.g. forecasting.', ValueWarning)\n"
     ]
    },
    {
     "name": "stdout",
     "output_type": "stream",
     "text": [
      "predictions: [array([286754.96864209]), array([349476.45389929])]\n",
      "delta: 0, p: nan\n",
      "delta: 1, p: 0.16319785002336173\n",
      "delta: 2, p: 0.8722721916489848\n",
      "delta: 3, p: 0.04433942368930303\n"
     ]
    },
    {
     "name": "stderr",
     "output_type": "stream",
     "text": [
      "C:\\Users\\jeff1\\Anaconda3\\lib\\site-packages\\statsmodels\\tsa\\base\\tsa_model.py:221: ValueWarning: An unsupported index was provided and will be ignored when e.g. forecasting.\n",
      "  ' ignored when e.g. forecasting.', ValueWarning)\n"
     ]
    },
    {
     "name": "stdout",
     "output_type": "stream",
     "text": [
      "predictions: [array([286754.96864209]), array([349476.45389929]), array([348453.62949919])]\n",
      "delta: 0, p: nan\n",
      "delta: 1, p: 7.804614161097689e-28\n"
     ]
    },
    {
     "name": "stderr",
     "output_type": "stream",
     "text": [
      "C:\\Users\\jeff1\\Anaconda3\\lib\\site-packages\\statsmodels\\tsa\\base\\tsa_model.py:221: ValueWarning: An unsupported index was provided and will be ignored when e.g. forecasting.\n",
      "  ' ignored when e.g. forecasting.', ValueWarning)\n"
     ]
    },
    {
     "name": "stdout",
     "output_type": "stream",
     "text": [
      "bad condition 1: stationarity not adequate\n",
      "delta: 2, p: 0.004214497394939105\n"
     ]
    },
    {
     "name": "stderr",
     "output_type": "stream",
     "text": [
      "C:\\Users\\jeff1\\Anaconda3\\lib\\site-packages\\statsmodels\\tsa\\base\\tsa_model.py:221: ValueWarning: An unsupported index was provided and will be ignored when e.g. forecasting.\n",
      "  ' ignored when e.g. forecasting.', ValueWarning)\n"
     ]
    },
    {
     "name": "stdout",
     "output_type": "stream",
     "text": [
      "predictions: [array([286754.96864209]), array([349476.45389929]), array([348453.62949919]), array([376531.97715584])]\n",
      "delta: 0, p: nan\n",
      "delta: 1, p: 7.239974408489753e-28\n"
     ]
    },
    {
     "name": "stderr",
     "output_type": "stream",
     "text": [
      "C:\\Users\\jeff1\\Anaconda3\\lib\\site-packages\\statsmodels\\tsa\\base\\tsa_model.py:221: ValueWarning: An unsupported index was provided and will be ignored when e.g. forecasting.\n",
      "  ' ignored when e.g. forecasting.', ValueWarning)\n"
     ]
    },
    {
     "name": "stdout",
     "output_type": "stream",
     "text": [
      "predictions: [array([286754.96864209]), array([349476.45389929]), array([348453.62949919]), array([376531.97715584]), array([395144.52428408])]\n",
      "delta: 0, p: nan\n",
      "delta: 1, p: 6.6170392303553975e-28\n"
     ]
    },
    {
     "name": "stderr",
     "output_type": "stream",
     "text": [
      "C:\\Users\\jeff1\\Anaconda3\\lib\\site-packages\\statsmodels\\tsa\\base\\tsa_model.py:221: ValueWarning: An unsupported index was provided and will be ignored when e.g. forecasting.\n",
      "  ' ignored when e.g. forecasting.', ValueWarning)\n"
     ]
    },
    {
     "name": "stdout",
     "output_type": "stream",
     "text": [
      "predictions: [array([286754.96864209]), array([349476.45389929]), array([348453.62949919]), array([376531.97715584]), array([395144.52428408]), array([397212.07819085])]\n",
      "delta: 0, p: nan\n",
      "delta: 1, p: 6.0462331949258985e-28\n",
      "predictions: [array([286754.96864209]), array([349476.45389929]), array([348453.62949919]), array([376531.97715584]), array([395144.52428408]), array([397212.07819085]), array([403405.5912549])]\n"
     ]
    },
    {
     "name": "stderr",
     "output_type": "stream",
     "text": [
      "C:\\Users\\jeff1\\Anaconda3\\lib\\site-packages\\statsmodels\\tsa\\base\\tsa_model.py:221: ValueWarning: An unsupported index was provided and will be ignored when e.g. forecasting.\n",
      "  ' ignored when e.g. forecasting.', ValueWarning)\n"
     ]
    },
    {
     "name": "stdout",
     "output_type": "stream",
     "text": [
      "delta: 0, p: nan\n",
      "delta: 1, p: 0.20104000450446313\n",
      "delta: 2, p: 0.10442949443925942\n",
      "delta: 3, p: 0.11895655803914423\n",
      "delta: 4, p: 0.2801252337526511\n",
      "delta: 5, p: 0.08119331219292408\n",
      "delta: 6, p: 0.20723884656638508\n",
      "delta: 7, p: 0.009728206197508017\n"
     ]
    },
    {
     "name": "stderr",
     "output_type": "stream",
     "text": [
      "C:\\Users\\jeff1\\Anaconda3\\lib\\site-packages\\statsmodels\\tsa\\base\\tsa_model.py:221: ValueWarning: An unsupported index was provided and will be ignored when e.g. forecasting.\n",
      "  ' ignored when e.g. forecasting.', ValueWarning)\n"
     ]
    },
    {
     "name": "stdout",
     "output_type": "stream",
     "text": [
      "predictions: [array([465345.45552571])]\n",
      "delta: 0, p: nan\n",
      "delta: 1, p: 0.8516599283877004\n",
      "delta: 2, p: 0.5867204786659107\n",
      "delta: 3, p: 0.7969178993657532\n",
      "delta: 4, p: 0.8420330520516643\n",
      "delta: 5, p: 0.8935490155474902\n",
      "delta: 6, p: 0.4731218645424165\n",
      "delta: 7, p: 0.6477183306884255\n",
      "delta: 8, p: 7.288435035895183e-17\n"
     ]
    },
    {
     "name": "stderr",
     "output_type": "stream",
     "text": [
      "C:\\Users\\jeff1\\Anaconda3\\lib\\site-packages\\statsmodels\\tsa\\base\\tsa_model.py:221: ValueWarning: An unsupported index was provided and will be ignored when e.g. forecasting.\n",
      "  ' ignored when e.g. forecasting.', ValueWarning)\n"
     ]
    },
    {
     "name": "stdout",
     "output_type": "stream",
     "text": [
      "predictions: [array([465345.45552571]), array([357648.21195766])]\n",
      "delta: 0, p: nan\n",
      "delta: 1, p: 0.7247019852742096\n",
      "delta: 2, p: 0.2327956768366934\n",
      "delta: 3, p: 0.4021822831241134\n",
      "delta: 4, p: 0.4903523916978116\n",
      "delta: 5, p: 0.14875911773314\n",
      "delta: 6, p: 0.481314219216015\n",
      "delta: 7, p: 0.34557729322781794\n",
      "delta: 8, p: 0.25563801512486867\n",
      "delta: 9, p: 1.1550506251897159e-17\n"
     ]
    },
    {
     "name": "stderr",
     "output_type": "stream",
     "text": [
      "C:\\Users\\jeff1\\Anaconda3\\lib\\site-packages\\statsmodels\\tsa\\base\\tsa_model.py:221: ValueWarning: An unsupported index was provided and will be ignored when e.g. forecasting.\n",
      "  ' ignored when e.g. forecasting.', ValueWarning)\n"
     ]
    },
    {
     "name": "stdout",
     "output_type": "stream",
     "text": [
      "predictions: [array([465345.45552571]), array([357648.21195766]), array([363032.51055599])]\n",
      "delta: 0, p: nan\n",
      "delta: 1, p: 0.5688857028431646\n",
      "delta: 2, p: 0.09598733851821278\n",
      "delta: 3, p: 0.27274866308718515\n",
      "delta: 4, p: 0.2073812569677041\n",
      "delta: 5, p: 0.0740371097913077\n",
      "delta: 6, p: 0.35003862826108667\n",
      "delta: 7, p: 0.28235330077521464\n",
      "delta: 8, p: 0.2195706132046551\n",
      "delta: 9, p: 4.826125419096989e-09\n"
     ]
    },
    {
     "name": "stderr",
     "output_type": "stream",
     "text": [
      "C:\\Users\\jeff1\\Anaconda3\\lib\\site-packages\\statsmodels\\tsa\\base\\tsa_model.py:221: ValueWarning: An unsupported index was provided and will be ignored when e.g. forecasting.\n",
      "  ' ignored when e.g. forecasting.', ValueWarning)\n"
     ]
    },
    {
     "name": "stdout",
     "output_type": "stream",
     "text": [
      "predictions: [array([465345.45552571]), array([357648.21195766]), array([363032.51055599]), array([369879.56925565])]\n",
      "delta: 0, p: nan\n",
      "delta: 1, p: 0.5504613122633772\n",
      "delta: 2, p: 0.06360171073891133\n",
      "delta: 3, p: 0.17875266627293346\n",
      "delta: 4, p: 0.17785590118466188\n",
      "delta: 5, p: 0.4382933041344027\n",
      "delta: 6, p: 0.3969789186966042\n",
      "delta: 7, p: 0.18969034031728343\n",
      "delta: 8, p: 0.19578350070119327\n",
      "delta: 9, p: 3.146534823061566e-09\n"
     ]
    },
    {
     "name": "stderr",
     "output_type": "stream",
     "text": [
      "C:\\Users\\jeff1\\Anaconda3\\lib\\site-packages\\statsmodels\\tsa\\base\\tsa_model.py:221: ValueWarning: An unsupported index was provided and will be ignored when e.g. forecasting.\n",
      "  ' ignored when e.g. forecasting.', ValueWarning)\n"
     ]
    },
    {
     "name": "stdout",
     "output_type": "stream",
     "text": [
      "predictions: [array([465345.45552571]), array([357648.21195766]), array([363032.51055599]), array([369879.56925565]), array([369151.29432247])]\n",
      "delta: 0, p: nan\n",
      "delta: 1, p: 0.49523664313949156\n",
      "delta: 2, p: 0.04139268721694521\n"
     ]
    },
    {
     "name": "stderr",
     "output_type": "stream",
     "text": [
      "C:\\Users\\jeff1\\Anaconda3\\lib\\site-packages\\statsmodels\\tsa\\base\\tsa_model.py:221: ValueWarning: An unsupported index was provided and will be ignored when e.g. forecasting.\n",
      "  ' ignored when e.g. forecasting.', ValueWarning)\n"
     ]
    },
    {
     "name": "stdout",
     "output_type": "stream",
     "text": [
      "predictions: [array([465345.45552571]), array([357648.21195766]), array([363032.51055599]), array([369879.56925565]), array([369151.29432247]), array([423660.67795812])]\n",
      "delta: 0, p: nan\n",
      "delta: 1, p: 0.2977599715985486\n",
      "delta: 2, p: 0.019936314838252717\n"
     ]
    },
    {
     "name": "stderr",
     "output_type": "stream",
     "text": [
      "C:\\Users\\jeff1\\Anaconda3\\lib\\site-packages\\statsmodels\\tsa\\base\\tsa_model.py:221: ValueWarning: An unsupported index was provided and will be ignored when e.g. forecasting.\n",
      "  ' ignored when e.g. forecasting.', ValueWarning)\n"
     ]
    },
    {
     "name": "stdout",
     "output_type": "stream",
     "text": [
      "predictions: [array([465345.45552571]), array([357648.21195766]), array([363032.51055599]), array([369879.56925565]), array([369151.29432247]), array([423660.67795812]), array([373542.26897096])]\n",
      "delta: 0, p: nan\n",
      "delta: 1, p: 0.29133386874437767\n",
      "delta: 2, p: 0.1436818273292083\n",
      "delta: 3, p: 0.0902632074351799\n",
      "delta: 4, p: 0.2632718658983016\n",
      "delta: 5, p: 0.05766296020616512\n",
      "delta: 6, p: 0.19244397659048068\n",
      "delta: 7, p: 0.03045909385437504\n"
     ]
    },
    {
     "name": "stderr",
     "output_type": "stream",
     "text": [
      "C:\\Users\\jeff1\\Anaconda3\\lib\\site-packages\\statsmodels\\tsa\\base\\tsa_model.py:221: ValueWarning: An unsupported index was provided and will be ignored when e.g. forecasting.\n",
      "  ' ignored when e.g. forecasting.', ValueWarning)\n"
     ]
    },
    {
     "name": "stdout",
     "output_type": "stream",
     "text": [
      "predictions: [array([467199.91837323])]\n",
      "delta: 0, p: nan\n",
      "delta: 1, p: 0.8215717132505028\n",
      "delta: 2, p: 0.5579773535558226\n",
      "delta: 3, p: 0.5654602615550642\n",
      "delta: 4, p: 0.6988089554755814\n",
      "delta: 5, p: 0.5000536735033044\n",
      "delta: 6, p: 0.31689882113824985\n",
      "delta: 7, p: 0.21284454654505042\n",
      "delta: 8, p: 0.542399274834882\n",
      "delta: 9, p: 2.7430370989603587e-22\n"
     ]
    },
    {
     "name": "stderr",
     "output_type": "stream",
     "text": [
      "C:\\Users\\jeff1\\Anaconda3\\lib\\site-packages\\statsmodels\\tsa\\base\\tsa_model.py:221: ValueWarning: An unsupported index was provided and will be ignored when e.g. forecasting.\n",
      "  ' ignored when e.g. forecasting.', ValueWarning)\n"
     ]
    },
    {
     "name": "stdout",
     "output_type": "stream",
     "text": [
      "predictions: [array([467199.91837323]), array([366105.05735819])]\n",
      "delta: 0, p: nan\n",
      "delta: 1, p: 0.6234329963641017\n",
      "delta: 2, p: 0.2406772867539827\n",
      "delta: 3, p: 0.22140876359474915\n",
      "delta: 4, p: 0.3729076723395637\n",
      "delta: 5, p: 0.28069111362315824\n",
      "delta: 6, p: 0.07135392395021098\n",
      "delta: 7, p: 0.14719868777744105\n",
      "delta: 8, p: 0.07730588307073827\n",
      "delta: 9, p: 3.3561715720961617e-22\n"
     ]
    },
    {
     "name": "stderr",
     "output_type": "stream",
     "text": [
      "C:\\Users\\jeff1\\Anaconda3\\lib\\site-packages\\statsmodels\\tsa\\base\\tsa_model.py:221: ValueWarning: An unsupported index was provided and will be ignored when e.g. forecasting.\n",
      "  ' ignored when e.g. forecasting.', ValueWarning)\n"
     ]
    },
    {
     "name": "stdout",
     "output_type": "stream",
     "text": [
      "predictions: [array([467199.91837323]), array([366105.05735819]), array([370777.62032839])]\n",
      "delta: 0, p: nan\n",
      "delta: 1, p: 0.456263354637952\n",
      "delta: 2, p: 0.11448999754178946\n",
      "delta: 3, p: 0.12517267463127396\n",
      "delta: 4, p: 0.1898011382057292\n",
      "delta: 5, p: 0.21549252125456642\n",
      "delta: 6, p: 0.5503166330396769\n",
      "delta: 7, p: 0.1421757316121256\n",
      "delta: 8, p: 0.5816197322360812\n",
      "delta: 9, p: 3.940787870912279e-15\n"
     ]
    },
    {
     "name": "stderr",
     "output_type": "stream",
     "text": [
      "C:\\Users\\jeff1\\Anaconda3\\lib\\site-packages\\statsmodels\\tsa\\base\\tsa_model.py:221: ValueWarning: An unsupported index was provided and will be ignored when e.g. forecasting.\n",
      "  ' ignored when e.g. forecasting.', ValueWarning)\n"
     ]
    },
    {
     "name": "stdout",
     "output_type": "stream",
     "text": [
      "predictions: [array([467199.91837323]), array([366105.05735819]), array([370777.62032839]), array([372815.53172972])]\n",
      "delta: 0, p: nan\n",
      "delta: 1, p: 0.4097780681971207\n",
      "delta: 2, p: 0.09526868187024051\n",
      "delta: 3, p: 0.10192079279946115\n",
      "delta: 4, p: 0.16954403206695146\n",
      "delta: 5, p: 0.13602659453135524\n",
      "delta: 6, p: 0.5018312599980748\n",
      "delta: 7, p: 0.12865313016715052\n",
      "delta: 8, p: 0.5356341264209188\n",
      "delta: 9, p: 1.1414526159640959e-15\n"
     ]
    },
    {
     "name": "stderr",
     "output_type": "stream",
     "text": [
      "C:\\Users\\jeff1\\Anaconda3\\lib\\site-packages\\statsmodels\\tsa\\base\\tsa_model.py:221: ValueWarning: An unsupported index was provided and will be ignored when e.g. forecasting.\n",
      "  ' ignored when e.g. forecasting.', ValueWarning)\n"
     ]
    },
    {
     "name": "stdout",
     "output_type": "stream",
     "text": [
      "predictions: [array([467199.91837323]), array([366105.05735819]), array([370777.62032839]), array([372815.53172972]), array([374340.57654607])]\n",
      "delta: 0, p: nan\n",
      "delta: 1, p: 0.29261169426250855\n",
      "delta: 2, p: 0.05072855847647823\n",
      "delta: 3, p: 0.053810013363708276\n",
      "delta: 4, p: 0.10174836164529855\n",
      "delta: 5, p: 0.11529052129982426\n",
      "delta: 6, p: 0.035013195658591414\n"
     ]
    },
    {
     "name": "stderr",
     "output_type": "stream",
     "text": [
      "C:\\Users\\jeff1\\Anaconda3\\lib\\site-packages\\statsmodels\\tsa\\base\\tsa_model.py:221: ValueWarning: An unsupported index was provided and will be ignored when e.g. forecasting.\n",
      "  ' ignored when e.g. forecasting.', ValueWarning)\n"
     ]
    },
    {
     "name": "stdout",
     "output_type": "stream",
     "text": [
      "predictions: [array([467199.91837323]), array([366105.05735819]), array([370777.62032839]), array([372815.53172972]), array([374340.57654607]), array([409736.14114607])]\n",
      "delta: 0, p: nan\n",
      "delta: 1, p: 0.21353842857978922\n",
      "delta: 2, p: 0.04470879969658325\n"
     ]
    },
    {
     "name": "stderr",
     "output_type": "stream",
     "text": [
      "C:\\Users\\jeff1\\Anaconda3\\lib\\site-packages\\statsmodels\\tsa\\base\\tsa_model.py:221: ValueWarning: An unsupported index was provided and will be ignored when e.g. forecasting.\n",
      "  ' ignored when e.g. forecasting.', ValueWarning)\n"
     ]
    },
    {
     "name": "stdout",
     "output_type": "stream",
     "text": [
      "predictions: [array([467199.91837323]), array([366105.05735819]), array([370777.62032839]), array([372815.53172972]), array([374340.57654607]), array([409736.14114607]), array([371821.58497128])]\n",
      "delta: 0, p: nan\n",
      "delta: 1, p: 0.5854532302226467\n",
      "delta: 2, p: 0.2961150872054086\n",
      "delta: 3, p: 0.3352963975378742\n",
      "delta: 4, p: 0.1366238791490585\n",
      "delta: 5, p: 0.33654280275942705\n",
      "delta: 6, p: 0.43342474367677497\n",
      "delta: 7, p: 0.02683712911590584\n"
     ]
    },
    {
     "name": "stderr",
     "output_type": "stream",
     "text": [
      "C:\\Users\\jeff1\\Anaconda3\\lib\\site-packages\\statsmodels\\tsa\\base\\tsa_model.py:221: ValueWarning: An unsupported index was provided and will be ignored when e.g. forecasting.\n",
      "  ' ignored when e.g. forecasting.', ValueWarning)\n"
     ]
    },
    {
     "name": "stdout",
     "output_type": "stream",
     "text": [
      "predictions: [array([393564.72179736])]\n",
      "delta: 0, p: nan\n",
      "delta: 1, p: 0.5724976965831403\n",
      "delta: 2, p: 0.28417287396115576\n",
      "delta: 3, p: 0.32734214150177476\n",
      "delta: 4, p: 0.12701446465957433\n",
      "delta: 5, p: 0.316269285956195\n",
      "delta: 6, p: 0.4238835098358495\n",
      "delta: 7, p: 0.02422881953198721\n"
     ]
    },
    {
     "name": "stderr",
     "output_type": "stream",
     "text": [
      "C:\\Users\\jeff1\\Anaconda3\\lib\\site-packages\\statsmodels\\tsa\\base\\tsa_model.py:221: ValueWarning: An unsupported index was provided and will be ignored when e.g. forecasting.\n",
      "  ' ignored when e.g. forecasting.', ValueWarning)\n"
     ]
    },
    {
     "name": "stdout",
     "output_type": "stream",
     "text": [
      "predictions: [array([393564.72179736]), array([393300.56798584])]\n",
      "delta: 0, p: nan\n",
      "delta: 1, p: 0.26211200559973313\n",
      "delta: 2, p: 0.3334614647077685\n",
      "delta: 3, p: 0.3558529869879145\n",
      "delta: 4, p: 0.15826854754070202\n",
      "delta: 5, p: 0.3552269442888826\n",
      "delta: 6, p: 0.4791272850685244\n",
      "delta: 7, p: 0.030788652234853116\n"
     ]
    },
    {
     "name": "stderr",
     "output_type": "stream",
     "text": [
      "C:\\Users\\jeff1\\Anaconda3\\lib\\site-packages\\statsmodels\\tsa\\base\\tsa_model.py:221: ValueWarning: An unsupported index was provided and will be ignored when e.g. forecasting.\n",
      "  ' ignored when e.g. forecasting.', ValueWarning)\n"
     ]
    },
    {
     "name": "stdout",
     "output_type": "stream",
     "text": [
      "predictions: [array([393564.72179736]), array([393300.56798584]), array([395054.92858764])]\n",
      "delta: 0, p: nan\n",
      "delta: 1, p: 0.5694878767965704\n",
      "delta: 2, p: 0.29833023889199195\n",
      "delta: 3, p: 0.3338313943354221\n",
      "delta: 4, p: 0.14893160029315033\n",
      "delta: 5, p: 0.34080369231658236\n",
      "delta: 6, p: 0.44363195737680106\n",
      "delta: 7, p: 0.02778480627264013\n"
     ]
    },
    {
     "name": "stderr",
     "output_type": "stream",
     "text": [
      "C:\\Users\\jeff1\\Anaconda3\\lib\\site-packages\\statsmodels\\tsa\\base\\tsa_model.py:221: ValueWarning: An unsupported index was provided and will be ignored when e.g. forecasting.\n",
      "  ' ignored when e.g. forecasting.', ValueWarning)\n"
     ]
    },
    {
     "name": "stdout",
     "output_type": "stream",
     "text": [
      "predictions: [array([393564.72179736]), array([393300.56798584]), array([395054.92858764]), array([397623.10432449])]\n",
      "delta: 0, p: nan\n",
      "delta: 1, p: 0.26810934228405403\n",
      "delta: 2, p: 0.34322603750528596\n",
      "delta: 3, p: 0.38506814718155274\n",
      "delta: 4, p: 0.1606745735385986\n",
      "delta: 5, p: 0.3703156449000363\n",
      "delta: 6, p: 0.4950707684159759\n",
      "delta: 7, p: 0.0336781100588365\n"
     ]
    },
    {
     "name": "stderr",
     "output_type": "stream",
     "text": [
      "C:\\Users\\jeff1\\Anaconda3\\lib\\site-packages\\statsmodels\\tsa\\base\\tsa_model.py:221: ValueWarning: An unsupported index was provided and will be ignored when e.g. forecasting.\n",
      "  ' ignored when e.g. forecasting.', ValueWarning)\n"
     ]
    },
    {
     "name": "stdout",
     "output_type": "stream",
     "text": [
      "predictions: [array([393564.72179736]), array([393300.56798584]), array([395054.92858764]), array([397623.10432449]), array([399517.87464566])]\n",
      "delta: 0, p: nan\n",
      "delta: 1, p: 0.23014796942691934\n",
      "delta: 2, p: 0.20043728442557845\n",
      "delta: 3, p: 0.32106821808296326\n",
      "delta: 4, p: 0.16243687619852692\n",
      "delta: 5, p: 0.3383196828810684\n",
      "delta: 6, p: 0.4417713617559675\n",
      "delta: 7, p: 0.03247078187376513\n"
     ]
    },
    {
     "name": "stderr",
     "output_type": "stream",
     "text": [
      "C:\\Users\\jeff1\\Anaconda3\\lib\\site-packages\\statsmodels\\tsa\\base\\tsa_model.py:221: ValueWarning: An unsupported index was provided and will be ignored when e.g. forecasting.\n",
      "  ' ignored when e.g. forecasting.', ValueWarning)\n"
     ]
    },
    {
     "name": "stdout",
     "output_type": "stream",
     "text": [
      "predictions: [array([393564.72179736]), array([393300.56798584]), array([395054.92858764]), array([397623.10432449]), array([399517.87464566]), array([402111.74755783])]\n",
      "delta: 0, p: nan\n",
      "delta: 1, p: 0.22937354493453943\n",
      "delta: 2, p: 0.18508106777322203\n",
      "delta: 3, p: 0.3226130546667305\n",
      "delta: 4, p: 0.14668046686099018\n",
      "delta: 5, p: 0.3466208968370008\n",
      "delta: 6, p: 0.46888757464468506\n",
      "delta: 7, p: 0.03270714474617561\n"
     ]
    },
    {
     "name": "stderr",
     "output_type": "stream",
     "text": [
      "C:\\Users\\jeff1\\Anaconda3\\lib\\site-packages\\statsmodels\\tsa\\base\\tsa_model.py:221: ValueWarning: An unsupported index was provided and will be ignored when e.g. forecasting.\n",
      "  ' ignored when e.g. forecasting.', ValueWarning)\n"
     ]
    },
    {
     "name": "stdout",
     "output_type": "stream",
     "text": [
      "predictions: [array([393564.72179736]), array([393300.56798584]), array([395054.92858764]), array([397623.10432449]), array([399517.87464566]), array([402111.74755783]), array([403134.19022547])]\n",
      "delta: 0, p: nan\n",
      "delta: 1, p: 0.2721663917908017\n",
      "delta: 2, p: 0.29291144291730276\n",
      "delta: 3, p: 0.06310371597566154\n",
      "delta: 4, p: 0.1934181203073368\n",
      "delta: 5, p: 0.009255329437098728\n"
     ]
    },
    {
     "name": "stderr",
     "output_type": "stream",
     "text": [
      "C:\\Users\\jeff1\\Anaconda3\\lib\\site-packages\\statsmodels\\tsa\\base\\tsa_model.py:221: ValueWarning: An unsupported index was provided and will be ignored when e.g. forecasting.\n",
      "  ' ignored when e.g. forecasting.', ValueWarning)\n"
     ]
    },
    {
     "name": "stdout",
     "output_type": "stream",
     "text": [
      "predictions: [array([594099.90361372])]\n",
      "delta: 0, p: nan\n",
      "delta: 1, p: 0.9987855414687671\n",
      "delta: 2, p: 0.9984146150792227\n",
      "delta: 3, p: 0.9630509713990678\n",
      "delta: 4, p: 0.9732448634306964\n",
      "delta: 5, p: 8.208613058654231e-14\n"
     ]
    },
    {
     "name": "stderr",
     "output_type": "stream",
     "text": [
      "C:\\Users\\jeff1\\Anaconda3\\lib\\site-packages\\statsmodels\\tsa\\base\\tsa_model.py:221: ValueWarning: An unsupported index was provided and will be ignored when e.g. forecasting.\n",
      "  ' ignored when e.g. forecasting.', ValueWarning)\n",
      "C:\\Users\\jeff1\\Anaconda3\\lib\\site-packages\\statsmodels\\base\\model.py:488: HessianInversionWarning: Inverting hessian failed, no bse or cov_params available\n",
      "  'available', HessianInversionWarning)\n",
      "C:\\Users\\jeff1\\Anaconda3\\lib\\site-packages\\statsmodels\\base\\model.py:508: ConvergenceWarning: Maximum Likelihood optimization failed to converge. Check mle_retvals\n",
      "  \"Check mle_retvals\", ConvergenceWarning)\n"
     ]
    },
    {
     "name": "stdout",
     "output_type": "stream",
     "text": [
      "predictions: [array([594099.90361372]), array([211574.58761011])]\n",
      "delta: 0, p: nan\n",
      "delta: 1, p: 0.942590403854169\n",
      "delta: 2, p: 0.8463534055450592\n",
      "delta: 3, p: 0.8914321748981469\n",
      "delta: 4, p: 0.926614652489094\n",
      "delta: 5, p: 0.6338644826772672\n",
      "delta: 6, p: 0.8483134626881279\n",
      "delta: 7, p: 4.310890934317004e-11\n"
     ]
    },
    {
     "name": "stderr",
     "output_type": "stream",
     "text": [
      "C:\\Users\\jeff1\\Anaconda3\\lib\\site-packages\\statsmodels\\tsa\\base\\tsa_model.py:221: ValueWarning: An unsupported index was provided and will be ignored when e.g. forecasting.\n",
      "  ' ignored when e.g. forecasting.', ValueWarning)\n"
     ]
    },
    {
     "name": "stdout",
     "output_type": "stream",
     "text": [
      "predictions: [array([594099.90361372]), array([211574.58761011]), array([215509.11606982])]\n",
      "delta: 0, p: nan\n",
      "delta: 1, p: 0.8773164320049324\n",
      "delta: 2, p: 0.5787523655462751\n",
      "delta: 3, p: 0.7467675871883717\n",
      "delta: 4, p: 0.6555113581748613\n",
      "delta: 5, p: 0.7072382174824\n",
      "delta: 6, p: 0.4667851948981706\n",
      "delta: 7, p: 0.43442061256077924\n",
      "delta: 8, p: 0.5661054845182742\n",
      "delta: 9, p: 0.7769628804319382\n",
      "delta: 0, p: nan\n",
      "bad condition 0: stationarity not adequate\n",
      "delta: 1, p: 0.8773164320049324\n"
     ]
    },
    {
     "name": "stderr",
     "output_type": "stream",
     "text": [
      "C:\\Users\\jeff1\\Anaconda3\\lib\\site-packages\\statsmodels\\tsa\\base\\tsa_model.py:221: ValueWarning: An unsupported index was provided and will be ignored when e.g. forecasting.\n",
      "  ' ignored when e.g. forecasting.', ValueWarning)\n",
      "C:\\Users\\jeff1\\Anaconda3\\lib\\site-packages\\statsmodels\\tsa\\base\\tsa_model.py:221: ValueWarning: An unsupported index was provided and will be ignored when e.g. forecasting.\n",
      "  ' ignored when e.g. forecasting.', ValueWarning)\n"
     ]
    },
    {
     "name": "stdout",
     "output_type": "stream",
     "text": [
      "bad condition 1: stationarity not adequate\n",
      "delta: 2, p: 0.5787523655462751\n"
     ]
    },
    {
     "name": "stderr",
     "output_type": "stream",
     "text": [
      "C:\\Users\\jeff1\\Anaconda3\\lib\\site-packages\\statsmodels\\tsa\\base\\tsa_model.py:221: ValueWarning: An unsupported index was provided and will be ignored when e.g. forecasting.\n",
      "  ' ignored when e.g. forecasting.', ValueWarning)\n"
     ]
    },
    {
     "name": "stdout",
     "output_type": "stream",
     "text": [
      "bad condition 2: stationarity not adequate\n",
      "delta: 3, p: 0.7467675871883717\n"
     ]
    },
    {
     "name": "stderr",
     "output_type": "stream",
     "text": [
      "C:\\Users\\jeff1\\Anaconda3\\lib\\site-packages\\statsmodels\\tsa\\base\\tsa_model.py:221: ValueWarning: An unsupported index was provided and will be ignored when e.g. forecasting.\n",
      "  ' ignored when e.g. forecasting.', ValueWarning)\n"
     ]
    },
    {
     "name": "stdout",
     "output_type": "stream",
     "text": [
      "predictions: [array([594099.90361372]), array([211574.58761011]), array([215509.11606982]), array([195772.1625599])]\n",
      "delta: 0, p: nan\n",
      "delta: 1, p: 5.879032982648061e-28\n"
     ]
    },
    {
     "name": "stderr",
     "output_type": "stream",
     "text": [
      "C:\\Users\\jeff1\\Anaconda3\\lib\\site-packages\\statsmodels\\tsa\\base\\tsa_model.py:221: ValueWarning: An unsupported index was provided and will be ignored when e.g. forecasting.\n",
      "  ' ignored when e.g. forecasting.', ValueWarning)\n"
     ]
    },
    {
     "name": "stdout",
     "output_type": "stream",
     "text": [
      "predictions: [array([594099.90361372]), array([211574.58761011]), array([215509.11606982]), array([195772.1625599]), array([335890.95510196])]\n",
      "delta: 0, p: nan\n",
      "delta: 1, p: 5.382221507282618e-28\n"
     ]
    },
    {
     "name": "stderr",
     "output_type": "stream",
     "text": [
      "C:\\Users\\jeff1\\Anaconda3\\lib\\site-packages\\statsmodels\\tsa\\base\\tsa_model.py:221: ValueWarning: An unsupported index was provided and will be ignored when e.g. forecasting.\n",
      "  ' ignored when e.g. forecasting.', ValueWarning)\n"
     ]
    },
    {
     "name": "stdout",
     "output_type": "stream",
     "text": [
      "predictions: [array([594099.90361372]), array([211574.58761011]), array([215509.11606982]), array([195772.1625599]), array([335890.95510196]), array([362554.19796036])]\n",
      "delta: 0, p: nan\n",
      "delta: 1, p: 4.9273961509762625e-28\n",
      "predictions: [array([594099.90361372]), array([211574.58761011]), array([215509.11606982]), array([195772.1625599]), array([335890.95510196]), array([362554.19796036]), array([402974.12358804])]\n",
      "delta: 0, p: nan\n",
      "delta: 1, p: 0.2510367750382859\n"
     ]
    },
    {
     "name": "stderr",
     "output_type": "stream",
     "text": [
      "C:\\Users\\jeff1\\Anaconda3\\lib\\site-packages\\statsmodels\\tsa\\base\\tsa_model.py:221: ValueWarning: An unsupported index was provided and will be ignored when e.g. forecasting.\n",
      "  ' ignored when e.g. forecasting.', ValueWarning)\n"
     ]
    },
    {
     "name": "stdout",
     "output_type": "stream",
     "text": [
      "delta: 2, p: 0.03427572384565644\n"
     ]
    },
    {
     "name": "stderr",
     "output_type": "stream",
     "text": [
      "C:\\Users\\jeff1\\Anaconda3\\lib\\site-packages\\statsmodels\\tsa\\base\\tsa_model.py:221: ValueWarning: An unsupported index was provided and will be ignored when e.g. forecasting.\n",
      "  ' ignored when e.g. forecasting.', ValueWarning)\n"
     ]
    },
    {
     "name": "stdout",
     "output_type": "stream",
     "text": [
      "predictions: [array([436299.60773249])]\n",
      "delta: 0, p: nan\n",
      "delta: 1, p: 0.854037397114028\n",
      "delta: 2, p: 0.9073239624867269\n",
      "delta: 3, p: 0.427405195821971\n",
      "delta: 4, p: 0.4712949445134221\n",
      "delta: 5, p: 0.2533613610697387\n",
      "delta: 6, p: 0.1034696614207199\n",
      "delta: 7, p: 0.027658390669401983\n"
     ]
    },
    {
     "name": "stderr",
     "output_type": "stream",
     "text": [
      "C:\\Users\\jeff1\\Anaconda3\\lib\\site-packages\\statsmodels\\tsa\\base\\tsa_model.py:221: ValueWarning: An unsupported index was provided and will be ignored when e.g. forecasting.\n",
      "  ' ignored when e.g. forecasting.', ValueWarning)\n"
     ]
    },
    {
     "name": "stdout",
     "output_type": "stream",
     "text": [
      "predictions: [array([436299.60773249]), array([384501.80928624])]\n",
      "delta: 0, p: nan\n",
      "delta: 1, p: 0.6571207681147742\n",
      "delta: 2, p: 0.09316674487967569\n",
      "delta: 3, p: 0.08627141948561234\n",
      "delta: 4, p: 0.047599104152480046\n"
     ]
    },
    {
     "name": "stderr",
     "output_type": "stream",
     "text": [
      "C:\\Users\\jeff1\\Anaconda3\\lib\\site-packages\\statsmodels\\tsa\\base\\tsa_model.py:221: ValueWarning: An unsupported index was provided and will be ignored when e.g. forecasting.\n",
      "  ' ignored when e.g. forecasting.', ValueWarning)\n"
     ]
    },
    {
     "name": "stdout",
     "output_type": "stream",
     "text": [
      "predictions: [array([436299.60773249]), array([384501.80928624]), array([385289.22430758])]\n",
      "delta: 0, p: nan\n",
      "delta: 1, p: 0.5324567740121551\n",
      "delta: 2, p: 0.5728431884942125\n",
      "delta: 3, p: 0.05887531466193046\n",
      "delta: 4, p: 0.020496657357682257\n"
     ]
    },
    {
     "name": "stderr",
     "output_type": "stream",
     "text": [
      "C:\\Users\\jeff1\\Anaconda3\\lib\\site-packages\\statsmodels\\tsa\\base\\tsa_model.py:221: ValueWarning: An unsupported index was provided and will be ignored when e.g. forecasting.\n",
      "  ' ignored when e.g. forecasting.', ValueWarning)\n"
     ]
    },
    {
     "name": "stdout",
     "output_type": "stream",
     "text": [
      "predictions: [array([436299.60773249]), array([384501.80928624]), array([385289.22430758]), array([405329.29087458])]\n",
      "delta: 0, p: nan\n",
      "delta: 1, p: 0.4398738590465438\n",
      "delta: 2, p: 0.03467949497126221\n"
     ]
    },
    {
     "name": "stderr",
     "output_type": "stream",
     "text": [
      "C:\\Users\\jeff1\\Anaconda3\\lib\\site-packages\\statsmodels\\tsa\\base\\tsa_model.py:221: ValueWarning: An unsupported index was provided and will be ignored when e.g. forecasting.\n",
      "  ' ignored when e.g. forecasting.', ValueWarning)\n"
     ]
    },
    {
     "name": "stdout",
     "output_type": "stream",
     "text": [
      "predictions: [array([436299.60773249]), array([384501.80928624]), array([385289.22430758]), array([405329.29087458]), array([381148.71670553])]\n",
      "delta: 0, p: nan\n",
      "delta: 1, p: 0.4016696224064017\n",
      "delta: 2, p: 0.026043080778111464\n"
     ]
    },
    {
     "name": "stderr",
     "output_type": "stream",
     "text": [
      "C:\\Users\\jeff1\\Anaconda3\\lib\\site-packages\\statsmodels\\tsa\\base\\tsa_model.py:221: ValueWarning: An unsupported index was provided and will be ignored when e.g. forecasting.\n",
      "  ' ignored when e.g. forecasting.', ValueWarning)\n"
     ]
    },
    {
     "name": "stdout",
     "output_type": "stream",
     "text": [
      "predictions: [array([436299.60773249]), array([384501.80928624]), array([385289.22430758]), array([405329.29087458]), array([381148.71670553]), array([415902.0562505])]\n",
      "delta: 0, p: nan\n",
      "delta: 1, p: 0.3518551212313147\n",
      "delta: 2, p: 0.36980770761257326\n",
      "delta: 3, p: 0.02589935931796042\n"
     ]
    },
    {
     "name": "stderr",
     "output_type": "stream",
     "text": [
      "C:\\Users\\jeff1\\Anaconda3\\lib\\site-packages\\statsmodels\\tsa\\base\\tsa_model.py:221: ValueWarning: An unsupported index was provided and will be ignored when e.g. forecasting.\n",
      "  ' ignored when e.g. forecasting.', ValueWarning)\n"
     ]
    },
    {
     "name": "stdout",
     "output_type": "stream",
     "text": [
      "predictions: [array([436299.60773249]), array([384501.80928624]), array([385289.22430758]), array([405329.29087458]), array([381148.71670553]), array([415902.0562505]), array([380053.95443754])]\n",
      "delta: 0, p: nan\n",
      "delta: 1, p: 0.15966519011875585\n",
      "delta: 2, p: 0.11738535929668353\n",
      "delta: 3, p: 0.12527464965048923\n",
      "delta: 4, p: 0.00955922728681996\n"
     ]
    },
    {
     "name": "stderr",
     "output_type": "stream",
     "text": [
      "C:\\Users\\jeff1\\Anaconda3\\lib\\site-packages\\statsmodels\\tsa\\base\\tsa_model.py:221: ValueWarning: An unsupported index was provided and will be ignored when e.g. forecasting.\n",
      "  ' ignored when e.g. forecasting.', ValueWarning)\n",
      "C:\\Users\\jeff1\\Anaconda3\\lib\\site-packages\\statsmodels\\base\\model.py:488: HessianInversionWarning: Inverting hessian failed, no bse or cov_params available\n",
      "  'available', HessianInversionWarning)\n",
      "C:\\Users\\jeff1\\Anaconda3\\lib\\site-packages\\statsmodels\\tsa\\base\\tsa_model.py:221: ValueWarning: An unsupported index was provided and will be ignored when e.g. forecasting.\n",
      "  ' ignored when e.g. forecasting.', ValueWarning)\n"
     ]
    },
    {
     "name": "stdout",
     "output_type": "stream",
     "text": [
      "predictions: [array([683548.61413331])]\n",
      "delta: 0, p: nan\n",
      "delta: 1, p: 0.9831602944821368\n",
      "delta: 2, p: 0.9644521952542309\n",
      "delta: 3, p: 0.9051061983078086\n",
      "delta: 4, p: 1.3528946763936872e-26\n",
      "bad condition 4: stationarity not adequate\n",
      "delta: 5, p: 1.4281659075797083e-14\n"
     ]
    },
    {
     "name": "stderr",
     "output_type": "stream",
     "text": [
      "C:\\Users\\jeff1\\Anaconda3\\lib\\site-packages\\statsmodels\\tsa\\base\\tsa_model.py:221: ValueWarning: An unsupported index was provided and will be ignored when e.g. forecasting.\n",
      "  ' ignored when e.g. forecasting.', ValueWarning)\n"
     ]
    },
    {
     "name": "stdout",
     "output_type": "stream",
     "text": [
      "predictions: [array([683548.61413331]), array([219138.8489596])]\n",
      "delta: 0, p: nan\n",
      "delta: 1, p: 0.652559738239133\n",
      "delta: 2, p: 0.06014820692035523\n",
      "delta: 3, p: 0.8012582265137911\n",
      "delta: 4, p: 0.8450888946454166\n",
      "delta: 5, p: 0.30436202579392535\n",
      "delta: 6, p: 0.8368214366610349\n",
      "delta: 7, p: 1.0778196077858304e-17\n"
     ]
    },
    {
     "name": "stderr",
     "output_type": "stream",
     "text": [
      "C:\\Users\\jeff1\\Anaconda3\\lib\\site-packages\\statsmodels\\tsa\\base\\tsa_model.py:221: ValueWarning: An unsupported index was provided and will be ignored when e.g. forecasting.\n",
      "  ' ignored when e.g. forecasting.', ValueWarning)\n"
     ]
    },
    {
     "name": "stdout",
     "output_type": "stream",
     "text": [
      "predictions: [array([683548.61413331]), array([219138.8489596]), array([191103.34653839])]\n",
      "delta: 0, p: nan\n",
      "delta: 1, p: 1.5204878328470326e-28\n"
     ]
    },
    {
     "name": "stderr",
     "output_type": "stream",
     "text": [
      "C:\\Users\\jeff1\\Anaconda3\\lib\\site-packages\\statsmodels\\tsa\\base\\tsa_model.py:221: ValueWarning: An unsupported index was provided and will be ignored when e.g. forecasting.\n",
      "  ' ignored when e.g. forecasting.', ValueWarning)\n",
      "C:\\Users\\jeff1\\Anaconda3\\lib\\site-packages\\statsmodels\\base\\model.py:488: HessianInversionWarning: Inverting hessian failed, no bse or cov_params available\n",
      "  'available', HessianInversionWarning)\n",
      "C:\\Users\\jeff1\\Anaconda3\\lib\\site-packages\\statsmodels\\base\\model.py:508: ConvergenceWarning: Maximum Likelihood optimization failed to converge. Check mle_retvals\n",
      "  \"Check mle_retvals\", ConvergenceWarning)\n",
      "C:\\Users\\jeff1\\Anaconda3\\lib\\site-packages\\statsmodels\\tsa\\base\\tsa_model.py:221: ValueWarning: An unsupported index was provided and will be ignored when e.g. forecasting.\n",
      "  ' ignored when e.g. forecasting.', ValueWarning)\n"
     ]
    },
    {
     "name": "stdout",
     "output_type": "stream",
     "text": [
      "predictions: [array([683548.61413331]), array([219138.8489596]), array([191103.34653839]), array([330676.22994832])]\n",
      "delta: 0, p: nan\n",
      "delta: 1, p: 1.4057947027350766e-28\n",
      "predictions: [array([683548.61413331]), array([219138.8489596]), array([191103.34653839]), array([330676.22994832]), array([427219.10433289])]\n",
      "delta: 0, p: nan\n",
      "delta: 1, p: 1.2978385075220306e-28\n"
     ]
    },
    {
     "name": "stderr",
     "output_type": "stream",
     "text": [
      "C:\\Users\\jeff1\\Anaconda3\\lib\\site-packages\\statsmodels\\tsa\\base\\tsa_model.py:221: ValueWarning: An unsupported index was provided and will be ignored when e.g. forecasting.\n",
      "  ' ignored when e.g. forecasting.', ValueWarning)\n"
     ]
    },
    {
     "name": "stdout",
     "output_type": "stream",
     "text": [
      "predictions: [array([683548.61413331]), array([219138.8489596]), array([191103.34653839]), array([330676.22994832]), array([427219.10433289]), array([367647.6291508])]\n",
      "delta: 0, p: nan\n",
      "delta: 1, p: 1.1986804413214464e-28\n",
      "predictions: [array([683548.61413331]), array([219138.8489596]), array([191103.34653839]), array([330676.22994832]), array([427219.10433289]), array([367647.6291508]), array([402790.75337616])]\n"
     ]
    },
    {
     "name": "stderr",
     "output_type": "stream",
     "text": [
      "C:\\Users\\jeff1\\Anaconda3\\lib\\site-packages\\statsmodels\\tsa\\base\\tsa_model.py:221: ValueWarning: An unsupported index was provided and will be ignored when e.g. forecasting.\n",
      "  ' ignored when e.g. forecasting.', ValueWarning)\n"
     ]
    },
    {
     "name": "stdout",
     "output_type": "stream",
     "text": [
      "delta: 0, p: nan\n",
      "delta: 1, p: 0.47719776979757067\n",
      "delta: 2, p: 0.5355260207720766\n",
      "delta: 3, p: 0.2581488383230631\n",
      "delta: 4, p: 0.1018258592744864\n",
      "delta: 5, p: 0.14639659688640277\n",
      "delta: 6, p: 0.24221814725939073\n",
      "delta: 7, p: 0.0009039123421667875\n"
     ]
    },
    {
     "name": "stderr",
     "output_type": "stream",
     "text": [
      "C:\\Users\\jeff1\\Anaconda3\\lib\\site-packages\\statsmodels\\tsa\\base\\tsa_model.py:221: ValueWarning: An unsupported index was provided and will be ignored when e.g. forecasting.\n",
      "  ' ignored when e.g. forecasting.', ValueWarning)\n"
     ]
    },
    {
     "name": "stdout",
     "output_type": "stream",
     "text": [
      "predictions: [array([917217.8159676])]\n",
      "delta: 0, p: nan\n",
      "delta: 1, p: 0.9019681904300254\n",
      "delta: 2, p: 0.9224027074078589\n",
      "delta: 3, p: 0.9377222789732093\n",
      "delta: 4, p: 0.8892118581530819\n",
      "delta: 5, p: 0.9513861832021469\n",
      "delta: 6, p: 0.890411762289377\n",
      "delta: 7, p: 0.8038937874529108\n",
      "delta: 8, p: 0.7880848687952353\n",
      "delta: 9, p: 0.8559949078575209\n",
      "delta: 0, p: nan\n",
      "bad condition 0: stationarity not adequate\n",
      "delta: 1, p: 0.9019681904300254\n"
     ]
    },
    {
     "name": "stderr",
     "output_type": "stream",
     "text": [
      "C:\\Users\\jeff1\\Anaconda3\\lib\\site-packages\\statsmodels\\tsa\\base\\tsa_model.py:221: ValueWarning: An unsupported index was provided and will be ignored when e.g. forecasting.\n",
      "  ' ignored when e.g. forecasting.', ValueWarning)\n",
      "C:\\Users\\jeff1\\Anaconda3\\lib\\site-packages\\statsmodels\\tsa\\base\\tsa_model.py:221: ValueWarning: An unsupported index was provided and will be ignored when e.g. forecasting.\n",
      "  ' ignored when e.g. forecasting.', ValueWarning)\n"
     ]
    },
    {
     "name": "stdout",
     "output_type": "stream",
     "text": [
      "bad condition 1: stationarity not adequate\n",
      "delta: 2, p: 0.9224027074078589\n"
     ]
    },
    {
     "name": "stderr",
     "output_type": "stream",
     "text": [
      "C:\\Users\\jeff1\\Anaconda3\\lib\\site-packages\\statsmodels\\tsa\\base\\tsa_model.py:221: ValueWarning: An unsupported index was provided and will be ignored when e.g. forecasting.\n",
      "  ' ignored when e.g. forecasting.', ValueWarning)\n"
     ]
    },
    {
     "name": "stdout",
     "output_type": "stream",
     "text": [
      "bad condition 2: stationarity not adequate\n",
      "delta: 3, p: 0.9377222789732093\n"
     ]
    },
    {
     "name": "stderr",
     "output_type": "stream",
     "text": [
      "C:\\Users\\jeff1\\Anaconda3\\lib\\site-packages\\statsmodels\\tsa\\base\\tsa_model.py:221: ValueWarning: An unsupported index was provided and will be ignored when e.g. forecasting.\n",
      "  ' ignored when e.g. forecasting.', ValueWarning)\n",
      "C:\\Users\\jeff1\\Anaconda3\\lib\\site-packages\\statsmodels\\base\\model.py:488: HessianInversionWarning: Inverting hessian failed, no bse or cov_params available\n",
      "  'available', HessianInversionWarning)\n"
     ]
    },
    {
     "name": "stdout",
     "output_type": "stream",
     "text": [
      "predictions: [array([917217.8159676]), array([-707070.30200786])]\n",
      "delta: 0, p: nan\n",
      "delta: 1, p: 0.9207805350922782\n",
      "delta: 2, p: 0.9218476225088149\n",
      "delta: 3, p: 0.9366805737868179\n",
      "delta: 4, p: 0.9009454298344494\n",
      "delta: 5, p: 0.9295024080120472\n",
      "delta: 6, p: 0.7966265748316905\n",
      "delta: 7, p: 0.863379443691601\n",
      "delta: 8, p: 0.3493600610580443\n",
      "delta: 9, p: 0.7502286114046123\n",
      "delta: 0, p: nan\n",
      "bad condition 0: stationarity not adequate\n",
      "delta: 1, p: 0.9207805350922782\n"
     ]
    },
    {
     "name": "stderr",
     "output_type": "stream",
     "text": [
      "C:\\Users\\jeff1\\Anaconda3\\lib\\site-packages\\statsmodels\\tsa\\base\\tsa_model.py:221: ValueWarning: An unsupported index was provided and will be ignored when e.g. forecasting.\n",
      "  ' ignored when e.g. forecasting.', ValueWarning)\n",
      "C:\\Users\\jeff1\\Anaconda3\\lib\\site-packages\\statsmodels\\tsa\\base\\tsa_model.py:221: ValueWarning: An unsupported index was provided and will be ignored when e.g. forecasting.\n",
      "  ' ignored when e.g. forecasting.', ValueWarning)\n",
      "C:\\Users\\jeff1\\Anaconda3\\lib\\site-packages\\statsmodels\\base\\model.py:488: HessianInversionWarning: Inverting hessian failed, no bse or cov_params available\n",
      "  'available', HessianInversionWarning)\n"
     ]
    },
    {
     "name": "stdout",
     "output_type": "stream",
     "text": [
      "predictions: [array([917217.8159676]), array([-707070.30200786]), array([-108931.71662918])]\n",
      "delta: 0, p: nan\n",
      "delta: 1, p: 0.8832936589474095\n",
      "delta: 2, p: 0.9037015059859249\n",
      "delta: 3, p: 0.9176785252232875\n",
      "delta: 4, p: 0.877508982893388\n",
      "delta: 5, p: 0.9223105096087019\n",
      "delta: 6, p: 0.9377075422879997\n",
      "delta: 7, p: 0.9547645969659991\n",
      "delta: 8, p: 0.1793579649389095\n",
      "delta: 9, p: 0.8947145961709604\n",
      "delta: 0, p: nan\n",
      "bad condition 0: stationarity not adequate\n",
      "delta: 1, p: 0.8832936589474095\n"
     ]
    },
    {
     "name": "stderr",
     "output_type": "stream",
     "text": [
      "C:\\Users\\jeff1\\Anaconda3\\lib\\site-packages\\statsmodels\\tsa\\base\\tsa_model.py:221: ValueWarning: An unsupported index was provided and will be ignored when e.g. forecasting.\n",
      "  ' ignored when e.g. forecasting.', ValueWarning)\n",
      "C:\\Users\\jeff1\\Anaconda3\\lib\\site-packages\\statsmodels\\tsa\\base\\tsa_model.py:221: ValueWarning: An unsupported index was provided and will be ignored when e.g. forecasting.\n",
      "  ' ignored when e.g. forecasting.', ValueWarning)\n"
     ]
    },
    {
     "name": "stdout",
     "output_type": "stream",
     "text": [
      "predictions: [array([917217.8159676]), array([-707070.30200786]), array([-108931.71662918]), array([377792.23218374])]\n",
      "delta: 0, p: nan\n",
      "delta: 1, p: 0.8971350023562171\n",
      "delta: 2, p: 0.8822737392052843\n",
      "delta: 3, p: 0.893195519324022\n",
      "delta: 4, p: 0.833365751857998\n",
      "delta: 5, p: 0.8982855186091614\n",
      "delta: 6, p: 0.8839220509470487\n",
      "delta: 7, p: 0.9601927694688439\n",
      "delta: 8, p: 0.4192005760178925\n",
      "delta: 9, p: 0.9301586680836593\n",
      "delta: 0, p: nan\n",
      "bad condition 0: stationarity not adequate\n",
      "delta: 1, p: 0.8971350023562171\n"
     ]
    },
    {
     "name": "stderr",
     "output_type": "stream",
     "text": [
      "C:\\Users\\jeff1\\Anaconda3\\lib\\site-packages\\statsmodels\\tsa\\base\\tsa_model.py:221: ValueWarning: An unsupported index was provided and will be ignored when e.g. forecasting.\n",
      "  ' ignored when e.g. forecasting.', ValueWarning)\n",
      "C:\\Users\\jeff1\\Anaconda3\\lib\\site-packages\\statsmodels\\tsa\\base\\tsa_model.py:221: ValueWarning: An unsupported index was provided and will be ignored when e.g. forecasting.\n",
      "  ' ignored when e.g. forecasting.', ValueWarning)\n"
     ]
    },
    {
     "name": "stdout",
     "output_type": "stream",
     "text": [
      "predictions: [array([917217.8159676]), array([-707070.30200786]), array([-108931.71662918]), array([377792.23218374]), array([399795.14613147])]\n",
      "delta: 0, p: nan\n",
      "delta: 1, p: 0.9160654123309144\n",
      "delta: 2, p: 0.8781361313852338\n",
      "delta: 3, p: 0.9056400434631967\n",
      "delta: 4, p: 0.8885830406305951\n",
      "delta: 5, p: 0.8442954822894926\n",
      "delta: 6, p: 0.873993387216665\n",
      "delta: 7, p: 0.8446296654187772\n",
      "delta: 8, p: 0.7222541921422294\n",
      "delta: 9, p: 0.9107246729729401\n",
      "delta: 0, p: nan\n",
      "bad condition 0: stationarity not adequate\n",
      "delta: 1, p: 0.9160654123309144\n",
      "predictions: [array([917217.8159676]), array([-707070.30200786]), array([-108931.71662918]), array([377792.23218374]), array([399795.14613147]), array([350591.2991072])]\n",
      "delta: 0, p: nan\n",
      "delta: 1, p: 0.7700181095808809\n",
      "delta: 2, p: 0.7367092346878834\n"
     ]
    },
    {
     "name": "stderr",
     "output_type": "stream",
     "text": [
      "C:\\Users\\jeff1\\Anaconda3\\lib\\site-packages\\statsmodels\\tsa\\base\\tsa_model.py:221: ValueWarning: An unsupported index was provided and will be ignored when e.g. forecasting.\n",
      "  ' ignored when e.g. forecasting.', ValueWarning)\n",
      "C:\\Users\\jeff1\\Anaconda3\\lib\\site-packages\\statsmodels\\tsa\\base\\tsa_model.py:221: ValueWarning: An unsupported index was provided and will be ignored when e.g. forecasting.\n",
      "  ' ignored when e.g. forecasting.', ValueWarning)\n"
     ]
    },
    {
     "name": "stdout",
     "output_type": "stream",
     "text": [
      "delta: 3, p: 0.8361665368220415\n",
      "delta: 4, p: 0.8342386205022212\n",
      "delta: 5, p: 0.880504714254013\n",
      "delta: 6, p: 0.803564211488202\n",
      "delta: 7, p: 0.850967698888456\n",
      "delta: 8, p: 0.7536912906811307\n",
      "delta: 9, p: 0.81700517009072\n",
      "delta: 0, p: nan\n",
      "bad condition 0: stationarity not adequate\n",
      "delta: 1, p: 0.7700181095808809\n"
     ]
    },
    {
     "name": "stderr",
     "output_type": "stream",
     "text": [
      "C:\\Users\\jeff1\\Anaconda3\\lib\\site-packages\\statsmodels\\tsa\\base\\tsa_model.py:221: ValueWarning: An unsupported index was provided and will be ignored when e.g. forecasting.\n",
      "  ' ignored when e.g. forecasting.', ValueWarning)\n",
      "C:\\Users\\jeff1\\Anaconda3\\lib\\site-packages\\statsmodels\\tsa\\base\\tsa_model.py:221: ValueWarning: An unsupported index was provided and will be ignored when e.g. forecasting.\n",
      "  ' ignored when e.g. forecasting.', ValueWarning)\n"
     ]
    },
    {
     "name": "stdout",
     "output_type": "stream",
     "text": [
      "predictions: [array([917217.8159676]), array([-707070.30200786]), array([-108931.71662918]), array([377792.23218374]), array([399795.14613147]), array([350591.2991072]), array([402376.40646455])]\n",
      "delta: 0, p: nan\n",
      "delta: 1, p: 0.37004832541223676\n",
      "delta: 2, p: 0.0921698688055182\n",
      "delta: 3, p: 0.08392283954006263\n",
      "delta: 4, p: 0.2758400805596695\n",
      "delta: 5, p: 0.14094068139001759\n",
      "delta: 6, p: 0.13863311675597956\n",
      "delta: 7, p: 0.012887682293531598\n"
     ]
    },
    {
     "name": "stderr",
     "output_type": "stream",
     "text": [
      "C:\\Users\\jeff1\\Anaconda3\\lib\\site-packages\\statsmodels\\tsa\\base\\tsa_model.py:221: ValueWarning: An unsupported index was provided and will be ignored when e.g. forecasting.\n",
      "  ' ignored when e.g. forecasting.', ValueWarning)\n"
     ]
    },
    {
     "name": "stdout",
     "output_type": "stream",
     "text": [
      "predictions: [array([445531.50093426])]\n",
      "delta: 0, p: nan\n",
      "delta: 1, p: 0.9054706973646904\n",
      "delta: 2, p: 0.6772824971909486\n",
      "delta: 3, p: 0.6156953026034596\n",
      "delta: 4, p: 0.6381968730310801\n",
      "delta: 5, p: 0.5704088259065588\n",
      "delta: 6, p: 0.1730055919585946\n",
      "delta: 7, p: 0.15882782002415796\n",
      "delta: 8, p: 0.5622556537025589\n",
      "delta: 9, p: 7.111788798583667e-25\n"
     ]
    },
    {
     "name": "stderr",
     "output_type": "stream",
     "text": [
      "C:\\Users\\jeff1\\Anaconda3\\lib\\site-packages\\statsmodels\\tsa\\base\\tsa_model.py:221: ValueWarning: An unsupported index was provided and will be ignored when e.g. forecasting.\n",
      "  ' ignored when e.g. forecasting.', ValueWarning)\n"
     ]
    },
    {
     "name": "stdout",
     "output_type": "stream",
     "text": [
      "predictions: [array([445531.50093426]), array([378970.77456904])]\n",
      "delta: 0, p: nan\n",
      "delta: 1, p: 0.8133045348633552\n",
      "delta: 2, p: 0.3039375441887999\n",
      "delta: 3, p: 0.2351195681822838\n",
      "delta: 4, p: 0.23236756178015178\n",
      "delta: 5, p: 0.19695575786906383\n",
      "delta: 6, p: 0.023665485898808666\n"
     ]
    },
    {
     "name": "stderr",
     "output_type": "stream",
     "text": [
      "C:\\Users\\jeff1\\Anaconda3\\lib\\site-packages\\statsmodels\\tsa\\base\\tsa_model.py:221: ValueWarning: An unsupported index was provided and will be ignored when e.g. forecasting.\n",
      "  ' ignored when e.g. forecasting.', ValueWarning)\n"
     ]
    },
    {
     "name": "stdout",
     "output_type": "stream",
     "text": [
      "predictions: [array([445531.50093426]), array([378970.77456904]), array([379661.58017456])]\n",
      "delta: 0, p: nan\n",
      "delta: 1, p: 0.731063876989153\n",
      "delta: 2, p: 0.18179625522440374\n",
      "delta: 3, p: 0.7610579007253611\n",
      "delta: 4, p: 0.09655761565414084\n",
      "delta: 5, p: 0.10690298578423191\n",
      "delta: 6, p: 0.015228801519922319\n"
     ]
    },
    {
     "name": "stderr",
     "output_type": "stream",
     "text": [
      "C:\\Users\\jeff1\\Anaconda3\\lib\\site-packages\\statsmodels\\tsa\\base\\tsa_model.py:221: ValueWarning: An unsupported index was provided and will be ignored when e.g. forecasting.\n",
      "  ' ignored when e.g. forecasting.', ValueWarning)\n"
     ]
    },
    {
     "name": "stdout",
     "output_type": "stream",
     "text": [
      "predictions: [array([445531.50093426]), array([378970.77456904]), array([379661.58017456]), array([381617.12135565])]\n",
      "delta: 0, p: nan\n",
      "delta: 1, p: 0.6367201074497537\n",
      "delta: 2, p: 0.14029132007272838\n",
      "delta: 3, p: 0.6634956707134949\n",
      "delta: 4, p: 0.08578323905176882\n",
      "delta: 5, p: 0.08250279120993947\n",
      "delta: 6, p: 0.01924380693284133\n"
     ]
    },
    {
     "name": "stderr",
     "output_type": "stream",
     "text": [
      "C:\\Users\\jeff1\\Anaconda3\\lib\\site-packages\\statsmodels\\tsa\\base\\tsa_model.py:221: ValueWarning: An unsupported index was provided and will be ignored when e.g. forecasting.\n",
      "  ' ignored when e.g. forecasting.', ValueWarning)\n"
     ]
    },
    {
     "name": "stdout",
     "output_type": "stream",
     "text": [
      "predictions: [array([445531.50093426]), array([378970.77456904]), array([379661.58017456]), array([381617.12135565]), array([386260.52385935])]\n",
      "delta: 0, p: nan\n",
      "delta: 1, p: 0.5495423692336666\n",
      "delta: 2, p: 0.07035788951858947\n",
      "delta: 3, p: 0.061509101132750585\n",
      "delta: 4, p: 0.04332986533887086\n"
     ]
    },
    {
     "name": "stderr",
     "output_type": "stream",
     "text": [
      "C:\\Users\\jeff1\\Anaconda3\\lib\\site-packages\\statsmodels\\tsa\\base\\tsa_model.py:221: ValueWarning: An unsupported index was provided and will be ignored when e.g. forecasting.\n",
      "  ' ignored when e.g. forecasting.', ValueWarning)\n"
     ]
    },
    {
     "name": "stdout",
     "output_type": "stream",
     "text": [
      "predictions: [array([445531.50093426]), array([378970.77456904]), array([379661.58017456]), array([381617.12135565]), array([386260.52385935]), array([408556.00080767])]\n",
      "delta: 0, p: nan\n",
      "delta: 1, p: 0.45133305088477293\n",
      "delta: 2, p: 0.06067549895895844\n",
      "delta: 3, p: 0.48697992038470234\n",
      "delta: 4, p: 0.0677363303645693\n",
      "delta: 5, p: 0.04363314700795513\n"
     ]
    },
    {
     "name": "stderr",
     "output_type": "stream",
     "text": [
      "C:\\Users\\jeff1\\Anaconda3\\lib\\site-packages\\statsmodels\\tsa\\base\\tsa_model.py:221: ValueWarning: An unsupported index was provided and will be ignored when e.g. forecasting.\n",
      "  ' ignored when e.g. forecasting.', ValueWarning)\n"
     ]
    },
    {
     "name": "stdout",
     "output_type": "stream",
     "text": [
      "predictions: [array([445531.50093426]), array([378970.77456904]), array([379661.58017456]), array([381617.12135565]), array([386260.52385935]), array([408556.00080767]), array([412250.49348924])]\n",
      "delta: 0, p: nan\n",
      "delta: 1, p: 0.3561390990269889\n",
      "delta: 2, p: 0.367912612427272\n",
      "delta: 3, p: 0.3276326592810132\n",
      "delta: 4, p: 0.29348236510690795\n",
      "delta: 5, p: 0.23776552722312239\n",
      "delta: 6, p: 0.321219397053129\n",
      "delta: 7, p: 0.21467065544505515\n",
      "delta: 8, p: 0.019708136602432202\n"
     ]
    },
    {
     "name": "stderr",
     "output_type": "stream",
     "text": [
      "C:\\Users\\jeff1\\Anaconda3\\lib\\site-packages\\statsmodels\\tsa\\base\\tsa_model.py:221: ValueWarning: An unsupported index was provided and will be ignored when e.g. forecasting.\n",
      "  ' ignored when e.g. forecasting.', ValueWarning)\n"
     ]
    },
    {
     "name": "stdout",
     "output_type": "stream",
     "text": [
      "predictions: [array([378989.72752514])]\n",
      "delta: 0, p: nan\n",
      "delta: 1, p: 0.7441841908474192\n",
      "delta: 2, p: 0.8185237957146154\n",
      "delta: 3, p: 0.5756905361196067\n",
      "delta: 4, p: 0.8248549647885846\n",
      "delta: 5, p: 0.48735137884474533\n",
      "delta: 6, p: 0.7587812172723044\n",
      "delta: 7, p: 0.6062555737182862\n",
      "delta: 8, p: 0.22979451300700465\n",
      "delta: 9, p: 0.9071083131314459\n",
      "delta: 0, p: nan\n",
      "bad condition 0: stationarity not adequate\n",
      "delta: 1, p: 0.7441841908474192\n"
     ]
    },
    {
     "name": "stderr",
     "output_type": "stream",
     "text": [
      "C:\\Users\\jeff1\\Anaconda3\\lib\\site-packages\\statsmodels\\tsa\\base\\tsa_model.py:221: ValueWarning: An unsupported index was provided and will be ignored when e.g. forecasting.\n",
      "  ' ignored when e.g. forecasting.', ValueWarning)\n",
      "C:\\Users\\jeff1\\Anaconda3\\lib\\site-packages\\statsmodels\\tsa\\base\\tsa_model.py:221: ValueWarning: An unsupported index was provided and will be ignored when e.g. forecasting.\n",
      "  ' ignored when e.g. forecasting.', ValueWarning)\n"
     ]
    },
    {
     "name": "stdout",
     "output_type": "stream",
     "text": [
      "predictions: [array([378989.72752514]), array([411432.9653467])]\n",
      "delta: 0, p: nan\n",
      "delta: 1, p: 0.08025057918125705\n",
      "delta: 2, p: 0.011319165075218083\n"
     ]
    },
    {
     "name": "stderr",
     "output_type": "stream",
     "text": [
      "C:\\Users\\jeff1\\Anaconda3\\lib\\site-packages\\statsmodels\\tsa\\base\\tsa_model.py:221: ValueWarning: An unsupported index was provided and will be ignored when e.g. forecasting.\n",
      "  ' ignored when e.g. forecasting.', ValueWarning)\n"
     ]
    },
    {
     "name": "stdout",
     "output_type": "stream",
     "text": [
      "predictions: [array([378989.72752514]), array([411432.9653467]), array([400232.31314571])]\n",
      "delta: 0, p: nan\n",
      "delta: 1, p: 0.057000749117731626\n",
      "delta: 2, p: 0.006001411014319082\n"
     ]
    },
    {
     "name": "stderr",
     "output_type": "stream",
     "text": [
      "C:\\Users\\jeff1\\Anaconda3\\lib\\site-packages\\statsmodels\\tsa\\base\\tsa_model.py:221: ValueWarning: An unsupported index was provided and will be ignored when e.g. forecasting.\n",
      "  ' ignored when e.g. forecasting.', ValueWarning)\n"
     ]
    },
    {
     "name": "stdout",
     "output_type": "stream",
     "text": [
      "predictions: [array([378989.72752514]), array([411432.9653467]), array([400232.31314571]), array([390458.14467167])]\n",
      "delta: 0, p: nan\n",
      "delta: 1, p: 0.18680378714822032\n",
      "delta: 2, p: 0.15739968210669125\n",
      "delta: 3, p: 0.4808132639477507\n",
      "delta: 4, p: 0.33682651715414214\n",
      "delta: 5, p: 0.03899778648938988\n"
     ]
    },
    {
     "name": "stderr",
     "output_type": "stream",
     "text": [
      "C:\\Users\\jeff1\\Anaconda3\\lib\\site-packages\\statsmodels\\tsa\\base\\tsa_model.py:221: ValueWarning: An unsupported index was provided and will be ignored when e.g. forecasting.\n",
      "  ' ignored when e.g. forecasting.', ValueWarning)\n"
     ]
    },
    {
     "name": "stdout",
     "output_type": "stream",
     "text": [
      "predictions: [array([378989.72752514]), array([411432.9653467]), array([400232.31314571]), array([390458.14467167]), array([397837.71572586])]\n",
      "delta: 0, p: nan\n",
      "delta: 1, p: 0.16264160813339507\n",
      "delta: 2, p: 0.44349577927289296\n",
      "delta: 3, p: 0.3642220637033693\n",
      "delta: 4, p: 0.21626245685996526\n",
      "delta: 5, p: 0.03242945538591487\n"
     ]
    },
    {
     "name": "stderr",
     "output_type": "stream",
     "text": [
      "C:\\Users\\jeff1\\Anaconda3\\lib\\site-packages\\statsmodels\\tsa\\base\\tsa_model.py:221: ValueWarning: An unsupported index was provided and will be ignored when e.g. forecasting.\n",
      "  ' ignored when e.g. forecasting.', ValueWarning)\n"
     ]
    },
    {
     "name": "stdout",
     "output_type": "stream",
     "text": [
      "predictions: [array([378989.72752514]), array([411432.9653467]), array([400232.31314571]), array([390458.14467167]), array([397837.71572586]), array([412938.09104811])]\n",
      "delta: 0, p: nan\n",
      "delta: 1, p: 0.11287516686741705\n",
      "delta: 2, p: 0.39473914354431633\n",
      "delta: 3, p: 0.39527257517293796\n",
      "delta: 4, p: 0.2232830931192738\n",
      "delta: 5, p: 0.3802144576845892\n",
      "delta: 6, p: 0.6695730219487375\n",
      "delta: 7, p: 0.19471097648766922\n",
      "delta: 8, p: 0.3316560210203793\n",
      "delta: 9, p: 0.8313174402394665\n",
      "delta: 0, p: nan\n"
     ]
    },
    {
     "name": "stderr",
     "output_type": "stream",
     "text": [
      "C:\\Users\\jeff1\\Anaconda3\\lib\\site-packages\\statsmodels\\tsa\\base\\tsa_model.py:221: ValueWarning: An unsupported index was provided and will be ignored when e.g. forecasting.\n",
      "  ' ignored when e.g. forecasting.', ValueWarning)\n",
      "C:\\Users\\jeff1\\Anaconda3\\lib\\site-packages\\statsmodels\\tsa\\base\\tsa_model.py:221: ValueWarning: An unsupported index was provided and will be ignored when e.g. forecasting.\n",
      "  ' ignored when e.g. forecasting.', ValueWarning)\n"
     ]
    },
    {
     "name": "stdout",
     "output_type": "stream",
     "text": [
      "bad condition 0: stationarity not adequate\n",
      "delta: 1, p: 0.11287516686741705\n",
      "predictions: [array([378989.72752514]), array([411432.9653467]), array([400232.31314571]), array([390458.14467167]), array([397837.71572586]), array([412938.09104811]), array([403606.58307189])]\n",
      "delta: 0, p: nan\n",
      "delta: 1, p: 0.47470585864517545\n",
      "delta: 2, p: 0.1478643995990151\n",
      "delta: 3, p: 0.09132441098640798\n",
      "delta: 4, p: 0.33192862679112073\n",
      "delta: 5, p: 0.17138787229515534\n",
      "delta: 6, p: 0.12161491940657049\n",
      "delta: 7, p: 0.01711885103134021\n"
     ]
    },
    {
     "name": "stderr",
     "output_type": "stream",
     "text": [
      "C:\\Users\\jeff1\\Anaconda3\\lib\\site-packages\\statsmodels\\tsa\\base\\tsa_model.py:221: ValueWarning: An unsupported index was provided and will be ignored when e.g. forecasting.\n",
      "  ' ignored when e.g. forecasting.', ValueWarning)\n"
     ]
    },
    {
     "name": "stdout",
     "output_type": "stream",
     "text": [
      "predictions: [array([564908.18236222])]\n",
      "delta: 0, p: nan\n",
      "delta: 1, p: 0.9527805406786224\n",
      "delta: 2, p: 0.907844633785891\n",
      "delta: 3, p: 9.191047757485448e-20\n"
     ]
    },
    {
     "name": "stderr",
     "output_type": "stream",
     "text": [
      "C:\\Users\\jeff1\\Anaconda3\\lib\\site-packages\\statsmodels\\tsa\\base\\tsa_model.py:221: ValueWarning: An unsupported index was provided and will be ignored when e.g. forecasting.\n",
      "  ' ignored when e.g. forecasting.', ValueWarning)\n"
     ]
    },
    {
     "name": "stdout",
     "output_type": "stream",
     "text": [
      "predictions: [array([564908.18236222]), array([248329.10581794])]\n",
      "delta: 0, p: nan\n",
      "delta: 1, p: 0.6514561738999667\n",
      "delta: 2, p: 2.9019473894720397e-20\n"
     ]
    },
    {
     "name": "stderr",
     "output_type": "stream",
     "text": [
      "C:\\Users\\jeff1\\Anaconda3\\lib\\site-packages\\statsmodels\\tsa\\base\\tsa_model.py:221: ValueWarning: An unsupported index was provided and will be ignored when e.g. forecasting.\n",
      "  ' ignored when e.g. forecasting.', ValueWarning)\n"
     ]
    },
    {
     "name": "stdout",
     "output_type": "stream",
     "text": [
      "predictions: [array([564908.18236222]), array([248329.10581794]), array([265964.774261])]\n",
      "delta: 0, p: nan\n",
      "delta: 1, p: 2.6319226151421297e-28\n"
     ]
    },
    {
     "name": "stderr",
     "output_type": "stream",
     "text": [
      "C:\\Users\\jeff1\\Anaconda3\\lib\\site-packages\\statsmodels\\tsa\\base\\tsa_model.py:221: ValueWarning: An unsupported index was provided and will be ignored when e.g. forecasting.\n",
      "  ' ignored when e.g. forecasting.', ValueWarning)\n"
     ]
    },
    {
     "name": "stdout",
     "output_type": "stream",
     "text": [
      "bad condition 1: stationarity not adequate\n",
      "delta: 2, p: 3.066332750919805e-20\n"
     ]
    },
    {
     "name": "stderr",
     "output_type": "stream",
     "text": [
      "C:\\Users\\jeff1\\Anaconda3\\lib\\site-packages\\statsmodels\\tsa\\base\\tsa_model.py:221: ValueWarning: An unsupported index was provided and will be ignored when e.g. forecasting.\n",
      "  ' ignored when e.g. forecasting.', ValueWarning)\n"
     ]
    },
    {
     "name": "stdout",
     "output_type": "stream",
     "text": [
      "predictions: [array([564908.18236222]), array([248329.10581794]), array([265964.774261]), array([408891.64733619])]\n",
      "delta: 0, p: nan\n",
      "delta: 1, p: 2.433865358822816e-28\n"
     ]
    },
    {
     "name": "stderr",
     "output_type": "stream",
     "text": [
      "C:\\Users\\jeff1\\Anaconda3\\lib\\site-packages\\statsmodels\\tsa\\base\\tsa_model.py:221: ValueWarning: An unsupported index was provided and will be ignored when e.g. forecasting.\n",
      "  ' ignored when e.g. forecasting.', ValueWarning)\n"
     ]
    },
    {
     "name": "stdout",
     "output_type": "stream",
     "text": [
      "predictions: [array([564908.18236222]), array([248329.10581794]), array([265964.774261]), array([408891.64733619]), array([380047.55478322])]\n",
      "delta: 0, p: nan\n",
      "delta: 1, p: 2.2391971091524796e-28\n"
     ]
    },
    {
     "name": "stderr",
     "output_type": "stream",
     "text": [
      "C:\\Users\\jeff1\\Anaconda3\\lib\\site-packages\\statsmodels\\tsa\\base\\tsa_model.py:221: ValueWarning: An unsupported index was provided and will be ignored when e.g. forecasting.\n",
      "  ' ignored when e.g. forecasting.', ValueWarning)\n"
     ]
    },
    {
     "name": "stdout",
     "output_type": "stream",
     "text": [
      "predictions: [array([564908.18236222]), array([248329.10581794]), array([265964.774261]), array([408891.64733619]), array([380047.55478322]), array([383263.78145492])]\n",
      "delta: 0, p: nan\n",
      "delta: 1, p: 2.0602154600343823e-28\n"
     ]
    },
    {
     "name": "stderr",
     "output_type": "stream",
     "text": [
      "C:\\Users\\jeff1\\Anaconda3\\lib\\site-packages\\statsmodels\\tsa\\base\\tsa_model.py:221: ValueWarning: An unsupported index was provided and will be ignored when e.g. forecasting.\n",
      "  ' ignored when e.g. forecasting.', ValueWarning)\n"
     ]
    },
    {
     "name": "stdout",
     "output_type": "stream",
     "text": [
      "predictions: [array([564908.18236222]), array([248329.10581794]), array([265964.774261]), array([408891.64733619]), array([380047.55478322]), array([383263.78145492]), array([403111.4968727])]\n",
      "delta: 0, p: nan\n",
      "delta: 1, p: 0.23919995555022183\n",
      "delta: 2, p: 0.3535184537664673\n",
      "delta: 3, p: 0.27408295407181804\n",
      "delta: 4, p: 0.07302850823470475\n",
      "delta: 5, p: 0.12630984882710194\n",
      "delta: 6, p: 0.16681556966979016\n",
      "delta: 7, p: 0.011753618126161354\n"
     ]
    },
    {
     "name": "stderr",
     "output_type": "stream",
     "text": [
      "C:\\Users\\jeff1\\Anaconda3\\lib\\site-packages\\statsmodels\\tsa\\base\\tsa_model.py:221: ValueWarning: An unsupported index was provided and will be ignored when e.g. forecasting.\n",
      "  ' ignored when e.g. forecasting.', ValueWarning)\n"
     ]
    },
    {
     "name": "stdout",
     "output_type": "stream",
     "text": [
      "predictions: [array([785963.50645562])]\n",
      "delta: 0, p: nan\n",
      "delta: 1, p: 0.9795476306613029\n",
      "delta: 2, p: 0.9719570836303891\n",
      "delta: 3, p: 0.9963579103653385\n",
      "delta: 4, p: 0.9770841951647421\n",
      "delta: 5, p: 0.9550865305359437\n",
      "delta: 6, p: 0.9621396976318092\n",
      "delta: 7, p: 2.3968416641059156e-18\n"
     ]
    },
    {
     "name": "stderr",
     "output_type": "stream",
     "text": [
      "C:\\Users\\jeff1\\Anaconda3\\lib\\site-packages\\statsmodels\\tsa\\base\\tsa_model.py:221: ValueWarning: An unsupported index was provided and will be ignored when e.g. forecasting.\n",
      "  ' ignored when e.g. forecasting.', ValueWarning)\n"
     ]
    },
    {
     "name": "stdout",
     "output_type": "stream",
     "text": [
      "predictions: [array([785963.50645562]), array([361502.1081098])]\n",
      "delta: 0, p: nan\n",
      "delta: 1, p: 0.9625144820697941\n",
      "delta: 2, p: 0.9449699934333748\n",
      "delta: 3, p: 0.9462754277438663\n",
      "delta: 4, p: 0.8690796585493288\n",
      "delta: 5, p: 0.9582029302085598\n",
      "delta: 6, p: 0.9001203818178967\n",
      "delta: 7, p: 2.498899770511141e-10\n"
     ]
    },
    {
     "name": "stderr",
     "output_type": "stream",
     "text": [
      "C:\\Users\\jeff1\\Anaconda3\\lib\\site-packages\\statsmodels\\tsa\\base\\tsa_model.py:221: ValueWarning: An unsupported index was provided and will be ignored when e.g. forecasting.\n",
      "  ' ignored when e.g. forecasting.', ValueWarning)\n"
     ]
    },
    {
     "name": "stdout",
     "output_type": "stream",
     "text": [
      "predictions: [array([785963.50645562]), array([361502.1081098]), array([366624.90986994])]\n",
      "delta: 0, p: nan\n",
      "delta: 1, p: 0.9457403039901595\n",
      "delta: 2, p: 0.9072375373285619\n",
      "delta: 3, p: 0.8979648682299126\n",
      "delta: 4, p: 0.8526965700402666\n",
      "delta: 5, p: 0.9347488040139108\n",
      "delta: 6, p: 0.8522248519134388\n",
      "delta: 7, p: 0.9800205638047602\n",
      "delta: 8, p: 0.6670531533274139\n",
      "delta: 9, p: 0.0003686691038025906\n"
     ]
    },
    {
     "name": "stderr",
     "output_type": "stream",
     "text": [
      "C:\\Users\\jeff1\\Anaconda3\\lib\\site-packages\\statsmodels\\tsa\\base\\tsa_model.py:221: ValueWarning: An unsupported index was provided and will be ignored when e.g. forecasting.\n",
      "  ' ignored when e.g. forecasting.', ValueWarning)\n"
     ]
    },
    {
     "name": "stdout",
     "output_type": "stream",
     "text": [
      "predictions: [array([785963.50645562]), array([361502.1081098]), array([366624.90986994]), array([373035.67559336])]\n",
      "delta: 0, p: nan\n",
      "delta: 1, p: 0.8703285890789472\n",
      "delta: 2, p: 0.7714082217193365\n",
      "delta: 3, p: 0.7733249236918154\n",
      "delta: 4, p: 0.7553478227826553\n",
      "delta: 5, p: 0.9085111590861608\n",
      "delta: 6, p: 0.5821535455533475\n",
      "delta: 7, p: 0.5989146444020268\n",
      "delta: 8, p: 0.49928539746255046\n",
      "delta: 9, p: 0.000267192930326583\n"
     ]
    },
    {
     "name": "stderr",
     "output_type": "stream",
     "text": [
      "C:\\Users\\jeff1\\Anaconda3\\lib\\site-packages\\statsmodels\\tsa\\base\\tsa_model.py:221: ValueWarning: An unsupported index was provided and will be ignored when e.g. forecasting.\n",
      "  ' ignored when e.g. forecasting.', ValueWarning)\n"
     ]
    },
    {
     "name": "stdout",
     "output_type": "stream",
     "text": [
      "predictions: [array([785963.50645562]), array([361502.1081098]), array([366624.90986994]), array([373035.67559336]), array([210236.93540737])]\n",
      "delta: 0, p: nan\n",
      "delta: 1, p: 0.8794511963613844\n",
      "delta: 2, p: 0.7603189303729239\n",
      "delta: 3, p: 0.7612722144317722\n",
      "delta: 4, p: 0.7101932015885247\n",
      "delta: 5, p: 0.883785625275744\n",
      "delta: 6, p: 0.7405533167389406\n",
      "delta: 7, p: 1.6183921501465524e-05\n"
     ]
    },
    {
     "name": "stderr",
     "output_type": "stream",
     "text": [
      "C:\\Users\\jeff1\\Anaconda3\\lib\\site-packages\\statsmodels\\tsa\\base\\tsa_model.py:221: ValueWarning: An unsupported index was provided and will be ignored when e.g. forecasting.\n",
      "  ' ignored when e.g. forecasting.', ValueWarning)\n"
     ]
    },
    {
     "name": "stdout",
     "output_type": "stream",
     "text": [
      "predictions: [array([785963.50645562]), array([361502.1081098]), array([366624.90986994]), array([373035.67559336]), array([210236.93540737]), array([432409.08667143])]\n",
      "delta: 0, p: nan\n",
      "delta: 1, p: 0.8351173786951125\n",
      "delta: 2, p: 0.8699813100710104\n",
      "delta: 3, p: 0.7410250301541537\n",
      "delta: 4, p: 0.8975374744829998\n",
      "delta: 5, p: 0.9236746915675607\n",
      "delta: 6, p: 0.9101097835076528\n",
      "delta: 7, p: 0.9335029864096175\n",
      "delta: 8, p: 0.6530652922276139\n",
      "delta: 9, p: 0.00045221263195050095\n"
     ]
    },
    {
     "name": "stderr",
     "output_type": "stream",
     "text": [
      "C:\\Users\\jeff1\\Anaconda3\\lib\\site-packages\\statsmodels\\tsa\\base\\tsa_model.py:221: ValueWarning: An unsupported index was provided and will be ignored when e.g. forecasting.\n",
      "  ' ignored when e.g. forecasting.', ValueWarning)\n"
     ]
    },
    {
     "name": "stdout",
     "output_type": "stream",
     "text": [
      "predictions: [array([785963.50645562]), array([361502.1081098]), array([366624.90986994]), array([373035.67559336]), array([210236.93540737]), array([432409.08667143]), array([421471.65471987])]\n",
      "delta: 0, p: nan\n",
      "delta: 1, p: 0.40271311312542446\n",
      "delta: 2, p: 0.05564829418380088\n",
      "delta: 3, p: 0.0789702179343314\n",
      "delta: 4, p: 0.14347913538990037\n",
      "delta: 5, p: 0.13625505249705083\n",
      "delta: 6, p: 0.19573916606595054\n",
      "delta: 7, p: 0.0005223428649882538\n"
     ]
    },
    {
     "name": "stderr",
     "output_type": "stream",
     "text": [
      "C:\\Users\\jeff1\\Anaconda3\\lib\\site-packages\\statsmodels\\tsa\\base\\tsa_model.py:221: ValueWarning: An unsupported index was provided and will be ignored when e.g. forecasting.\n",
      "  ' ignored when e.g. forecasting.', ValueWarning)\n"
     ]
    },
    {
     "name": "stdout",
     "output_type": "stream",
     "text": [
      "predictions: [array([513707.8855702])]\n",
      "delta: 0, p: nan\n",
      "delta: 1, p: 0.9679346765067309\n",
      "delta: 2, p: 0.9113241548753468\n",
      "delta: 3, p: 0.9199043706486972\n",
      "delta: 4, p: 0.9004161425332844\n",
      "delta: 5, p: 1.7888788127859866e-17\n"
     ]
    },
    {
     "name": "stderr",
     "output_type": "stream",
     "text": [
      "C:\\Users\\jeff1\\Anaconda3\\lib\\site-packages\\statsmodels\\tsa\\base\\tsa_model.py:221: ValueWarning: An unsupported index was provided and will be ignored when e.g. forecasting.\n",
      "  ' ignored when e.g. forecasting.', ValueWarning)\n"
     ]
    },
    {
     "name": "stdout",
     "output_type": "stream",
     "text": [
      "predictions: [array([513707.8855702]), array([303854.65529486])]\n",
      "delta: 0, p: nan\n",
      "delta: 1, p: 0.7037074002805721\n",
      "delta: 2, p: 2.2760845419884364e-23\n"
     ]
    },
    {
     "name": "stderr",
     "output_type": "stream",
     "text": [
      "C:\\Users\\jeff1\\Anaconda3\\lib\\site-packages\\statsmodels\\tsa\\base\\tsa_model.py:221: ValueWarning: An unsupported index was provided and will be ignored when e.g. forecasting.\n",
      "  ' ignored when e.g. forecasting.', ValueWarning)\n"
     ]
    },
    {
     "name": "stdout",
     "output_type": "stream",
     "text": [
      "predictions: [array([513707.8855702]), array([303854.65529486]), array([286827.8445629])]\n",
      "delta: 0, p: nan\n",
      "delta: 1, p: 0.1960885041889533\n",
      "delta: 2, p: 0.2667712873540896\n",
      "delta: 3, p: 0.7384153081577636\n",
      "delta: 4, p: 8.212729264677973e-19\n"
     ]
    },
    {
     "name": "stderr",
     "output_type": "stream",
     "text": [
      "C:\\Users\\jeff1\\Anaconda3\\lib\\site-packages\\statsmodels\\tsa\\base\\tsa_model.py:221: ValueWarning: An unsupported index was provided and will be ignored when e.g. forecasting.\n",
      "  ' ignored when e.g. forecasting.', ValueWarning)\n"
     ]
    },
    {
     "name": "stdout",
     "output_type": "stream",
     "text": [
      "predictions: [array([513707.8855702]), array([303854.65529486]), array([286827.8445629]), array([422006.36441289])]\n",
      "delta: 0, p: nan\n",
      "delta: 1, p: 2.436318883025887e-27\n"
     ]
    },
    {
     "name": "stderr",
     "output_type": "stream",
     "text": [
      "C:\\Users\\jeff1\\Anaconda3\\lib\\site-packages\\statsmodels\\tsa\\base\\tsa_model.py:221: ValueWarning: An unsupported index was provided and will be ignored when e.g. forecasting.\n",
      "  ' ignored when e.g. forecasting.', ValueWarning)\n"
     ]
    },
    {
     "name": "stdout",
     "output_type": "stream",
     "text": [
      "predictions: [array([513707.8855702]), array([303854.65529486]), array([286827.8445629]), array([422006.36441289]), array([373645.57061297])]\n",
      "delta: 0, p: nan\n",
      "delta: 1, p: 2.2177155000195683e-27\n"
     ]
    },
    {
     "name": "stderr",
     "output_type": "stream",
     "text": [
      "C:\\Users\\jeff1\\Anaconda3\\lib\\site-packages\\statsmodels\\tsa\\base\\tsa_model.py:221: ValueWarning: An unsupported index was provided and will be ignored when e.g. forecasting.\n",
      "  ' ignored when e.g. forecasting.', ValueWarning)\n"
     ]
    },
    {
     "name": "stdout",
     "output_type": "stream",
     "text": [
      "predictions: [array([513707.8855702]), array([303854.65529486]), array([286827.8445629]), array([422006.36441289]), array([373645.57061297]), array([385625.23476997])]\n",
      "delta: 0, p: nan\n",
      "delta: 1, p: 2.0168044838270257e-27\n"
     ]
    },
    {
     "name": "stderr",
     "output_type": "stream",
     "text": [
      "C:\\Users\\jeff1\\Anaconda3\\lib\\site-packages\\statsmodels\\tsa\\base\\tsa_model.py:221: ValueWarning: An unsupported index was provided and will be ignored when e.g. forecasting.\n",
      "  ' ignored when e.g. forecasting.', ValueWarning)\n"
     ]
    },
    {
     "name": "stdout",
     "output_type": "stream",
     "text": [
      "predictions: [array([513707.8855702]), array([303854.65529486]), array([286827.8445629]), array([422006.36441289]), array([373645.57061297]), array([385625.23476997]), array([403106.04473025])]\n",
      "delta: 0, p: nan\n",
      "delta: 1, p: 0.128609468858774\n",
      "delta: 2, p: 0.06038261671482873\n",
      "delta: 3, p: 0.013653298229626317\n"
     ]
    },
    {
     "name": "stderr",
     "output_type": "stream",
     "text": [
      "C:\\Users\\jeff1\\Anaconda3\\lib\\site-packages\\statsmodels\\tsa\\base\\tsa_model.py:221: ValueWarning: An unsupported index was provided and will be ignored when e.g. forecasting.\n",
      "  ' ignored when e.g. forecasting.', ValueWarning)\n"
     ]
    },
    {
     "name": "stdout",
     "output_type": "stream",
     "text": [
      "predictions: [array([727475.26691804])]\n",
      "delta: 0, p: nan\n",
      "delta: 1, p: 0.978185510737335\n",
      "delta: 2, p: 0.9850035560642869\n",
      "delta: 3, p: 0.840480433578584\n",
      "delta: 4, p: 0.9280774905924379\n",
      "delta: 5, p: 0.9372216355946649\n",
      "delta: 6, p: 0.8935747521646422\n",
      "delta: 7, p: 0.9067315211710653\n",
      "delta: 8, p: 0.759927337168985\n",
      "delta: 9, p: 7.610690758866843e-12\n"
     ]
    },
    {
     "name": "stderr",
     "output_type": "stream",
     "text": [
      "C:\\Users\\jeff1\\Anaconda3\\lib\\site-packages\\statsmodels\\tsa\\base\\tsa_model.py:221: ValueWarning: An unsupported index was provided and will be ignored when e.g. forecasting.\n",
      "  ' ignored when e.g. forecasting.', ValueWarning)\n"
     ]
    },
    {
     "name": "stdout",
     "output_type": "stream",
     "text": [
      "predictions: [array([727475.26691804]), array([325678.8833627])]\n",
      "delta: 0, p: nan\n",
      "delta: 1, p: 0.9698874732960536\n",
      "delta: 2, p: 0.7696940966259197\n",
      "delta: 3, p: 0.8481629760030822\n",
      "delta: 4, p: 0.7819879781588468\n",
      "delta: 5, p: 0.6974375791472484\n",
      "delta: 6, p: 0.7738308122302756\n",
      "delta: 7, p: 0.4916235812267318\n",
      "delta: 8, p: 0.45028690474499855\n",
      "delta: 9, p: 7.07526077651741e-15\n"
     ]
    },
    {
     "name": "stderr",
     "output_type": "stream",
     "text": [
      "C:\\Users\\jeff1\\Anaconda3\\lib\\site-packages\\statsmodels\\tsa\\base\\tsa_model.py:221: ValueWarning: An unsupported index was provided and will be ignored when e.g. forecasting.\n",
      "  ' ignored when e.g. forecasting.', ValueWarning)\n"
     ]
    },
    {
     "name": "stdout",
     "output_type": "stream",
     "text": [
      "predictions: [array([727475.26691804]), array([325678.8833627]), array([331868.72669251])]\n",
      "delta: 0, p: nan\n",
      "delta: 1, p: 0.9537108224856983\n",
      "delta: 2, p: 0.6433842102731397\n",
      "delta: 3, p: 0.7437258158256007\n",
      "delta: 4, p: 0.8325938799066133\n",
      "delta: 5, p: 0.7339044115600588\n",
      "delta: 6, p: 0.45426941320402925\n",
      "delta: 7, p: 0.8604583122778822\n",
      "delta: 8, p: 0.4000741873250381\n",
      "delta: 9, p: 0.775969145917464\n",
      "delta: 0, p: nan\n",
      "bad condition 0: stationarity not adequate\n",
      "delta: 1, p: 0.9537108224856983\n"
     ]
    },
    {
     "name": "stderr",
     "output_type": "stream",
     "text": [
      "C:\\Users\\jeff1\\Anaconda3\\lib\\site-packages\\statsmodels\\tsa\\base\\tsa_model.py:221: ValueWarning: An unsupported index was provided and will be ignored when e.g. forecasting.\n",
      "  ' ignored when e.g. forecasting.', ValueWarning)\n",
      "C:\\Users\\jeff1\\Anaconda3\\lib\\site-packages\\statsmodels\\tsa\\base\\tsa_model.py:221: ValueWarning: An unsupported index was provided and will be ignored when e.g. forecasting.\n",
      "  ' ignored when e.g. forecasting.', ValueWarning)\n"
     ]
    },
    {
     "name": "stdout",
     "output_type": "stream",
     "text": [
      "predictions: [array([727475.26691804]), array([325678.8833627]), array([331868.72669251]), array([309210.38007574])]\n",
      "delta: 0, p: nan\n",
      "delta: 1, p: 0.9416872091516022\n",
      "delta: 2, p: 0.5729506663000319\n",
      "delta: 3, p: 0.6689648580134518\n",
      "delta: 4, p: 0.8383437228896554\n",
      "delta: 5, p: 0.717435286958947\n",
      "delta: 6, p: 0.45448899801385656\n",
      "delta: 7, p: 0.8055700695345918\n",
      "delta: 8, p: 0.5536584969837541\n",
      "delta: 9, p: 0.6119517575139426\n",
      "delta: 0, p: nan\n",
      "bad condition 0: stationarity not adequate\n",
      "delta: 1, p: 0.9416872091516022\n"
     ]
    },
    {
     "name": "stderr",
     "output_type": "stream",
     "text": [
      "C:\\Users\\jeff1\\Anaconda3\\lib\\site-packages\\statsmodels\\tsa\\base\\tsa_model.py:221: ValueWarning: An unsupported index was provided and will be ignored when e.g. forecasting.\n",
      "  ' ignored when e.g. forecasting.', ValueWarning)\n",
      "C:\\Users\\jeff1\\Anaconda3\\lib\\site-packages\\statsmodels\\tsa\\base\\tsa_model.py:221: ValueWarning: An unsupported index was provided and will be ignored when e.g. forecasting.\n",
      "  ' ignored when e.g. forecasting.', ValueWarning)\n"
     ]
    },
    {
     "name": "stdout",
     "output_type": "stream",
     "text": [
      "bad condition 1: stationarity not adequate\n",
      "delta: 2, p: 0.5729506663000319\n"
     ]
    },
    {
     "name": "stderr",
     "output_type": "stream",
     "text": [
      "C:\\Users\\jeff1\\Anaconda3\\lib\\site-packages\\statsmodels\\tsa\\base\\tsa_model.py:221: ValueWarning: An unsupported index was provided and will be ignored when e.g. forecasting.\n",
      "  ' ignored when e.g. forecasting.', ValueWarning)\n"
     ]
    },
    {
     "name": "stdout",
     "output_type": "stream",
     "text": [
      "predictions: [array([727475.26691804]), array([325678.8833627]), array([331868.72669251]), array([309210.38007574]), array([229412.11353567])]\n",
      "delta: 0, p: nan\n",
      "delta: 1, p: 0.9075714494554423\n",
      "delta: 2, p: 0.431019696621863\n",
      "delta: 3, p: 0.5402398185685671\n",
      "delta: 4, p: 0.7089180585502262\n",
      "delta: 5, p: 0.599783827419301\n",
      "delta: 6, p: 0.5712563557902596\n",
      "delta: 7, p: 0.38187773224181787\n",
      "delta: 8, p: 0.64206741184392\n",
      "delta: 9, p: 0.5113241998540411\n",
      "delta: 0, p: nan\n",
      "bad condition 0: stationarity not adequate\n",
      "delta: 1, p: 0.9075714494554423\n"
     ]
    },
    {
     "name": "stderr",
     "output_type": "stream",
     "text": [
      "C:\\Users\\jeff1\\Anaconda3\\lib\\site-packages\\statsmodels\\tsa\\base\\tsa_model.py:221: ValueWarning: An unsupported index was provided and will be ignored when e.g. forecasting.\n",
      "  ' ignored when e.g. forecasting.', ValueWarning)\n",
      "C:\\Users\\jeff1\\Anaconda3\\lib\\site-packages\\statsmodels\\tsa\\base\\tsa_model.py:221: ValueWarning: An unsupported index was provided and will be ignored when e.g. forecasting.\n",
      "  ' ignored when e.g. forecasting.', ValueWarning)\n"
     ]
    },
    {
     "name": "stdout",
     "output_type": "stream",
     "text": [
      "predictions: [array([727475.26691804]), array([325678.8833627]), array([331868.72669251]), array([309210.38007574]), array([229412.11353567]), array([380892.83854258])]\n",
      "delta: 0, p: nan\n",
      "delta: 1, p: 0.8076296104869065\n",
      "delta: 2, p: 0.8517806851532013\n",
      "delta: 3, p: 0.7879807780326588\n",
      "delta: 4, p: 0.5866421157418538\n",
      "delta: 5, p: 0.6003950554316023\n",
      "delta: 6, p: 0.8518120754291993\n",
      "delta: 7, p: 0.7046463982894257\n",
      "delta: 8, p: 0.6776106090683172\n",
      "delta: 9, p: 0.48379649349688203\n",
      "delta: 0, p: nan\n",
      "bad condition 0: stationarity not adequate\n",
      "delta: 1, p: 0.8076296104869065\n"
     ]
    },
    {
     "name": "stderr",
     "output_type": "stream",
     "text": [
      "C:\\Users\\jeff1\\Anaconda3\\lib\\site-packages\\statsmodels\\tsa\\base\\tsa_model.py:221: ValueWarning: An unsupported index was provided and will be ignored when e.g. forecasting.\n",
      "  ' ignored when e.g. forecasting.', ValueWarning)\n",
      "C:\\Users\\jeff1\\Anaconda3\\lib\\site-packages\\statsmodels\\tsa\\base\\tsa_model.py:221: ValueWarning: An unsupported index was provided and will be ignored when e.g. forecasting.\n",
      "  ' ignored when e.g. forecasting.', ValueWarning)\n"
     ]
    },
    {
     "name": "stdout",
     "output_type": "stream",
     "text": [
      "predictions: [array([727475.26691804]), array([325678.8833627]), array([331868.72669251]), array([309210.38007574]), array([229412.11353567]), array([380892.83854258]), array([402590.605315])]\n",
      "delta: 0, p: nan\n",
      "delta: 1, p: 0.32243966643757715\n",
      "delta: 2, p: 0.05561830233438745\n",
      "delta: 3, p: 0.2892832007168501\n",
      "delta: 4, p: 0.16950846955548216\n",
      "delta: 5, p: 0.09417232365768091\n",
      "delta: 6, p: 0.04854169336062255\n"
     ]
    },
    {
     "name": "stderr",
     "output_type": "stream",
     "text": [
      "C:\\Users\\jeff1\\Anaconda3\\lib\\site-packages\\statsmodels\\tsa\\base\\tsa_model.py:221: ValueWarning: An unsupported index was provided and will be ignored when e.g. forecasting.\n",
      "  ' ignored when e.g. forecasting.', ValueWarning)\n"
     ]
    },
    {
     "name": "stdout",
     "output_type": "stream",
     "text": [
      "predictions: [array([725717.87387626])]\n",
      "delta: 0, p: nan\n",
      "delta: 1, p: 0.7368551954590912\n",
      "delta: 2, p: 0.5580818038267911\n",
      "delta: 3, p: 0.3932740435959216\n",
      "delta: 4, p: 2.0753810081655437e-27\n"
     ]
    },
    {
     "name": "stderr",
     "output_type": "stream",
     "text": [
      "C:\\Users\\jeff1\\Anaconda3\\lib\\site-packages\\statsmodels\\tsa\\base\\tsa_model.py:221: ValueWarning: An unsupported index was provided and will be ignored when e.g. forecasting.\n",
      "  ' ignored when e.g. forecasting.', ValueWarning)\n"
     ]
    },
    {
     "name": "stdout",
     "output_type": "stream",
     "text": [
      "bad condition 4: stationarity not adequate\n",
      "delta: 5, p: 4.302679110440197e-15\n"
     ]
    },
    {
     "name": "stderr",
     "output_type": "stream",
     "text": [
      "C:\\Users\\jeff1\\Anaconda3\\lib\\site-packages\\statsmodels\\tsa\\base\\tsa_model.py:221: ValueWarning: An unsupported index was provided and will be ignored when e.g. forecasting.\n",
      "  ' ignored when e.g. forecasting.', ValueWarning)\n"
     ]
    },
    {
     "name": "stdout",
     "output_type": "stream",
     "text": [
      "bad condition 5: stationarity not adequate\n",
      "delta: 6, p: 0.5338014230844005\n",
      "delta: 7, p: 9.081285122878398e-10\n"
     ]
    },
    {
     "name": "stderr",
     "output_type": "stream",
     "text": [
      "C:\\Users\\jeff1\\Anaconda3\\lib\\site-packages\\statsmodels\\tsa\\base\\tsa_model.py:221: ValueWarning: An unsupported index was provided and will be ignored when e.g. forecasting.\n",
      "  ' ignored when e.g. forecasting.', ValueWarning)\n"
     ]
    },
    {
     "name": "stdout",
     "output_type": "stream",
     "text": [
      "predictions: [array([725717.87387626]), array([291036.52272811])]\n",
      "delta: 0, p: nan\n",
      "delta: 1, p: 8.426805824269975e-29\n"
     ]
    },
    {
     "name": "stderr",
     "output_type": "stream",
     "text": [
      "C:\\Users\\jeff1\\Anaconda3\\lib\\site-packages\\statsmodels\\tsa\\base\\tsa_model.py:221: ValueWarning: An unsupported index was provided and will be ignored when e.g. forecasting.\n",
      "  ' ignored when e.g. forecasting.', ValueWarning)\n"
     ]
    },
    {
     "name": "stdout",
     "output_type": "stream",
     "text": [
      "predictions: [array([725717.87387626]), array([291036.52272811]), array([347330.06100174])]\n",
      "delta: 0, p: nan\n",
      "delta: 1, p: 7.815138436584968e-29\n"
     ]
    },
    {
     "name": "stderr",
     "output_type": "stream",
     "text": [
      "C:\\Users\\jeff1\\Anaconda3\\lib\\site-packages\\statsmodels\\tsa\\base\\tsa_model.py:221: ValueWarning: An unsupported index was provided and will be ignored when e.g. forecasting.\n",
      "  ' ignored when e.g. forecasting.', ValueWarning)\n"
     ]
    },
    {
     "name": "stdout",
     "output_type": "stream",
     "text": [
      "predictions: [array([725717.87387626]), array([291036.52272811]), array([347330.06100174]), array([354483.60631359])]\n",
      "delta: 0, p: nan\n",
      "delta: 1, p: 7.257472834221444e-29\n"
     ]
    },
    {
     "name": "stderr",
     "output_type": "stream",
     "text": [
      "C:\\Users\\jeff1\\Anaconda3\\lib\\site-packages\\statsmodels\\tsa\\base\\tsa_model.py:221: ValueWarning: An unsupported index was provided and will be ignored when e.g. forecasting.\n",
      "  ' ignored when e.g. forecasting.', ValueWarning)\n"
     ]
    },
    {
     "name": "stdout",
     "output_type": "stream",
     "text": [
      "predictions: [array([725717.87387626]), array([291036.52272811]), array([347330.06100174]), array([354483.60631359]), array([383371.04710369])]\n",
      "delta: 0, p: nan\n",
      "delta: 1, p: 6.733832295950153e-29\n"
     ]
    },
    {
     "name": "stderr",
     "output_type": "stream",
     "text": [
      "C:\\Users\\jeff1\\Anaconda3\\lib\\site-packages\\statsmodels\\tsa\\base\\tsa_model.py:221: ValueWarning: An unsupported index was provided and will be ignored when e.g. forecasting.\n",
      "  ' ignored when e.g. forecasting.', ValueWarning)\n"
     ]
    },
    {
     "name": "stdout",
     "output_type": "stream",
     "text": [
      "predictions: [array([725717.87387626]), array([291036.52272811]), array([347330.06100174]), array([354483.60631359]), array([383371.04710369]), array([448788.50959298])]\n",
      "delta: 0, p: nan\n",
      "delta: 1, p: 6.251174110445462e-29\n",
      "predictions: [array([725717.87387626]), array([291036.52272811]), array([347330.06100174]), array([354483.60631359]), array([383371.04710369]), array([448788.50959298]), array([402649.47047176])]\n",
      "delta: 0, p: nan\n",
      "delta: 1, p: 0.5316379296884699"
     ]
    },
    {
     "name": "stderr",
     "output_type": "stream",
     "text": [
      "C:\\Users\\jeff1\\Anaconda3\\lib\\site-packages\\statsmodels\\tsa\\base\\tsa_model.py:221: ValueWarning: An unsupported index was provided and will be ignored when e.g. forecasting.\n",
      "  ' ignored when e.g. forecasting.', ValueWarning)\n"
     ]
    },
    {
     "name": "stdout",
     "output_type": "stream",
     "text": [
      "\n",
      "delta: 2, p: 0.11438533254225064\n",
      "delta: 3, p: 0.16627436137781337\n",
      "delta: 4, p: 0.16638277697796272\n",
      "delta: 5, p: 0.11426691697541957\n",
      "delta: 6, p: 0.1656640332633873\n",
      "delta: 7, p: 0.09954199053182627\n",
      "delta: 8, p: 0.0011596692247861156\n"
     ]
    },
    {
     "name": "stderr",
     "output_type": "stream",
     "text": [
      "C:\\Users\\jeff1\\Anaconda3\\lib\\site-packages\\statsmodels\\tsa\\base\\tsa_model.py:221: ValueWarning: An unsupported index was provided and will be ignored when e.g. forecasting.\n",
      "  ' ignored when e.g. forecasting.', ValueWarning)\n"
     ]
    },
    {
     "name": "stdout",
     "output_type": "stream",
     "text": [
      "predictions: [array([462554.90893543])]\n",
      "delta: 0, p: nan\n",
      "delta: 1, p: 0.7947930666794578\n",
      "delta: 2, p: 0.8864984154799628\n",
      "delta: 3, p: 0.7189091994710901\n",
      "delta: 4, p: 0.7512299063966643\n",
      "delta: 5, p: 0.36420936748847543\n",
      "delta: 6, p: 0.7393276571531703\n",
      "delta: 7, p: 0.3045354579405817\n",
      "delta: 8, p: 0.48880220477718217\n",
      "delta: 9, p: 4.4412528334842824e-27\n"
     ]
    },
    {
     "name": "stderr",
     "output_type": "stream",
     "text": [
      "C:\\Users\\jeff1\\Anaconda3\\lib\\site-packages\\statsmodels\\tsa\\base\\tsa_model.py:221: ValueWarning: An unsupported index was provided and will be ignored when e.g. forecasting.\n",
      "  ' ignored when e.g. forecasting.', ValueWarning)\n"
     ]
    },
    {
     "name": "stdout",
     "output_type": "stream",
     "text": [
      "predictions: [array([462554.90893543]), array([371361.34700779])]\n",
      "delta: 0, p: nan\n",
      "delta: 1, p: 0.6585385128105767\n",
      "delta: 2, p: 0.6758965336503091\n",
      "delta: 3, p: 0.42373312434286037\n",
      "delta: 4, p: 0.3641973550406348\n",
      "delta: 5, p: 0.3002305991591204\n",
      "delta: 6, p: 0.5108862568676658\n",
      "delta: 7, p: 0.08713702541185003\n",
      "delta: 8, p: 0.49570500464794376\n",
      "delta: 9, p: 2.4681431671694714e-15\n"
     ]
    },
    {
     "name": "stderr",
     "output_type": "stream",
     "text": [
      "C:\\Users\\jeff1\\Anaconda3\\lib\\site-packages\\statsmodels\\tsa\\base\\tsa_model.py:221: ValueWarning: An unsupported index was provided and will be ignored when e.g. forecasting.\n",
      "  ' ignored when e.g. forecasting.', ValueWarning)\n",
      "C:\\Users\\jeff1\\Anaconda3\\lib\\site-packages\\statsmodels\\base\\model.py:488: HessianInversionWarning: Inverting hessian failed, no bse or cov_params available\n",
      "  'available', HessianInversionWarning)\n"
     ]
    },
    {
     "name": "stdout",
     "output_type": "stream",
     "text": [
      "predictions: [array([462554.90893543]), array([371361.34700779]), array([373409.46013444])]\n",
      "delta: 0, p: nan\n",
      "delta: 1, p: 0.5291044935276025\n",
      "delta: 2, p: 0.38511312867408043\n",
      "delta: 3, p: 0.5211871147318154\n",
      "delta: 4, p: 0.20094909388669946\n",
      "delta: 5, p: 0.08333988007831017\n",
      "delta: 6, p: 0.3171505918310786\n",
      "delta: 7, p: 0.12320829643058051\n",
      "delta: 8, p: 0.16903488582128973\n",
      "delta: 9, p: 1.7247646639579748e-17\n"
     ]
    },
    {
     "name": "stderr",
     "output_type": "stream",
     "text": [
      "C:\\Users\\jeff1\\Anaconda3\\lib\\site-packages\\statsmodels\\tsa\\base\\tsa_model.py:221: ValueWarning: An unsupported index was provided and will be ignored when e.g. forecasting.\n",
      "  ' ignored when e.g. forecasting.', ValueWarning)\n"
     ]
    },
    {
     "name": "stdout",
     "output_type": "stream",
     "text": [
      "predictions: [array([462554.90893543]), array([371361.34700779]), array([373409.46013444]), array([379395.40800656])]\n",
      "delta: 0, p: nan\n",
      "delta: 1, p: 0.5101014850598429\n",
      "delta: 2, p: 0.3774696989910666\n",
      "delta: 3, p: 0.4948751023481592\n",
      "delta: 4, p: 0.2140247603776228\n",
      "delta: 5, p: 0.03058858456597934\n"
     ]
    },
    {
     "name": "stderr",
     "output_type": "stream",
     "text": [
      "C:\\Users\\jeff1\\Anaconda3\\lib\\site-packages\\statsmodels\\tsa\\base\\tsa_model.py:221: ValueWarning: An unsupported index was provided and will be ignored when e.g. forecasting.\n",
      "  ' ignored when e.g. forecasting.', ValueWarning)\n"
     ]
    },
    {
     "name": "stdout",
     "output_type": "stream",
     "text": [
      "predictions: [array([462554.90893543]), array([371361.34700779]), array([373409.46013444]), array([379395.40800656]), array([413588.06190772])]\n",
      "delta: 0, p: nan\n",
      "delta: 1, p: 0.3951812743951576\n",
      "delta: 2, p: 0.23594460050582372\n",
      "delta: 3, p: 0.3121851894233679\n",
      "delta: 4, p: 0.13974013775458616\n",
      "delta: 5, p: 0.030721211945177667\n"
     ]
    },
    {
     "name": "stderr",
     "output_type": "stream",
     "text": [
      "C:\\Users\\jeff1\\Anaconda3\\lib\\site-packages\\statsmodels\\tsa\\base\\tsa_model.py:221: ValueWarning: An unsupported index was provided and will be ignored when e.g. forecasting.\n",
      "  ' ignored when e.g. forecasting.', ValueWarning)\n"
     ]
    },
    {
     "name": "stdout",
     "output_type": "stream",
     "text": [
      "predictions: [array([462554.90893543]), array([371361.34700779]), array([373409.46013444]), array([379395.40800656]), array([413588.06190772]), array([339560.04152704])]\n",
      "delta: 0, p: nan\n",
      "delta: 1, p: 0.46530965768339566\n",
      "delta: 2, p: 0.30611063180760634\n",
      "delta: 3, p: 0.09419814951367916\n",
      "delta: 4, p: 0.18991677035048132\n",
      "delta: 5, p: 1.288862597409303e-09\n"
     ]
    },
    {
     "name": "stderr",
     "output_type": "stream",
     "text": [
      "C:\\Users\\jeff1\\Anaconda3\\lib\\site-packages\\statsmodels\\tsa\\base\\tsa_model.py:221: ValueWarning: An unsupported index was provided and will be ignored when e.g. forecasting.\n",
      "  ' ignored when e.g. forecasting.', ValueWarning)\n"
     ]
    },
    {
     "name": "stdout",
     "output_type": "stream",
     "text": [
      "predictions: [array([462554.90893543]), array([371361.34700779]), array([373409.46013444]), array([379395.40800656]), array([413588.06190772]), array([339560.04152704]), array([418606.33899714])]\n",
      "delta: 0, p: nan\n",
      "delta: 1, p: 0.4892729148920948\n",
      "delta: 2, p: 0.11583902643054128\n",
      "delta: 3, p: 0.16143320058461041\n",
      "delta: 4, p: 0.4030838548983131\n",
      "delta: 5, p: 0.23795365412194414\n",
      "delta: 6, p: 0.2659744396154258\n",
      "delta: 7, p: 0.10614441731426827\n",
      "delta: 8, p: 0.31041961661295764\n",
      "delta: 9, p: 0.8466898964531351\n",
      "delta: 0, p: nan\n",
      "bad condition 0: stationarity not adequate\n",
      "delta: 1, p: 0.4892729148920948\n"
     ]
    },
    {
     "name": "stderr",
     "output_type": "stream",
     "text": [
      "C:\\Users\\jeff1\\Anaconda3\\lib\\site-packages\\statsmodels\\tsa\\base\\tsa_model.py:221: ValueWarning: An unsupported index was provided and will be ignored when e.g. forecasting.\n",
      "  ' ignored when e.g. forecasting.', ValueWarning)\n",
      "C:\\Users\\jeff1\\Anaconda3\\lib\\site-packages\\statsmodels\\tsa\\base\\tsa_model.py:221: ValueWarning: An unsupported index was provided and will be ignored when e.g. forecasting.\n",
      "  ' ignored when e.g. forecasting.', ValueWarning)\n"
     ]
    },
    {
     "name": "stdout",
     "output_type": "stream",
     "text": [
      "predictions: [array([424603.76587874])]\n",
      "delta: 0, p: nan\n",
      "delta: 1, p: 0.4553421149881729\n",
      "delta: 2, p: 0.5733041783178945\n",
      "delta: 3, p: 0.5209875933703018\n",
      "delta: 4, p: 0.3759106579532394\n",
      "delta: 5, p: 0.2112332061094181\n",
      "delta: 6, p: 0.3239547485967794\n",
      "delta: 7, p: 0.0\n"
     ]
    },
    {
     "name": "stderr",
     "output_type": "stream",
     "text": [
      "C:\\Users\\jeff1\\Anaconda3\\lib\\site-packages\\statsmodels\\tsa\\base\\tsa_model.py:221: ValueWarning: An unsupported index was provided and will be ignored when e.g. forecasting.\n",
      "  ' ignored when e.g. forecasting.', ValueWarning)\n"
     ]
    },
    {
     "name": "stdout",
     "output_type": "stream",
     "text": [
      "predictions: [array([424603.76587874]), array([388341.85268587])]\n",
      "delta: 0, p: nan\n",
      "delta: 1, p: 0.06113440969908901\n",
      "delta: 2, p: 0.004717983245023183\n"
     ]
    },
    {
     "name": "stderr",
     "output_type": "stream",
     "text": [
      "C:\\Users\\jeff1\\Anaconda3\\lib\\site-packages\\statsmodels\\tsa\\base\\tsa_model.py:221: ValueWarning: An unsupported index was provided and will be ignored when e.g. forecasting.\n",
      "  ' ignored when e.g. forecasting.', ValueWarning)\n"
     ]
    },
    {
     "name": "stdout",
     "output_type": "stream",
     "text": [
      "predictions: [array([424603.76587874]), array([388341.85268587]), array([370676.44188823])]\n",
      "delta: 0, p: nan\n",
      "delta: 1, p: 0.002460252608800179\n"
     ]
    },
    {
     "name": "stderr",
     "output_type": "stream",
     "text": [
      "C:\\Users\\jeff1\\Anaconda3\\lib\\site-packages\\statsmodels\\tsa\\base\\tsa_model.py:221: ValueWarning: An unsupported index was provided and will be ignored when e.g. forecasting.\n",
      "  ' ignored when e.g. forecasting.', ValueWarning)\n"
     ]
    },
    {
     "name": "stdout",
     "output_type": "stream",
     "text": [
      "predictions: [array([424603.76587874]), array([388341.85268587]), array([370676.44188823]), array([385420.96483923])]\n",
      "delta: 0, p: nan\n",
      "delta: 1, p: 0.0036791206778928522\n"
     ]
    },
    {
     "name": "stderr",
     "output_type": "stream",
     "text": [
      "C:\\Users\\jeff1\\Anaconda3\\lib\\site-packages\\statsmodels\\tsa\\base\\tsa_model.py:221: ValueWarning: An unsupported index was provided and will be ignored when e.g. forecasting.\n",
      "  ' ignored when e.g. forecasting.', ValueWarning)\n"
     ]
    },
    {
     "name": "stdout",
     "output_type": "stream",
     "text": [
      "predictions: [array([424603.76587874]), array([388341.85268587]), array([370676.44188823]), array([385420.96483923]), array([390802.36483281])]\n",
      "delta: 0, p: nan\n",
      "delta: 1, p: 0.004731305705298568\n"
     ]
    },
    {
     "name": "stderr",
     "output_type": "stream",
     "text": [
      "C:\\Users\\jeff1\\Anaconda3\\lib\\site-packages\\statsmodels\\tsa\\base\\tsa_model.py:221: ValueWarning: An unsupported index was provided and will be ignored when e.g. forecasting.\n",
      "  ' ignored when e.g. forecasting.', ValueWarning)\n"
     ]
    },
    {
     "name": "stdout",
     "output_type": "stream",
     "text": [
      "predictions: [array([424603.76587874]), array([388341.85268587]), array([370676.44188823]), array([385420.96483923]), array([390802.36483281]), array([395012.04123256])]\n",
      "delta: 0, p: nan\n",
      "delta: 1, p: 0.01066729470779706\n"
     ]
    },
    {
     "name": "stderr",
     "output_type": "stream",
     "text": [
      "C:\\Users\\jeff1\\Anaconda3\\lib\\site-packages\\statsmodels\\tsa\\base\\tsa_model.py:221: ValueWarning: An unsupported index was provided and will be ignored when e.g. forecasting.\n",
      "  ' ignored when e.g. forecasting.', ValueWarning)\n"
     ]
    },
    {
     "name": "stdout",
     "output_type": "stream",
     "text": [
      "predictions: [array([424603.76587874]), array([388341.85268587]), array([370676.44188823]), array([385420.96483923]), array([390802.36483281]), array([395012.04123256]), array([403779.4660973])]\n",
      "delta: 0, p: nan\n",
      "delta: 1, p: 0.303981857168542\n",
      "delta: 2, p: 0.3037983422522206\n",
      "delta: 3, p: 0.1944903169393991\n",
      "delta: 4, p: 0.1854310006485298\n",
      "delta: 5, p: 0.1800576426189449\n",
      "delta: 6, p: 0.21119153765311427\n",
      "delta: 7, p: 0.04930285795050203\n"
     ]
    },
    {
     "name": "stderr",
     "output_type": "stream",
     "text": [
      "C:\\Users\\jeff1\\Anaconda3\\lib\\site-packages\\statsmodels\\tsa\\base\\tsa_model.py:221: ValueWarning: An unsupported index was provided and will be ignored when e.g. forecasting.\n",
      "  ' ignored when e.g. forecasting.', ValueWarning)\n"
     ]
    },
    {
     "name": "stdout",
     "output_type": "stream",
     "text": [
      "predictions: [array([398808.5536704])]\n",
      "delta: 0, p: nan\n",
      "delta: 1, p: 0.39224332317012767\n",
      "delta: 2, p: 0.16811676271872333\n",
      "delta: 3, p: 0.19072722138652337\n",
      "delta: 4, p: 0.08564045192701236\n",
      "delta: 5, p: 0.20757811168355522\n",
      "delta: 6, p: 0.30516715636663194\n",
      "delta: 7, p: 0.039565801345097615\n"
     ]
    },
    {
     "name": "stderr",
     "output_type": "stream",
     "text": [
      "C:\\Users\\jeff1\\Anaconda3\\lib\\site-packages\\statsmodels\\tsa\\base\\tsa_model.py:221: ValueWarning: An unsupported index was provided and will be ignored when e.g. forecasting.\n",
      "  ' ignored when e.g. forecasting.', ValueWarning)\n"
     ]
    },
    {
     "name": "stdout",
     "output_type": "stream",
     "text": [
      "predictions: [array([398808.5536704]), array([392584.07984613])]\n",
      "delta: 0, p: nan\n",
      "delta: 1, p: 0.27416665927411243\n",
      "delta: 2, p: 0.3679083539950981\n",
      "delta: 3, p: 0.30919045063182216\n",
      "delta: 4, p: 0.23366087052857987\n",
      "delta: 5, p: 0.26493153823254834\n",
      "delta: 6, p: 0.29435649372518585\n",
      "delta: 7, p: 0.12251388247867051\n",
      "delta: 8, p: 0.33100888196170153\n",
      "delta: 9, p: 0.7501517351492611\n",
      "delta: 0, p: nan\n",
      "bad condition 0: stationarity not adequate\n",
      "delta: 1, p: 0.27416665927411243\n"
     ]
    },
    {
     "name": "stderr",
     "output_type": "stream",
     "text": [
      "C:\\Users\\jeff1\\Anaconda3\\lib\\site-packages\\statsmodels\\tsa\\base\\tsa_model.py:221: ValueWarning: An unsupported index was provided and will be ignored when e.g. forecasting.\n",
      "  ' ignored when e.g. forecasting.', ValueWarning)\n",
      "C:\\Users\\jeff1\\Anaconda3\\lib\\site-packages\\statsmodels\\tsa\\base\\tsa_model.py:221: ValueWarning: An unsupported index was provided and will be ignored when e.g. forecasting.\n",
      "  ' ignored when e.g. forecasting.', ValueWarning)\n"
     ]
    },
    {
     "name": "stdout",
     "output_type": "stream",
     "text": [
      "predictions: [array([398808.5536704]), array([392584.07984613]), array([398670.64652171])]\n",
      "delta: 0, p: nan\n",
      "delta: 1, p: 0.24223556061079304\n",
      "delta: 2, p: 0.1318207038791322\n",
      "delta: 3, p: 0.25037209032938135\n",
      "delta: 4, p: 0.17927193734134117\n",
      "delta: 5, p: 0.24822840985565586\n",
      "delta: 6, p: 0.2034885753179541\n",
      "delta: 7, p: 0.20425878903586542\n",
      "delta: 8, p: 0.2684581710906613\n",
      "delta: 9, p: 0.7492585333545061\n",
      "delta: 0, p: nan\n"
     ]
    },
    {
     "name": "stderr",
     "output_type": "stream",
     "text": [
      "C:\\Users\\jeff1\\Anaconda3\\lib\\site-packages\\statsmodels\\tsa\\base\\tsa_model.py:221: ValueWarning: An unsupported index was provided and will be ignored when e.g. forecasting.\n",
      "  ' ignored when e.g. forecasting.', ValueWarning)\n",
      "C:\\Users\\jeff1\\Anaconda3\\lib\\site-packages\\statsmodels\\tsa\\base\\tsa_model.py:221: ValueWarning: An unsupported index was provided and will be ignored when e.g. forecasting.\n",
      "  ' ignored when e.g. forecasting.', ValueWarning)\n"
     ]
    },
    {
     "name": "stdout",
     "output_type": "stream",
     "text": [
      "bad condition 0: stationarity not adequate\n",
      "delta: 1, p: 0.24223556061079304\n",
      "predictions: [array([398808.5536704]), array([392584.07984613]), array([398670.64652171]), array([396571.40987628])]\n",
      "delta: 0, p: nan\n",
      "delta: 1, p: 0.24986666181327444\n",
      "delta: 2, p: 0.13374205777337983\n",
      "delta: 3, p: 0.3344963380264324\n",
      "delta: 4, p: 0.17906791334716382\n",
      "delta: 5, p: 0.2711677739980747\n",
      "delta: 6, p: 0.20327431139573643\n",
      "delta: 7, p: 0.2034423341701786\n",
      "delta: 8, p: 0.26789270014859146\n",
      "delta: 9, p: 0.7486666904007104\n",
      "delta: 0, p: nan\n",
      "bad condition 0: stationarity not adequate\n",
      "delta: 1, p: 0.24986666181327444\n"
     ]
    },
    {
     "name": "stderr",
     "output_type": "stream",
     "text": [
      "C:\\Users\\jeff1\\Anaconda3\\lib\\site-packages\\statsmodels\\tsa\\base\\tsa_model.py:221: ValueWarning: An unsupported index was provided and will be ignored when e.g. forecasting.\n",
      "  ' ignored when e.g. forecasting.', ValueWarning)\n",
      "C:\\Users\\jeff1\\Anaconda3\\lib\\site-packages\\statsmodels\\tsa\\base\\tsa_model.py:221: ValueWarning: An unsupported index was provided and will be ignored when e.g. forecasting.\n",
      "  ' ignored when e.g. forecasting.', ValueWarning)\n"
     ]
    },
    {
     "name": "stdout",
     "output_type": "stream",
     "text": [
      "predictions: [array([398808.5536704]), array([392584.07984613]), array([398670.64652171]), array([396571.40987628]), array([400803.13840129])]\n",
      "delta: 0, p: nan\n",
      "delta: 1, p: 0.2836181623422604\n",
      "delta: 2, p: 0.16577178279697935\n",
      "delta: 3, p: 0.33203845940077503\n",
      "delta: 4, p: 0.24880706107560718\n",
      "delta: 5, p: 0.2650769823161291\n",
      "delta: 6, p: 0.26103432796230475\n",
      "delta: 7, p: 0.2020278881782155\n",
      "delta: 8, p: 0.26525352476369957\n",
      "delta: 9, p: 0.7464428044380699\n",
      "delta: 0, p: nan\n"
     ]
    },
    {
     "name": "stderr",
     "output_type": "stream",
     "text": [
      "C:\\Users\\jeff1\\Anaconda3\\lib\\site-packages\\statsmodels\\tsa\\base\\tsa_model.py:221: ValueWarning: An unsupported index was provided and will be ignored when e.g. forecasting.\n",
      "  ' ignored when e.g. forecasting.', ValueWarning)\n",
      "C:\\Users\\jeff1\\Anaconda3\\lib\\site-packages\\statsmodels\\tsa\\base\\tsa_model.py:221: ValueWarning: An unsupported index was provided and will be ignored when e.g. forecasting.\n",
      "  ' ignored when e.g. forecasting.', ValueWarning)\n"
     ]
    },
    {
     "name": "stdout",
     "output_type": "stream",
     "text": [
      "bad condition 0: stationarity not adequate\n",
      "delta: 1, p: 0.2836181623422604\n",
      "predictions: [array([398808.5536704]), array([392584.07984613]), array([398670.64652171]), array([396571.40987628]), array([400803.13840129]), array([402555.40469199])]\n",
      "delta: 0, p: nan\n",
      "delta: 1, p: 0.22891592946927908\n",
      "delta: 2, p: 0.15280219754175806\n",
      "delta: 3, p: 0.2742978658506371\n",
      "delta: 4, p: 0.20064833921549008\n",
      "delta: 5, p: 0.2850982887299638\n",
      "delta: 6, p: 0.2536058312523852\n",
      "delta: 7, p: 0.19979761727728673\n",
      "delta: 8, p: 0.26314110149697234\n",
      "delta: 9, p: 0.7446738669200381\n",
      "delta: 0, p: nan\n",
      "bad condition 0: stationarity not adequate\n",
      "delta: 1, p: 0.22891592946927908\n"
     ]
    },
    {
     "name": "stderr",
     "output_type": "stream",
     "text": [
      "C:\\Users\\jeff1\\Anaconda3\\lib\\site-packages\\statsmodels\\tsa\\base\\tsa_model.py:221: ValueWarning: An unsupported index was provided and will be ignored when e.g. forecasting.\n",
      "  ' ignored when e.g. forecasting.', ValueWarning)\n",
      "C:\\Users\\jeff1\\Anaconda3\\lib\\site-packages\\statsmodels\\tsa\\base\\tsa_model.py:221: ValueWarning: An unsupported index was provided and will be ignored when e.g. forecasting.\n",
      "  ' ignored when e.g. forecasting.', ValueWarning)\n"
     ]
    },
    {
     "name": "stdout",
     "output_type": "stream",
     "text": [
      "predictions: [array([398808.5536704]), array([392584.07984613]), array([398670.64652171]), array([396571.40987628]), array([400803.13840129]), array([402555.40469199]), array([403722.56465975])]\n",
      "delta: 0, p: nan\n",
      "delta: 1, p: 0.6161083144540208\n",
      "delta: 2, p: 0.6173680980504475\n",
      "delta: 3, p: 0.38809510949450166\n",
      "delta: 4, p: 0.6297597052908566\n",
      "delta: 5, p: 0.4338038977575765\n",
      "delta: 6, p: 0.3450735610554232\n",
      "delta: 7, p: 0.26160711374882645\n",
      "delta: 8, p: 0.35552083547780405\n",
      "delta: 9, p: 0.8401057706023278\n",
      "delta: 0, p: nan\n",
      "bad condition 0: stationarity not adequate\n",
      "delta: 1, p: 0.6161083144540208\n"
     ]
    },
    {
     "name": "stderr",
     "output_type": "stream",
     "text": [
      "C:\\Users\\jeff1\\Anaconda3\\lib\\site-packages\\statsmodels\\tsa\\base\\tsa_model.py:221: ValueWarning: An unsupported index was provided and will be ignored when e.g. forecasting.\n",
      "  ' ignored when e.g. forecasting.', ValueWarning)\n",
      "C:\\Users\\jeff1\\Anaconda3\\lib\\site-packages\\statsmodels\\tsa\\base\\tsa_model.py:221: ValueWarning: An unsupported index was provided and will be ignored when e.g. forecasting.\n",
      "  ' ignored when e.g. forecasting.', ValueWarning)\n"
     ]
    },
    {
     "name": "stdout",
     "output_type": "stream",
     "text": [
      "predictions: [array([335377.34635615])]\n",
      "delta: 0, p: nan\n",
      "delta: 1, p: 0.9835308437232122\n",
      "delta: 2, p: 0.936315090971774\n",
      "delta: 3, p: 0.29574336003585033\n",
      "delta: 4, p: 0.0\n"
     ]
    },
    {
     "name": "stderr",
     "output_type": "stream",
     "text": [
      "C:\\Users\\jeff1\\Anaconda3\\lib\\site-packages\\statsmodels\\tsa\\base\\tsa_model.py:221: ValueWarning: An unsupported index was provided and will be ignored when e.g. forecasting.\n",
      "  ' ignored when e.g. forecasting.', ValueWarning)\n"
     ]
    },
    {
     "name": "stdout",
     "output_type": "stream",
     "text": [
      "predictions: [array([335377.34635615]), array([381065.23236529])]\n",
      "delta: 0, p: nan\n",
      "delta: 1, p: 0.9528562826418087\n",
      "delta: 2, p: 0.9043657963230292\n",
      "delta: 3, p: 0.9399746106310333\n",
      "delta: 4, p: 0.3101146941899212\n",
      "delta: 5, p: 0.0\n"
     ]
    },
    {
     "name": "stderr",
     "output_type": "stream",
     "text": [
      "C:\\Users\\jeff1\\Anaconda3\\lib\\site-packages\\statsmodels\\tsa\\base\\tsa_model.py:221: ValueWarning: An unsupported index was provided and will be ignored when e.g. forecasting.\n",
      "  ' ignored when e.g. forecasting.', ValueWarning)\n"
     ]
    },
    {
     "name": "stdout",
     "output_type": "stream",
     "text": [
      "predictions: [array([335377.34635615]), array([381065.23236529]), array([381632.35287666])]\n",
      "delta: 0, p: nan\n",
      "delta: 1, p: 0.6291586673494849\n",
      "delta: 2, p: 0.15978379309468937\n",
      "delta: 3, p: 0.4029962713907097\n",
      "delta: 4, p: 0.4305882407770762\n",
      "delta: 5, p: 0.9316314945550741\n",
      "delta: 6, p: 1.1087357025793491e-17\n"
     ]
    },
    {
     "name": "stderr",
     "output_type": "stream",
     "text": [
      "C:\\Users\\jeff1\\Anaconda3\\lib\\site-packages\\statsmodels\\tsa\\base\\tsa_model.py:221: ValueWarning: An unsupported index was provided and will be ignored when e.g. forecasting.\n",
      "  ' ignored when e.g. forecasting.', ValueWarning)\n"
     ]
    },
    {
     "name": "stdout",
     "output_type": "stream",
     "text": [
      "predictions: [array([335377.34635615]), array([381065.23236529]), array([381632.35287666]), array([383584.46808877])]\n",
      "delta: 0, p: nan\n",
      "delta: 1, p: 0.6406456954545177\n",
      "delta: 2, p: 0.28708266078724615\n",
      "delta: 3, p: 1.5321909121644347e-09\n"
     ]
    },
    {
     "name": "stderr",
     "output_type": "stream",
     "text": [
      "C:\\Users\\jeff1\\Anaconda3\\lib\\site-packages\\statsmodels\\tsa\\base\\tsa_model.py:221: ValueWarning: An unsupported index was provided and will be ignored when e.g. forecasting.\n",
      "  ' ignored when e.g. forecasting.', ValueWarning)\n"
     ]
    },
    {
     "name": "stdout",
     "output_type": "stream",
     "text": [
      "predictions: [array([335377.34635615]), array([381065.23236529]), array([381632.35287666]), array([383584.46808877]), array([390150.13817651])]\n",
      "delta: 0, p: nan\n",
      "delta: 1, p: 0.7272308638535948\n",
      "delta: 2, p: 2.193732987253685e-08\n"
     ]
    },
    {
     "name": "stderr",
     "output_type": "stream",
     "text": [
      "C:\\Users\\jeff1\\Anaconda3\\lib\\site-packages\\statsmodels\\tsa\\base\\tsa_model.py:221: ValueWarning: An unsupported index was provided and will be ignored when e.g. forecasting.\n",
      "  ' ignored when e.g. forecasting.', ValueWarning)\n"
     ]
    },
    {
     "name": "stdout",
     "output_type": "stream",
     "text": [
      "predictions: [array([335377.34635615]), array([381065.23236529]), array([381632.35287666]), array([383584.46808877]), array([390150.13817651]), array([390171.9306238])]\n",
      "delta: 0, p: nan\n",
      "delta: 1, p: 0.7702950391735929\n",
      "delta: 2, p: 7.35795556420221e-07\n"
     ]
    },
    {
     "name": "stderr",
     "output_type": "stream",
     "text": [
      "C:\\Users\\jeff1\\Anaconda3\\lib\\site-packages\\statsmodels\\tsa\\base\\tsa_model.py:221: ValueWarning: An unsupported index was provided and will be ignored when e.g. forecasting.\n",
      "  ' ignored when e.g. forecasting.', ValueWarning)\n"
     ]
    },
    {
     "name": "stdout",
     "output_type": "stream",
     "text": [
      "predictions: [array([335377.34635615]), array([381065.23236529]), array([381632.35287666]), array([383584.46808877]), array([390150.13817651]), array([390171.9306238]), array([422018.25350735])]\n",
      "delta: 0, p: nan\n",
      "delta: 1, p: 0.17073916159448693\n",
      "delta: 2, p: 0.29239020298528096\n",
      "delta: 3, p: 0.11873151743040011\n",
      "delta: 4, p: 0.02535077867963985\n"
     ]
    },
    {
     "name": "stderr",
     "output_type": "stream",
     "text": [
      "C:\\Users\\jeff1\\Anaconda3\\lib\\site-packages\\statsmodels\\tsa\\base\\tsa_model.py:221: ValueWarning: An unsupported index was provided and will be ignored when e.g. forecasting.\n",
      "  ' ignored when e.g. forecasting.', ValueWarning)\n"
     ]
    },
    {
     "name": "stdout",
     "output_type": "stream",
     "text": [
      "predictions: [array([503925.99323802])]\n",
      "delta: 0, p: nan\n",
      "delta: 1, p: 0.6276919588547057\n",
      "delta: 2, p: 0.2585725722372326\n",
      "delta: 3, p: 0.09878490943328927\n",
      "delta: 4, p: 0.10601981460973153\n",
      "delta: 5, p: 0.07435883374572312\n",
      "delta: 6, p: 0.08852472760603963\n",
      "delta: 7, p: 0.33456549664349333\n",
      "delta: 8, p: 0.30162420102018206\n",
      "delta: 9, p: 3.4742965300329697e-09\n"
     ]
    },
    {
     "name": "stderr",
     "output_type": "stream",
     "text": [
      "C:\\Users\\jeff1\\Anaconda3\\lib\\site-packages\\statsmodels\\tsa\\base\\tsa_model.py:221: ValueWarning: An unsupported index was provided and will be ignored when e.g. forecasting.\n",
      "  ' ignored when e.g. forecasting.', ValueWarning)\n"
     ]
    },
    {
     "name": "stdout",
     "output_type": "stream",
     "text": [
      "predictions: [array([503925.99323802]), array([321731.65033671])]\n",
      "delta: 0, p: nan\n",
      "delta: 1, p: 0.35675610416310066\n",
      "delta: 2, p: 0.11702868286672446\n",
      "delta: 3, p: 0.011192974308983559\n"
     ]
    },
    {
     "name": "stderr",
     "output_type": "stream",
     "text": [
      "C:\\Users\\jeff1\\Anaconda3\\lib\\site-packages\\statsmodels\\tsa\\base\\tsa_model.py:221: ValueWarning: An unsupported index was provided and will be ignored when e.g. forecasting.\n",
      "  ' ignored when e.g. forecasting.', ValueWarning)\n"
     ]
    },
    {
     "name": "stdout",
     "output_type": "stream",
     "text": [
      "predictions: [array([503925.99323802]), array([321731.65033671]), array([396514.41568017])]\n",
      "delta: 0, p: nan\n",
      "delta: 1, p: 0.2771716110936537\n",
      "delta: 2, p: 0.05623324223083742\n",
      "delta: 3, p: 0.0055453151000240085\n"
     ]
    },
    {
     "name": "stderr",
     "output_type": "stream",
     "text": [
      "C:\\Users\\jeff1\\Anaconda3\\lib\\site-packages\\statsmodels\\tsa\\base\\tsa_model.py:221: ValueWarning: An unsupported index was provided and will be ignored when e.g. forecasting.\n",
      "  ' ignored when e.g. forecasting.', ValueWarning)\n"
     ]
    },
    {
     "name": "stdout",
     "output_type": "stream",
     "text": [
      "predictions: [array([503925.99323802]), array([321731.65033671]), array([396514.41568017]), array([370626.08597299])]\n",
      "delta: 0, p: nan\n",
      "delta: 1, p: 0.24801242082693598\n",
      "delta: 2, p: 0.04733162579082982\n"
     ]
    },
    {
     "name": "stderr",
     "output_type": "stream",
     "text": [
      "C:\\Users\\jeff1\\Anaconda3\\lib\\site-packages\\statsmodels\\tsa\\base\\tsa_model.py:221: ValueWarning: An unsupported index was provided and will be ignored when e.g. forecasting.\n",
      "  ' ignored when e.g. forecasting.', ValueWarning)\n"
     ]
    },
    {
     "name": "stdout",
     "output_type": "stream",
     "text": [
      "predictions: [array([503925.99323802]), array([321731.65033671]), array([396514.41568017]), array([370626.08597299]), array([377692.37012134])]\n",
      "delta: 0, p: nan\n",
      "delta: 1, p: 0.32799473105426913\n",
      "delta: 2, p: 0.07789541829778016\n",
      "delta: 3, p: 0.00785034200471551\n"
     ]
    },
    {
     "name": "stderr",
     "output_type": "stream",
     "text": [
      "C:\\Users\\jeff1\\Anaconda3\\lib\\site-packages\\statsmodels\\tsa\\base\\tsa_model.py:221: ValueWarning: An unsupported index was provided and will be ignored when e.g. forecasting.\n",
      "  ' ignored when e.g. forecasting.', ValueWarning)\n"
     ]
    },
    {
     "name": "stdout",
     "output_type": "stream",
     "text": [
      "predictions: [array([503925.99323802]), array([321731.65033671]), array([396514.41568017]), array([370626.08597299]), array([377692.37012134]), array([423538.38736086])]\n",
      "delta: 0, p: nan\n",
      "delta: 1, p: 0.3718780529650627\n",
      "delta: 2, p: 0.08347239121178857\n",
      "delta: 3, p: 0.011705467173315262\n"
     ]
    },
    {
     "name": "stderr",
     "output_type": "stream",
     "text": [
      "C:\\Users\\jeff1\\Anaconda3\\lib\\site-packages\\statsmodels\\tsa\\base\\tsa_model.py:221: ValueWarning: An unsupported index was provided and will be ignored when e.g. forecasting.\n",
      "  ' ignored when e.g. forecasting.', ValueWarning)\n"
     ]
    },
    {
     "name": "stdout",
     "output_type": "stream",
     "text": [
      "predictions: [array([503925.99323802]), array([321731.65033671]), array([396514.41568017]), array([370626.08597299]), array([377692.37012134]), array([423538.38736086]), array([323887.71754318])]\n",
      "delta: 0, p: nan\n",
      "delta: 1, p: 0.41094670878631423\n",
      "delta: 2, p: 0.03179111206051075\n"
     ]
    },
    {
     "name": "stderr",
     "output_type": "stream",
     "text": [
      "C:\\Users\\jeff1\\Anaconda3\\lib\\site-packages\\statsmodels\\tsa\\base\\tsa_model.py:221: ValueWarning: An unsupported index was provided and will be ignored when e.g. forecasting.\n",
      "  ' ignored when e.g. forecasting.', ValueWarning)\n"
     ]
    },
    {
     "name": "stdout",
     "output_type": "stream",
     "text": [
      "predictions: [array([540798.44362916])]\n",
      "delta: 0, p: nan\n",
      "delta: 1, p: 0.9147819108173953\n",
      "delta: 2, p: 0.8138163641803541\n",
      "delta: 3, p: 4.2185766840142034e-20\n"
     ]
    },
    {
     "name": "stderr",
     "output_type": "stream",
     "text": [
      "C:\\Users\\jeff1\\Anaconda3\\lib\\site-packages\\statsmodels\\tsa\\base\\tsa_model.py:221: ValueWarning: An unsupported index was provided and will be ignored when e.g. forecasting.\n",
      "  ' ignored when e.g. forecasting.', ValueWarning)\n"
     ]
    },
    {
     "name": "stdout",
     "output_type": "stream",
     "text": [
      "bad condition 3: stationarity not adequate\n",
      "delta: 4, p: 0.8584192759329236\n",
      "delta: 5, p: 0.8892111280132446\n",
      "delta: 6, p: 1.0380718809881152e-07\n"
     ]
    },
    {
     "name": "stderr",
     "output_type": "stream",
     "text": [
      "C:\\Users\\jeff1\\Anaconda3\\lib\\site-packages\\statsmodels\\tsa\\base\\tsa_model.py:221: ValueWarning: An unsupported index was provided and will be ignored when e.g. forecasting.\n",
      "  ' ignored when e.g. forecasting.', ValueWarning)\n"
     ]
    },
    {
     "name": "stdout",
     "output_type": "stream",
     "text": [
      "predictions: [array([540798.44362916]), array([274129.16048855])]\n",
      "delta: 0, p: nan\n",
      "delta: 1, p: 0.7433511091298266\n",
      "delta: 2, p: 4.1784188710271175e-22\n"
     ]
    },
    {
     "name": "stderr",
     "output_type": "stream",
     "text": [
      "C:\\Users\\jeff1\\Anaconda3\\lib\\site-packages\\statsmodels\\tsa\\base\\tsa_model.py:221: ValueWarning: An unsupported index was provided and will be ignored when e.g. forecasting.\n",
      "  ' ignored when e.g. forecasting.', ValueWarning)\n"
     ]
    },
    {
     "name": "stdout",
     "output_type": "stream",
     "text": [
      "predictions: [array([540798.44362916]), array([274129.16048855]), array([257745.63857431])]\n",
      "delta: 0, p: nan\n",
      "delta: 1, p: 0.6008681313954226\n",
      "delta: 2, p: 0.5802805246135134\n",
      "delta: 3, p: 2.8890660430622914e-11\n"
     ]
    },
    {
     "name": "stderr",
     "output_type": "stream",
     "text": [
      "C:\\Users\\jeff1\\Anaconda3\\lib\\site-packages\\statsmodels\\tsa\\base\\tsa_model.py:221: ValueWarning: An unsupported index was provided and will be ignored when e.g. forecasting.\n",
      "  ' ignored when e.g. forecasting.', ValueWarning)\n"
     ]
    },
    {
     "name": "stdout",
     "output_type": "stream",
     "text": [
      "predictions: [array([540798.44362916]), array([274129.16048855]), array([257745.63857431]), array([235826.04481313])]\n",
      "delta: 0, p: nan\n",
      "delta: 1, p: 4.230616123895233e-28\n"
     ]
    },
    {
     "name": "stderr",
     "output_type": "stream",
     "text": [
      "C:\\Users\\jeff1\\Anaconda3\\lib\\site-packages\\statsmodels\\tsa\\base\\tsa_model.py:221: ValueWarning: An unsupported index was provided and will be ignored when e.g. forecasting.\n",
      "  ' ignored when e.g. forecasting.', ValueWarning)\n",
      "C:\\Users\\jeff1\\Anaconda3\\lib\\site-packages\\statsmodels\\base\\model.py:488: HessianInversionWarning: Inverting hessian failed, no bse or cov_params available\n",
      "  'available', HessianInversionWarning)\n",
      "C:\\Users\\jeff1\\Anaconda3\\lib\\site-packages\\statsmodels\\tsa\\base\\tsa_model.py:221: ValueWarning: An unsupported index was provided and will be ignored when e.g. forecasting.\n",
      "  ' ignored when e.g. forecasting.', ValueWarning)\n"
     ]
    },
    {
     "name": "stdout",
     "output_type": "stream",
     "text": [
      "predictions: [array([540798.44362916]), array([274129.16048855]), array([257745.63857431]), array([235826.04481313]), array([309898.75784351])]\n",
      "delta: 0, p: nan\n",
      "delta: 1, p: 3.880493464985173e-28\n",
      "predictions: [array([540798.44362916]), array([274129.16048855]), array([257745.63857431]), array([235826.04481313]), array([309898.75784351]), array([395961.06026162])]\n",
      "delta: 0, p: nan\n",
      "delta: 1, p: 3.5585687522284492e-28\n"
     ]
    },
    {
     "name": "stderr",
     "output_type": "stream",
     "text": [
      "C:\\Users\\jeff1\\Anaconda3\\lib\\site-packages\\statsmodels\\tsa\\base\\tsa_model.py:221: ValueWarning: An unsupported index was provided and will be ignored when e.g. forecasting.\n",
      "  ' ignored when e.g. forecasting.', ValueWarning)\n"
     ]
    },
    {
     "name": "stdout",
     "output_type": "stream",
     "text": [
      "predictions: [array([540798.44362916]), array([274129.16048855]), array([257745.63857431]), array([235826.04481313]), array([309898.75784351]), array([395961.06026162]), array([403164.73894696])]\n",
      "delta: 0, p: nan\n",
      "delta: 1, p: 0.424397466642477\n",
      "delta: 2, p: 0.08912469536555295\n",
      "delta: 3, p: 0.056462352058753405\n",
      "delta: 4, p: 0.3058655176861256\n",
      "delta: 5, p: 0.13574819602342353\n",
      "delta: 6, p: 0.10526922366452024\n",
      "delta: 7, p: 0.0013160082941814472\n"
     ]
    },
    {
     "name": "stderr",
     "output_type": "stream",
     "text": [
      "C:\\Users\\jeff1\\Anaconda3\\lib\\site-packages\\statsmodels\\tsa\\base\\tsa_model.py:221: ValueWarning: An unsupported index was provided and will be ignored when e.g. forecasting.\n",
      "  ' ignored when e.g. forecasting.', ValueWarning)\n"
     ]
    },
    {
     "name": "stdout",
     "output_type": "stream",
     "text": [
      "predictions: [array([595682.56051277])]\n",
      "delta: 0, p: nan\n",
      "delta: 1, p: 0.6104974915895492\n",
      "delta: 2, p: 0.3088358270072822\n",
      "delta: 3, p: 0.5160868232291866\n",
      "delta: 4, p: 0.5215961734516776\n",
      "delta: 5, p: 0.6331156130537785\n",
      "delta: 6, p: 0.39507021474121784\n",
      "delta: 7, p: 0.12553979134834625\n",
      "delta: 8, p: 0.06426036703763982\n",
      "delta: 9, p: 3.844430234462545e-06\n"
     ]
    },
    {
     "name": "stderr",
     "output_type": "stream",
     "text": [
      "C:\\Users\\jeff1\\Anaconda3\\lib\\site-packages\\statsmodels\\tsa\\base\\tsa_model.py:221: ValueWarning: An unsupported index was provided and will be ignored when e.g. forecasting.\n",
      "  ' ignored when e.g. forecasting.', ValueWarning)\n",
      "C:\\Users\\jeff1\\Anaconda3\\lib\\site-packages\\statsmodels\\base\\model.py:488: HessianInversionWarning: Inverting hessian failed, no bse or cov_params available\n",
      "  'available', HessianInversionWarning)\n"
     ]
    },
    {
     "name": "stdout",
     "output_type": "stream",
     "text": [
      "predictions: [array([595682.56051277]), array([233812.74523684])]\n",
      "delta: 0, p: nan\n",
      "delta: 1, p: 0.5260180470062346\n",
      "delta: 2, p: 0.12631329719220696\n",
      "delta: 3, p: 0.24730904600575482\n",
      "delta: 4, p: 0.22812208308206305\n",
      "delta: 5, p: 0.4797150786127319\n",
      "delta: 6, p: 0.21774383634076322\n",
      "delta: 7, p: 0.10696259100455174\n",
      "delta: 8, p: 0.00038599476485748607\n"
     ]
    },
    {
     "name": "stderr",
     "output_type": "stream",
     "text": [
      "C:\\Users\\jeff1\\Anaconda3\\lib\\site-packages\\statsmodels\\tsa\\base\\tsa_model.py:221: ValueWarning: An unsupported index was provided and will be ignored when e.g. forecasting.\n",
      "  ' ignored when e.g. forecasting.', ValueWarning)\n",
      "C:\\Users\\jeff1\\Anaconda3\\lib\\site-packages\\statsmodels\\base\\model.py:488: HessianInversionWarning: Inverting hessian failed, no bse or cov_params available\n",
      "  'available', HessianInversionWarning)\n"
     ]
    },
    {
     "name": "stdout",
     "output_type": "stream",
     "text": [
      "predictions: [array([595682.56051277]), array([233812.74523684]), array([265146.88096388])]\n",
      "delta: 0, p: nan\n",
      "delta: 1, p: 0.41684148422633244\n",
      "delta: 2, p: 0.06513840726072358\n",
      "delta: 3, p: 0.05165409739267468\n",
      "delta: 4, p: 0.1626994421176216\n",
      "delta: 5, p: 0.247145383606924\n",
      "delta: 6, p: 0.06918811688078207\n",
      "delta: 7, p: 0.17145538527517445\n",
      "delta: 8, p: 0.00011003062856752204\n"
     ]
    },
    {
     "name": "stderr",
     "output_type": "stream",
     "text": [
      "C:\\Users\\jeff1\\Anaconda3\\lib\\site-packages\\statsmodels\\tsa\\base\\tsa_model.py:221: ValueWarning: An unsupported index was provided and will be ignored when e.g. forecasting.\n",
      "  ' ignored when e.g. forecasting.', ValueWarning)\n"
     ]
    },
    {
     "name": "stdout",
     "output_type": "stream",
     "text": [
      "predictions: [array([595682.56051277]), array([233812.74523684]), array([265146.88096388]), array([296110.42204039])]\n",
      "delta: 0, p: nan\n",
      "delta: 1, p: 0.2769572179195492\n",
      "delta: 2, p: 0.23334919963491624\n",
      "delta: 3, p: 0.03237268385604744\n"
     ]
    },
    {
     "name": "stderr",
     "output_type": "stream",
     "text": [
      "C:\\Users\\jeff1\\Anaconda3\\lib\\site-packages\\statsmodels\\tsa\\base\\tsa_model.py:221: ValueWarning: An unsupported index was provided and will be ignored when e.g. forecasting.\n",
      "  ' ignored when e.g. forecasting.', ValueWarning)\n",
      "C:\\Users\\jeff1\\Anaconda3\\lib\\site-packages\\statsmodels\\tsa\\tsatools.py:634: RuntimeWarning: divide by zero encountered in log\n",
      "  invarcoefs = -np.log((1-params)/(1+params))\n"
     ]
    },
    {
     "name": "stdout",
     "output_type": "stream",
     "text": [
      "bad condition 3: stationarity not adequate\n",
      "delta: 4, p: 0.10974177134702656\n",
      "delta: 5, p: 0.20297141551381498\n",
      "delta: 6, p: 0.07642666906032049\n",
      "delta: 7, p: 0.31126867406385555\n",
      "delta: 8, p: 0.39536050767541947\n",
      "delta: 9, p: 7.949770968926924e-08\n"
     ]
    },
    {
     "name": "stderr",
     "output_type": "stream",
     "text": [
      "C:\\Users\\jeff1\\Anaconda3\\lib\\site-packages\\statsmodels\\tsa\\base\\tsa_model.py:221: ValueWarning: An unsupported index was provided and will be ignored when e.g. forecasting.\n",
      "  ' ignored when e.g. forecasting.', ValueWarning)\n"
     ]
    },
    {
     "name": "stdout",
     "output_type": "stream",
     "text": [
      "predictions: [array([595682.56051277]), array([233812.74523684]), array([265146.88096388]), array([296110.42204039]), array([236346.86396523])]\n",
      "delta: 0, p: nan\n",
      "delta: 1, p: 0.3287389085230188\n",
      "delta: 2, p: 0.31219839411916883\n",
      "delta: 3, p: 0.04569702456618479\n"
     ]
    },
    {
     "name": "stderr",
     "output_type": "stream",
     "text": [
      "C:\\Users\\jeff1\\Anaconda3\\lib\\site-packages\\statsmodels\\tsa\\base\\tsa_model.py:221: ValueWarning: An unsupported index was provided and will be ignored when e.g. forecasting.\n",
      "  ' ignored when e.g. forecasting.', ValueWarning)\n"
     ]
    },
    {
     "name": "stdout",
     "output_type": "stream",
     "text": [
      "predictions: [array([595682.56051277]), array([233812.74523684]), array([265146.88096388]), array([296110.42204039]), array([236346.86396523]), array([453407.44679859])]\n",
      "delta: 0, p: nan\n",
      "delta: 1, p: 0.45427479692703304\n",
      "delta: 2, p: 0.3804076289631441\n",
      "delta: 3, p: 0.07199613020059714\n",
      "delta: 4, p: 0.1829658205929226\n",
      "delta: 5, p: 0.40345489316040783\n",
      "delta: 6, p: 0.003571992539430058\n"
     ]
    },
    {
     "name": "stderr",
     "output_type": "stream",
     "text": [
      "C:\\Users\\jeff1\\Anaconda3\\lib\\site-packages\\statsmodels\\tsa\\base\\tsa_model.py:221: ValueWarning: An unsupported index was provided and will be ignored when e.g. forecasting.\n",
      "  ' ignored when e.g. forecasting.', ValueWarning)\n"
     ]
    },
    {
     "name": "stdout",
     "output_type": "stream",
     "text": [
      "predictions: [array([595682.56051277]), array([233812.74523684]), array([265146.88096388]), array([296110.42204039]), array([236346.86396523]), array([453407.44679859]), array([220083.2940373])]\n",
      "delta: 0, p: nan\n",
      "delta: 1, p: 0.4420960114586084\n",
      "delta: 2, p: 0.3785119169861585\n",
      "delta: 3, p: 0.34989586870891476\n",
      "delta: 4, p: 0.1021670225988956\n",
      "delta: 5, p: 0.4298020914025151\n",
      "delta: 6, p: 0.30622589950796086\n",
      "delta: 7, p: 0.2039115179361053\n",
      "delta: 8, p: 0.010454276641432309\n"
     ]
    },
    {
     "name": "stderr",
     "output_type": "stream",
     "text": [
      "C:\\Users\\jeff1\\Anaconda3\\lib\\site-packages\\statsmodels\\tsa\\base\\tsa_model.py:221: ValueWarning: An unsupported index was provided and will be ignored when e.g. forecasting.\n",
      "  ' ignored when e.g. forecasting.', ValueWarning)\n"
     ]
    },
    {
     "name": "stdout",
     "output_type": "stream",
     "text": [
      "predictions: [array([408612.88337468])]\n",
      "delta: 0, p: nan\n",
      "delta: 1, p: 0.4752454959530288\n",
      "delta: 2, p: 0.8008647806316685\n",
      "delta: 3, p: 0.5732793156263393\n",
      "delta: 4, p: 0.3186896079570381\n",
      "delta: 5, p: 0.48460297111123274\n",
      "delta: 6, p: 0.36506042212940804\n",
      "delta: 7, p: 0.4466082382172444\n",
      "delta: 8, p: 0.4605671966457956\n",
      "delta: 9, p: 4.972249596424231e-28\n"
     ]
    },
    {
     "name": "stderr",
     "output_type": "stream",
     "text": [
      "C:\\Users\\jeff1\\Anaconda3\\lib\\site-packages\\statsmodels\\tsa\\base\\tsa_model.py:221: ValueWarning: An unsupported index was provided and will be ignored when e.g. forecasting.\n",
      "  ' ignored when e.g. forecasting.', ValueWarning)\n"
     ]
    },
    {
     "name": "stdout",
     "output_type": "stream",
     "text": [
      "predictions: [array([408612.88337468]), array([392897.49000668])]\n",
      "delta: 0, p: nan\n",
      "delta: 1, p: 0.5220859650017357\n",
      "delta: 2, p: 0.36340640662802226\n",
      "delta: 3, p: 0.3735460960976149\n",
      "delta: 4, p: 0.3667124362323104\n",
      "delta: 5, p: 0.2112397426608718\n",
      "delta: 6, p: 0.35754625299668963\n",
      "delta: 7, p: 0.6433510974651464\n",
      "delta: 8, p: 0.15120433678463552\n",
      "delta: 9, p: 0.7035165148816572\n",
      "delta: 0, p: nan\n"
     ]
    },
    {
     "name": "stderr",
     "output_type": "stream",
     "text": [
      "C:\\Users\\jeff1\\Anaconda3\\lib\\site-packages\\statsmodels\\tsa\\base\\tsa_model.py:221: ValueWarning: An unsupported index was provided and will be ignored when e.g. forecasting.\n",
      "  ' ignored when e.g. forecasting.', ValueWarning)\n",
      "C:\\Users\\jeff1\\Anaconda3\\lib\\site-packages\\statsmodels\\tsa\\base\\tsa_model.py:221: ValueWarning: An unsupported index was provided and will be ignored when e.g. forecasting.\n",
      "  ' ignored when e.g. forecasting.', ValueWarning)\n"
     ]
    },
    {
     "name": "stdout",
     "output_type": "stream",
     "text": [
      "bad condition 0: stationarity not adequate\n",
      "delta: 1, p: 0.5220859650017357\n",
      "predictions: [array([408612.88337468]), array([392897.49000668]), array([387371.49585835])]\n",
      "delta: 0, p: nan\n",
      "delta: 1, p: 0.4093480470499374\n",
      "delta: 2, p: 0.006389060240238497\n"
     ]
    },
    {
     "name": "stderr",
     "output_type": "stream",
     "text": [
      "C:\\Users\\jeff1\\Anaconda3\\lib\\site-packages\\statsmodels\\tsa\\base\\tsa_model.py:221: ValueWarning: An unsupported index was provided and will be ignored when e.g. forecasting.\n",
      "  ' ignored when e.g. forecasting.', ValueWarning)\n"
     ]
    },
    {
     "name": "stdout",
     "output_type": "stream",
     "text": [
      "predictions: [array([408612.88337468]), array([392897.49000668]), array([387371.49585835]), array([398494.13871172])]\n",
      "delta: 0, p: nan\n",
      "delta: 1, p: 0.40343116533801415\n",
      "delta: 2, p: 0.0047540575588875655\n"
     ]
    },
    {
     "name": "stderr",
     "output_type": "stream",
     "text": [
      "C:\\Users\\jeff1\\Anaconda3\\lib\\site-packages\\statsmodels\\tsa\\base\\tsa_model.py:221: ValueWarning: An unsupported index was provided and will be ignored when e.g. forecasting.\n",
      "  ' ignored when e.g. forecasting.', ValueWarning)\n"
     ]
    },
    {
     "name": "stdout",
     "output_type": "stream",
     "text": [
      "predictions: [array([408612.88337468]), array([392897.49000668]), array([387371.49585835]), array([398494.13871172]), array([397321.19927178])]\n",
      "delta: 0, p: nan\n",
      "delta: 1, p: 0.4049646379198641\n",
      "delta: 2, p: 0.35308576505702227\n",
      "delta: 3, p: 0.2504452437160507\n",
      "delta: 4, p: 0.3739118203509477\n",
      "delta: 5, p: 0.16606717248948843\n",
      "delta: 6, p: 0.3072576464759086\n",
      "delta: 7, p: 0.6145862359696875\n",
      "delta: 8, p: 0.13371865823819157\n",
      "delta: 9, p: 0.6981032872305859\n",
      "delta: 0, p: nan\n",
      "bad condition 0: stationarity not adequate\n",
      "delta: 1, p: 0.4049646379198641\n"
     ]
    },
    {
     "name": "stderr",
     "output_type": "stream",
     "text": [
      "C:\\Users\\jeff1\\Anaconda3\\lib\\site-packages\\statsmodels\\tsa\\base\\tsa_model.py:221: ValueWarning: An unsupported index was provided and will be ignored when e.g. forecasting.\n",
      "  ' ignored when e.g. forecasting.', ValueWarning)\n",
      "C:\\Users\\jeff1\\Anaconda3\\lib\\site-packages\\statsmodels\\tsa\\base\\tsa_model.py:221: ValueWarning: An unsupported index was provided and will be ignored when e.g. forecasting.\n",
      "  ' ignored when e.g. forecasting.', ValueWarning)\n"
     ]
    },
    {
     "name": "stdout",
     "output_type": "stream",
     "text": [
      "predictions: [array([408612.88337468]), array([392897.49000668]), array([387371.49585835]), array([398494.13871172]), array([397321.19927178]), array([399890.02455558])]\n",
      "delta: 0, p: nan\n",
      "delta: 1, p: 0.41122332555402297\n",
      "delta: 2, p: 0.3493195900657894\n",
      "delta: 3, p: 0.17075558849723604\n",
      "delta: 4, p: 0.3722168942557403\n",
      "delta: 5, p: 0.13130548688736599\n",
      "delta: 6, p: 0.25841301804728717\n",
      "delta: 7, p: 0.6125855633067441\n",
      "delta: 8, p: 0.13781040363036817\n",
      "delta: 9, p: 0.69993442869328\n",
      "delta: 0, p: nan\n",
      "bad condition 0: stationarity not adequate\n",
      "delta: 1, p: 0.41122332555402297\n"
     ]
    },
    {
     "name": "stderr",
     "output_type": "stream",
     "text": [
      "C:\\Users\\jeff1\\Anaconda3\\lib\\site-packages\\statsmodels\\tsa\\base\\tsa_model.py:221: ValueWarning: An unsupported index was provided and will be ignored when e.g. forecasting.\n",
      "  ' ignored when e.g. forecasting.', ValueWarning)\n",
      "C:\\Users\\jeff1\\Anaconda3\\lib\\site-packages\\statsmodels\\tsa\\base\\tsa_model.py:221: ValueWarning: An unsupported index was provided and will be ignored when e.g. forecasting.\n",
      "  ' ignored when e.g. forecasting.', ValueWarning)\n"
     ]
    },
    {
     "name": "stdout",
     "output_type": "stream",
     "text": [
      "predictions: [array([408612.88337468]), array([392897.49000668]), array([387371.49585835]), array([398494.13871172]), array([397321.19927178]), array([399890.02455558]), array([403681.21167668])]\n",
      "delta: 0, p: nan\n",
      "delta: 1, p: 0.3971024403730981\n",
      "delta: 2, p: 0.16504416525578786\n",
      "delta: 3, p: 0.11498360786446621\n",
      "delta: 4, p: 0.40782681766263185\n",
      "delta: 5, p: 0.09664619117527484\n",
      "delta: 6, p: 0.19175790174700685\n",
      "delta: 7, p: 0.015499954332107952\n"
     ]
    },
    {
     "name": "stderr",
     "output_type": "stream",
     "text": [
      "C:\\Users\\jeff1\\Anaconda3\\lib\\site-packages\\statsmodels\\tsa\\base\\tsa_model.py:221: ValueWarning: An unsupported index was provided and will be ignored when e.g. forecasting.\n",
      "  ' ignored when e.g. forecasting.', ValueWarning)\n"
     ]
    },
    {
     "name": "stdout",
     "output_type": "stream",
     "text": [
      "predictions: [array([410620.87302127])]\n",
      "delta: 0, p: nan\n",
      "delta: 1, p: 0.5928934000275804\n",
      "delta: 2, p: 0.7050303273322038\n",
      "delta: 3, p: 0.6950988172667145\n",
      "delta: 4, p: 0.6604043242074888\n",
      "delta: 5, p: 0.28285164006811375\n",
      "delta: 6, p: 0.3283149932168222\n",
      "delta: 7, p: 0.09133715356029337\n",
      "delta: 8, p: 0.18171812962610945\n",
      "delta: 9, p: 2.6226422114359546e-29\n"
     ]
    },
    {
     "name": "stderr",
     "output_type": "stream",
     "text": [
      "C:\\Users\\jeff1\\Anaconda3\\lib\\site-packages\\statsmodels\\tsa\\base\\tsa_model.py:221: ValueWarning: An unsupported index was provided and will be ignored when e.g. forecasting.\n",
      "  ' ignored when e.g. forecasting.', ValueWarning)\n"
     ]
    },
    {
     "name": "stdout",
     "output_type": "stream",
     "text": [
      "predictions: [array([410620.87302127]), array([392455.01489417])]\n",
      "delta: 0, p: nan\n",
      "delta: 1, p: 0.5245330147306226\n",
      "delta: 2, p: 0.11944293909679943\n",
      "delta: 3, p: 0.10620765298796875\n",
      "delta: 4, p: 0.10687941395851136\n",
      "delta: 5, p: 0.0698607790997056\n",
      "delta: 6, p: 0.17307117920734655\n",
      "delta: 7, p: 0.03132674955121404\n"
     ]
    },
    {
     "name": "stderr",
     "output_type": "stream",
     "text": [
      "C:\\Users\\jeff1\\Anaconda3\\lib\\site-packages\\statsmodels\\tsa\\base\\tsa_model.py:221: ValueWarning: An unsupported index was provided and will be ignored when e.g. forecasting.\n",
      "  ' ignored when e.g. forecasting.', ValueWarning)\n"
     ]
    },
    {
     "name": "stdout",
     "output_type": "stream",
     "text": [
      "predictions: [array([410620.87302127]), array([392455.01489417]), array([391293.38439422])]\n",
      "delta: 0, p: nan\n",
      "delta: 1, p: 0.5112804591332752\n",
      "delta: 2, p: 0.1083672619285534\n",
      "delta: 3, p: 0.09632218114040975\n",
      "delta: 4, p: 0.10090245328118996\n",
      "delta: 5, p: 0.06970004182614378\n",
      "delta: 6, p: 0.1702479358268923\n",
      "delta: 7, p: 0.0315745747878888\n"
     ]
    },
    {
     "name": "stderr",
     "output_type": "stream",
     "text": [
      "C:\\Users\\jeff1\\Anaconda3\\lib\\site-packages\\statsmodels\\tsa\\base\\tsa_model.py:221: ValueWarning: An unsupported index was provided and will be ignored when e.g. forecasting.\n",
      "  ' ignored when e.g. forecasting.', ValueWarning)\n"
     ]
    },
    {
     "name": "stdout",
     "output_type": "stream",
     "text": [
      "predictions: [array([410620.87302127]), array([392455.01489417]), array([391293.38439422]), array([395757.77126222])]\n",
      "delta: 0, p: nan\n",
      "delta: 1, p: 0.5093410815690215\n",
      "delta: 2, p: 0.1064114526106954\n",
      "delta: 3, p: 0.08948704206862501\n",
      "delta: 4, p: 0.0995244149847282\n",
      "delta: 5, p: 0.06989499509548121\n",
      "delta: 6, p: 0.1791220244574731\n",
      "delta: 7, p: 0.032322136988281396\n"
     ]
    },
    {
     "name": "stderr",
     "output_type": "stream",
     "text": [
      "C:\\Users\\jeff1\\Anaconda3\\lib\\site-packages\\statsmodels\\tsa\\base\\tsa_model.py:221: ValueWarning: An unsupported index was provided and will be ignored when e.g. forecasting.\n",
      "  ' ignored when e.g. forecasting.', ValueWarning)\n"
     ]
    },
    {
     "name": "stdout",
     "output_type": "stream",
     "text": [
      "predictions: [array([410620.87302127]), array([392455.01489417]), array([391293.38439422]), array([395757.77126222]), array([398615.7106134])]\n",
      "delta: 0, p: nan\n",
      "delta: 1, p: 0.5018082251254287\n",
      "delta: 2, p: 0.10475640225345628\n",
      "delta: 3, p: 0.11302223853097776\n",
      "delta: 4, p: 0.07621890727208878\n",
      "delta: 5, p: 0.07357339062710207\n",
      "delta: 6, p: 0.19779350239205734\n",
      "delta: 7, p: 0.03542111254962794\n"
     ]
    },
    {
     "name": "stderr",
     "output_type": "stream",
     "text": [
      "C:\\Users\\jeff1\\Anaconda3\\lib\\site-packages\\statsmodels\\tsa\\base\\tsa_model.py:221: ValueWarning: An unsupported index was provided and will be ignored when e.g. forecasting.\n",
      "  ' ignored when e.g. forecasting.', ValueWarning)\n",
      "C:\\Users\\jeff1\\Anaconda3\\lib\\site-packages\\statsmodels\\base\\model.py:488: HessianInversionWarning: Inverting hessian failed, no bse or cov_params available\n",
      "  'available', HessianInversionWarning)\n",
      "C:\\Users\\jeff1\\Anaconda3\\lib\\site-packages\\statsmodels\\tsa\\base\\tsa_model.py:221: ValueWarning: An unsupported index was provided and will be ignored when e.g. forecasting.\n",
      "  ' ignored when e.g. forecasting.', ValueWarning)\n"
     ]
    },
    {
     "name": "stdout",
     "output_type": "stream",
     "text": [
      "predictions: [array([410620.87302127]), array([392455.01489417]), array([391293.38439422]), array([395757.77126222]), array([398615.7106134]), array([402577.5039544])]\n",
      "delta: 0, p: nan\n",
      "delta: 1, p: 0.5192530837789017\n",
      "delta: 2, p: 0.11161058813639907\n",
      "delta: 3, p: 0.1140700651827406\n",
      "delta: 4, p: 0.07107639210220189\n",
      "delta: 5, p: 0.06063856598194467\n",
      "delta: 6, p: 0.202285017136751\n",
      "delta: 7, p: 0.03418779730973908\n",
      "predictions: [array([410620.87302127]), array([392455.01489417]), array([391293.38439422]), array([395757.77126222]), array([398615.7106134]), array([402577.5039544]), array([403659.67936548])]\n",
      "delta: 0, p: nan\n",
      "delta: 1, p: 0.3236298061888612\n",
      "delta: 2, p: 0.2679049965338456\n",
      "delta: 3, p: 0.13031052766979978\n",
      "delta: 4, p: 0.05980123636210632\n",
      "delta: 5, p: 0.009912221957051081\n"
     ]
    },
    {
     "name": "stderr",
     "output_type": "stream",
     "text": [
      "C:\\Users\\jeff1\\Anaconda3\\lib\\site-packages\\statsmodels\\tsa\\base\\tsa_model.py:221: ValueWarning: An unsupported index was provided and will be ignored when e.g. forecasting.\n",
      "  ' ignored when e.g. forecasting.', ValueWarning)\n"
     ]
    },
    {
     "name": "stdout",
     "output_type": "stream",
     "text": [
      "predictions: [array([526015.28774129])]\n",
      "delta: 0, p: nan\n",
      "delta: 1, p: 0.9361548535355331\n",
      "delta: 2, p: 0.9374974527518309\n",
      "delta: 3, p: 0.8077709967454395\n",
      "delta: 4, p: 9.302287420380221e-30\n"
     ]
    },
    {
     "name": "stderr",
     "output_type": "stream",
     "text": [
      "C:\\Users\\jeff1\\Anaconda3\\lib\\site-packages\\statsmodels\\tsa\\base\\tsa_model.py:221: ValueWarning: An unsupported index was provided and will be ignored when e.g. forecasting.\n",
      "  ' ignored when e.g. forecasting.', ValueWarning)\n"
     ]
    },
    {
     "name": "stdout",
     "output_type": "stream",
     "text": [
      "bad condition 4: stationarity not adequate\n",
      "delta: 5, p: 0.8944368399763114\n",
      "delta: 6, p: 4.478232727687731e-17\n"
     ]
    },
    {
     "name": "stderr",
     "output_type": "stream",
     "text": [
      "C:\\Users\\jeff1\\Anaconda3\\lib\\site-packages\\statsmodels\\tsa\\base\\tsa_model.py:221: ValueWarning: An unsupported index was provided and will be ignored when e.g. forecasting.\n",
      "  ' ignored when e.g. forecasting.', ValueWarning)\n",
      "C:\\Users\\jeff1\\Anaconda3\\lib\\site-packages\\statsmodels\\base\\model.py:488: HessianInversionWarning: Inverting hessian failed, no bse or cov_params available\n",
      "  'available', HessianInversionWarning)\n",
      "C:\\Users\\jeff1\\Anaconda3\\lib\\site-packages\\statsmodels\\tsa\\base\\tsa_model.py:221: ValueWarning: An unsupported index was provided and will be ignored when e.g. forecasting.\n",
      "  ' ignored when e.g. forecasting.', ValueWarning)\n"
     ]
    },
    {
     "name": "stdout",
     "output_type": "stream",
     "text": [
      "predictions: [array([526015.28774129]), array([304589.21121758])]\n",
      "delta: 0, p: nan\n",
      "delta: 1, p: 0.8076115404383016\n",
      "delta: 2, p: 1.3352213272024488e-27\n",
      "predictions: [array([526015.28774129]), array([304589.21121758]), array([269059.08006179])]\n",
      "delta: 0, p: nan\n",
      "delta: 1, p: 0.26400235001593686\n",
      "delta: 2, p: 0.28846406879508707\n",
      "delta: 3, p: 0.827514196208625\n",
      "delta: 4, p: 1.1727713478742413e-23\n"
     ]
    },
    {
     "name": "stderr",
     "output_type": "stream",
     "text": [
      "C:\\Users\\jeff1\\Anaconda3\\lib\\site-packages\\statsmodels\\tsa\\base\\tsa_model.py:221: ValueWarning: An unsupported index was provided and will be ignored when e.g. forecasting.\n",
      "  ' ignored when e.g. forecasting.', ValueWarning)\n"
     ]
    },
    {
     "name": "stdout",
     "output_type": "stream",
     "text": [
      "predictions: [array([526015.28774129]), array([304589.21121758]), array([269059.08006179]), array([380434.72818947])]\n",
      "delta: 0, p: nan\n",
      "delta: 1, p: 6.836163987181702e-28\n"
     ]
    },
    {
     "name": "stderr",
     "output_type": "stream",
     "text": [
      "C:\\Users\\jeff1\\Anaconda3\\lib\\site-packages\\statsmodels\\tsa\\base\\tsa_model.py:221: ValueWarning: An unsupported index was provided and will be ignored when e.g. forecasting.\n",
      "  ' ignored when e.g. forecasting.', ValueWarning)\n"
     ]
    },
    {
     "name": "stdout",
     "output_type": "stream",
     "text": [
      "predictions: [array([526015.28774129]), array([304589.21121758]), array([269059.08006179]), array([380434.72818947]), array([358588.832253])]\n",
      "delta: 0, p: nan\n",
      "delta: 1, p: 6.253717997501271e-28\n"
     ]
    },
    {
     "name": "stderr",
     "output_type": "stream",
     "text": [
      "C:\\Users\\jeff1\\Anaconda3\\lib\\site-packages\\statsmodels\\tsa\\base\\tsa_model.py:221: ValueWarning: An unsupported index was provided and will be ignored when e.g. forecasting.\n",
      "  ' ignored when e.g. forecasting.', ValueWarning)\n"
     ]
    },
    {
     "name": "stdout",
     "output_type": "stream",
     "text": [
      "predictions: [array([526015.28774129]), array([304589.21121758]), array([269059.08006179]), array([380434.72818947]), array([358588.832253]), array([402331.9863205])]\n",
      "delta: 0, p: nan\n",
      "delta: 1, p: 5.7190588311410335e-28\n"
     ]
    },
    {
     "name": "stderr",
     "output_type": "stream",
     "text": [
      "C:\\Users\\jeff1\\Anaconda3\\lib\\site-packages\\statsmodels\\tsa\\base\\tsa_model.py:221: ValueWarning: An unsupported index was provided and will be ignored when e.g. forecasting.\n",
      "  ' ignored when e.g. forecasting.', ValueWarning)\n"
     ]
    },
    {
     "name": "stdout",
     "output_type": "stream",
     "text": [
      "predictions: [array([526015.28774129]), array([304589.21121758]), array([269059.08006179]), array([380434.72818947]), array([358588.832253]), array([402331.9863205]), array([403183.92629877])]\n",
      "delta: 0, p: nan\n",
      "delta: 1, p: 0.3309320231426951\n",
      "delta: 2, p: 0.05235000261017533\n",
      "delta: 3, p: 0.026445588616860298\n"
     ]
    },
    {
     "name": "stderr",
     "output_type": "stream",
     "text": [
      "C:\\Users\\jeff1\\Anaconda3\\lib\\site-packages\\statsmodels\\tsa\\base\\tsa_model.py:221: ValueWarning: An unsupported index was provided and will be ignored when e.g. forecasting.\n",
      "  ' ignored when e.g. forecasting.', ValueWarning)\n"
     ]
    },
    {
     "name": "stdout",
     "output_type": "stream",
     "text": [
      "predictions: [array([568858.11202306])]\n",
      "delta: 0, p: nan\n",
      "delta: 1, p: 0.8358251589593163\n",
      "delta: 2, p: 0.9020977793383409\n",
      "delta: 3, p: 3.6396594328895503e-09\n"
     ]
    },
    {
     "name": "stderr",
     "output_type": "stream",
     "text": [
      "C:\\Users\\jeff1\\Anaconda3\\lib\\site-packages\\statsmodels\\tsa\\base\\tsa_model.py:221: ValueWarning: An unsupported index was provided and will be ignored when e.g. forecasting.\n",
      "  ' ignored when e.g. forecasting.', ValueWarning)\n"
     ]
    },
    {
     "name": "stdout",
     "output_type": "stream",
     "text": [
      "predictions: [array([568858.11202306]), array([197188.02938208])]\n",
      "delta: 0, p: nan\n",
      "delta: 1, p: 0.7562066429414944\n",
      "delta: 2, p: 0.5280953606085973\n",
      "delta: 3, p: 0.8583162735361058\n",
      "delta: 4, p: 0.6579793125499364\n",
      "delta: 5, p: 0.4057558341040878\n",
      "delta: 6, p: 3.939562473485953e-15\n"
     ]
    },
    {
     "name": "stderr",
     "output_type": "stream",
     "text": [
      "C:\\Users\\jeff1\\Anaconda3\\lib\\site-packages\\statsmodels\\tsa\\base\\tsa_model.py:221: ValueWarning: An unsupported index was provided and will be ignored when e.g. forecasting.\n",
      "  ' ignored when e.g. forecasting.', ValueWarning)\n"
     ]
    },
    {
     "name": "stdout",
     "output_type": "stream",
     "text": [
      "predictions: [array([568858.11202306]), array([197188.02938208]), array([234692.91062066])]\n",
      "delta: 0, p: nan\n",
      "delta: 1, p: 0.7209177989647088\n",
      "delta: 2, p: 0.405587530917742\n",
      "delta: 3, p: 0.8118756782491126\n",
      "delta: 4, p: 0.5044199405235191\n",
      "delta: 5, p: 0.3217538368662839\n",
      "delta: 6, p: 2.5642245833961626e-18\n"
     ]
    },
    {
     "name": "stderr",
     "output_type": "stream",
     "text": [
      "C:\\Users\\jeff1\\Anaconda3\\lib\\site-packages\\statsmodels\\tsa\\base\\tsa_model.py:221: ValueWarning: An unsupported index was provided and will be ignored when e.g. forecasting.\n",
      "  ' ignored when e.g. forecasting.', ValueWarning)\n",
      "C:\\Users\\jeff1\\Anaconda3\\lib\\site-packages\\statsmodels\\base\\model.py:488: HessianInversionWarning: Inverting hessian failed, no bse or cov_params available\n",
      "  'available', HessianInversionWarning)\n"
     ]
    },
    {
     "name": "stdout",
     "output_type": "stream",
     "text": [
      "predictions: [array([568858.11202306]), array([197188.02938208]), array([234692.91062066]), array([240065.59888061])]\n",
      "delta: 0, p: nan\n",
      "delta: 1, p: 0.674184311200315\n",
      "delta: 2, p: 0.3084280838670122\n",
      "delta: 3, p: 0.733346942547638\n",
      "delta: 4, p: 0.4648698405777273\n",
      "delta: 5, p: 0.265435206896409\n",
      "delta: 6, p: 2.5295393110216808e-15\n"
     ]
    },
    {
     "name": "stderr",
     "output_type": "stream",
     "text": [
      "C:\\Users\\jeff1\\Anaconda3\\lib\\site-packages\\statsmodels\\tsa\\base\\tsa_model.py:221: ValueWarning: An unsupported index was provided and will be ignored when e.g. forecasting.\n",
      "  ' ignored when e.g. forecasting.', ValueWarning)\n",
      "C:\\Users\\jeff1\\Anaconda3\\lib\\site-packages\\statsmodels\\base\\model.py:488: HessianInversionWarning: Inverting hessian failed, no bse or cov_params available\n",
      "  'available', HessianInversionWarning)\n",
      "C:\\Users\\jeff1\\Anaconda3\\lib\\site-packages\\statsmodels\\tsa\\base\\tsa_model.py:221: ValueWarning: An unsupported index was provided and will be ignored when e.g. forecasting.\n",
      "  ' ignored when e.g. forecasting.', ValueWarning)\n"
     ]
    },
    {
     "name": "stdout",
     "output_type": "stream",
     "text": [
      "predictions: [array([568858.11202306]), array([197188.02938208]), array([234692.91062066]), array([240065.59888061]), array([248424.20139307])]\n",
      "delta: 0, p: nan\n",
      "delta: 1, p: 1.5416178961061224e-28\n",
      "predictions: [array([568858.11202306]), array([197188.02938208]), array([234692.91062066]), array([240065.59888061]), array([248424.20139307]), array([414587.00087193])]\n",
      "delta: 0, p: nan\n",
      "delta: 1, p: 1.4223059120095515e-28\n",
      "predictions: [array([568858.11202306]), array([197188.02938208]), array([234692.91062066]), array([240065.59888061]), array([248424.20139307]), array([414587.00087193]), array([402932.28857252])]\n",
      "delta: 0, p: nan\n",
      "delta: 1, p: 0.4978928538581698\n",
      "delta: 2, p: 0.35922684748104206\n"
     ]
    },
    {
     "name": "stderr",
     "output_type": "stream",
     "text": [
      "C:\\Users\\jeff1\\Anaconda3\\lib\\site-packages\\statsmodels\\tsa\\base\\tsa_model.py:221: ValueWarning: An unsupported index was provided and will be ignored when e.g. forecasting.\n",
      "  ' ignored when e.g. forecasting.', ValueWarning)\n"
     ]
    },
    {
     "name": "stdout",
     "output_type": "stream",
     "text": [
      "delta: 3, p: 0.49285309872368155\n",
      "delta: 4, p: 0.33246808745365186\n",
      "delta: 5, p: 0.35181224582392867\n",
      "delta: 6, p: 0.2925615831953359\n",
      "delta: 7, p: 0.19728321514135733\n",
      "delta: 8, p: 0.008718906554686845\n"
     ]
    },
    {
     "name": "stderr",
     "output_type": "stream",
     "text": [
      "C:\\Users\\jeff1\\Anaconda3\\lib\\site-packages\\statsmodels\\tsa\\base\\tsa_model.py:221: ValueWarning: An unsupported index was provided and will be ignored when e.g. forecasting.\n",
      "  ' ignored when e.g. forecasting.', ValueWarning)\n"
     ]
    },
    {
     "name": "stdout",
     "output_type": "stream",
     "text": [
      "predictions: [array([473264.15791901])]\n",
      "delta: 0, p: nan\n",
      "delta: 1, p: 0.6930190636971032\n",
      "delta: 2, p: 0.8047402860148407\n",
      "delta: 3, p: 0.187095887943648\n",
      "delta: 4, p: 0.8103422919118035\n",
      "delta: 5, p: 0.6939528402804713\n",
      "delta: 6, p: 4.2018463780368895e-30\n"
     ]
    },
    {
     "name": "stderr",
     "output_type": "stream",
     "text": [
      "C:\\Users\\jeff1\\Anaconda3\\lib\\site-packages\\statsmodels\\tsa\\base\\tsa_model.py:221: ValueWarning: An unsupported index was provided and will be ignored when e.g. forecasting.\n",
      "  ' ignored when e.g. forecasting.', ValueWarning)\n",
      "C:\\Users\\jeff1\\Anaconda3\\lib\\site-packages\\statsmodels\\base\\model.py:488: HessianInversionWarning: Inverting hessian failed, no bse or cov_params available\n",
      "  'available', HessianInversionWarning)\n",
      "C:\\Users\\jeff1\\Anaconda3\\lib\\site-packages\\statsmodels\\tsa\\base\\tsa_model.py:221: ValueWarning: An unsupported index was provided and will be ignored when e.g. forecasting.\n",
      "  ' ignored when e.g. forecasting.', ValueWarning)\n"
     ]
    },
    {
     "name": "stdout",
     "output_type": "stream",
     "text": [
      "predictions: [array([473264.15791901]), array([363549.33198347])]\n",
      "delta: 0, p: nan\n",
      "delta: 1, p: 0.16713100026234062\n",
      "delta: 2, p: 0.7579637035455911\n",
      "delta: 3, p: 0.5598624415613422\n",
      "delta: 4, p: 0.6087041989546034\n",
      "delta: 5, p: 0.5287491967285081\n",
      "delta: 6, p: 0.63190733393609\n",
      "delta: 7, p: 0.3177249632591054\n",
      "delta: 8, p: 0.21757983954394527\n",
      "delta: 9, p: 4.350596666342228e-21\n"
     ]
    },
    {
     "name": "stderr",
     "output_type": "stream",
     "text": [
      "C:\\Users\\jeff1\\Anaconda3\\lib\\site-packages\\statsmodels\\base\\model.py:488: HessianInversionWarning: Inverting hessian failed, no bse or cov_params available\n",
      "  'available', HessianInversionWarning)\n",
      "C:\\Users\\jeff1\\Anaconda3\\lib\\site-packages\\statsmodels\\tsa\\base\\tsa_model.py:221: ValueWarning: An unsupported index was provided and will be ignored when e.g. forecasting.\n",
      "  ' ignored when e.g. forecasting.', ValueWarning)\n"
     ]
    },
    {
     "name": "stdout",
     "output_type": "stream",
     "text": [
      "predictions: [array([473264.15791901]), array([363549.33198347]), array([368833.21757455])]\n",
      "delta: 0, p: nan\n",
      "delta: 1, p: 0.7312979924845772\n",
      "delta: 2, p: 0.4895145748102499\n",
      "delta: 3, p: 0.4403643507213395\n",
      "delta: 4, p: 0.46650007390085363\n",
      "delta: 5, p: 0.4271153100681979\n",
      "delta: 6, p: 4.0540163969518557e-29\n",
      "predictions: [array([473264.15791901]), array([363549.33198347]), array([368833.21757455]), array([368300.44843718])]\n",
      "delta: 0, p: nan\n",
      "delta: 1, p: 0.6724008350089301\n",
      "delta: 2, p: 0.44205376126511126\n",
      "delta: 3, p: 0.36920053921499263\n",
      "delta: 4, p: 0.45774803332432185\n",
      "delta: 5, p: 0.34838577603823717\n",
      "delta: 6, p: 0.5893553266819296\n",
      "delta: 7, p: 0.12448561094099103\n",
      "delta: 8, p: 0.24311264514670328\n",
      "delta: 9, p: 1.3032201556297292e-09\n"
     ]
    },
    {
     "name": "stderr",
     "output_type": "stream",
     "text": [
      "C:\\Users\\jeff1\\Anaconda3\\lib\\site-packages\\statsmodels\\tsa\\base\\tsa_model.py:221: ValueWarning: An unsupported index was provided and will be ignored when e.g. forecasting.\n",
      "  ' ignored when e.g. forecasting.', ValueWarning)\n"
     ]
    },
    {
     "name": "stdout",
     "output_type": "stream",
     "text": [
      "predictions: [array([473264.15791901]), array([363549.33198347]), array([368833.21757455]), array([368300.44843718]), array([375301.14119861])]\n",
      "delta: 0, p: nan\n",
      "delta: 1, p: 0.644744382017805\n",
      "delta: 2, p: 0.3748883284421542\n",
      "delta: 3, p: 0.3403180473751591\n",
      "delta: 4, p: 0.37326860176515786\n",
      "delta: 5, p: 0.3516589548056197\n",
      "delta: 6, p: 0.6204480445163411\n",
      "delta: 7, p: 0.1636046205407602\n",
      "delta: 8, p: 0.6607676964891707\n",
      "delta: 9, p: 2.4326736071798414e-10\n"
     ]
    },
    {
     "name": "stderr",
     "output_type": "stream",
     "text": [
      "C:\\Users\\jeff1\\Anaconda3\\lib\\site-packages\\statsmodels\\tsa\\base\\tsa_model.py:221: ValueWarning: An unsupported index was provided and will be ignored when e.g. forecasting.\n",
      "  ' ignored when e.g. forecasting.', ValueWarning)\n",
      "C:\\Users\\jeff1\\Anaconda3\\lib\\site-packages\\statsmodels\\base\\model.py:488: HessianInversionWarning: Inverting hessian failed, no bse or cov_params available\n",
      "  'available', HessianInversionWarning)\n",
      "C:\\Users\\jeff1\\Anaconda3\\lib\\site-packages\\statsmodels\\tsa\\base\\tsa_model.py:221: ValueWarning: An unsupported index was provided and will be ignored when e.g. forecasting.\n",
      "  ' ignored when e.g. forecasting.', ValueWarning)\n"
     ]
    },
    {
     "name": "stdout",
     "output_type": "stream",
     "text": [
      "predictions: [array([473264.15791901]), array([363549.33198347]), array([368833.21757455]), array([368300.44843718]), array([375301.14119861]), array([404330.78650751])]\n",
      "delta: 0, p: nan\n",
      "delta: 1, p: 0.6442282103619863\n",
      "delta: 2, p: 0.398899391507922\n",
      "delta: 3, p: 0.36329745115167605\n",
      "delta: 4, p: 0.37117052439368703\n",
      "delta: 5, p: 0.32658787382121046\n",
      "delta: 6, p: 0.22278854804532205\n",
      "delta: 7, p: 0.31481275783018053\n",
      "delta: 8, p: 0.6900928146372165\n",
      "delta: 9, p: 4.0914045843344826e-11\n"
     ]
    },
    {
     "name": "stderr",
     "output_type": "stream",
     "text": [
      "C:\\Users\\jeff1\\Anaconda3\\lib\\site-packages\\statsmodels\\base\\model.py:488: HessianInversionWarning: Inverting hessian failed, no bse or cov_params available\n",
      "  'available', HessianInversionWarning)\n",
      "C:\\Users\\jeff1\\Anaconda3\\lib\\site-packages\\statsmodels\\tsa\\base\\tsa_model.py:221: ValueWarning: An unsupported index was provided and will be ignored when e.g. forecasting.\n",
      "  ' ignored when e.g. forecasting.', ValueWarning)\n"
     ]
    },
    {
     "name": "stdout",
     "output_type": "stream",
     "text": [
      "predictions: [array([473264.15791901]), array([363549.33198347]), array([368833.21757455]), array([368300.44843718]), array([375301.14119861]), array([404330.78650751]), array([404838.30375226])]\n",
      "delta: 0, p: nan\n",
      "delta: 1, p: 0.24558327175009753\n",
      "delta: 2, p: 0.02689120159859523\n"
     ]
    },
    {
     "name": "stderr",
     "output_type": "stream",
     "text": [
      "C:\\Users\\jeff1\\Anaconda3\\lib\\site-packages\\statsmodels\\base\\model.py:488: HessianInversionWarning: Inverting hessian failed, no bse or cov_params available\n",
      "  'available', HessianInversionWarning)\n",
      "C:\\Users\\jeff1\\Anaconda3\\lib\\site-packages\\statsmodels\\tsa\\base\\tsa_model.py:221: ValueWarning: An unsupported index was provided and will be ignored when e.g. forecasting.\n",
      "  ' ignored when e.g. forecasting.', ValueWarning)\n"
     ]
    },
    {
     "name": "stdout",
     "output_type": "stream",
     "text": [
      "predictions: [array([1091958.91887045])]\n",
      "delta: 0, p: nan\n",
      "delta: 1, p: 0.528253458698835\n",
      "delta: 2, p: 0.6727033442918813\n",
      "delta: 3, p: 0.04100556316071995\n",
      "bad condition 3: stationarity not adequate\n",
      "delta: 4, p: 0.01859470870501301\n"
     ]
    },
    {
     "name": "stderr",
     "output_type": "stream",
     "text": [
      "C:\\Users\\jeff1\\Anaconda3\\lib\\site-packages\\statsmodels\\tsa\\base\\tsa_model.py:221: ValueWarning: An unsupported index was provided and will be ignored when e.g. forecasting.\n",
      "  ' ignored when e.g. forecasting.', ValueWarning)\n"
     ]
    },
    {
     "name": "stdout",
     "output_type": "stream",
     "text": [
      "bad condition 4: stationarity not adequate\n",
      "delta: 5, p: 0.6340493743907978\n",
      "delta: 6, p: 0.7969671428173939\n",
      "delta: 7, p: 0.8738607517589639\n",
      "delta: 8, p: 0.07481883432324178\n",
      "delta: 9, p: 1.202238628998645e-13\n"
     ]
    },
    {
     "name": "stderr",
     "output_type": "stream",
     "text": [
      "C:\\Users\\jeff1\\Anaconda3\\lib\\site-packages\\statsmodels\\tsa\\base\\tsa_model.py:221: ValueWarning: An unsupported index was provided and will be ignored when e.g. forecasting.\n",
      "  ' ignored when e.g. forecasting.', ValueWarning)\n"
     ]
    },
    {
     "name": "stdout",
     "output_type": "stream",
     "text": [
      "predictions: [array([1091958.91887045]), array([308336.79903405])]\n",
      "delta: 0, p: nan\n",
      "delta: 1, p: 0.5499914629146565\n",
      "delta: 2, p: 0.6523483928398799\n",
      "delta: 3, p: 0.12872590708402898\n",
      "delta: 4, p: 0.036342248421740046\n"
     ]
    },
    {
     "name": "stderr",
     "output_type": "stream",
     "text": [
      "C:\\Users\\jeff1\\Anaconda3\\lib\\site-packages\\statsmodels\\tsa\\base\\tsa_model.py:221: ValueWarning: An unsupported index was provided and will be ignored when e.g. forecasting.\n",
      "  ' ignored when e.g. forecasting.', ValueWarning)\n",
      "C:\\Users\\jeff1\\Anaconda3\\lib\\site-packages\\statsmodels\\base\\model.py:488: HessianInversionWarning: Inverting hessian failed, no bse or cov_params available\n",
      "  'available', HessianInversionWarning)\n",
      "C:\\Users\\jeff1\\Anaconda3\\lib\\site-packages\\statsmodels\\base\\model.py:508: ConvergenceWarning: Maximum Likelihood optimization failed to converge. Check mle_retvals\n",
      "  \"Check mle_retvals\", ConvergenceWarning)\n"
     ]
    },
    {
     "name": "stdout",
     "output_type": "stream",
     "text": [
      "predictions: [array([1091958.91887045]), array([308336.79903405]), array([-683602.65068363])]\n",
      "delta: 0, p: nan\n",
      "delta: 1, p: 0.45742350379808744\n",
      "delta: 2, p: 0.5756647362020589\n",
      "delta: 3, p: 0.05554576304582684\n",
      "delta: 4, p: 0.31902400691322236\n",
      "delta: 5, p: 0.654048785297967\n",
      "delta: 6, p: 0.22537708593443545\n",
      "delta: 7, p: 0.8451222220794912\n",
      "delta: 8, p: 0.3348662016790057\n",
      "delta: 9, p: 0.39568695945517507\n",
      "delta: 0, p: nan\n",
      "bad condition 0: stationarity not adequate\n",
      "delta: 1, p: 0.45742350379808744\n"
     ]
    },
    {
     "name": "stderr",
     "output_type": "stream",
     "text": [
      "C:\\Users\\jeff1\\Anaconda3\\lib\\site-packages\\statsmodels\\tsa\\base\\tsa_model.py:221: ValueWarning: An unsupported index was provided and will be ignored when e.g. forecasting.\n",
      "  ' ignored when e.g. forecasting.', ValueWarning)\n",
      "C:\\Users\\jeff1\\Anaconda3\\lib\\site-packages\\statsmodels\\tsa\\base\\tsa_model.py:221: ValueWarning: An unsupported index was provided and will be ignored when e.g. forecasting.\n",
      "  ' ignored when e.g. forecasting.', ValueWarning)\n",
      "C:\\Users\\jeff1\\Anaconda3\\lib\\site-packages\\statsmodels\\base\\model.py:488: HessianInversionWarning: Inverting hessian failed, no bse or cov_params available\n",
      "  'available', HessianInversionWarning)\n",
      "C:\\Users\\jeff1\\Anaconda3\\lib\\site-packages\\statsmodels\\tsa\\base\\tsa_model.py:221: ValueWarning: An unsupported index was provided and will be ignored when e.g. forecasting.\n",
      "  ' ignored when e.g. forecasting.', ValueWarning)\n"
     ]
    },
    {
     "name": "stdout",
     "output_type": "stream",
     "text": [
      "predictions: [array([1091958.91887045]), array([308336.79903405]), array([-683602.65068363]), array([630679.01856416])]\n",
      "delta: 0, p: nan\n",
      "delta: 1, p: 0.4284487027559897\n",
      "delta: 2, p: 0.5504685914720193\n",
      "delta: 3, p: 0.03973436405175008\n",
      "predictions: [array([1091958.91887045]), array([308336.79903405]), array([-683602.65068363]), array([630679.01856416]), array([567705.32915612])]\n",
      "delta: 0, p: nan\n",
      "delta: 1, p: 0.6491572682830511\n",
      "delta: 2, p: 0.7619665469770774\n",
      "delta: 3, p: 0.7367300671832409\n",
      "delta: 4, p: 0.4367964408920443\n",
      "delta: 5, p: 0.42542191008646824\n",
      "delta: 6, p: 0.4466410574454227\n",
      "delta: 7, p: 0.5534415459444224\n",
      "delta: 8, p: 0.7843058070677518\n",
      "delta: 9, p: 0.09907471133323792\n",
      "delta: 0, p: nan\n",
      "bad condition 0: stationarity not adequate\n",
      "delta: 1, p: 0.6491572682830511\n"
     ]
    },
    {
     "name": "stderr",
     "output_type": "stream",
     "text": [
      "C:\\Users\\jeff1\\Anaconda3\\lib\\site-packages\\statsmodels\\tsa\\base\\tsa_model.py:221: ValueWarning: An unsupported index was provided and will be ignored when e.g. forecasting.\n",
      "  ' ignored when e.g. forecasting.', ValueWarning)\n",
      "C:\\Users\\jeff1\\Anaconda3\\lib\\site-packages\\statsmodels\\tsa\\base\\tsa_model.py:221: ValueWarning: An unsupported index was provided and will be ignored when e.g. forecasting.\n",
      "  ' ignored when e.g. forecasting.', ValueWarning)\n"
     ]
    },
    {
     "name": "stdout",
     "output_type": "stream",
     "text": [
      "predictions: [array([1091958.91887045]), array([308336.79903405]), array([-683602.65068363]), array([630679.01856416]), array([567705.32915612]), array([233215.3672999])]\n",
      "delta: 0, p: nan\n",
      "delta: 1, p: 0.5798170026067141\n",
      "delta: 2, p: 0.5762072687215111\n",
      "delta: 3, p: 0.4759521962366592\n",
      "delta: 4, p: 0.3566602126439685\n",
      "delta: 5, p: 0.3949745193154925\n",
      "delta: 6, p: 0.4334766090633408\n",
      "delta: 7, p: 0.33874265171027307\n",
      "delta: 8, p: 0.4542325847262912\n",
      "delta: 9, p: 0.09509329911061759\n",
      "delta: 0, p: nan\n",
      "bad condition 0: stationarity not adequate\n"
     ]
    },
    {
     "name": "stderr",
     "output_type": "stream",
     "text": [
      "C:\\Users\\jeff1\\Anaconda3\\lib\\site-packages\\statsmodels\\tsa\\base\\tsa_model.py:221: ValueWarning: An unsupported index was provided and will be ignored when e.g. forecasting.\n",
      "  ' ignored when e.g. forecasting.', ValueWarning)\n",
      "C:\\Users\\jeff1\\Anaconda3\\lib\\site-packages\\statsmodels\\tsa\\base\\tsa_model.py:221: ValueWarning: An unsupported index was provided and will be ignored when e.g. forecasting.\n",
      "  ' ignored when e.g. forecasting.', ValueWarning)\n"
     ]
    },
    {
     "name": "stdout",
     "output_type": "stream",
     "text": [
      "delta: 1, p: 0.5798170026067141\n",
      "predictions: [array([1091958.91887045]), array([308336.79903405]), array([-683602.65068363]), array([630679.01856416]), array([567705.32915612]), array([233215.3672999]), array([402530.34248654])]\n",
      "delta: 0, p: nan\n",
      "delta: 1, p: 0.3364279329276664\n",
      "delta: 2, p: 0.2728070875931963\n",
      "delta: 3, p: 0.17453612256007317\n",
      "delta: 4, p: 0.3017775939966817\n",
      "delta: 5, p: 0.059030505291879025\n",
      "delta: 6, p: 0.25276059541949275\n",
      "delta: 7, p: 0.07778269050565036\n",
      "delta: 8, p: 0.020970177576214156\n"
     ]
    },
    {
     "name": "stderr",
     "output_type": "stream",
     "text": [
      "C:\\Users\\jeff1\\Anaconda3\\lib\\site-packages\\statsmodels\\tsa\\base\\tsa_model.py:221: ValueWarning: An unsupported index was provided and will be ignored when e.g. forecasting.\n",
      "  ' ignored when e.g. forecasting.', ValueWarning)\n",
      "C:\\Users\\jeff1\\Anaconda3\\lib\\site-packages\\statsmodels\\base\\model.py:488: HessianInversionWarning: Inverting hessian failed, no bse or cov_params available\n",
      "  'available', HessianInversionWarning)\n",
      "C:\\Users\\jeff1\\Anaconda3\\lib\\site-packages\\statsmodels\\tsa\\base\\tsa_model.py:221: ValueWarning: An unsupported index was provided and will be ignored when e.g. forecasting.\n",
      "  ' ignored when e.g. forecasting.', ValueWarning)\n"
     ]
    },
    {
     "name": "stdout",
     "output_type": "stream",
     "text": [
      "predictions: [array([525659.81977572])]\n",
      "delta: 0, p: nan\n",
      "delta: 1, p: 0.9689387820480562\n",
      "delta: 2, p: 0.7862222600797799\n",
      "delta: 3, p: 0.9162773702373805\n",
      "delta: 4, p: 3.0911037283310044e-15\n",
      "predictions: [array([525659.81977572]), array([293922.74776316])]\n",
      "delta: 0, p: nan\n",
      "delta: 1, p: 0.9240584327397806\n",
      "delta: 2, p: 0.7035783727364538\n",
      "delta: 3, p: 2.3624045771741464e-14\n"
     ]
    },
    {
     "name": "stderr",
     "output_type": "stream",
     "text": [
      "C:\\Users\\jeff1\\Anaconda3\\lib\\site-packages\\statsmodels\\tsa\\base\\tsa_model.py:221: ValueWarning: An unsupported index was provided and will be ignored when e.g. forecasting.\n",
      "  ' ignored when e.g. forecasting.', ValueWarning)\n"
     ]
    },
    {
     "name": "stdout",
     "output_type": "stream",
     "text": [
      "predictions: [array([525659.81977572]), array([293922.74776316]), array([399547.38519815])]\n",
      "delta: 0, p: nan\n",
      "delta: 1, p: 0.7582203884131813\n",
      "delta: 2, p: 2.452519869946189e-18\n"
     ]
    },
    {
     "name": "stderr",
     "output_type": "stream",
     "text": [
      "C:\\Users\\jeff1\\Anaconda3\\lib\\site-packages\\statsmodels\\tsa\\base\\tsa_model.py:221: ValueWarning: An unsupported index was provided and will be ignored when e.g. forecasting.\n",
      "  ' ignored when e.g. forecasting.', ValueWarning)\n"
     ]
    },
    {
     "name": "stdout",
     "output_type": "stream",
     "text": [
      "predictions: [array([525659.81977572]), array([293922.74776316]), array([399547.38519815]), array([401748.85263673])]\n",
      "delta: 0, p: nan\n",
      "delta: 1, p: 0.7065703416758267\n",
      "delta: 2, p: 1.526894297690784e-12\n"
     ]
    },
    {
     "name": "stderr",
     "output_type": "stream",
     "text": [
      "C:\\Users\\jeff1\\Anaconda3\\lib\\site-packages\\statsmodels\\tsa\\base\\tsa_model.py:221: ValueWarning: An unsupported index was provided and will be ignored when e.g. forecasting.\n",
      "  ' ignored when e.g. forecasting.', ValueWarning)\n"
     ]
    },
    {
     "name": "stdout",
     "output_type": "stream",
     "text": [
      "predictions: [array([525659.81977572]), array([293922.74776316]), array([399547.38519815]), array([401748.85263673]), array([317318.29389291])]\n",
      "delta: 0, p: nan\n",
      "delta: 1, p: 0.6481213916739067\n",
      "delta: 2, p: 0.5935906273363589\n",
      "delta: 3, p: 1.7232297875993964e-07\n"
     ]
    },
    {
     "name": "stderr",
     "output_type": "stream",
     "text": [
      "C:\\Users\\jeff1\\Anaconda3\\lib\\site-packages\\statsmodels\\tsa\\base\\tsa_model.py:221: ValueWarning: An unsupported index was provided and will be ignored when e.g. forecasting.\n",
      "  ' ignored when e.g. forecasting.', ValueWarning)\n"
     ]
    },
    {
     "name": "stdout",
     "output_type": "stream",
     "text": [
      "predictions: [array([525659.81977572]), array([293922.74776316]), array([399547.38519815]), array([401748.85263673]), array([317318.29389291]), array([416424.11878296])]\n",
      "delta: 0, p: nan\n",
      "delta: 1, p: 8.123039986873323e-28\n"
     ]
    },
    {
     "name": "stderr",
     "output_type": "stream",
     "text": [
      "C:\\Users\\jeff1\\Anaconda3\\lib\\site-packages\\statsmodels\\tsa\\base\\tsa_model.py:221: ValueWarning: An unsupported index was provided and will be ignored when e.g. forecasting.\n",
      "  ' ignored when e.g. forecasting.', ValueWarning)\n"
     ]
    },
    {
     "name": "stdout",
     "output_type": "stream",
     "text": [
      "predictions: [array([525659.81977572]), array([293922.74776316]), array([399547.38519815]), array([401748.85263673]), array([317318.29389291]), array([416424.11878296]), array([403301.83326784])]\n",
      "delta: 0, p: nan\n",
      "delta: 1, p: 0.2265550234435097\n",
      "delta: 2, p: 0.10084813052219904\n",
      "delta: 3, p: 0.059147257762892924\n",
      "delta: 4, p: 0.013422006030035231\n"
     ]
    },
    {
     "name": "stderr",
     "output_type": "stream",
     "text": [
      "C:\\Users\\jeff1\\Anaconda3\\lib\\site-packages\\statsmodels\\tsa\\base\\tsa_model.py:221: ValueWarning: An unsupported index was provided and will be ignored when e.g. forecasting.\n",
      "  ' ignored when e.g. forecasting.', ValueWarning)\n"
     ]
    },
    {
     "name": "stdout",
     "output_type": "stream",
     "text": [
      "predictions: [array([840367.22016169])]\n",
      "delta: 0, p: nan\n",
      "delta: 1, p: 0.9218221321658027\n",
      "delta: 2, p: 0.2623765389878361\n",
      "delta: 3, p: 0.9934380402049316\n",
      "delta: 4, p: 0.982648112440302\n",
      "delta: 5, p: 0.9853550812285697\n",
      "delta: 6, p: 3.7800215581559236e-07\n"
     ]
    },
    {
     "name": "stderr",
     "output_type": "stream",
     "text": [
      "C:\\Users\\jeff1\\Anaconda3\\lib\\site-packages\\statsmodels\\tsa\\base\\tsa_model.py:221: ValueWarning: An unsupported index was provided and will be ignored when e.g. forecasting.\n",
      "  ' ignored when e.g. forecasting.', ValueWarning)\n"
     ]
    },
    {
     "name": "stdout",
     "output_type": "stream",
     "text": [
      "predictions: [array([840367.22016169]), array([305987.10826877])]\n",
      "delta: 0, p: nan\n",
      "delta: 1, p: 0.845992644810194\n",
      "delta: 2, p: 0.8277481304927131\n",
      "delta: 3, p: 0.9836752515156466\n",
      "delta: 4, p: 0.8987686517543787\n",
      "delta: 5, p: 0.984082629220235\n",
      "delta: 6, p: 1.0397622658430418e-07\n"
     ]
    },
    {
     "name": "stderr",
     "output_type": "stream",
     "text": [
      "C:\\Users\\jeff1\\Anaconda3\\lib\\site-packages\\statsmodels\\tsa\\base\\tsa_model.py:221: ValueWarning: An unsupported index was provided and will be ignored when e.g. forecasting.\n",
      "  ' ignored when e.g. forecasting.', ValueWarning)\n"
     ]
    },
    {
     "name": "stdout",
     "output_type": "stream",
     "text": [
      "predictions: [array([840367.22016169]), array([305987.10826877]), array([262310.80689063])]\n",
      "delta: 0, p: nan\n",
      "delta: 1, p: 1.1617684482939407e-28\n"
     ]
    },
    {
     "name": "stderr",
     "output_type": "stream",
     "text": [
      "C:\\Users\\jeff1\\Anaconda3\\lib\\site-packages\\statsmodels\\tsa\\base\\tsa_model.py:221: ValueWarning: An unsupported index was provided and will be ignored when e.g. forecasting.\n",
      "  ' ignored when e.g. forecasting.', ValueWarning)\n",
      "C:\\Users\\jeff1\\Anaconda3\\lib\\site-packages\\statsmodels\\base\\model.py:488: HessianInversionWarning: Inverting hessian failed, no bse or cov_params available\n",
      "  'available', HessianInversionWarning)\n",
      "C:\\Users\\jeff1\\Anaconda3\\lib\\site-packages\\statsmodels\\base\\model.py:508: ConvergenceWarning: Maximum Likelihood optimization failed to converge. Check mle_retvals\n",
      "  \"Check mle_retvals\", ConvergenceWarning)\n",
      "C:\\Users\\jeff1\\Anaconda3\\lib\\site-packages\\statsmodels\\tsa\\base\\tsa_model.py:221: ValueWarning: An unsupported index was provided and will be ignored when e.g. forecasting.\n",
      "  ' ignored when e.g. forecasting.', ValueWarning)\n"
     ]
    },
    {
     "name": "stdout",
     "output_type": "stream",
     "text": [
      "predictions: [array([840367.22016169]), array([305987.10826877]), array([262310.80689063]), array([160773.82586314])]\n",
      "delta: 0, p: nan\n",
      "delta: 1, p: 1.0744477013167896e-28\n",
      "predictions: [array([840367.22016169]), array([305987.10826877]), array([262310.80689063]), array([160773.82586314]), array([339473.9883582])]\n",
      "delta: 0, p: nan\n",
      "delta: 1, p: 9.935667035457339e-29\n"
     ]
    },
    {
     "name": "stderr",
     "output_type": "stream",
     "text": [
      "C:\\Users\\jeff1\\Anaconda3\\lib\\site-packages\\statsmodels\\tsa\\base\\tsa_model.py:221: ValueWarning: An unsupported index was provided and will be ignored when e.g. forecasting.\n",
      "  ' ignored when e.g. forecasting.', ValueWarning)\n"
     ]
    },
    {
     "name": "stdout",
     "output_type": "stream",
     "text": [
      "predictions: [array([840367.22016169]), array([305987.10826877]), array([262310.80689063]), array([160773.82586314]), array([339473.9883582]), array([276324.33674766])]\n",
      "delta: 0, p: nan\n",
      "delta: 1, p: 9.193917091282861e-29\n",
      "predictions: [array([840367.22016169]), array([305987.10826877]), array([262310.80689063]), array([160773.82586314]), array([339473.9883582]), array([276324.33674766]), array([402699.99266364])]\n"
     ]
    },
    {
     "name": "stderr",
     "output_type": "stream",
     "text": [
      "C:\\Users\\jeff1\\Anaconda3\\lib\\site-packages\\statsmodels\\tsa\\base\\tsa_model.py:221: ValueWarning: An unsupported index was provided and will be ignored when e.g. forecasting.\n",
      "  ' ignored when e.g. forecasting.', ValueWarning)\n"
     ]
    },
    {
     "name": "stdout",
     "output_type": "stream",
     "text": [
      "delta: 0, p: nan\n",
      "delta: 1, p: 0.23550234077517124\n",
      "delta: 2, p: 0.3303740130351295\n",
      "delta: 3, p: 0.3566973397472847\n",
      "delta: 4, p: 0.3952586334608498\n",
      "delta: 5, p: 0.24337662394149756\n",
      "delta: 6, p: 0.22636294741067514\n",
      "delta: 7, p: 0.03695437440219274\n"
     ]
    },
    {
     "name": "stderr",
     "output_type": "stream",
     "text": [
      "C:\\Users\\jeff1\\Anaconda3\\lib\\site-packages\\statsmodels\\tsa\\base\\tsa_model.py:221: ValueWarning: An unsupported index was provided and will be ignored when e.g. forecasting.\n",
      "  ' ignored when e.g. forecasting.', ValueWarning)\n"
     ]
    },
    {
     "name": "stdout",
     "output_type": "stream",
     "text": [
      "predictions: [array([440112.98814495])]\n",
      "delta: 0, p: nan\n",
      "delta: 1, p: 0.8454232696162812\n",
      "delta: 2, p: 0.891739566951696\n",
      "delta: 3, p: 0.8186056592549598\n",
      "delta: 4, p: 0.7016535839088459\n",
      "delta: 5, p: 0.37091968382495477\n",
      "delta: 6, p: 0.0\n"
     ]
    },
    {
     "name": "stderr",
     "output_type": "stream",
     "text": [
      "C:\\Users\\jeff1\\Anaconda3\\lib\\site-packages\\statsmodels\\tsa\\base\\tsa_model.py:221: ValueWarning: An unsupported index was provided and will be ignored when e.g. forecasting.\n",
      "  ' ignored when e.g. forecasting.', ValueWarning)\n"
     ]
    },
    {
     "name": "stdout",
     "output_type": "stream",
     "text": [
      "predictions: [array([440112.98814495]), array([379335.10364916])]\n",
      "delta: 0, p: nan\n",
      "delta: 1, p: 0.009938740462073915\n"
     ]
    },
    {
     "name": "stderr",
     "output_type": "stream",
     "text": [
      "C:\\Users\\jeff1\\Anaconda3\\lib\\site-packages\\statsmodels\\tsa\\base\\tsa_model.py:221: ValueWarning: An unsupported index was provided and will be ignored when e.g. forecasting.\n",
      "  ' ignored when e.g. forecasting.', ValueWarning)\n"
     ]
    },
    {
     "name": "stdout",
     "output_type": "stream",
     "text": [
      "predictions: [array([440112.98814495]), array([379335.10364916]), array([375420.89900775])]\n",
      "delta: 0, p: nan\n",
      "delta: 1, p: 0.0127561153611191\n"
     ]
    },
    {
     "name": "stderr",
     "output_type": "stream",
     "text": [
      "C:\\Users\\jeff1\\Anaconda3\\lib\\site-packages\\statsmodels\\tsa\\base\\tsa_model.py:221: ValueWarning: An unsupported index was provided and will be ignored when e.g. forecasting.\n",
      "  ' ignored when e.g. forecasting.', ValueWarning)\n"
     ]
    },
    {
     "name": "stdout",
     "output_type": "stream",
     "text": [
      "predictions: [array([440112.98814495]), array([379335.10364916]), array([375420.89900775]), array([377776.14259963])]\n",
      "delta: 0, p: nan\n",
      "delta: 1, p: 0.01367673059007167\n"
     ]
    },
    {
     "name": "stderr",
     "output_type": "stream",
     "text": [
      "C:\\Users\\jeff1\\Anaconda3\\lib\\site-packages\\statsmodels\\tsa\\base\\tsa_model.py:221: ValueWarning: An unsupported index was provided and will be ignored when e.g. forecasting.\n",
      "  ' ignored when e.g. forecasting.', ValueWarning)\n"
     ]
    },
    {
     "name": "stdout",
     "output_type": "stream",
     "text": [
      "predictions: [array([440112.98814495]), array([379335.10364916]), array([375420.89900775]), array([377776.14259963]), array([385914.77880747])]\n",
      "delta: 0, p: nan\n",
      "delta: 1, p: 0.015788457807772997\n"
     ]
    },
    {
     "name": "stderr",
     "output_type": "stream",
     "text": [
      "C:\\Users\\jeff1\\Anaconda3\\lib\\site-packages\\statsmodels\\tsa\\base\\tsa_model.py:221: ValueWarning: An unsupported index was provided and will be ignored when e.g. forecasting.\n",
      "  ' ignored when e.g. forecasting.', ValueWarning)\n"
     ]
    },
    {
     "name": "stdout",
     "output_type": "stream",
     "text": [
      "predictions: [array([440112.98814495]), array([379335.10364916]), array([375420.89900775]), array([377776.14259963]), array([385914.77880747]), array([385750.90802368])]\n",
      "delta: 0, p: nan\n",
      "delta: 1, p: 0.011517337627666366\n"
     ]
    },
    {
     "name": "stderr",
     "output_type": "stream",
     "text": [
      "C:\\Users\\jeff1\\Anaconda3\\lib\\site-packages\\statsmodels\\tsa\\base\\tsa_model.py:221: ValueWarning: An unsupported index was provided and will be ignored when e.g. forecasting.\n",
      "  ' ignored when e.g. forecasting.', ValueWarning)\n"
     ]
    },
    {
     "name": "stdout",
     "output_type": "stream",
     "text": [
      "predictions: [array([440112.98814495]), array([379335.10364916]), array([375420.89900775]), array([377776.14259963]), array([385914.77880747]), array([385750.90802368]), array([403675.46200221])]\n",
      "delta: 0, p: nan\n",
      "delta: 1, p: 0.24653615220364045\n",
      "delta: 2, p: 0.1830445199206749\n",
      "delta: 3, p: 0.19012713992478208\n",
      "delta: 4, p: 0.07904415374905965\n",
      "delta: 5, p: 0.2343174101449349\n",
      "delta: 6, p: 0.25481110892505016\n",
      "delta: 7, p: 0.054360088821677074\n",
      "delta: 8, p: 0.03139014585906351\n"
     ]
    },
    {
     "name": "stderr",
     "output_type": "stream",
     "text": [
      "C:\\Users\\jeff1\\Anaconda3\\lib\\site-packages\\statsmodels\\tsa\\base\\tsa_model.py:221: ValueWarning: An unsupported index was provided and will be ignored when e.g. forecasting.\n",
      "  ' ignored when e.g. forecasting.', ValueWarning)\n"
     ]
    },
    {
     "name": "stdout",
     "output_type": "stream",
     "text": [
      "predictions: [array([439538.39334595])]\n",
      "delta: 0, p: nan\n",
      "delta: 1, p: 0.5309017365550581\n",
      "delta: 2, p: 0.858218209664533\n",
      "delta: 3, p: 0.7290354540892482\n",
      "delta: 4, p: 0.7392303012452754\n",
      "delta: 5, p: 0.6775657552420916\n",
      "delta: 6, p: 2.1061507366322422e-30\n"
     ]
    },
    {
     "name": "stderr",
     "output_type": "stream",
     "text": [
      "C:\\Users\\jeff1\\Anaconda3\\lib\\site-packages\\statsmodels\\tsa\\base\\tsa_model.py:221: ValueWarning: An unsupported index was provided and will be ignored when e.g. forecasting.\n",
      "  ' ignored when e.g. forecasting.', ValueWarning)\n",
      "C:\\Users\\jeff1\\Anaconda3\\lib\\site-packages\\statsmodels\\base\\model.py:488: HessianInversionWarning: Inverting hessian failed, no bse or cov_params available\n",
      "  'available', HessianInversionWarning)\n",
      "C:\\Users\\jeff1\\Anaconda3\\lib\\site-packages\\statsmodels\\tsa\\base\\tsa_model.py:221: ValueWarning: An unsupported index was provided and will be ignored when e.g. forecasting.\n",
      "  ' ignored when e.g. forecasting.', ValueWarning)\n"
     ]
    },
    {
     "name": "stdout",
     "output_type": "stream",
     "text": [
      "predictions: [array([439538.39334595]), array([380355.68924905])]\n",
      "delta: 0, p: nan\n",
      "delta: 1, p: 0.00011122088696954964\n",
      "predictions: [array([439538.39334595]), array([380355.68924905]), array([375972.9633259])]\n",
      "delta: 0, p: nan\n",
      "delta: 1, p: 0.23030856768839764\n",
      "delta: 2, p: 0.16102676972036156\n",
      "delta: 3, p: 0.16043652092041683\n",
      "delta: 4, p: 0.012627015669832983\n"
     ]
    },
    {
     "name": "stderr",
     "output_type": "stream",
     "text": [
      "C:\\Users\\jeff1\\Anaconda3\\lib\\site-packages\\statsmodels\\tsa\\base\\tsa_model.py:221: ValueWarning: An unsupported index was provided and will be ignored when e.g. forecasting.\n",
      "  ' ignored when e.g. forecasting.', ValueWarning)\n"
     ]
    },
    {
     "name": "stdout",
     "output_type": "stream",
     "text": [
      "predictions: [array([439538.39334595]), array([380355.68924905]), array([375972.9633259]), array([405000.16362808])]\n",
      "delta: 0, p: nan\n",
      "delta: 1, p: 0.17025170364222653\n",
      "delta: 2, p: 0.1644256519956539\n",
      "delta: 3, p: 0.0562172548923718\n",
      "delta: 4, p: 0.021380694185948942\n"
     ]
    },
    {
     "name": "stderr",
     "output_type": "stream",
     "text": [
      "C:\\Users\\jeff1\\Anaconda3\\lib\\site-packages\\statsmodels\\tsa\\base\\tsa_model.py:221: ValueWarning: An unsupported index was provided and will be ignored when e.g. forecasting.\n",
      "  ' ignored when e.g. forecasting.', ValueWarning)\n",
      "C:\\Users\\jeff1\\Anaconda3\\lib\\site-packages\\statsmodels\\base\\model.py:508: ConvergenceWarning: Maximum Likelihood optimization failed to converge. Check mle_retvals\n",
      "  \"Check mle_retvals\", ConvergenceWarning)\n",
      "C:\\Users\\jeff1\\Anaconda3\\lib\\site-packages\\statsmodels\\tsa\\base\\tsa_model.py:221: ValueWarning: An unsupported index was provided and will be ignored when e.g. forecasting.\n",
      "  ' ignored when e.g. forecasting.', ValueWarning)\n"
     ]
    },
    {
     "name": "stdout",
     "output_type": "stream",
     "text": [
      "predictions: [array([439538.39334595]), array([380355.68924905]), array([375972.9633259]), array([405000.16362808]), array([367258.55052312])]\n",
      "delta: 0, p: nan\n",
      "delta: 1, p: 0.12973860244936014\n",
      "delta: 2, p: 0.017667413332967608\n",
      "predictions: [array([439538.39334595]), array([380355.68924905]), array([375972.9633259]), array([405000.16362808]), array([367258.55052312]), array([417325.38510991])]\n",
      "delta: 0, p: nan\n",
      "delta: 1, p: 0.18721609795127536\n",
      "delta: 2, p: 0.03605892564124923\n"
     ]
    },
    {
     "name": "stderr",
     "output_type": "stream",
     "text": [
      "C:\\Users\\jeff1\\Anaconda3\\lib\\site-packages\\statsmodels\\tsa\\base\\tsa_model.py:221: ValueWarning: An unsupported index was provided and will be ignored when e.g. forecasting.\n",
      "  ' ignored when e.g. forecasting.', ValueWarning)\n"
     ]
    },
    {
     "name": "stdout",
     "output_type": "stream",
     "text": [
      "predictions: [array([439538.39334595]), array([380355.68924905]), array([375972.9633259]), array([405000.16362808]), array([367258.55052312]), array([417325.38510991]), array([384326.7842991])]\n",
      "delta: 0, p: nan\n",
      "delta: 1, p: 0.22286073151038677\n",
      "delta: 2, p: 0.06425811113113901\n",
      "delta: 3, p: 0.1120677407928033\n",
      "delta: 4, p: 0.32173930310632604\n",
      "delta: 5, p: 0.03802503311845962\n"
     ]
    },
    {
     "name": "stderr",
     "output_type": "stream",
     "text": [
      "C:\\Users\\jeff1\\Anaconda3\\lib\\site-packages\\statsmodels\\tsa\\base\\tsa_model.py:221: ValueWarning: An unsupported index was provided and will be ignored when e.g. forecasting.\n",
      "  ' ignored when e.g. forecasting.', ValueWarning)\n"
     ]
    },
    {
     "name": "stdout",
     "output_type": "stream",
     "text": [
      "predictions: [array([529033.94103407])]\n",
      "delta: 0, p: nan\n",
      "delta: 1, p: 0.7216908533857972\n",
      "delta: 2, p: 0.37131892622058477\n",
      "delta: 3, p: 0.6307605298328981\n",
      "delta: 4, p: 3.5728354715042024e-12\n"
     ]
    },
    {
     "name": "stderr",
     "output_type": "stream",
     "text": [
      "C:\\Users\\jeff1\\Anaconda3\\lib\\site-packages\\statsmodels\\tsa\\base\\tsa_model.py:221: ValueWarning: An unsupported index was provided and will be ignored when e.g. forecasting.\n",
      "  ' ignored when e.g. forecasting.', ValueWarning)\n"
     ]
    },
    {
     "name": "stdout",
     "output_type": "stream",
     "text": [
      "predictions: [array([529033.94103407]), array([278785.7481378])]\n",
      "delta: 0, p: nan\n",
      "delta: 1, p: 0.4703680847432232\n",
      "delta: 2, p: 0.77399466352136\n",
      "delta: 3, p: 0.15744013243544558\n",
      "delta: 4, p: 9.494819973223916e-12\n"
     ]
    },
    {
     "name": "stderr",
     "output_type": "stream",
     "text": [
      "C:\\Users\\jeff1\\Anaconda3\\lib\\site-packages\\statsmodels\\tsa\\base\\tsa_model.py:221: ValueWarning: An unsupported index was provided and will be ignored when e.g. forecasting.\n",
      "  ' ignored when e.g. forecasting.', ValueWarning)\n"
     ]
    },
    {
     "name": "stdout",
     "output_type": "stream",
     "text": [
      "predictions: [array([529033.94103407]), array([278785.7481378]), array([286230.3688205])]\n",
      "delta: 0, p: nan\n",
      "delta: 1, p: 5.316328100284843e-28\n"
     ]
    },
    {
     "name": "stderr",
     "output_type": "stream",
     "text": [
      "C:\\Users\\jeff1\\Anaconda3\\lib\\site-packages\\statsmodels\\tsa\\base\\tsa_model.py:221: ValueWarning: An unsupported index was provided and will be ignored when e.g. forecasting.\n",
      "  ' ignored when e.g. forecasting.', ValueWarning)\n"
     ]
    },
    {
     "name": "stdout",
     "output_type": "stream",
     "text": [
      "bad condition 1: stationarity not adequate\n",
      "delta: 2, p: 6.485716737712435e-20\n"
     ]
    },
    {
     "name": "stderr",
     "output_type": "stream",
     "text": [
      "C:\\Users\\jeff1\\Anaconda3\\lib\\site-packages\\statsmodels\\tsa\\base\\tsa_model.py:221: ValueWarning: An unsupported index was provided and will be ignored when e.g. forecasting.\n",
      "  ' ignored when e.g. forecasting.', ValueWarning)\n"
     ]
    },
    {
     "name": "stdout",
     "output_type": "stream",
     "text": [
      "predictions: [array([529033.94103407]), array([278785.7481378]), array([286230.3688205]), array([419348.88071538])]\n",
      "delta: 0, p: nan\n",
      "delta: 1, p: 4.921433976738046e-28\n"
     ]
    },
    {
     "name": "stderr",
     "output_type": "stream",
     "text": [
      "C:\\Users\\jeff1\\Anaconda3\\lib\\site-packages\\statsmodels\\tsa\\base\\tsa_model.py:221: ValueWarning: An unsupported index was provided and will be ignored when e.g. forecasting.\n",
      "  ' ignored when e.g. forecasting.', ValueWarning)\n",
      "C:\\Users\\jeff1\\Anaconda3\\lib\\site-packages\\statsmodels\\base\\model.py:488: HessianInversionWarning: Inverting hessian failed, no bse or cov_params available\n",
      "  'available', HessianInversionWarning)\n",
      "C:\\Users\\jeff1\\Anaconda3\\lib\\site-packages\\statsmodels\\tsa\\base\\tsa_model.py:221: ValueWarning: An unsupported index was provided and will be ignored when e.g. forecasting.\n",
      "  ' ignored when e.g. forecasting.', ValueWarning)\n"
     ]
    },
    {
     "name": "stdout",
     "output_type": "stream",
     "text": [
      "predictions: [array([529033.94103407]), array([278785.7481378]), array([286230.3688205]), array([419348.88071538]), array([455289.71374501])]\n",
      "delta: 0, p: nan\n",
      "delta: 1, p: 4.513587905699435e-28\n",
      "predictions: [array([529033.94103407]), array([278785.7481378]), array([286230.3688205]), array([419348.88071538]), array([455289.71374501]), array([354925.17854357])]\n",
      "delta: 0, p: nan\n",
      "delta: 1, p: 4.1368304964693405e-28\n",
      "predictions: [array([529033.94103407]), array([278785.7481378]), array([286230.3688205]), array([419348.88071538]), array([455289.71374501]), array([354925.17854357]), array([403021.04825714])]\n",
      "delta: 0, p: nan\n",
      "delta: 1, p: 0.2691518701050794\n",
      "delta: 2, p: 0.37404457126623847\n"
     ]
    },
    {
     "name": "stderr",
     "output_type": "stream",
     "text": [
      "C:\\Users\\jeff1\\Anaconda3\\lib\\site-packages\\statsmodels\\tsa\\base\\tsa_model.py:221: ValueWarning: An unsupported index was provided and will be ignored when e.g. forecasting.\n",
      "  ' ignored when e.g. forecasting.', ValueWarning)\n"
     ]
    },
    {
     "name": "stdout",
     "output_type": "stream",
     "text": [
      "delta: 3, p: 0.16567524444522125\n",
      "delta: 4, p: 0.3338852990451453\n",
      "delta: 5, p: 0.29320834036479243\n",
      "delta: 6, p: 0.18954437647366723\n",
      "delta: 7, p: 0.06795770284025643\n",
      "delta: 8, p: 0.020013038985868623\n"
     ]
    },
    {
     "name": "stderr",
     "output_type": "stream",
     "text": [
      "C:\\Users\\jeff1\\Anaconda3\\lib\\site-packages\\statsmodels\\tsa\\base\\tsa_model.py:221: ValueWarning: An unsupported index was provided and will be ignored when e.g. forecasting.\n",
      "  ' ignored when e.g. forecasting.', ValueWarning)\n",
      "C:\\Users\\jeff1\\Anaconda3\\lib\\site-packages\\statsmodels\\base\\model.py:488: HessianInversionWarning: Inverting hessian failed, no bse or cov_params available\n",
      "  'available', HessianInversionWarning)\n",
      "C:\\Users\\jeff1\\Anaconda3\\lib\\site-packages\\statsmodels\\tsa\\base\\tsa_model.py:221: ValueWarning: An unsupported index was provided and will be ignored when e.g. forecasting.\n",
      "  ' ignored when e.g. forecasting.', ValueWarning)\n"
     ]
    },
    {
     "name": "stdout",
     "output_type": "stream",
     "text": [
      "predictions: [array([442769.39998674])]\n",
      "delta: 0, p: nan\n",
      "delta: 1, p: 0.918351215624746\n",
      "delta: 2, p: 0.907516641706932\n",
      "delta: 3, p: 0.6122815190148129\n",
      "delta: 4, p: 0.9392893625700789\n",
      "delta: 5, p: 0.82613790661498\n",
      "delta: 6, p: 0.8908124763032115\n",
      "delta: 7, p: 2.249948396106008e-18\n"
     ]
    },
    {
     "name": "stderr",
     "output_type": "stream",
     "text": [
      "C:\\Users\\jeff1\\Anaconda3\\lib\\site-packages\\statsmodels\\base\\model.py:488: HessianInversionWarning: Inverting hessian failed, no bse or cov_params available\n",
      "  'available', HessianInversionWarning)\n",
      "C:\\Users\\jeff1\\Anaconda3\\lib\\site-packages\\statsmodels\\tsa\\base\\tsa_model.py:221: ValueWarning: An unsupported index was provided and will be ignored when e.g. forecasting.\n",
      "  ' ignored when e.g. forecasting.', ValueWarning)\n"
     ]
    },
    {
     "name": "stdout",
     "output_type": "stream",
     "text": [
      "predictions: [array([442769.39998674]), array([378181.16544187])]\n",
      "delta: 0, p: nan\n",
      "delta: 1, p: 0.6314501002701951\n",
      "delta: 2, p: 0.624054133756229\n",
      "delta: 3, p: 0.1368293331426081\n",
      "delta: 4, p: 0.3124056008059892\n",
      "delta: 5, p: 0.44232935835862675\n",
      "delta: 6, p: 7.389594333177234e-22\n",
      "predictions: [array([442769.39998674]), array([378181.16544187]), array([381701.38117594])]\n",
      "delta: 0, p: nan\n",
      "delta: 1, p: 0.5517153777943945\n",
      "delta: 2, p: 0.63694625543699\n",
      "delta: 3, p: 0.22002355143310137\n",
      "delta: 4, p: 0.3160844163630665\n",
      "delta: 5, p: 0.5891859052095567\n",
      "delta: 6, p: 1.074985716311616e-21\n"
     ]
    },
    {
     "name": "stderr",
     "output_type": "stream",
     "text": [
      "C:\\Users\\jeff1\\Anaconda3\\lib\\site-packages\\statsmodels\\tsa\\base\\tsa_model.py:221: ValueWarning: An unsupported index was provided and will be ignored when e.g. forecasting.\n",
      "  ' ignored when e.g. forecasting.', ValueWarning)\n",
      "C:\\Users\\jeff1\\Anaconda3\\lib\\site-packages\\statsmodels\\base\\model.py:488: HessianInversionWarning: Inverting hessian failed, no bse or cov_params available\n",
      "  'available', HessianInversionWarning)\n",
      "C:\\Users\\jeff1\\Anaconda3\\lib\\site-packages\\statsmodels\\tsa\\base\\tsa_model.py:221: ValueWarning: An unsupported index was provided and will be ignored when e.g. forecasting.\n",
      "  ' ignored when e.g. forecasting.', ValueWarning)\n"
     ]
    },
    {
     "name": "stdout",
     "output_type": "stream",
     "text": [
      "predictions: [array([442769.39998674]), array([378181.16544187]), array([381701.38117594]), array([385209.27928325])]\n",
      "delta: 0, p: nan\n",
      "delta: 1, p: 0.4308594656386574\n",
      "delta: 2, p: 0.12134851894907661\n",
      "delta: 3, p: 3.963789447802197e-10\n",
      "predictions: [array([442769.39998674]), array([378181.16544187]), array([381701.38117594]), array([385209.27928325]), array([401250.28197754])]\n",
      "delta: 0, p: nan\n",
      "delta: 1, p: 0.2861945863392018\n",
      "delta: 2, p: 1.5573259511261303e-07\n"
     ]
    },
    {
     "name": "stderr",
     "output_type": "stream",
     "text": [
      "C:\\Users\\jeff1\\Anaconda3\\lib\\site-packages\\statsmodels\\tsa\\base\\tsa_model.py:221: ValueWarning: An unsupported index was provided and will be ignored when e.g. forecasting.\n",
      "  ' ignored when e.g. forecasting.', ValueWarning)\n"
     ]
    },
    {
     "name": "stdout",
     "output_type": "stream",
     "text": [
      "predictions: [array([442769.39998674]), array([378181.16544187]), array([381701.38117594]), array([385209.27928325]), array([401250.28197754]), array([408027.21992994])]\n",
      "delta: 0, p: nan\n",
      "delta: 1, p: 0.2507605072726977\n",
      "delta: 2, p: 0.5703685693445235\n",
      "delta: 3, p: 5.0364662850945815e-08\n"
     ]
    },
    {
     "name": "stderr",
     "output_type": "stream",
     "text": [
      "C:\\Users\\jeff1\\Anaconda3\\lib\\site-packages\\statsmodels\\tsa\\base\\tsa_model.py:221: ValueWarning: An unsupported index was provided and will be ignored when e.g. forecasting.\n",
      "  ' ignored when e.g. forecasting.', ValueWarning)\n"
     ]
    },
    {
     "name": "stdout",
     "output_type": "stream",
     "text": [
      "predictions: [array([442769.39998674]), array([378181.16544187]), array([381701.38117594]), array([385209.27928325]), array([401250.28197754]), array([408027.21992994]), array([370110.29765996])]\n",
      "delta: 0, p: nan\n",
      "delta: 1, p: 0.2856913192266393\n",
      "delta: 2, p: 0.326916653614857\n",
      "delta: 3, p: 0.43391903067661486\n",
      "delta: 4, p: 0.3669774514510188\n",
      "delta: 5, p: 0.17244859489786157\n",
      "delta: 6, p: 0.06862781817037877\n",
      "delta: 7, p: 0.009832940640925741\n"
     ]
    },
    {
     "name": "stderr",
     "output_type": "stream",
     "text": [
      "C:\\Users\\jeff1\\Anaconda3\\lib\\site-packages\\statsmodels\\tsa\\base\\tsa_model.py:221: ValueWarning: An unsupported index was provided and will be ignored when e.g. forecasting.\n",
      "  ' ignored when e.g. forecasting.', ValueWarning)\n"
     ]
    },
    {
     "name": "stdout",
     "output_type": "stream",
     "text": [
      "predictions: [array([474611.75048095])]\n",
      "delta: 0, p: nan\n",
      "delta: 1, p: 0.8408910639904295\n",
      "delta: 2, p: 0.9384319365438764\n",
      "delta: 3, p: 0.8571168971221861\n",
      "delta: 4, p: 0.8625107799084023\n",
      "delta: 5, p: 0.570175514273098\n",
      "delta: 6, p: 0.8540180113739302\n",
      "delta: 7, p: 0.826544735749489\n",
      "delta: 8, p: 0.7485081364807302\n",
      "delta: 9, p: 1.5018582699904563e-23\n"
     ]
    },
    {
     "name": "stderr",
     "output_type": "stream",
     "text": [
      "C:\\Users\\jeff1\\Anaconda3\\lib\\site-packages\\statsmodels\\tsa\\base\\tsa_model.py:221: ValueWarning: An unsupported index was provided and will be ignored when e.g. forecasting.\n",
      "  ' ignored when e.g. forecasting.', ValueWarning)\n",
      "C:\\Users\\jeff1\\Anaconda3\\lib\\site-packages\\statsmodels\\base\\model.py:488: HessianInversionWarning: Inverting hessian failed, no bse or cov_params available\n",
      "  'available', HessianInversionWarning)\n",
      "C:\\Users\\jeff1\\Anaconda3\\lib\\site-packages\\statsmodels\\tsa\\base\\tsa_model.py:221: ValueWarning: An unsupported index was provided and will be ignored when e.g. forecasting.\n",
      "  ' ignored when e.g. forecasting.', ValueWarning)\n"
     ]
    },
    {
     "name": "stdout",
     "output_type": "stream",
     "text": [
      "predictions: [array([474611.75048095]), array([355041.897011])]\n",
      "delta: 0, p: nan\n",
      "delta: 1, p: 0.11789151868687292\n",
      "delta: 2, p: 0.19620979155421814\n",
      "delta: 3, p: 0.0\n",
      "predictions: [array([474611.75048095]), array([355041.897011]), array([400918.43294919])]\n",
      "delta: 0, p: nan\n",
      "delta: 1, p: 0.09163272873953948\n",
      "delta: 2, p: 0.4317028518330628\n",
      "delta: 3, p: 0.0\n"
     ]
    },
    {
     "name": "stderr",
     "output_type": "stream",
     "text": [
      "C:\\Users\\jeff1\\Anaconda3\\lib\\site-packages\\statsmodels\\tsa\\base\\tsa_model.py:221: ValueWarning: An unsupported index was provided and will be ignored when e.g. forecasting.\n",
      "  ' ignored when e.g. forecasting.', ValueWarning)\n"
     ]
    },
    {
     "name": "stdout",
     "output_type": "stream",
     "text": [
      "predictions: [array([474611.75048095]), array([355041.897011]), array([400918.43294919]), array([345509.5714761])]\n",
      "delta: 0, p: nan\n",
      "delta: 1, p: 0.03854277963200936\n"
     ]
    },
    {
     "name": "stderr",
     "output_type": "stream",
     "text": [
      "C:\\Users\\jeff1\\Anaconda3\\lib\\site-packages\\statsmodels\\tsa\\base\\tsa_model.py:221: ValueWarning: An unsupported index was provided and will be ignored when e.g. forecasting.\n",
      "  ' ignored when e.g. forecasting.', ValueWarning)\n"
     ]
    },
    {
     "name": "stdout",
     "output_type": "stream",
     "text": [
      "predictions: [array([474611.75048095]), array([355041.897011]), array([400918.43294919]), array([345509.5714761]), array([376497.87739816])]\n",
      "delta: 0, p: nan\n",
      "delta: 1, p: 1.332347153926662e-26\n"
     ]
    },
    {
     "name": "stderr",
     "output_type": "stream",
     "text": [
      "C:\\Users\\jeff1\\Anaconda3\\lib\\site-packages\\statsmodels\\tsa\\base\\tsa_model.py:221: ValueWarning: An unsupported index was provided and will be ignored when e.g. forecasting.\n",
      "  ' ignored when e.g. forecasting.', ValueWarning)\n"
     ]
    },
    {
     "name": "stdout",
     "output_type": "stream",
     "text": [
      "predictions: [array([474611.75048095]), array([355041.897011]), array([400918.43294919]), array([345509.5714761]), array([376497.87739816]), array([374971.65041918])]\n",
      "delta: 0, p: nan\n",
      "delta: 1, p: 1.2024852312616082e-26\n",
      "predictions: [array([474611.75048095]), array([355041.897011]), array([400918.43294919]), array([345509.5714761]), array([376497.87739816]), array([374971.65041918]), array([403441.62736622])]\n"
     ]
    },
    {
     "name": "stderr",
     "output_type": "stream",
     "text": [
      "C:\\Users\\jeff1\\Anaconda3\\lib\\site-packages\\statsmodels\\tsa\\base\\tsa_model.py:221: ValueWarning: An unsupported index was provided and will be ignored when e.g. forecasting.\n",
      "  ' ignored when e.g. forecasting.', ValueWarning)\n"
     ]
    },
    {
     "name": "stdout",
     "output_type": "stream",
     "text": [
      "delta: 0, p: nan\n",
      "delta: 1, p: 0.18008210652796575\n",
      "delta: 2, p: 0.1935506707210254\n",
      "delta: 3, p: 0.07835038420036018\n",
      "delta: 4, p: 0.1130287991809582\n",
      "delta: 5, p: 0.16375996811239468\n",
      "delta: 6, p: 0.12938740615858546\n",
      "delta: 7, p: 0.026387447889323564\n"
     ]
    },
    {
     "name": "stderr",
     "output_type": "stream",
     "text": [
      "C:\\Users\\jeff1\\Anaconda3\\lib\\site-packages\\statsmodels\\tsa\\base\\tsa_model.py:221: ValueWarning: An unsupported index was provided and will be ignored when e.g. forecasting.\n",
      "  ' ignored when e.g. forecasting.', ValueWarning)\n"
     ]
    },
    {
     "name": "stdout",
     "output_type": "stream",
     "text": [
      "predictions: [array([672197.93181541])]\n",
      "delta: 0, p: nan\n",
      "delta: 1, p: 0.9799754775940878\n",
      "delta: 2, p: 0.9501051103597346\n",
      "delta: 3, p: 0.9184025086777015\n",
      "delta: 4, p: 0.9514214678352092\n",
      "delta: 5, p: 0.9769619119729969\n",
      "delta: 6, p: 0.9787631512069914\n",
      "delta: 7, p: 0.977519477159626\n",
      "delta: 8, p: 0.9452260692793025\n",
      "delta: 9, p: 0.0001372643592560233\n"
     ]
    },
    {
     "name": "stderr",
     "output_type": "stream",
     "text": [
      "C:\\Users\\jeff1\\Anaconda3\\lib\\site-packages\\statsmodels\\tsa\\base\\tsa_model.py:221: ValueWarning: An unsupported index was provided and will be ignored when e.g. forecasting.\n",
      "  ' ignored when e.g. forecasting.', ValueWarning)\n"
     ]
    },
    {
     "name": "stdout",
     "output_type": "stream",
     "text": [
      "predictions: [array([672197.93181541]), array([237243.15641677])]\n",
      "delta: 0, p: nan\n",
      "delta: 1, p: 0.9553266524960371\n",
      "delta: 2, p: 0.8976169901300658\n",
      "delta: 3, p: 0.8738772370450447\n",
      "delta: 4, p: 0.9135796124513422\n",
      "delta: 5, p: 1.6615326007168029e-12\n"
     ]
    },
    {
     "name": "stderr",
     "output_type": "stream",
     "text": [
      "C:\\Users\\jeff1\\Anaconda3\\lib\\site-packages\\statsmodels\\tsa\\base\\tsa_model.py:221: ValueWarning: An unsupported index was provided and will be ignored when e.g. forecasting.\n",
      "  ' ignored when e.g. forecasting.', ValueWarning)\n",
      "C:\\Users\\jeff1\\Anaconda3\\lib\\site-packages\\statsmodels\\base\\model.py:488: HessianInversionWarning: Inverting hessian failed, no bse or cov_params available\n",
      "  'available', HessianInversionWarning)\n",
      "C:\\Users\\jeff1\\Anaconda3\\lib\\site-packages\\statsmodels\\base\\model.py:508: ConvergenceWarning: Maximum Likelihood optimization failed to converge. Check mle_retvals\n",
      "  \"Check mle_retvals\", ConvergenceWarning)\n",
      "C:\\Users\\jeff1\\Anaconda3\\lib\\site-packages\\statsmodels\\tsa\\base\\tsa_model.py:221: ValueWarning: An unsupported index was provided and will be ignored when e.g. forecasting.\n",
      "  ' ignored when e.g. forecasting.', ValueWarning)\n"
     ]
    },
    {
     "name": "stdout",
     "output_type": "stream",
     "text": [
      "predictions: [array([672197.93181541]), array([237243.15641677]), array([-51424.86378972])]\n",
      "delta: 0, p: nan\n",
      "delta: 1, p: 0.9607208137700206\n",
      "delta: 2, p: 0.8992368150200707\n",
      "delta: 3, p: 0.8848407051183689\n",
      "delta: 4, p: 0.8986701321242107\n",
      "delta: 5, p: 3.4286514270213337e-15\n"
     ]
    },
    {
     "name": "stderr",
     "output_type": "stream",
     "text": [
      "C:\\Users\\jeff1\\Anaconda3\\lib\\site-packages\\statsmodels\\base\\model.py:488: HessianInversionWarning: Inverting hessian failed, no bse or cov_params available\n",
      "  'available', HessianInversionWarning)\n"
     ]
    },
    {
     "name": "stdout",
     "output_type": "stream",
     "text": [
      "predictions: [array([672197.93181541]), array([237243.15641677]), array([-51424.86378972]), array([126698.78639305])]\n",
      "delta: 0, p: nan\n",
      "delta: 1, p: 0.9283499753923242\n",
      "delta: 2, p: 0.8562746219136154\n",
      "delta: 3, p: 0.7541535776621839\n",
      "delta: 4, p: 0.812452461146472\n",
      "delta: 5, p: 0.2113127884737554\n",
      "delta: 6, p: 0.9362325180961654\n",
      "delta: 7, p: 0.8382526998031163\n",
      "delta: 8, p: 0.4252453881989395\n",
      "delta: 9, p: 6.540134475480098e-06\n"
     ]
    },
    {
     "name": "stderr",
     "output_type": "stream",
     "text": [
      "C:\\Users\\jeff1\\Anaconda3\\lib\\site-packages\\statsmodels\\tsa\\base\\tsa_model.py:221: ValueWarning: An unsupported index was provided and will be ignored when e.g. forecasting.\n",
      "  ' ignored when e.g. forecasting.', ValueWarning)\n",
      "C:\\Users\\jeff1\\Anaconda3\\lib\\site-packages\\statsmodels\\base\\model.py:488: HessianInversionWarning: Inverting hessian failed, no bse or cov_params available\n",
      "  'available', HessianInversionWarning)\n",
      "C:\\Users\\jeff1\\Anaconda3\\lib\\site-packages\\statsmodels\\tsa\\base\\tsa_model.py:221: ValueWarning: An unsupported index was provided and will be ignored when e.g. forecasting.\n",
      "  ' ignored when e.g. forecasting.', ValueWarning)\n"
     ]
    },
    {
     "name": "stdout",
     "output_type": "stream",
     "text": [
      "predictions: [array([672197.93181541]), array([237243.15641677]), array([-51424.86378972]), array([126698.78639305]), array([140192.75708329])]\n",
      "delta: 0, p: nan\n",
      "delta: 1, p: 1.4251197115380469e-28\n",
      "predictions: [array([672197.93181541]), array([237243.15641677]), array([-51424.86378972]), array([126698.78639305]), array([140192.75708329]), array([389422.37012032])]\n",
      "delta: 0, p: nan\n",
      "delta: 1, p: 1.3152799908917838e-28\n",
      "predictions: [array([672197.93181541]), array([237243.15641677]), array([-51424.86378972]), array([126698.78639305]), array([140192.75708329]), array([389422.37012032]), array([402999.55402007])]\n",
      "delta: 0, p: nan"
     ]
    },
    {
     "name": "stderr",
     "output_type": "stream",
     "text": [
      "C:\\Users\\jeff1\\Anaconda3\\lib\\site-packages\\statsmodels\\tsa\\base\\tsa_model.py:221: ValueWarning: An unsupported index was provided and will be ignored when e.g. forecasting.\n",
      "  ' ignored when e.g. forecasting.', ValueWarning)\n"
     ]
    },
    {
     "name": "stdout",
     "output_type": "stream",
     "text": [
      "\n",
      "delta: 1, p: 0.3149272365084998\n",
      "delta: 2, p: 0.2536194017196873\n",
      "delta: 3, p: 0.18233276651631614\n",
      "delta: 4, p: 0.41986963632941554\n",
      "delta: 5, p: 0.2514073908149254\n",
      "delta: 6, p: 0.0\n"
     ]
    },
    {
     "name": "stderr",
     "output_type": "stream",
     "text": [
      "C:\\Users\\jeff1\\Anaconda3\\lib\\site-packages\\statsmodels\\tsa\\base\\tsa_model.py:221: ValueWarning: An unsupported index was provided and will be ignored when e.g. forecasting.\n",
      "  ' ignored when e.g. forecasting.', ValueWarning)\n",
      "C:\\Users\\jeff1\\Anaconda3\\lib\\site-packages\\statsmodels\\base\\model.py:488: HessianInversionWarning: Inverting hessian failed, no bse or cov_params available\n",
      "  'available', HessianInversionWarning)\n",
      "C:\\Users\\jeff1\\Anaconda3\\lib\\site-packages\\statsmodels\\tsa\\base\\tsa_model.py:221: ValueWarning: An unsupported index was provided and will be ignored when e.g. forecasting.\n",
      "  ' ignored when e.g. forecasting.', ValueWarning)\n"
     ]
    },
    {
     "name": "stdout",
     "output_type": "stream",
     "text": [
      "predictions: [array([767941.9101596])]\n",
      "delta: 0, p: nan\n",
      "delta: 1, p: 0.8491331443140819\n",
      "delta: 2, p: 0.9351777091944365\n",
      "delta: 3, p: 0.5256367813071803\n",
      "delta: 4, p: 0.6073635297143708\n",
      "delta: 5, p: 1.3471461567153545e-15\n"
     ]
    },
    {
     "name": "stderr",
     "output_type": "stream",
     "text": [
      "C:\\Users\\jeff1\\Anaconda3\\lib\\site-packages\\statsmodels\\base\\model.py:488: HessianInversionWarning: Inverting hessian failed, no bse or cov_params available\n",
      "  'available', HessianInversionWarning)\n",
      "C:\\Users\\jeff1\\Anaconda3\\lib\\site-packages\\statsmodels\\tsa\\base\\tsa_model.py:221: ValueWarning: An unsupported index was provided and will be ignored when e.g. forecasting.\n",
      "  ' ignored when e.g. forecasting.', ValueWarning)\n"
     ]
    },
    {
     "name": "stdout",
     "output_type": "stream",
     "text": [
      "predictions: [array([767941.9101596]), array([76413.94896925])]\n",
      "delta: 0, p: nan\n",
      "delta: 1, p: 9.533905521389345e-29\n"
     ]
    },
    {
     "name": "stderr",
     "output_type": "stream",
     "text": [
      "C:\\Users\\jeff1\\Anaconda3\\lib\\site-packages\\statsmodels\\base\\model.py:488: HessianInversionWarning: Inverting hessian failed, no bse or cov_params available\n",
      "  'available', HessianInversionWarning)\n",
      "C:\\Users\\jeff1\\Anaconda3\\lib\\site-packages\\statsmodels\\base\\model.py:508: ConvergenceWarning: Maximum Likelihood optimization failed to converge. Check mle_retvals\n",
      "  \"Check mle_retvals\", ConvergenceWarning)\n",
      "C:\\Users\\jeff1\\Anaconda3\\lib\\site-packages\\statsmodels\\tsa\\base\\tsa_model.py:221: ValueWarning: An unsupported index was provided and will be ignored when e.g. forecasting.\n",
      "  ' ignored when e.g. forecasting.', ValueWarning)\n"
     ]
    },
    {
     "name": "stdout",
     "output_type": "stream",
     "text": [
      "predictions: [array([767941.9101596]), array([76413.94896925]), array([442335.42249828])]\n",
      "delta: 0, p: nan\n",
      "delta: 1, p: 8.824530074030496e-29\n"
     ]
    },
    {
     "name": "stderr",
     "output_type": "stream",
     "text": [
      "C:\\Users\\jeff1\\Anaconda3\\lib\\site-packages\\statsmodels\\base\\model.py:488: HessianInversionWarning: Inverting hessian failed, no bse or cov_params available\n",
      "  'available', HessianInversionWarning)\n",
      "C:\\Users\\jeff1\\Anaconda3\\lib\\site-packages\\statsmodels\\tsa\\base\\tsa_model.py:221: ValueWarning: An unsupported index was provided and will be ignored when e.g. forecasting.\n",
      "  ' ignored when e.g. forecasting.', ValueWarning)\n"
     ]
    },
    {
     "name": "stdout",
     "output_type": "stream",
     "text": [
      "predictions: [array([767941.9101596]), array([76413.94896925]), array([442335.42249828]), array([490598.7346576])]\n",
      "delta: 0, p: nan\n",
      "delta: 1, p: 8.177828894044013e-29\n",
      "predictions: [array([767941.9101596]), array([76413.94896925]), array([442335.42249828]), array([490598.7346576]), array([301195.46636862])]\n",
      "delta: 0, p: nan\n",
      "delta: 1, p: 7.57677869677366e-29\n"
     ]
    },
    {
     "name": "stderr",
     "output_type": "stream",
     "text": [
      "C:\\Users\\jeff1\\Anaconda3\\lib\\site-packages\\statsmodels\\tsa\\base\\tsa_model.py:221: ValueWarning: An unsupported index was provided and will be ignored when e.g. forecasting.\n",
      "  ' ignored when e.g. forecasting.', ValueWarning)\n"
     ]
    },
    {
     "name": "stdout",
     "output_type": "stream",
     "text": [
      "predictions: [array([767941.9101596]), array([76413.94896925]), array([442335.42249828]), array([490598.7346576]), array([301195.46636862]), array([385302.11821834])]\n",
      "delta: 0, p: nan\n",
      "delta: 1, p: 7.025177215327115e-29\n",
      "predictions: [array([767941.9101596]), array([76413.94896925]), array([442335.42249828]), array([490598.7346576]), array([301195.46636862]), array([385302.11821834]), array([403144.23845311])]\n"
     ]
    },
    {
     "name": "stderr",
     "output_type": "stream",
     "text": [
      "C:\\Users\\jeff1\\Anaconda3\\lib\\site-packages\\statsmodels\\tsa\\base\\tsa_model.py:221: ValueWarning: An unsupported index was provided and will be ignored when e.g. forecasting.\n",
      "  ' ignored when e.g. forecasting.', ValueWarning)\n"
     ]
    },
    {
     "name": "stdout",
     "output_type": "stream",
     "text": [
      "delta: 0, p: nan\n",
      "delta: 1, p: 0.43641455120629413\n",
      "delta: 2, p: 0.5725902181074214\n",
      "delta: 3, p: 0.40559166260970064\n",
      "delta: 4, p: 0.4665341925598532\n",
      "delta: 5, p: 0.34026224856715975\n",
      "delta: 6, p: 0.5481387858404897\n",
      "delta: 7, p: 0.2377146142673776\n",
      "delta: 8, p: 0.2562411669803949\n",
      "delta: 9, p: 0.0\n"
     ]
    },
    {
     "name": "stderr",
     "output_type": "stream",
     "text": [
      "C:\\Users\\jeff1\\Anaconda3\\lib\\site-packages\\statsmodels\\tsa\\base\\tsa_model.py:221: ValueWarning: An unsupported index was provided and will be ignored when e.g. forecasting.\n",
      "  ' ignored when e.g. forecasting.', ValueWarning)\n"
     ]
    },
    {
     "name": "stdout",
     "output_type": "stream",
     "text": [
      "predictions: [array([438427.01090489])]\n",
      "delta: 0, p: nan\n",
      "delta: 1, p: 0.4649259825989972\n",
      "delta: 2, p: 0.371817776891181\n",
      "delta: 3, p: 0.27110354330439057\n",
      "delta: 4, p: 0.0\n"
     ]
    },
    {
     "name": "stderr",
     "output_type": "stream",
     "text": [
      "C:\\Users\\jeff1\\Anaconda3\\lib\\site-packages\\statsmodels\\tsa\\base\\tsa_model.py:221: ValueWarning: An unsupported index was provided and will be ignored when e.g. forecasting.\n",
      "  ' ignored when e.g. forecasting.', ValueWarning)\n"
     ]
    },
    {
     "name": "stdout",
     "output_type": "stream",
     "text": [
      "bad condition 4: stationarity not adequate\n",
      "delta: 5, p: 0.3267475038668739\n",
      "delta: 6, p: 0.0\n"
     ]
    },
    {
     "name": "stderr",
     "output_type": "stream",
     "text": [
      "C:\\Users\\jeff1\\Anaconda3\\lib\\site-packages\\statsmodels\\tsa\\base\\tsa_model.py:221: ValueWarning: An unsupported index was provided and will be ignored when e.g. forecasting.\n",
      "  ' ignored when e.g. forecasting.', ValueWarning)\n"
     ]
    },
    {
     "name": "stdout",
     "output_type": "stream",
     "text": [
      "predictions: [array([438427.01090489]), array([384936.19789923])]\n",
      "delta: 0, p: nan\n",
      "delta: 1, p: 0.17483900962536064\n",
      "delta: 2, p: 0.6961252023143731\n",
      "delta: 3, p: 0.10915439070439814\n",
      "delta: 4, p: 0.08364697602630716\n",
      "delta: 5, p: 0.30333236457285606\n",
      "delta: 6, p: 0.5585439750617076\n",
      "delta: 7, p: 0.06380163601418128\n",
      "delta: 8, p: 0.07994342234495044\n",
      "delta: 9, p: 3.4107628077769316e-19\n"
     ]
    },
    {
     "name": "stderr",
     "output_type": "stream",
     "text": [
      "C:\\Users\\jeff1\\Anaconda3\\lib\\site-packages\\statsmodels\\tsa\\base\\tsa_model.py:221: ValueWarning: An unsupported index was provided and will be ignored when e.g. forecasting.\n",
      "  ' ignored when e.g. forecasting.', ValueWarning)\n"
     ]
    },
    {
     "name": "stdout",
     "output_type": "stream",
     "text": [
      "predictions: [array([438427.01090489]), array([384936.19789923]), array([388122.81752463])]\n",
      "delta: 0, p: nan\n",
      "delta: 1, p: 0.0585554316214961\n",
      "delta: 2, p: 0.053843707708313385\n",
      "delta: 3, p: 0.6440925701615288\n",
      "delta: 4, p: 0.10081212514900811\n",
      "delta: 5, p: 0.10935561715020642\n",
      "delta: 6, p: 0.1416933974968655\n",
      "delta: 7, p: 0.10065104839193056\n",
      "delta: 8, p: 3.418117667800341e-30\n"
     ]
    },
    {
     "name": "stderr",
     "output_type": "stream",
     "text": [
      "C:\\Users\\jeff1\\Anaconda3\\lib\\site-packages\\statsmodels\\tsa\\base\\tsa_model.py:221: ValueWarning: An unsupported index was provided and will be ignored when e.g. forecasting.\n",
      "  ' ignored when e.g. forecasting.', ValueWarning)\n"
     ]
    },
    {
     "name": "stdout",
     "output_type": "stream",
     "text": [
      "predictions: [array([438427.01090489]), array([384936.19789923]), array([388122.81752463]), array([391683.33963776])]\n",
      "delta: 0, p: nan\n",
      "delta: 1, p: 0.02326603457723063\n"
     ]
    },
    {
     "name": "stderr",
     "output_type": "stream",
     "text": [
      "C:\\Users\\jeff1\\Anaconda3\\lib\\site-packages\\statsmodels\\tsa\\base\\tsa_model.py:221: ValueWarning: An unsupported index was provided and will be ignored when e.g. forecasting.\n",
      "  ' ignored when e.g. forecasting.', ValueWarning)\n",
      "C:\\Users\\jeff1\\Anaconda3\\lib\\site-packages\\statsmodels\\base\\model.py:488: HessianInversionWarning: Inverting hessian failed, no bse or cov_params available\n",
      "  'available', HessianInversionWarning)\n",
      "C:\\Users\\jeff1\\Anaconda3\\lib\\site-packages\\statsmodels\\tsa\\base\\tsa_model.py:221: ValueWarning: An unsupported index was provided and will be ignored when e.g. forecasting.\n",
      "  ' ignored when e.g. forecasting.', ValueWarning)\n"
     ]
    },
    {
     "name": "stdout",
     "output_type": "stream",
     "text": [
      "predictions: [array([438427.01090489]), array([384936.19789923]), array([388122.81752463]), array([391683.33963776]), array([365925.18792614])]\n",
      "delta: 0, p: nan\n",
      "delta: 1, p: 0.008904488115058647\n",
      "predictions: [array([438427.01090489]), array([384936.19789923]), array([388122.81752463]), array([391683.33963776]), array([365925.18792614]), array([391037.1609852])]\n",
      "delta: 0, p: nan\n",
      "delta: 1, p: 0.09204154865084396\n",
      "delta: 2, p: 0.01779961427266802\n"
     ]
    },
    {
     "name": "stderr",
     "output_type": "stream",
     "text": [
      "C:\\Users\\jeff1\\Anaconda3\\lib\\site-packages\\statsmodels\\tsa\\base\\tsa_model.py:221: ValueWarning: An unsupported index was provided and will be ignored when e.g. forecasting.\n",
      "  ' ignored when e.g. forecasting.', ValueWarning)\n"
     ]
    },
    {
     "name": "stdout",
     "output_type": "stream",
     "text": [
      "predictions: [array([438427.01090489]), array([384936.19789923]), array([388122.81752463]), array([391683.33963776]), array([365925.18792614]), array([391037.1609852]), array([389421.72452018])]\n",
      "delta: 0, p: nan\n",
      "delta: 1, p: 0.4326467809925377\n",
      "delta: 2, p: 0.5934878389350776\n",
      "delta: 3, p: 0.172732528108761\n",
      "delta: 4, p: 0.396279828095387\n",
      "delta: 5, p: 0.1828308857822048\n",
      "delta: 6, p: 0.3260384120877031\n",
      "delta: 7, p: 0.08358581324602388\n",
      "delta: 8, p: 0.2066927788066727\n",
      "delta: 9, p: 0.0\n"
     ]
    },
    {
     "name": "stderr",
     "output_type": "stream",
     "text": [
      "C:\\Users\\jeff1\\Anaconda3\\lib\\site-packages\\statsmodels\\tsa\\base\\tsa_model.py:221: ValueWarning: An unsupported index was provided and will be ignored when e.g. forecasting.\n",
      "  ' ignored when e.g. forecasting.', ValueWarning)\n"
     ]
    },
    {
     "name": "stdout",
     "output_type": "stream",
     "text": [
      "predictions: [array([503778.7337166])]\n",
      "delta: 0, p: nan\n",
      "delta: 1, p: 0.7506452832754358\n",
      "delta: 2, p: 0.8791786803106364\n",
      "delta: 3, p: 0.6276859155188282\n",
      "delta: 4, p: 6.785353839254464e-30\n"
     ]
    },
    {
     "name": "stderr",
     "output_type": "stream",
     "text": [
      "C:\\Users\\jeff1\\Anaconda3\\lib\\site-packages\\statsmodels\\tsa\\base\\tsa_model.py:221: ValueWarning: An unsupported index was provided and will be ignored when e.g. forecasting.\n",
      "  ' ignored when e.g. forecasting.', ValueWarning)\n"
     ]
    },
    {
     "name": "stdout",
     "output_type": "stream",
     "text": [
      "bad condition 4: stationarity not adequate\n",
      "delta: 5, p: 0.6868934231991829\n",
      "delta: 6, p: 1.4858132870189022e-25\n"
     ]
    },
    {
     "name": "stderr",
     "output_type": "stream",
     "text": [
      "C:\\Users\\jeff1\\Anaconda3\\lib\\site-packages\\statsmodels\\tsa\\base\\tsa_model.py:221: ValueWarning: An unsupported index was provided and will be ignored when e.g. forecasting.\n",
      "  ' ignored when e.g. forecasting.', ValueWarning)\n",
      "C:\\Users\\jeff1\\Anaconda3\\lib\\site-packages\\statsmodels\\base\\model.py:488: HessianInversionWarning: Inverting hessian failed, no bse or cov_params available\n",
      "  'available', HessianInversionWarning)\n",
      "C:\\Users\\jeff1\\Anaconda3\\lib\\site-packages\\statsmodels\\tsa\\base\\tsa_model.py:221: ValueWarning: An unsupported index was provided and will be ignored when e.g. forecasting.\n",
      "  ' ignored when e.g. forecasting.', ValueWarning)\n"
     ]
    },
    {
     "name": "stdout",
     "output_type": "stream",
     "text": [
      "predictions: [array([503778.7337166]), array([340257.61785557])]\n",
      "delta: 0, p: nan\n",
      "delta: 1, p: 0.4454042565191554\n",
      "delta: 2, p: 0.8496040948433083\n",
      "delta: 3, p: 0.8504696210064717\n",
      "delta: 4, p: 0.8039985738911584\n",
      "delta: 5, p: 0.26682135414053443\n",
      "delta: 6, p: 0.3254071116610629\n",
      "delta: 7, p: 0.7414366212430145\n",
      "delta: 8, p: 4.797046926873192e-20\n"
     ]
    },
    {
     "name": "stderr",
     "output_type": "stream",
     "text": [
      "C:\\Users\\jeff1\\Anaconda3\\lib\\site-packages\\statsmodels\\base\\model.py:488: HessianInversionWarning: Inverting hessian failed, no bse or cov_params available\n",
      "  'available', HessianInversionWarning)\n"
     ]
    },
    {
     "name": "stdout",
     "output_type": "stream",
     "text": [
      "predictions: [array([503778.7337166]), array([340257.61785557]), array([350332.72401347])]\n",
      "delta: 0, p: nan\n",
      "delta: 1, p: 0.23296193901026707\n",
      "delta: 2, p: 0.18235516060167045\n",
      "delta: 3, p: 0.8091758882347376\n",
      "delta: 4, p: 0.250115292659958\n",
      "delta: 5, p: 0.2564762887094221\n",
      "delta: 6, p: 0.266988940402899\n",
      "delta: 7, p: 0.7707035795237756\n",
      "delta: 8, p: 2.6815656256004305e-19\n"
     ]
    },
    {
     "name": "stderr",
     "output_type": "stream",
     "text": [
      "C:\\Users\\jeff1\\Anaconda3\\lib\\site-packages\\statsmodels\\tsa\\base\\tsa_model.py:221: ValueWarning: An unsupported index was provided and will be ignored when e.g. forecasting.\n",
      "  ' ignored when e.g. forecasting.', ValueWarning)\n"
     ]
    },
    {
     "name": "stdout",
     "output_type": "stream",
     "text": [
      "predictions: [array([503778.7337166]), array([340257.61785557]), array([350332.72401347]), array([353690.10854643])]\n",
      "delta: 0, p: nan\n",
      "delta: 1, p: 0.008766848775812519\n"
     ]
    },
    {
     "name": "stderr",
     "output_type": "stream",
     "text": [
      "C:\\Users\\jeff1\\Anaconda3\\lib\\site-packages\\statsmodels\\tsa\\base\\tsa_model.py:221: ValueWarning: An unsupported index was provided and will be ignored when e.g. forecasting.\n",
      "  ' ignored when e.g. forecasting.', ValueWarning)\n"
     ]
    },
    {
     "name": "stdout",
     "output_type": "stream",
     "text": [
      "bad condition 1: stationarity not adequate\n",
      "delta: 2, p: 0.5491382771808307\n",
      "delta: 3, p: 0.019953337993551125\n"
     ]
    },
    {
     "name": "stderr",
     "output_type": "stream",
     "text": [
      "C:\\Users\\jeff1\\Anaconda3\\lib\\site-packages\\statsmodels\\tsa\\base\\tsa_model.py:221: ValueWarning: An unsupported index was provided and will be ignored when e.g. forecasting.\n",
      "  ' ignored when e.g. forecasting.', ValueWarning)\n"
     ]
    },
    {
     "name": "stdout",
     "output_type": "stream",
     "text": [
      "predictions: [array([503778.7337166]), array([340257.61785557]), array([350332.72401347]), array([353690.10854643]), array([406114.68761792])]\n",
      "delta: 0, p: nan\n",
      "delta: 1, p: 4.170737850135085e-27\n"
     ]
    },
    {
     "name": "stderr",
     "output_type": "stream",
     "text": [
      "C:\\Users\\jeff1\\Anaconda3\\lib\\site-packages\\statsmodels\\tsa\\base\\tsa_model.py:221: ValueWarning: An unsupported index was provided and will be ignored when e.g. forecasting.\n",
      "  ' ignored when e.g. forecasting.', ValueWarning)\n"
     ]
    },
    {
     "name": "stdout",
     "output_type": "stream",
     "text": [
      "predictions: [array([503778.7337166]), array([340257.61785557]), array([350332.72401347]), array([353690.10854643]), array([406114.68761792]), array([400791.48840171])]\n",
      "delta: 0, p: nan\n",
      "delta: 1, p: 3.779315216345313e-27\n",
      "predictions: [array([503778.7337166]), array([340257.61785557]), array([350332.72401347]), array([353690.10854643]), array([406114.68761792]), array([400791.48840171]), array([403402.92856296])]\n",
      "delta: 0, p: nan\n"
     ]
    },
    {
     "name": "stderr",
     "output_type": "stream",
     "text": [
      "C:\\Users\\jeff1\\Anaconda3\\lib\\site-packages\\statsmodels\\tsa\\base\\tsa_model.py:221: ValueWarning: An unsupported index was provided and will be ignored when e.g. forecasting.\n",
      "  ' ignored when e.g. forecasting.', ValueWarning)\n"
     ]
    },
    {
     "name": "stdout",
     "output_type": "stream",
     "text": [
      "delta: 1, p: 0.5347546864346245\n",
      "delta: 2, p: 0.2824381418718694\n",
      "delta: 3, p: 0.198673573200428\n",
      "delta: 4, p: 0.5447804438144588\n",
      "delta: 5, p: 0.3915917105170458\n",
      "delta: 6, p: 0.30427746503244435\n",
      "delta: 7, p: 0.027882578784864276\n"
     ]
    },
    {
     "name": "stderr",
     "output_type": "stream",
     "text": [
      "C:\\Users\\jeff1\\Anaconda3\\lib\\site-packages\\statsmodels\\tsa\\base\\tsa_model.py:221: ValueWarning: An unsupported index was provided and will be ignored when e.g. forecasting.\n",
      "  ' ignored when e.g. forecasting.', ValueWarning)\n"
     ]
    },
    {
     "name": "stdout",
     "output_type": "stream",
     "text": [
      "predictions: [array([576154.95013095])]\n",
      "delta: 0, p: nan\n",
      "delta: 1, p: 0.6460729900665377\n",
      "delta: 2, p: 0.658283814504974\n",
      "delta: 3, p: 0.5020307751031932\n",
      "delta: 4, p: 1.0528505669021011e-18\n"
     ]
    },
    {
     "name": "stderr",
     "output_type": "stream",
     "text": [
      "C:\\Users\\jeff1\\Anaconda3\\lib\\site-packages\\statsmodels\\tsa\\base\\tsa_model.py:221: ValueWarning: An unsupported index was provided and will be ignored when e.g. forecasting.\n",
      "  ' ignored when e.g. forecasting.', ValueWarning)\n"
     ]
    },
    {
     "name": "stdout",
     "output_type": "stream",
     "text": [
      "bad condition 4: stationarity not adequate\n",
      "delta: 5, p: 6.105862915232307e-19\n"
     ]
    },
    {
     "name": "stderr",
     "output_type": "stream",
     "text": [
      "C:\\Users\\jeff1\\Anaconda3\\lib\\site-packages\\statsmodels\\tsa\\base\\tsa_model.py:221: ValueWarning: An unsupported index was provided and will be ignored when e.g. forecasting.\n",
      "  ' ignored when e.g. forecasting.', ValueWarning)\n"
     ]
    },
    {
     "name": "stdout",
     "output_type": "stream",
     "text": [
      "predictions: [array([576154.95013095]), array([255274.34721385])]\n",
      "delta: 0, p: nan\n",
      "delta: 1, p: 0.06715566643966107\n",
      "delta: 2, p: 0.7661461226093478\n",
      "delta: 3, p: 0.022414609326455236\n"
     ]
    },
    {
     "name": "stderr",
     "output_type": "stream",
     "text": [
      "C:\\Users\\jeff1\\Anaconda3\\lib\\site-packages\\statsmodels\\tsa\\base\\tsa_model.py:221: ValueWarning: An unsupported index was provided and will be ignored when e.g. forecasting.\n",
      "  ' ignored when e.g. forecasting.', ValueWarning)\n"
     ]
    },
    {
     "name": "stdout",
     "output_type": "stream",
     "text": [
      "predictions: [array([576154.95013095]), array([255274.34721385]), array([397220.56496816])]\n",
      "delta: 0, p: nan\n",
      "delta: 1, p: 3.025837108868798e-28\n"
     ]
    },
    {
     "name": "stderr",
     "output_type": "stream",
     "text": [
      "C:\\Users\\jeff1\\Anaconda3\\lib\\site-packages\\statsmodels\\tsa\\base\\tsa_model.py:221: ValueWarning: An unsupported index was provided and will be ignored when e.g. forecasting.\n",
      "  ' ignored when e.g. forecasting.', ValueWarning)\n"
     ]
    },
    {
     "name": "stdout",
     "output_type": "stream",
     "text": [
      "predictions: [array([576154.95013095]), array([255274.34721385]), array([397220.56496816]), array([332673.38617422])]\n",
      "delta: 0, p: nan\n",
      "delta: 1, p: 2.7916037599578228e-28\n"
     ]
    },
    {
     "name": "stderr",
     "output_type": "stream",
     "text": [
      "C:\\Users\\jeff1\\Anaconda3\\lib\\site-packages\\statsmodels\\tsa\\base\\tsa_model.py:221: ValueWarning: An unsupported index was provided and will be ignored when e.g. forecasting.\n",
      "  ' ignored when e.g. forecasting.', ValueWarning)\n"
     ]
    },
    {
     "name": "stdout",
     "output_type": "stream",
     "text": [
      "predictions: [array([576154.95013095]), array([255274.34721385]), array([397220.56496816]), array([332673.38617422]), array([416696.79901653])]\n",
      "delta: 0, p: nan\n",
      "delta: 1, p: 2.5648339161104705e-28\n"
     ]
    },
    {
     "name": "stderr",
     "output_type": "stream",
     "text": [
      "C:\\Users\\jeff1\\Anaconda3\\lib\\site-packages\\statsmodels\\tsa\\base\\tsa_model.py:221: ValueWarning: An unsupported index was provided and will be ignored when e.g. forecasting.\n",
      "  ' ignored when e.g. forecasting.', ValueWarning)\n"
     ]
    },
    {
     "name": "stdout",
     "output_type": "stream",
     "text": [
      "predictions: [array([576154.95013095]), array([255274.34721385]), array([397220.56496816]), array([332673.38617422]), array([416696.79901653]), array([403201.28191674])]\n",
      "delta: 0, p: nan\n",
      "delta: 1, p: 2.3573183792270726e-28\n"
     ]
    },
    {
     "name": "stderr",
     "output_type": "stream",
     "text": [
      "C:\\Users\\jeff1\\Anaconda3\\lib\\site-packages\\statsmodels\\tsa\\base\\tsa_model.py:221: ValueWarning: An unsupported index was provided and will be ignored when e.g. forecasting.\n",
      "  ' ignored when e.g. forecasting.', ValueWarning)\n"
     ]
    },
    {
     "name": "stdout",
     "output_type": "stream",
     "text": [
      "predictions: [array([576154.95013095]), array([255274.34721385]), array([397220.56496816]), array([332673.38617422]), array([416696.79901653]), array([403201.28191674]), array([403184.8721072])]\n",
      "delta: 0, p: nan\n",
      "delta: 1, p: 0.5243546683861336\n",
      "delta: 2, p: 0.15621392290413594\n",
      "delta: 3, p: 0.0385096824574673\n"
     ]
    },
    {
     "name": "stderr",
     "output_type": "stream",
     "text": [
      "C:\\Users\\jeff1\\Anaconda3\\lib\\site-packages\\statsmodels\\tsa\\base\\tsa_model.py:221: ValueWarning: An unsupported index was provided and will be ignored when e.g. forecasting.\n",
      "  ' ignored when e.g. forecasting.', ValueWarning)\n"
     ]
    },
    {
     "name": "stdout",
     "output_type": "stream",
     "text": [
      "predictions: [array([609979.03195199])]\n",
      "delta: 0, p: nan\n",
      "delta: 1, p: 0.5480303851564756\n",
      "delta: 2, p: 0.44164479635416204\n",
      "delta: 3, p: 0.22582466378417337\n",
      "delta: 4, p: 1.3960526600564591e-28\n"
     ]
    },
    {
     "name": "stderr",
     "output_type": "stream",
     "text": [
      "C:\\Users\\jeff1\\Anaconda3\\lib\\site-packages\\statsmodels\\tsa\\base\\tsa_model.py:221: ValueWarning: An unsupported index was provided and will be ignored when e.g. forecasting.\n",
      "  ' ignored when e.g. forecasting.', ValueWarning)\n"
     ]
    },
    {
     "name": "stdout",
     "output_type": "stream",
     "text": [
      "predictions: [array([609979.03195199]), array([162364.99416506])]\n",
      "delta: 0, p: nan\n",
      "delta: 1, p: 2.6862142415131132e-28\n"
     ]
    },
    {
     "name": "stderr",
     "output_type": "stream",
     "text": [
      "C:\\Users\\jeff1\\Anaconda3\\lib\\site-packages\\statsmodels\\tsa\\base\\tsa_model.py:221: ValueWarning: An unsupported index was provided and will be ignored when e.g. forecasting.\n",
      "  ' ignored when e.g. forecasting.', ValueWarning)\n"
     ]
    },
    {
     "name": "stdout",
     "output_type": "stream",
     "text": [
      "bad condition 1: stationarity not adequate\n",
      "delta: 2, p: 0.7062959586293416\n",
      "delta: 3, p: 1.5060498371574405e-17\n"
     ]
    },
    {
     "name": "stderr",
     "output_type": "stream",
     "text": [
      "C:\\Users\\jeff1\\Anaconda3\\lib\\site-packages\\statsmodels\\tsa\\base\\tsa_model.py:221: ValueWarning: An unsupported index was provided and will be ignored when e.g. forecasting.\n",
      "  ' ignored when e.g. forecasting.', ValueWarning)\n"
     ]
    },
    {
     "name": "stdout",
     "output_type": "stream",
     "text": [
      "predictions: [array([609979.03195199]), array([162364.99416506]), array([411330.50488618])]\n",
      "delta: 0, p: nan\n",
      "delta: 1, p: 2.4739087521773247e-28\n"
     ]
    },
    {
     "name": "stderr",
     "output_type": "stream",
     "text": [
      "C:\\Users\\jeff1\\Anaconda3\\lib\\site-packages\\statsmodels\\tsa\\base\\tsa_model.py:221: ValueWarning: An unsupported index was provided and will be ignored when e.g. forecasting.\n",
      "  ' ignored when e.g. forecasting.', ValueWarning)\n"
     ]
    },
    {
     "name": "stdout",
     "output_type": "stream",
     "text": [
      "predictions: [array([609979.03195199]), array([162364.99416506]), array([411330.50488618]), array([346486.7184553])]\n",
      "delta: 0, p: nan\n",
      "delta: 1, p: 2.282314010814615e-28\n"
     ]
    },
    {
     "name": "stderr",
     "output_type": "stream",
     "text": [
      "C:\\Users\\jeff1\\Anaconda3\\lib\\site-packages\\statsmodels\\tsa\\base\\tsa_model.py:221: ValueWarning: An unsupported index was provided and will be ignored when e.g. forecasting.\n",
      "  ' ignored when e.g. forecasting.', ValueWarning)\n"
     ]
    },
    {
     "name": "stdout",
     "output_type": "stream",
     "text": [
      "predictions: [array([609979.03195199]), array([162364.99416506]), array([411330.50488618]), array([346486.7184553]), array([371560.49141637])]\n",
      "delta: 0, p: nan\n",
      "delta: 1, p: 2.099742104531766e-28\n"
     ]
    },
    {
     "name": "stderr",
     "output_type": "stream",
     "text": [
      "C:\\Users\\jeff1\\Anaconda3\\lib\\site-packages\\statsmodels\\tsa\\base\\tsa_model.py:221: ValueWarning: An unsupported index was provided and will be ignored when e.g. forecasting.\n",
      "  ' ignored when e.g. forecasting.', ValueWarning)\n"
     ]
    },
    {
     "name": "stdout",
     "output_type": "stream",
     "text": [
      "predictions: [array([609979.03195199]), array([162364.99416506]), array([411330.50488618]), array([346486.7184553]), array([371560.49141637]), array([423286.0214948])]\n",
      "delta: 0, p: nan\n",
      "delta: 1, p: 1.9325442080422021e-28\n",
      "predictions: [array([609979.03195199]), array([162364.99416506]), array([411330.50488618]), array([346486.7184553]), array([371560.49141637]), array([423286.0214948]), array([403090.87297856])]\n",
      "delta: 0, p: nan\n"
     ]
    },
    {
     "name": "stderr",
     "output_type": "stream",
     "text": [
      "C:\\Users\\jeff1\\Anaconda3\\lib\\site-packages\\statsmodels\\tsa\\base\\tsa_model.py:221: ValueWarning: An unsupported index was provided and will be ignored when e.g. forecasting.\n",
      "  ' ignored when e.g. forecasting.', ValueWarning)\n"
     ]
    },
    {
     "name": "stdout",
     "output_type": "stream",
     "text": [
      "delta: 1, p: 0.2771212091034418\n",
      "delta: 2, p: 0.04598754208793122\n"
     ]
    },
    {
     "name": "stderr",
     "output_type": "stream",
     "text": [
      "C:\\Users\\jeff1\\Anaconda3\\lib\\site-packages\\statsmodels\\tsa\\base\\tsa_model.py:221: ValueWarning: An unsupported index was provided and will be ignored when e.g. forecasting.\n",
      "  ' ignored when e.g. forecasting.', ValueWarning)\n"
     ]
    },
    {
     "name": "stdout",
     "output_type": "stream",
     "text": [
      "predictions: [array([535669.73506326])]\n",
      "delta: 0, p: nan\n",
      "delta: 1, p: 0.7187488499007111\n",
      "delta: 2, p: 0.8178075323400946\n",
      "delta: 3, p: 0.9341754688320892\n",
      "delta: 4, p: 1.2489705243736298e-29\n"
     ]
    },
    {
     "name": "stderr",
     "output_type": "stream",
     "text": [
      "C:\\Users\\jeff1\\Anaconda3\\lib\\site-packages\\statsmodels\\tsa\\base\\tsa_model.py:221: ValueWarning: An unsupported index was provided and will be ignored when e.g. forecasting.\n",
      "  ' ignored when e.g. forecasting.', ValueWarning)\n"
     ]
    },
    {
     "name": "stdout",
     "output_type": "stream",
     "text": [
      "bad condition 4: stationarity not adequate\n",
      "delta: 5, p: 0.8091734601267526\n",
      "delta: 6, p: 0.6825583779847573\n",
      "delta: 7, p: 0.7427238167194541\n",
      "delta: 8, p: 1.711346655844854e-16\n"
     ]
    },
    {
     "name": "stderr",
     "output_type": "stream",
     "text": [
      "C:\\Users\\jeff1\\Anaconda3\\lib\\site-packages\\statsmodels\\tsa\\base\\tsa_model.py:221: ValueWarning: An unsupported index was provided and will be ignored when e.g. forecasting.\n",
      "  ' ignored when e.g. forecasting.', ValueWarning)\n",
      "C:\\Users\\jeff1\\Anaconda3\\lib\\site-packages\\statsmodels\\base\\model.py:488: HessianInversionWarning: Inverting hessian failed, no bse or cov_params available\n",
      "  'available', HessianInversionWarning)\n",
      "C:\\Users\\jeff1\\Anaconda3\\lib\\site-packages\\statsmodels\\tsa\\base\\tsa_model.py:221: ValueWarning: An unsupported index was provided and will be ignored when e.g. forecasting.\n",
      "  ' ignored when e.g. forecasting.', ValueWarning)\n"
     ]
    },
    {
     "name": "stdout",
     "output_type": "stream",
     "text": [
      "predictions: [array([535669.73506326]), array([297794.4550488])]\n",
      "delta: 0, p: nan\n",
      "delta: 1, p: 0.9007985449512016\n",
      "delta: 2, p: 1.1944552514165045e-26\n",
      "predictions: [array([535669.73506326]), array([297794.4550488]), array([258241.04002782])]\n",
      "delta: 0, p: nan\n",
      "delta: 1, p: 0.2671645565041689\n",
      "delta: 2, p: 0.2912566316906783\n",
      "delta: 3, p: 0.8422370152651356\n",
      "delta: 4, p: 0.456445627035315\n",
      "delta: 5, p: 0.747440844963786\n",
      "delta: 6, p: 0.3096823830264284\n",
      "delta: 7, p: 0.19370771816498994\n",
      "delta: 8, p: 2.831771713441926e-17\n"
     ]
    },
    {
     "name": "stderr",
     "output_type": "stream",
     "text": [
      "C:\\Users\\jeff1\\Anaconda3\\lib\\site-packages\\statsmodels\\tsa\\base\\tsa_model.py:221: ValueWarning: An unsupported index was provided and will be ignored when e.g. forecasting.\n",
      "  ' ignored when e.g. forecasting.', ValueWarning)\n"
     ]
    },
    {
     "name": "stdout",
     "output_type": "stream",
     "text": [
      "predictions: [array([535669.73506326]), array([297794.4550488]), array([258241.04002782]), array([326759.6287853])]\n",
      "delta: 0, p: nan\n",
      "delta: 1, p: 8.146917724519827e-28\n"
     ]
    },
    {
     "name": "stderr",
     "output_type": "stream",
     "text": [
      "C:\\Users\\jeff1\\Anaconda3\\lib\\site-packages\\statsmodels\\tsa\\base\\tsa_model.py:221: ValueWarning: An unsupported index was provided and will be ignored when e.g. forecasting.\n",
      "  ' ignored when e.g. forecasting.', ValueWarning)\n",
      "C:\\Users\\jeff1\\Anaconda3\\lib\\site-packages\\statsmodels\\base\\model.py:488: HessianInversionWarning: Inverting hessian failed, no bse or cov_params available\n",
      "  'available', HessianInversionWarning)\n",
      "C:\\Users\\jeff1\\Anaconda3\\lib\\site-packages\\statsmodels\\tsa\\base\\tsa_model.py:221: ValueWarning: An unsupported index was provided and will be ignored when e.g. forecasting.\n",
      "  ' ignored when e.g. forecasting.', ValueWarning)\n"
     ]
    },
    {
     "name": "stdout",
     "output_type": "stream",
     "text": [
      "predictions: [array([535669.73506326]), array([297794.4550488]), array([258241.04002782]), array([326759.6287853]), array([319083.87782331])]\n",
      "delta: 0, p: nan\n",
      "delta: 1, p: 7.443287817841969e-28\n",
      "predictions: [array([535669.73506326]), array([297794.4550488]), array([258241.04002782]), array([326759.6287853]), array([319083.87782331]), array([401948.7172829])]\n",
      "delta: 0, p: nan\n",
      "delta: 1, p: 6.800001740281305e-28\n",
      "predictions: [array([535669.73506326]), array([297794.4550488]), array([258241.04002782]), array([326759.6287853]), array([319083.87782331]), array([401948.7172829]), array([403228.02492561])]\n",
      "delta: 0, p: nan\n",
      "delta: 1, p: 0.14493647182589126\n"
     ]
    },
    {
     "name": "stderr",
     "output_type": "stream",
     "text": [
      "C:\\Users\\jeff1\\Anaconda3\\lib\\site-packages\\statsmodels\\tsa\\base\\tsa_model.py:221: ValueWarning: An unsupported index was provided and will be ignored when e.g. forecasting.\n",
      "  ' ignored when e.g. forecasting.', ValueWarning)\n"
     ]
    },
    {
     "name": "stdout",
     "output_type": "stream",
     "text": [
      "delta: 2, p: 0.18607135525968027\n",
      "delta: 3, p: 0.36036750615237934\n",
      "delta: 4, p: 0.21223483453670633\n",
      "delta: 5, p: 0.21689924175890846\n",
      "delta: 6, p: 0.12217103252615441\n",
      "delta: 7, p: 0.0024272708985671413\n"
     ]
    },
    {
     "name": "stderr",
     "output_type": "stream",
     "text": [
      "C:\\Users\\jeff1\\Anaconda3\\lib\\site-packages\\statsmodels\\tsa\\base\\tsa_model.py:221: ValueWarning: An unsupported index was provided and will be ignored when e.g. forecasting.\n",
      "  ' ignored when e.g. forecasting.', ValueWarning)\n",
      "C:\\Users\\jeff1\\Anaconda3\\lib\\site-packages\\statsmodels\\base\\model.py:488: HessianInversionWarning: Inverting hessian failed, no bse or cov_params available\n",
      "  'available', HessianInversionWarning)\n",
      "C:\\Users\\jeff1\\Anaconda3\\lib\\site-packages\\statsmodels\\tsa\\base\\tsa_model.py:221: ValueWarning: An unsupported index was provided and will be ignored when e.g. forecasting.\n",
      "  ' ignored when e.g. forecasting.', ValueWarning)\n"
     ]
    },
    {
     "name": "stdout",
     "output_type": "stream",
     "text": [
      "predictions: [array([621302.33251543])]\n",
      "delta: 0, p: nan\n",
      "delta: 1, p: 0.8777534244784755\n",
      "delta: 2, p: 0.9435657229173926\n",
      "delta: 3, p: 0.9705545571460202\n",
      "delta: 4, p: 0.9741793547114281\n",
      "delta: 5, p: 3.405889263380933e-12\n"
     ]
    },
    {
     "name": "stderr",
     "output_type": "stream",
     "text": [
      "C:\\Users\\jeff1\\Anaconda3\\lib\\site-packages\\statsmodels\\base\\model.py:488: HessianInversionWarning: Inverting hessian failed, no bse or cov_params available\n",
      "  'available', HessianInversionWarning)\n"
     ]
    },
    {
     "name": "stdout",
     "output_type": "stream",
     "text": [
      "predictions: [array([621302.33251543]), array([154497.6340552])]\n",
      "delta: 0, p: nan\n",
      "delta: 1, p: 0.9117565663792522\n",
      "delta: 2, p: 0.5470682516592505\n",
      "delta: 3, p: 0.8639948412668389\n",
      "delta: 4, p: 0.9516216315019603\n",
      "delta: 5, p: 6.953131411879494e-15\n"
     ]
    },
    {
     "name": "stderr",
     "output_type": "stream",
     "text": [
      "C:\\Users\\jeff1\\Anaconda3\\lib\\site-packages\\statsmodels\\tsa\\base\\tsa_model.py:221: ValueWarning: An unsupported index was provided and will be ignored when e.g. forecasting.\n",
      "  ' ignored when e.g. forecasting.', ValueWarning)\n",
      "C:\\Users\\jeff1\\Anaconda3\\lib\\site-packages\\statsmodels\\base\\model.py:488: HessianInversionWarning: Inverting hessian failed, no bse or cov_params available\n",
      "  'available', HessianInversionWarning)\n"
     ]
    },
    {
     "name": "stdout",
     "output_type": "stream",
     "text": [
      "predictions: [array([621302.33251543]), array([154497.6340552]), array([142211.53469531])]\n",
      "delta: 0, p: nan\n",
      "delta: 1, p: 0.9366989480848744\n",
      "delta: 2, p: 2.4098156046474993e-14\n"
     ]
    },
    {
     "name": "stderr",
     "output_type": "stream",
     "text": [
      "C:\\Users\\jeff1\\Anaconda3\\lib\\site-packages\\statsmodels\\tsa\\base\\tsa_model.py:221: ValueWarning: An unsupported index was provided and will be ignored when e.g. forecasting.\n",
      "  ' ignored when e.g. forecasting.', ValueWarning)\n"
     ]
    },
    {
     "name": "stdout",
     "output_type": "stream",
     "text": [
      "bad condition 2: stationarity not adequate\n",
      "delta: 3, p: 0.9410436085143298\n",
      "delta: 4, p: 0.0002611340606788\n"
     ]
    },
    {
     "name": "stderr",
     "output_type": "stream",
     "text": [
      "C:\\Users\\jeff1\\Anaconda3\\lib\\site-packages\\statsmodels\\tsa\\base\\tsa_model.py:221: ValueWarning: An unsupported index was provided and will be ignored when e.g. forecasting.\n",
      "  ' ignored when e.g. forecasting.', ValueWarning)\n"
     ]
    },
    {
     "name": "stdout",
     "output_type": "stream",
     "text": [
      "predictions: [array([621302.33251543]), array([154497.6340552]), array([142211.53469531]), array([437945.72329049])]\n",
      "delta: 0, p: nan\n",
      "delta: 1, p: 0.9677255461900527\n",
      "delta: 2, p: 7.375880680166183e-08\n"
     ]
    },
    {
     "name": "stderr",
     "output_type": "stream",
     "text": [
      "C:\\Users\\jeff1\\Anaconda3\\lib\\site-packages\\statsmodels\\tsa\\base\\tsa_model.py:221: ValueWarning: An unsupported index was provided and will be ignored when e.g. forecasting.\n",
      "  ' ignored when e.g. forecasting.', ValueWarning)\n"
     ]
    },
    {
     "name": "stdout",
     "output_type": "stream",
     "text": [
      "predictions: [array([621302.33251543]), array([154497.6340552]), array([142211.53469531]), array([437945.72329049]), array([251774.18689507])]\n",
      "delta: 0, p: nan\n",
      "delta: 1, p: 0.7970398861123936\n",
      "delta: 2, p: 0.9365180347020521\n",
      "delta: 3, p: 0.9211496802596124\n",
      "delta: 4, p: 0.952010949213626\n",
      "delta: 5, p: 0.008188590284195933\n"
     ]
    },
    {
     "name": "stderr",
     "output_type": "stream",
     "text": [
      "C:\\Users\\jeff1\\Anaconda3\\lib\\site-packages\\statsmodels\\tsa\\base\\tsa_model.py:221: ValueWarning: An unsupported index was provided and will be ignored when e.g. forecasting.\n",
      "  ' ignored when e.g. forecasting.', ValueWarning)\n"
     ]
    },
    {
     "name": "stdout",
     "output_type": "stream",
     "text": [
      "predictions: [array([621302.33251543]), array([154497.6340552]), array([142211.53469531]), array([437945.72329049]), array([251774.18689507]), array([183626.94119187])]\n",
      "delta: 0, p: nan\n",
      "delta: 1, p: 0.6878608605113581\n",
      "delta: 2, p: 0.8638557107806886\n",
      "delta: 3, p: 0.00010122228181552145\n"
     ]
    },
    {
     "name": "stderr",
     "output_type": "stream",
     "text": [
      "C:\\Users\\jeff1\\Anaconda3\\lib\\site-packages\\statsmodels\\tsa\\base\\tsa_model.py:221: ValueWarning: An unsupported index was provided and will be ignored when e.g. forecasting.\n",
      "  ' ignored when e.g. forecasting.', ValueWarning)\n"
     ]
    },
    {
     "name": "stdout",
     "output_type": "stream",
     "text": [
      "predictions: [array([621302.33251543]), array([154497.6340552]), array([142211.53469531]), array([437945.72329049]), array([251774.18689507]), array([183626.94119187]), array([212383.59344282])]\n",
      "delta: 0, p: nan\n",
      "delta: 1, p: 0.3562714866037703\n",
      "delta: 2, p: 0.23496968065719614\n",
      "delta: 3, p: 0.1856393732800693\n",
      "delta: 4, p: 0.19765974476251724\n",
      "delta: 5, p: 0.16704624820748148\n",
      "delta: 6, p: 0.1856515836796565\n",
      "delta: 7, p: 0.0185981475615764\n"
     ]
    },
    {
     "name": "stderr",
     "output_type": "stream",
     "text": [
      "C:\\Users\\jeff1\\Anaconda3\\lib\\site-packages\\statsmodels\\tsa\\base\\tsa_model.py:221: ValueWarning: An unsupported index was provided and will be ignored when e.g. forecasting.\n",
      "  ' ignored when e.g. forecasting.', ValueWarning)\n"
     ]
    },
    {
     "name": "stdout",
     "output_type": "stream",
     "text": [
      "predictions: [array([372466.90807259])]\n",
      "delta: 0, p: nan\n",
      "delta: 1, p: 0.7099084393929516\n",
      "delta: 2, p: 0.7492759350422165\n",
      "delta: 3, p: 0.6174462401953744\n",
      "delta: 4, p: 0.6416334020526459\n",
      "delta: 5, p: 0.8074021578717774\n",
      "delta: 6, p: 0.0\n"
     ]
    },
    {
     "name": "stderr",
     "output_type": "stream",
     "text": [
      "C:\\Users\\jeff1\\Anaconda3\\lib\\site-packages\\statsmodels\\tsa\\base\\tsa_model.py:221: ValueWarning: An unsupported index was provided and will be ignored when e.g. forecasting.\n",
      "  ' ignored when e.g. forecasting.', ValueWarning)\n"
     ]
    },
    {
     "name": "stdout",
     "output_type": "stream",
     "text": [
      "predictions: [array([372466.90807259]), array([391852.60424788])]\n",
      "delta: 0, p: nan\n",
      "delta: 1, p: 0.17200483297648567\n",
      "delta: 2, p: 0.003173410773337265\n"
     ]
    },
    {
     "name": "stderr",
     "output_type": "stream",
     "text": [
      "C:\\Users\\jeff1\\Anaconda3\\lib\\site-packages\\statsmodels\\tsa\\base\\tsa_model.py:221: ValueWarning: An unsupported index was provided and will be ignored when e.g. forecasting.\n",
      "  ' ignored when e.g. forecasting.', ValueWarning)\n"
     ]
    },
    {
     "name": "stdout",
     "output_type": "stream",
     "text": [
      "predictions: [array([372466.90807259]), array([391852.60424788]), array([406776.26900398])]\n",
      "delta: 0, p: nan\n",
      "delta: 1, p: 0.0972965961395531\n",
      "delta: 2, p: 0.1034737537287691\n",
      "delta: 3, p: 0.4465389114130779\n",
      "delta: 4, p: 0.2937006269303719\n",
      "delta: 5, p: 0.3747422008857061\n",
      "delta: 6, p: 0.779052801463306\n",
      "delta: 7, p: 0.2601521056975999\n",
      "delta: 8, p: 0.8233194814867727\n",
      "delta: 9, p: 0.8496740869490695\n",
      "delta: 0, p: nan\n",
      "bad condition 0: stationarity not adequate\n",
      "delta: 1, p: 0.0972965961395531\n"
     ]
    },
    {
     "name": "stderr",
     "output_type": "stream",
     "text": [
      "C:\\Users\\jeff1\\Anaconda3\\lib\\site-packages\\statsmodels\\tsa\\base\\tsa_model.py:221: ValueWarning: An unsupported index was provided and will be ignored when e.g. forecasting.\n",
      "  ' ignored when e.g. forecasting.', ValueWarning)\n",
      "C:\\Users\\jeff1\\Anaconda3\\lib\\site-packages\\statsmodels\\tsa\\base\\tsa_model.py:221: ValueWarning: An unsupported index was provided and will be ignored when e.g. forecasting.\n",
      "  ' ignored when e.g. forecasting.', ValueWarning)\n"
     ]
    },
    {
     "name": "stdout",
     "output_type": "stream",
     "text": [
      "predictions: [array([372466.90807259]), array([391852.60424788]), array([406776.26900398]), array([395312.71008764])]\n",
      "delta: 0, p: nan\n",
      "delta: 1, p: 0.23230084389895195\n",
      "delta: 2, p: 0.43314863548391186\n",
      "delta: 3, p: 0.4832425053162174\n",
      "delta: 4, p: 0.19313868393434092\n",
      "delta: 5, p: 0.44860903534773433\n",
      "delta: 6, p: 0.37022662247345983\n",
      "delta: 7, p: 0.31178392670992683\n",
      "delta: 8, p: 0.33898922934639764\n",
      "delta: 9, p: 0.8562076794176663\n",
      "delta: 0, p: nan\n",
      "bad condition 0: stationarity not adequate\n",
      "delta: 1, p: 0.23230084389895195\n"
     ]
    },
    {
     "name": "stderr",
     "output_type": "stream",
     "text": [
      "C:\\Users\\jeff1\\Anaconda3\\lib\\site-packages\\statsmodels\\tsa\\base\\tsa_model.py:221: ValueWarning: An unsupported index was provided and will be ignored when e.g. forecasting.\n",
      "  ' ignored when e.g. forecasting.', ValueWarning)\n",
      "C:\\Users\\jeff1\\Anaconda3\\lib\\site-packages\\statsmodels\\tsa\\base\\tsa_model.py:221: ValueWarning: An unsupported index was provided and will be ignored when e.g. forecasting.\n",
      "  ' ignored when e.g. forecasting.', ValueWarning)\n"
     ]
    },
    {
     "name": "stdout",
     "output_type": "stream",
     "text": [
      "predictions: [array([372466.90807259]), array([391852.60424788]), array([406776.26900398]), array([395312.71008764]), array([403070.90460523])]\n",
      "delta: 0, p: nan\n",
      "delta: 1, p: 0.20784224280802943\n",
      "delta: 2, p: 0.5509818780199983\n",
      "delta: 3, p: 0.3701816124210531\n",
      "delta: 4, p: 0.47475177497309534\n",
      "delta: 5, p: 0.40359661553797294\n",
      "delta: 6, p: 0.10569497252860455\n",
      "delta: 7, p: 0.3502457269368273\n",
      "delta: 8, p: 0.3228109269879249\n",
      "delta: 9, p: 0.849863649247236\n",
      "delta: 0, p: nan\n",
      "bad condition 0: stationarity not adequate\n",
      "delta: 1, p: 0.20784224280802943\n"
     ]
    },
    {
     "name": "stderr",
     "output_type": "stream",
     "text": [
      "C:\\Users\\jeff1\\Anaconda3\\lib\\site-packages\\statsmodels\\tsa\\base\\tsa_model.py:221: ValueWarning: An unsupported index was provided and will be ignored when e.g. forecasting.\n",
      "  ' ignored when e.g. forecasting.', ValueWarning)\n",
      "C:\\Users\\jeff1\\Anaconda3\\lib\\site-packages\\statsmodels\\tsa\\base\\tsa_model.py:221: ValueWarning: An unsupported index was provided and will be ignored when e.g. forecasting.\n",
      "  ' ignored when e.g. forecasting.', ValueWarning)\n"
     ]
    },
    {
     "name": "stdout",
     "output_type": "stream",
     "text": [
      "predictions: [array([372466.90807259]), array([391852.60424788]), array([406776.26900398]), array([395312.71008764]), array([403070.90460523]), array([407914.9316924])]\n",
      "delta: 0, p: nan\n",
      "delta: 1, p: 0.18380659723969123\n",
      "delta: 2, p: 0.2630916980104828\n",
      "delta: 3, p: 0.4765585962063385\n",
      "delta: 4, p: 0.07877755317717527\n",
      "delta: 5, p: 0.15044423806556106\n",
      "delta: 6, p: 0.4000823092153859\n",
      "delta: 7, p: 0.3546743916362232\n",
      "delta: 8, p: 0.388181073130188\n",
      "delta: 9, p: 0.8525988168565195\n",
      "delta: 0, p: nan\n",
      "bad condition 0: stationarity not adequate\n",
      "delta: 1, p: 0.18380659723969123\n"
     ]
    },
    {
     "name": "stderr",
     "output_type": "stream",
     "text": [
      "C:\\Users\\jeff1\\Anaconda3\\lib\\site-packages\\statsmodels\\tsa\\base\\tsa_model.py:221: ValueWarning: An unsupported index was provided and will be ignored when e.g. forecasting.\n",
      "  ' ignored when e.g. forecasting.', ValueWarning)\n",
      "C:\\Users\\jeff1\\Anaconda3\\lib\\site-packages\\statsmodels\\tsa\\base\\tsa_model.py:221: ValueWarning: An unsupported index was provided and will be ignored when e.g. forecasting.\n",
      "  ' ignored when e.g. forecasting.', ValueWarning)\n"
     ]
    },
    {
     "name": "stdout",
     "output_type": "stream",
     "text": [
      "predictions: [array([372466.90807259]), array([391852.60424788]), array([406776.26900398]), array([395312.71008764]), array([403070.90460523]), array([407914.9316924]), array([403987.28283181])]\n",
      "delta: 0, p: nan\n",
      "delta: 1, p: 0.5541631114640654\n",
      "delta: 2, p: 0.6170441466796867\n",
      "delta: 3, p: 0.3034438843743097\n",
      "delta: 4, p: 0.412126116769874\n",
      "delta: 5, p: 0.04555809041363313\n"
     ]
    },
    {
     "name": "stderr",
     "output_type": "stream",
     "text": [
      "C:\\Users\\jeff1\\Anaconda3\\lib\\site-packages\\statsmodels\\tsa\\base\\tsa_model.py:221: ValueWarning: An unsupported index was provided and will be ignored when e.g. forecasting.\n",
      "  ' ignored when e.g. forecasting.', ValueWarning)\n"
     ]
    },
    {
     "name": "stdout",
     "output_type": "stream",
     "text": [
      "predictions: [array([334871.33217763])]\n",
      "delta: 0, p: nan\n",
      "delta: 1, p: 0.9968114111862149\n",
      "delta: 2, p: 0.9980021863094778\n",
      "delta: 3, p: 0.9888946735598331\n",
      "delta: 4, p: 0.988828238754144\n",
      "delta: 5, p: 0.9737804432006042\n",
      "delta: 6, p: 0.8600417218410351\n",
      "delta: 7, p: 0.0\n"
     ]
    },
    {
     "name": "stderr",
     "output_type": "stream",
     "text": [
      "C:\\Users\\jeff1\\Anaconda3\\lib\\site-packages\\statsmodels\\tsa\\base\\tsa_model.py:221: ValueWarning: An unsupported index was provided and will be ignored when e.g. forecasting.\n",
      "  ' ignored when e.g. forecasting.', ValueWarning)\n"
     ]
    },
    {
     "name": "stdout",
     "output_type": "stream",
     "text": [
      "predictions: [array([334871.33217763]), array([381023.83101107])]\n",
      "delta: 0, p: nan\n",
      "delta: 1, p: 0.9919056837071392\n",
      "delta: 2, p: 0.9867410586422917\n",
      "delta: 3, p: 0.9184111304005331\n",
      "delta: 4, p: 0.9286352695492085\n",
      "delta: 5, p: 0.9891966829607881\n",
      "delta: 6, p: 0.5587719997667626\n",
      "delta: 7, p: 0.0\n"
     ]
    },
    {
     "name": "stderr",
     "output_type": "stream",
     "text": [
      "C:\\Users\\jeff1\\Anaconda3\\lib\\site-packages\\statsmodels\\tsa\\base\\tsa_model.py:221: ValueWarning: An unsupported index was provided and will be ignored when e.g. forecasting.\n",
      "  ' ignored when e.g. forecasting.', ValueWarning)\n"
     ]
    },
    {
     "name": "stdout",
     "output_type": "stream",
     "text": [
      "predictions: [array([334871.33217763]), array([381023.83101107]), array([382935.58426586])]\n",
      "delta: 0, p: nan\n",
      "delta: 1, p: 0.9596044575888826\n",
      "delta: 2, p: 0.9770371563338434\n",
      "delta: 3, p: 0.8095156043476613\n",
      "delta: 4, p: 0.7893462220169586\n",
      "delta: 5, p: 0.9299600345610889\n",
      "delta: 6, p: 0.48080644384892884\n",
      "delta: 7, p: 2.030145778657107e-30\n"
     ]
    },
    {
     "name": "stderr",
     "output_type": "stream",
     "text": [
      "C:\\Users\\jeff1\\Anaconda3\\lib\\site-packages\\statsmodels\\tsa\\base\\tsa_model.py:221: ValueWarning: An unsupported index was provided and will be ignored when e.g. forecasting.\n",
      "  ' ignored when e.g. forecasting.', ValueWarning)\n"
     ]
    },
    {
     "name": "stdout",
     "output_type": "stream",
     "text": [
      "predictions: [array([334871.33217763]), array([381023.83101107]), array([382935.58426586]), array([386088.82424416])]\n",
      "delta: 0, p: nan\n",
      "delta: 1, p: 0.9371025164595977\n",
      "delta: 2, p: 0.9664884304520829\n",
      "delta: 3, p: 0.7225693671266209\n",
      "delta: 4, p: 0.7399583052141485\n",
      "delta: 5, p: 0.9361645142762233\n",
      "delta: 6, p: 0.589808187541457\n",
      "delta: 7, p: 2.372584641777879e-30\n"
     ]
    },
    {
     "name": "stderr",
     "output_type": "stream",
     "text": [
      "C:\\Users\\jeff1\\Anaconda3\\lib\\site-packages\\statsmodels\\tsa\\base\\tsa_model.py:221: ValueWarning: An unsupported index was provided and will be ignored when e.g. forecasting.\n",
      "  ' ignored when e.g. forecasting.', ValueWarning)\n"
     ]
    },
    {
     "name": "stdout",
     "output_type": "stream",
     "text": [
      "predictions: [array([334871.33217763]), array([381023.83101107]), array([382935.58426586]), array([386088.82424416]), array([388995.65759532])]\n",
      "delta: 0, p: nan\n",
      "delta: 1, p: 0.9283821158581128\n",
      "delta: 2, p: 0.9567348589404876\n",
      "delta: 3, p: 0.6342637678152883\n",
      "delta: 4, p: 0.7339281785641533\n",
      "delta: 5, p: 0.9417656689699342\n",
      "delta: 6, p: 0.5930487898233929\n",
      "delta: 7, p: 0.9686909676830721\n",
      "delta: 8, p: 1.0850754351959475e-09\n"
     ]
    },
    {
     "name": "stderr",
     "output_type": "stream",
     "text": [
      "C:\\Users\\jeff1\\Anaconda3\\lib\\site-packages\\statsmodels\\tsa\\base\\tsa_model.py:221: ValueWarning: An unsupported index was provided and will be ignored when e.g. forecasting.\n",
      "  ' ignored when e.g. forecasting.', ValueWarning)\n"
     ]
    },
    {
     "name": "stdout",
     "output_type": "stream",
     "text": [
      "predictions: [array([334871.33217763]), array([381023.83101107]), array([382935.58426586]), array([386088.82424416]), array([388995.65759532]), array([396984.17550176])]\n",
      "delta: 0, p: nan\n",
      "delta: 1, p: 0.8537462509265865\n",
      "delta: 2, p: 0.7945132112595483\n",
      "delta: 3, p: 0.6094971423321901\n",
      "delta: 4, p: 0.3712171648405875\n",
      "delta: 5, p: 0.880503963892181\n",
      "delta: 6, p: 0.7541028698148998\n",
      "delta: 7, p: 0.9636789877760134\n",
      "delta: 8, p: 1.6891714584770343e-09\n"
     ]
    },
    {
     "name": "stderr",
     "output_type": "stream",
     "text": [
      "C:\\Users\\jeff1\\Anaconda3\\lib\\site-packages\\statsmodels\\tsa\\base\\tsa_model.py:221: ValueWarning: An unsupported index was provided and will be ignored when e.g. forecasting.\n",
      "  ' ignored when e.g. forecasting.', ValueWarning)\n"
     ]
    },
    {
     "name": "stdout",
     "output_type": "stream",
     "text": [
      "predictions: [array([334871.33217763]), array([381023.83101107]), array([382935.58426586]), array([386088.82424416]), array([388995.65759532]), array([396984.17550176]), array([399564.48722484])]\n",
      "delta: 0, p: nan\n",
      "delta: 1, p: 0.46942490631943795\n",
      "delta: 2, p: 0.5257276278920578\n",
      "delta: 3, p: 0.627042266814013\n",
      "delta: 4, p: 0.6224529150967217\n",
      "delta: 5, p: 0.5613810337634088\n",
      "delta: 6, p: 0.41514201662519706\n",
      "delta: 7, p: 0.111484323351276\n",
      "delta: 8, p: 0.040711774254906775\n"
     ]
    },
    {
     "name": "stderr",
     "output_type": "stream",
     "text": [
      "C:\\Users\\jeff1\\Anaconda3\\lib\\site-packages\\statsmodels\\tsa\\base\\tsa_model.py:221: ValueWarning: An unsupported index was provided and will be ignored when e.g. forecasting.\n",
      "  ' ignored when e.g. forecasting.', ValueWarning)\n"
     ]
    },
    {
     "name": "stdout",
     "output_type": "stream",
     "text": [
      "predictions: [array([314788.40000249])]\n",
      "delta: 0, p: nan\n",
      "delta: 1, p: 0.9718256786207952\n",
      "delta: 2, p: 0.9799119011455889\n",
      "delta: 3, p: 0.992317306300442\n",
      "delta: 4, p: 0.963724797169702\n",
      "delta: 5, p: 2.314660735331697e-17\n"
     ]
    },
    {
     "name": "stderr",
     "output_type": "stream",
     "text": [
      "C:\\Users\\jeff1\\Anaconda3\\lib\\site-packages\\statsmodels\\tsa\\base\\tsa_model.py:221: ValueWarning: An unsupported index was provided and will be ignored when e.g. forecasting.\n",
      "  ' ignored when e.g. forecasting.', ValueWarning)\n",
      "C:\\Users\\jeff1\\Anaconda3\\lib\\site-packages\\statsmodels\\base\\model.py:488: HessianInversionWarning: Inverting hessian failed, no bse or cov_params available\n",
      "  'available', HessianInversionWarning)\n"
     ]
    },
    {
     "name": "stdout",
     "output_type": "stream",
     "text": [
      "predictions: [array([314788.40000249]), array([371745.43841488])]\n",
      "delta: 0, p: nan\n",
      "delta: 1, p: 0.989767404935438\n",
      "delta: 2, p: 0.9782448005295333\n",
      "delta: 3, p: 0.9920414894957734\n",
      "delta: 4, p: 0.9460783852505156\n",
      "delta: 5, p: 0.9125880154154146\n",
      "delta: 6, p: 0.9029974766648019\n",
      "delta: 7, p: 0.9621538576933988\n",
      "delta: 8, p: 3.1473911763349897e-30\n"
     ]
    },
    {
     "name": "stderr",
     "output_type": "stream",
     "text": [
      "C:\\Users\\jeff1\\Anaconda3\\lib\\site-packages\\statsmodels\\tsa\\base\\tsa_model.py:221: ValueWarning: An unsupported index was provided and will be ignored when e.g. forecasting.\n",
      "  ' ignored when e.g. forecasting.', ValueWarning)\n"
     ]
    },
    {
     "name": "stdout",
     "output_type": "stream",
     "text": [
      "predictions: [array([314788.40000249]), array([371745.43841488]), array([372115.03497601])]\n",
      "delta: 0, p: nan\n",
      "delta: 1, p: 0.5420422884317058\n",
      "delta: 2, p: 0.925627609195286\n",
      "delta: 3, p: 8.405513355570966e-25\n"
     ]
    },
    {
     "name": "stderr",
     "output_type": "stream",
     "text": [
      "C:\\Users\\jeff1\\Anaconda3\\lib\\site-packages\\statsmodels\\tsa\\base\\tsa_model.py:221: ValueWarning: An unsupported index was provided and will be ignored when e.g. forecasting.\n",
      "  ' ignored when e.g. forecasting.', ValueWarning)\n"
     ]
    },
    {
     "name": "stdout",
     "output_type": "stream",
     "text": [
      "predictions: [array([314788.40000249]), array([371745.43841488]), array([372115.03497601]), array([450835.80828338])]\n",
      "delta: 0, p: nan\n",
      "delta: 1, p: 0.6255263203998994\n",
      "delta: 2, p: 0.9212759384166791\n",
      "delta: 3, p: 0.9810985599510974\n",
      "delta: 4, p: 0.8405308026183942\n",
      "delta: 5, p: 0.9567974215433364\n",
      "delta: 6, p: 0.9096449225118729\n",
      "delta: 7, p: 0.9725364208489514\n",
      "delta: 8, p: 6.175922467274177e-05\n"
     ]
    },
    {
     "name": "stderr",
     "output_type": "stream",
     "text": [
      "C:\\Users\\jeff1\\Anaconda3\\lib\\site-packages\\statsmodels\\tsa\\base\\tsa_model.py:221: ValueWarning: An unsupported index was provided and will be ignored when e.g. forecasting.\n",
      "  ' ignored when e.g. forecasting.', ValueWarning)\n"
     ]
    },
    {
     "name": "stdout",
     "output_type": "stream",
     "text": [
      "predictions: [array([314788.40000249]), array([371745.43841488]), array([372115.03497601]), array([450835.80828338]), array([380083.29070822])]\n",
      "delta: 0, p: nan\n",
      "delta: 1, p: 0.8289030867515758\n",
      "delta: 2, p: 0.9182094525502398\n",
      "delta: 3, p: 0.9791717405901548\n",
      "delta: 4, p: 0.6884434486616094\n",
      "delta: 5, p: 0.9597930420719696\n",
      "delta: 6, p: 0.9097821294091585\n",
      "delta: 7, p: 0.9725783140148473\n",
      "delta: 8, p: 0.00014756986267445705\n"
     ]
    },
    {
     "name": "stderr",
     "output_type": "stream",
     "text": [
      "C:\\Users\\jeff1\\Anaconda3\\lib\\site-packages\\statsmodels\\tsa\\base\\tsa_model.py:221: ValueWarning: An unsupported index was provided and will be ignored when e.g. forecasting.\n",
      "  ' ignored when e.g. forecasting.', ValueWarning)\n"
     ]
    },
    {
     "name": "stdout",
     "output_type": "stream",
     "text": [
      "predictions: [array([314788.40000249]), array([371745.43841488]), array([372115.03497601]), array([450835.80828338]), array([380083.29070822]), array([393531.78781581])]\n",
      "delta: 0, p: nan\n",
      "delta: 1, p: 3.50653155198678e-16\n"
     ]
    },
    {
     "name": "stderr",
     "output_type": "stream",
     "text": [
      "C:\\Users\\jeff1\\Anaconda3\\lib\\site-packages\\statsmodels\\tsa\\base\\tsa_model.py:221: ValueWarning: An unsupported index was provided and will be ignored when e.g. forecasting.\n",
      "  ' ignored when e.g. forecasting.', ValueWarning)\n"
     ]
    },
    {
     "name": "stdout",
     "output_type": "stream",
     "text": [
      "predictions: [array([314788.40000249]), array([371745.43841488]), array([372115.03497601]), array([450835.80828338]), array([380083.29070822]), array([393531.78781581]), array([403732.87100663])]\n",
      "delta: 0, p: nan\n",
      "delta: 1, p: 0.00017263818588465546\n",
      "predictions: [array([1988614.29291713])]\n"
     ]
    },
    {
     "name": "stderr",
     "output_type": "stream",
     "text": [
      "C:\\Users\\jeff1\\Anaconda3\\lib\\site-packages\\statsmodels\\tsa\\base\\tsa_model.py:221: ValueWarning: An unsupported index was provided and will be ignored when e.g. forecasting.\n",
      "  ' ignored when e.g. forecasting.', ValueWarning)\n"
     ]
    },
    {
     "name": "stdout",
     "output_type": "stream",
     "text": [
      "delta: 0, p: nan\n",
      "delta: 1, p: 0.07599404116567483\n",
      "delta: 2, p: 0.07072074039410611\n",
      "delta: 3, p: 0.07855759721547886\n",
      "delta: 4, p: 0.14209469528712232\n",
      "delta: 5, p: 0.11462263261676203\n",
      "delta: 6, p: 0.30682496498438705\n",
      "delta: 7, p: 0.11957910355656981\n",
      "delta: 8, p: 0.04846593393576293\n"
     ]
    },
    {
     "name": "stderr",
     "output_type": "stream",
     "text": [
      "C:\\Users\\jeff1\\Anaconda3\\lib\\site-packages\\statsmodels\\tsa\\base\\tsa_model.py:221: ValueWarning: An unsupported index was provided and will be ignored when e.g. forecasting.\n",
      "  ' ignored when e.g. forecasting.', ValueWarning)\n"
     ]
    },
    {
     "name": "stdout",
     "output_type": "stream",
     "text": [
      "predictions: [array([1988614.29291713]), array([443304.9401194])]\n",
      "delta: 0, p: nan\n",
      "delta: 1, p: 0.5153588150756756\n",
      "delta: 2, p: 0.5170737496222272\n",
      "delta: 3, p: 0.5744956682260142\n",
      "delta: 4, p: 0.24007295735740758\n",
      "delta: 5, p: 0.732323699707226\n",
      "delta: 6, p: 3.582011455849136e-08\n"
     ]
    },
    {
     "name": "stderr",
     "output_type": "stream",
     "text": [
      "C:\\Users\\jeff1\\Anaconda3\\lib\\site-packages\\statsmodels\\tsa\\base\\tsa_model.py:221: ValueWarning: An unsupported index was provided and will be ignored when e.g. forecasting.\n",
      "  ' ignored when e.g. forecasting.', ValueWarning)\n"
     ]
    },
    {
     "name": "stdout",
     "output_type": "stream",
     "text": [
      "predictions: [array([1988614.29291713]), array([443304.9401194]), array([243533.30514969])]\n",
      "delta: 0, p: nan\n",
      "delta: 1, p: 0.386814442018132\n",
      "delta: 2, p: 0.3702785521154488\n",
      "delta: 3, p: 0.5881432689144448\n",
      "delta: 4, p: 0.4453557521312504\n",
      "delta: 5, p: 0.2936043163965756\n",
      "delta: 6, p: 1.7397899471350855e-08\n"
     ]
    },
    {
     "name": "stderr",
     "output_type": "stream",
     "text": [
      "C:\\Users\\jeff1\\Anaconda3\\lib\\site-packages\\statsmodels\\tsa\\base\\tsa_model.py:221: ValueWarning: An unsupported index was provided and will be ignored when e.g. forecasting.\n",
      "  ' ignored when e.g. forecasting.', ValueWarning)\n"
     ]
    },
    {
     "name": "stdout",
     "output_type": "stream",
     "text": [
      "predictions: [array([1988614.29291713]), array([443304.9401194]), array([243533.30514969]), array([-781661.89845119])]\n",
      "delta: 0, p: nan\n",
      "delta: 1, p: 1.5039279324002604e-29\n"
     ]
    },
    {
     "name": "stderr",
     "output_type": "stream",
     "text": [
      "C:\\Users\\jeff1\\Anaconda3\\lib\\site-packages\\statsmodels\\tsa\\base\\tsa_model.py:221: ValueWarning: An unsupported index was provided and will be ignored when e.g. forecasting.\n",
      "  ' ignored when e.g. forecasting.', ValueWarning)\n"
     ]
    },
    {
     "name": "stdout",
     "output_type": "stream",
     "text": [
      "predictions: [array([1988614.29291713]), array([443304.9401194]), array([243533.30514969]), array([-781661.89845119]), array([378165.47885017])]\n",
      "delta: 0, p: nan\n",
      "delta: 1, p: 1.4170049225448513e-29\n"
     ]
    },
    {
     "name": "stderr",
     "output_type": "stream",
     "text": [
      "C:\\Users\\jeff1\\Anaconda3\\lib\\site-packages\\statsmodels\\tsa\\base\\tsa_model.py:221: ValueWarning: An unsupported index was provided and will be ignored when e.g. forecasting.\n",
      "  ' ignored when e.g. forecasting.', ValueWarning)\n"
     ]
    },
    {
     "name": "stdout",
     "output_type": "stream",
     "text": [
      "predictions: [array([1988614.29291713]), array([443304.9401194]), array([243533.30514969]), array([-781661.89845119]), array([378165.47885017]), array([605007.46885659])]\n",
      "delta: 0, p: nan\n",
      "delta: 1, p: 1.336409709912485e-29\n",
      "predictions: [array([1988614.29291713]), array([443304.9401194]), array([243533.30514969]), array([-781661.89845119]), array([378165.47885017]), array([605007.46885659]), array([402857.36119619])]\n",
      "delta: 0, p: nan\n"
     ]
    },
    {
     "name": "stderr",
     "output_type": "stream",
     "text": [
      "C:\\Users\\jeff1\\Anaconda3\\lib\\site-packages\\statsmodels\\tsa\\base\\tsa_model.py:221: ValueWarning: An unsupported index was provided and will be ignored when e.g. forecasting.\n",
      "  ' ignored when e.g. forecasting.', ValueWarning)\n"
     ]
    },
    {
     "name": "stdout",
     "output_type": "stream",
     "text": [
      "delta: 1, p: 0.3332824578136045\n",
      "delta: 2, p: 0.17820996022038227\n",
      "delta: 3, p: 0.16651015592076335\n",
      "delta: 4, p: 0.13727746578160377\n",
      "delta: 5, p: 0.2028250674679022\n",
      "delta: 6, p: 0.1270462720574303\n",
      "delta: 7, p: 0.0672717027731216\n",
      "delta: 8, p: 0.004472606753347932\n"
     ]
    },
    {
     "name": "stderr",
     "output_type": "stream",
     "text": [
      "C:\\Users\\jeff1\\Anaconda3\\lib\\site-packages\\statsmodels\\tsa\\base\\tsa_model.py:221: ValueWarning: An unsupported index was provided and will be ignored when e.g. forecasting.\n",
      "  ' ignored when e.g. forecasting.', ValueWarning)\n"
     ]
    },
    {
     "name": "stdout",
     "output_type": "stream",
     "text": [
      "predictions: [array([572136.34612876])]\n",
      "delta: 0, p: nan\n",
      "delta: 1, p: 0.40513508605623016\n",
      "delta: 2, p: 0.5319485978501672\n",
      "delta: 3, p: 0.5634284402879043\n",
      "delta: 4, p: 0.41242178084100206\n",
      "delta: 5, p: 0.6483480925412937\n",
      "delta: 6, p: 0.6406763443182173\n",
      "delta: 7, p: 0.6095858399274168\n",
      "delta: 8, p: 5.335452443982612e-09\n"
     ]
    },
    {
     "name": "stderr",
     "output_type": "stream",
     "text": [
      "C:\\Users\\jeff1\\Anaconda3\\lib\\site-packages\\statsmodels\\tsa\\base\\tsa_model.py:221: ValueWarning: An unsupported index was provided and will be ignored when e.g. forecasting.\n",
      "  ' ignored when e.g. forecasting.', ValueWarning)\n",
      "C:\\Users\\jeff1\\Anaconda3\\lib\\site-packages\\statsmodels\\base\\model.py:488: HessianInversionWarning: Inverting hessian failed, no bse or cov_params available\n",
      "  'available', HessianInversionWarning)\n",
      "C:\\Users\\jeff1\\Anaconda3\\lib\\site-packages\\statsmodels\\tsa\\base\\tsa_model.py:221: ValueWarning: An unsupported index was provided and will be ignored when e.g. forecasting.\n",
      "  ' ignored when e.g. forecasting.', ValueWarning)\n"
     ]
    },
    {
     "name": "stdout",
     "output_type": "stream",
     "text": [
      "predictions: [array([572136.34612876]), array([262806.38099806])]\n",
      "delta: 0, p: nan\n",
      "delta: 1, p: 0.2574758136231251\n",
      "delta: 2, p: 0.4221652071859289\n",
      "delta: 3, p: 0.3580554045468889\n",
      "delta: 4, p: 0.26708273268893035\n",
      "delta: 5, p: 0.466333205603576\n",
      "delta: 6, p: 0.36031339803464624\n",
      "delta: 7, p: 0.3359220973740439\n",
      "delta: 8, p: 0.1757979031618669\n",
      "delta: 9, p: 1.2490156673062282e-20\n"
     ]
    },
    {
     "name": "stderr",
     "output_type": "stream",
     "text": [
      "C:\\Users\\jeff1\\Anaconda3\\lib\\site-packages\\statsmodels\\base\\model.py:488: HessianInversionWarning: Inverting hessian failed, no bse or cov_params available\n",
      "  'available', HessianInversionWarning)\n",
      "C:\\Users\\jeff1\\Anaconda3\\lib\\site-packages\\statsmodels\\tsa\\base\\tsa_model.py:221: ValueWarning: An unsupported index was provided and will be ignored when e.g. forecasting.\n",
      "  ' ignored when e.g. forecasting.', ValueWarning)\n"
     ]
    },
    {
     "name": "stdout",
     "output_type": "stream",
     "text": [
      "predictions: [array([572136.34612876]), array([262806.38099806]), array([289020.11101211])]\n",
      "delta: 0, p: nan\n",
      "delta: 1, p: 0.10575681923637648\n",
      "delta: 2, p: 0.20294908395441724\n",
      "delta: 3, p: 0.23800980466010813\n",
      "delta: 4, p: 0.14147011918897473\n",
      "delta: 5, p: 0.42740361567980323\n",
      "delta: 6, p: 0.20186214894433635\n",
      "delta: 7, p: 0.1288231262033656\n",
      "delta: 8, p: 6.431840355159271e-14\n",
      "predictions: [array([572136.34612876]), array([262806.38099806]), array([289020.11101211]), array([305450.66320025])]\n",
      "delta: 0, p: nan\n",
      "delta: 1, p: 0.11456922177748574\n",
      "delta: 2, p: 0.23105252428354833\n",
      "delta: 3, p: 0.1983428908704939\n",
      "delta: 4, p: 0.20675180884075894\n",
      "delta: 5, p: 0.18420459752363805\n",
      "delta: 6, p: 0.114255203942841\n",
      "delta: 7, p: 0.18544174333708907\n",
      "delta: 8, p: 2.5023275069968907e-12\n"
     ]
    },
    {
     "name": "stderr",
     "output_type": "stream",
     "text": [
      "C:\\Users\\jeff1\\Anaconda3\\lib\\site-packages\\statsmodels\\tsa\\base\\tsa_model.py:221: ValueWarning: An unsupported index was provided and will be ignored when e.g. forecasting.\n",
      "  ' ignored when e.g. forecasting.', ValueWarning)\n"
     ]
    },
    {
     "name": "stdout",
     "output_type": "stream",
     "text": [
      "predictions: [array([572136.34612876]), array([262806.38099806]), array([289020.11101211]), array([305450.66320025]), array([276323.21323625])]\n",
      "delta: 0, p: nan\n",
      "delta: 1, p: 0.10983950284653538\n",
      "delta: 2, p: 0.21245262169768636\n",
      "delta: 3, p: 0.21698772024875224\n",
      "delta: 4, p: 0.13527545675995206\n",
      "delta: 5, p: 0.17365291987939313\n",
      "delta: 6, p: 0.11749840224711783\n",
      "delta: 7, p: 0.34894018530665893\n",
      "delta: 8, p: 3.572330051292306e-14\n"
     ]
    },
    {
     "name": "stderr",
     "output_type": "stream",
     "text": [
      "C:\\Users\\jeff1\\Anaconda3\\lib\\site-packages\\statsmodels\\tsa\\base\\tsa_model.py:221: ValueWarning: An unsupported index was provided and will be ignored when e.g. forecasting.\n",
      "  ' ignored when e.g. forecasting.', ValueWarning)\n",
      "C:\\Users\\jeff1\\Anaconda3\\lib\\site-packages\\statsmodels\\base\\model.py:488: HessianInversionWarning: Inverting hessian failed, no bse or cov_params available\n",
      "  'available', HessianInversionWarning)\n",
      "C:\\Users\\jeff1\\Anaconda3\\lib\\site-packages\\statsmodels\\tsa\\base\\tsa_model.py:221: ValueWarning: An unsupported index was provided and will be ignored when e.g. forecasting.\n",
      "  ' ignored when e.g. forecasting.', ValueWarning)\n"
     ]
    },
    {
     "name": "stdout",
     "output_type": "stream",
     "text": [
      "predictions: [array([572136.34612876]), array([262806.38099806]), array([289020.11101211]), array([305450.66320025]), array([276323.21323625]), array([406480.80475224])]\n",
      "delta: 0, p: nan\n",
      "delta: 1, p: 0.10285060647519689\n",
      "delta: 2, p: 0.233261261406631\n",
      "delta: 3, p: 0.13751759287889231\n",
      "delta: 4, p: 0.1563792463854523\n",
      "delta: 5, p: 0.2982127740955558\n",
      "delta: 6, p: 0.31143392828953187\n",
      "delta: 7, p: 0.47011136502525025\n",
      "delta: 8, p: 1.7894346104772974e-12\n"
     ]
    },
    {
     "name": "stderr",
     "output_type": "stream",
     "text": [
      "C:\\Users\\jeff1\\Anaconda3\\lib\\site-packages\\statsmodels\\base\\model.py:488: HessianInversionWarning: Inverting hessian failed, no bse or cov_params available\n",
      "  'available', HessianInversionWarning)\n",
      "C:\\Users\\jeff1\\Anaconda3\\lib\\site-packages\\statsmodels\\tsa\\base\\tsa_model.py:221: ValueWarning: An unsupported index was provided and will be ignored when e.g. forecasting.\n",
      "  ' ignored when e.g. forecasting.', ValueWarning)\n"
     ]
    },
    {
     "name": "stdout",
     "output_type": "stream",
     "text": [
      "predictions: [array([572136.34612876]), array([262806.38099806]), array([289020.11101211]), array([305450.66320025]), array([276323.21323625]), array([406480.80475224]), array([406867.78537634])]\n",
      "delta: 0, p: nan\n",
      "delta: 1, p: 0.010634422339596486\n",
      "predictions: [array([979700.10884654])]\n",
      "delta: 0, p: nan\n",
      "delta: 1, p: 0.8053778256644064\n",
      "delta: 2, p: 0.6622144685466822\n",
      "delta: 3, p: 0.7622816436513498\n",
      "delta: 4, p: 0.6451229294855314\n",
      "delta: 5, p: 0.753465975851658\n",
      "delta: 6, p: 0.47216083321679986\n",
      "delta: 7, p: 0.7607368081441019\n",
      "delta: 8, p: 0.8608226693504459\n",
      "delta: 9, p: 3.467752848980193e-13\n"
     ]
    },
    {
     "name": "stderr",
     "output_type": "stream",
     "text": [
      "C:\\Users\\jeff1\\Anaconda3\\lib\\site-packages\\statsmodels\\tsa\\base\\tsa_model.py:221: ValueWarning: An unsupported index was provided and will be ignored when e.g. forecasting.\n",
      "  ' ignored when e.g. forecasting.', ValueWarning)\n"
     ]
    },
    {
     "name": "stdout",
     "output_type": "stream",
     "text": [
      "predictions: [array([979700.10884654]), array([313891.89609202])]\n",
      "delta: 0, p: nan\n",
      "delta: 1, p: 0.9472432860910162\n",
      "delta: 2, p: 0.8914363591088479\n",
      "delta: 3, p: 0.9576028342182722\n",
      "delta: 4, p: 0.9885207251048828\n",
      "delta: 5, p: 0.9666525059524241\n",
      "delta: 6, p: 0.6513349649707363\n",
      "delta: 7, p: 0.94983223331928\n",
      "delta: 8, p: 0.9280173533904227\n",
      "delta: 9, p: 4.838678628714637e-17\n"
     ]
    },
    {
     "name": "stderr",
     "output_type": "stream",
     "text": [
      "C:\\Users\\jeff1\\Anaconda3\\lib\\site-packages\\statsmodels\\tsa\\base\\tsa_model.py:221: ValueWarning: An unsupported index was provided and will be ignored when e.g. forecasting.\n",
      "  ' ignored when e.g. forecasting.', ValueWarning)\n"
     ]
    },
    {
     "name": "stdout",
     "output_type": "stream",
     "text": [
      "predictions: [array([979700.10884654]), array([313891.89609202]), array([292726.57260112])]\n",
      "delta: 0, p: nan\n",
      "delta: 1, p: 0.95408359067498\n",
      "delta: 2, p: 0.9034838642384517\n",
      "delta: 3, p: 0.9669765487659129\n",
      "delta: 4, p: 0.9317219833410645\n",
      "delta: 5, p: 0.9484048400864187\n",
      "delta: 6, p: 0.8842453234796075\n",
      "delta: 7, p: 0.8364855623321641\n",
      "delta: 8, p: 0.8805579732322861\n",
      "delta: 9, p: 0.9187875221234773\n",
      "delta: 0, p: nan\n",
      "bad condition 0: stationarity not adequate\n",
      "delta: 1, p: 0.95408359067498\n"
     ]
    },
    {
     "name": "stderr",
     "output_type": "stream",
     "text": [
      "C:\\Users\\jeff1\\Anaconda3\\lib\\site-packages\\statsmodels\\tsa\\base\\tsa_model.py:221: ValueWarning: An unsupported index was provided and will be ignored when e.g. forecasting.\n",
      "  ' ignored when e.g. forecasting.', ValueWarning)\n",
      "C:\\Users\\jeff1\\Anaconda3\\lib\\site-packages\\statsmodels\\tsa\\base\\tsa_model.py:221: ValueWarning: An unsupported index was provided and will be ignored when e.g. forecasting.\n",
      "  ' ignored when e.g. forecasting.', ValueWarning)\n",
      "C:\\Users\\jeff1\\Anaconda3\\lib\\site-packages\\statsmodels\\base\\model.py:488: HessianInversionWarning: Inverting hessian failed, no bse or cov_params available\n",
      "  'available', HessianInversionWarning)\n",
      "C:\\Users\\jeff1\\Anaconda3\\lib\\site-packages\\statsmodels\\base\\model.py:508: ConvergenceWarning: Maximum Likelihood optimization failed to converge. Check mle_retvals\n",
      "  \"Check mle_retvals\", ConvergenceWarning)\n"
     ]
    },
    {
     "name": "stdout",
     "output_type": "stream",
     "text": [
      "predictions: [array([979700.10884654]), array([313891.89609202]), array([292726.57260112]), array([-87154.49439643])]\n",
      "delta: 0, p: nan\n",
      "delta: 1, p: 0.8590486059262014\n",
      "delta: 2, p: 0.7459823516795989\n",
      "delta: 3, p: 0.8867313802978742\n",
      "delta: 4, p: 0.5216480225419904\n",
      "delta: 5, p: 0.9123552208881751\n",
      "delta: 6, p: 0.6871810754616456\n",
      "delta: 7, p: 0.5865052648115344\n",
      "delta: 8, p: 0.7063883936677179\n",
      "delta: 9, p: 0.924729888335081\n",
      "delta: 0, p: nan\n",
      "bad condition 0: stationarity not adequate\n",
      "delta: 1, p: 0.8590486059262014\n"
     ]
    },
    {
     "name": "stderr",
     "output_type": "stream",
     "text": [
      "C:\\Users\\jeff1\\Anaconda3\\lib\\site-packages\\statsmodels\\tsa\\base\\tsa_model.py:221: ValueWarning: An unsupported index was provided and will be ignored when e.g. forecasting.\n",
      "  ' ignored when e.g. forecasting.', ValueWarning)\n",
      "C:\\Users\\jeff1\\Anaconda3\\lib\\site-packages\\statsmodels\\tsa\\base\\tsa_model.py:221: ValueWarning: An unsupported index was provided and will be ignored when e.g. forecasting.\n",
      "  ' ignored when e.g. forecasting.', ValueWarning)\n"
     ]
    },
    {
     "name": "stdout",
     "output_type": "stream",
     "text": [
      "bad condition 1: stationarity not adequate\n",
      "delta: 2, p: 0.7459823516795989\n"
     ]
    },
    {
     "name": "stderr",
     "output_type": "stream",
     "text": [
      "C:\\Users\\jeff1\\Anaconda3\\lib\\site-packages\\statsmodels\\tsa\\base\\tsa_model.py:221: ValueWarning: An unsupported index was provided and will be ignored when e.g. forecasting.\n",
      "  ' ignored when e.g. forecasting.', ValueWarning)\n"
     ]
    },
    {
     "name": "stdout",
     "output_type": "stream",
     "text": [
      "bad condition 2: stationarity not adequate\n",
      "delta: 3, p: 0.8867313802978742\n"
     ]
    },
    {
     "name": "stderr",
     "output_type": "stream",
     "text": [
      "C:\\Users\\jeff1\\Anaconda3\\lib\\site-packages\\statsmodels\\tsa\\base\\tsa_model.py:221: ValueWarning: An unsupported index was provided and will be ignored when e.g. forecasting.\n",
      "  ' ignored when e.g. forecasting.', ValueWarning)\n"
     ]
    },
    {
     "name": "stdout",
     "output_type": "stream",
     "text": [
      "bad condition 3: stationarity not adequate\n",
      "delta: 4, p: 0.5216480225419904\n"
     ]
    },
    {
     "name": "stderr",
     "output_type": "stream",
     "text": [
      "C:\\Users\\jeff1\\Anaconda3\\lib\\site-packages\\statsmodels\\tsa\\base\\tsa_model.py:221: ValueWarning: An unsupported index was provided and will be ignored when e.g. forecasting.\n",
      "  ' ignored when e.g. forecasting.', ValueWarning)\n"
     ]
    },
    {
     "name": "stdout",
     "output_type": "stream",
     "text": [
      "predictions: [array([979700.10884654]), array([313891.89609202]), array([292726.57260112]), array([-87154.49439643]), array([-124806.87755377])]\n",
      "delta: 0, p: nan\n",
      "delta: 1, p: 0.6100835572313991\n",
      "delta: 2, p: 0.34129476596400204\n",
      "delta: 3, p: 0.5959947862218868\n",
      "delta: 4, p: 0.6218996424942504\n",
      "delta: 5, p: 0.41081638556619954\n",
      "delta: 6, p: 0.4133695892323827\n",
      "delta: 7, p: 4.750207502325102e-08\n"
     ]
    },
    {
     "name": "stderr",
     "output_type": "stream",
     "text": [
      "C:\\Users\\jeff1\\Anaconda3\\lib\\site-packages\\statsmodels\\tsa\\base\\tsa_model.py:221: ValueWarning: An unsupported index was provided and will be ignored when e.g. forecasting.\n",
      "  ' ignored when e.g. forecasting.', ValueWarning)\n",
      "C:\\Users\\jeff1\\Anaconda3\\lib\\site-packages\\statsmodels\\base\\model.py:488: HessianInversionWarning: Inverting hessian failed, no bse or cov_params available\n",
      "  'available', HessianInversionWarning)\n",
      "C:\\Users\\jeff1\\Anaconda3\\lib\\site-packages\\statsmodels\\tsa\\base\\tsa_model.py:221: ValueWarning: An unsupported index was provided and will be ignored when e.g. forecasting.\n",
      "  ' ignored when e.g. forecasting.', ValueWarning)\n"
     ]
    },
    {
     "name": "stdout",
     "output_type": "stream",
     "text": [
      "predictions: [array([979700.10884654]), array([313891.89609202]), array([292726.57260112]), array([-87154.49439643]), array([-124806.87755377]), array([414132.74046032])]\n",
      "delta: 0, p: nan\n",
      "delta: 1, p: 0.5187134088168762\n",
      "delta: 2, p: 0.2530826015274801\n",
      "delta: 3, p: 0.6178306013504657\n",
      "delta: 4, p: 0.033511384981644333\n",
      "predictions: [array([979700.10884654]), array([313891.89609202]), array([292726.57260112]), array([-87154.49439643]), array([-124806.87755377]), array([414132.74046032]), array([507371.91289926])]\n",
      "delta: 0, p: nan\n",
      "delta: 1, p: 0.7219512180842125\n",
      "delta: 2, p: 0.5495152336697113\n",
      "delta: 3, p: 0.3097129216690293\n",
      "delta: 4, p: 0.2936603595642992\n",
      "delta: 5, p: 0.3722166075659822\n",
      "delta: 6, p: 0.11071377112213215\n",
      "delta: 7, p: 0.020448665477645577\n"
     ]
    },
    {
     "name": "stderr",
     "output_type": "stream",
     "text": [
      "C:\\Users\\jeff1\\Anaconda3\\lib\\site-packages\\statsmodels\\tsa\\base\\tsa_model.py:221: ValueWarning: An unsupported index was provided and will be ignored when e.g. forecasting.\n",
      "  ' ignored when e.g. forecasting.', ValueWarning)\n"
     ]
    },
    {
     "name": "stdout",
     "output_type": "stream",
     "text": [
      "predictions: [array([647776.38554917])]\n",
      "delta: 0, p: nan\n",
      "delta: 1, p: 0.45744138165600556\n",
      "delta: 2, p: 0.3507556287148522\n",
      "delta: 3, p: 0.7330594527766476\n",
      "delta: 4, p: 0.8647960830931678\n",
      "delta: 5, p: 0.7154664336896606\n",
      "delta: 6, p: 0.8514187420864368\n",
      "delta: 7, p: 0.8623559541923702\n",
      "delta: 8, p: 0.7118628578922734\n",
      "delta: 9, p: 1.0892938355821425e-13\n"
     ]
    },
    {
     "name": "stderr",
     "output_type": "stream",
     "text": [
      "C:\\Users\\jeff1\\Anaconda3\\lib\\site-packages\\statsmodels\\tsa\\base\\tsa_model.py:221: ValueWarning: An unsupported index was provided and will be ignored when e.g. forecasting.\n",
      "  ' ignored when e.g. forecasting.', ValueWarning)\n",
      "C:\\Users\\jeff1\\Anaconda3\\lib\\site-packages\\statsmodels\\base\\model.py:488: HessianInversionWarning: Inverting hessian failed, no bse or cov_params available\n",
      "  'available', HessianInversionWarning)\n"
     ]
    },
    {
     "name": "stdout",
     "output_type": "stream",
     "text": [
      "predictions: [array([647776.38554917]), array([197781.14353952])]\n",
      "delta: 0, p: nan\n",
      "delta: 1, p: 0.49509970378369633\n",
      "delta: 2, p: 0.2312523857220961\n",
      "delta: 3, p: 0.57542865272096\n",
      "delta: 4, p: 0.7730304220112652\n",
      "delta: 5, p: 0.6849780567562874\n",
      "delta: 6, p: 0.7281480514258947\n",
      "delta: 7, p: 0.7009543099406434\n",
      "delta: 8, p: 0.09886985177674518\n",
      "delta: 9, p: 0.5776715403814423\n",
      "delta: 0, p: nan\n",
      "bad condition 0: stationarity not adequate\n",
      "delta: 1, p: 0.49509970378369633\n"
     ]
    },
    {
     "name": "stderr",
     "output_type": "stream",
     "text": [
      "C:\\Users\\jeff1\\Anaconda3\\lib\\site-packages\\statsmodels\\tsa\\base\\tsa_model.py:221: ValueWarning: An unsupported index was provided and will be ignored when e.g. forecasting.\n",
      "  ' ignored when e.g. forecasting.', ValueWarning)\n",
      "C:\\Users\\jeff1\\Anaconda3\\lib\\site-packages\\statsmodels\\tsa\\base\\tsa_model.py:221: ValueWarning: An unsupported index was provided and will be ignored when e.g. forecasting.\n",
      "  ' ignored when e.g. forecasting.', ValueWarning)\n"
     ]
    },
    {
     "name": "stdout",
     "output_type": "stream",
     "text": [
      "bad condition 1: stationarity not adequate\n",
      "delta: 2, p: 0.2312523857220961\n"
     ]
    },
    {
     "name": "stderr",
     "output_type": "stream",
     "text": [
      "C:\\Users\\jeff1\\Anaconda3\\lib\\site-packages\\statsmodels\\tsa\\base\\tsa_model.py:221: ValueWarning: An unsupported index was provided and will be ignored when e.g. forecasting.\n",
      "  ' ignored when e.g. forecasting.', ValueWarning)\n"
     ]
    },
    {
     "name": "stdout",
     "output_type": "stream",
     "text": [
      "bad condition 2: stationarity not adequate\n",
      "delta: 3, p: 0.57542865272096\n"
     ]
    },
    {
     "name": "stderr",
     "output_type": "stream",
     "text": [
      "C:\\Users\\jeff1\\Anaconda3\\lib\\site-packages\\statsmodels\\tsa\\base\\tsa_model.py:221: ValueWarning: An unsupported index was provided and will be ignored when e.g. forecasting.\n",
      "  ' ignored when e.g. forecasting.', ValueWarning)\n"
     ]
    },
    {
     "name": "stdout",
     "output_type": "stream",
     "text": [
      "predictions: [array([647776.38554917]), array([197781.14353952]), array([430062.67406221])]\n",
      "delta: 0, p: nan\n",
      "delta: 1, p: 0.3616689638218382\n",
      "delta: 2, p: 0.4656710031675395\n",
      "delta: 3, p: 0.32927479716927066\n",
      "delta: 4, p: 0.626977382880235\n",
      "delta: 5, p: 0.49055011901874124\n",
      "delta: 6, p: 0.4375817981850775\n",
      "delta: 7, p: 0.5293586725693976\n",
      "delta: 8, p: 0.4240783795520564\n",
      "delta: 9, p: 0.6585380772611422\n",
      "delta: 0, p: nan\n",
      "bad condition 0: stationarity not adequate\n"
     ]
    },
    {
     "name": "stderr",
     "output_type": "stream",
     "text": [
      "C:\\Users\\jeff1\\Anaconda3\\lib\\site-packages\\statsmodels\\tsa\\base\\tsa_model.py:221: ValueWarning: An unsupported index was provided and will be ignored when e.g. forecasting.\n",
      "  ' ignored when e.g. forecasting.', ValueWarning)\n",
      "C:\\Users\\jeff1\\Anaconda3\\lib\\site-packages\\statsmodels\\tsa\\base\\tsa_model.py:221: ValueWarning: An unsupported index was provided and will be ignored when e.g. forecasting.\n",
      "  ' ignored when e.g. forecasting.', ValueWarning)\n"
     ]
    },
    {
     "name": "stdout",
     "output_type": "stream",
     "text": [
      "delta: 1, p: 0.3616689638218382\n",
      "bad condition 1: stationarity not adequate\n",
      "delta: 2, p: 0.4656710031675395\n"
     ]
    },
    {
     "name": "stderr",
     "output_type": "stream",
     "text": [
      "C:\\Users\\jeff1\\Anaconda3\\lib\\site-packages\\statsmodels\\tsa\\base\\tsa_model.py:221: ValueWarning: An unsupported index was provided and will be ignored when e.g. forecasting.\n",
      "  ' ignored when e.g. forecasting.', ValueWarning)\n"
     ]
    },
    {
     "name": "stdout",
     "output_type": "stream",
     "text": [
      "bad condition 2: stationarity not adequate\n",
      "delta: 3, p: 0.32927479716927066\n"
     ]
    },
    {
     "name": "stderr",
     "output_type": "stream",
     "text": [
      "C:\\Users\\jeff1\\Anaconda3\\lib\\site-packages\\statsmodels\\tsa\\base\\tsa_model.py:221: ValueWarning: An unsupported index was provided and will be ignored when e.g. forecasting.\n",
      "  ' ignored when e.g. forecasting.', ValueWarning)\n"
     ]
    },
    {
     "name": "stdout",
     "output_type": "stream",
     "text": [
      "predictions: [array([647776.38554917]), array([197781.14353952]), array([430062.67406221]), array([316111.54199553])]\n",
      "delta: 0, p: nan\n",
      "delta: 1, p: 0.14187366660303224\n",
      "delta: 2, p: 0.4575349069522786\n",
      "delta: 3, p: 0.2434891059237701\n",
      "delta: 4, p: 0.5715483848313994\n",
      "delta: 5, p: 0.416015846202181\n",
      "delta: 6, p: 0.4311913572724247\n",
      "delta: 7, p: 0.39873778954723643\n",
      "delta: 8, p: 5.680164258063819e-09\n"
     ]
    },
    {
     "name": "stderr",
     "output_type": "stream",
     "text": [
      "C:\\Users\\jeff1\\Anaconda3\\lib\\site-packages\\statsmodels\\tsa\\base\\tsa_model.py:221: ValueWarning: An unsupported index was provided and will be ignored when e.g. forecasting.\n",
      "  ' ignored when e.g. forecasting.', ValueWarning)\n",
      "C:\\Users\\jeff1\\Anaconda3\\lib\\site-packages\\statsmodels\\base\\model.py:488: HessianInversionWarning: Inverting hessian failed, no bse or cov_params available\n",
      "  'available', HessianInversionWarning)\n",
      "C:\\Users\\jeff1\\Anaconda3\\lib\\site-packages\\statsmodels\\tsa\\base\\tsa_model.py:221: ValueWarning: An unsupported index was provided and will be ignored when e.g. forecasting.\n",
      "  ' ignored when e.g. forecasting.', ValueWarning)\n"
     ]
    },
    {
     "name": "stdout",
     "output_type": "stream",
     "text": [
      "predictions: [array([647776.38554917]), array([197781.14353952]), array([430062.67406221]), array([316111.54199553]), array([176032.1384337])]\n",
      "delta: 0, p: nan\n",
      "delta: 1, p: 0.13222227654526547\n",
      "delta: 2, p: 0.4648183198508065\n",
      "delta: 3, p: 0.1774609766784898\n",
      "delta: 4, p: 0.6030697289017528\n",
      "delta: 5, p: 0.00560073663599812\n",
      "predictions: [array([647776.38554917]), array([197781.14353952]), array([430062.67406221]), array([316111.54199553]), array([176032.1384337]), array([184194.70727556])]\n",
      "delta: 0, p: nan\n",
      "delta: 1, p: 0.21616182221530694\n",
      "delta: 2, p: 0.17875159730201207\n",
      "delta: 3, p: 0.24981139038777084\n",
      "delta: 4, p: 0.6611812460646904\n",
      "delta: 5, p: 0.32818652776256385\n",
      "delta: 6, p: 0.017514915903843336\n"
     ]
    },
    {
     "name": "stderr",
     "output_type": "stream",
     "text": [
      "C:\\Users\\jeff1\\Anaconda3\\lib\\site-packages\\statsmodels\\tsa\\base\\tsa_model.py:221: ValueWarning: An unsupported index was provided and will be ignored when e.g. forecasting.\n",
      "  ' ignored when e.g. forecasting.', ValueWarning)\n"
     ]
    },
    {
     "name": "stdout",
     "output_type": "stream",
     "text": [
      "predictions: [array([647776.38554917]), array([197781.14353952]), array([430062.67406221]), array([316111.54199553]), array([176032.1384337]), array([184194.70727556]), array([170942.20903933])]\n",
      "delta: 0, p: nan\n",
      "delta: 1, p: 0.006707555206978685\n"
     ]
    },
    {
     "name": "stderr",
     "output_type": "stream",
     "text": [
      "C:\\Users\\jeff1\\Anaconda3\\lib\\site-packages\\statsmodels\\tsa\\base\\tsa_model.py:221: ValueWarning: An unsupported index was provided and will be ignored when e.g. forecasting.\n",
      "  ' ignored when e.g. forecasting.', ValueWarning)\n"
     ]
    },
    {
     "name": "stdout",
     "output_type": "stream",
     "text": [
      "predictions: [array([726211.74759053])]\n",
      "delta: 0, p: nan\n",
      "delta: 1, p: 0.521072115671891\n",
      "delta: 2, p: 0.5125761741820337\n",
      "delta: 3, p: 0.609607896395652\n",
      "delta: 4, p: 1.2618525548191041e-27\n"
     ]
    },
    {
     "name": "stderr",
     "output_type": "stream",
     "text": [
      "C:\\Users\\jeff1\\Anaconda3\\lib\\site-packages\\statsmodels\\tsa\\base\\tsa_model.py:221: ValueWarning: An unsupported index was provided and will be ignored when e.g. forecasting.\n",
      "  ' ignored when e.g. forecasting.', ValueWarning)\n"
     ]
    },
    {
     "name": "stdout",
     "output_type": "stream",
     "text": [
      "bad condition 4: stationarity not adequate\n",
      "delta: 5, p: 0.8370209397994187\n",
      "delta: 6, p: 0.7167604041095139\n",
      "delta: 7, p: 5.0193738686799376e-08\n"
     ]
    },
    {
     "name": "stderr",
     "output_type": "stream",
     "text": [
      "C:\\Users\\jeff1\\Anaconda3\\lib\\site-packages\\statsmodels\\tsa\\base\\tsa_model.py:221: ValueWarning: An unsupported index was provided and will be ignored when e.g. forecasting.\n",
      "  ' ignored when e.g. forecasting.', ValueWarning)\n",
      "C:\\Users\\jeff1\\Anaconda3\\lib\\site-packages\\statsmodels\\base\\model.py:488: HessianInversionWarning: Inverting hessian failed, no bse or cov_params available\n",
      "  'available', HessianInversionWarning)\n"
     ]
    },
    {
     "name": "stdout",
     "output_type": "stream",
     "text": [
      "predictions: [array([726211.74759053]), array([210181.42615734])]\n",
      "delta: 0, p: nan\n",
      "delta: 1, p: 0.3514204608607026\n",
      "delta: 2, p: 0.4122745647792346\n",
      "delta: 3, p: 0.42687710582901084\n",
      "delta: 4, p: 0.5851061249885051\n",
      "delta: 5, p: 0.2004708825393528\n",
      "delta: 6, p: 0.607620471019119\n",
      "delta: 7, p: 0.8452869191153625\n",
      "delta: 8, p: 0.7435145134403423\n",
      "delta: 9, p: 0.29548063197675073\n",
      "delta: 0, p: nan\n",
      "bad condition 0: stationarity not adequate\n",
      "delta: 1, p: 0.3514204608607026\n"
     ]
    },
    {
     "name": "stderr",
     "output_type": "stream",
     "text": [
      "C:\\Users\\jeff1\\Anaconda3\\lib\\site-packages\\statsmodels\\tsa\\base\\tsa_model.py:221: ValueWarning: An unsupported index was provided and will be ignored when e.g. forecasting.\n",
      "  ' ignored when e.g. forecasting.', ValueWarning)\n",
      "C:\\Users\\jeff1\\Anaconda3\\lib\\site-packages\\statsmodels\\tsa\\base\\tsa_model.py:221: ValueWarning: An unsupported index was provided and will be ignored when e.g. forecasting.\n",
      "  ' ignored when e.g. forecasting.', ValueWarning)\n"
     ]
    },
    {
     "name": "stdout",
     "output_type": "stream",
     "text": [
      "bad condition 1: stationarity not adequate\n",
      "delta: 2, p: 0.4122745647792346\n"
     ]
    },
    {
     "name": "stderr",
     "output_type": "stream",
     "text": [
      "C:\\Users\\jeff1\\Anaconda3\\lib\\site-packages\\statsmodels\\tsa\\base\\tsa_model.py:221: ValueWarning: An unsupported index was provided and will be ignored when e.g. forecasting.\n",
      "  ' ignored when e.g. forecasting.', ValueWarning)\n"
     ]
    },
    {
     "name": "stdout",
     "output_type": "stream",
     "text": [
      "bad condition 2: stationarity not adequate\n",
      "delta: 3, p: 0.42687710582901084\n"
     ]
    },
    {
     "name": "stderr",
     "output_type": "stream",
     "text": [
      "C:\\Users\\jeff1\\Anaconda3\\lib\\site-packages\\statsmodels\\tsa\\base\\tsa_model.py:221: ValueWarning: An unsupported index was provided and will be ignored when e.g. forecasting.\n",
      "  ' ignored when e.g. forecasting.', ValueWarning)\n"
     ]
    },
    {
     "name": "stdout",
     "output_type": "stream",
     "text": [
      "bad condition 3: stationarity not adequate\n",
      "delta: 4, p: 0.5851061249885051\n",
      "bad condition 4: stationarity not adequate\n",
      "delta: 5, p: 0.2004708825393528\n"
     ]
    },
    {
     "name": "stderr",
     "output_type": "stream",
     "text": [
      "C:\\Users\\jeff1\\Anaconda3\\lib\\site-packages\\statsmodels\\tsa\\base\\tsa_model.py:221: ValueWarning: An unsupported index was provided and will be ignored when e.g. forecasting.\n",
      "  ' ignored when e.g. forecasting.', ValueWarning)\n",
      "C:\\Users\\jeff1\\Anaconda3\\lib\\site-packages\\statsmodels\\tsa\\base\\tsa_model.py:221: ValueWarning: An unsupported index was provided and will be ignored when e.g. forecasting.\n",
      "  ' ignored when e.g. forecasting.', ValueWarning)\n",
      "C:\\Users\\jeff1\\Anaconda3\\lib\\site-packages\\statsmodels\\base\\model.py:488: HessianInversionWarning: Inverting hessian failed, no bse or cov_params available\n",
      "  'available', HessianInversionWarning)\n",
      "C:\\Users\\jeff1\\Anaconda3\\lib\\site-packages\\statsmodels\\base\\model.py:508: ConvergenceWarning: Maximum Likelihood optimization failed to converge. Check mle_retvals\n",
      "  \"Check mle_retvals\", ConvergenceWarning)\n"
     ]
    },
    {
     "name": "stdout",
     "output_type": "stream",
     "text": [
      "predictions: [array([726211.74759053]), array([210181.42615734]), array([-160071.61191149])]\n",
      "delta: 0, p: nan\n",
      "delta: 1, p: 0.18449106041863428\n",
      "delta: 2, p: 0.3862183154601786\n",
      "delta: 3, p: 0.31659774942152563\n",
      "delta: 4, p: 0.24703649924545418\n",
      "delta: 5, p: 0.15861740063809265\n",
      "delta: 6, p: 0.49494317191103115\n",
      "delta: 7, p: 0.39165575112290735\n",
      "delta: 8, p: 4.18304950553949e-12\n"
     ]
    },
    {
     "name": "stderr",
     "output_type": "stream",
     "text": [
      "C:\\Users\\jeff1\\Anaconda3\\lib\\site-packages\\statsmodels\\tsa\\base\\tsa_model.py:221: ValueWarning: An unsupported index was provided and will be ignored when e.g. forecasting.\n",
      "  ' ignored when e.g. forecasting.', ValueWarning)\n"
     ]
    },
    {
     "name": "stdout",
     "output_type": "stream",
     "text": [
      "predictions: [array([726211.74759053]), array([210181.42615734]), array([-160071.61191149]), array([244677.35001277])]\n",
      "delta: 0, p: nan\n",
      "delta: 1, p: 0.1005376963663091\n",
      "delta: 2, p: 0.15356637739287549\n",
      "delta: 3, p: 0.1760137870535889\n",
      "delta: 4, p: 0.21085372951902015\n",
      "delta: 5, p: 0.01568737646246661\n"
     ]
    },
    {
     "name": "stderr",
     "output_type": "stream",
     "text": [
      "C:\\Users\\jeff1\\Anaconda3\\lib\\site-packages\\statsmodels\\tsa\\base\\tsa_model.py:221: ValueWarning: An unsupported index was provided and will be ignored when e.g. forecasting.\n",
      "  ' ignored when e.g. forecasting.', ValueWarning)\n"
     ]
    },
    {
     "name": "stdout",
     "output_type": "stream",
     "text": [
      "predictions: [array([726211.74759053]), array([210181.42615734]), array([-160071.61191149]), array([244677.35001277]), array([461600.851823])]\n",
      "delta: 0, p: nan\n",
      "delta: 1, p: 0.046048967571448676\n"
     ]
    },
    {
     "name": "stderr",
     "output_type": "stream",
     "text": [
      "C:\\Users\\jeff1\\Anaconda3\\lib\\site-packages\\statsmodels\\tsa\\base\\tsa_model.py:221: ValueWarning: An unsupported index was provided and will be ignored when e.g. forecasting.\n",
      "  ' ignored when e.g. forecasting.', ValueWarning)\n"
     ]
    },
    {
     "name": "stdout",
     "output_type": "stream",
     "text": [
      "bad condition 1: stationarity not adequate\n",
      "delta: 2, p: 0.06593248963432256\n",
      "delta: 3, p: 0.06078459948566912\n",
      "delta: 4, p: 0.12271507447765095\n",
      "delta: 5, p: 0.014967262703342652\n"
     ]
    },
    {
     "name": "stderr",
     "output_type": "stream",
     "text": [
      "C:\\Users\\jeff1\\Anaconda3\\lib\\site-packages\\statsmodels\\tsa\\base\\tsa_model.py:221: ValueWarning: An unsupported index was provided and will be ignored when e.g. forecasting.\n",
      "  ' ignored when e.g. forecasting.', ValueWarning)\n"
     ]
    },
    {
     "name": "stdout",
     "output_type": "stream",
     "text": [
      "predictions: [array([726211.74759053]), array([210181.42615734]), array([-160071.61191149]), array([244677.35001277]), array([461600.851823]), array([147919.17093491])]\n",
      "delta: 0, p: nan\n",
      "delta: 1, p: 0.02747806171843554\n",
      "predictions: [array([726211.74759053]), array([210181.42615734]), array([-160071.61191149]), array([244677.35001277]), array([461600.851823]), array([147919.17093491]), array([402979.64716416])]\n",
      "delta: 0, p: nan\n"
     ]
    },
    {
     "name": "stderr",
     "output_type": "stream",
     "text": [
      "C:\\Users\\jeff1\\Anaconda3\\lib\\site-packages\\statsmodels\\tsa\\base\\tsa_model.py:221: ValueWarning: An unsupported index was provided and will be ignored when e.g. forecasting.\n",
      "  ' ignored when e.g. forecasting.', ValueWarning)\n"
     ]
    },
    {
     "name": "stdout",
     "output_type": "stream",
     "text": [
      "delta: 1, p: 0.2727331440508086\n",
      "delta: 2, p: 0.09715642661950069\n",
      "delta: 3, p: 0.058183557775768495\n",
      "delta: 4, p: 0.19459824303018347\n",
      "delta: 5, p: 0.07129725336916581\n",
      "delta: 6, p: 0.11875409511546997\n",
      "delta: 7, p: 0.0529817722642131\n",
      "delta: 8, p: 0.01006827014500044\n"
     ]
    },
    {
     "name": "stderr",
     "output_type": "stream",
     "text": [
      "C:\\Users\\jeff1\\Anaconda3\\lib\\site-packages\\statsmodels\\tsa\\base\\tsa_model.py:221: ValueWarning: An unsupported index was provided and will be ignored when e.g. forecasting.\n",
      "  ' ignored when e.g. forecasting.', ValueWarning)\n"
     ]
    },
    {
     "name": "stdout",
     "output_type": "stream",
     "text": [
      "predictions: [array([1033053.02637201])]\n",
      "delta: 0, p: nan\n",
      "delta: 1, p: 0.9864244020898403\n",
      "delta: 2, p: 0.9082004441551637\n",
      "delta: 3, p: 0.9703286082668737\n",
      "delta: 4, p: 2.5889386265500745e-27\n"
     ]
    },
    {
     "name": "stderr",
     "output_type": "stream",
     "text": [
      "C:\\Users\\jeff1\\Anaconda3\\lib\\site-packages\\statsmodels\\tsa\\base\\tsa_model.py:221: ValueWarning: An unsupported index was provided and will be ignored when e.g. forecasting.\n",
      "  ' ignored when e.g. forecasting.', ValueWarning)\n"
     ]
    },
    {
     "name": "stdout",
     "output_type": "stream",
     "text": [
      "bad condition 4: stationarity not adequate\n",
      "delta: 5, p: 0.7719400827493215\n",
      "delta: 6, p: 0.594084028169587\n",
      "delta: 7, p: 1.6584650413799225e-07\n"
     ]
    },
    {
     "name": "stderr",
     "output_type": "stream",
     "text": [
      "C:\\Users\\jeff1\\Anaconda3\\lib\\site-packages\\statsmodels\\tsa\\base\\tsa_model.py:221: ValueWarning: An unsupported index was provided and will be ignored when e.g. forecasting.\n",
      "  ' ignored when e.g. forecasting.', ValueWarning)\n"
     ]
    },
    {
     "name": "stdout",
     "output_type": "stream",
     "text": [
      "predictions: [array([1033053.02637201]), array([313862.71458031])]\n",
      "delta: 0, p: nan\n",
      "delta: 1, p: 0.8349657874166402\n",
      "delta: 2, p: 0.9217646599363764\n",
      "delta: 3, p: 0.6582733132861203\n",
      "delta: 4, p: 0.7268360307567584\n",
      "delta: 5, p: 0.657408741940912\n",
      "delta: 6, p: 0.4465312599217717\n",
      "delta: 7, p: 1.8974015078429628e-06\n"
     ]
    },
    {
     "name": "stderr",
     "output_type": "stream",
     "text": [
      "C:\\Users\\jeff1\\Anaconda3\\lib\\site-packages\\statsmodels\\tsa\\base\\tsa_model.py:221: ValueWarning: An unsupported index was provided and will be ignored when e.g. forecasting.\n",
      "  ' ignored when e.g. forecasting.', ValueWarning)\n"
     ]
    },
    {
     "name": "stdout",
     "output_type": "stream",
     "text": [
      "predictions: [array([1033053.02637201]), array([313862.71458031]), array([286386.99774263])]\n",
      "delta: 0, p: nan\n",
      "delta: 1, p: 8.657091221184534e-29\n"
     ]
    },
    {
     "name": "stderr",
     "output_type": "stream",
     "text": [
      "C:\\Users\\jeff1\\Anaconda3\\lib\\site-packages\\statsmodels\\tsa\\base\\tsa_model.py:221: ValueWarning: An unsupported index was provided and will be ignored when e.g. forecasting.\n",
      "  ' ignored when e.g. forecasting.', ValueWarning)\n"
     ]
    },
    {
     "name": "stdout",
     "output_type": "stream",
     "text": [
      "bad condition 1: stationarity not adequate\n",
      "delta: 2, p: 0.5336466819779365\n",
      "delta: 3, p: 0.9209133055142393\n",
      "delta: 4, p: 0.9189082550400048\n",
      "delta: 5, p: 0.5837753006367508\n",
      "delta: 6, p: 1.5242381617336694e-08\n"
     ]
    },
    {
     "name": "stderr",
     "output_type": "stream",
     "text": [
      "C:\\Users\\jeff1\\Anaconda3\\lib\\site-packages\\statsmodels\\tsa\\base\\tsa_model.py:221: ValueWarning: An unsupported index was provided and will be ignored when e.g. forecasting.\n",
      "  ' ignored when e.g. forecasting.', ValueWarning)\n",
      "C:\\Users\\jeff1\\Anaconda3\\lib\\site-packages\\statsmodels\\base\\model.py:488: HessianInversionWarning: Inverting hessian failed, no bse or cov_params available\n",
      "  'available', HessianInversionWarning)\n",
      "C:\\Users\\jeff1\\Anaconda3\\lib\\site-packages\\statsmodels\\tsa\\base\\tsa_model.py:221: ValueWarning: An unsupported index was provided and will be ignored when e.g. forecasting.\n",
      "  ' ignored when e.g. forecasting.', ValueWarning)\n"
     ]
    },
    {
     "name": "stdout",
     "output_type": "stream",
     "text": [
      "predictions: [array([1033053.02637201]), array([313862.71458031]), array([286386.99774263]), array([-140999.03658228])]\n",
      "delta: 0, p: nan\n",
      "delta: 1, p: 8.019014193715559e-29\n"
     ]
    },
    {
     "name": "stderr",
     "output_type": "stream",
     "text": [
      "C:\\Users\\jeff1\\Anaconda3\\lib\\site-packages\\statsmodels\\base\\model.py:488: HessianInversionWarning: Inverting hessian failed, no bse or cov_params available\n",
      "  'available', HessianInversionWarning)\n",
      "C:\\Users\\jeff1\\Anaconda3\\lib\\site-packages\\statsmodels\\tsa\\base\\tsa_model.py:221: ValueWarning: An unsupported index was provided and will be ignored when e.g. forecasting.\n",
      "  ' ignored when e.g. forecasting.', ValueWarning)\n"
     ]
    },
    {
     "name": "stdout",
     "output_type": "stream",
     "text": [
      "predictions: [array([1033053.02637201]), array([313862.71458031]), array([286386.99774263]), array([-140999.03658228]), array([155212.53359335])]\n",
      "delta: 0, p: nan\n",
      "delta: 1, p: 7.431014262857545e-29\n",
      "bad condition 1: stationarity not adequate\n",
      "delta: 2, p: 3.862947290268444e-20\n"
     ]
    },
    {
     "name": "stderr",
     "output_type": "stream",
     "text": [
      "C:\\Users\\jeff1\\Anaconda3\\lib\\site-packages\\statsmodels\\tsa\\base\\tsa_model.py:221: ValueWarning: An unsupported index was provided and will be ignored when e.g. forecasting.\n",
      "  ' ignored when e.g. forecasting.', ValueWarning)\n"
     ]
    },
    {
     "name": "stdout",
     "output_type": "stream",
     "text": [
      "predictions: [array([1033053.02637201]), array([313862.71458031]), array([286386.99774263]), array([-140999.03658228]), array([155212.53359335]), array([804491.11521936])]\n",
      "delta: 0, p: nan\n",
      "delta: 1, p: 6.891587606376663e-29\n"
     ]
    },
    {
     "name": "stderr",
     "output_type": "stream",
     "text": [
      "C:\\Users\\jeff1\\Anaconda3\\lib\\site-packages\\statsmodels\\tsa\\base\\tsa_model.py:221: ValueWarning: An unsupported index was provided and will be ignored when e.g. forecasting.\n",
      "  ' ignored when e.g. forecasting.', ValueWarning)\n"
     ]
    },
    {
     "name": "stdout",
     "output_type": "stream",
     "text": [
      "predictions: [array([1033053.02637201]), array([313862.71458031]), array([286386.99774263]), array([-140999.03658228]), array([155212.53359335]), array([804491.11521936]), array([402579.61901476])]\n",
      "delta: 0, p: nan\n",
      "delta: 1, p: 0.20463407540364525\n",
      "delta: 2, p: 0.28331324623367815\n",
      "delta: 3, p: 0.05591365753289785\n",
      "delta: 4, p: 0.0013360039809133274\n"
     ]
    },
    {
     "name": "stderr",
     "output_type": "stream",
     "text": [
      "C:\\Users\\jeff1\\Anaconda3\\lib\\site-packages\\statsmodels\\tsa\\base\\tsa_model.py:221: ValueWarning: An unsupported index was provided and will be ignored when e.g. forecasting.\n",
      "  ' ignored when e.g. forecasting.', ValueWarning)\n"
     ]
    },
    {
     "name": "stdout",
     "output_type": "stream",
     "text": [
      "predictions: [array([1224078.17790639])]\n",
      "delta: 0, p: nan\n",
      "delta: 1, p: 0.8955848282753937\n",
      "delta: 2, p: 0.9042675931527472\n",
      "delta: 3, p: 0.8764963035872864\n",
      "delta: 4, p: 0.9958828146953461\n",
      "delta: 5, p: 0.9589181843101796\n",
      "delta: 6, p: 0.8993547158963879\n",
      "delta: 7, p: 0.8986907552209875\n",
      "delta: 8, p: 3.945008697743228e-08\n"
     ]
    },
    {
     "name": "stderr",
     "output_type": "stream",
     "text": [
      "C:\\Users\\jeff1\\Anaconda3\\lib\\site-packages\\statsmodels\\tsa\\base\\tsa_model.py:221: ValueWarning: An unsupported index was provided and will be ignored when e.g. forecasting.\n",
      "  ' ignored when e.g. forecasting.', ValueWarning)\n",
      "C:\\Users\\jeff1\\Anaconda3\\lib\\site-packages\\statsmodels\\base\\model.py:488: HessianInversionWarning: Inverting hessian failed, no bse or cov_params available\n",
      "  'available', HessianInversionWarning)\n"
     ]
    },
    {
     "name": "stdout",
     "output_type": "stream",
     "text": [
      "predictions: [array([1224078.17790639]), array([403087.59446496])]\n",
      "delta: 0, p: nan\n",
      "delta: 1, p: 0.7942925385230118\n",
      "delta: 2, p: 0.8004156969502609\n",
      "delta: 3, p: 0.8964960741626354\n",
      "delta: 4, p: 0.9363077907052729\n",
      "delta: 5, p: 0.9546169299858397\n",
      "delta: 6, p: 0.6603297636688872\n",
      "delta: 7, p: 0.8347941686752255\n",
      "delta: 8, p: 0.9463457110852758\n",
      "delta: 9, p: 0.988091647263526\n",
      "delta: 0, p: nan\n",
      "bad condition 0: stationarity not adequate\n",
      "delta: 1, p: 0.7942925385230118\n"
     ]
    },
    {
     "name": "stderr",
     "output_type": "stream",
     "text": [
      "C:\\Users\\jeff1\\Anaconda3\\lib\\site-packages\\statsmodels\\tsa\\base\\tsa_model.py:221: ValueWarning: An unsupported index was provided and will be ignored when e.g. forecasting.\n",
      "  ' ignored when e.g. forecasting.', ValueWarning)\n",
      "C:\\Users\\jeff1\\Anaconda3\\lib\\site-packages\\statsmodels\\tsa\\base\\tsa_model.py:221: ValueWarning: An unsupported index was provided and will be ignored when e.g. forecasting.\n",
      "  ' ignored when e.g. forecasting.', ValueWarning)\n",
      "C:\\Users\\jeff1\\Anaconda3\\lib\\site-packages\\statsmodels\\base\\model.py:488: HessianInversionWarning: Inverting hessian failed, no bse or cov_params available\n",
      "  'available', HessianInversionWarning)\n",
      "C:\\Users\\jeff1\\Anaconda3\\lib\\site-packages\\statsmodels\\base\\model.py:508: ConvergenceWarning: Maximum Likelihood optimization failed to converge. Check mle_retvals\n",
      "  \"Check mle_retvals\", ConvergenceWarning)\n"
     ]
    },
    {
     "name": "stdout",
     "output_type": "stream",
     "text": [
      "predictions: [array([1224078.17790639]), array([403087.59446496]), array([518568.5185209])]\n",
      "delta: 0, p: nan\n",
      "delta: 1, p: 0.7943863045962537\n",
      "delta: 2, p: 0.8884269196629053\n",
      "delta: 3, p: 0.8808569791974015\n",
      "delta: 4, p: 0.87335716339525\n",
      "delta: 5, p: 0.9576082578368407\n",
      "delta: 6, p: 0.9439333457337883\n",
      "delta: 7, p: 0.9624076646937992\n",
      "delta: 8, p: 3.639581656450113e-12\n"
     ]
    },
    {
     "name": "stderr",
     "output_type": "stream",
     "text": [
      "C:\\Users\\jeff1\\Anaconda3\\lib\\site-packages\\statsmodels\\tsa\\base\\tsa_model.py:221: ValueWarning: An unsupported index was provided and will be ignored when e.g. forecasting.\n",
      "  ' ignored when e.g. forecasting.', ValueWarning)\n"
     ]
    },
    {
     "name": "stdout",
     "output_type": "stream",
     "text": [
      "predictions: [array([1224078.17790639]), array([403087.59446496]), array([518568.5185209]), array([397222.33849529])]\n",
      "delta: 0, p: nan\n",
      "delta: 1, p: 0.7196910164840159\n",
      "delta: 2, p: 0.8505060903171306\n",
      "delta: 3, p: 0.8526474246567713\n",
      "delta: 4, p: 0.8432593708241729\n",
      "delta: 5, p: 0.9001017643867513\n",
      "delta: 6, p: 0.9426692197151769\n",
      "delta: 7, p: 0.9749633277719998\n",
      "delta: 8, p: 0.8277428883597412\n",
      "delta: 9, p: 0.7260494849799655\n",
      "delta: 0, p: nan\n",
      "bad condition 0: stationarity not adequate\n",
      "delta: 1, p: 0.7196910164840159\n"
     ]
    },
    {
     "name": "stderr",
     "output_type": "stream",
     "text": [
      "C:\\Users\\jeff1\\Anaconda3\\lib\\site-packages\\statsmodels\\tsa\\base\\tsa_model.py:221: ValueWarning: An unsupported index was provided and will be ignored when e.g. forecasting.\n",
      "  ' ignored when e.g. forecasting.', ValueWarning)\n",
      "C:\\Users\\jeff1\\Anaconda3\\lib\\site-packages\\statsmodels\\tsa\\base\\tsa_model.py:221: ValueWarning: An unsupported index was provided and will be ignored when e.g. forecasting.\n",
      "  ' ignored when e.g. forecasting.', ValueWarning)\n",
      "C:\\Users\\jeff1\\Anaconda3\\lib\\site-packages\\statsmodels\\base\\model.py:488: HessianInversionWarning: Inverting hessian failed, no bse or cov_params available\n",
      "  'available', HessianInversionWarning)\n",
      "C:\\Users\\jeff1\\Anaconda3\\lib\\site-packages\\statsmodels\\base\\model.py:508: ConvergenceWarning: Maximum Likelihood optimization failed to converge. Check mle_retvals\n",
      "  \"Check mle_retvals\", ConvergenceWarning)\n"
     ]
    },
    {
     "name": "stdout",
     "output_type": "stream",
     "text": [
      "predictions: [array([1224078.17790639]), array([403087.59446496]), array([518568.5185209]), array([397222.33849529]), array([720568.5596857])]\n",
      "delta: 0, p: nan\n",
      "delta: 1, p: 0.5213365094285343\n",
      "delta: 2, p: 0.5667590405039192\n",
      "delta: 3, p: 0.7592784693803383\n",
      "delta: 4, p: 0.8478060052489618\n",
      "delta: 5, p: 0.9012183263069748\n",
      "delta: 6, p: 0.8483930502990242\n",
      "delta: 7, p: 0.8718244458821537\n",
      "delta: 8, p: 0.9394613151663803\n",
      "delta: 9, p: 0.6003669346346086\n",
      "delta: 0, p: nan\n",
      "bad condition 0: stationarity not adequate\n",
      "delta: 1, p: 0.5213365094285343\n"
     ]
    },
    {
     "name": "stderr",
     "output_type": "stream",
     "text": [
      "C:\\Users\\jeff1\\Anaconda3\\lib\\site-packages\\statsmodels\\tsa\\base\\tsa_model.py:221: ValueWarning: An unsupported index was provided and will be ignored when e.g. forecasting.\n",
      "  ' ignored when e.g. forecasting.', ValueWarning)\n",
      "C:\\Users\\jeff1\\Anaconda3\\lib\\site-packages\\statsmodels\\tsa\\base\\tsa_model.py:221: ValueWarning: An unsupported index was provided and will be ignored when e.g. forecasting.\n",
      "  ' ignored when e.g. forecasting.', ValueWarning)\n"
     ]
    },
    {
     "name": "stdout",
     "output_type": "stream",
     "text": [
      "predictions: [array([1224078.17790639]), array([403087.59446496]), array([518568.5185209]), array([397222.33849529]), array([720568.5596857]), array([267597.03230638])]\n",
      "delta: 0, p: nan\n",
      "delta: 1, p: 0.7169315221333032\n",
      "delta: 2, p: 0.7122166464065325\n",
      "delta: 3, p: 0.6936997449312872\n",
      "delta: 4, p: 0.8982153591364674\n",
      "delta: 5, p: 0.9526166311488163\n",
      "delta: 6, p: 0.892893015135901\n",
      "delta: 7, p: 0.8344339912521784\n",
      "delta: 8, p: 0.877163186109368\n",
      "delta: 9, p: 0.9305058522366285\n",
      "delta: 0, p: nan\n",
      "bad condition 0: stationarity not adequate\n",
      "delta: 1, p: 0.7169315221333032\n"
     ]
    },
    {
     "name": "stderr",
     "output_type": "stream",
     "text": [
      "C:\\Users\\jeff1\\Anaconda3\\lib\\site-packages\\statsmodels\\tsa\\base\\tsa_model.py:221: ValueWarning: An unsupported index was provided and will be ignored when e.g. forecasting.\n",
      "  ' ignored when e.g. forecasting.', ValueWarning)\n",
      "C:\\Users\\jeff1\\Anaconda3\\lib\\site-packages\\statsmodels\\tsa\\base\\tsa_model.py:221: ValueWarning: An unsupported index was provided and will be ignored when e.g. forecasting.\n",
      "  ' ignored when e.g. forecasting.', ValueWarning)\n"
     ]
    },
    {
     "name": "stdout",
     "output_type": "stream",
     "text": [
      "predictions: [array([1224078.17790639]), array([403087.59446496]), array([518568.5185209]), array([397222.33849529]), array([720568.5596857]), array([267597.03230638]), array([402257.50269751])]\n",
      "delta: 0, p: nan\n",
      "delta: 1, p: 0.11808155629541278\n",
      "delta: 2, p: 0.21218715362495555\n",
      "delta: 3, p: 0.04585266105823301\n"
     ]
    },
    {
     "name": "stderr",
     "output_type": "stream",
     "text": [
      "C:\\Users\\jeff1\\Anaconda3\\lib\\site-packages\\statsmodels\\tsa\\base\\tsa_model.py:221: ValueWarning: An unsupported index was provided and will be ignored when e.g. forecasting.\n",
      "  ' ignored when e.g. forecasting.', ValueWarning)\n"
     ]
    },
    {
     "name": "stdout",
     "output_type": "stream",
     "text": [
      "predictions: [array([822726.44803147])]\n",
      "delta: 0, p: nan\n",
      "delta: 1, p: 0.8233397349428357\n",
      "delta: 2, p: 0.007261145557347669\n"
     ]
    },
    {
     "name": "stderr",
     "output_type": "stream",
     "text": [
      "C:\\Users\\jeff1\\Anaconda3\\lib\\site-packages\\statsmodels\\tsa\\base\\tsa_model.py:221: ValueWarning: An unsupported index was provided and will be ignored when e.g. forecasting.\n",
      "  ' ignored when e.g. forecasting.', ValueWarning)\n"
     ]
    },
    {
     "name": "stdout",
     "output_type": "stream",
     "text": [
      "predictions: [array([822726.44803147]), array([427419.24109579])]\n",
      "delta: 0, p: nan\n",
      "delta: 1, p: 7.46758775026388e-29\n"
     ]
    },
    {
     "name": "stderr",
     "output_type": "stream",
     "text": [
      "C:\\Users\\jeff1\\Anaconda3\\lib\\site-packages\\statsmodels\\tsa\\base\\tsa_model.py:221: ValueWarning: An unsupported index was provided and will be ignored when e.g. forecasting.\n",
      "  ' ignored when e.g. forecasting.', ValueWarning)\n",
      "C:\\Users\\jeff1\\Anaconda3\\lib\\site-packages\\statsmodels\\base\\model.py:508: ConvergenceWarning: Maximum Likelihood optimization failed to converge. Check mle_retvals\n",
      "  \"Check mle_retvals\", ConvergenceWarning)\n",
      "C:\\Users\\jeff1\\Anaconda3\\lib\\site-packages\\statsmodels\\tsa\\base\\tsa_model.py:221: ValueWarning: An unsupported index was provided and will be ignored when e.g. forecasting.\n",
      "  ' ignored when e.g. forecasting.', ValueWarning)\n"
     ]
    },
    {
     "name": "stdout",
     "output_type": "stream",
     "text": [
      "predictions: [array([822726.44803147]), array([427419.24109579]), array([289625.62241228])]\n",
      "delta: 0, p: nan\n",
      "delta: 1, p: 6.926626481953175e-29\n",
      "bad condition 1: stationarity not adequate\n",
      "delta: 2, p: 0.003992339238137739\n"
     ]
    },
    {
     "name": "stderr",
     "output_type": "stream",
     "text": [
      "C:\\Users\\jeff1\\Anaconda3\\lib\\site-packages\\statsmodels\\tsa\\base\\tsa_model.py:221: ValueWarning: An unsupported index was provided and will be ignored when e.g. forecasting.\n",
      "  ' ignored when e.g. forecasting.', ValueWarning)\n"
     ]
    },
    {
     "name": "stdout",
     "output_type": "stream",
     "text": [
      "predictions: [array([822726.44803147]), array([427419.24109579]), array([289625.62241228]), array([517542.30433385])]\n",
      "delta: 0, p: nan\n",
      "delta: 1, p: 6.432328140216105e-29\n"
     ]
    },
    {
     "name": "stderr",
     "output_type": "stream",
     "text": [
      "C:\\Users\\jeff1\\Anaconda3\\lib\\site-packages\\statsmodels\\tsa\\base\\tsa_model.py:221: ValueWarning: An unsupported index was provided and will be ignored when e.g. forecasting.\n",
      "  ' ignored when e.g. forecasting.', ValueWarning)\n"
     ]
    },
    {
     "name": "stdout",
     "output_type": "stream",
     "text": [
      "predictions: [array([822726.44803147]), array([427419.24109579]), array([289625.62241228]), array([517542.30433385]), array([395632.03606066])]\n",
      "delta: 0, p: nan\n",
      "delta: 1, p: 5.972624167222746e-29\n",
      "predictions: [array([822726.44803147]), array([427419.24109579]), array([289625.62241228]), array([517542.30433385]), array([395632.03606066]), array([374034.20299937])]\n"
     ]
    },
    {
     "name": "stderr",
     "output_type": "stream",
     "text": [
      "C:\\Users\\jeff1\\Anaconda3\\lib\\site-packages\\statsmodels\\tsa\\base\\tsa_model.py:221: ValueWarning: An unsupported index was provided and will be ignored when e.g. forecasting.\n",
      "  ' ignored when e.g. forecasting.', ValueWarning)\n"
     ]
    },
    {
     "name": "stdout",
     "output_type": "stream",
     "text": [
      "delta: 0, p: nan\n",
      "delta: 1, p: 5.549565950966778e-29\n",
      "predictions: [array([822726.44803147]), array([427419.24109579]), array([289625.62241228]), array([517542.30433385]), array([395632.03606066]), array([374034.20299937]), array([402678.82879992])]\n",
      "delta: 0, p: nan\n",
      "delta: 1, p: 0.26843639558187593\n",
      "delta: 2, p: 0.054964228755876025\n",
      "delta: 3, p: 0.0563126466227844\n"
     ]
    },
    {
     "name": "stderr",
     "output_type": "stream",
     "text": [
      "C:\\Users\\jeff1\\Anaconda3\\lib\\site-packages\\statsmodels\\tsa\\base\\tsa_model.py:221: ValueWarning: An unsupported index was provided and will be ignored when e.g. forecasting.\n",
      "  ' ignored when e.g. forecasting.', ValueWarning)\n"
     ]
    },
    {
     "name": "stdout",
     "output_type": "stream",
     "text": [
      "delta: 4, p: 0.21982377315253654\n",
      "delta: 5, p: 0.09579775197911722\n",
      "delta: 6, p: 0.05742418648000897\n",
      "delta: 7, p: 0.004589431653513894\n"
     ]
    },
    {
     "name": "stderr",
     "output_type": "stream",
     "text": [
      "C:\\Users\\jeff1\\Anaconda3\\lib\\site-packages\\statsmodels\\tsa\\base\\tsa_model.py:221: ValueWarning: An unsupported index was provided and will be ignored when e.g. forecasting.\n",
      "  ' ignored when e.g. forecasting.', ValueWarning)\n",
      "C:\\Users\\jeff1\\Anaconda3\\lib\\site-packages\\statsmodels\\base\\model.py:488: HessianInversionWarning: Inverting hessian failed, no bse or cov_params available\n",
      "  'available', HessianInversionWarning)\n"
     ]
    },
    {
     "name": "stdout",
     "output_type": "stream",
     "text": [
      "predictions: [array([1499154.43192089])]\n",
      "delta: 0, p: nan\n",
      "delta: 1, p: 0.807513388332455\n",
      "delta: 2, p: 0.877034625294671\n",
      "delta: 3, p: 0.8829730508970658\n",
      "delta: 4, p: 0.9729169286348524\n",
      "delta: 5, p: 0.9397787046869488\n",
      "delta: 6, p: 0.9889100600913573\n",
      "delta: 7, p: 0.9971636184723932\n",
      "delta: 8, p: 0.9972538188293161\n",
      "delta: 9, p: 0.9947769439631622\n",
      "delta: 0, p: nan\n",
      "bad condition 0: stationarity not adequate\n",
      "delta: 1, p: 0.807513388332455\n"
     ]
    },
    {
     "name": "stderr",
     "output_type": "stream",
     "text": [
      "C:\\Users\\jeff1\\Anaconda3\\lib\\site-packages\\statsmodels\\tsa\\base\\tsa_model.py:221: ValueWarning: An unsupported index was provided and will be ignored when e.g. forecasting.\n",
      "  ' ignored when e.g. forecasting.', ValueWarning)\n",
      "C:\\Users\\jeff1\\Anaconda3\\lib\\site-packages\\statsmodels\\tsa\\base\\tsa_model.py:221: ValueWarning: An unsupported index was provided and will be ignored when e.g. forecasting.\n",
      "  ' ignored when e.g. forecasting.', ValueWarning)\n"
     ]
    },
    {
     "name": "stdout",
     "output_type": "stream",
     "text": [
      "bad condition 1: stationarity not adequate\n",
      "delta: 2, p: 0.877034625294671\n"
     ]
    },
    {
     "name": "stderr",
     "output_type": "stream",
     "text": [
      "C:\\Users\\jeff1\\Anaconda3\\lib\\site-packages\\statsmodels\\tsa\\base\\tsa_model.py:221: ValueWarning: An unsupported index was provided and will be ignored when e.g. forecasting.\n",
      "  ' ignored when e.g. forecasting.', ValueWarning)\n"
     ]
    },
    {
     "name": "stdout",
     "output_type": "stream",
     "text": [
      "bad condition 2: stationarity not adequate\n",
      "delta: 3, p: 0.8829730508970658\n"
     ]
    },
    {
     "name": "stderr",
     "output_type": "stream",
     "text": [
      "C:\\Users\\jeff1\\Anaconda3\\lib\\site-packages\\statsmodels\\tsa\\base\\tsa_model.py:221: ValueWarning: An unsupported index was provided and will be ignored when e.g. forecasting.\n",
      "  ' ignored when e.g. forecasting.', ValueWarning)\n",
      "C:\\Users\\jeff1\\Anaconda3\\lib\\site-packages\\statsmodels\\base\\model.py:488: HessianInversionWarning: Inverting hessian failed, no bse or cov_params available\n",
      "  'available', HessianInversionWarning)\n"
     ]
    },
    {
     "name": "stdout",
     "output_type": "stream",
     "text": [
      "predictions: [array([1499154.43192089]), array([110505.82663573])]\n",
      "delta: 0, p: nan\n",
      "delta: 1, p: 0.8126723145807664\n",
      "delta: 2, p: 0.7043705882743221\n",
      "delta: 3, p: 0.6763810639787595\n",
      "delta: 4, p: 0.9304597944685448\n",
      "delta: 5, p: 0.49997864621600574\n",
      "delta: 6, p: 0.9090109793885817\n",
      "delta: 7, p: 0.9963313902774461\n",
      "delta: 8, p: 4.81780534246871e-13\n"
     ]
    },
    {
     "name": "stderr",
     "output_type": "stream",
     "text": [
      "C:\\Users\\jeff1\\Anaconda3\\lib\\site-packages\\statsmodels\\tsa\\base\\tsa_model.py:221: ValueWarning: An unsupported index was provided and will be ignored when e.g. forecasting.\n",
      "  ' ignored when e.g. forecasting.', ValueWarning)\n"
     ]
    },
    {
     "name": "stdout",
     "output_type": "stream",
     "text": [
      "predictions: [array([1499154.43192089]), array([110505.82663573]), array([494333.31290717])]\n",
      "delta: 0, p: nan\n",
      "delta: 1, p: 0.7430425185053716\n",
      "delta: 2, p: 0.6004327683784982\n",
      "delta: 3, p: 0.6104352311815214\n",
      "delta: 4, p: 0.7904559620875287\n",
      "delta: 5, p: 0.7557663131446214\n",
      "delta: 6, p: 0.9129798319419773\n",
      "delta: 7, p: 0.9903058561554864\n",
      "delta: 8, p: 0.904470161141783\n",
      "delta: 9, p: 0.8782243187734454\n",
      "delta: 0, p: nan\n",
      "bad condition 0: stationarity not adequate\n",
      "delta: 1, p: 0.7430425185053716\n"
     ]
    },
    {
     "name": "stderr",
     "output_type": "stream",
     "text": [
      "C:\\Users\\jeff1\\Anaconda3\\lib\\site-packages\\statsmodels\\tsa\\base\\tsa_model.py:221: ValueWarning: An unsupported index was provided and will be ignored when e.g. forecasting.\n",
      "  ' ignored when e.g. forecasting.', ValueWarning)\n",
      "C:\\Users\\jeff1\\Anaconda3\\lib\\site-packages\\statsmodels\\tsa\\base\\tsa_model.py:221: ValueWarning: An unsupported index was provided and will be ignored when e.g. forecasting.\n",
      "  ' ignored when e.g. forecasting.', ValueWarning)\n",
      "C:\\Users\\jeff1\\Anaconda3\\lib\\site-packages\\statsmodels\\base\\model.py:488: HessianInversionWarning: Inverting hessian failed, no bse or cov_params available\n",
      "  'available', HessianInversionWarning)\n",
      "C:\\Users\\jeff1\\Anaconda3\\lib\\site-packages\\statsmodels\\base\\model.py:508: ConvergenceWarning: Maximum Likelihood optimization failed to converge. Check mle_retvals\n",
      "  \"Check mle_retvals\", ConvergenceWarning)\n"
     ]
    },
    {
     "name": "stdout",
     "output_type": "stream",
     "text": [
      "predictions: [array([1499154.43192089]), array([110505.82663573]), array([494333.31290717]), array([-192068.82694658])]\n",
      "delta: 0, p: nan\n",
      "delta: 1, p: 0.5893342843818942\n",
      "delta: 2, p: 0.4299147401050282\n",
      "delta: 3, p: 0.442019507619059\n",
      "delta: 4, p: 0.574088358949894\n",
      "delta: 5, p: 0.577137381252971\n",
      "delta: 6, p: 0.8874806670578093\n",
      "delta: 7, p: 0.961409540244981\n",
      "delta: 8, p: 0.9550904025335217\n",
      "delta: 9, p: 0.49417676671849536\n",
      "delta: 0, p: nan\n",
      "bad condition 0: stationarity not adequate\n",
      "delta: 1, p: 0.5893342843818942\n"
     ]
    },
    {
     "name": "stderr",
     "output_type": "stream",
     "text": [
      "C:\\Users\\jeff1\\Anaconda3\\lib\\site-packages\\statsmodels\\tsa\\base\\tsa_model.py:221: ValueWarning: An unsupported index was provided and will be ignored when e.g. forecasting.\n",
      "  ' ignored when e.g. forecasting.', ValueWarning)\n",
      "C:\\Users\\jeff1\\Anaconda3\\lib\\site-packages\\statsmodels\\tsa\\base\\tsa_model.py:221: ValueWarning: An unsupported index was provided and will be ignored when e.g. forecasting.\n",
      "  ' ignored when e.g. forecasting.', ValueWarning)\n"
     ]
    },
    {
     "name": "stdout",
     "output_type": "stream",
     "text": [
      "predictions: [array([1499154.43192089]), array([110505.82663573]), array([494333.31290717]), array([-192068.82694658]), array([308435.00913579])]\n",
      "delta: 0, p: nan\n",
      "delta: 1, p: 0.5703673079450915\n",
      "delta: 2, p: 0.3624742218819965\n",
      "delta: 3, p: 0.28946481891595915\n",
      "delta: 4, p: 0.5584166858564654\n",
      "delta: 5, p: 0.6385189457541836\n",
      "delta: 6, p: 0.7044333491321597\n",
      "delta: 7, p: 0.8148902056738767\n",
      "delta: 8, p: 0.32568678325812495\n",
      "delta: 9, p: 0.19713134586627207\n",
      "delta: 0, p: nan\n",
      "bad condition 0: stationarity not adequate\n",
      "delta: 1, p: 0.5703673079450915\n"
     ]
    },
    {
     "name": "stderr",
     "output_type": "stream",
     "text": [
      "C:\\Users\\jeff1\\Anaconda3\\lib\\site-packages\\statsmodels\\tsa\\base\\tsa_model.py:221: ValueWarning: An unsupported index was provided and will be ignored when e.g. forecasting.\n",
      "  ' ignored when e.g. forecasting.', ValueWarning)\n",
      "C:\\Users\\jeff1\\Anaconda3\\lib\\site-packages\\statsmodels\\tsa\\base\\tsa_model.py:221: ValueWarning: An unsupported index was provided and will be ignored when e.g. forecasting.\n",
      "  ' ignored when e.g. forecasting.', ValueWarning)\n"
     ]
    },
    {
     "name": "stdout",
     "output_type": "stream",
     "text": [
      "predictions: [array([1499154.43192089]), array([110505.82663573]), array([494333.31290717]), array([-192068.82694658]), array([308435.00913579]), array([178679.43025659])]\n",
      "delta: 0, p: nan\n",
      "delta: 1, p: 0.49558706400032426\n",
      "delta: 2, p: 0.2933676868695153\n",
      "delta: 3, p: 0.29922494795916305\n",
      "delta: 4, p: 0.4539856755573299\n",
      "delta: 5, p: 0.5938085192976496\n",
      "delta: 6, p: 0.5461050607424021\n",
      "delta: 7, p: 0.25043716927300735\n",
      "delta: 8, p: 0.001115561997514241\n"
     ]
    },
    {
     "name": "stderr",
     "output_type": "stream",
     "text": [
      "C:\\Users\\jeff1\\Anaconda3\\lib\\site-packages\\statsmodels\\tsa\\base\\tsa_model.py:221: ValueWarning: An unsupported index was provided and will be ignored when e.g. forecasting.\n",
      "  ' ignored when e.g. forecasting.', ValueWarning)\n"
     ]
    },
    {
     "name": "stdout",
     "output_type": "stream",
     "text": [
      "predictions: [array([1499154.43192089]), array([110505.82663573]), array([494333.31290717]), array([-192068.82694658]), array([308435.00913579]), array([178679.43025659]), array([544705.3817173])]\n",
      "delta: 0, p: nan\n",
      "delta: 1, p: 0.458188583129492\n",
      "delta: 2, p: 0.6072003945530426\n",
      "delta: 3, p: 0.084304289950688\n",
      "delta: 4, p: 0.4538553723735671\n",
      "delta: 5, p: 0.3492115277985317\n",
      "delta: 6, p: 0.18402123123646674\n",
      "delta: 7, p: 0.010071098071918496\n"
     ]
    },
    {
     "name": "stderr",
     "output_type": "stream",
     "text": [
      "C:\\Users\\jeff1\\Anaconda3\\lib\\site-packages\\statsmodels\\tsa\\base\\tsa_model.py:221: ValueWarning: An unsupported index was provided and will be ignored when e.g. forecasting.\n",
      "  ' ignored when e.g. forecasting.', ValueWarning)\n"
     ]
    },
    {
     "name": "stdout",
     "output_type": "stream",
     "text": [
      "predictions: [array([374141.29401708])]\n",
      "delta: 0, p: nan\n",
      "delta: 1, p: 0.7677743764022579\n",
      "delta: 2, p: 0.8360444527719013\n",
      "delta: 3, p: 0.8557790520202438\n",
      "delta: 4, p: 0.7890208108459957\n",
      "delta: 5, p: 0.05238263415436884\n",
      "delta: 6, p: 0.5114645629395717\n",
      "delta: 7, p: 0.09922059303705816\n",
      "delta: 8, p: 0.3084098067951328\n",
      "delta: 9, p: 1.0035852096782823e-29\n"
     ]
    },
    {
     "name": "stderr",
     "output_type": "stream",
     "text": [
      "C:\\Users\\jeff1\\Anaconda3\\lib\\site-packages\\statsmodels\\tsa\\base\\tsa_model.py:221: ValueWarning: An unsupported index was provided and will be ignored when e.g. forecasting.\n",
      "  ' ignored when e.g. forecasting.', ValueWarning)\n"
     ]
    },
    {
     "name": "stdout",
     "output_type": "stream",
     "text": [
      "predictions: [array([374141.29401708]), array([389995.74669871])]\n",
      "delta: 0, p: nan\n",
      "delta: 1, p: 0.5458955589127303\n",
      "delta: 2, p: 0.46766375203020377\n",
      "delta: 3, p: 0.6230450937663294\n",
      "delta: 4, p: 0.48273646491104455\n",
      "delta: 5, p: 0.20795945573393737\n",
      "delta: 6, p: 0.1853830816733446\n",
      "delta: 7, p: 0.012243435192152378\n"
     ]
    },
    {
     "name": "stderr",
     "output_type": "stream",
     "text": [
      "C:\\Users\\jeff1\\Anaconda3\\lib\\site-packages\\statsmodels\\tsa\\base\\tsa_model.py:221: ValueWarning: An unsupported index was provided and will be ignored when e.g. forecasting.\n",
      "  ' ignored when e.g. forecasting.', ValueWarning)\n"
     ]
    },
    {
     "name": "stdout",
     "output_type": "stream",
     "text": [
      "predictions: [array([374141.29401708]), array([389995.74669871]), array([392678.99646778])]\n",
      "delta: 0, p: nan\n",
      "delta: 1, p: 0.5097228088833764\n",
      "delta: 2, p: 0.43004942581523986\n",
      "delta: 3, p: 0.6069697932012584\n",
      "delta: 4, p: 0.5071840978430371\n",
      "delta: 5, p: 0.2656500850039783\n",
      "delta: 6, p: 0.1960794265348802\n",
      "delta: 7, p: 0.012944368749461567\n"
     ]
    },
    {
     "name": "stderr",
     "output_type": "stream",
     "text": [
      "C:\\Users\\jeff1\\Anaconda3\\lib\\site-packages\\statsmodels\\tsa\\base\\tsa_model.py:221: ValueWarning: An unsupported index was provided and will be ignored when e.g. forecasting.\n",
      "  ' ignored when e.g. forecasting.', ValueWarning)\n"
     ]
    },
    {
     "name": "stdout",
     "output_type": "stream",
     "text": [
      "predictions: [array([374141.29401708]), array([389995.74669871]), array([392678.99646778]), array([395644.84865511])]\n",
      "delta: 0, p: nan\n",
      "delta: 1, p: 0.6528288627925072\n",
      "delta: 2, p: 0.5582497230353323\n",
      "delta: 3, p: 0.5170731171058455\n",
      "delta: 4, p: 0.5823252251503239\n",
      "delta: 5, p: 0.2763986859913537\n",
      "delta: 6, p: 0.29216013645137096\n",
      "delta: 7, p: 0.04765112475192047\n"
     ]
    },
    {
     "name": "stderr",
     "output_type": "stream",
     "text": [
      "C:\\Users\\jeff1\\Anaconda3\\lib\\site-packages\\statsmodels\\tsa\\base\\tsa_model.py:221: ValueWarning: An unsupported index was provided and will be ignored when e.g. forecasting.\n",
      "  ' ignored when e.g. forecasting.', ValueWarning)\n"
     ]
    },
    {
     "name": "stdout",
     "output_type": "stream",
     "text": [
      "predictions: [array([374141.29401708]), array([389995.74669871]), array([392678.99646778]), array([395644.84865511]), array([397519.59397812])]\n",
      "delta: 0, p: nan\n",
      "delta: 1, p: 0.45604621697144065\n",
      "delta: 2, p: 0.5595583318564865\n",
      "delta: 3, p: 0.39095170865398454\n",
      "delta: 4, p: 0.43937366746063894\n",
      "delta: 5, p: 0.2802444738256271\n",
      "delta: 6, p: 0.2657972004602813\n",
      "delta: 7, p: 0.05497376416732651\n",
      "delta: 8, p: 0.0934781414119758\n",
      "delta: 9, p: 0.7467598120221781\n",
      "delta: 0, p: nan\n",
      "bad condition 0: stationarity not adequate\n",
      "delta: 1, p: 0.45604621697144065\n"
     ]
    },
    {
     "name": "stderr",
     "output_type": "stream",
     "text": [
      "C:\\Users\\jeff1\\Anaconda3\\lib\\site-packages\\statsmodels\\tsa\\base\\tsa_model.py:221: ValueWarning: An unsupported index was provided and will be ignored when e.g. forecasting.\n",
      "  ' ignored when e.g. forecasting.', ValueWarning)\n",
      "C:\\Users\\jeff1\\Anaconda3\\lib\\site-packages\\statsmodels\\tsa\\base\\tsa_model.py:221: ValueWarning: An unsupported index was provided and will be ignored when e.g. forecasting.\n",
      "  ' ignored when e.g. forecasting.', ValueWarning)\n"
     ]
    },
    {
     "name": "stdout",
     "output_type": "stream",
     "text": [
      "predictions: [array([374141.29401708]), array([389995.74669871]), array([392678.99646778]), array([395644.84865511]), array([397519.59397812]), array([403244.49082736])]\n",
      "delta: 0, p: nan\n",
      "delta: 1, p: 0.45965435475288435\n",
      "delta: 2, p: 0.5714087410845506\n",
      "delta: 3, p: 0.4121599829003946\n",
      "delta: 4, p: 0.4680707687330004\n",
      "delta: 5, p: 0.2599391639445173\n",
      "delta: 6, p: 0.3139178707107966\n",
      "delta: 7, p: 0.04693145410052501\n"
     ]
    },
    {
     "name": "stderr",
     "output_type": "stream",
     "text": [
      "C:\\Users\\jeff1\\Anaconda3\\lib\\site-packages\\statsmodels\\tsa\\base\\tsa_model.py:221: ValueWarning: An unsupported index was provided and will be ignored when e.g. forecasting.\n",
      "  ' ignored when e.g. forecasting.', ValueWarning)\n"
     ]
    },
    {
     "name": "stdout",
     "output_type": "stream",
     "text": [
      "predictions: [array([374141.29401708]), array([389995.74669871]), array([392678.99646778]), array([395644.84865511]), array([397519.59397812]), array([403244.49082736]), array([403732.80448198])]\n",
      "delta: 0, p: nan\n",
      "delta: 1, p: 0.23454149372759137\n",
      "delta: 2, p: 0.09012116820189392\n",
      "delta: 3, p: 0.0651054083951759\n",
      "delta: 4, p: 0.19476808156300124\n",
      "delta: 5, p: 0.06669612874781149\n",
      "delta: 6, p: 0.10835740109119762\n",
      "delta: 7, p: 0.009550365858153137\n"
     ]
    },
    {
     "name": "stderr",
     "output_type": "stream",
     "text": [
      "C:\\Users\\jeff1\\Anaconda3\\lib\\site-packages\\statsmodels\\tsa\\base\\tsa_model.py:221: ValueWarning: An unsupported index was provided and will be ignored when e.g. forecasting.\n",
      "  ' ignored when e.g. forecasting.', ValueWarning)\n"
     ]
    },
    {
     "name": "stdout",
     "output_type": "stream",
     "text": [
      "predictions: [array([331412.20884028])]\n",
      "delta: 0, p: nan\n",
      "delta: 1, p: 0.43007009525894424\n",
      "delta: 2, p: 0.5016639203195662\n",
      "delta: 3, p: 0.7012853629754362\n",
      "delta: 4, p: 0.0\n"
     ]
    },
    {
     "name": "stderr",
     "output_type": "stream",
     "text": [
      "C:\\Users\\jeff1\\Anaconda3\\lib\\site-packages\\statsmodels\\tsa\\base\\tsa_model.py:221: ValueWarning: An unsupported index was provided and will be ignored when e.g. forecasting.\n",
      "  ' ignored when e.g. forecasting.', ValueWarning)\n"
     ]
    },
    {
     "name": "stdout",
     "output_type": "stream",
     "text": [
      "predictions: [array([331412.20884028]), array([375772.44517182])]\n",
      "delta: 0, p: nan\n",
      "delta: 1, p: 0.4696045990918004\n",
      "delta: 2, p: 0.29598218603291687\n",
      "delta: 3, p: 0.0316434820472937\n"
     ]
    },
    {
     "name": "stderr",
     "output_type": "stream",
     "text": [
      "C:\\Users\\jeff1\\Anaconda3\\lib\\site-packages\\statsmodels\\tsa\\base\\tsa_model.py:221: ValueWarning: An unsupported index was provided and will be ignored when e.g. forecasting.\n",
      "  ' ignored when e.g. forecasting.', ValueWarning)\n"
     ]
    },
    {
     "name": "stdout",
     "output_type": "stream",
     "text": [
      "predictions: [array([331412.20884028]), array([375772.44517182]), array([386661.35516055])]\n",
      "delta: 0, p: nan\n",
      "delta: 1, p: 0.006638635333141938\n"
     ]
    },
    {
     "name": "stderr",
     "output_type": "stream",
     "text": [
      "C:\\Users\\jeff1\\Anaconda3\\lib\\site-packages\\statsmodels\\tsa\\base\\tsa_model.py:221: ValueWarning: An unsupported index was provided and will be ignored when e.g. forecasting.\n",
      "  ' ignored when e.g. forecasting.', ValueWarning)\n"
     ]
    },
    {
     "name": "stdout",
     "output_type": "stream",
     "text": [
      "predictions: [array([331412.20884028]), array([375772.44517182]), array([386661.35516055]), array([405605.97720093])]\n",
      "delta: 0, p: nan\n",
      "delta: 1, p: 0.3970718571701886\n",
      "delta: 2, p: 0.03913514974515142\n"
     ]
    },
    {
     "name": "stderr",
     "output_type": "stream",
     "text": [
      "C:\\Users\\jeff1\\Anaconda3\\lib\\site-packages\\statsmodels\\tsa\\base\\tsa_model.py:221: ValueWarning: An unsupported index was provided and will be ignored when e.g. forecasting.\n",
      "  ' ignored when e.g. forecasting.', ValueWarning)\n"
     ]
    },
    {
     "name": "stdout",
     "output_type": "stream",
     "text": [
      "predictions: [array([331412.20884028]), array([375772.44517182]), array([386661.35516055]), array([405605.97720093]), array([426216.12460831])]\n",
      "delta: 0, p: nan\n",
      "delta: 1, p: 0.3936179097096545\n",
      "delta: 2, p: 1.2350496850415333e-10\n"
     ]
    },
    {
     "name": "stderr",
     "output_type": "stream",
     "text": [
      "C:\\Users\\jeff1\\Anaconda3\\lib\\site-packages\\statsmodels\\tsa\\base\\tsa_model.py:221: ValueWarning: An unsupported index was provided and will be ignored when e.g. forecasting.\n",
      "  ' ignored when e.g. forecasting.', ValueWarning)\n"
     ]
    },
    {
     "name": "stdout",
     "output_type": "stream",
     "text": [
      "predictions: [array([331412.20884028]), array([375772.44517182]), array([386661.35516055]), array([405605.97720093]), array([426216.12460831]), array([388078.52619511])]\n",
      "delta: 0, p: nan\n",
      "delta: 1, p: 0.259756960537856\n",
      "delta: 2, p: 0.2796711626462174\n",
      "delta: 3, p: 0.5615861326611309\n",
      "delta: 4, p: 2.2163447853187414e-07\n"
     ]
    },
    {
     "name": "stderr",
     "output_type": "stream",
     "text": [
      "C:\\Users\\jeff1\\Anaconda3\\lib\\site-packages\\statsmodels\\tsa\\base\\tsa_model.py:221: ValueWarning: An unsupported index was provided and will be ignored when e.g. forecasting.\n",
      "  ' ignored when e.g. forecasting.', ValueWarning)\n"
     ]
    },
    {
     "name": "stdout",
     "output_type": "stream",
     "text": [
      "predictions: [array([331412.20884028]), array([375772.44517182]), array([386661.35516055]), array([405605.97720093]), array([426216.12460831]), array([388078.52619511]), array([397936.93177784])]\n",
      "delta: 0, p: nan\n",
      "delta: 1, p: 0.45782046669965354\n",
      "delta: 2, p: 0.28950516391571945\n",
      "delta: 3, p: 0.17188402667942\n",
      "delta: 4, p: 0.3179396570477561\n",
      "delta: 5, p: 0.048256333123571346\n"
     ]
    },
    {
     "name": "stderr",
     "output_type": "stream",
     "text": [
      "C:\\Users\\jeff1\\Anaconda3\\lib\\site-packages\\statsmodels\\tsa\\base\\tsa_model.py:221: ValueWarning: An unsupported index was provided and will be ignored when e.g. forecasting.\n",
      "  ' ignored when e.g. forecasting.', ValueWarning)\n"
     ]
    },
    {
     "name": "stdout",
     "output_type": "stream",
     "text": [
      "predictions: [array([277579.0957258])]\n",
      "delta: 0, p: nan\n",
      "delta: 1, p: 0.8456229203495094\n",
      "delta: 2, p: 0.8139088478561671\n",
      "delta: 3, p: 0.8250172338545882\n",
      "delta: 4, p: 0.0\n"
     ]
    },
    {
     "name": "stderr",
     "output_type": "stream",
     "text": [
      "C:\\Users\\jeff1\\Anaconda3\\lib\\site-packages\\statsmodels\\tsa\\base\\tsa_model.py:221: ValueWarning: An unsupported index was provided and will be ignored when e.g. forecasting.\n",
      "  ' ignored when e.g. forecasting.', ValueWarning)\n"
     ]
    },
    {
     "name": "stdout",
     "output_type": "stream",
     "text": [
      "predictions: [array([277579.0957258]), array([345413.99941784])]\n",
      "delta: 0, p: nan\n",
      "delta: 1, p: 0.62745224877672\n",
      "delta: 2, p: 0.0\n"
     ]
    },
    {
     "name": "stderr",
     "output_type": "stream",
     "text": [
      "C:\\Users\\jeff1\\Anaconda3\\lib\\site-packages\\statsmodels\\tsa\\base\\tsa_model.py:221: ValueWarning: An unsupported index was provided and will be ignored when e.g. forecasting.\n",
      "  ' ignored when e.g. forecasting.', ValueWarning)\n"
     ]
    },
    {
     "name": "stdout",
     "output_type": "stream",
     "text": [
      "predictions: [array([277579.0957258]), array([345413.99941784]), array([405813.82197565])]\n",
      "delta: 0, p: nan\n",
      "delta: 1, p: 3.989149041970013e-28\n"
     ]
    },
    {
     "name": "stderr",
     "output_type": "stream",
     "text": [
      "C:\\Users\\jeff1\\Anaconda3\\lib\\site-packages\\statsmodels\\tsa\\base\\tsa_model.py:221: ValueWarning: An unsupported index was provided and will be ignored when e.g. forecasting.\n",
      "  ' ignored when e.g. forecasting.', ValueWarning)\n"
     ]
    },
    {
     "name": "stdout",
     "output_type": "stream",
     "text": [
      "bad condition 1: stationarity not adequate\n",
      "delta: 2, p: 4.909869505135692e-24\n"
     ]
    },
    {
     "name": "stderr",
     "output_type": "stream",
     "text": [
      "C:\\Users\\jeff1\\Anaconda3\\lib\\site-packages\\statsmodels\\tsa\\base\\tsa_model.py:221: ValueWarning: An unsupported index was provided and will be ignored when e.g. forecasting.\n",
      "  ' ignored when e.g. forecasting.', ValueWarning)\n",
      "C:\\Users\\jeff1\\Anaconda3\\lib\\site-packages\\statsmodels\\base\\model.py:488: HessianInversionWarning: Inverting hessian failed, no bse or cov_params available\n",
      "  'available', HessianInversionWarning)\n",
      "C:\\Users\\jeff1\\Anaconda3\\lib\\site-packages\\statsmodels\\tsa\\base\\tsa_model.py:221: ValueWarning: An unsupported index was provided and will be ignored when e.g. forecasting.\n",
      "  ' ignored when e.g. forecasting.', ValueWarning)\n"
     ]
    },
    {
     "name": "stdout",
     "output_type": "stream",
     "text": [
      "predictions: [array([277579.0957258]), array([345413.99941784]), array([405813.82197565]), array([377178.32726002])]\n",
      "delta: 0, p: nan\n",
      "delta: 1, p: 3.699077369395487e-28\n",
      "predictions: [array([277579.0957258]), array([345413.99941784]), array([405813.82197565]), array([377178.32726002]), array([413239.36705411])]\n",
      "delta: 0, p: nan\n",
      "delta: 1, p: 3.3918509662494667e-28\n"
     ]
    },
    {
     "name": "stderr",
     "output_type": "stream",
     "text": [
      "C:\\Users\\jeff1\\Anaconda3\\lib\\site-packages\\statsmodels\\tsa\\base\\tsa_model.py:221: ValueWarning: An unsupported index was provided and will be ignored when e.g. forecasting.\n",
      "  ' ignored when e.g. forecasting.', ValueWarning)\n"
     ]
    },
    {
     "name": "stdout",
     "output_type": "stream",
     "text": [
      "predictions: [array([277579.0957258]), array([345413.99941784]), array([405813.82197565]), array([377178.32726002]), array([413239.36705411]), array([440758.82063319])]\n",
      "delta: 0, p: nan\n",
      "delta: 1, p: 3.110756232575304e-28\n",
      "predictions: [array([277579.0957258]), array([345413.99941784]), array([405813.82197565]), array([377178.32726002]), array([413239.36705411]), array([440758.82063319]), array([403540.87971917])]\n"
     ]
    },
    {
     "name": "stderr",
     "output_type": "stream",
     "text": [
      "C:\\Users\\jeff1\\Anaconda3\\lib\\site-packages\\statsmodels\\tsa\\base\\tsa_model.py:221: ValueWarning: An unsupported index was provided and will be ignored when e.g. forecasting.\n",
      "  ' ignored when e.g. forecasting.', ValueWarning)\n"
     ]
    },
    {
     "name": "stdout",
     "output_type": "stream",
     "text": [
      "delta: 0, p: nan\n",
      "delta: 1, p: 0.41083719359754894\n",
      "delta: 2, p: 0.1550928267814699\n",
      "delta: 3, p: 0.13892528912188884\n",
      "delta: 4, p: 0.4052149659951143\n",
      "delta: 5, p: 0.16265748859888846\n",
      "delta: 6, p: 0.2231823964126528\n",
      "delta: 7, p: 0.011495031395188161\n"
     ]
    },
    {
     "name": "stderr",
     "output_type": "stream",
     "text": [
      "C:\\Users\\jeff1\\Anaconda3\\lib\\site-packages\\statsmodels\\tsa\\base\\tsa_model.py:221: ValueWarning: An unsupported index was provided and will be ignored when e.g. forecasting.\n",
      "  ' ignored when e.g. forecasting.', ValueWarning)\n"
     ]
    },
    {
     "name": "stdout",
     "output_type": "stream",
     "text": [
      "predictions: [array([319694.99815136])]\n",
      "delta: 0, p: nan\n",
      "delta: 1, p: 0.9286723575260523\n",
      "delta: 2, p: 0.9889332425041144\n",
      "delta: 3, p: 0.9880586426963349\n",
      "delta: 4, p: 0.9708000323127933\n",
      "delta: 5, p: 3.0164135452191175e-18\n"
     ]
    },
    {
     "name": "stderr",
     "output_type": "stream",
     "text": [
      "C:\\Users\\jeff1\\Anaconda3\\lib\\site-packages\\statsmodels\\tsa\\base\\tsa_model.py:221: ValueWarning: An unsupported index was provided and will be ignored when e.g. forecasting.\n",
      "  ' ignored when e.g. forecasting.', ValueWarning)\n",
      "C:\\Users\\jeff1\\Anaconda3\\lib\\site-packages\\statsmodels\\base\\model.py:488: HessianInversionWarning: Inverting hessian failed, no bse or cov_params available\n",
      "  'available', HessianInversionWarning)\n",
      "C:\\Users\\jeff1\\Anaconda3\\lib\\site-packages\\statsmodels\\base\\model.py:508: ConvergenceWarning: Maximum Likelihood optimization failed to converge. Check mle_retvals\n",
      "  \"Check mle_retvals\", ConvergenceWarning)\n",
      "C:\\Users\\jeff1\\Anaconda3\\lib\\site-packages\\statsmodels\\tsa\\base\\tsa_model.py:221: ValueWarning: An unsupported index was provided and will be ignored when e.g. forecasting.\n",
      "  ' ignored when e.g. forecasting.', ValueWarning)\n"
     ]
    },
    {
     "name": "stdout",
     "output_type": "stream",
     "text": [
      "predictions: [array([319694.99815136]), array([375174.53062625])]\n",
      "delta: 0, p: nan\n",
      "delta: 1, p: 0.9819841935344494\n",
      "delta: 2, p: 0.906172405314675\n",
      "delta: 3, p: 5.878029146878106e-26\n",
      "predictions: [array([319694.99815136]), array([375174.53062625]), array([386251.46857235])]\n",
      "delta: 0, p: nan\n",
      "delta: 1, p: 0.9533488204612185\n",
      "delta: 2, p: 0.8548259652570498\n",
      "delta: 3, p: 3.1679050115384e-25\n"
     ]
    },
    {
     "name": "stderr",
     "output_type": "stream",
     "text": [
      "C:\\Users\\jeff1\\Anaconda3\\lib\\site-packages\\statsmodels\\tsa\\base\\tsa_model.py:221: ValueWarning: An unsupported index was provided and will be ignored when e.g. forecasting.\n",
      "  ' ignored when e.g. forecasting.', ValueWarning)\n"
     ]
    },
    {
     "name": "stdout",
     "output_type": "stream",
     "text": [
      "predictions: [array([319694.99815136]), array([375174.53062625]), array([386251.46857235]), array([451024.09196605])]\n",
      "delta: 0, p: nan\n",
      "delta: 1, p: 0.9233940936786774\n",
      "delta: 2, p: 0.6067431849699382\n",
      "delta: 3, p: 0.5866562070441212\n",
      "delta: 4, p: 6.854943881143049e-17\n"
     ]
    },
    {
     "name": "stderr",
     "output_type": "stream",
     "text": [
      "C:\\Users\\jeff1\\Anaconda3\\lib\\site-packages\\statsmodels\\tsa\\base\\tsa_model.py:221: ValueWarning: An unsupported index was provided and will be ignored when e.g. forecasting.\n",
      "  ' ignored when e.g. forecasting.', ValueWarning)\n"
     ]
    },
    {
     "name": "stdout",
     "output_type": "stream",
     "text": [
      "predictions: [array([319694.99815136]), array([375174.53062625]), array([386251.46857235]), array([451024.09196605]), array([446374.02327552])]\n",
      "delta: 0, p: nan\n",
      "delta: 1, p: 0.8394640483974131\n",
      "delta: 2, p: 0.7800454159179478\n",
      "delta: 3, p: 0.683871155319602\n",
      "delta: 4, p: 1.1569282805287214e-08\n"
     ]
    },
    {
     "name": "stderr",
     "output_type": "stream",
     "text": [
      "C:\\Users\\jeff1\\Anaconda3\\lib\\site-packages\\statsmodels\\tsa\\base\\tsa_model.py:221: ValueWarning: An unsupported index was provided and will be ignored when e.g. forecasting.\n",
      "  ' ignored when e.g. forecasting.', ValueWarning)\n"
     ]
    },
    {
     "name": "stdout",
     "output_type": "stream",
     "text": [
      "predictions: [array([319694.99815136]), array([375174.53062625]), array([386251.46857235]), array([451024.09196605]), array([446374.02327552]), array([394027.5801984])]\n",
      "delta: 0, p: nan\n",
      "delta: 1, p: 0.6584759155246578\n",
      "delta: 2, p: 0.8229722628857739\n",
      "delta: 3, p: 0.8564332527796625\n",
      "delta: 4, p: 2.597231542213692e-07\n"
     ]
    },
    {
     "name": "stderr",
     "output_type": "stream",
     "text": [
      "C:\\Users\\jeff1\\Anaconda3\\lib\\site-packages\\statsmodels\\tsa\\base\\tsa_model.py:221: ValueWarning: An unsupported index was provided and will be ignored when e.g. forecasting.\n",
      "  ' ignored when e.g. forecasting.', ValueWarning)\n"
     ]
    },
    {
     "name": "stdout",
     "output_type": "stream",
     "text": [
      "predictions: [array([319694.99815136]), array([375174.53062625]), array([386251.46857235]), array([451024.09196605]), array([446374.02327552]), array([394027.5801984]), array([397202.85452741])]\n",
      "delta: 0, p: nan\n",
      "delta: 1, p: 0.41374660329539825\n",
      "delta: 2, p: 0.2537124224397319\n",
      "delta: 3, p: 0.22435255737465432\n",
      "delta: 4, p: 0.47036654798733457\n",
      "delta: 5, p: 0.2741392171729533\n",
      "delta: 6, p: 0.3552509370586404\n",
      "delta: 7, p: 0.028575136685107028\n"
     ]
    },
    {
     "name": "stderr",
     "output_type": "stream",
     "text": [
      "C:\\Users\\jeff1\\Anaconda3\\lib\\site-packages\\statsmodels\\tsa\\base\\tsa_model.py:221: ValueWarning: An unsupported index was provided and will be ignored when e.g. forecasting.\n",
      "  ' ignored when e.g. forecasting.', ValueWarning)\n"
     ]
    },
    {
     "name": "stdout",
     "output_type": "stream",
     "text": [
      "predictions: [array([280521.1754056])]\n",
      "delta: 0, p: nan\n",
      "delta: 1, p: 0.8774736764388638\n",
      "delta: 2, p: 0.874410201368157\n",
      "delta: 3, p: 0.6491989941038889\n",
      "delta: 4, p: 0.8156240111533467\n",
      "delta: 5, p: 7.884946793171878e-15\n"
     ]
    },
    {
     "name": "stderr",
     "output_type": "stream",
     "text": [
      "C:\\Users\\jeff1\\Anaconda3\\lib\\site-packages\\statsmodels\\tsa\\base\\tsa_model.py:221: ValueWarning: An unsupported index was provided and will be ignored when e.g. forecasting.\n",
      "  ' ignored when e.g. forecasting.', ValueWarning)\n"
     ]
    },
    {
     "name": "stdout",
     "output_type": "stream",
     "text": [
      "predictions: [array([280521.1754056]), array([348629.72177841])]\n",
      "delta: 0, p: nan\n",
      "delta: 1, p: 0.9392724768878429\n",
      "delta: 2, p: 0.8972858836694289\n",
      "delta: 3, p: 0.4765978538132179\n",
      "delta: 4, p: 0.9112929517190755\n",
      "delta: 5, p: 4.846937895669886e-09\n"
     ]
    },
    {
     "name": "stderr",
     "output_type": "stream",
     "text": [
      "C:\\Users\\jeff1\\Anaconda3\\lib\\site-packages\\statsmodels\\tsa\\base\\tsa_model.py:221: ValueWarning: An unsupported index was provided and will be ignored when e.g. forecasting.\n",
      "  ' ignored when e.g. forecasting.', ValueWarning)\n"
     ]
    },
    {
     "name": "stdout",
     "output_type": "stream",
     "text": [
      "predictions: [array([280521.1754056]), array([348629.72177841]), array([350410.37355128])]\n",
      "delta: 0, p: nan\n",
      "delta: 1, p: 0.9292052217584539\n",
      "delta: 2, p: 0.8581453709381195\n",
      "delta: 3, p: 0.5607028782782517\n",
      "delta: 4, p: 0.8472634423700595\n",
      "delta: 5, p: 3.80423477246027e-07\n"
     ]
    },
    {
     "name": "stderr",
     "output_type": "stream",
     "text": [
      "C:\\Users\\jeff1\\Anaconda3\\lib\\site-packages\\statsmodels\\tsa\\base\\tsa_model.py:221: ValueWarning: An unsupported index was provided and will be ignored when e.g. forecasting.\n",
      "  ' ignored when e.g. forecasting.', ValueWarning)\n",
      "C:\\Users\\jeff1\\Anaconda3\\lib\\site-packages\\statsmodels\\base\\model.py:488: HessianInversionWarning: Inverting hessian failed, no bse or cov_params available\n",
      "  'available', HessianInversionWarning)\n",
      "C:\\Users\\jeff1\\Anaconda3\\lib\\site-packages\\statsmodels\\tsa\\base\\tsa_model.py:221: ValueWarning: An unsupported index was provided and will be ignored when e.g. forecasting.\n",
      "  ' ignored when e.g. forecasting.', ValueWarning)\n"
     ]
    },
    {
     "name": "stdout",
     "output_type": "stream",
     "text": [
      "predictions: [array([280521.1754056]), array([348629.72177841]), array([350410.37355128]), array([356054.49915331])]\n",
      "delta: 0, p: nan\n",
      "delta: 1, p: 0.9262871018544595\n",
      "delta: 2, p: 0.7829214192482906\n",
      "delta: 3, p: 6.491906535529012e-21\n",
      "bad condition 3: stationarity not adequate\n",
      "delta: 4, p: 0.8984093585056625\n",
      "delta: 5, p: 2.1175039259953114e-11\n"
     ]
    },
    {
     "name": "stderr",
     "output_type": "stream",
     "text": [
      "C:\\Users\\jeff1\\Anaconda3\\lib\\site-packages\\statsmodels\\tsa\\base\\tsa_model.py:221: ValueWarning: An unsupported index was provided and will be ignored when e.g. forecasting.\n",
      "  ' ignored when e.g. forecasting.', ValueWarning)\n"
     ]
    },
    {
     "name": "stdout",
     "output_type": "stream",
     "text": [
      "predictions: [array([280521.1754056]), array([348629.72177841]), array([350410.37355128]), array([356054.49915331]), array([358665.30754507])]\n",
      "delta: 0, p: nan\n",
      "delta: 1, p: 0.935478707295829\n",
      "delta: 2, p: 0.8277086510950723\n",
      "delta: 3, p: 0.9345700134010841\n",
      "delta: 4, p: 8.448229816541081e-08\n"
     ]
    },
    {
     "name": "stderr",
     "output_type": "stream",
     "text": [
      "C:\\Users\\jeff1\\Anaconda3\\lib\\site-packages\\statsmodels\\tsa\\base\\tsa_model.py:221: ValueWarning: An unsupported index was provided and will be ignored when e.g. forecasting.\n",
      "  ' ignored when e.g. forecasting.', ValueWarning)\n"
     ]
    },
    {
     "name": "stdout",
     "output_type": "stream",
     "text": [
      "predictions: [array([280521.1754056]), array([348629.72177841]), array([350410.37355128]), array([356054.49915331]), array([358665.30754507]), array([382897.41858943])]\n",
      "delta: 0, p: nan\n",
      "delta: 1, p: 0.9609530214656125\n",
      "delta: 2, p: 1.3322154807941065e-09\n"
     ]
    },
    {
     "name": "stderr",
     "output_type": "stream",
     "text": [
      "C:\\Users\\jeff1\\Anaconda3\\lib\\site-packages\\statsmodels\\tsa\\base\\tsa_model.py:221: ValueWarning: An unsupported index was provided and will be ignored when e.g. forecasting.\n",
      "  ' ignored when e.g. forecasting.', ValueWarning)\n"
     ]
    },
    {
     "name": "stdout",
     "output_type": "stream",
     "text": [
      "predictions: [array([280521.1754056]), array([348629.72177841]), array([350410.37355128]), array([356054.49915331]), array([358665.30754507]), array([382897.41858943]), array([458659.37493876])]\n",
      "delta: 0, p: nan\n",
      "delta: 1, p: 0.42438870452794075\n",
      "delta: 2, p: 0.3540862999189827\n",
      "delta: 3, p: 0.3629328368126632\n",
      "delta: 4, p: 0.11881935312197878\n",
      "delta: 5, p: 0.17397960143189295\n",
      "delta: 6, p: 0.21071905210747277\n",
      "delta: 7, p: 0.0014416120983828647\n"
     ]
    },
    {
     "name": "stderr",
     "output_type": "stream",
     "text": [
      "C:\\Users\\jeff1\\Anaconda3\\lib\\site-packages\\statsmodels\\tsa\\base\\tsa_model.py:221: ValueWarning: An unsupported index was provided and will be ignored when e.g. forecasting.\n",
      "  ' ignored when e.g. forecasting.', ValueWarning)\n"
     ]
    },
    {
     "name": "stdout",
     "output_type": "stream",
     "text": [
      "predictions: [array([275674.61449818])]\n",
      "delta: 0, p: nan\n",
      "delta: 1, p: 0.924072620081426\n",
      "delta: 2, p: 0.8638817779968038\n",
      "delta: 3, p: 0.7616797524939164\n",
      "delta: 4, p: 0.7499730325765707\n",
      "delta: 5, p: 0.0\n"
     ]
    },
    {
     "name": "stderr",
     "output_type": "stream",
     "text": [
      "C:\\Users\\jeff1\\Anaconda3\\lib\\site-packages\\statsmodels\\tsa\\base\\tsa_model.py:221: ValueWarning: An unsupported index was provided and will be ignored when e.g. forecasting.\n",
      "  ' ignored when e.g. forecasting.', ValueWarning)\n"
     ]
    },
    {
     "name": "stdout",
     "output_type": "stream",
     "text": [
      "predictions: [array([275674.61449818]), array([342435.05711507])]\n",
      "delta: 0, p: nan\n",
      "delta: 1, p: 0.7321568974628133\n",
      "delta: 2, p: 0.7449655200368005\n",
      "delta: 3, p: 0.8317552857723524\n",
      "delta: 4, p: 0.898128954785613\n",
      "delta: 5, p: 0.0\n"
     ]
    },
    {
     "name": "stderr",
     "output_type": "stream",
     "text": [
      "C:\\Users\\jeff1\\Anaconda3\\lib\\site-packages\\statsmodels\\tsa\\base\\tsa_model.py:221: ValueWarning: An unsupported index was provided and will be ignored when e.g. forecasting.\n",
      "  ' ignored when e.g. forecasting.', ValueWarning)\n"
     ]
    },
    {
     "name": "stdout",
     "output_type": "stream",
     "text": [
      "predictions: [array([275674.61449818]), array([342435.05711507]), array([343301.78599136])]\n",
      "delta: 0, p: nan\n",
      "delta: 1, p: 6.923175935661555e-28\n"
     ]
    },
    {
     "name": "stderr",
     "output_type": "stream",
     "text": [
      "C:\\Users\\jeff1\\Anaconda3\\lib\\site-packages\\statsmodels\\tsa\\base\\tsa_model.py:221: ValueWarning: An unsupported index was provided and will be ignored when e.g. forecasting.\n",
      "  ' ignored when e.g. forecasting.', ValueWarning)\n"
     ]
    },
    {
     "name": "stdout",
     "output_type": "stream",
     "text": [
      "bad condition 1: stationarity not adequate\n",
      "delta: 2, p: 1.6490679864828304e-24\n"
     ]
    },
    {
     "name": "stderr",
     "output_type": "stream",
     "text": [
      "C:\\Users\\jeff1\\Anaconda3\\lib\\site-packages\\statsmodels\\tsa\\base\\tsa_model.py:221: ValueWarning: An unsupported index was provided and will be ignored when e.g. forecasting.\n",
      "  ' ignored when e.g. forecasting.', ValueWarning)\n"
     ]
    },
    {
     "name": "stdout",
     "output_type": "stream",
     "text": [
      "predictions: [array([275674.61449818]), array([342435.05711507]), array([343301.78599136]), array([367659.99930004])]\n",
      "delta: 0, p: nan\n",
      "delta: 1, p: 6.398861436404236e-28\n"
     ]
    },
    {
     "name": "stderr",
     "output_type": "stream",
     "text": [
      "C:\\Users\\jeff1\\Anaconda3\\lib\\site-packages\\statsmodels\\tsa\\base\\tsa_model.py:221: ValueWarning: An unsupported index was provided and will be ignored when e.g. forecasting.\n",
      "  ' ignored when e.g. forecasting.', ValueWarning)\n"
     ]
    },
    {
     "name": "stdout",
     "output_type": "stream",
     "text": [
      "bad condition 1: stationarity not adequate\n",
      "delta: 2, p: 0.284670933624522\n",
      "delta: 3, p: 2.164793980533002e-12\n"
     ]
    },
    {
     "name": "stderr",
     "output_type": "stream",
     "text": [
      "C:\\Users\\jeff1\\Anaconda3\\lib\\site-packages\\statsmodels\\tsa\\base\\tsa_model.py:221: ValueWarning: An unsupported index was provided and will be ignored when e.g. forecasting.\n",
      "  ' ignored when e.g. forecasting.', ValueWarning)\n",
      "C:\\Users\\jeff1\\Anaconda3\\lib\\site-packages\\statsmodels\\base\\model.py:488: HessianInversionWarning: Inverting hessian failed, no bse or cov_params available\n",
      "  'available', HessianInversionWarning)\n",
      "C:\\Users\\jeff1\\Anaconda3\\lib\\site-packages\\statsmodels\\tsa\\base\\tsa_model.py:221: ValueWarning: An unsupported index was provided and will be ignored when e.g. forecasting.\n",
      "  ' ignored when e.g. forecasting.', ValueWarning)\n"
     ]
    },
    {
     "name": "stdout",
     "output_type": "stream",
     "text": [
      "predictions: [array([275674.61449818]), array([342435.05711507]), array([343301.78599136]), array([367659.99930004]), array([367943.00200416])]\n",
      "delta: 0, p: nan\n",
      "delta: 1, p: 5.849105870150985e-28\n",
      "predictions: [array([275674.61449818]), array([342435.05711507]), array([343301.78599136]), array([367659.99930004]), array([367943.00200416]), array([435793.85620943])]\n",
      "delta: 0, p: nan\n",
      "delta: 1, p: 5.347793532928704e-28\n"
     ]
    },
    {
     "name": "stderr",
     "output_type": "stream",
     "text": [
      "C:\\Users\\jeff1\\Anaconda3\\lib\\site-packages\\statsmodels\\tsa\\base\\tsa_model.py:221: ValueWarning: An unsupported index was provided and will be ignored when e.g. forecasting.\n",
      "  ' ignored when e.g. forecasting.', ValueWarning)\n"
     ]
    },
    {
     "name": "stdout",
     "output_type": "stream",
     "text": [
      "predictions: [array([275674.61449818]), array([342435.05711507]), array([343301.78599136]), array([367659.99930004]), array([367943.00200416]), array([435793.85620943]), array([403481.02790372])]\n",
      "delta: 0, p: nan\n",
      "delta: 1, p: 0.01881690684515994\n"
     ]
    },
    {
     "name": "stderr",
     "output_type": "stream",
     "text": [
      "C:\\Users\\jeff1\\Anaconda3\\lib\\site-packages\\statsmodels\\tsa\\base\\tsa_model.py:221: ValueWarning: An unsupported index was provided and will be ignored when e.g. forecasting.\n",
      "  ' ignored when e.g. forecasting.', ValueWarning)\n"
     ]
    },
    {
     "name": "stdout",
     "output_type": "stream",
     "text": [
      "predictions: [array([267503.41445379])]\n",
      "delta: 0, p: nan\n",
      "delta: 1, p: 2.8118580230897507e-22\n"
     ]
    },
    {
     "name": "stderr",
     "output_type": "stream",
     "text": [
      "C:\\Users\\jeff1\\Anaconda3\\lib\\site-packages\\statsmodels\\tsa\\base\\tsa_model.py:221: ValueWarning: An unsupported index was provided and will be ignored when e.g. forecasting.\n",
      "  ' ignored when e.g. forecasting.', ValueWarning)\n"
     ]
    },
    {
     "name": "stdout",
     "output_type": "stream",
     "text": [
      "predictions: [array([267503.41445379]), array([488084.17930672])]\n",
      "delta: 0, p: nan\n",
      "delta: 1, p: 9.067681775444374e-16\n"
     ]
    },
    {
     "name": "stderr",
     "output_type": "stream",
     "text": [
      "C:\\Users\\jeff1\\Anaconda3\\lib\\site-packages\\statsmodels\\tsa\\base\\tsa_model.py:221: ValueWarning: An unsupported index was provided and will be ignored when e.g. forecasting.\n",
      "  ' ignored when e.g. forecasting.', ValueWarning)\n",
      "C:\\Users\\jeff1\\Anaconda3\\lib\\site-packages\\statsmodels\\base\\model.py:488: HessianInversionWarning: Inverting hessian failed, no bse or cov_params available\n",
      "  'available', HessianInversionWarning)\n",
      "C:\\Users\\jeff1\\Anaconda3\\lib\\site-packages\\statsmodels\\tsa\\base\\tsa_model.py:221: ValueWarning: An unsupported index was provided and will be ignored when e.g. forecasting.\n",
      "  ' ignored when e.g. forecasting.', ValueWarning)\n"
     ]
    },
    {
     "name": "stdout",
     "output_type": "stream",
     "text": [
      "predictions: [array([267503.41445379]), array([488084.17930672]), array([432605.78713836])]\n",
      "delta: 0, p: nan\n",
      "delta: 1, p: 0.0\n",
      "predictions: [array([267503.41445379]), array([488084.17930672]), array([432605.78713836]), array([409038.60444408])]\n",
      "delta: 0, p: nan\n",
      "delta: 1, p: 0.0\n"
     ]
    },
    {
     "name": "stderr",
     "output_type": "stream",
     "text": [
      "C:\\Users\\jeff1\\Anaconda3\\lib\\site-packages\\statsmodels\\tsa\\base\\tsa_model.py:221: ValueWarning: An unsupported index was provided and will be ignored when e.g. forecasting.\n",
      "  ' ignored when e.g. forecasting.', ValueWarning)\n"
     ]
    },
    {
     "name": "stdout",
     "output_type": "stream",
     "text": [
      "predictions: [array([267503.41445379]), array([488084.17930672]), array([432605.78713836]), array([409038.60444408]), array([397867.71572188])]\n",
      "delta: 0, p: nan\n",
      "delta: 1, p: 0.0\n"
     ]
    },
    {
     "name": "stderr",
     "output_type": "stream",
     "text": [
      "C:\\Users\\jeff1\\Anaconda3\\lib\\site-packages\\statsmodels\\tsa\\base\\tsa_model.py:221: ValueWarning: An unsupported index was provided and will be ignored when e.g. forecasting.\n",
      "  ' ignored when e.g. forecasting.', ValueWarning)\n"
     ]
    },
    {
     "name": "stdout",
     "output_type": "stream",
     "text": [
      "predictions: [array([267503.41445379]), array([488084.17930672]), array([432605.78713836]), array([409038.60444408]), array([397867.71572188]), array([430366.99464216])]\n",
      "delta: 0, p: nan\n",
      "delta: 1, p: 0.0\n"
     ]
    },
    {
     "name": "stderr",
     "output_type": "stream",
     "text": [
      "C:\\Users\\jeff1\\Anaconda3\\lib\\site-packages\\statsmodels\\tsa\\base\\tsa_model.py:221: ValueWarning: An unsupported index was provided and will be ignored when e.g. forecasting.\n",
      "  ' ignored when e.g. forecasting.', ValueWarning)\n"
     ]
    },
    {
     "name": "stdout",
     "output_type": "stream",
     "text": [
      "predictions: [array([267503.41445379]), array([488084.17930672]), array([432605.78713836]), array([409038.60444408]), array([397867.71572188]), array([430366.99464216]), array([403886.15680035])]\n",
      "delta: 0, p: nan\n",
      "delta: 1, p: 0.34723870056918915\n",
      "delta: 2, p: 0.1706881535796258\n",
      "delta: 3, p: 0.25381208624840207\n",
      "delta: 4, p: 0.17786707323239814\n",
      "delta: 5, p: 0.14672777542344717\n",
      "delta: 6, p: 0.10470517913972993\n",
      "delta: 7, p: 0.03442077831743827\n"
     ]
    },
    {
     "name": "stderr",
     "output_type": "stream",
     "text": [
      "C:\\Users\\jeff1\\Anaconda3\\lib\\site-packages\\statsmodels\\tsa\\base\\tsa_model.py:221: ValueWarning: An unsupported index was provided and will be ignored when e.g. forecasting.\n",
      "  ' ignored when e.g. forecasting.', ValueWarning)\n"
     ]
    },
    {
     "name": "stdout",
     "output_type": "stream",
     "text": [
      "predictions: [array([284582.66704195])]\n",
      "delta: 0, p: nan\n",
      "delta: 1, p: 0.21618328292515743\n",
      "delta: 2, p: 0.038702513749042745\n"
     ]
    },
    {
     "name": "stderr",
     "output_type": "stream",
     "text": [
      "C:\\Users\\jeff1\\Anaconda3\\lib\\site-packages\\statsmodels\\tsa\\base\\tsa_model.py:221: ValueWarning: An unsupported index was provided and will be ignored when e.g. forecasting.\n",
      "  ' ignored when e.g. forecasting.', ValueWarning)\n"
     ]
    },
    {
     "name": "stdout",
     "output_type": "stream",
     "text": [
      "bad condition 2: stationarity not adequate\n",
      "delta: 3, p: 0.2553750322231867\n",
      "delta: 4, p: 0.0\n"
     ]
    },
    {
     "name": "stderr",
     "output_type": "stream",
     "text": [
      "C:\\Users\\jeff1\\Anaconda3\\lib\\site-packages\\statsmodels\\tsa\\base\\tsa_model.py:221: ValueWarning: An unsupported index was provided and will be ignored when e.g. forecasting.\n",
      "  ' ignored when e.g. forecasting.', ValueWarning)\n"
     ]
    },
    {
     "name": "stdout",
     "output_type": "stream",
     "text": [
      "predictions: [array([284582.66704195]), array([350000.74233029])]\n",
      "delta: 0, p: nan\n",
      "delta: 1, p: 1.0819489272489527e-27\n"
     ]
    },
    {
     "name": "stderr",
     "output_type": "stream",
     "text": [
      "C:\\Users\\jeff1\\Anaconda3\\lib\\site-packages\\statsmodels\\tsa\\base\\tsa_model.py:221: ValueWarning: An unsupported index was provided and will be ignored when e.g. forecasting.\n",
      "  ' ignored when e.g. forecasting.', ValueWarning)\n"
     ]
    },
    {
     "name": "stdout",
     "output_type": "stream",
     "text": [
      "bad condition 1: stationarity not adequate\n",
      "delta: 2, p: 0.3556889809186949\n",
      "delta: 3, p: 0.013150841595726345\n"
     ]
    },
    {
     "name": "stderr",
     "output_type": "stream",
     "text": [
      "C:\\Users\\jeff1\\Anaconda3\\lib\\site-packages\\statsmodels\\tsa\\base\\tsa_model.py:221: ValueWarning: An unsupported index was provided and will be ignored when e.g. forecasting.\n",
      "  ' ignored when e.g. forecasting.', ValueWarning)\n"
     ]
    },
    {
     "name": "stdout",
     "output_type": "stream",
     "text": [
      "predictions: [array([284582.66704195]), array([350000.74233029]), array([383888.9167413])]\n",
      "delta: 0, p: nan\n",
      "delta: 1, p: 9.960859636362328e-28\n"
     ]
    },
    {
     "name": "stderr",
     "output_type": "stream",
     "text": [
      "C:\\Users\\jeff1\\Anaconda3\\lib\\site-packages\\statsmodels\\tsa\\base\\tsa_model.py:221: ValueWarning: An unsupported index was provided and will be ignored when e.g. forecasting.\n",
      "  ' ignored when e.g. forecasting.', ValueWarning)\n"
     ]
    },
    {
     "name": "stdout",
     "output_type": "stream",
     "text": [
      "predictions: [array([284582.66704195]), array([350000.74233029]), array([383888.9167413]), array([385657.34690286])]\n",
      "delta: 0, p: nan\n",
      "delta: 1, p: 9.208224052159155e-28\n"
     ]
    },
    {
     "name": "stderr",
     "output_type": "stream",
     "text": [
      "C:\\Users\\jeff1\\Anaconda3\\lib\\site-packages\\statsmodels\\tsa\\base\\tsa_model.py:221: ValueWarning: An unsupported index was provided and will be ignored when e.g. forecasting.\n",
      "  ' ignored when e.g. forecasting.', ValueWarning)\n"
     ]
    },
    {
     "name": "stdout",
     "output_type": "stream",
     "text": [
      "predictions: [array([284582.66704195]), array([350000.74233029]), array([383888.9167413]), array([385657.34690286]), array([398932.71032411])]\n",
      "delta: 0, p: nan\n",
      "delta: 1, p: 8.40190948083176e-28\n"
     ]
    },
    {
     "name": "stderr",
     "output_type": "stream",
     "text": [
      "C:\\Users\\jeff1\\Anaconda3\\lib\\site-packages\\statsmodels\\tsa\\base\\tsa_model.py:221: ValueWarning: An unsupported index was provided and will be ignored when e.g. forecasting.\n",
      "  ' ignored when e.g. forecasting.', ValueWarning)\n"
     ]
    },
    {
     "name": "stdout",
     "output_type": "stream",
     "text": [
      "predictions: [array([284582.66704195]), array([350000.74233029]), array([383888.9167413]), array([385657.34690286]), array([398932.71032411]), array([424868.81497023])]\n",
      "delta: 0, p: nan\n",
      "delta: 1, p: 7.666934379698521e-28\n",
      "predictions: [array([284582.66704195]), array([350000.74233029]), array([383888.9167413]), array([385657.34690286]), array([398932.71032411]), array([424868.81497023]), array([403449.69762281])]\n",
      "delta: 0, p: nan\n"
     ]
    },
    {
     "name": "stderr",
     "output_type": "stream",
     "text": [
      "C:\\Users\\jeff1\\Anaconda3\\lib\\site-packages\\statsmodels\\tsa\\base\\tsa_model.py:221: ValueWarning: An unsupported index was provided and will be ignored when e.g. forecasting.\n",
      "  ' ignored when e.g. forecasting.', ValueWarning)\n"
     ]
    },
    {
     "name": "stdout",
     "output_type": "stream",
     "text": [
      "delta: 1, p: 0.14353161130238612\n",
      "delta: 2, p: 0.06861379450844313\n",
      "delta: 3, p: 0.16910283448230318\n",
      "delta: 4, p: 0.06581528249326753\n",
      "delta: 5, p: 0.13346112559850254\n",
      "delta: 6, p: 0.05714587927136056\n",
      "delta: 7, p: 0.0005869149054271524\n"
     ]
    },
    {
     "name": "stderr",
     "output_type": "stream",
     "text": [
      "C:\\Users\\jeff1\\Anaconda3\\lib\\site-packages\\statsmodels\\tsa\\base\\tsa_model.py:221: ValueWarning: An unsupported index was provided and will be ignored when e.g. forecasting.\n",
      "  ' ignored when e.g. forecasting.', ValueWarning)\n"
     ]
    },
    {
     "name": "stdout",
     "output_type": "stream",
     "text": [
      "predictions: [array([459071.69702725])]\n",
      "delta: 0, p: nan\n",
      "delta: 1, p: 0.9733033658553653\n",
      "delta: 2, p: 0.9370632782719519\n",
      "delta: 3, p: 0.9197594510145146\n",
      "delta: 4, p: 0.9764264321210376\n",
      "delta: 5, p: 0.9426627657935782\n",
      "delta: 6, p: 0.8538240811833139\n",
      "delta: 7, p: 0.8915868077942952\n",
      "delta: 8, p: 0.3975428159998004\n",
      "delta: 9, p: 5.640982664948871e-19\n"
     ]
    },
    {
     "name": "stderr",
     "output_type": "stream",
     "text": [
      "C:\\Users\\jeff1\\Anaconda3\\lib\\site-packages\\statsmodels\\tsa\\base\\tsa_model.py:221: ValueWarning: An unsupported index was provided and will be ignored when e.g. forecasting.\n",
      "  ' ignored when e.g. forecasting.', ValueWarning)\n"
     ]
    },
    {
     "name": "stdout",
     "output_type": "stream",
     "text": [
      "predictions: [array([459071.69702725]), array([415563.80364592])]\n",
      "delta: 0, p: nan\n",
      "delta: 1, p: 2.09212667624609e-20\n"
     ]
    },
    {
     "name": "stderr",
     "output_type": "stream",
     "text": [
      "C:\\Users\\jeff1\\Anaconda3\\lib\\site-packages\\statsmodels\\tsa\\base\\tsa_model.py:221: ValueWarning: An unsupported index was provided and will be ignored when e.g. forecasting.\n",
      "  ' ignored when e.g. forecasting.', ValueWarning)\n",
      "C:\\Users\\jeff1\\Anaconda3\\lib\\site-packages\\statsmodels\\base\\model.py:488: HessianInversionWarning: Inverting hessian failed, no bse or cov_params available\n",
      "  'available', HessianInversionWarning)\n",
      "C:\\Users\\jeff1\\Anaconda3\\lib\\site-packages\\statsmodels\\tsa\\base\\tsa_model.py:221: ValueWarning: An unsupported index was provided and will be ignored when e.g. forecasting.\n",
      "  ' ignored when e.g. forecasting.', ValueWarning)\n"
     ]
    },
    {
     "name": "stdout",
     "output_type": "stream",
     "text": [
      "predictions: [array([459071.69702725]), array([415563.80364592]), array([380175.77575141])]\n",
      "delta: 0, p: nan\n",
      "delta: 1, p: 0.01674704802780919\n"
     ]
    },
    {
     "name": "stderr",
     "output_type": "stream",
     "text": [
      "C:\\Users\\jeff1\\Anaconda3\\lib\\site-packages\\statsmodels\\base\\model.py:488: HessianInversionWarning: Inverting hessian failed, no bse or cov_params available\n",
      "  'available', HessianInversionWarning)\n",
      "C:\\Users\\jeff1\\Anaconda3\\lib\\site-packages\\statsmodels\\base\\model.py:508: ConvergenceWarning: Maximum Likelihood optimization failed to converge. Check mle_retvals\n",
      "  \"Check mle_retvals\", ConvergenceWarning)\n"
     ]
    },
    {
     "name": "stdout",
     "output_type": "stream",
     "text": [
      "predictions: [array([459071.69702725]), array([415563.80364592]), array([380175.77575141]), array([341933.5217946])]\n",
      "delta: 0, p: nan\n",
      "delta: 1, p: 0.1254181336102505\n",
      "delta: 2, p: 0.13352966415585776\n",
      "delta: 3, p: 0.14780248020059988\n",
      "delta: 4, p: 0.23062331405192765\n",
      "delta: 5, p: 0.13135195029255486\n",
      "delta: 6, p: 0.1591184727675714\n",
      "delta: 7, p: 2.7904652386817783e-10\n"
     ]
    },
    {
     "name": "stderr",
     "output_type": "stream",
     "text": [
      "C:\\Users\\jeff1\\Anaconda3\\lib\\site-packages\\statsmodels\\tsa\\base\\tsa_model.py:221: ValueWarning: An unsupported index was provided and will be ignored when e.g. forecasting.\n",
      "  ' ignored when e.g. forecasting.', ValueWarning)\n",
      "C:\\Users\\jeff1\\Anaconda3\\lib\\site-packages\\statsmodels\\base\\model.py:488: HessianInversionWarning: Inverting hessian failed, no bse or cov_params available\n",
      "  'available', HessianInversionWarning)\n",
      "C:\\Users\\jeff1\\Anaconda3\\lib\\site-packages\\statsmodels\\tsa\\base\\tsa_model.py:221: ValueWarning: An unsupported index was provided and will be ignored when e.g. forecasting.\n",
      "  ' ignored when e.g. forecasting.', ValueWarning)\n"
     ]
    },
    {
     "name": "stdout",
     "output_type": "stream",
     "text": [
      "predictions: [array([459071.69702725]), array([415563.80364592]), array([380175.77575141]), array([341933.5217946]), array([389865.02631298])]\n",
      "delta: 0, p: nan\n",
      "delta: 1, p: 0.006369054723302952\n",
      "predictions: [array([459071.69702725]), array([415563.80364592]), array([380175.77575141]), array([341933.5217946]), array([389865.02631298]), array([404478.6210323])]\n",
      "delta: 0, p: nan\n",
      "delta: 1, p: 1.0794931728452167e-05\n"
     ]
    },
    {
     "name": "stderr",
     "output_type": "stream",
     "text": [
      "C:\\Users\\jeff1\\Anaconda3\\lib\\site-packages\\statsmodels\\tsa\\base\\tsa_model.py:221: ValueWarning: An unsupported index was provided and will be ignored when e.g. forecasting.\n",
      "  ' ignored when e.g. forecasting.', ValueWarning)\n"
     ]
    },
    {
     "name": "stdout",
     "output_type": "stream",
     "text": [
      "predictions: [array([459071.69702725]), array([415563.80364592]), array([380175.77575141]), array([341933.5217946]), array([389865.02631298]), array([404478.6210323]), array([404085.26200883])]\n",
      "delta: 0, p: nan\n",
      "delta: 1, p: 0.2714603967978714\n",
      "delta: 2, p: 0.3187604246978328\n",
      "delta: 3, p: 0.36080215387988324\n",
      "delta: 4, p: 0.24222187023836544\n",
      "delta: 5, p: 0.3815511666841656\n",
      "delta: 6, p: 0.5052486801143766\n",
      "delta: 7, p: 0.5035951885264517\n",
      "delta: 8, p: 0.0747878156054099\n",
      "delta: 9, p: 3.7354730900652405e-29\n"
     ]
    },
    {
     "name": "stderr",
     "output_type": "stream",
     "text": [
      "C:\\Users\\jeff1\\Anaconda3\\lib\\site-packages\\statsmodels\\tsa\\base\\tsa_model.py:221: ValueWarning: An unsupported index was provided and will be ignored when e.g. forecasting.\n",
      "  ' ignored when e.g. forecasting.', ValueWarning)\n"
     ]
    },
    {
     "name": "stdout",
     "output_type": "stream",
     "text": [
      "predictions: [array([333364.4100652])]\n",
      "delta: 0, p: nan\n",
      "delta: 1, p: 0.7348335033465218\n",
      "delta: 2, p: 0.9185347004721067\n",
      "delta: 3, p: 0.9835942502024324\n",
      "delta: 4, p: 0.0\n"
     ]
    },
    {
     "name": "stderr",
     "output_type": "stream",
     "text": [
      "C:\\Users\\jeff1\\Anaconda3\\lib\\site-packages\\statsmodels\\tsa\\base\\tsa_model.py:221: ValueWarning: An unsupported index was provided and will be ignored when e.g. forecasting.\n",
      "  ' ignored when e.g. forecasting.', ValueWarning)\n"
     ]
    },
    {
     "name": "stdout",
     "output_type": "stream",
     "text": [
      "predictions: [array([333364.4100652]), array([355953.44094497])]\n",
      "delta: 0, p: nan\n",
      "delta: 1, p: 0.10999566941094047\n",
      "delta: 2, p: 0.7188996625302337\n",
      "delta: 3, p: 0.9596840817809726\n",
      "delta: 4, p: 0.8735866316571079\n",
      "delta: 5, p: 0.9130316865893928\n",
      "delta: 6, p: 0.9603386019354728\n",
      "delta: 7, p: 0.8774947363309111\n",
      "delta: 8, p: 0.9944837695242655\n",
      "delta: 9, p: 3.049080898017679e-11\n"
     ]
    },
    {
     "name": "stderr",
     "output_type": "stream",
     "text": [
      "C:\\Users\\jeff1\\Anaconda3\\lib\\site-packages\\statsmodels\\tsa\\base\\tsa_model.py:221: ValueWarning: An unsupported index was provided and will be ignored when e.g. forecasting.\n",
      "  ' ignored when e.g. forecasting.', ValueWarning)\n"
     ]
    },
    {
     "name": "stdout",
     "output_type": "stream",
     "text": [
      "predictions: [array([333364.4100652]), array([355953.44094497]), array([379424.63126424])]\n",
      "delta: 0, p: nan\n",
      "delta: 1, p: 0.927399863361915\n",
      "delta: 2, p: 0.15787497716168858\n",
      "delta: 3, p: 0.9264165241275378\n",
      "delta: 4, p: 0.9981659390559167\n",
      "delta: 5, p: 0.9018489698901047\n",
      "delta: 6, p: 0.9288491609664442\n",
      "delta: 7, p: 7.387293910624827e-09\n"
     ]
    },
    {
     "name": "stderr",
     "output_type": "stream",
     "text": [
      "C:\\Users\\jeff1\\Anaconda3\\lib\\site-packages\\statsmodels\\tsa\\base\\tsa_model.py:221: ValueWarning: An unsupported index was provided and will be ignored when e.g. forecasting.\n",
      "  ' ignored when e.g. forecasting.', ValueWarning)\n"
     ]
    },
    {
     "name": "stdout",
     "output_type": "stream",
     "text": [
      "predictions: [array([333364.4100652]), array([355953.44094497]), array([379424.63126424]), array([384947.11510421])]\n",
      "delta: 0, p: nan\n",
      "delta: 1, p: 0.9356025816107884\n",
      "delta: 2, p: 0.5895790624785213\n",
      "delta: 3, p: 0.9353655622739923\n",
      "delta: 4, p: 0.9487966772649564\n",
      "delta: 5, p: 0.91273322661182\n",
      "delta: 6, p: 0.9532189772180882\n",
      "delta: 7, p: 4.317830836073204e-08\n"
     ]
    },
    {
     "name": "stderr",
     "output_type": "stream",
     "text": [
      "C:\\Users\\jeff1\\Anaconda3\\lib\\site-packages\\statsmodels\\tsa\\base\\tsa_model.py:221: ValueWarning: An unsupported index was provided and will be ignored when e.g. forecasting.\n",
      "  ' ignored when e.g. forecasting.', ValueWarning)\n"
     ]
    },
    {
     "name": "stdout",
     "output_type": "stream",
     "text": [
      "predictions: [array([333364.4100652]), array([355953.44094497]), array([379424.63126424]), array([384947.11510421]), array([388594.52472264])]\n",
      "delta: 0, p: nan\n",
      "delta: 1, p: 0.431801317415689\n",
      "delta: 2, p: 0.93580524000097\n",
      "delta: 3, p: 0.9341244498817063\n",
      "delta: 4, p: 0.9207862139052285\n",
      "delta: 5, p: 0.9148892431767768\n",
      "delta: 6, p: 0.9245478386272449\n",
      "delta: 7, p: 9.188099894875036e-10\n"
     ]
    },
    {
     "name": "stderr",
     "output_type": "stream",
     "text": [
      "C:\\Users\\jeff1\\Anaconda3\\lib\\site-packages\\statsmodels\\tsa\\base\\tsa_model.py:221: ValueWarning: An unsupported index was provided and will be ignored when e.g. forecasting.\n",
      "  ' ignored when e.g. forecasting.', ValueWarning)\n"
     ]
    },
    {
     "name": "stdout",
     "output_type": "stream",
     "text": [
      "predictions: [array([333364.4100652]), array([355953.44094497]), array([379424.63126424]), array([384947.11510421]), array([388594.52472264]), array([393179.88312377])]\n",
      "delta: 0, p: nan\n",
      "delta: 1, p: 0.9161042513063885\n",
      "delta: 2, p: 0.9092543021347221\n",
      "delta: 3, p: 0.9057960954033648\n",
      "delta: 4, p: 0.9719704302213307\n",
      "delta: 5, p: 0.8190976588364458\n",
      "delta: 6, p: 0.9500069146135988\n",
      "delta: 7, p: 3.271656297652142e-10\n"
     ]
    },
    {
     "name": "stderr",
     "output_type": "stream",
     "text": [
      "C:\\Users\\jeff1\\Anaconda3\\lib\\site-packages\\statsmodels\\tsa\\base\\tsa_model.py:221: ValueWarning: An unsupported index was provided and will be ignored when e.g. forecasting.\n",
      "  ' ignored when e.g. forecasting.', ValueWarning)\n"
     ]
    },
    {
     "name": "stdout",
     "output_type": "stream",
     "text": [
      "predictions: [array([333364.4100652]), array([355953.44094497]), array([379424.63126424]), array([384947.11510421]), array([388594.52472264]), array([393179.88312377]), array([401706.42171718])]\n",
      "delta: 0, p: nan\n",
      "delta: 1, p: 0.3788716709938989\n",
      "delta: 2, p: 0.2289928261693603\n",
      "delta: 3, p: 0.35294957426988044\n",
      "delta: 4, p: 0.1899147127267492\n",
      "delta: 5, p: 0.41635466114945846\n",
      "delta: 6, p: 0.5004067447045464\n",
      "delta: 7, p: 0.11312433946943157\n",
      "delta: 8, p: 0.023811210463452272\n"
     ]
    },
    {
     "name": "stderr",
     "output_type": "stream",
     "text": [
      "C:\\Users\\jeff1\\Anaconda3\\lib\\site-packages\\statsmodels\\tsa\\base\\tsa_model.py:221: ValueWarning: An unsupported index was provided and will be ignored when e.g. forecasting.\n",
      "  ' ignored when e.g. forecasting.', ValueWarning)\n"
     ]
    },
    {
     "name": "stdout",
     "output_type": "stream",
     "text": [
      "predictions: [array([300541.57587546])]\n",
      "delta: 0, p: nan\n",
      "delta: 1, p: 0.0\n"
     ]
    },
    {
     "name": "stderr",
     "output_type": "stream",
     "text": [
      "C:\\Users\\jeff1\\Anaconda3\\lib\\site-packages\\statsmodels\\tsa\\base\\tsa_model.py:221: ValueWarning: An unsupported index was provided and will be ignored when e.g. forecasting.\n",
      "  ' ignored when e.g. forecasting.', ValueWarning)\n"
     ]
    },
    {
     "name": "stdout",
     "output_type": "stream",
     "text": [
      "bad condition 1: stationarity not adequate\n",
      "delta: 2, p: 0.8338287291629123\n",
      "delta: 3, p: 0.6682235728652182\n",
      "delta: 4, p: 0.0\n"
     ]
    },
    {
     "name": "stderr",
     "output_type": "stream",
     "text": [
      "C:\\Users\\jeff1\\Anaconda3\\lib\\site-packages\\statsmodels\\tsa\\base\\tsa_model.py:221: ValueWarning: An unsupported index was provided and will be ignored when e.g. forecasting.\n",
      "  ' ignored when e.g. forecasting.', ValueWarning)\n"
     ]
    },
    {
     "name": "stdout",
     "output_type": "stream",
     "text": [
      "predictions: [array([300541.57587546]), array([328845.93061367])]\n",
      "delta: 0, p: nan\n",
      "delta: 1, p: 1.1666393588829298e-21\n"
     ]
    },
    {
     "name": "stderr",
     "output_type": "stream",
     "text": [
      "C:\\Users\\jeff1\\Anaconda3\\lib\\site-packages\\statsmodels\\tsa\\base\\tsa_model.py:221: ValueWarning: An unsupported index was provided and will be ignored when e.g. forecasting.\n",
      "  ' ignored when e.g. forecasting.', ValueWarning)\n"
     ]
    },
    {
     "name": "stdout",
     "output_type": "stream",
     "text": [
      "predictions: [array([300541.57587546]), array([328845.93061367]), array([455164.37230223])]\n",
      "delta: 0, p: nan\n",
      "delta: 1, p: 0.0\n"
     ]
    },
    {
     "name": "stderr",
     "output_type": "stream",
     "text": [
      "C:\\Users\\jeff1\\Anaconda3\\lib\\site-packages\\statsmodels\\tsa\\base\\tsa_model.py:221: ValueWarning: An unsupported index was provided and will be ignored when e.g. forecasting.\n",
      "  ' ignored when e.g. forecasting.', ValueWarning)\n"
     ]
    },
    {
     "name": "stdout",
     "output_type": "stream",
     "text": [
      "bad condition 1: stationarity not adequate\n",
      "delta: 2, p: 0.3490283537743696\n",
      "delta: 3, p: 0.7316915446744213\n",
      "delta: 4, p: 0.9990785487941723\n",
      "delta: 5, p: 2.786133536276739e-12\n"
     ]
    },
    {
     "name": "stderr",
     "output_type": "stream",
     "text": [
      "C:\\Users\\jeff1\\Anaconda3\\lib\\site-packages\\statsmodels\\tsa\\base\\tsa_model.py:221: ValueWarning: An unsupported index was provided and will be ignored when e.g. forecasting.\n",
      "  ' ignored when e.g. forecasting.', ValueWarning)\n",
      "C:\\Users\\jeff1\\Anaconda3\\lib\\site-packages\\statsmodels\\base\\model.py:488: HessianInversionWarning: Inverting hessian failed, no bse or cov_params available\n",
      "  'available', HessianInversionWarning)\n",
      "C:\\Users\\jeff1\\Anaconda3\\lib\\site-packages\\statsmodels\\tsa\\base\\tsa_model.py:221: ValueWarning: An unsupported index was provided and will be ignored when e.g. forecasting.\n",
      "  ' ignored when e.g. forecasting.', ValueWarning)\n"
     ]
    },
    {
     "name": "stdout",
     "output_type": "stream",
     "text": [
      "predictions: [array([300541.57587546]), array([328845.93061367]), array([455164.37230223]), array([372346.84134741])]\n",
      "delta: 0, p: nan\n",
      "delta: 1, p: 0.0\n",
      "predictions: [array([300541.57587546]), array([328845.93061367]), array([455164.37230223]), array([372346.84134741]), array([405997.50919169])]\n",
      "delta: 0, p: nan\n",
      "delta: 1, p: 0.0\n"
     ]
    },
    {
     "name": "stderr",
     "output_type": "stream",
     "text": [
      "C:\\Users\\jeff1\\Anaconda3\\lib\\site-packages\\statsmodels\\tsa\\base\\tsa_model.py:221: ValueWarning: An unsupported index was provided and will be ignored when e.g. forecasting.\n",
      "  ' ignored when e.g. forecasting.', ValueWarning)\n"
     ]
    },
    {
     "name": "stdout",
     "output_type": "stream",
     "text": [
      "predictions: [array([300541.57587546]), array([328845.93061367]), array([455164.37230223]), array([372346.84134741]), array([405997.50919169]), array([416098.95115636])]\n",
      "delta: 0, p: nan\n",
      "delta: 1, p: 0.0\n"
     ]
    },
    {
     "name": "stderr",
     "output_type": "stream",
     "text": [
      "C:\\Users\\jeff1\\Anaconda3\\lib\\site-packages\\statsmodels\\tsa\\base\\tsa_model.py:221: ValueWarning: An unsupported index was provided and will be ignored when e.g. forecasting.\n",
      "  ' ignored when e.g. forecasting.', ValueWarning)\n"
     ]
    },
    {
     "name": "stdout",
     "output_type": "stream",
     "text": [
      "predictions: [array([300541.57587546]), array([328845.93061367]), array([455164.37230223]), array([372346.84134741]), array([405997.50919169]), array([416098.95115636]), array([403961.13485781])]\n",
      "delta: 0, p: nan\n",
      "delta: 1, p: 0.3108976454867249\n",
      "delta: 2, p: 0.3647465201704771\n",
      "delta: 3, p: 0.3637820347302263\n",
      "delta: 4, p: 0.15449410005194092\n",
      "delta: 5, p: 0.3420654137023207\n",
      "delta: 6, p: 0.4788928194119018\n",
      "delta: 7, p: 0.037889633650070045\n"
     ]
    },
    {
     "name": "stderr",
     "output_type": "stream",
     "text": [
      "C:\\Users\\jeff1\\Anaconda3\\lib\\site-packages\\statsmodels\\tsa\\base\\tsa_model.py:221: ValueWarning: An unsupported index was provided and will be ignored when e.g. forecasting.\n",
      "  ' ignored when e.g. forecasting.', ValueWarning)\n"
     ]
    },
    {
     "name": "stdout",
     "output_type": "stream",
     "text": [
      "bad condition 7: stationarity not adequate\n",
      "delta: 8, p: 0.04676460036287805\n"
     ]
    },
    {
     "name": "stderr",
     "output_type": "stream",
     "text": [
      "C:\\Users\\jeff1\\Anaconda3\\lib\\site-packages\\statsmodels\\tsa\\base\\tsa_model.py:221: ValueWarning: An unsupported index was provided and will be ignored when e.g. forecasting.\n",
      "  ' ignored when e.g. forecasting.', ValueWarning)\n"
     ]
    },
    {
     "name": "stdout",
     "output_type": "stream",
     "text": [
      "predictions: [array([284143.02645527])]\n",
      "delta: 0, p: nan\n",
      "delta: 1, p: 1.9165746323763255e-28\n"
     ]
    },
    {
     "name": "stderr",
     "output_type": "stream",
     "text": [
      "C:\\Users\\jeff1\\Anaconda3\\lib\\site-packages\\statsmodels\\tsa\\base\\tsa_model.py:221: ValueWarning: An unsupported index was provided and will be ignored when e.g. forecasting.\n",
      "  ' ignored when e.g. forecasting.', ValueWarning)\n"
     ]
    },
    {
     "name": "stdout",
     "output_type": "stream",
     "text": [
      "predictions: [array([284143.02645527]), array([412531.53576032])]\n",
      "delta: 0, p: nan\n",
      "delta: 1, p: 1.0380609588771142e-18\n"
     ]
    },
    {
     "name": "stderr",
     "output_type": "stream",
     "text": [
      "C:\\Users\\jeff1\\Anaconda3\\lib\\site-packages\\statsmodels\\tsa\\base\\tsa_model.py:221: ValueWarning: An unsupported index was provided and will be ignored when e.g. forecasting.\n",
      "  ' ignored when e.g. forecasting.', ValueWarning)\n"
     ]
    },
    {
     "name": "stdout",
     "output_type": "stream",
     "text": [
      "bad condition 1: stationarity not adequate\n",
      "delta: 2, p: 0.0\n"
     ]
    },
    {
     "name": "stderr",
     "output_type": "stream",
     "text": [
      "C:\\Users\\jeff1\\Anaconda3\\lib\\site-packages\\statsmodels\\tsa\\base\\tsa_model.py:221: ValueWarning: An unsupported index was provided and will be ignored when e.g. forecasting.\n",
      "  ' ignored when e.g. forecasting.', ValueWarning)\n"
     ]
    },
    {
     "name": "stdout",
     "output_type": "stream",
     "text": [
      "predictions: [array([284143.02645527]), array([412531.53576032]), array([373328.36931792])]\n",
      "delta: 0, p: nan\n",
      "delta: 1, p: 3.648079231055105e-13\n"
     ]
    },
    {
     "name": "stderr",
     "output_type": "stream",
     "text": [
      "C:\\Users\\jeff1\\Anaconda3\\lib\\site-packages\\statsmodels\\tsa\\base\\tsa_model.py:221: ValueWarning: An unsupported index was provided and will be ignored when e.g. forecasting.\n",
      "  ' ignored when e.g. forecasting.', ValueWarning)\n"
     ]
    },
    {
     "name": "stdout",
     "output_type": "stream",
     "text": [
      "predictions: [array([284143.02645527]), array([412531.53576032]), array([373328.36931792]), array([448737.7829902])]\n",
      "delta: 0, p: nan\n",
      "delta: 1, p: 4.1839221322461453e-10\n"
     ]
    },
    {
     "name": "stderr",
     "output_type": "stream",
     "text": [
      "C:\\Users\\jeff1\\Anaconda3\\lib\\site-packages\\statsmodels\\tsa\\base\\tsa_model.py:221: ValueWarning: An unsupported index was provided and will be ignored when e.g. forecasting.\n",
      "  ' ignored when e.g. forecasting.', ValueWarning)\n"
     ]
    },
    {
     "name": "stdout",
     "output_type": "stream",
     "text": [
      "predictions: [array([284143.02645527]), array([412531.53576032]), array([373328.36931792]), array([448737.7829902]), array([430715.51203027])]\n",
      "delta: 0, p: nan\n",
      "delta: 1, p: 0.0\n"
     ]
    },
    {
     "name": "stderr",
     "output_type": "stream",
     "text": [
      "C:\\Users\\jeff1\\Anaconda3\\lib\\site-packages\\statsmodels\\tsa\\base\\tsa_model.py:221: ValueWarning: An unsupported index was provided and will be ignored when e.g. forecasting.\n",
      "  ' ignored when e.g. forecasting.', ValueWarning)\n"
     ]
    },
    {
     "name": "stdout",
     "output_type": "stream",
     "text": [
      "predictions: [array([284143.02645527]), array([412531.53576032]), array([373328.36931792]), array([448737.7829902]), array([430715.51203027]), array([419989.50196344])]\n",
      "delta: 0, p: nan\n",
      "delta: 1, p: 0.0\n"
     ]
    },
    {
     "name": "stderr",
     "output_type": "stream",
     "text": [
      "C:\\Users\\jeff1\\Anaconda3\\lib\\site-packages\\statsmodels\\tsa\\base\\tsa_model.py:221: ValueWarning: An unsupported index was provided and will be ignored when e.g. forecasting.\n",
      "  ' ignored when e.g. forecasting.', ValueWarning)\n"
     ]
    },
    {
     "name": "stdout",
     "output_type": "stream",
     "text": [
      "predictions: [array([284143.02645527]), array([412531.53576032]), array([373328.36931792]), array([448737.7829902]), array([430715.51203027]), array([419989.50196344]), array([403977.59966882])]\n",
      "delta: 0, p: nan\n",
      "delta: 1, p: 0.08849096771384962\n",
      "delta: 2, p: 0.12726480925245776\n",
      "delta: 3, p: 0.12684560716050614\n",
      "delta: 4, p: 0.013290035769222457\n"
     ]
    },
    {
     "name": "stderr",
     "output_type": "stream",
     "text": [
      "C:\\Users\\jeff1\\Anaconda3\\lib\\site-packages\\statsmodels\\tsa\\base\\tsa_model.py:221: ValueWarning: An unsupported index was provided and will be ignored when e.g. forecasting.\n",
      "  ' ignored when e.g. forecasting.', ValueWarning)\n"
     ]
    },
    {
     "name": "stdout",
     "output_type": "stream",
     "text": [
      "predictions: [array([236815.54392961])]\n",
      "delta: 0, p: nan\n",
      "delta: 1, p: 0.7675004148804336\n",
      "delta: 2, p: 0.3074788549558056\n",
      "delta: 3, p: 0.3804546986675831\n",
      "delta: 4, p: 0.0\n"
     ]
    },
    {
     "name": "stderr",
     "output_type": "stream",
     "text": [
      "C:\\Users\\jeff1\\Anaconda3\\lib\\site-packages\\statsmodels\\tsa\\base\\tsa_model.py:221: ValueWarning: An unsupported index was provided and will be ignored when e.g. forecasting.\n",
      "  ' ignored when e.g. forecasting.', ValueWarning)\n"
     ]
    },
    {
     "name": "stdout",
     "output_type": "stream",
     "text": [
      "predictions: [array([236815.54392961]), array([263521.63472536])]\n",
      "delta: 0, p: nan\n",
      "delta: 1, p: 0.0\n"
     ]
    },
    {
     "name": "stderr",
     "output_type": "stream",
     "text": [
      "C:\\Users\\jeff1\\Anaconda3\\lib\\site-packages\\statsmodels\\tsa\\base\\tsa_model.py:221: ValueWarning: An unsupported index was provided and will be ignored when e.g. forecasting.\n",
      "  ' ignored when e.g. forecasting.', ValueWarning)\n"
     ]
    },
    {
     "name": "stdout",
     "output_type": "stream",
     "text": [
      "bad condition 1: stationarity not adequate\n",
      "delta: 2, p: 0.9986237874713555\n",
      "delta: 3, p: 0.2080579318044795\n",
      "delta: 4, p: 0.998859397889145\n",
      "delta: 5, p: 1.4500238730378585e-12\n"
     ]
    },
    {
     "name": "stderr",
     "output_type": "stream",
     "text": [
      "C:\\Users\\jeff1\\Anaconda3\\lib\\site-packages\\statsmodels\\tsa\\base\\tsa_model.py:221: ValueWarning: An unsupported index was provided and will be ignored when e.g. forecasting.\n",
      "  ' ignored when e.g. forecasting.', ValueWarning)\n",
      "C:\\Users\\jeff1\\Anaconda3\\lib\\site-packages\\statsmodels\\base\\model.py:508: ConvergenceWarning: Maximum Likelihood optimization failed to converge. Check mle_retvals\n",
      "  \"Check mle_retvals\", ConvergenceWarning)\n"
     ]
    },
    {
     "name": "stdout",
     "output_type": "stream",
     "text": [
      "predictions: [array([236815.54392961]), array([263521.63472536]), array([311464.98405252])]\n",
      "delta: 0, p: nan\n",
      "delta: 1, p: 0.0\n"
     ]
    },
    {
     "name": "stderr",
     "output_type": "stream",
     "text": [
      "C:\\Users\\jeff1\\Anaconda3\\lib\\site-packages\\statsmodels\\tsa\\base\\tsa_model.py:221: ValueWarning: An unsupported index was provided and will be ignored when e.g. forecasting.\n",
      "  ' ignored when e.g. forecasting.', ValueWarning)\n"
     ]
    },
    {
     "name": "stdout",
     "output_type": "stream",
     "text": [
      "bad condition 1: stationarity not adequate\n",
      "delta: 2, p: 1.985706290031969e-24\n"
     ]
    },
    {
     "name": "stderr",
     "output_type": "stream",
     "text": [
      "C:\\Users\\jeff1\\Anaconda3\\lib\\site-packages\\statsmodels\\tsa\\base\\tsa_model.py:221: ValueWarning: An unsupported index was provided and will be ignored when e.g. forecasting.\n",
      "  ' ignored when e.g. forecasting.', ValueWarning)\n"
     ]
    },
    {
     "name": "stdout",
     "output_type": "stream",
     "text": [
      "predictions: [array([236815.54392961]), array([263521.63472536]), array([311464.98405252]), array([390693.57661996])]\n",
      "delta: 0, p: nan\n",
      "delta: 1, p: 0.0\n"
     ]
    },
    {
     "name": "stderr",
     "output_type": "stream",
     "text": [
      "C:\\Users\\jeff1\\Anaconda3\\lib\\site-packages\\statsmodels\\tsa\\base\\tsa_model.py:221: ValueWarning: An unsupported index was provided and will be ignored when e.g. forecasting.\n",
      "  ' ignored when e.g. forecasting.', ValueWarning)\n"
     ]
    },
    {
     "name": "stdout",
     "output_type": "stream",
     "text": [
      "predictions: [array([236815.54392961]), array([263521.63472536]), array([311464.98405252]), array([390693.57661996]), array([393530.8408146])]\n",
      "delta: 0, p: nan\n",
      "delta: 1, p: 0.0\n"
     ]
    },
    {
     "name": "stderr",
     "output_type": "stream",
     "text": [
      "C:\\Users\\jeff1\\Anaconda3\\lib\\site-packages\\statsmodels\\tsa\\base\\tsa_model.py:221: ValueWarning: An unsupported index was provided and will be ignored when e.g. forecasting.\n",
      "  ' ignored when e.g. forecasting.', ValueWarning)\n"
     ]
    },
    {
     "name": "stdout",
     "output_type": "stream",
     "text": [
      "predictions: [array([236815.54392961]), array([263521.63472536]), array([311464.98405252]), array([390693.57661996]), array([393530.8408146]), array([430321.61020002])]\n",
      "delta: 0, p: nan\n",
      "delta: 1, p: 0.0\n"
     ]
    },
    {
     "name": "stderr",
     "output_type": "stream",
     "text": [
      "C:\\Users\\jeff1\\Anaconda3\\lib\\site-packages\\statsmodels\\tsa\\base\\tsa_model.py:221: ValueWarning: An unsupported index was provided and will be ignored when e.g. forecasting.\n",
      "  ' ignored when e.g. forecasting.', ValueWarning)\n"
     ]
    },
    {
     "name": "stdout",
     "output_type": "stream",
     "text": [
      "predictions: [array([236815.54392961]), array([263521.63472536]), array([311464.98405252]), array([390693.57661996]), array([393530.8408146]), array([430321.61020002]), array([403812.40861961])]\n",
      "delta: 0, p: nan\n",
      "delta: 1, p: 0.3044857893614933\n",
      "delta: 2, p: 0.23103469790673675\n",
      "delta: 3, p: 0.12448567786347403\n",
      "delta: 4, p: 0.15547807880558567\n",
      "delta: 5, p: 0.08516604150636431\n",
      "delta: 6, p: 0.2297751870573409\n",
      "delta: 7, p: 0.004522604817449218\n"
     ]
    },
    {
     "name": "stderr",
     "output_type": "stream",
     "text": [
      "C:\\Users\\jeff1\\Anaconda3\\lib\\site-packages\\statsmodels\\tsa\\base\\tsa_model.py:221: ValueWarning: An unsupported index was provided and will be ignored when e.g. forecasting.\n",
      "  ' ignored when e.g. forecasting.', ValueWarning)\n"
     ]
    },
    {
     "name": "stdout",
     "output_type": "stream",
     "text": [
      "predictions: [array([240649.18250836])]\n",
      "delta: 0, p: nan\n",
      "delta: 1, p: 1.3222991023150807e-18\n"
     ]
    },
    {
     "name": "stderr",
     "output_type": "stream",
     "text": [
      "C:\\Users\\jeff1\\Anaconda3\\lib\\site-packages\\statsmodels\\tsa\\base\\tsa_model.py:221: ValueWarning: An unsupported index was provided and will be ignored when e.g. forecasting.\n",
      "  ' ignored when e.g. forecasting.', ValueWarning)\n"
     ]
    },
    {
     "name": "stdout",
     "output_type": "stream",
     "text": [
      "predictions: [array([240649.18250836]), array([440873.86606504])]\n",
      "delta: 0, p: nan\n",
      "delta: 1, p: 2.02213162355157e-30\n"
     ]
    },
    {
     "name": "stderr",
     "output_type": "stream",
     "text": [
      "C:\\Users\\jeff1\\Anaconda3\\lib\\site-packages\\statsmodels\\tsa\\base\\tsa_model.py:221: ValueWarning: An unsupported index was provided and will be ignored when e.g. forecasting.\n",
      "  ' ignored when e.g. forecasting.', ValueWarning)\n"
     ]
    },
    {
     "name": "stdout",
     "output_type": "stream",
     "text": [
      "predictions: [array([240649.18250836]), array([440873.86606504]), array([417413.86547137])]\n",
      "delta: 0, p: nan\n",
      "delta: 1, p: 0.0\n"
     ]
    },
    {
     "name": "stderr",
     "output_type": "stream",
     "text": [
      "C:\\Users\\jeff1\\Anaconda3\\lib\\site-packages\\statsmodels\\tsa\\base\\tsa_model.py:221: ValueWarning: An unsupported index was provided and will be ignored when e.g. forecasting.\n",
      "  ' ignored when e.g. forecasting.', ValueWarning)\n"
     ]
    },
    {
     "name": "stdout",
     "output_type": "stream",
     "text": [
      "predictions: [array([240649.18250836]), array([440873.86606504]), array([417413.86547137]), array([379395.81178432])]\n",
      "delta: 0, p: nan\n",
      "delta: 1, p: 0.0\n"
     ]
    },
    {
     "name": "stderr",
     "output_type": "stream",
     "text": [
      "C:\\Users\\jeff1\\Anaconda3\\lib\\site-packages\\statsmodels\\tsa\\base\\tsa_model.py:221: ValueWarning: An unsupported index was provided and will be ignored when e.g. forecasting.\n",
      "  ' ignored when e.g. forecasting.', ValueWarning)\n"
     ]
    },
    {
     "name": "stdout",
     "output_type": "stream",
     "text": [
      "predictions: [array([240649.18250836]), array([440873.86606504]), array([417413.86547137]), array([379395.81178432]), array([391807.38185295])]\n",
      "delta: 0, p: nan\n",
      "delta: 1, p: 0.0\n"
     ]
    },
    {
     "name": "stderr",
     "output_type": "stream",
     "text": [
      "C:\\Users\\jeff1\\Anaconda3\\lib\\site-packages\\statsmodels\\tsa\\base\\tsa_model.py:221: ValueWarning: An unsupported index was provided and will be ignored when e.g. forecasting.\n",
      "  ' ignored when e.g. forecasting.', ValueWarning)\n"
     ]
    },
    {
     "name": "stdout",
     "output_type": "stream",
     "text": [
      "predictions: [array([240649.18250836]), array([440873.86606504]), array([417413.86547137]), array([379395.81178432]), array([391807.38185295]), array([439313.11570057])]\n",
      "delta: 0, p: nan\n",
      "delta: 1, p: 0.0\n"
     ]
    },
    {
     "name": "stderr",
     "output_type": "stream",
     "text": [
      "C:\\Users\\jeff1\\Anaconda3\\lib\\site-packages\\statsmodels\\tsa\\base\\tsa_model.py:221: ValueWarning: An unsupported index was provided and will be ignored when e.g. forecasting.\n",
      "  ' ignored when e.g. forecasting.', ValueWarning)\n"
     ]
    },
    {
     "name": "stdout",
     "output_type": "stream",
     "text": [
      "predictions: [array([240649.18250836]), array([440873.86606504]), array([417413.86547137]), array([379395.81178432]), array([391807.38185295]), array([439313.11570057]), array([403822.96962651])]\n",
      "delta: 0, p: nan\n",
      "delta: 1, p: 0.4100133616794049\n",
      "delta: 2, p: 0.22515437486549866\n",
      "delta: 3, p: 0.35941241373579014\n",
      "delta: 4, p: 0.14746471123218607\n",
      "delta: 5, p: 0.07881984662708275\n",
      "delta: 6, p: 0.10071054617953584\n",
      "delta: 7, p: 0.0012762403442428923\n"
     ]
    },
    {
     "name": "stderr",
     "output_type": "stream",
     "text": [
      "C:\\Users\\jeff1\\Anaconda3\\lib\\site-packages\\statsmodels\\tsa\\base\\tsa_model.py:221: ValueWarning: An unsupported index was provided and will be ignored when e.g. forecasting.\n",
      "  ' ignored when e.g. forecasting.', ValueWarning)\n"
     ]
    },
    {
     "name": "stdout",
     "output_type": "stream",
     "text": [
      "predictions: [array([426587.95174283])]\n",
      "delta: 0, p: nan\n",
      "delta: 1, p: 0.6242631460584618\n",
      "delta: 2, p: 0.7706396249512393\n",
      "delta: 3, p: 0.1798312639972368\n",
      "delta: 4, p: 0.7833510725963004\n",
      "delta: 5, p: 0.5495444987419276\n",
      "delta: 6, p: 0.0\n"
     ]
    },
    {
     "name": "stderr",
     "output_type": "stream",
     "text": [
      "C:\\Users\\jeff1\\Anaconda3\\lib\\site-packages\\statsmodels\\tsa\\base\\tsa_model.py:221: ValueWarning: An unsupported index was provided and will be ignored when e.g. forecasting.\n",
      "  ' ignored when e.g. forecasting.', ValueWarning)\n"
     ]
    },
    {
     "name": "stdout",
     "output_type": "stream",
     "text": [
      "predictions: [array([426587.95174283]), array([383755.47850541])]\n",
      "delta: 0, p: nan\n",
      "delta: 1, p: 0.4065935682172269\n",
      "delta: 2, p: 0.19101385877891924\n",
      "delta: 3, p: 0.11519202233452802\n",
      "delta: 4, p: 0.059308403196008955\n",
      "delta: 5, p: 0.032123499248383924\n"
     ]
    },
    {
     "name": "stderr",
     "output_type": "stream",
     "text": [
      "C:\\Users\\jeff1\\Anaconda3\\lib\\site-packages\\statsmodels\\tsa\\base\\tsa_model.py:221: ValueWarning: An unsupported index was provided and will be ignored when e.g. forecasting.\n",
      "  ' ignored when e.g. forecasting.', ValueWarning)\n"
     ]
    },
    {
     "name": "stdout",
     "output_type": "stream",
     "text": [
      "predictions: [array([426587.95174283]), array([383755.47850541]), array([387157.32721151])]\n",
      "delta: 0, p: nan\n",
      "delta: 1, p: 0.324753128300015\n",
      "delta: 2, p: 0.12472862122568923\n",
      "delta: 3, p: 0.06438549656111243\n",
      "delta: 4, p: 0.05488167034843577\n",
      "delta: 5, p: 0.018810228636841494\n"
     ]
    },
    {
     "name": "stderr",
     "output_type": "stream",
     "text": [
      "C:\\Users\\jeff1\\Anaconda3\\lib\\site-packages\\statsmodels\\tsa\\base\\tsa_model.py:221: ValueWarning: An unsupported index was provided and will be ignored when e.g. forecasting.\n",
      "  ' ignored when e.g. forecasting.', ValueWarning)\n"
     ]
    },
    {
     "name": "stdout",
     "output_type": "stream",
     "text": [
      "predictions: [array([426587.95174283]), array([383755.47850541]), array([387157.32721151]), array([393396.50142731])]\n",
      "delta: 0, p: nan\n",
      "delta: 1, p: 0.3116518612083209\n",
      "delta: 2, p: 0.10968787099795668\n",
      "delta: 3, p: 0.053279703020482676\n",
      "delta: 4, p: 0.05410611870084096\n",
      "delta: 5, p: 0.01965863349710555\n"
     ]
    },
    {
     "name": "stderr",
     "output_type": "stream",
     "text": [
      "C:\\Users\\jeff1\\Anaconda3\\lib\\site-packages\\statsmodels\\tsa\\base\\tsa_model.py:221: ValueWarning: An unsupported index was provided and will be ignored when e.g. forecasting.\n",
      "  ' ignored when e.g. forecasting.', ValueWarning)\n"
     ]
    },
    {
     "name": "stdout",
     "output_type": "stream",
     "text": [
      "predictions: [array([426587.95174283]), array([383755.47850541]), array([387157.32721151]), array([393396.50142731]), array([408191.78701387])]\n",
      "delta: 0, p: nan\n",
      "delta: 1, p: 0.2395690539584039\n",
      "delta: 2, p: 0.07877573344237038\n",
      "delta: 3, p: 0.048986709537318415\n"
     ]
    },
    {
     "name": "stderr",
     "output_type": "stream",
     "text": [
      "C:\\Users\\jeff1\\Anaconda3\\lib\\site-packages\\statsmodels\\tsa\\base\\tsa_model.py:221: ValueWarning: An unsupported index was provided and will be ignored when e.g. forecasting.\n",
      "  ' ignored when e.g. forecasting.', ValueWarning)\n"
     ]
    },
    {
     "name": "stdout",
     "output_type": "stream",
     "text": [
      "predictions: [array([426587.95174283]), array([383755.47850541]), array([387157.32721151]), array([393396.50142731]), array([408191.78701387]), array([404775.70620661])]\n",
      "delta: 0, p: nan\n",
      "delta: 1, p: 0.20425932221229592\n",
      "delta: 2, p: 0.07453366696937508\n",
      "delta: 3, p: 0.04038642136136228\n"
     ]
    },
    {
     "name": "stderr",
     "output_type": "stream",
     "text": [
      "C:\\Users\\jeff1\\Anaconda3\\lib\\site-packages\\statsmodels\\tsa\\base\\tsa_model.py:221: ValueWarning: An unsupported index was provided and will be ignored when e.g. forecasting.\n",
      "  ' ignored when e.g. forecasting.', ValueWarning)\n"
     ]
    },
    {
     "name": "stdout",
     "output_type": "stream",
     "text": [
      "predictions: [array([426587.95174283]), array([383755.47850541]), array([387157.32721151]), array([393396.50142731]), array([408191.78701387]), array([404775.70620661]), array([389836.9388109])]\n",
      "delta: 0, p: nan\n",
      "delta: 1, p: 0.2286749507243066\n",
      "delta: 2, p: 0.268559579107743\n",
      "delta: 3, p: 0.10946000797599564\n",
      "delta: 4, p: 0.14600778374219225\n",
      "delta: 5, p: 0.15755019045001084\n",
      "delta: 6, p: 0.3434611201597456\n",
      "delta: 7, p: 0.03897103313053089\n"
     ]
    },
    {
     "name": "stderr",
     "output_type": "stream",
     "text": [
      "C:\\Users\\jeff1\\Anaconda3\\lib\\site-packages\\statsmodels\\tsa\\base\\tsa_model.py:221: ValueWarning: An unsupported index was provided and will be ignored when e.g. forecasting.\n",
      "  ' ignored when e.g. forecasting.', ValueWarning)\n"
     ]
    },
    {
     "name": "stdout",
     "output_type": "stream",
     "text": [
      "predictions: [array([437369.58610952])]\n",
      "delta: 0, p: nan\n",
      "delta: 1, p: 0.7658575883923283\n",
      "delta: 2, p: 0.5420732857266087\n",
      "delta: 3, p: 0.5749137879934701\n",
      "delta: 4, p: 0.6670601535579704\n",
      "delta: 5, p: 0.38262941043895293\n",
      "delta: 6, p: 0.5797724675423743\n",
      "delta: 7, p: 0.31000564678985837\n",
      "delta: 8, p: 0.06392928103772078\n",
      "delta: 9, p: 5.085388546935963e-29\n"
     ]
    },
    {
     "name": "stderr",
     "output_type": "stream",
     "text": [
      "C:\\Users\\jeff1\\Anaconda3\\lib\\site-packages\\statsmodels\\tsa\\base\\tsa_model.py:221: ValueWarning: An unsupported index was provided and will be ignored when e.g. forecasting.\n",
      "  ' ignored when e.g. forecasting.', ValueWarning)\n"
     ]
    },
    {
     "name": "stdout",
     "output_type": "stream",
     "text": [
      "predictions: [array([437369.58610952]), array([409099.85406417])]\n",
      "delta: 0, p: nan\n",
      "delta: 1, p: 0.0005745567486410655\n"
     ]
    },
    {
     "name": "stderr",
     "output_type": "stream",
     "text": [
      "C:\\Users\\jeff1\\Anaconda3\\lib\\site-packages\\statsmodels\\tsa\\base\\tsa_model.py:221: ValueWarning: An unsupported index was provided and will be ignored when e.g. forecasting.\n",
      "  ' ignored when e.g. forecasting.', ValueWarning)\n"
     ]
    },
    {
     "name": "stdout",
     "output_type": "stream",
     "text": [
      "bad condition 1: stationarity not adequate\n",
      "delta: 2, p: 0.000740018483348763\n"
     ]
    },
    {
     "name": "stderr",
     "output_type": "stream",
     "text": [
      "C:\\Users\\jeff1\\Anaconda3\\lib\\site-packages\\statsmodels\\tsa\\base\\tsa_model.py:221: ValueWarning: An unsupported index was provided and will be ignored when e.g. forecasting.\n",
      "  ' ignored when e.g. forecasting.', ValueWarning)\n"
     ]
    },
    {
     "name": "stdout",
     "output_type": "stream",
     "text": [
      "predictions: [array([437369.58610952]), array([409099.85406417]), array([388244.15194093])]\n",
      "delta: 0, p: nan\n",
      "delta: 1, p: 0.02812385960879\n"
     ]
    },
    {
     "name": "stderr",
     "output_type": "stream",
     "text": [
      "C:\\Users\\jeff1\\Anaconda3\\lib\\site-packages\\statsmodels\\tsa\\base\\tsa_model.py:221: ValueWarning: An unsupported index was provided and will be ignored when e.g. forecasting.\n",
      "  ' ignored when e.g. forecasting.', ValueWarning)\n"
     ]
    },
    {
     "name": "stdout",
     "output_type": "stream",
     "text": [
      "predictions: [array([437369.58610952]), array([409099.85406417]), array([388244.15194093]), array([381231.49327413])]\n",
      "delta: 0, p: nan\n",
      "delta: 1, p: 0.008478039859004796\n"
     ]
    },
    {
     "name": "stderr",
     "output_type": "stream",
     "text": [
      "C:\\Users\\jeff1\\Anaconda3\\lib\\site-packages\\statsmodels\\tsa\\base\\tsa_model.py:221: ValueWarning: An unsupported index was provided and will be ignored when e.g. forecasting.\n",
      "  ' ignored when e.g. forecasting.', ValueWarning)\n"
     ]
    },
    {
     "name": "stdout",
     "output_type": "stream",
     "text": [
      "predictions: [array([437369.58610952]), array([409099.85406417]), array([388244.15194093]), array([381231.49327413]), array([401245.44463659])]\n",
      "delta: 0, p: nan\n",
      "delta: 1, p: 0.007867983582135807\n"
     ]
    },
    {
     "name": "stderr",
     "output_type": "stream",
     "text": [
      "C:\\Users\\jeff1\\Anaconda3\\lib\\site-packages\\statsmodels\\tsa\\base\\tsa_model.py:221: ValueWarning: An unsupported index was provided and will be ignored when e.g. forecasting.\n",
      "  ' ignored when e.g. forecasting.', ValueWarning)\n"
     ]
    },
    {
     "name": "stdout",
     "output_type": "stream",
     "text": [
      "predictions: [array([437369.58610952]), array([409099.85406417]), array([388244.15194093]), array([381231.49327413]), array([401245.44463659]), array([407368.99546777])]\n",
      "delta: 0, p: nan\n",
      "delta: 1, p: 0.00644613839577181\n"
     ]
    },
    {
     "name": "stderr",
     "output_type": "stream",
     "text": [
      "C:\\Users\\jeff1\\Anaconda3\\lib\\site-packages\\statsmodels\\tsa\\base\\tsa_model.py:221: ValueWarning: An unsupported index was provided and will be ignored when e.g. forecasting.\n",
      "  ' ignored when e.g. forecasting.', ValueWarning)\n"
     ]
    },
    {
     "name": "stdout",
     "output_type": "stream",
     "text": [
      "predictions: [array([437369.58610952]), array([409099.85406417]), array([388244.15194093]), array([381231.49327413]), array([401245.44463659]), array([407368.99546777]), array([404241.95918875])]\n",
      "delta: 0, p: nan\n",
      "delta: 1, p: 0.3891209853707526\n",
      "delta: 2, p: 0.24933711967035443\n",
      "delta: 3, p: 0.03064225873061799\n"
     ]
    },
    {
     "name": "stderr",
     "output_type": "stream",
     "text": [
      "C:\\Users\\jeff1\\Anaconda3\\lib\\site-packages\\statsmodels\\tsa\\base\\tsa_model.py:221: ValueWarning: An unsupported index was provided and will be ignored when e.g. forecasting.\n",
      "  ' ignored when e.g. forecasting.', ValueWarning)\n"
     ]
    },
    {
     "name": "stdout",
     "output_type": "stream",
     "text": [
      "predictions: [array([181354.48864321])]\n",
      "delta: 0, p: nan\n",
      "delta: 1, p: 0.906049473131209\n",
      "delta: 2, p: 0.0\n"
     ]
    },
    {
     "name": "stderr",
     "output_type": "stream",
     "text": [
      "C:\\Users\\jeff1\\Anaconda3\\lib\\site-packages\\statsmodels\\tsa\\base\\tsa_model.py:221: ValueWarning: An unsupported index was provided and will be ignored when e.g. forecasting.\n",
      "  ' ignored when e.g. forecasting.', ValueWarning)\n"
     ]
    },
    {
     "name": "stdout",
     "output_type": "stream",
     "text": [
      "predictions: [array([181354.48864321]), array([343442.8306078])]\n",
      "delta: 0, p: nan\n",
      "delta: 1, p: 1.0074221350986658e-28\n"
     ]
    },
    {
     "name": "stderr",
     "output_type": "stream",
     "text": [
      "C:\\Users\\jeff1\\Anaconda3\\lib\\site-packages\\statsmodels\\tsa\\base\\tsa_model.py:221: ValueWarning: An unsupported index was provided and will be ignored when e.g. forecasting.\n",
      "  ' ignored when e.g. forecasting.', ValueWarning)\n"
     ]
    },
    {
     "name": "stdout",
     "output_type": "stream",
     "text": [
      "predictions: [array([181354.48864321]), array([343442.8306078]), array([436491.71713252])]\n",
      "delta: 0, p: nan\n",
      "delta: 1, p: 9.330440675237036e-29\n"
     ]
    },
    {
     "name": "stderr",
     "output_type": "stream",
     "text": [
      "C:\\Users\\jeff1\\Anaconda3\\lib\\site-packages\\statsmodels\\tsa\\base\\tsa_model.py:221: ValueWarning: An unsupported index was provided and will be ignored when e.g. forecasting.\n",
      "  ' ignored when e.g. forecasting.', ValueWarning)\n"
     ]
    },
    {
     "name": "stdout",
     "output_type": "stream",
     "text": [
      "predictions: [array([181354.48864321]), array([343442.8306078]), array([436491.71713252]), array([517540.30673159])]\n",
      "delta: 0, p: nan\n",
      "delta: 1, p: 8.657084496562293e-29\n"
     ]
    },
    {
     "name": "stderr",
     "output_type": "stream",
     "text": [
      "C:\\Users\\jeff1\\Anaconda3\\lib\\site-packages\\statsmodels\\tsa\\base\\tsa_model.py:221: ValueWarning: An unsupported index was provided and will be ignored when e.g. forecasting.\n",
      "  ' ignored when e.g. forecasting.', ValueWarning)\n"
     ]
    },
    {
     "name": "stdout",
     "output_type": "stream",
     "text": [
      "predictions: [array([181354.48864321]), array([343442.8306078]), array([436491.71713252]), array([517540.30673159]), array([421286.24983186])]\n",
      "delta: 0, p: nan\n",
      "delta: 1, p: 8.015629138551544e-29\n"
     ]
    },
    {
     "name": "stderr",
     "output_type": "stream",
     "text": [
      "C:\\Users\\jeff1\\Anaconda3\\lib\\site-packages\\statsmodels\\tsa\\base\\tsa_model.py:221: ValueWarning: An unsupported index was provided and will be ignored when e.g. forecasting.\n",
      "  ' ignored when e.g. forecasting.', ValueWarning)\n"
     ]
    },
    {
     "name": "stdout",
     "output_type": "stream",
     "text": [
      "predictions: [array([181354.48864321]), array([343442.8306078]), array([436491.71713252]), array([517540.30673159]), array([421286.24983186]), array([429289.29535567])]\n",
      "delta: 0, p: nan\n",
      "delta: 1, p: 7.427475582959922e-29\n",
      "predictions: [array([181354.48864321]), array([343442.8306078]), array([436491.71713252]), array([517540.30673159]), array([421286.24983186]), array([429289.29535567]), array([403532.0786014])]\n",
      "delta: 0, p: nan\n"
     ]
    },
    {
     "name": "stderr",
     "output_type": "stream",
     "text": [
      "C:\\Users\\jeff1\\Anaconda3\\lib\\site-packages\\statsmodels\\tsa\\base\\tsa_model.py:221: ValueWarning: An unsupported index was provided and will be ignored when e.g. forecasting.\n",
      "  ' ignored when e.g. forecasting.', ValueWarning)\n"
     ]
    },
    {
     "name": "stdout",
     "output_type": "stream",
     "text": [
      "delta: 1, p: 0.24299999444408166\n",
      "delta: 2, p: 0.20463148849065993\n",
      "delta: 3, p: 0.02092195539768608\n"
     ]
    },
    {
     "name": "stderr",
     "output_type": "stream",
     "text": [
      "C:\\Users\\jeff1\\Anaconda3\\lib\\site-packages\\statsmodels\\tsa\\base\\tsa_model.py:221: ValueWarning: An unsupported index was provided and will be ignored when e.g. forecasting.\n",
      "  ' ignored when e.g. forecasting.', ValueWarning)\n"
     ]
    },
    {
     "name": "stdout",
     "output_type": "stream",
     "text": [
      "predictions: [array([230664.91112633])]\n",
      "delta: 0, p: nan\n",
      "delta: 1, p: 0.8789614536451609\n",
      "delta: 2, p: 0.6315580618033494\n",
      "delta: 3, p: 0.821303356909758\n",
      "delta: 4, p: 0.0\n"
     ]
    },
    {
     "name": "stderr",
     "output_type": "stream",
     "text": [
      "C:\\Users\\jeff1\\Anaconda3\\lib\\site-packages\\statsmodels\\tsa\\base\\tsa_model.py:221: ValueWarning: An unsupported index was provided and will be ignored when e.g. forecasting.\n",
      "  ' ignored when e.g. forecasting.', ValueWarning)\n"
     ]
    },
    {
     "name": "stdout",
     "output_type": "stream",
     "text": [
      "predictions: [array([230664.91112633]), array([304240.52933831])]\n",
      "delta: 0, p: nan\n",
      "delta: 1, p: 0.8843683863719232\n",
      "delta: 2, p: 0.9493319310786082\n",
      "delta: 3, p: 0.32398137438419167\n",
      "delta: 4, p: 0.5149135440878697\n",
      "delta: 5, p: 2.1539968433962493e-07\n"
     ]
    },
    {
     "name": "stderr",
     "output_type": "stream",
     "text": [
      "C:\\Users\\jeff1\\Anaconda3\\lib\\site-packages\\statsmodels\\tsa\\base\\tsa_model.py:221: ValueWarning: An unsupported index was provided and will be ignored when e.g. forecasting.\n",
      "  ' ignored when e.g. forecasting.', ValueWarning)\n"
     ]
    },
    {
     "name": "stdout",
     "output_type": "stream",
     "text": [
      "predictions: [array([230664.91112633]), array([304240.52933831]), array([307163.35908331])]\n",
      "delta: 0, p: nan\n",
      "delta: 1, p: 2.4452057536659447e-28\n"
     ]
    },
    {
     "name": "stderr",
     "output_type": "stream",
     "text": [
      "C:\\Users\\jeff1\\Anaconda3\\lib\\site-packages\\statsmodels\\tsa\\base\\tsa_model.py:221: ValueWarning: An unsupported index was provided and will be ignored when e.g. forecasting.\n",
      "  ' ignored when e.g. forecasting.', ValueWarning)\n"
     ]
    },
    {
     "name": "stdout",
     "output_type": "stream",
     "text": [
      "predictions: [array([230664.91112633]), array([304240.52933831]), array([307163.35908331]), array([379143.26966952])]\n",
      "delta: 0, p: nan\n",
      "delta: 1, p: 2.25972648593406e-28\n"
     ]
    },
    {
     "name": "stderr",
     "output_type": "stream",
     "text": [
      "C:\\Users\\jeff1\\Anaconda3\\lib\\site-packages\\statsmodels\\tsa\\base\\tsa_model.py:221: ValueWarning: An unsupported index was provided and will be ignored when e.g. forecasting.\n",
      "  ' ignored when e.g. forecasting.', ValueWarning)\n"
     ]
    },
    {
     "name": "stdout",
     "output_type": "stream",
     "text": [
      "bad condition 1: stationarity not adequate\n",
      "delta: 2, p: 0.5274359826345603\n",
      "delta: 3, p: 1.1433837829226304e-12\n"
     ]
    },
    {
     "name": "stderr",
     "output_type": "stream",
     "text": [
      "C:\\Users\\jeff1\\Anaconda3\\lib\\site-packages\\statsmodels\\tsa\\base\\tsa_model.py:221: ValueWarning: An unsupported index was provided and will be ignored when e.g. forecasting.\n",
      "  ' ignored when e.g. forecasting.', ValueWarning)\n",
      "C:\\Users\\jeff1\\Anaconda3\\lib\\site-packages\\statsmodels\\base\\model.py:488: HessianInversionWarning: Inverting hessian failed, no bse or cov_params available\n",
      "  'available', HessianInversionWarning)\n",
      "C:\\Users\\jeff1\\Anaconda3\\lib\\site-packages\\statsmodels\\tsa\\base\\tsa_model.py:221: ValueWarning: An unsupported index was provided and will be ignored when e.g. forecasting.\n",
      "  ' ignored when e.g. forecasting.', ValueWarning)\n"
     ]
    },
    {
     "name": "stdout",
     "output_type": "stream",
     "text": [
      "predictions: [array([230664.91112633]), array([304240.52933831]), array([307163.35908331]), array([379143.26966952]), array([350891.20805404])]\n",
      "delta: 0, p: nan\n",
      "delta: 1, p: 2.078087380380687e-28\n",
      "predictions: [array([230664.91112633]), array([304240.52933831]), array([307163.35908331]), array([379143.26966952]), array([350891.20805404]), array([442279.38644836])]\n",
      "delta: 0, p: nan\n",
      "delta: 1, p: 1.9121480336728288e-28\n",
      "predictions: [array([230664.91112633]), array([304240.52933831]), array([307163.35908331]), array([379143.26966952]), array([350891.20805404]), array([442279.38644836]), array([403487.67492939])]\n",
      "delta: 0, p: nan\n",
      "delta: 1, p: 0.5068600870619291\n"
     ]
    },
    {
     "name": "stderr",
     "output_type": "stream",
     "text": [
      "C:\\Users\\jeff1\\Anaconda3\\lib\\site-packages\\statsmodels\\tsa\\base\\tsa_model.py:221: ValueWarning: An unsupported index was provided and will be ignored when e.g. forecasting.\n",
      "  ' ignored when e.g. forecasting.', ValueWarning)\n"
     ]
    },
    {
     "name": "stdout",
     "output_type": "stream",
     "text": [
      "delta: 2, p: 0.25051857704834835\n",
      "delta: 3, p: 0.22634690580759476\n",
      "delta: 4, p: 0.034838480339730915\n"
     ]
    },
    {
     "name": "stderr",
     "output_type": "stream",
     "text": [
      "C:\\Users\\jeff1\\Anaconda3\\lib\\site-packages\\statsmodels\\tsa\\base\\tsa_model.py:221: ValueWarning: An unsupported index was provided and will be ignored when e.g. forecasting.\n",
      "  ' ignored when e.g. forecasting.', ValueWarning)\n"
     ]
    },
    {
     "name": "stdout",
     "output_type": "stream",
     "text": [
      "predictions: [array([263768.10488258])]\n",
      "delta: 0, p: nan\n",
      "delta: 1, p: 0.384243532389745\n",
      "delta: 2, p: 0.13261299415636968\n",
      "delta: 3, p: 0.3807049914869313\n",
      "delta: 4, p: 0.0\n"
     ]
    },
    {
     "name": "stderr",
     "output_type": "stream",
     "text": [
      "C:\\Users\\jeff1\\Anaconda3\\lib\\site-packages\\statsmodels\\tsa\\base\\tsa_model.py:221: ValueWarning: An unsupported index was provided and will be ignored when e.g. forecasting.\n",
      "  ' ignored when e.g. forecasting.', ValueWarning)\n"
     ]
    },
    {
     "name": "stdout",
     "output_type": "stream",
     "text": [
      "predictions: [array([263768.10488258]), array([339078.29617502])]\n",
      "delta: 0, p: nan\n",
      "delta: 1, p: 4.160055579154242e-28\n"
     ]
    },
    {
     "name": "stderr",
     "output_type": "stream",
     "text": [
      "C:\\Users\\jeff1\\Anaconda3\\lib\\site-packages\\statsmodels\\tsa\\base\\tsa_model.py:221: ValueWarning: An unsupported index was provided and will be ignored when e.g. forecasting.\n",
      "  ' ignored when e.g. forecasting.', ValueWarning)\n"
     ]
    },
    {
     "name": "stdout",
     "output_type": "stream",
     "text": [
      "predictions: [array([263768.10488258]), array([339078.29617502]), array([445923.00913221])]\n",
      "delta: 0, p: nan\n",
      "delta: 1, p: 3.8334764124421937e-28\n"
     ]
    },
    {
     "name": "stderr",
     "output_type": "stream",
     "text": [
      "C:\\Users\\jeff1\\Anaconda3\\lib\\site-packages\\statsmodels\\tsa\\base\\tsa_model.py:221: ValueWarning: An unsupported index was provided and will be ignored when e.g. forecasting.\n",
      "  ' ignored when e.g. forecasting.', ValueWarning)\n"
     ]
    },
    {
     "name": "stdout",
     "output_type": "stream",
     "text": [
      "predictions: [array([263768.10488258]), array([339078.29617502]), array([445923.00913221]), array([383928.06839776])]\n",
      "delta: 0, p: nan\n",
      "delta: 1, p: 3.544022149317682e-28\n"
     ]
    },
    {
     "name": "stderr",
     "output_type": "stream",
     "text": [
      "C:\\Users\\jeff1\\Anaconda3\\lib\\site-packages\\statsmodels\\tsa\\base\\tsa_model.py:221: ValueWarning: An unsupported index was provided and will be ignored when e.g. forecasting.\n",
      "  ' ignored when e.g. forecasting.', ValueWarning)\n"
     ]
    },
    {
     "name": "stdout",
     "output_type": "stream",
     "text": [
      "predictions: [array([263768.10488258]), array([339078.29617502]), array([445923.00913221]), array([383928.06839776]), array([415598.49503395])]\n",
      "delta: 0, p: nan\n",
      "delta: 1, p: 3.2495887547927784e-28\n"
     ]
    },
    {
     "name": "stderr",
     "output_type": "stream",
     "text": [
      "C:\\Users\\jeff1\\Anaconda3\\lib\\site-packages\\statsmodels\\tsa\\base\\tsa_model.py:221: ValueWarning: An unsupported index was provided and will be ignored when e.g. forecasting.\n",
      "  ' ignored when e.g. forecasting.', ValueWarning)\n"
     ]
    },
    {
     "name": "stdout",
     "output_type": "stream",
     "text": [
      "predictions: [array([263768.10488258]), array([339078.29617502]), array([445923.00913221]), array([383928.06839776]), array([415598.49503395]), array([417189.29179572])]\n",
      "delta: 0, p: nan\n",
      "delta: 1, p: 2.981136389658285e-28\n"
     ]
    },
    {
     "name": "stderr",
     "output_type": "stream",
     "text": [
      "C:\\Users\\jeff1\\Anaconda3\\lib\\site-packages\\statsmodels\\tsa\\base\\tsa_model.py:221: ValueWarning: An unsupported index was provided and will be ignored when e.g. forecasting.\n",
      "  ' ignored when e.g. forecasting.', ValueWarning)\n"
     ]
    },
    {
     "name": "stdout",
     "output_type": "stream",
     "text": [
      "predictions: [array([263768.10488258]), array([339078.29617502]), array([445923.00913221]), array([383928.06839776]), array([415598.49503395]), array([417189.29179572]), array([403509.55020413])]\n",
      "delta: 0, p: nan\n",
      "delta: 1, p: 0.27806235801761753\n",
      "delta: 2, p: 0.017388476209947844\n"
     ]
    },
    {
     "name": "stderr",
     "output_type": "stream",
     "text": [
      "C:\\Users\\jeff1\\Anaconda3\\lib\\site-packages\\statsmodels\\tsa\\base\\tsa_model.py:221: ValueWarning: An unsupported index was provided and will be ignored when e.g. forecasting.\n",
      "  ' ignored when e.g. forecasting.', ValueWarning)\n",
      "C:\\Users\\jeff1\\Anaconda3\\lib\\site-packages\\statsmodels\\base\\model.py:488: HessianInversionWarning: Inverting hessian failed, no bse or cov_params available\n",
      "  'available', HessianInversionWarning)\n",
      "C:\\Users\\jeff1\\Anaconda3\\lib\\site-packages\\statsmodels\\tsa\\base\\tsa_model.py:221: ValueWarning: An unsupported index was provided and will be ignored when e.g. forecasting.\n",
      "  ' ignored when e.g. forecasting.', ValueWarning)\n"
     ]
    },
    {
     "name": "stdout",
     "output_type": "stream",
     "text": [
      "predictions: [array([248349.57207417])]\n",
      "delta: 0, p: nan\n",
      "delta: 1, p: 0.7504341316380339\n",
      "delta: 2, p: 0.4614869073846627\n",
      "delta: 3, p: 0.751747048182704\n",
      "delta: 4, p: 0.0\n",
      "predictions: [array([248349.57207417]), array([326932.40704351])]\n",
      "delta: 0, p: nan\n",
      "delta: 1, p: 2.8855783205985907e-28\n"
     ]
    },
    {
     "name": "stderr",
     "output_type": "stream",
     "text": [
      "C:\\Users\\jeff1\\Anaconda3\\lib\\site-packages\\statsmodels\\tsa\\base\\tsa_model.py:221: ValueWarning: An unsupported index was provided and will be ignored when e.g. forecasting.\n",
      "  ' ignored when e.g. forecasting.', ValueWarning)\n",
      "C:\\Users\\jeff1\\Anaconda3\\lib\\site-packages\\statsmodels\\base\\model.py:488: HessianInversionWarning: Inverting hessian failed, no bse or cov_params available\n",
      "  'available', HessianInversionWarning)\n",
      "C:\\Users\\jeff1\\Anaconda3\\lib\\site-packages\\statsmodels\\tsa\\base\\tsa_model.py:221: ValueWarning: An unsupported index was provided and will be ignored when e.g. forecasting.\n",
      "  ' ignored when e.g. forecasting.', ValueWarning)\n"
     ]
    },
    {
     "name": "stdout",
     "output_type": "stream",
     "text": [
      "predictions: [array([248349.57207417]), array([326932.40704351]), array([520084.98532777])]\n",
      "delta: 0, p: nan\n",
      "delta: 1, p: 2.6613251722717454e-28\n",
      "bad condition 1: stationarity not adequate\n",
      "delta: 2, p: 0.2705141958698929\n",
      "delta: 3, p: 0.8038829108069393\n",
      "delta: 4, p: 0.917455140305858\n",
      "delta: 5, p: 1.0014976518113078e-05\n"
     ]
    },
    {
     "name": "stderr",
     "output_type": "stream",
     "text": [
      "C:\\Users\\jeff1\\Anaconda3\\lib\\site-packages\\statsmodels\\tsa\\base\\tsa_model.py:221: ValueWarning: An unsupported index was provided and will be ignored when e.g. forecasting.\n",
      "  ' ignored when e.g. forecasting.', ValueWarning)\n"
     ]
    },
    {
     "name": "stdout",
     "output_type": "stream",
     "text": [
      "predictions: [array([248349.57207417]), array([326932.40704351]), array([520084.98532777]), array([329932.98298377])]\n",
      "delta: 0, p: nan\n",
      "delta: 1, p: 2.461328429528356e-28\n"
     ]
    },
    {
     "name": "stderr",
     "output_type": "stream",
     "text": [
      "C:\\Users\\jeff1\\Anaconda3\\lib\\site-packages\\statsmodels\\tsa\\base\\tsa_model.py:221: ValueWarning: An unsupported index was provided and will be ignored when e.g. forecasting.\n",
      "  ' ignored when e.g. forecasting.', ValueWarning)\n"
     ]
    },
    {
     "name": "stdout",
     "output_type": "stream",
     "text": [
      "predictions: [array([248349.57207417]), array([326932.40704351]), array([520084.98532777]), array([329932.98298377]), array([402948.79219016])]\n",
      "delta: 0, p: nan\n",
      "delta: 1, p: 2.262050054481763e-28\n"
     ]
    },
    {
     "name": "stderr",
     "output_type": "stream",
     "text": [
      "C:\\Users\\jeff1\\Anaconda3\\lib\\site-packages\\statsmodels\\tsa\\base\\tsa_model.py:221: ValueWarning: An unsupported index was provided and will be ignored when e.g. forecasting.\n",
      "  ' ignored when e.g. forecasting.', ValueWarning)\n"
     ]
    },
    {
     "name": "stdout",
     "output_type": "stream",
     "text": [
      "predictions: [array([248349.57207417]), array([326932.40704351]), array([520084.98532777]), array([329932.98298377]), array([402948.79219016]), array([443065.07989224])]\n",
      "delta: 0, p: nan\n",
      "delta: 1, p: 2.080072302486261e-28\n"
     ]
    },
    {
     "name": "stderr",
     "output_type": "stream",
     "text": [
      "C:\\Users\\jeff1\\Anaconda3\\lib\\site-packages\\statsmodels\\tsa\\base\\tsa_model.py:221: ValueWarning: An unsupported index was provided and will be ignored when e.g. forecasting.\n",
      "  ' ignored when e.g. forecasting.', ValueWarning)\n"
     ]
    },
    {
     "name": "stdout",
     "output_type": "stream",
     "text": [
      "predictions: [array([248349.57207417]), array([326932.40704351]), array([520084.98532777]), array([329932.98298377]), array([402948.79219016]), array([443065.07989224]), array([403517.00272431])]\n",
      "delta: 0, p: nan\n",
      "delta: 1, p: 1.7703012996555118e-11\n"
     ]
    },
    {
     "name": "stderr",
     "output_type": "stream",
     "text": [
      "C:\\Users\\jeff1\\Anaconda3\\lib\\site-packages\\statsmodels\\tsa\\base\\tsa_model.py:221: ValueWarning: An unsupported index was provided and will be ignored when e.g. forecasting.\n",
      "  ' ignored when e.g. forecasting.', ValueWarning)\n"
     ]
    },
    {
     "name": "stdout",
     "output_type": "stream",
     "text": [
      "predictions: [array([211375.9556561])]\n",
      "delta: 0, p: nan\n",
      "delta: 1, p: 0.9237785415305266\n",
      "delta: 2, p: 0.8307829819782548\n",
      "delta: 3, p: 0.9968083862366065\n",
      "delta: 4, p: 0.5069120663005628\n",
      "delta: 5, p: 0.9982798469132633\n",
      "delta: 6, p: 0.9966167146084166\n",
      "delta: 7, p: 0.9974833718953724\n",
      "delta: 8, p: 0.9971513139962558\n",
      "delta: 9, p: 0.997880952317931\n",
      "delta: 0, p: nan\n",
      "bad condition 0: stationarity not adequate\n",
      "delta: 1, p: 0.9237785415305266\n"
     ]
    },
    {
     "name": "stderr",
     "output_type": "stream",
     "text": [
      "C:\\Users\\jeff1\\Anaconda3\\lib\\site-packages\\statsmodels\\tsa\\base\\tsa_model.py:221: ValueWarning: An unsupported index was provided and will be ignored when e.g. forecasting.\n",
      "  ' ignored when e.g. forecasting.', ValueWarning)\n",
      "C:\\Users\\jeff1\\Anaconda3\\lib\\site-packages\\statsmodels\\tsa\\base\\tsa_model.py:221: ValueWarning: An unsupported index was provided and will be ignored when e.g. forecasting.\n",
      "  ' ignored when e.g. forecasting.', ValueWarning)\n"
     ]
    },
    {
     "name": "stdout",
     "output_type": "stream",
     "text": [
      "predictions: [array([211375.9556561]), array([591332.79784956])]\n",
      "delta: 0, p: nan\n",
      "delta: 1, p: 2.9843061709260714e-27\n"
     ]
    },
    {
     "name": "stderr",
     "output_type": "stream",
     "text": [
      "C:\\Users\\jeff1\\Anaconda3\\lib\\site-packages\\statsmodels\\tsa\\base\\tsa_model.py:221: ValueWarning: An unsupported index was provided and will be ignored when e.g. forecasting.\n",
      "  ' ignored when e.g. forecasting.', ValueWarning)\n"
     ]
    },
    {
     "name": "stdout",
     "output_type": "stream",
     "text": [
      "predictions: [array([211375.9556561]), array([591332.79784956]), array([388664.81792746])]\n",
      "delta: 0, p: nan\n",
      "delta: 1, p: 2.712594670378907e-27\n"
     ]
    },
    {
     "name": "stderr",
     "output_type": "stream",
     "text": [
      "C:\\Users\\jeff1\\Anaconda3\\lib\\site-packages\\statsmodels\\tsa\\base\\tsa_model.py:221: ValueWarning: An unsupported index was provided and will be ignored when e.g. forecasting.\n",
      "  ' ignored when e.g. forecasting.', ValueWarning)\n"
     ]
    },
    {
     "name": "stdout",
     "output_type": "stream",
     "text": [
      "predictions: [array([211375.9556561]), array([591332.79784956]), array([388664.81792746]), array([380790.46153401])]\n",
      "delta: 0, p: nan\n",
      "delta: 1, p: 2.4703570699493173e-27\n"
     ]
    },
    {
     "name": "stderr",
     "output_type": "stream",
     "text": [
      "C:\\Users\\jeff1\\Anaconda3\\lib\\site-packages\\statsmodels\\tsa\\base\\tsa_model.py:221: ValueWarning: An unsupported index was provided and will be ignored when e.g. forecasting.\n",
      "  ' ignored when e.g. forecasting.', ValueWarning)\n"
     ]
    },
    {
     "name": "stdout",
     "output_type": "stream",
     "text": [
      "predictions: [array([211375.9556561]), array([591332.79784956]), array([388664.81792746]), array([380790.46153401]), array([389448.13915457])]\n",
      "delta: 0, p: nan\n",
      "delta: 1, p: 2.2418562504779585e-27\n"
     ]
    },
    {
     "name": "stderr",
     "output_type": "stream",
     "text": [
      "C:\\Users\\jeff1\\Anaconda3\\lib\\site-packages\\statsmodels\\tsa\\base\\tsa_model.py:221: ValueWarning: An unsupported index was provided and will be ignored when e.g. forecasting.\n",
      "  ' ignored when e.g. forecasting.', ValueWarning)\n"
     ]
    },
    {
     "name": "stdout",
     "output_type": "stream",
     "text": [
      "predictions: [array([211375.9556561]), array([591332.79784956]), array([388664.81792746]), array([380790.46153401]), array([389448.13915457]), array([413390.90053633])]\n",
      "delta: 0, p: nan\n",
      "delta: 1, p: 2.036647300421032e-27\n",
      "predictions: [array([211375.9556561]), array([591332.79784956]), array([388664.81792746]), array([380790.46153401]), array([389448.13915457]), array([413390.90053633]), array([403622.3796222])]\n",
      "delta: 0, p: nan\n"
     ]
    },
    {
     "name": "stderr",
     "output_type": "stream",
     "text": [
      "C:\\Users\\jeff1\\Anaconda3\\lib\\site-packages\\statsmodels\\tsa\\base\\tsa_model.py:221: ValueWarning: An unsupported index was provided and will be ignored when e.g. forecasting.\n",
      "  ' ignored when e.g. forecasting.', ValueWarning)\n"
     ]
    },
    {
     "name": "stdout",
     "output_type": "stream",
     "text": [
      "delta: 1, p: 0.006359588528032379\n"
     ]
    },
    {
     "name": "stderr",
     "output_type": "stream",
     "text": [
      "C:\\Users\\jeff1\\Anaconda3\\lib\\site-packages\\statsmodels\\tsa\\base\\tsa_model.py:221: ValueWarning: An unsupported index was provided and will be ignored when e.g. forecasting.\n",
      "  ' ignored when e.g. forecasting.', ValueWarning)\n"
     ]
    },
    {
     "name": "stdout",
     "output_type": "stream",
     "text": [
      "predictions: [array([302888.87058063])]\n",
      "delta: 0, p: nan\n",
      "delta: 1, p: 0.07266402171523982\n",
      "delta: 2, p: 0.2621234786850845\n",
      "delta: 3, p: 0.030871843987527358\n"
     ]
    },
    {
     "name": "stderr",
     "output_type": "stream",
     "text": [
      "C:\\Users\\jeff1\\Anaconda3\\lib\\site-packages\\statsmodels\\tsa\\base\\tsa_model.py:221: ValueWarning: An unsupported index was provided and will be ignored when e.g. forecasting.\n",
      "  ' ignored when e.g. forecasting.', ValueWarning)\n"
     ]
    },
    {
     "name": "stdout",
     "output_type": "stream",
     "text": [
      "predictions: [array([302888.87058063]), array([366780.85445663])]\n",
      "delta: 0, p: nan\n",
      "delta: 1, p: 9.834819811243688e-05\n"
     ]
    },
    {
     "name": "stderr",
     "output_type": "stream",
     "text": [
      "C:\\Users\\jeff1\\Anaconda3\\lib\\site-packages\\statsmodels\\tsa\\base\\tsa_model.py:221: ValueWarning: An unsupported index was provided and will be ignored when e.g. forecasting.\n",
      "  ' ignored when e.g. forecasting.', ValueWarning)\n"
     ]
    },
    {
     "name": "stdout",
     "output_type": "stream",
     "text": [
      "predictions: [array([302888.87058063]), array([366780.85445663]), array([425676.36001474])]\n",
      "delta: 0, p: nan\n",
      "delta: 1, p: 3.0121451911348117e-22\n"
     ]
    },
    {
     "name": "stderr",
     "output_type": "stream",
     "text": [
      "C:\\Users\\jeff1\\Anaconda3\\lib\\site-packages\\statsmodels\\tsa\\base\\tsa_model.py:221: ValueWarning: An unsupported index was provided and will be ignored when e.g. forecasting.\n",
      "  ' ignored when e.g. forecasting.', ValueWarning)\n"
     ]
    },
    {
     "name": "stdout",
     "output_type": "stream",
     "text": [
      "predictions: [array([302888.87058063]), array([366780.85445663]), array([425676.36001474]), array([392971.89189372])]\n",
      "delta: 0, p: nan\n",
      "delta: 1, p: 2.7231129635363743e-22\n"
     ]
    },
    {
     "name": "stderr",
     "output_type": "stream",
     "text": [
      "C:\\Users\\jeff1\\Anaconda3\\lib\\site-packages\\statsmodels\\tsa\\base\\tsa_model.py:221: ValueWarning: An unsupported index was provided and will be ignored when e.g. forecasting.\n",
      "  ' ignored when e.g. forecasting.', ValueWarning)\n"
     ]
    },
    {
     "name": "stdout",
     "output_type": "stream",
     "text": [
      "predictions: [array([302888.87058063]), array([366780.85445663]), array([425676.36001474]), array([392971.89189372]), array([398650.9576608])]\n",
      "delta: 0, p: nan\n",
      "delta: 1, p: 2.409978036579529e-22\n"
     ]
    },
    {
     "name": "stderr",
     "output_type": "stream",
     "text": [
      "C:\\Users\\jeff1\\Anaconda3\\lib\\site-packages\\statsmodels\\tsa\\base\\tsa_model.py:221: ValueWarning: An unsupported index was provided and will be ignored when e.g. forecasting.\n",
      "  ' ignored when e.g. forecasting.', ValueWarning)\n"
     ]
    },
    {
     "name": "stdout",
     "output_type": "stream",
     "text": [
      "predictions: [array([302888.87058063]), array([366780.85445663]), array([425676.36001474]), array([392971.89189372]), array([398650.9576608]), array([400441.11467182])]\n",
      "delta: 0, p: nan\n",
      "delta: 1, p: 2.1392929598749127e-22\n"
     ]
    },
    {
     "name": "stderr",
     "output_type": "stream",
     "text": [
      "C:\\Users\\jeff1\\Anaconda3\\lib\\site-packages\\statsmodels\\tsa\\base\\tsa_model.py:221: ValueWarning: An unsupported index was provided and will be ignored when e.g. forecasting.\n",
      "  ' ignored when e.g. forecasting.', ValueWarning)\n"
     ]
    },
    {
     "name": "stdout",
     "output_type": "stream",
     "text": [
      "predictions: [array([302888.87058063]), array([366780.85445663]), array([425676.36001474]), array([392971.89189372]), array([398650.9576608]), array([400441.11467182]), array([403411.03851124])]\n",
      "delta: 0, p: nan\n",
      "delta: 1, p: 0.3884035145151537\n",
      "delta: 2, p: 0.2025219857952858\n",
      "delta: 3, p: 0.2004083903600824\n",
      "delta: 4, p: 0.010569079183049583\n"
     ]
    },
    {
     "name": "stderr",
     "output_type": "stream",
     "text": [
      "C:\\Users\\jeff1\\Anaconda3\\lib\\site-packages\\statsmodels\\tsa\\base\\tsa_model.py:221: ValueWarning: An unsupported index was provided and will be ignored when e.g. forecasting.\n",
      "  ' ignored when e.g. forecasting.', ValueWarning)\n"
     ]
    },
    {
     "name": "stdout",
     "output_type": "stream",
     "text": [
      "predictions: [array([253657.37116408])]\n",
      "delta: 0, p: nan\n",
      "delta: 1, p: 0.3900420013618024\n",
      "delta: 2, p: 0.5707101810682477\n",
      "delta: 3, p: 0.32759170469230525\n",
      "delta: 4, p: 0.0\n"
     ]
    },
    {
     "name": "stderr",
     "output_type": "stream",
     "text": [
      "C:\\Users\\jeff1\\Anaconda3\\lib\\site-packages\\statsmodels\\tsa\\base\\tsa_model.py:221: ValueWarning: An unsupported index was provided and will be ignored when e.g. forecasting.\n",
      "  ' ignored when e.g. forecasting.', ValueWarning)\n"
     ]
    },
    {
     "name": "stdout",
     "output_type": "stream",
     "text": [
      "predictions: [array([253657.37116408]), array([327355.24875668])]\n",
      "delta: 0, p: nan\n",
      "delta: 1, p: 2.313674095920421e-28\n"
     ]
    },
    {
     "name": "stderr",
     "output_type": "stream",
     "text": [
      "C:\\Users\\jeff1\\Anaconda3\\lib\\site-packages\\statsmodels\\tsa\\base\\tsa_model.py:221: ValueWarning: An unsupported index was provided and will be ignored when e.g. forecasting.\n",
      "  ' ignored when e.g. forecasting.', ValueWarning)\n",
      "C:\\Users\\jeff1\\Anaconda3\\lib\\site-packages\\statsmodels\\base\\model.py:488: HessianInversionWarning: Inverting hessian failed, no bse or cov_params available\n",
      "  'available', HessianInversionWarning)\n",
      "C:\\Users\\jeff1\\Anaconda3\\lib\\site-packages\\statsmodels\\tsa\\base\\tsa_model.py:221: ValueWarning: An unsupported index was provided and will be ignored when e.g. forecasting.\n",
      "  ' ignored when e.g. forecasting.', ValueWarning)\n"
     ]
    },
    {
     "name": "stdout",
     "output_type": "stream",
     "text": [
      "predictions: [array([253657.37116408]), array([327355.24875668]), array([489613.82576611])]\n",
      "delta: 0, p: nan\n",
      "delta: 1, p: 2.1379556019815352e-28\n",
      "predictions: [array([253657.37116408]), array([327355.24875668]), array([489613.82576611]), array([374174.06896506])]\n",
      "delta: 0, p: nan\n",
      "delta: 1, p: 1.9813894305265397e-28\n"
     ]
    },
    {
     "name": "stderr",
     "output_type": "stream",
     "text": [
      "C:\\Users\\jeff1\\Anaconda3\\lib\\site-packages\\statsmodels\\tsa\\base\\tsa_model.py:221: ValueWarning: An unsupported index was provided and will be ignored when e.g. forecasting.\n",
      "  ' ignored when e.g. forecasting.', ValueWarning)\n"
     ]
    },
    {
     "name": "stdout",
     "output_type": "stream",
     "text": [
      "predictions: [array([253657.37116408]), array([327355.24875668]), array([489613.82576611]), array([374174.06896506]), array([374641.95921952])]\n",
      "delta: 0, p: nan\n",
      "delta: 1, p: 1.82386869239757e-28\n"
     ]
    },
    {
     "name": "stderr",
     "output_type": "stream",
     "text": [
      "C:\\Users\\jeff1\\Anaconda3\\lib\\site-packages\\statsmodels\\tsa\\base\\tsa_model.py:221: ValueWarning: An unsupported index was provided and will be ignored when e.g. forecasting.\n",
      "  ' ignored when e.g. forecasting.', ValueWarning)\n"
     ]
    },
    {
     "name": "stdout",
     "output_type": "stream",
     "text": [
      "predictions: [array([253657.37116408]), array([327355.24875668]), array([489613.82576611]), array([374174.06896506]), array([374641.95921952]), array([417212.97992602])]\n",
      "delta: 0, p: nan\n",
      "delta: 1, p: 1.6795894238232023e-28\n",
      "predictions: [array([253657.37116408]), array([327355.24875668]), array([489613.82576611]), array([374174.06896506]), array([374641.95921952]), array([417212.97992602]), array([403422.52623943])]\n",
      "delta: 0, p: nan\n",
      "delta: 1, p: 0.3974697166341651\n"
     ]
    },
    {
     "name": "stderr",
     "output_type": "stream",
     "text": [
      "C:\\Users\\jeff1\\Anaconda3\\lib\\site-packages\\statsmodels\\tsa\\base\\tsa_model.py:221: ValueWarning: An unsupported index was provided and will be ignored when e.g. forecasting.\n",
      "  ' ignored when e.g. forecasting.', ValueWarning)\n"
     ]
    },
    {
     "name": "stdout",
     "output_type": "stream",
     "text": [
      "delta: 2, p: 0.4319464153423911\n",
      "delta: 3, p: 0.14309859053503637\n",
      "delta: 4, p: 0.44201527034526317\n",
      "delta: 5, p: 0.2862385573606006\n",
      "delta: 6, p: 0.08901882969482722\n",
      "delta: 7, p: 0.012540488240036247\n"
     ]
    },
    {
     "name": "stderr",
     "output_type": "stream",
     "text": [
      "C:\\Users\\jeff1\\Anaconda3\\lib\\site-packages\\statsmodels\\tsa\\base\\tsa_model.py:221: ValueWarning: An unsupported index was provided and will be ignored when e.g. forecasting.\n",
      "  ' ignored when e.g. forecasting.', ValueWarning)\n"
     ]
    },
    {
     "name": "stdout",
     "output_type": "stream",
     "text": [
      "predictions: [array([229922.69398674])]\n",
      "delta: 0, p: nan\n",
      "delta: 1, p: 0.9356696556666735\n",
      "delta: 2, p: 0.9471183957309601\n",
      "delta: 3, p: 0.0\n"
     ]
    },
    {
     "name": "stderr",
     "output_type": "stream",
     "text": [
      "C:\\Users\\jeff1\\Anaconda3\\lib\\site-packages\\statsmodels\\tsa\\base\\tsa_model.py:221: ValueWarning: An unsupported index was provided and will be ignored when e.g. forecasting.\n",
      "  ' ignored when e.g. forecasting.', ValueWarning)\n"
     ]
    },
    {
     "name": "stdout",
     "output_type": "stream",
     "text": [
      "predictions: [array([229922.69398674]), array([301801.80824234])]\n",
      "delta: 0, p: nan\n",
      "delta: 1, p: 0.5979573733635505\n",
      "delta: 2, p: 2.2131321806885405e-30\n"
     ]
    },
    {
     "name": "stderr",
     "output_type": "stream",
     "text": [
      "C:\\Users\\jeff1\\Anaconda3\\lib\\site-packages\\statsmodels\\tsa\\base\\tsa_model.py:221: ValueWarning: An unsupported index was provided and will be ignored when e.g. forecasting.\n",
      "  ' ignored when e.g. forecasting.', ValueWarning)\n"
     ]
    },
    {
     "name": "stdout",
     "output_type": "stream",
     "text": [
      "predictions: [array([229922.69398674]), array([301801.80824234]), array([416188.402668])]\n",
      "delta: 0, p: nan\n",
      "delta: 1, p: 2.66243602206155e-28\n"
     ]
    },
    {
     "name": "stderr",
     "output_type": "stream",
     "text": [
      "C:\\Users\\jeff1\\Anaconda3\\lib\\site-packages\\statsmodels\\tsa\\base\\tsa_model.py:221: ValueWarning: An unsupported index was provided and will be ignored when e.g. forecasting.\n",
      "  ' ignored when e.g. forecasting.', ValueWarning)\n"
     ]
    },
    {
     "name": "stdout",
     "output_type": "stream",
     "text": [
      "predictions: [array([229922.69398674]), array([301801.80824234]), array([416188.402668]), array([436786.93848404])]\n",
      "delta: 0, p: nan\n",
      "delta: 1, p: 2.4589765657545154e-28\n"
     ]
    },
    {
     "name": "stderr",
     "output_type": "stream",
     "text": [
      "C:\\Users\\jeff1\\Anaconda3\\lib\\site-packages\\statsmodels\\tsa\\base\\tsa_model.py:221: ValueWarning: An unsupported index was provided and will be ignored when e.g. forecasting.\n",
      "  ' ignored when e.g. forecasting.', ValueWarning)\n"
     ]
    },
    {
     "name": "stdout",
     "output_type": "stream",
     "text": [
      "predictions: [array([229922.69398674]), array([301801.80824234]), array([416188.402668]), array([436786.93848404]), array([430085.05432291])]\n",
      "delta: 0, p: nan\n",
      "delta: 1, p: 2.2601409250667973e-28\n"
     ]
    },
    {
     "name": "stderr",
     "output_type": "stream",
     "text": [
      "C:\\Users\\jeff1\\Anaconda3\\lib\\site-packages\\statsmodels\\tsa\\base\\tsa_model.py:221: ValueWarning: An unsupported index was provided and will be ignored when e.g. forecasting.\n",
      "  ' ignored when e.g. forecasting.', ValueWarning)\n"
     ]
    },
    {
     "name": "stdout",
     "output_type": "stream",
     "text": [
      "predictions: [array([229922.69398674]), array([301801.80824234]), array([416188.402668]), array([436786.93848404]), array([430085.05432291]), array([403839.19694744])]\n",
      "delta: 0, p: nan\n",
      "delta: 1, p: 2.0785489791940066e-28\n",
      "predictions: [array([229922.69398674]), array([301801.80824234]), array([416188.402668]), array([436786.93848404]), array([430085.05432291]), array([403839.19694744]), array([403488.20789574])]\n"
     ]
    },
    {
     "name": "stderr",
     "output_type": "stream",
     "text": [
      "C:\\Users\\jeff1\\Anaconda3\\lib\\site-packages\\statsmodels\\tsa\\base\\tsa_model.py:221: ValueWarning: An unsupported index was provided and will be ignored when e.g. forecasting.\n",
      "  ' ignored when e.g. forecasting.', ValueWarning)\n"
     ]
    },
    {
     "name": "stdout",
     "output_type": "stream",
     "text": [
      "delta: 0, p: nan\n",
      "delta: 1, p: 0.27287854282006563\n",
      "delta: 2, p: 0.10199230477112342\n",
      "delta: 3, p: 0.1457852588276079\n",
      "delta: 4, p: 0.25790352802756894\n",
      "delta: 5, p: 0.30925444729076845\n",
      "delta: 6, p: 0.2608183449397188\n",
      "delta: 7, p: 0.16450524685017687\n",
      "delta: 8, p: 0.021338421900742238\n"
     ]
    },
    {
     "name": "stderr",
     "output_type": "stream",
     "text": [
      "C:\\Users\\jeff1\\Anaconda3\\lib\\site-packages\\statsmodels\\tsa\\base\\tsa_model.py:221: ValueWarning: An unsupported index was provided and will be ignored when e.g. forecasting.\n",
      "  ' ignored when e.g. forecasting.', ValueWarning)\n",
      "C:\\Users\\jeff1\\Anaconda3\\lib\\site-packages\\statsmodels\\base\\model.py:488: HessianInversionWarning: Inverting hessian failed, no bse or cov_params available\n",
      "  'available', HessianInversionWarning)\n",
      "C:\\Users\\jeff1\\Anaconda3\\lib\\site-packages\\statsmodels\\tsa\\base\\tsa_model.py:221: ValueWarning: An unsupported index was provided and will be ignored when e.g. forecasting.\n",
      "  ' ignored when e.g. forecasting.', ValueWarning)\n"
     ]
    },
    {
     "name": "stdout",
     "output_type": "stream",
     "text": [
      "predictions: [array([227266.78520593])]\n",
      "delta: 0, p: nan\n",
      "delta: 1, p: 0.8631992857396149\n",
      "delta: 2, p: 0.7579719926386206\n",
      "delta: 3, p: 0.7209568998244545\n",
      "delta: 4, p: 0.0\n",
      "predictions: [array([227266.78520593]), array([299190.38744769])]\n",
      "delta: 0, p: nan\n",
      "delta: 1, p: 1.534202487595646e-28\n"
     ]
    },
    {
     "name": "stderr",
     "output_type": "stream",
     "text": [
      "C:\\Users\\jeff1\\Anaconda3\\lib\\site-packages\\statsmodels\\tsa\\base\\tsa_model.py:221: ValueWarning: An unsupported index was provided and will be ignored when e.g. forecasting.\n",
      "  ' ignored when e.g. forecasting.', ValueWarning)\n"
     ]
    },
    {
     "name": "stdout",
     "output_type": "stream",
     "text": [
      "bad condition 1: stationarity not adequate\n",
      "delta: 2, p: 0.9089345950310374\n",
      "delta: 3, p: 0.0\n"
     ]
    },
    {
     "name": "stderr",
     "output_type": "stream",
     "text": [
      "C:\\Users\\jeff1\\Anaconda3\\lib\\site-packages\\statsmodels\\tsa\\base\\tsa_model.py:221: ValueWarning: An unsupported index was provided and will be ignored when e.g. forecasting.\n",
      "  ' ignored when e.g. forecasting.', ValueWarning)\n"
     ]
    },
    {
     "name": "stdout",
     "output_type": "stream",
     "text": [
      "predictions: [array([227266.78520593]), array([299190.38744769]), array([258387.24897862])]\n",
      "delta: 0, p: nan\n",
      "delta: 1, p: 1.4187548477989175e-28\n"
     ]
    },
    {
     "name": "stderr",
     "output_type": "stream",
     "text": [
      "C:\\Users\\jeff1\\Anaconda3\\lib\\site-packages\\statsmodels\\tsa\\base\\tsa_model.py:221: ValueWarning: An unsupported index was provided and will be ignored when e.g. forecasting.\n",
      "  ' ignored when e.g. forecasting.', ValueWarning)\n"
     ]
    },
    {
     "name": "stdout",
     "output_type": "stream",
     "text": [
      "bad condition 1: stationarity not adequate\n",
      "delta: 2, p: 4.506450237580756e-25\n"
     ]
    },
    {
     "name": "stderr",
     "output_type": "stream",
     "text": [
      "C:\\Users\\jeff1\\Anaconda3\\lib\\site-packages\\statsmodels\\tsa\\base\\tsa_model.py:221: ValueWarning: An unsupported index was provided and will be ignored when e.g. forecasting.\n",
      "  ' ignored when e.g. forecasting.', ValueWarning)\n"
     ]
    },
    {
     "name": "stdout",
     "output_type": "stream",
     "text": [
      "predictions: [array([227266.78520593]), array([299190.38744769]), array([258387.24897862]), array([329443.71789034])]\n",
      "delta: 0, p: nan\n",
      "delta: 1, p: 1.3150673698911998e-28\n"
     ]
    },
    {
     "name": "stderr",
     "output_type": "stream",
     "text": [
      "C:\\Users\\jeff1\\Anaconda3\\lib\\site-packages\\statsmodels\\tsa\\base\\tsa_model.py:221: ValueWarning: An unsupported index was provided and will be ignored when e.g. forecasting.\n",
      "  ' ignored when e.g. forecasting.', ValueWarning)\n"
     ]
    },
    {
     "name": "stdout",
     "output_type": "stream",
     "text": [
      "bad condition 1: stationarity not adequate\n",
      "delta: 2, p: 0.881506042936999\n",
      "delta: 3, p: 3.8098037832261124e-12\n"
     ]
    },
    {
     "name": "stderr",
     "output_type": "stream",
     "text": [
      "C:\\Users\\jeff1\\Anaconda3\\lib\\site-packages\\statsmodels\\tsa\\base\\tsa_model.py:221: ValueWarning: An unsupported index was provided and will be ignored when e.g. forecasting.\n",
      "  ' ignored when e.g. forecasting.', ValueWarning)\n"
     ]
    },
    {
     "name": "stdout",
     "output_type": "stream",
     "text": [
      "bad condition 3: stationarity not adequate\n",
      "delta: 4, p: 0.8631555087046385\n",
      "delta: 5, p: 2.526965690012749e-09\n"
     ]
    },
    {
     "name": "stderr",
     "output_type": "stream",
     "text": [
      "C:\\Users\\jeff1\\Anaconda3\\lib\\site-packages\\statsmodels\\tsa\\base\\tsa_model.py:221: ValueWarning: An unsupported index was provided and will be ignored when e.g. forecasting.\n",
      "  ' ignored when e.g. forecasting.', ValueWarning)\n",
      "C:\\Users\\jeff1\\Anaconda3\\lib\\site-packages\\statsmodels\\base\\model.py:488: HessianInversionWarning: Inverting hessian failed, no bse or cov_params available\n",
      "  'available', HessianInversionWarning)\n",
      "C:\\Users\\jeff1\\Anaconda3\\lib\\site-packages\\statsmodels\\tsa\\base\\tsa_model.py:221: ValueWarning: An unsupported index was provided and will be ignored when e.g. forecasting.\n",
      "  ' ignored when e.g. forecasting.', ValueWarning)\n"
     ]
    },
    {
     "name": "stdout",
     "output_type": "stream",
     "text": [
      "predictions: [array([227266.78520593]), array([299190.38744769]), array([258387.24897862]), array([329443.71789034]), array([365941.81591651])]\n",
      "delta: 0, p: nan\n",
      "delta: 1, p: 1.2138312453900935e-28\n",
      "predictions: [array([227266.78520593]), array([299190.38744769]), array([258387.24897862]), array([329443.71789034]), array([365941.81591651]), array([422985.07139617])]\n",
      "delta: 0, p: nan\n",
      "delta: 1, p: 1.1210984914880713e-28\n",
      "predictions: [array([227266.78520593]), array([299190.38744769]), array([258387.24897862]), array([329443.71789034]), array([365941.81591651]), array([422985.07139617]), array([403489.74946442])]\n",
      "delta: 0, p: nan\n",
      "delta: 1, p: 0.1709837602758122\n",
      "delta: 2, p: 0.16369368711579946\n"
     ]
    },
    {
     "name": "stderr",
     "output_type": "stream",
     "text": [
      "C:\\Users\\jeff1\\Anaconda3\\lib\\site-packages\\statsmodels\\tsa\\base\\tsa_model.py:221: ValueWarning: An unsupported index was provided and will be ignored when e.g. forecasting.\n",
      "  ' ignored when e.g. forecasting.', ValueWarning)\n"
     ]
    },
    {
     "name": "stdout",
     "output_type": "stream",
     "text": [
      "delta: 3, p: 0.18674840095024642\n",
      "delta: 4, p: 0.2734408070003643\n",
      "delta: 5, p: 0.21168973258319412\n",
      "delta: 6, p: 0.4964124048320139\n",
      "delta: 7, p: 0.15593183240952435\n",
      "delta: 8, p: 0.44797297171185063\n",
      "delta: 9, p: 1.4975457666769853e-28\n"
     ]
    },
    {
     "name": "stderr",
     "output_type": "stream",
     "text": [
      "C:\\Users\\jeff1\\Anaconda3\\lib\\site-packages\\statsmodels\\tsa\\base\\tsa_model.py:221: ValueWarning: An unsupported index was provided and will be ignored when e.g. forecasting.\n",
      "  ' ignored when e.g. forecasting.', ValueWarning)\n",
      "C:\\Users\\jeff1\\Anaconda3\\lib\\site-packages\\statsmodels\\base\\model.py:488: HessianInversionWarning: Inverting hessian failed, no bse or cov_params available\n",
      "  'available', HessianInversionWarning)\n",
      "C:\\Users\\jeff1\\Anaconda3\\lib\\site-packages\\statsmodels\\tsa\\base\\tsa_model.py:221: ValueWarning: An unsupported index was provided and will be ignored when e.g. forecasting.\n",
      "  ' ignored when e.g. forecasting.', ValueWarning)\n"
     ]
    },
    {
     "name": "stdout",
     "output_type": "stream",
     "text": [
      "predictions: [array([252169.54578826])]\n",
      "delta: 0, p: nan\n",
      "delta: 1, p: 0.9005500182275517\n",
      "delta: 2, p: 0.7069589374410986\n",
      "delta: 3, p: 0.8764939387961028\n",
      "delta: 4, p: 0.0\n"
     ]
    },
    {
     "name": "stderr",
     "output_type": "stream",
     "text": [
      "C:\\Users\\jeff1\\Anaconda3\\lib\\site-packages\\statsmodels\\base\\model.py:488: HessianInversionWarning: Inverting hessian failed, no bse or cov_params available\n",
      "  'available', HessianInversionWarning)\n",
      "C:\\Users\\jeff1\\Anaconda3\\lib\\site-packages\\statsmodels\\tsa\\base\\tsa_model.py:221: ValueWarning: An unsupported index was provided and will be ignored when e.g. forecasting.\n",
      "  ' ignored when e.g. forecasting.', ValueWarning)\n"
     ]
    },
    {
     "name": "stdout",
     "output_type": "stream",
     "text": [
      "predictions: [array([252169.54578826]), array([325777.145264])]\n",
      "delta: 0, p: nan\n",
      "delta: 1, p: 2.3715710820869987e-28\n"
     ]
    },
    {
     "name": "stderr",
     "output_type": "stream",
     "text": [
      "C:\\Users\\jeff1\\Anaconda3\\lib\\site-packages\\statsmodels\\base\\model.py:488: HessianInversionWarning: Inverting hessian failed, no bse or cov_params available\n",
      "  'available', HessianInversionWarning)\n",
      "C:\\Users\\jeff1\\Anaconda3\\lib\\site-packages\\statsmodels\\tsa\\base\\tsa_model.py:221: ValueWarning: An unsupported index was provided and will be ignored when e.g. forecasting.\n",
      "  ' ignored when e.g. forecasting.', ValueWarning)\n"
     ]
    },
    {
     "name": "stdout",
     "output_type": "stream",
     "text": [
      "predictions: [array([252169.54578826]), array([325777.145264]), array([484304.2790963])]\n",
      "delta: 0, p: nan\n",
      "delta: 1, p: 2.191033397503972e-28\n",
      "predictions: [array([252169.54578826]), array([325777.145264]), array([484304.2790963]), array([412979.23757336])]\n",
      "delta: 0, p: nan\n",
      "delta: 1, p: 2.030174648126676e-28\n"
     ]
    },
    {
     "name": "stderr",
     "output_type": "stream",
     "text": [
      "C:\\Users\\jeff1\\Anaconda3\\lib\\site-packages\\statsmodels\\tsa\\base\\tsa_model.py:221: ValueWarning: An unsupported index was provided and will be ignored when e.g. forecasting.\n",
      "  ' ignored when e.g. forecasting.', ValueWarning)\n"
     ]
    },
    {
     "name": "stdout",
     "output_type": "stream",
     "text": [
      "predictions: [array([252169.54578826]), array([325777.145264]), array([484304.2790963]), array([412979.23757336]), array([418407.37314412])]\n",
      "delta: 0, p: nan\n",
      "delta: 1, p: 1.8684722970592164e-28\n"
     ]
    },
    {
     "name": "stderr",
     "output_type": "stream",
     "text": [
      "C:\\Users\\jeff1\\Anaconda3\\lib\\site-packages\\statsmodels\\tsa\\base\\tsa_model.py:221: ValueWarning: An unsupported index was provided and will be ignored when e.g. forecasting.\n",
      "  ' ignored when e.g. forecasting.', ValueWarning)\n"
     ]
    },
    {
     "name": "stdout",
     "output_type": "stream",
     "text": [
      "predictions: [array([252169.54578826]), array([325777.145264]), array([484304.2790963]), array([412979.23757336]), array([418407.37314412]), array([435788.19660228])]\n",
      "delta: 0, p: nan\n",
      "delta: 1, p: 1.7203899365632477e-28\n",
      "predictions: [array([252169.54578826]), array([325777.145264]), array([484304.2790963]), array([412979.23757336]), array([418407.37314412]), array([435788.19660228]), array([403492.99178371])]"
     ]
    },
    {
     "name": "stderr",
     "output_type": "stream",
     "text": [
      "C:\\Users\\jeff1\\Anaconda3\\lib\\site-packages\\statsmodels\\tsa\\base\\tsa_model.py:221: ValueWarning: An unsupported index was provided and will be ignored when e.g. forecasting.\n",
      "  ' ignored when e.g. forecasting.', ValueWarning)\n"
     ]
    },
    {
     "name": "stdout",
     "output_type": "stream",
     "text": [
      "\n",
      "delta: 0, p: nan\n",
      "delta: 1, p: 0.1165899694530027\n",
      "delta: 2, p: 0.23538442976791257\n",
      "delta: 3, p: 0.009080066004477813\n"
     ]
    },
    {
     "name": "stderr",
     "output_type": "stream",
     "text": [
      "C:\\Users\\jeff1\\Anaconda3\\lib\\site-packages\\statsmodels\\tsa\\base\\tsa_model.py:221: ValueWarning: An unsupported index was provided and will be ignored when e.g. forecasting.\n",
      "  ' ignored when e.g. forecasting.', ValueWarning)\n"
     ]
    },
    {
     "name": "stdout",
     "output_type": "stream",
     "text": [
      "predictions: [array([192686.43416533])]\n",
      "delta: 0, p: nan\n",
      "delta: 1, p: 0.7663346269570794\n",
      "delta: 2, p: 0.0\n"
     ]
    },
    {
     "name": "stderr",
     "output_type": "stream",
     "text": [
      "C:\\Users\\jeff1\\Anaconda3\\lib\\site-packages\\statsmodels\\tsa\\base\\tsa_model.py:221: ValueWarning: An unsupported index was provided and will be ignored when e.g. forecasting.\n",
      "  ' ignored when e.g. forecasting.', ValueWarning)\n"
     ]
    },
    {
     "name": "stdout",
     "output_type": "stream",
     "text": [
      "predictions: [array([192686.43416533]), array([285092.25030767])]\n",
      "delta: 0, p: nan\n",
      "delta: 1, p: 1.0595534923220392e-28\n"
     ]
    },
    {
     "name": "stderr",
     "output_type": "stream",
     "text": [
      "C:\\Users\\jeff1\\Anaconda3\\lib\\site-packages\\statsmodels\\tsa\\base\\tsa_model.py:221: ValueWarning: An unsupported index was provided and will be ignored when e.g. forecasting.\n",
      "  ' ignored when e.g. forecasting.', ValueWarning)\n"
     ]
    },
    {
     "name": "stdout",
     "output_type": "stream",
     "text": [
      "bad condition 1: stationarity not adequate\n",
      "delta: 2, p: 0.940679599366803\n",
      "delta: 3, p: 1.8010845609787937e-17\n"
     ]
    },
    {
     "name": "stderr",
     "output_type": "stream",
     "text": [
      "C:\\Users\\jeff1\\Anaconda3\\lib\\site-packages\\statsmodels\\tsa\\base\\tsa_model.py:221: ValueWarning: An unsupported index was provided and will be ignored when e.g. forecasting.\n",
      "  ' ignored when e.g. forecasting.', ValueWarning)\n"
     ]
    },
    {
     "name": "stdout",
     "output_type": "stream",
     "text": [
      "predictions: [array([192686.43416533]), array([285092.25030767]), array([276853.93532513])]\n",
      "delta: 0, p: nan\n",
      "delta: 1, p: 9.813491865991102e-29\n"
     ]
    },
    {
     "name": "stderr",
     "output_type": "stream",
     "text": [
      "C:\\Users\\jeff1\\Anaconda3\\lib\\site-packages\\statsmodels\\tsa\\base\\tsa_model.py:221: ValueWarning: An unsupported index was provided and will be ignored when e.g. forecasting.\n",
      "  ' ignored when e.g. forecasting.', ValueWarning)\n"
     ]
    },
    {
     "name": "stdout",
     "output_type": "stream",
     "text": [
      "bad condition 1: stationarity not adequate\n",
      "delta: 2, p: 8.795230256038828e-24\n"
     ]
    },
    {
     "name": "stderr",
     "output_type": "stream",
     "text": [
      "C:\\Users\\jeff1\\Anaconda3\\lib\\site-packages\\statsmodels\\tsa\\base\\tsa_model.py:221: ValueWarning: An unsupported index was provided and will be ignored when e.g. forecasting.\n",
      "  ' ignored when e.g. forecasting.', ValueWarning)\n",
      "C:\\Users\\jeff1\\Anaconda3\\lib\\site-packages\\statsmodels\\base\\model.py:488: HessianInversionWarning: Inverting hessian failed, no bse or cov_params available\n",
      "  'available', HessianInversionWarning)\n",
      "C:\\Users\\jeff1\\Anaconda3\\lib\\site-packages\\statsmodels\\tsa\\base\\tsa_model.py:221: ValueWarning: An unsupported index was provided and will be ignored when e.g. forecasting.\n",
      "  ' ignored when e.g. forecasting.', ValueWarning)\n"
     ]
    },
    {
     "name": "stdout",
     "output_type": "stream",
     "text": [
      "predictions: [array([192686.43416533]), array([285092.25030767]), array([276853.93532513]), array([366063.10603735])]\n",
      "delta: 0, p: nan\n",
      "delta: 1, p: 9.106516917262281e-29\n",
      "predictions: [array([192686.43416533]), array([285092.25030767]), array([276853.93532513]), array([366063.10603735]), array([435909.53082272])]\n",
      "delta: 0, p: nan\n",
      "delta: 1, p: 8.428923146552108e-29\n"
     ]
    },
    {
     "name": "stderr",
     "output_type": "stream",
     "text": [
      "C:\\Users\\jeff1\\Anaconda3\\lib\\site-packages\\statsmodels\\tsa\\base\\tsa_model.py:221: ValueWarning: An unsupported index was provided and will be ignored when e.g. forecasting.\n",
      "  ' ignored when e.g. forecasting.', ValueWarning)\n"
     ]
    },
    {
     "name": "stdout",
     "output_type": "stream",
     "text": [
      "predictions: [array([192686.43416533]), array([285092.25030767]), array([276853.93532513]), array([366063.10603735]), array([435909.53082272]), array([429537.33833047])]\n",
      "delta: 0, p: nan\n",
      "delta: 1, p: 7.807280330132169e-29\n",
      "predictions: [array([192686.43416533]), array([285092.25030767]), array([276853.93532513]), array([366063.10603735]), array([435909.53082272]), array([429537.33833047]), array([403497.37751422])]\n",
      "delta: 0, p: nan\n"
     ]
    },
    {
     "name": "stderr",
     "output_type": "stream",
     "text": [
      "C:\\Users\\jeff1\\Anaconda3\\lib\\site-packages\\statsmodels\\tsa\\base\\tsa_model.py:221: ValueWarning: An unsupported index was provided and will be ignored when e.g. forecasting.\n",
      "  ' ignored when e.g. forecasting.', ValueWarning)\n"
     ]
    },
    {
     "name": "stdout",
     "output_type": "stream",
     "text": [
      "delta: 1, p: 0.3458317002359802\n",
      "delta: 2, p: 0.1330843905440705\n",
      "delta: 3, p: 0.3774670914956883\n",
      "delta: 4, p: 0.20792104652073323\n",
      "delta: 5, p: 0.003560690438757094\n"
     ]
    },
    {
     "name": "stderr",
     "output_type": "stream",
     "text": [
      "C:\\Users\\jeff1\\Anaconda3\\lib\\site-packages\\statsmodels\\tsa\\base\\tsa_model.py:221: ValueWarning: An unsupported index was provided and will be ignored when e.g. forecasting.\n",
      "  ' ignored when e.g. forecasting.', ValueWarning)\n"
     ]
    },
    {
     "name": "stdout",
     "output_type": "stream",
     "text": [
      "predictions: [array([316852.42016397])]\n",
      "delta: 0, p: nan\n",
      "delta: 1, p: 0.8922204029366991\n",
      "delta: 2, p: 0.8063647058766298\n",
      "delta: 3, p: 0.8876532145577849\n",
      "delta: 4, p: 0.0\n"
     ]
    },
    {
     "name": "stderr",
     "output_type": "stream",
     "text": [
      "C:\\Users\\jeff1\\Anaconda3\\lib\\site-packages\\statsmodels\\tsa\\base\\tsa_model.py:221: ValueWarning: An unsupported index was provided and will be ignored when e.g. forecasting.\n",
      "  ' ignored when e.g. forecasting.', ValueWarning)\n",
      "C:\\Users\\jeff1\\Anaconda3\\lib\\site-packages\\statsmodels\\tsa\\base\\tsa_model.py:221: ValueWarning: An unsupported index was provided and will be ignored when e.g. forecasting.\n",
      "  ' ignored when e.g. forecasting.', ValueWarning)\n"
     ]
    },
    {
     "name": "stdout",
     "output_type": "stream",
     "text": [
      "bad condition 4: stationarity not adequate\n",
      "delta: 5, p: 6.498831439189183e-19\n",
      "predictions: [array([316852.42016397]), array([371417.34606367])]\n",
      "delta: 0, p: nan\n",
      "delta: 1, p: 0.5451911896523517\n",
      "delta: 2, p: 0.9164752551419002\n",
      "delta: 3, p: 0.2539162643570735\n",
      "delta: 4, p: 0.8991019909067969\n",
      "delta: 5, p: 0.0\n"
     ]
    },
    {
     "name": "stderr",
     "output_type": "stream",
     "text": [
      "C:\\Users\\jeff1\\Anaconda3\\lib\\site-packages\\statsmodels\\tsa\\base\\tsa_model.py:221: ValueWarning: An unsupported index was provided and will be ignored when e.g. forecasting.\n",
      "  ' ignored when e.g. forecasting.', ValueWarning)\n"
     ]
    },
    {
     "name": "stdout",
     "output_type": "stream",
     "text": [
      "bad condition 5: stationarity not adequate\n",
      "delta: 6, p: 1.8230879453665935e-11\n"
     ]
    },
    {
     "name": "stderr",
     "output_type": "stream",
     "text": [
      "C:\\Users\\jeff1\\Anaconda3\\lib\\site-packages\\statsmodels\\tsa\\base\\tsa_model.py:221: ValueWarning: An unsupported index was provided and will be ignored when e.g. forecasting.\n",
      "  ' ignored when e.g. forecasting.', ValueWarning)\n"
     ]
    },
    {
     "name": "stdout",
     "output_type": "stream",
     "text": [
      "predictions: [array([316852.42016397]), array([371417.34606367]), array([372891.95599048])]\n",
      "delta: 0, p: nan\n",
      "delta: 1, p: 0.1505541480329896\n",
      "delta: 2, p: 0.04381509440571101\n"
     ]
    },
    {
     "name": "stderr",
     "output_type": "stream",
     "text": [
      "C:\\Users\\jeff1\\Anaconda3\\lib\\site-packages\\statsmodels\\tsa\\base\\tsa_model.py:221: ValueWarning: An unsupported index was provided and will be ignored when e.g. forecasting.\n",
      "  ' ignored when e.g. forecasting.', ValueWarning)\n"
     ]
    },
    {
     "name": "stdout",
     "output_type": "stream",
     "text": [
      "predictions: [array([316852.42016397]), array([371417.34606367]), array([372891.95599048]), array([377107.37432184])]\n",
      "delta: 0, p: nan\n",
      "delta: 1, p: 1.0373595694963456e-16\n"
     ]
    },
    {
     "name": "stderr",
     "output_type": "stream",
     "text": [
      "C:\\Users\\jeff1\\Anaconda3\\lib\\site-packages\\statsmodels\\tsa\\base\\tsa_model.py:221: ValueWarning: An unsupported index was provided and will be ignored when e.g. forecasting.\n",
      "  ' ignored when e.g. forecasting.', ValueWarning)\n"
     ]
    },
    {
     "name": "stdout",
     "output_type": "stream",
     "text": [
      "predictions: [array([316852.42016397]), array([371417.34606367]), array([372891.95599048]), array([377107.37432184]), array([406415.94409896])]\n",
      "delta: 0, p: nan\n",
      "delta: 1, p: 9.22231727561721e-17\n"
     ]
    },
    {
     "name": "stderr",
     "output_type": "stream",
     "text": [
      "C:\\Users\\jeff1\\Anaconda3\\lib\\site-packages\\statsmodels\\tsa\\base\\tsa_model.py:221: ValueWarning: An unsupported index was provided and will be ignored when e.g. forecasting.\n",
      "  ' ignored when e.g. forecasting.', ValueWarning)\n"
     ]
    },
    {
     "name": "stdout",
     "output_type": "stream",
     "text": [
      "predictions: [array([316852.42016397]), array([371417.34606367]), array([372891.95599048]), array([377107.37432184]), array([406415.94409896]), array([413218.98303404])]\n",
      "delta: 0, p: nan\n",
      "delta: 1, p: 8.12621855643912e-17\n"
     ]
    },
    {
     "name": "stderr",
     "output_type": "stream",
     "text": [
      "C:\\Users\\jeff1\\Anaconda3\\lib\\site-packages\\statsmodels\\tsa\\base\\tsa_model.py:221: ValueWarning: An unsupported index was provided and will be ignored when e.g. forecasting.\n",
      "  ' ignored when e.g. forecasting.', ValueWarning)\n"
     ]
    },
    {
     "name": "stdout",
     "output_type": "stream",
     "text": [
      "predictions: [array([316852.42016397]), array([371417.34606367]), array([372891.95599048]), array([377107.37432184]), array([406415.94409896]), array([413218.98303404]), array([403615.62857399])]\n",
      "delta: 0, p: nan\n",
      "delta: 1, p: 0.2546203917062816\n",
      "delta: 2, p: 0.02266140741891747\n"
     ]
    },
    {
     "name": "stderr",
     "output_type": "stream",
     "text": [
      "C:\\Users\\jeff1\\Anaconda3\\lib\\site-packages\\statsmodels\\tsa\\base\\tsa_model.py:221: ValueWarning: An unsupported index was provided and will be ignored when e.g. forecasting.\n",
      "  ' ignored when e.g. forecasting.', ValueWarning)\n",
      "C:\\Users\\jeff1\\Anaconda3\\lib\\site-packages\\statsmodels\\base\\model.py:488: HessianInversionWarning: Inverting hessian failed, no bse or cov_params available\n",
      "  'available', HessianInversionWarning)\n",
      "C:\\Users\\jeff1\\Anaconda3\\lib\\site-packages\\statsmodels\\tsa\\base\\tsa_model.py:221: ValueWarning: An unsupported index was provided and will be ignored when e.g. forecasting.\n",
      "  ' ignored when e.g. forecasting.', ValueWarning)\n"
     ]
    },
    {
     "name": "stdout",
     "output_type": "stream",
     "text": [
      "predictions: [array([254567.60075774])]\n",
      "delta: 0, p: nan\n",
      "delta: 1, p: 0.8069651590669455\n",
      "delta: 2, p: 0.5388767157114487\n",
      "delta: 3, p: 0.7826521689626895\n",
      "delta: 4, p: 0.0\n",
      "predictions: [array([254567.60075774]), array([331649.38575793])]\n",
      "delta: 0, p: nan\n",
      "delta: 1, p: 2.327326750743949e-28\n"
     ]
    },
    {
     "name": "stderr",
     "output_type": "stream",
     "text": [
      "C:\\Users\\jeff1\\Anaconda3\\lib\\site-packages\\statsmodels\\tsa\\base\\tsa_model.py:221: ValueWarning: An unsupported index was provided and will be ignored when e.g. forecasting.\n",
      "  ' ignored when e.g. forecasting.', ValueWarning)\n"
     ]
    },
    {
     "name": "stdout",
     "output_type": "stream",
     "text": [
      "predictions: [array([254567.60075774]), array([331649.38575793]), array([470114.96981657])]\n",
      "delta: 0, p: nan\n",
      "delta: 1, p: 2.1501332658309493e-28\n"
     ]
    },
    {
     "name": "stderr",
     "output_type": "stream",
     "text": [
      "C:\\Users\\jeff1\\Anaconda3\\lib\\site-packages\\statsmodels\\tsa\\base\\tsa_model.py:221: ValueWarning: An unsupported index was provided and will be ignored when e.g. forecasting.\n",
      "  ' ignored when e.g. forecasting.', ValueWarning)\n"
     ]
    },
    {
     "name": "stdout",
     "output_type": "stream",
     "text": [
      "predictions: [array([254567.60075774]), array([331649.38575793]), array([470114.96981657]), array([409556.21347153])]\n",
      "delta: 0, p: nan\n",
      "delta: 1, p: 1.9923235192987468e-28\n"
     ]
    },
    {
     "name": "stderr",
     "output_type": "stream",
     "text": [
      "C:\\Users\\jeff1\\Anaconda3\\lib\\site-packages\\statsmodels\\tsa\\base\\tsa_model.py:221: ValueWarning: An unsupported index was provided and will be ignored when e.g. forecasting.\n",
      "  ' ignored when e.g. forecasting.', ValueWarning)\n"
     ]
    },
    {
     "name": "stdout",
     "output_type": "stream",
     "text": [
      "predictions: [array([254567.60075774]), array([331649.38575793]), array([470114.96981657]), array([409556.21347153]), array([415657.24313627])]\n",
      "delta: 0, p: nan\n",
      "delta: 1, p: 1.8335529353193153e-28\n"
     ]
    },
    {
     "name": "stderr",
     "output_type": "stream",
     "text": [
      "C:\\Users\\jeff1\\Anaconda3\\lib\\site-packages\\statsmodels\\tsa\\base\\tsa_model.py:221: ValueWarning: An unsupported index was provided and will be ignored when e.g. forecasting.\n",
      "  ' ignored when e.g. forecasting.', ValueWarning)\n"
     ]
    },
    {
     "name": "stdout",
     "output_type": "stream",
     "text": [
      "predictions: [array([254567.60075774]), array([331649.38575793]), array([470114.96981657]), array([409556.21347153]), array([415657.24313627]), array([432463.06175001])]\n",
      "delta: 0, p: nan\n",
      "delta: 1, p: 1.6883443263398655e-28\n",
      "predictions: [array([254567.60075774]), array([331649.38575793]), array([470114.96981657]), array([409556.21347153]), array([415657.24313627]), array([432463.06175001]), array([403522.16539698])]\n",
      "delta: 0, p: nan\n",
      "delta: 1, p: 0.12143434419692223\n"
     ]
    },
    {
     "name": "stderr",
     "output_type": "stream",
     "text": [
      "C:\\Users\\jeff1\\Anaconda3\\lib\\site-packages\\statsmodels\\tsa\\base\\tsa_model.py:221: ValueWarning: An unsupported index was provided and will be ignored when e.g. forecasting.\n",
      "  ' ignored when e.g. forecasting.', ValueWarning)\n"
     ]
    },
    {
     "name": "stdout",
     "output_type": "stream",
     "text": [
      "delta: 2, p: 0.19420799123895666\n",
      "delta: 3, p: 0.02753621905017534\n"
     ]
    },
    {
     "name": "stderr",
     "output_type": "stream",
     "text": [
      "C:\\Users\\jeff1\\Anaconda3\\lib\\site-packages\\statsmodels\\tsa\\base\\tsa_model.py:221: ValueWarning: An unsupported index was provided and will be ignored when e.g. forecasting.\n",
      "  ' ignored when e.g. forecasting.', ValueWarning)\n"
     ]
    },
    {
     "name": "stdout",
     "output_type": "stream",
     "text": [
      "predictions: [array([259411.64274664])]\n",
      "delta: 0, p: nan\n",
      "delta: 1, p: 0.19658143560420488\n",
      "delta: 2, p: 0.843803940771509\n",
      "delta: 3, p: 0.23676064899791532\n",
      "delta: 4, p: 0.794386517890749\n",
      "delta: 5, p: 0.35739198395641053\n",
      "delta: 6, p: 1.3526213552483674e-08\n"
     ]
    },
    {
     "name": "stderr",
     "output_type": "stream",
     "text": [
      "C:\\Users\\jeff1\\Anaconda3\\lib\\site-packages\\statsmodels\\tsa\\base\\tsa_model.py:221: ValueWarning: An unsupported index was provided and will be ignored when e.g. forecasting.\n",
      "  ' ignored when e.g. forecasting.', ValueWarning)\n"
     ]
    },
    {
     "name": "stdout",
     "output_type": "stream",
     "text": [
      "predictions: [array([259411.64274664]), array([341261.03142029])]\n",
      "delta: 0, p: nan\n",
      "delta: 1, p: 0.003238122747480679\n"
     ]
    },
    {
     "name": "stderr",
     "output_type": "stream",
     "text": [
      "C:\\Users\\jeff1\\Anaconda3\\lib\\site-packages\\statsmodels\\tsa\\base\\tsa_model.py:221: ValueWarning: An unsupported index was provided and will be ignored when e.g. forecasting.\n",
      "  ' ignored when e.g. forecasting.', ValueWarning)\n"
     ]
    },
    {
     "name": "stdout",
     "output_type": "stream",
     "text": [
      "bad condition 1: stationarity not adequate\n",
      "delta: 2, p: 0.0024179585095266292\n"
     ]
    },
    {
     "name": "stderr",
     "output_type": "stream",
     "text": [
      "C:\\Users\\jeff1\\Anaconda3\\lib\\site-packages\\statsmodels\\tsa\\base\\tsa_model.py:221: ValueWarning: An unsupported index was provided and will be ignored when e.g. forecasting.\n",
      "  ' ignored when e.g. forecasting.', ValueWarning)\n"
     ]
    },
    {
     "name": "stdout",
     "output_type": "stream",
     "text": [
      "predictions: [array([259411.64274664]), array([341261.03142029]), array([449082.30617779])]\n",
      "delta: 0, p: nan\n",
      "delta: 1, p: 8.392512956937588e-27\n"
     ]
    },
    {
     "name": "stderr",
     "output_type": "stream",
     "text": [
      "C:\\Users\\jeff1\\Anaconda3\\lib\\site-packages\\statsmodels\\tsa\\base\\tsa_model.py:221: ValueWarning: An unsupported index was provided and will be ignored when e.g. forecasting.\n",
      "  ' ignored when e.g. forecasting.', ValueWarning)\n"
     ]
    },
    {
     "name": "stdout",
     "output_type": "stream",
     "text": [
      "predictions: [array([259411.64274664]), array([341261.03142029]), array([449082.30617779]), array([396086.27158203])]\n",
      "delta: 0, p: nan\n",
      "delta: 1, p: 7.652769198861039e-27\n"
     ]
    },
    {
     "name": "stderr",
     "output_type": "stream",
     "text": [
      "C:\\Users\\jeff1\\Anaconda3\\lib\\site-packages\\statsmodels\\tsa\\base\\tsa_model.py:221: ValueWarning: An unsupported index was provided and will be ignored when e.g. forecasting.\n",
      "  ' ignored when e.g. forecasting.', ValueWarning)\n"
     ]
    },
    {
     "name": "stdout",
     "output_type": "stream",
     "text": [
      "predictions: [array([259411.64274664]), array([341261.03142029]), array([449082.30617779]), array([396086.27158203]), array([396493.97917154])]\n",
      "delta: 0, p: nan\n",
      "delta: 1, p: 6.915451081695226e-27\n"
     ]
    },
    {
     "name": "stderr",
     "output_type": "stream",
     "text": [
      "C:\\Users\\jeff1\\Anaconda3\\lib\\site-packages\\statsmodels\\tsa\\base\\tsa_model.py:221: ValueWarning: An unsupported index was provided and will be ignored when e.g. forecasting.\n",
      "  ' ignored when e.g. forecasting.', ValueWarning)\n"
     ]
    },
    {
     "name": "stdout",
     "output_type": "stream",
     "text": [
      "predictions: [array([259411.64274664]), array([341261.03142029]), array([449082.30617779]), array([396086.27158203]), array([396493.97917154]), array([430463.73128527])]\n",
      "delta: 0, p: nan\n",
      "delta: 1, p: 6.2534218756027626e-27\n",
      "predictions: [array([259411.64274664]), array([341261.03142029]), array([449082.30617779]), array([396086.27158203]), array([396493.97917154]), array([430463.73128527]), array([403508.02632944])]\n"
     ]
    },
    {
     "name": "stderr",
     "output_type": "stream",
     "text": [
      "C:\\Users\\jeff1\\Anaconda3\\lib\\site-packages\\statsmodels\\tsa\\base\\tsa_model.py:221: ValueWarning: An unsupported index was provided and will be ignored when e.g. forecasting.\n",
      "  ' ignored when e.g. forecasting.', ValueWarning)\n"
     ]
    },
    {
     "name": "stdout",
     "output_type": "stream",
     "text": [
      "delta: 0, p: nan\n",
      "delta: 1, p: 0.1818225226138741\n",
      "delta: 2, p: 0.025128471124746758\n"
     ]
    },
    {
     "name": "stderr",
     "output_type": "stream",
     "text": [
      "C:\\Users\\jeff1\\Anaconda3\\lib\\site-packages\\statsmodels\\tsa\\base\\tsa_model.py:221: ValueWarning: An unsupported index was provided and will be ignored when e.g. forecasting.\n",
      "  ' ignored when e.g. forecasting.', ValueWarning)\n"
     ]
    },
    {
     "name": "stdout",
     "output_type": "stream",
     "text": [
      "predictions: [array([171165.28496524])]\n",
      "delta: 0, p: nan\n",
      "delta: 1, p: 0.980849387517578\n",
      "delta: 2, p: 0.9579276554201464\n",
      "delta: 3, p: 0.9575417430653195\n",
      "delta: 4, p: 1.2058255528687512e-15\n"
     ]
    },
    {
     "name": "stderr",
     "output_type": "stream",
     "text": [
      "C:\\Users\\jeff1\\Anaconda3\\lib\\site-packages\\statsmodels\\tsa\\base\\tsa_model.py:221: ValueWarning: An unsupported index was provided and will be ignored when e.g. forecasting.\n",
      "  ' ignored when e.g. forecasting.', ValueWarning)\n"
     ]
    },
    {
     "name": "stdout",
     "output_type": "stream",
     "text": [
      "predictions: [array([171165.28496524]), array([232055.49761648])]\n",
      "delta: 0, p: nan\n",
      "delta: 1, p: 0.979641799058614\n",
      "delta: 2, p: 0.839980912592965\n",
      "delta: 3, p: 0.8270997319617828\n",
      "delta: 4, p: 6.903494364682708e-07\n"
     ]
    },
    {
     "name": "stderr",
     "output_type": "stream",
     "text": [
      "C:\\Users\\jeff1\\Anaconda3\\lib\\site-packages\\statsmodels\\tsa\\base\\tsa_model.py:221: ValueWarning: An unsupported index was provided and will be ignored when e.g. forecasting.\n",
      "  ' ignored when e.g. forecasting.', ValueWarning)\n"
     ]
    },
    {
     "name": "stdout",
     "output_type": "stream",
     "text": [
      "predictions: [array([171165.28496524]), array([232055.49761648]), array([235253.16864886])]\n",
      "delta: 0, p: nan\n",
      "delta: 1, p: 0.9660393826903411\n",
      "delta: 2, p: 0.8229704555908738\n",
      "delta: 3, p: 0.9399426986399249\n",
      "delta: 4, p: 2.77312113645339e-09\n"
     ]
    },
    {
     "name": "stderr",
     "output_type": "stream",
     "text": [
      "C:\\Users\\jeff1\\Anaconda3\\lib\\site-packages\\statsmodels\\tsa\\base\\tsa_model.py:221: ValueWarning: An unsupported index was provided and will be ignored when e.g. forecasting.\n",
      "  ' ignored when e.g. forecasting.', ValueWarning)\n"
     ]
    },
    {
     "name": "stdout",
     "output_type": "stream",
     "text": [
      "predictions: [array([171165.28496524]), array([232055.49761648]), array([235253.16864886]), array([329475.6166016])]\n",
      "delta: 0, p: nan\n",
      "delta: 1, p: 1.080701685404212e-28\n"
     ]
    },
    {
     "name": "stderr",
     "output_type": "stream",
     "text": [
      "C:\\Users\\jeff1\\Anaconda3\\lib\\site-packages\\statsmodels\\tsa\\base\\tsa_model.py:221: ValueWarning: An unsupported index was provided and will be ignored when e.g. forecasting.\n",
      "  ' ignored when e.g. forecasting.', ValueWarning)\n"
     ]
    },
    {
     "name": "stdout",
     "output_type": "stream",
     "text": [
      "bad condition 1: stationarity not adequate\n",
      "delta: 2, p: 0.9167404126011676\n",
      "delta: 3, p: 2.0262370128903462e-11\n"
     ]
    },
    {
     "name": "stderr",
     "output_type": "stream",
     "text": [
      "C:\\Users\\jeff1\\Anaconda3\\lib\\site-packages\\statsmodels\\tsa\\base\\tsa_model.py:221: ValueWarning: An unsupported index was provided and will be ignored when e.g. forecasting.\n",
      "  ' ignored when e.g. forecasting.', ValueWarning)\n"
     ]
    },
    {
     "name": "stdout",
     "output_type": "stream",
     "text": [
      "bad condition 3: stationarity not adequate\n",
      "delta: 4, p: 2.8943253104392378e-08\n"
     ]
    },
    {
     "name": "stderr",
     "output_type": "stream",
     "text": [
      "C:\\Users\\jeff1\\Anaconda3\\lib\\site-packages\\statsmodels\\tsa\\base\\tsa_model.py:221: ValueWarning: An unsupported index was provided and will be ignored when e.g. forecasting.\n",
      "  ' ignored when e.g. forecasting.', ValueWarning)\n"
     ]
    },
    {
     "name": "stdout",
     "output_type": "stream",
     "text": [
      "predictions: [array([171165.28496524]), array([232055.49761648]), array([235253.16864886]), array([329475.6166016]), array([535710.70853226])]\n",
      "delta: 0, p: nan\n",
      "delta: 1, p: 9.989661329002164e-29\n"
     ]
    },
    {
     "name": "stderr",
     "output_type": "stream",
     "text": [
      "C:\\Users\\jeff1\\Anaconda3\\lib\\site-packages\\statsmodels\\tsa\\base\\tsa_model.py:221: ValueWarning: An unsupported index was provided and will be ignored when e.g. forecasting.\n",
      "  ' ignored when e.g. forecasting.', ValueWarning)\n",
      "C:\\Users\\jeff1\\Anaconda3\\lib\\site-packages\\statsmodels\\base\\model.py:488: HessianInversionWarning: Inverting hessian failed, no bse or cov_params available\n",
      "  'available', HessianInversionWarning)\n",
      "C:\\Users\\jeff1\\Anaconda3\\lib\\site-packages\\statsmodels\\tsa\\base\\tsa_model.py:221: ValueWarning: An unsupported index was provided and will be ignored when e.g. forecasting.\n",
      "  ' ignored when e.g. forecasting.', ValueWarning)\n"
     ]
    },
    {
     "name": "stdout",
     "output_type": "stream",
     "text": [
      "predictions: [array([171165.28496524]), array([232055.49761648]), array([235253.16864886]), array([329475.6166016]), array([535710.70853226]), array([556644.05003987])]\n",
      "delta: 0, p: nan\n",
      "delta: 1, p: 9.240938935824215e-29\n",
      "predictions: [array([171165.28496524]), array([232055.49761648]), array([235253.16864886]), array([329475.6166016]), array([535710.70853226]), array([556644.05003987]), array([403489.41452556])]\n",
      "delta: 0, p: nan\n",
      "delta: 1, p: 0.47654130545199674\n",
      "delta: 2, p: 0.14721860124226993\n",
      "delta: 3, p: 0.10626882861973097\n",
      "delta: 4, p: 0.10959380565117577\n",
      "delta: 5, p: 0.1525264917860547\n",
      "delta: 6, p: 0.18365511763940384\n",
      "delta: 7, p: 0.0012093753556512274\n"
     ]
    },
    {
     "name": "stderr",
     "output_type": "stream",
     "text": [
      "C:\\Users\\jeff1\\Anaconda3\\lib\\site-packages\\statsmodels\\tsa\\base\\tsa_model.py:221: ValueWarning: An unsupported index was provided and will be ignored when e.g. forecasting.\n",
      "  ' ignored when e.g. forecasting.', ValueWarning)\n"
     ]
    },
    {
     "name": "stdout",
     "output_type": "stream",
     "text": [
      "predictions: [array([209228.86915024])]\n",
      "delta: 0, p: nan\n",
      "delta: 1, p: 0.9570428350234564\n",
      "delta: 2, p: 0.0\n"
     ]
    },
    {
     "name": "stderr",
     "output_type": "stream",
     "text": [
      "C:\\Users\\jeff1\\Anaconda3\\lib\\site-packages\\statsmodels\\tsa\\base\\tsa_model.py:221: ValueWarning: An unsupported index was provided and will be ignored when e.g. forecasting.\n",
      "  ' ignored when e.g. forecasting.', ValueWarning)\n"
     ]
    },
    {
     "name": "stdout",
     "output_type": "stream",
     "text": [
      "bad condition 2: stationarity not adequate\n",
      "delta: 3, p: 0.6768617535384704\n",
      "delta: 4, p: 7.283613384770301e-15\n"
     ]
    },
    {
     "name": "stderr",
     "output_type": "stream",
     "text": [
      "C:\\Users\\jeff1\\Anaconda3\\lib\\site-packages\\statsmodels\\tsa\\base\\tsa_model.py:221: ValueWarning: An unsupported index was provided and will be ignored when e.g. forecasting.\n",
      "  ' ignored when e.g. forecasting.', ValueWarning)\n",
      "C:\\Users\\jeff1\\Anaconda3\\lib\\site-packages\\statsmodels\\base\\model.py:488: HessianInversionWarning: Inverting hessian failed, no bse or cov_params available\n",
      "  'available', HessianInversionWarning)\n",
      "C:\\Users\\jeff1\\Anaconda3\\lib\\site-packages\\statsmodels\\tsa\\base\\tsa_model.py:221: ValueWarning: An unsupported index was provided and will be ignored when e.g. forecasting.\n",
      "  ' ignored when e.g. forecasting.', ValueWarning)\n"
     ]
    },
    {
     "name": "stdout",
     "output_type": "stream",
     "text": [
      "predictions: [array([209228.86915024]), array([280209.16779133])]\n",
      "delta: 0, p: nan\n",
      "delta: 1, p: 8.83643954887632e-29\n",
      "bad condition 1: stationarity not adequate\n",
      "delta: 2, p: 0.6558637180273235\n",
      "delta: 3, p: 0.9368270109300281\n",
      "delta: 4, p: 1.1250264740935296e-07\n"
     ]
    },
    {
     "name": "stderr",
     "output_type": "stream",
     "text": [
      "C:\\Users\\jeff1\\Anaconda3\\lib\\site-packages\\statsmodels\\tsa\\base\\tsa_model.py:221: ValueWarning: An unsupported index was provided and will be ignored when e.g. forecasting.\n",
      "  ' ignored when e.g. forecasting.', ValueWarning)\n"
     ]
    },
    {
     "name": "stdout",
     "output_type": "stream",
     "text": [
      "predictions: [array([209228.86915024]), array([280209.16779133]), array([280448.5398227])]\n",
      "delta: 0, p: nan\n",
      "delta: 1, p: 8.200537605088686e-29\n"
     ]
    },
    {
     "name": "stderr",
     "output_type": "stream",
     "text": [
      "C:\\Users\\jeff1\\Anaconda3\\lib\\site-packages\\statsmodels\\tsa\\base\\tsa_model.py:221: ValueWarning: An unsupported index was provided and will be ignored when e.g. forecasting.\n",
      "  ' ignored when e.g. forecasting.', ValueWarning)\n"
     ]
    },
    {
     "name": "stdout",
     "output_type": "stream",
     "text": [
      "bad condition 1: stationarity not adequate\n",
      "delta: 2, p: 7.978209032562908e-24\n"
     ]
    },
    {
     "name": "stderr",
     "output_type": "stream",
     "text": [
      "C:\\Users\\jeff1\\Anaconda3\\lib\\site-packages\\statsmodels\\tsa\\base\\tsa_model.py:221: ValueWarning: An unsupported index was provided and will be ignored when e.g. forecasting.\n",
      "  ' ignored when e.g. forecasting.', ValueWarning)\n",
      "C:\\Users\\jeff1\\Anaconda3\\lib\\site-packages\\statsmodels\\base\\model.py:488: HessianInversionWarning: Inverting hessian failed, no bse or cov_params available\n",
      "  'available', HessianInversionWarning)\n",
      "C:\\Users\\jeff1\\Anaconda3\\lib\\site-packages\\statsmodels\\tsa\\base\\tsa_model.py:221: ValueWarning: An unsupported index was provided and will be ignored when e.g. forecasting.\n",
      "  ' ignored when e.g. forecasting.', ValueWarning)\n"
     ]
    },
    {
     "name": "stdout",
     "output_type": "stream",
     "text": [
      "predictions: [array([209228.86915024]), array([280209.16779133]), array([280448.5398227]), array([458429.13186313])]\n",
      "delta: 0, p: nan\n",
      "delta: 1, p: 7.626404646072322e-29\n",
      "predictions: [array([209228.86915024]), array([280209.16779133]), array([280448.5398227]), array([458429.13186313]), array([424372.36026438])]\n",
      "delta: 0, p: nan\n",
      "delta: 1, p: 7.069753610297308e-29\n"
     ]
    },
    {
     "name": "stderr",
     "output_type": "stream",
     "text": [
      "C:\\Users\\jeff1\\Anaconda3\\lib\\site-packages\\statsmodels\\tsa\\base\\tsa_model.py:221: ValueWarning: An unsupported index was provided and will be ignored when e.g. forecasting.\n",
      "  ' ignored when e.g. forecasting.', ValueWarning)\n"
     ]
    },
    {
     "name": "stdout",
     "output_type": "stream",
     "text": [
      "predictions: [array([209228.86915024]), array([280209.16779133]), array([280448.5398227]), array([458429.13186313]), array([424372.36026438]), array([478523.67667526])]\n",
      "delta: 0, p: nan\n",
      "delta: 1, p: 6.557708153250217e-29\n"
     ]
    },
    {
     "name": "stderr",
     "output_type": "stream",
     "text": [
      "C:\\Users\\jeff1\\Anaconda3\\lib\\site-packages\\statsmodels\\tsa\\base\\tsa_model.py:221: ValueWarning: An unsupported index was provided and will be ignored when e.g. forecasting.\n",
      "  ' ignored when e.g. forecasting.', ValueWarning)\n",
      "C:\\Users\\jeff1\\Anaconda3\\lib\\site-packages\\statsmodels\\tsa\\base\\tsa_model.py:221: ValueWarning: An unsupported index was provided and will be ignored when e.g. forecasting.\n",
      "  ' ignored when e.g. forecasting.', ValueWarning)\n"
     ]
    },
    {
     "name": "stdout",
     "output_type": "stream",
     "text": [
      "predictions: [array([209228.86915024]), array([280209.16779133]), array([280448.5398227]), array([458429.13186313]), array([424372.36026438]), array([478523.67667526]), array([403488.17462996])]\n",
      "delta: 0, p: nan\n",
      "delta: 1, p: 0.04444227146190718\n",
      "predictions: [array([141346.55743221])]\n",
      "delta: 0, p: nan\n",
      "delta: 1, p: 0.962287805727067\n",
      "delta: 2, p: 0.0\n"
     ]
    },
    {
     "name": "stderr",
     "output_type": "stream",
     "text": [
      "C:\\Users\\jeff1\\Anaconda3\\lib\\site-packages\\statsmodels\\tsa\\base\\tsa_model.py:221: ValueWarning: An unsupported index was provided and will be ignored when e.g. forecasting.\n",
      "  ' ignored when e.g. forecasting.', ValueWarning)\n"
     ]
    },
    {
     "name": "stdout",
     "output_type": "stream",
     "text": [
      "bad condition 2: stationarity not adequate\n",
      "delta: 3, p: 9.117241179427628e-18\n"
     ]
    },
    {
     "name": "stderr",
     "output_type": "stream",
     "text": [
      "C:\\Users\\jeff1\\Anaconda3\\lib\\site-packages\\statsmodels\\tsa\\base\\tsa_model.py:221: ValueWarning: An unsupported index was provided and will be ignored when e.g. forecasting.\n",
      "  ' ignored when e.g. forecasting.', ValueWarning)\n",
      "C:\\Users\\jeff1\\Anaconda3\\lib\\site-packages\\statsmodels\\base\\model.py:488: HessianInversionWarning: Inverting hessian failed, no bse or cov_params available\n",
      "  'available', HessianInversionWarning)\n",
      "C:\\Users\\jeff1\\Anaconda3\\lib\\site-packages\\statsmodels\\base\\model.py:508: ConvergenceWarning: Maximum Likelihood optimization failed to converge. Check mle_retvals\n",
      "  \"Check mle_retvals\", ConvergenceWarning)\n",
      "C:\\Users\\jeff1\\Anaconda3\\lib\\site-packages\\statsmodels\\tsa\\base\\tsa_model.py:221: ValueWarning: An unsupported index was provided and will be ignored when e.g. forecasting.\n",
      "  ' ignored when e.g. forecasting.', ValueWarning)\n"
     ]
    },
    {
     "name": "stdout",
     "output_type": "stream",
     "text": [
      "predictions: [array([141346.55743221]), array([627040.0769628])]\n",
      "delta: 0, p: nan\n",
      "delta: 1, p: 9.186513446162485e-29\n"
     ]
    },
    {
     "name": "stderr",
     "output_type": "stream",
     "text": [
      "C:\\Users\\jeff1\\Anaconda3\\lib\\site-packages\\statsmodels\\base\\model.py:488: HessianInversionWarning: Inverting hessian failed, no bse or cov_params available\n",
      "  'available', HessianInversionWarning)\n",
      "C:\\Users\\jeff1\\Anaconda3\\lib\\site-packages\\statsmodels\\tsa\\base\\tsa_model.py:221: ValueWarning: An unsupported index was provided and will be ignored when e.g. forecasting.\n",
      "  ' ignored when e.g. forecasting.', ValueWarning)\n"
     ]
    },
    {
     "name": "stdout",
     "output_type": "stream",
     "text": [
      "predictions: [array([141346.55743221]), array([627040.0769628]), array([760456.78092731])]\n",
      "delta: 0, p: nan\n",
      "delta: 1, p: 8.508452209554273e-29\n",
      "predictions: [array([141346.55743221]), array([627040.0769628]), array([760456.78092731]), array([448263.48143216])]\n",
      "delta: 0, p: nan\n",
      "delta: 1, p: 7.892548531865256e-29\n"
     ]
    },
    {
     "name": "stderr",
     "output_type": "stream",
     "text": [
      "C:\\Users\\jeff1\\Anaconda3\\lib\\site-packages\\statsmodels\\tsa\\base\\tsa_model.py:221: ValueWarning: An unsupported index was provided and will be ignored when e.g. forecasting.\n",
      "  ' ignored when e.g. forecasting.', ValueWarning)\n"
     ]
    },
    {
     "name": "stdout",
     "output_type": "stream",
     "text": [
      "predictions: [array([141346.55743221]), array([627040.0769628]), array([760456.78092731]), array([448263.48143216]), array([422371.91724282])]\n",
      "delta: 0, p: nan\n",
      "delta: 1, p: 7.31300968595244e-29\n"
     ]
    },
    {
     "name": "stderr",
     "output_type": "stream",
     "text": [
      "C:\\Users\\jeff1\\Anaconda3\\lib\\site-packages\\statsmodels\\tsa\\base\\tsa_model.py:221: ValueWarning: An unsupported index was provided and will be ignored when e.g. forecasting.\n",
      "  ' ignored when e.g. forecasting.', ValueWarning)\n"
     ]
    },
    {
     "name": "stdout",
     "output_type": "stream",
     "text": [
      "predictions: [array([141346.55743221]), array([627040.0769628]), array([760456.78092731]), array([448263.48143216]), array([422371.91724282]), array([429590.35153249])]\n",
      "delta: 0, p: nan\n",
      "delta: 1, p: 6.781735341893947e-29\n",
      "predictions: [array([141346.55743221]), array([627040.0769628]), array([760456.78092731]), array([448263.48143216]), array([422371.91724282]), array([429590.35153249]), array([403565.46167757])]\n"
     ]
    },
    {
     "name": "stderr",
     "output_type": "stream",
     "text": [
      "C:\\Users\\jeff1\\Anaconda3\\lib\\site-packages\\statsmodels\\tsa\\base\\tsa_model.py:221: ValueWarning: An unsupported index was provided and will be ignored when e.g. forecasting.\n",
      "  ' ignored when e.g. forecasting.', ValueWarning)\n"
     ]
    },
    {
     "name": "stdout",
     "output_type": "stream",
     "text": [
      "delta: 0, p: nan\n",
      "delta: 1, p: 0.00020589239590082536\n"
     ]
    },
    {
     "name": "stderr",
     "output_type": "stream",
     "text": [
      "C:\\Users\\jeff1\\Anaconda3\\lib\\site-packages\\statsmodels\\tsa\\base\\tsa_model.py:221: ValueWarning: An unsupported index was provided and will be ignored when e.g. forecasting.\n",
      "  ' ignored when e.g. forecasting.', ValueWarning)\n"
     ]
    },
    {
     "name": "stdout",
     "output_type": "stream",
     "text": [
      "predictions: [array([72072.33962636])]\n",
      "delta: 0, p: nan\n",
      "delta: 1, p: 0.9589801189438971\n",
      "delta: 2, p: 2.4805468755546055e-30\n"
     ]
    },
    {
     "name": "stderr",
     "output_type": "stream",
     "text": [
      "C:\\Users\\jeff1\\Anaconda3\\lib\\site-packages\\statsmodels\\tsa\\base\\tsa_model.py:221: ValueWarning: An unsupported index was provided and will be ignored when e.g. forecasting.\n",
      "  ' ignored when e.g. forecasting.', ValueWarning)\n"
     ]
    },
    {
     "name": "stdout",
     "output_type": "stream",
     "text": [
      "bad condition 2: stationarity not adequate\n",
      "delta: 3, p: 1.0450049984363077e-18\n"
     ]
    },
    {
     "name": "stderr",
     "output_type": "stream",
     "text": [
      "C:\\Users\\jeff1\\Anaconda3\\lib\\site-packages\\statsmodels\\tsa\\base\\tsa_model.py:221: ValueWarning: An unsupported index was provided and will be ignored when e.g. forecasting.\n",
      "  ' ignored when e.g. forecasting.', ValueWarning)\n"
     ]
    },
    {
     "name": "stdout",
     "output_type": "stream",
     "text": [
      "bad condition 3: stationarity not adequate\n",
      "delta: 4, p: 3.550707253713851e-18\n"
     ]
    },
    {
     "name": "stderr",
     "output_type": "stream",
     "text": [
      "C:\\Users\\jeff1\\Anaconda3\\lib\\site-packages\\statsmodels\\tsa\\base\\tsa_model.py:221: ValueWarning: An unsupported index was provided and will be ignored when e.g. forecasting.\n",
      "  ' ignored when e.g. forecasting.', ValueWarning)\n"
     ]
    },
    {
     "name": "stdout",
     "output_type": "stream",
     "text": [
      "predictions: [array([72072.33962636]), array([116209.50619473])]\n",
      "delta: 0, p: nan\n",
      "delta: 1, p: 7.601520921956497e-29\n"
     ]
    },
    {
     "name": "stderr",
     "output_type": "stream",
     "text": [
      "C:\\Users\\jeff1\\Anaconda3\\lib\\site-packages\\statsmodels\\tsa\\base\\tsa_model.py:221: ValueWarning: An unsupported index was provided and will be ignored when e.g. forecasting.\n",
      "  ' ignored when e.g. forecasting.', ValueWarning)\n",
      "C:\\Users\\jeff1\\Anaconda3\\lib\\site-packages\\statsmodels\\base\\model.py:488: HessianInversionWarning: Inverting hessian failed, no bse or cov_params available\n",
      "  'available', HessianInversionWarning)\n",
      "C:\\Users\\jeff1\\Anaconda3\\lib\\site-packages\\statsmodels\\base\\model.py:508: ConvergenceWarning: Maximum Likelihood optimization failed to converge. Check mle_retvals\n",
      "  \"Check mle_retvals\", ConvergenceWarning)\n",
      "C:\\Users\\jeff1\\Anaconda3\\lib\\site-packages\\statsmodels\\tsa\\base\\tsa_model.py:221: ValueWarning: An unsupported index was provided and will be ignored when e.g. forecasting.\n",
      "  ' ignored when e.g. forecasting.', ValueWarning)\n"
     ]
    },
    {
     "name": "stdout",
     "output_type": "stream",
     "text": [
      "predictions: [array([72072.33962636]), array([116209.50619473]), array([548775.22261548])]\n",
      "delta: 0, p: nan\n",
      "delta: 1, p: 7.04598394694897e-29\n",
      "predictions: [array([72072.33962636]), array([116209.50619473]), array([548775.22261548]), array([416120.07127])]\n",
      "delta: 0, p: nan\n",
      "delta: 1, p: 6.539457584120204e-29\n"
     ]
    },
    {
     "name": "stderr",
     "output_type": "stream",
     "text": [
      "C:\\Users\\jeff1\\Anaconda3\\lib\\site-packages\\statsmodels\\tsa\\base\\tsa_model.py:221: ValueWarning: An unsupported index was provided and will be ignored when e.g. forecasting.\n",
      "  ' ignored when e.g. forecasting.', ValueWarning)\n",
      "C:\\Users\\jeff1\\Anaconda3\\lib\\site-packages\\statsmodels\\base\\model.py:488: HessianInversionWarning: Inverting hessian failed, no bse or cov_params available\n",
      "  'available', HessianInversionWarning)\n",
      "C:\\Users\\jeff1\\Anaconda3\\lib\\site-packages\\statsmodels\\tsa\\base\\tsa_model.py:221: ValueWarning: An unsupported index was provided and will be ignored when e.g. forecasting.\n",
      "  ' ignored when e.g. forecasting.', ValueWarning)\n"
     ]
    },
    {
     "name": "stdout",
     "output_type": "stream",
     "text": [
      "predictions: [array([72072.33962636]), array([116209.50619473]), array([548775.22261548]), array([416120.07127]), array([332436.34709837])]\n",
      "delta: 0, p: nan\n",
      "delta: 1, p: 6.068321232308449e-29\n",
      "predictions: [array([72072.33962636]), array([116209.50619473]), array([548775.22261548]), array([416120.07127]), array([332436.34709837]), array([469482.3544676])]\n",
      "delta: 0, p: nan\n",
      "delta: 1, p: 5.636480473007473e-29\n",
      "predictions: [array([72072.33962636]), array([116209.50619473]), array([548775.22261548]), array([416120.07127]), array([332436.34709837]), array([469482.3544676]), array([403709.69593652])]\n",
      "delta: 0, p: nan\n",
      "delta: 1, p: 0.046474387486275706\n"
     ]
    },
    {
     "name": "stderr",
     "output_type": "stream",
     "text": [
      "C:\\Users\\jeff1\\Anaconda3\\lib\\site-packages\\statsmodels\\tsa\\base\\tsa_model.py:221: ValueWarning: An unsupported index was provided and will be ignored when e.g. forecasting.\n",
      "  ' ignored when e.g. forecasting.', ValueWarning)\n",
      "C:\\Users\\jeff1\\Anaconda3\\lib\\site-packages\\statsmodels\\tsa\\base\\tsa_model.py:221: ValueWarning: An unsupported index was provided and will be ignored when e.g. forecasting.\n",
      "  ' ignored when e.g. forecasting.', ValueWarning)\n"
     ]
    },
    {
     "name": "stdout",
     "output_type": "stream",
     "text": [
      "predictions: [array([140402.50436586])]\n",
      "delta: 0, p: nan\n",
      "delta: 1, p: 0.8523301631825366\n",
      "delta: 2, p: 0.0\n"
     ]
    },
    {
     "name": "stderr",
     "output_type": "stream",
     "text": [
      "C:\\Users\\jeff1\\Anaconda3\\lib\\site-packages\\statsmodels\\tsa\\base\\tsa_model.py:221: ValueWarning: An unsupported index was provided and will be ignored when e.g. forecasting.\n",
      "  ' ignored when e.g. forecasting.', ValueWarning)\n"
     ]
    },
    {
     "name": "stdout",
     "output_type": "stream",
     "text": [
      "predictions: [array([140402.50436586]), array([238563.61358239])]\n",
      "delta: 0, p: nan\n",
      "delta: 1, p: 8.061172527820136e-29\n"
     ]
    },
    {
     "name": "stderr",
     "output_type": "stream",
     "text": [
      "C:\\Users\\jeff1\\Anaconda3\\lib\\site-packages\\statsmodels\\tsa\\base\\tsa_model.py:221: ValueWarning: An unsupported index was provided and will be ignored when e.g. forecasting.\n",
      "  ' ignored when e.g. forecasting.', ValueWarning)\n"
     ]
    },
    {
     "name": "stdout",
     "output_type": "stream",
     "text": [
      "bad condition 1: stationarity not adequate\n",
      "delta: 2, p: 1.1494539591769465e-24\n"
     ]
    },
    {
     "name": "stderr",
     "output_type": "stream",
     "text": [
      "C:\\Users\\jeff1\\Anaconda3\\lib\\site-packages\\statsmodels\\tsa\\base\\tsa_model.py:221: ValueWarning: An unsupported index was provided and will be ignored when e.g. forecasting.\n",
      "  ' ignored when e.g. forecasting.', ValueWarning)\n"
     ]
    },
    {
     "name": "stdout",
     "output_type": "stream",
     "text": [
      "predictions: [array([140402.50436586]), array([238563.61358239]), array([576439.20721212])]\n",
      "delta: 0, p: nan\n",
      "delta: 1, p: 7.473490085208308e-29\n"
     ]
    },
    {
     "name": "stderr",
     "output_type": "stream",
     "text": [
      "C:\\Users\\jeff1\\Anaconda3\\lib\\site-packages\\statsmodels\\tsa\\base\\tsa_model.py:221: ValueWarning: An unsupported index was provided and will be ignored when e.g. forecasting.\n",
      "  ' ignored when e.g. forecasting.', ValueWarning)\n"
     ]
    },
    {
     "name": "stdout",
     "output_type": "stream",
     "text": [
      "predictions: [array([140402.50436586]), array([238563.61358239]), array([576439.20721212]), array([481081.37254615])]\n",
      "delta: 0, p: nan\n",
      "delta: 1, p: 6.939277157295581e-29\n"
     ]
    },
    {
     "name": "stderr",
     "output_type": "stream",
     "text": [
      "C:\\Users\\jeff1\\Anaconda3\\lib\\site-packages\\statsmodels\\tsa\\base\\tsa_model.py:221: ValueWarning: An unsupported index was provided and will be ignored when e.g. forecasting.\n",
      "  ' ignored when e.g. forecasting.', ValueWarning)\n"
     ]
    },
    {
     "name": "stdout",
     "output_type": "stream",
     "text": [
      "bad condition 1: stationarity not adequate\n",
      "delta: 2, p: 2.7526788566864266e-13\n"
     ]
    },
    {
     "name": "stderr",
     "output_type": "stream",
     "text": [
      "C:\\Users\\jeff1\\Anaconda3\\lib\\site-packages\\statsmodels\\tsa\\base\\tsa_model.py:221: ValueWarning: An unsupported index was provided and will be ignored when e.g. forecasting.\n",
      "  ' ignored when e.g. forecasting.', ValueWarning)\n",
      "C:\\Users\\jeff1\\Anaconda3\\lib\\site-packages\\statsmodels\\base\\model.py:488: HessianInversionWarning: Inverting hessian failed, no bse or cov_params available\n",
      "  'available', HessianInversionWarning)\n",
      "C:\\Users\\jeff1\\Anaconda3\\lib\\site-packages\\statsmodels\\tsa\\base\\tsa_model.py:221: ValueWarning: An unsupported index was provided and will be ignored when e.g. forecasting.\n",
      "  ' ignored when e.g. forecasting.', ValueWarning)\n"
     ]
    },
    {
     "name": "stdout",
     "output_type": "stream",
     "text": [
      "predictions: [array([140402.50436586]), array([238563.61358239]), array([576439.20721212]), array([481081.37254615]), array([503434.18653035])]\n",
      "delta: 0, p: nan\n",
      "delta: 1, p: 6.436429764561655e-29\n",
      "predictions: [array([140402.50436586]), array([238563.61358239]), array([576439.20721212]), array([481081.37254615]), array([503434.18653035]), array([454797.33655342])]\n",
      "delta: 0, p: nan\n",
      "delta: 1, p: 5.975169527542752e-29\n",
      "predictions: [array([140402.50436586]), array([238563.61358239]), array([576439.20721212]), array([481081.37254615]), array([503434.18653035]), array([454797.33655342]), array([403576.154625])]\n",
      "delta: 0, p: nan\n"
     ]
    },
    {
     "name": "stderr",
     "output_type": "stream",
     "text": [
      "C:\\Users\\jeff1\\Anaconda3\\lib\\site-packages\\statsmodels\\tsa\\base\\tsa_model.py:221: ValueWarning: An unsupported index was provided and will be ignored when e.g. forecasting.\n",
      "  ' ignored when e.g. forecasting.', ValueWarning)\n"
     ]
    },
    {
     "name": "stdout",
     "output_type": "stream",
     "text": [
      "delta: 1, p: 0.25271792895567047\n",
      "delta: 2, p: 0.2862291649761483\n",
      "delta: 3, p: 0.08913633865464171\n",
      "delta: 4, p: 0.05478290353356471\n",
      "delta: 5, p: 0.00010343542717908518\n"
     ]
    },
    {
     "name": "stderr",
     "output_type": "stream",
     "text": [
      "C:\\Users\\jeff1\\Anaconda3\\lib\\site-packages\\statsmodels\\tsa\\base\\tsa_model.py:221: ValueWarning: An unsupported index was provided and will be ignored when e.g. forecasting.\n",
      "  ' ignored when e.g. forecasting.', ValueWarning)\n"
     ]
    },
    {
     "name": "stdout",
     "output_type": "stream",
     "text": [
      "predictions: [array([177759.76903235])]\n",
      "delta: 0, p: nan\n",
      "delta: 1, p: 0.8610738104901371\n",
      "delta: 2, p: 0.0\n"
     ]
    },
    {
     "name": "stderr",
     "output_type": "stream",
     "text": [
      "C:\\Users\\jeff1\\Anaconda3\\lib\\site-packages\\statsmodels\\tsa\\base\\tsa_model.py:221: ValueWarning: An unsupported index was provided and will be ignored when e.g. forecasting.\n",
      "  ' ignored when e.g. forecasting.', ValueWarning)\n"
     ]
    },
    {
     "name": "stdout",
     "output_type": "stream",
     "text": [
      "bad condition 2: stationarity not adequate\n",
      "delta: 3, p: 1.2711589917998138e-17\n"
     ]
    },
    {
     "name": "stderr",
     "output_type": "stream",
     "text": [
      "C:\\Users\\jeff1\\Anaconda3\\lib\\site-packages\\statsmodels\\tsa\\base\\tsa_model.py:221: ValueWarning: An unsupported index was provided and will be ignored when e.g. forecasting.\n",
      "  ' ignored when e.g. forecasting.', ValueWarning)\n"
     ]
    },
    {
     "name": "stdout",
     "output_type": "stream",
     "text": [
      "predictions: [array([177759.76903235]), array([244693.94572547])]\n",
      "delta: 0, p: nan\n",
      "delta: 1, p: 8.67802522644102e-29\n"
     ]
    },
    {
     "name": "stderr",
     "output_type": "stream",
     "text": [
      "C:\\Users\\jeff1\\Anaconda3\\lib\\site-packages\\statsmodels\\tsa\\base\\tsa_model.py:221: ValueWarning: An unsupported index was provided and will be ignored when e.g. forecasting.\n",
      "  ' ignored when e.g. forecasting.', ValueWarning)\n"
     ]
    },
    {
     "name": "stdout",
     "output_type": "stream",
     "text": [
      "predictions: [array([177759.76903235]), array([244693.94572547]), array([407521.64335805])]\n",
      "delta: 0, p: nan\n",
      "delta: 1, p: 8.046489563845231e-29\n"
     ]
    },
    {
     "name": "stderr",
     "output_type": "stream",
     "text": [
      "C:\\Users\\jeff1\\Anaconda3\\lib\\site-packages\\statsmodels\\tsa\\base\\tsa_model.py:221: ValueWarning: An unsupported index was provided and will be ignored when e.g. forecasting.\n",
      "  ' ignored when e.g. forecasting.', ValueWarning)\n"
     ]
    },
    {
     "name": "stdout",
     "output_type": "stream",
     "text": [
      "bad condition 1: stationarity not adequate\n",
      "delta: 2, p: 7.430331042028908e-24\n"
     ]
    },
    {
     "name": "stderr",
     "output_type": "stream",
     "text": [
      "C:\\Users\\jeff1\\Anaconda3\\lib\\site-packages\\statsmodels\\tsa\\base\\tsa_model.py:221: ValueWarning: An unsupported index was provided and will be ignored when e.g. forecasting.\n",
      "  ' ignored when e.g. forecasting.', ValueWarning)\n"
     ]
    },
    {
     "name": "stdout",
     "output_type": "stream",
     "text": [
      "predictions: [array([177759.76903235]), array([244693.94572547]), array([407521.64335805]), array([344016.8896424])]\n",
      "delta: 0, p: nan\n",
      "delta: 1, p: 7.474177619261181e-29\n"
     ]
    },
    {
     "name": "stderr",
     "output_type": "stream",
     "text": [
      "C:\\Users\\jeff1\\Anaconda3\\lib\\site-packages\\statsmodels\\tsa\\base\\tsa_model.py:221: ValueWarning: An unsupported index was provided and will be ignored when e.g. forecasting.\n",
      "  ' ignored when e.g. forecasting.', ValueWarning)\n"
     ]
    },
    {
     "name": "stdout",
     "output_type": "stream",
     "text": [
      "bad condition 1: stationarity not adequate\n",
      "delta: 2, p: 4.872972142533516e-14\n"
     ]
    },
    {
     "name": "stderr",
     "output_type": "stream",
     "text": [
      "C:\\Users\\jeff1\\Anaconda3\\lib\\site-packages\\statsmodels\\tsa\\base\\tsa_model.py:221: ValueWarning: An unsupported index was provided and will be ignored when e.g. forecasting.\n",
      "  ' ignored when e.g. forecasting.', ValueWarning)\n",
      "C:\\Users\\jeff1\\Anaconda3\\lib\\site-packages\\statsmodels\\base\\model.py:488: HessianInversionWarning: Inverting hessian failed, no bse or cov_params available\n",
      "  'available', HessianInversionWarning)\n",
      "C:\\Users\\jeff1\\Anaconda3\\lib\\site-packages\\statsmodels\\tsa\\base\\tsa_model.py:221: ValueWarning: An unsupported index was provided and will be ignored when e.g. forecasting.\n",
      "  ' ignored when e.g. forecasting.', ValueWarning)\n"
     ]
    },
    {
     "name": "stdout",
     "output_type": "stream",
     "text": [
      "predictions: [array([177759.76903235]), array([244693.94572547]), array([407521.64335805]), array([344016.8896424]), array([481084.11584435])]\n",
      "delta: 0, p: nan\n",
      "delta: 1, p: 6.928882813778236e-29\n",
      "predictions: [array([177759.76903235]), array([244693.94572547]), array([407521.64335805]), array([344016.8896424]), array([481084.11584435]), array([410442.62842085])]\n",
      "delta: 0, p: nan\n",
      "delta: 1, p: 6.428225474850918e-29\n",
      "predictions: [array([177759.76903235]), array([244693.94572547]), array([407521.64335805]), array([344016.8896424]), array([481084.11584435]), array([410442.62842085]), array([403513.115271])]\n",
      "delta: 0, p: nan\n",
      "delta: 1, p: 0.22494727083088695\n",
      "delta: 2, p: 0.022332939978964173\n"
     ]
    },
    {
     "name": "stderr",
     "output_type": "stream",
     "text": [
      "C:\\Users\\jeff1\\Anaconda3\\lib\\site-packages\\statsmodels\\tsa\\base\\tsa_model.py:221: ValueWarning: An unsupported index was provided and will be ignored when e.g. forecasting.\n",
      "  ' ignored when e.g. forecasting.', ValueWarning)\n",
      "C:\\Users\\jeff1\\Anaconda3\\lib\\site-packages\\statsmodels\\tsa\\base\\tsa_model.py:221: ValueWarning: An unsupported index was provided and will be ignored when e.g. forecasting.\n",
      "  ' ignored when e.g. forecasting.', ValueWarning)\n",
      "C:\\Users\\jeff1\\Anaconda3\\lib\\site-packages\\statsmodels\\base\\model.py:488: HessianInversionWarning: Inverting hessian failed, no bse or cov_params available\n",
      "  'available', HessianInversionWarning)\n",
      "C:\\Users\\jeff1\\Anaconda3\\lib\\site-packages\\statsmodels\\tsa\\base\\tsa_model.py:221: ValueWarning: An unsupported index was provided and will be ignored when e.g. forecasting.\n",
      "  ' ignored when e.g. forecasting.', ValueWarning)\n"
     ]
    },
    {
     "name": "stdout",
     "output_type": "stream",
     "text": [
      "predictions: [array([486218.45053926])]\n",
      "delta: 0, p: nan\n",
      "delta: 1, p: 0.1755055793351193\n",
      "delta: 2, p: 0.06244167282986968\n",
      "delta: 3, p: 0.7875618270003099\n",
      "delta: 4, p: 0.7707255032714982\n",
      "delta: 5, p: 0.03152446248871772\n",
      "predictions: [array([486218.45053926]), array([356891.04132375])]\n",
      "delta: 0, p: nan\n",
      "delta: 1, p: 0.032806844149157605\n"
     ]
    },
    {
     "name": "stderr",
     "output_type": "stream",
     "text": [
      "C:\\Users\\jeff1\\Anaconda3\\lib\\site-packages\\statsmodels\\tsa\\base\\tsa_model.py:221: ValueWarning: An unsupported index was provided and will be ignored when e.g. forecasting.\n",
      "  ' ignored when e.g. forecasting.', ValueWarning)\n",
      "C:\\Users\\jeff1\\Anaconda3\\lib\\site-packages\\statsmodels\\base\\model.py:488: HessianInversionWarning: Inverting hessian failed, no bse or cov_params available\n",
      "  'available', HessianInversionWarning)\n",
      "C:\\Users\\jeff1\\Anaconda3\\lib\\site-packages\\statsmodels\\tsa\\base\\tsa_model.py:221: ValueWarning: An unsupported index was provided and will be ignored when e.g. forecasting.\n",
      "  ' ignored when e.g. forecasting.', ValueWarning)\n"
     ]
    },
    {
     "name": "stdout",
     "output_type": "stream",
     "text": [
      "predictions: [array([486218.45053926]), array([356891.04132375]), array([363209.57412782])]\n",
      "delta: 0, p: nan\n",
      "delta: 1, p: 0.041523520774673764\n"
     ]
    },
    {
     "name": "stderr",
     "output_type": "stream",
     "text": [
      "C:\\Users\\jeff1\\Anaconda3\\lib\\site-packages\\statsmodels\\base\\model.py:488: HessianInversionWarning: Inverting hessian failed, no bse or cov_params available\n",
      "  'available', HessianInversionWarning)\n",
      "C:\\Users\\jeff1\\Anaconda3\\lib\\site-packages\\statsmodels\\tsa\\base\\tsa_model.py:221: ValueWarning: An unsupported index was provided and will be ignored when e.g. forecasting.\n",
      "  ' ignored when e.g. forecasting.', ValueWarning)\n"
     ]
    },
    {
     "name": "stdout",
     "output_type": "stream",
     "text": [
      "predictions: [array([486218.45053926]), array([356891.04132375]), array([363209.57412782]), array([328470.08633003])]\n",
      "delta: 0, p: nan\n",
      "delta: 1, p: 0.018455112939922226\n",
      "predictions: [array([486218.45053926]), array([356891.04132375]), array([363209.57412782]), array([328470.08633003]), array([378946.22800178])]\n",
      "delta: 0, p: nan\n",
      "delta: 1, p: 0.028285619445728615\n"
     ]
    },
    {
     "name": "stderr",
     "output_type": "stream",
     "text": [
      "C:\\Users\\jeff1\\Anaconda3\\lib\\site-packages\\statsmodels\\tsa\\base\\tsa_model.py:221: ValueWarning: An unsupported index was provided and will be ignored when e.g. forecasting.\n",
      "  ' ignored when e.g. forecasting.', ValueWarning)\n"
     ]
    },
    {
     "name": "stdout",
     "output_type": "stream",
     "text": [
      "predictions: [array([486218.45053926]), array([356891.04132375]), array([363209.57412782]), array([328470.08633003]), array([378946.22800178]), array([386922.30297785])]\n",
      "delta: 0, p: nan\n",
      "delta: 1, p: 0.02605899092580772\n",
      "predictions: [array([486218.45053926]), array([356891.04132375]), array([363209.57412782]), array([328470.08633003]), array([378946.22800178]), array([386922.30297785]), array([403482.56349419])]\n",
      "delta: 0, p: nan\n"
     ]
    },
    {
     "name": "stderr",
     "output_type": "stream",
     "text": [
      "C:\\Users\\jeff1\\Anaconda3\\lib\\site-packages\\statsmodels\\tsa\\base\\tsa_model.py:221: ValueWarning: An unsupported index was provided and will be ignored when e.g. forecasting.\n",
      "  ' ignored when e.g. forecasting.', ValueWarning)\n"
     ]
    },
    {
     "name": "stdout",
     "output_type": "stream",
     "text": [
      "delta: 1, p: 0.09936744725742275\n",
      "delta: 2, p: 0.17771637887773023\n",
      "delta: 3, p: 0.03860527831908864\n"
     ]
    },
    {
     "name": "stderr",
     "output_type": "stream",
     "text": [
      "C:\\Users\\jeff1\\Anaconda3\\lib\\site-packages\\statsmodels\\tsa\\base\\tsa_model.py:221: ValueWarning: An unsupported index was provided and will be ignored when e.g. forecasting.\n",
      "  ' ignored when e.g. forecasting.', ValueWarning)\n"
     ]
    },
    {
     "name": "stdout",
     "output_type": "stream",
     "text": [
      "predictions: [array([267035.36533765])]\n",
      "delta: 0, p: nan\n",
      "delta: 1, p: 0.02457189390314371\n"
     ]
    },
    {
     "name": "stderr",
     "output_type": "stream",
     "text": [
      "C:\\Users\\jeff1\\Anaconda3\\lib\\site-packages\\statsmodels\\tsa\\base\\tsa_model.py:221: ValueWarning: An unsupported index was provided and will be ignored when e.g. forecasting.\n",
      "  ' ignored when e.g. forecasting.', ValueWarning)\n"
     ]
    },
    {
     "name": "stdout",
     "output_type": "stream",
     "text": [
      "bad condition 1: stationarity not adequate\n",
      "delta: 2, p: 0.004017312717083226\n"
     ]
    },
    {
     "name": "stderr",
     "output_type": "stream",
     "text": [
      "C:\\Users\\jeff1\\Anaconda3\\lib\\site-packages\\statsmodels\\tsa\\base\\tsa_model.py:221: ValueWarning: An unsupported index was provided and will be ignored when e.g. forecasting.\n",
      "  ' ignored when e.g. forecasting.', ValueWarning)\n"
     ]
    },
    {
     "name": "stdout",
     "output_type": "stream",
     "text": [
      "bad condition 2: stationarity not adequate\n",
      "delta: 3, p: 0.042775883521136614\n"
     ]
    },
    {
     "name": "stderr",
     "output_type": "stream",
     "text": [
      "C:\\Users\\jeff1\\Anaconda3\\lib\\site-packages\\statsmodels\\tsa\\base\\tsa_model.py:221: ValueWarning: An unsupported index was provided and will be ignored when e.g. forecasting.\n",
      "  ' ignored when e.g. forecasting.', ValueWarning)\n"
     ]
    },
    {
     "name": "stdout",
     "output_type": "stream",
     "text": [
      "bad condition 3: stationarity not adequate\n",
      "delta: 4, p: 0.0\n"
     ]
    },
    {
     "name": "stderr",
     "output_type": "stream",
     "text": [
      "C:\\Users\\jeff1\\Anaconda3\\lib\\site-packages\\statsmodels\\tsa\\base\\tsa_model.py:221: ValueWarning: An unsupported index was provided and will be ignored when e.g. forecasting.\n",
      "  ' ignored when e.g. forecasting.', ValueWarning)\n"
     ]
    },
    {
     "name": "stdout",
     "output_type": "stream",
     "text": [
      "predictions: [array([267035.36533765]), array([339301.81140559])]\n",
      "delta: 0, p: nan\n",
      "delta: 1, p: 2.477552473324806e-28\n"
     ]
    },
    {
     "name": "stderr",
     "output_type": "stream",
     "text": [
      "C:\\Users\\jeff1\\Anaconda3\\lib\\site-packages\\statsmodels\\tsa\\base\\tsa_model.py:221: ValueWarning: An unsupported index was provided and will be ignored when e.g. forecasting.\n",
      "  ' ignored when e.g. forecasting.', ValueWarning)\n"
     ]
    },
    {
     "name": "stdout",
     "output_type": "stream",
     "text": [
      "bad condition 1: stationarity not adequate\n",
      "delta: 2, p: 0.0012014619028309858\n"
     ]
    },
    {
     "name": "stderr",
     "output_type": "stream",
     "text": [
      "C:\\Users\\jeff1\\Anaconda3\\lib\\site-packages\\statsmodels\\tsa\\base\\tsa_model.py:221: ValueWarning: An unsupported index was provided and will be ignored when e.g. forecasting.\n",
      "  ' ignored when e.g. forecasting.', ValueWarning)\n"
     ]
    },
    {
     "name": "stdout",
     "output_type": "stream",
     "text": [
      "bad condition 2: stationarity not adequate\n",
      "delta: 3, p: 0.6057112262621501\n",
      "delta: 4, p: 9.998861639728416e-26\n"
     ]
    },
    {
     "name": "stderr",
     "output_type": "stream",
     "text": [
      "C:\\Users\\jeff1\\Anaconda3\\lib\\site-packages\\statsmodels\\tsa\\base\\tsa_model.py:221: ValueWarning: An unsupported index was provided and will be ignored when e.g. forecasting.\n",
      "  ' ignored when e.g. forecasting.', ValueWarning)\n"
     ]
    },
    {
     "name": "stdout",
     "output_type": "stream",
     "text": [
      "predictions: [array([267035.36533765]), array([339301.81140559]), array([340419.60764122])]\n",
      "delta: 0, p: nan\n",
      "delta: 1, p: 2.291629823863809e-28\n"
     ]
    },
    {
     "name": "stderr",
     "output_type": "stream",
     "text": [
      "C:\\Users\\jeff1\\Anaconda3\\lib\\site-packages\\statsmodels\\tsa\\base\\tsa_model.py:221: ValueWarning: An unsupported index was provided and will be ignored when e.g. forecasting.\n",
      "  ' ignored when e.g. forecasting.', ValueWarning)\n"
     ]
    },
    {
     "name": "stdout",
     "output_type": "stream",
     "text": [
      "bad condition 1: stationarity not adequate\n",
      "delta: 2, p: 8.504866551026612e-26\n"
     ]
    },
    {
     "name": "stderr",
     "output_type": "stream",
     "text": [
      "C:\\Users\\jeff1\\Anaconda3\\lib\\site-packages\\statsmodels\\tsa\\base\\tsa_model.py:221: ValueWarning: An unsupported index was provided and will be ignored when e.g. forecasting.\n",
      "  ' ignored when e.g. forecasting.', ValueWarning)\n"
     ]
    },
    {
     "name": "stdout",
     "output_type": "stream",
     "text": [
      "bad condition 2: stationarity not adequate\n",
      "delta: 3, p: 0.3255841537806795\n",
      "delta: 4, p: 0.8596542727306749\n",
      "delta: 5, p: 0.5361531800139366\n",
      "delta: 6, p: 1.3186602133309749e-20\n"
     ]
    },
    {
     "name": "stderr",
     "output_type": "stream",
     "text": [
      "C:\\Users\\jeff1\\Anaconda3\\lib\\site-packages\\statsmodels\\tsa\\base\\tsa_model.py:221: ValueWarning: An unsupported index was provided and will be ignored when e.g. forecasting.\n",
      "  ' ignored when e.g. forecasting.', ValueWarning)\n"
     ]
    },
    {
     "name": "stdout",
     "output_type": "stream",
     "text": [
      "predictions: [array([267035.36533765]), array([339301.81140559]), array([340419.60764122]), array([342778.96980902])]\n",
      "delta: 0, p: nan\n",
      "delta: 1, p: 2.1269995955629843e-28\n"
     ]
    },
    {
     "name": "stderr",
     "output_type": "stream",
     "text": [
      "C:\\Users\\jeff1\\Anaconda3\\lib\\site-packages\\statsmodels\\tsa\\base\\tsa_model.py:221: ValueWarning: An unsupported index was provided and will be ignored when e.g. forecasting.\n",
      "  ' ignored when e.g. forecasting.', ValueWarning)\n"
     ]
    },
    {
     "name": "stdout",
     "output_type": "stream",
     "text": [
      "predictions: [array([267035.36533765]), array([339301.81140559]), array([340419.60764122]), array([342778.96980902]), array([397011.87044381])]\n",
      "delta: 0, p: nan\n",
      "delta: 1, p: 1.9570084314945483e-28\n"
     ]
    },
    {
     "name": "stderr",
     "output_type": "stream",
     "text": [
      "C:\\Users\\jeff1\\Anaconda3\\lib\\site-packages\\statsmodels\\tsa\\base\\tsa_model.py:221: ValueWarning: An unsupported index was provided and will be ignored when e.g. forecasting.\n",
      "  ' ignored when e.g. forecasting.', ValueWarning)\n"
     ]
    },
    {
     "name": "stdout",
     "output_type": "stream",
     "text": [
      "predictions: [array([267035.36533765]), array([339301.81140559]), array([340419.60764122]), array([342778.96980902]), array([397011.87044381]), array([431278.51070216])]\n",
      "delta: 0, p: nan\n",
      "delta: 1, p: 1.8011985315834528e-28\n",
      "predictions: [array([267035.36533765]), array([339301.81140559]), array([340419.60764122]), array([342778.96980902]), array([397011.87044381]), array([431278.51070216]), array([403460.36947236])]\n",
      "delta: 0, p: nan\n",
      "delta: 1, p: 0.23110817873599176\n",
      "delta: 2, p: 0.25876119504229844\n",
      "delta: 3, p: 0.12431414943906988\n"
     ]
    },
    {
     "name": "stderr",
     "output_type": "stream",
     "text": [
      "C:\\Users\\jeff1\\Anaconda3\\lib\\site-packages\\statsmodels\\tsa\\base\\tsa_model.py:221: ValueWarning: An unsupported index was provided and will be ignored when e.g. forecasting.\n",
      "  ' ignored when e.g. forecasting.', ValueWarning)\n"
     ]
    },
    {
     "name": "stdout",
     "output_type": "stream",
     "text": [
      "delta: 4, p: 0.3300918064954039\n",
      "delta: 5, p: 0.1895850048591619\n",
      "delta: 6, p: 0.32417260937869913\n",
      "delta: 7, p: 0.08893145037543454\n",
      "delta: 8, p: 0.022256874121276173\n"
     ]
    },
    {
     "name": "stderr",
     "output_type": "stream",
     "text": [
      "C:\\Users\\jeff1\\Anaconda3\\lib\\site-packages\\statsmodels\\tsa\\base\\tsa_model.py:221: ValueWarning: An unsupported index was provided and will be ignored when e.g. forecasting.\n",
      "  ' ignored when e.g. forecasting.', ValueWarning)\n"
     ]
    },
    {
     "name": "stdout",
     "output_type": "stream",
     "text": [
      "predictions: [array([353750.55821948])]\n",
      "delta: 0, p: nan\n",
      "delta: 1, p: 0.7005046124743892\n",
      "delta: 2, p: 0.3554607732190106\n",
      "delta: 3, p: 0.42796045732668914\n",
      "delta: 4, p: 0.8285543804502972\n",
      "delta: 5, p: 0.7131123795428247\n",
      "delta: 6, p: 0.0\n"
     ]
    },
    {
     "name": "stderr",
     "output_type": "stream",
     "text": [
      "C:\\Users\\jeff1\\Anaconda3\\lib\\site-packages\\statsmodels\\tsa\\base\\tsa_model.py:221: ValueWarning: An unsupported index was provided and will be ignored when e.g. forecasting.\n",
      "  ' ignored when e.g. forecasting.', ValueWarning)\n"
     ]
    },
    {
     "name": "stdout",
     "output_type": "stream",
     "text": [
      "predictions: [array([353750.55821948]), array([385132.42640479])]\n",
      "delta: 0, p: nan\n",
      "delta: 1, p: 0.28111141477937107\n",
      "delta: 2, p: 0.1851185314808657\n",
      "delta: 3, p: 0.25831243154399935\n",
      "delta: 4, p: 0.5859082436911387\n",
      "delta: 5, p: 0.5013888915041111\n",
      "delta: 6, p: 0.745354370181808\n",
      "delta: 7, p: 0.19584424225993935\n",
      "delta: 8, p: 0.2892417996759641\n",
      "delta: 9, p: 0.8515844986420262\n",
      "delta: 0, p: nan\n",
      "bad condition 0: stationarity not adequate\n",
      "delta: 1, p: 0.28111141477937107\n"
     ]
    },
    {
     "name": "stderr",
     "output_type": "stream",
     "text": [
      "C:\\Users\\jeff1\\Anaconda3\\lib\\site-packages\\statsmodels\\tsa\\base\\tsa_model.py:221: ValueWarning: An unsupported index was provided and will be ignored when e.g. forecasting.\n",
      "  ' ignored when e.g. forecasting.', ValueWarning)\n",
      "C:\\Users\\jeff1\\Anaconda3\\lib\\site-packages\\statsmodels\\tsa\\base\\tsa_model.py:221: ValueWarning: An unsupported index was provided and will be ignored when e.g. forecasting.\n",
      "  ' ignored when e.g. forecasting.', ValueWarning)\n",
      "C:\\Users\\jeff1\\Anaconda3\\lib\\site-packages\\statsmodels\\base\\model.py:488: HessianInversionWarning: Inverting hessian failed, no bse or cov_params available\n",
      "  'available', HessianInversionWarning)\n",
      "C:\\Users\\jeff1\\Anaconda3\\lib\\site-packages\\statsmodels\\tsa\\base\\tsa_model.py:221: ValueWarning: An unsupported index was provided and will be ignored when e.g. forecasting.\n",
      "  ' ignored when e.g. forecasting.', ValueWarning)\n"
     ]
    },
    {
     "name": "stdout",
     "output_type": "stream",
     "text": [
      "predictions: [array([353750.55821948]), array([385132.42640479]), array([423929.76573564])]\n",
      "delta: 0, p: nan\n",
      "delta: 1, p: 0.08917078269456269\n",
      "delta: 2, p: 0.0008396419163456942\n",
      "predictions: [array([353750.55821948]), array([385132.42640479]), array([423929.76573564]), array([392996.29636264])]\n",
      "delta: 0, p: nan\n",
      "delta: 1, p: 0.07935368724127018\n",
      "delta: 2, p: 0.002780408191080646\n"
     ]
    },
    {
     "name": "stderr",
     "output_type": "stream",
     "text": [
      "C:\\Users\\jeff1\\Anaconda3\\lib\\site-packages\\statsmodels\\tsa\\base\\tsa_model.py:221: ValueWarning: An unsupported index was provided and will be ignored when e.g. forecasting.\n",
      "  ' ignored when e.g. forecasting.', ValueWarning)\n"
     ]
    },
    {
     "name": "stdout",
     "output_type": "stream",
     "text": [
      "predictions: [array([353750.55821948]), array([385132.42640479]), array([423929.76573564]), array([392996.29636264]), array([409083.44236651])]\n",
      "delta: 0, p: nan\n",
      "delta: 1, p: 0.08251840054440096\n",
      "delta: 2, p: 0.07588100630030523\n",
      "delta: 3, p: 0.3669541701754317\n",
      "delta: 4, p: 6.976706229249024e-07\n"
     ]
    },
    {
     "name": "stderr",
     "output_type": "stream",
     "text": [
      "C:\\Users\\jeff1\\Anaconda3\\lib\\site-packages\\statsmodels\\tsa\\base\\tsa_model.py:221: ValueWarning: An unsupported index was provided and will be ignored when e.g. forecasting.\n",
      "  ' ignored when e.g. forecasting.', ValueWarning)\n"
     ]
    },
    {
     "name": "stdout",
     "output_type": "stream",
     "text": [
      "predictions: [array([353750.55821948]), array([385132.42640479]), array([423929.76573564]), array([392996.29636264]), array([409083.44236651]), array([397670.00642208])]\n",
      "delta: 0, p: nan\n",
      "delta: 1, p: 0.09021079287319639\n",
      "delta: 2, p: 0.1383354206388583\n",
      "delta: 3, p: 0.31804849247958794\n",
      "delta: 4, p: 0.37682199706030206\n",
      "delta: 5, p: 2.6350810253873914e-05\n"
     ]
    },
    {
     "name": "stderr",
     "output_type": "stream",
     "text": [
      "C:\\Users\\jeff1\\Anaconda3\\lib\\site-packages\\statsmodels\\tsa\\base\\tsa_model.py:221: ValueWarning: An unsupported index was provided and will be ignored when e.g. forecasting.\n",
      "  ' ignored when e.g. forecasting.', ValueWarning)\n"
     ]
    },
    {
     "name": "stdout",
     "output_type": "stream",
     "text": [
      "predictions: [array([353750.55821948]), array([385132.42640479]), array([423929.76573564]), array([392996.29636264]), array([409083.44236651]), array([397670.00642208]), array([397365.57325478])]\n",
      "delta: 0, p: nan\n",
      "delta: 1, p: 1.3119669837333552e-05\n"
     ]
    },
    {
     "name": "stderr",
     "output_type": "stream",
     "text": [
      "C:\\Users\\jeff1\\Anaconda3\\lib\\site-packages\\statsmodels\\tsa\\base\\tsa_model.py:221: ValueWarning: An unsupported index was provided and will be ignored when e.g. forecasting.\n",
      "  ' ignored when e.g. forecasting.', ValueWarning)\n"
     ]
    },
    {
     "name": "stdout",
     "output_type": "stream",
     "text": [
      "predictions: [array([254745.86591162])]\n",
      "delta: 0, p: nan\n",
      "delta: 1, p: 0.9977585001622894\n",
      "delta: 2, p: 0.9846125623930909\n",
      "delta: 3, p: 0.9896861097267553\n",
      "delta: 4, p: 0.9939498045992871\n",
      "delta: 5, p: 0.9926959089271121\n",
      "delta: 6, p: 0.9867171041341697\n",
      "delta: 7, p: 0.993994228930681\n",
      "delta: 8, p: 0.9946198706393061\n",
      "delta: 9, p: 0.9931511371156859\n",
      "delta: 0, p: nan\n",
      "bad condition 0: stationarity not adequate\n",
      "delta: 1, p: 0.9977585001622894\n",
      "bad condition 1: stationarity not adequate\n",
      "delta: 2, p: 0.9846125623930909\n"
     ]
    },
    {
     "name": "stderr",
     "output_type": "stream",
     "text": [
      "C:\\Users\\jeff1\\Anaconda3\\lib\\site-packages\\statsmodels\\tsa\\base\\tsa_model.py:221: ValueWarning: An unsupported index was provided and will be ignored when e.g. forecasting.\n",
      "  ' ignored when e.g. forecasting.', ValueWarning)\n",
      "C:\\Users\\jeff1\\Anaconda3\\lib\\site-packages\\statsmodels\\tsa\\base\\tsa_model.py:221: ValueWarning: An unsupported index was provided and will be ignored when e.g. forecasting.\n",
      "  ' ignored when e.g. forecasting.', ValueWarning)\n",
      "C:\\Users\\jeff1\\Anaconda3\\lib\\site-packages\\statsmodels\\tsa\\base\\tsa_model.py:221: ValueWarning: An unsupported index was provided and will be ignored when e.g. forecasting.\n",
      "  ' ignored when e.g. forecasting.', ValueWarning)\n"
     ]
    },
    {
     "name": "stdout",
     "output_type": "stream",
     "text": [
      "bad condition 2: stationarity not adequate\n",
      "delta: 3, p: 0.9896861097267553\n"
     ]
    },
    {
     "name": "stderr",
     "output_type": "stream",
     "text": [
      "C:\\Users\\jeff1\\Anaconda3\\lib\\site-packages\\statsmodels\\tsa\\base\\tsa_model.py:221: ValueWarning: An unsupported index was provided and will be ignored when e.g. forecasting.\n",
      "  ' ignored when e.g. forecasting.', ValueWarning)\n"
     ]
    },
    {
     "name": "stdout",
     "output_type": "stream",
     "text": [
      "bad condition 3: stationarity not adequate\n",
      "delta: 4, p: 0.9939498045992871\n",
      "bad condition 4: stationarity not adequate\n",
      "delta: 5, p: 0.9926959089271121\n"
     ]
    },
    {
     "name": "stderr",
     "output_type": "stream",
     "text": [
      "C:\\Users\\jeff1\\Anaconda3\\lib\\site-packages\\statsmodels\\tsa\\base\\tsa_model.py:221: ValueWarning: An unsupported index was provided and will be ignored when e.g. forecasting.\n",
      "  ' ignored when e.g. forecasting.', ValueWarning)\n",
      "C:\\Users\\jeff1\\Anaconda3\\lib\\site-packages\\statsmodels\\tsa\\base\\tsa_model.py:221: ValueWarning: An unsupported index was provided and will be ignored when e.g. forecasting.\n",
      "  ' ignored when e.g. forecasting.', ValueWarning)\n"
     ]
    },
    {
     "name": "stdout",
     "output_type": "stream",
     "text": [
      "bad condition 5: stationarity not adequate\n",
      "delta: 6, p: 0.9867171041341697\n"
     ]
    },
    {
     "name": "stderr",
     "output_type": "stream",
     "text": [
      "C:\\Users\\jeff1\\Anaconda3\\lib\\site-packages\\statsmodels\\tsa\\base\\tsa_model.py:221: ValueWarning: An unsupported index was provided and will be ignored when e.g. forecasting.\n",
      "  ' ignored when e.g. forecasting.', ValueWarning)\n"
     ]
    },
    {
     "name": "stdout",
     "output_type": "stream",
     "text": [
      "predictions: [array([254745.86591162]), array([323149.16456566])]\n",
      "delta: 0, p: nan\n",
      "delta: 1, p: 0.2784494177367353\n",
      "delta: 2, p: 0.260920919672306\n",
      "delta: 3, p: 0.13766615489451417\n",
      "delta: 4, p: 0.08629854741772636\n",
      "delta: 5, p: 0.9943248122917429\n",
      "delta: 6, p: 0.4851364195461957\n",
      "delta: 7, p: 0.32053708585852614\n",
      "delta: 8, p: 0.3641833759888918\n",
      "delta: 9, p: 0.31625444212020337\n",
      "delta: 0, p: nan\n",
      "bad condition 0: stationarity not adequate\n",
      "delta: 1, p: 0.2784494177367353\n"
     ]
    },
    {
     "name": "stderr",
     "output_type": "stream",
     "text": [
      "C:\\Users\\jeff1\\Anaconda3\\lib\\site-packages\\statsmodels\\tsa\\base\\tsa_model.py:221: ValueWarning: An unsupported index was provided and will be ignored when e.g. forecasting.\n",
      "  ' ignored when e.g. forecasting.', ValueWarning)\n",
      "C:\\Users\\jeff1\\Anaconda3\\lib\\site-packages\\statsmodels\\tsa\\base\\tsa_model.py:221: ValueWarning: An unsupported index was provided and will be ignored when e.g. forecasting.\n",
      "  ' ignored when e.g. forecasting.', ValueWarning)\n"
     ]
    },
    {
     "name": "stdout",
     "output_type": "stream",
     "text": [
      "predictions: [array([254745.86591162]), array([323149.16456566]), array([336380.40286576])]\n",
      "delta: 0, p: nan\n",
      "delta: 1, p: 0.005631894684947676\n"
     ]
    },
    {
     "name": "stderr",
     "output_type": "stream",
     "text": [
      "C:\\Users\\jeff1\\Anaconda3\\lib\\site-packages\\statsmodels\\tsa\\base\\tsa_model.py:221: ValueWarning: An unsupported index was provided and will be ignored when e.g. forecasting.\n",
      "  ' ignored when e.g. forecasting.', ValueWarning)\n"
     ]
    },
    {
     "name": "stdout",
     "output_type": "stream",
     "text": [
      "predictions: [array([254745.86591162]), array([323149.16456566]), array([336380.40286576]), array([421141.97455302])]\n",
      "delta: 0, p: nan\n",
      "delta: 1, p: 6.236583573047305e-23\n"
     ]
    },
    {
     "name": "stderr",
     "output_type": "stream",
     "text": [
      "C:\\Users\\jeff1\\Anaconda3\\lib\\site-packages\\statsmodels\\tsa\\base\\tsa_model.py:221: ValueWarning: An unsupported index was provided and will be ignored when e.g. forecasting.\n",
      "  ' ignored when e.g. forecasting.', ValueWarning)\n"
     ]
    },
    {
     "name": "stdout",
     "output_type": "stream",
     "text": [
      "predictions: [array([254745.86591162]), array([323149.16456566]), array([336380.40286576]), array([421141.97455302]), array([406728.70350868])]\n",
      "delta: 0, p: nan\n",
      "delta: 1, p: 5.533854670084192e-23\n"
     ]
    },
    {
     "name": "stderr",
     "output_type": "stream",
     "text": [
      "C:\\Users\\jeff1\\Anaconda3\\lib\\site-packages\\statsmodels\\tsa\\base\\tsa_model.py:221: ValueWarning: An unsupported index was provided and will be ignored when e.g. forecasting.\n",
      "  ' ignored when e.g. forecasting.', ValueWarning)\n"
     ]
    },
    {
     "name": "stdout",
     "output_type": "stream",
     "text": [
      "predictions: [array([254745.86591162]), array([323149.16456566]), array([336380.40286576]), array([421141.97455302]), array([406728.70350868]), array([409492.51079606])]\n",
      "delta: 0, p: nan\n",
      "delta: 1, p: 4.9205927399384395e-23\n",
      "predictions: [array([254745.86591162]), array([323149.16456566]), array([336380.40286576]), array([421141.97455302]), array([406728.70350868]), array([409492.51079606]), array([403649.75008062])]\n",
      "delta: 0, p: nan\n"
     ]
    },
    {
     "name": "stderr",
     "output_type": "stream",
     "text": [
      "C:\\Users\\jeff1\\Anaconda3\\lib\\site-packages\\statsmodels\\tsa\\base\\tsa_model.py:221: ValueWarning: An unsupported index was provided and will be ignored when e.g. forecasting.\n",
      "  ' ignored when e.g. forecasting.', ValueWarning)\n"
     ]
    },
    {
     "name": "stdout",
     "output_type": "stream",
     "text": [
      "delta: 1, p: 0.3796939904935392\n",
      "delta: 2, p: 0.3161880031546312\n",
      "delta: 3, p: 0.3330270374486408\n",
      "delta: 4, p: 0.15247533263026847\n",
      "delta: 5, p: 0.20497110711316152\n",
      "delta: 6, p: 0.28320705569078264\n",
      "delta: 7, p: 0.015692394033660798\n"
     ]
    },
    {
     "name": "stderr",
     "output_type": "stream",
     "text": [
      "C:\\Users\\jeff1\\Anaconda3\\lib\\site-packages\\statsmodels\\tsa\\base\\tsa_model.py:221: ValueWarning: An unsupported index was provided and will be ignored when e.g. forecasting.\n",
      "  ' ignored when e.g. forecasting.', ValueWarning)\n"
     ]
    },
    {
     "name": "stdout",
     "output_type": "stream",
     "text": [
      "predictions: [array([311943.66564116])]\n",
      "delta: 0, p: nan\n",
      "delta: 1, p: 0.921811510726148\n",
      "delta: 2, p: 0.9597078078150963\n",
      "delta: 3, p: 0.960079249116327\n",
      "delta: 4, p: 0.9285730645016553\n",
      "delta: 5, p: 7.621437333874641e-17\n"
     ]
    },
    {
     "name": "stderr",
     "output_type": "stream",
     "text": [
      "C:\\Users\\jeff1\\Anaconda3\\lib\\site-packages\\statsmodels\\tsa\\base\\tsa_model.py:221: ValueWarning: An unsupported index was provided and will be ignored when e.g. forecasting.\n",
      "  ' ignored when e.g. forecasting.', ValueWarning)\n"
     ]
    },
    {
     "name": "stdout",
     "output_type": "stream",
     "text": [
      "predictions: [array([311943.66564116]), array([366451.15116161])]\n",
      "delta: 0, p: nan\n",
      "delta: 1, p: 0.9411561932163685\n",
      "delta: 2, p: 0.7790928368095087\n",
      "delta: 3, p: 0.5349204223053671\n",
      "delta: 4, p: 0.9359147307927105\n",
      "delta: 5, p: 0.6936677086064419\n",
      "delta: 6, p: 0.9460740064832054\n",
      "delta: 7, p: 3.8982200883108413e-08\n"
     ]
    },
    {
     "name": "stderr",
     "output_type": "stream",
     "text": [
      "C:\\Users\\jeff1\\Anaconda3\\lib\\site-packages\\statsmodels\\tsa\\base\\tsa_model.py:221: ValueWarning: An unsupported index was provided and will be ignored when e.g. forecasting.\n",
      "  ' ignored when e.g. forecasting.', ValueWarning)\n"
     ]
    },
    {
     "name": "stdout",
     "output_type": "stream",
     "text": [
      "predictions: [array([311943.66564116]), array([366451.15116161]), array([369481.4515787])]\n",
      "delta: 0, p: nan\n",
      "delta: 1, p: 0.3092092256914186\n",
      "delta: 2, p: 0.6924008365004902\n",
      "delta: 3, p: 0.7925123720680702\n",
      "delta: 4, p: 0.9478934630545898\n",
      "delta: 5, p: 0.8083602383655543\n",
      "delta: 6, p: 0.9598896769984206\n",
      "delta: 7, p: 4.658425659842777e-06\n"
     ]
    },
    {
     "name": "stderr",
     "output_type": "stream",
     "text": [
      "C:\\Users\\jeff1\\Anaconda3\\lib\\site-packages\\statsmodels\\tsa\\base\\tsa_model.py:221: ValueWarning: An unsupported index was provided and will be ignored when e.g. forecasting.\n",
      "  ' ignored when e.g. forecasting.', ValueWarning)\n"
     ]
    },
    {
     "name": "stdout",
     "output_type": "stream",
     "text": [
      "predictions: [array([311943.66564116]), array([366451.15116161]), array([369481.4515787]), array([373457.23441601])]\n",
      "delta: 0, p: nan\n",
      "delta: 1, p: 0.8405013419675572\n",
      "delta: 2, p: 0.4663643551251447\n",
      "delta: 3, p: 0.7799414195830883\n",
      "delta: 4, p: 0.8468015267918921\n",
      "delta: 5, p: 0.8592295348405528\n",
      "delta: 6, p: 0.9662504293563045\n",
      "delta: 7, p: 2.1144867933377847e-05\n"
     ]
    },
    {
     "name": "stderr",
     "output_type": "stream",
     "text": [
      "C:\\Users\\jeff1\\Anaconda3\\lib\\site-packages\\statsmodels\\tsa\\base\\tsa_model.py:221: ValueWarning: An unsupported index was provided and will be ignored when e.g. forecasting.\n",
      "  ' ignored when e.g. forecasting.', ValueWarning)\n"
     ]
    },
    {
     "name": "stdout",
     "output_type": "stream",
     "text": [
      "predictions: [array([311943.66564116]), array([366451.15116161]), array([369481.4515787]), array([373457.23441601]), array([377030.54763804])]\n",
      "delta: 0, p: nan\n",
      "delta: 1, p: 0.7853973505686633\n",
      "delta: 2, p: 0.6370420022175622\n",
      "delta: 3, p: 0.805451285661996\n",
      "delta: 4, p: 9.178637949739019e-10\n"
     ]
    },
    {
     "name": "stderr",
     "output_type": "stream",
     "text": [
      "C:\\Users\\jeff1\\Anaconda3\\lib\\site-packages\\statsmodels\\tsa\\base\\tsa_model.py:221: ValueWarning: An unsupported index was provided and will be ignored when e.g. forecasting.\n",
      "  ' ignored when e.g. forecasting.', ValueWarning)\n"
     ]
    },
    {
     "name": "stdout",
     "output_type": "stream",
     "text": [
      "predictions: [array([311943.66564116]), array([366451.15116161]), array([369481.4515787]), array([373457.23441601]), array([377030.54763804]), array([392558.31750597])]\n",
      "delta: 0, p: nan\n",
      "delta: 1, p: 0.6847410274941739\n",
      "delta: 2, p: 0.6376619315199473\n",
      "delta: 3, p: 0.8836165120224257\n",
      "delta: 4, p: 4.726444239626176e-08\n"
     ]
    },
    {
     "name": "stderr",
     "output_type": "stream",
     "text": [
      "C:\\Users\\jeff1\\Anaconda3\\lib\\site-packages\\statsmodels\\tsa\\base\\tsa_model.py:221: ValueWarning: An unsupported index was provided and will be ignored when e.g. forecasting.\n",
      "  ' ignored when e.g. forecasting.', ValueWarning)\n"
     ]
    },
    {
     "name": "stdout",
     "output_type": "stream",
     "text": [
      "predictions: [array([311943.66564116]), array([366451.15116161]), array([369481.4515787]), array([373457.23441601]), array([377030.54763804]), array([392558.31750597]), array([396759.31680363])]\n",
      "delta: 0, p: nan\n",
      "delta: 1, p: 0.4749528767799936\n",
      "delta: 2, p: 0.4666567044263699\n",
      "delta: 3, p: 0.45165863959192704\n",
      "delta: 4, p: 0.5271470042320794\n",
      "delta: 5, p: 0.44714880172389876\n",
      "delta: 6, p: 0.48174458628649897\n",
      "delta: 7, p: 0.19177381448794734\n",
      "delta: 8, p: 0.6578297670391112\n",
      "delta: 9, p: 1.0885589928194832e-29\n"
     ]
    },
    {
     "name": "stderr",
     "output_type": "stream",
     "text": [
      "C:\\Users\\jeff1\\Anaconda3\\lib\\site-packages\\statsmodels\\tsa\\base\\tsa_model.py:221: ValueWarning: An unsupported index was provided and will be ignored when e.g. forecasting.\n",
      "  ' ignored when e.g. forecasting.', ValueWarning)\n"
     ]
    },
    {
     "name": "stdout",
     "output_type": "stream",
     "text": [
      "predictions: [array([278017.44952063])]\n",
      "delta: 0, p: nan\n",
      "delta: 1, p: 0.9969454373238421\n",
      "delta: 2, p: 0.9967293365266063\n",
      "delta: 3, p: 0.99646450140853\n",
      "delta: 4, p: 3.1658848713213045e-15\n"
     ]
    },
    {
     "name": "stderr",
     "output_type": "stream",
     "text": [
      "C:\\Users\\jeff1\\Anaconda3\\lib\\site-packages\\statsmodels\\tsa\\base\\tsa_model.py:221: ValueWarning: An unsupported index was provided and will be ignored when e.g. forecasting.\n",
      "  ' ignored when e.g. forecasting.', ValueWarning)\n",
      "C:\\Users\\jeff1\\Anaconda3\\lib\\site-packages\\statsmodels\\tsa\\base\\tsa_model.py:221: ValueWarning: An unsupported index was provided and will be ignored when e.g. forecasting.\n",
      "  ' ignored when e.g. forecasting.', ValueWarning)\n"
     ]
    },
    {
     "name": "stdout",
     "output_type": "stream",
     "text": [
      "bad condition 4: stationarity not adequate\n",
      "delta: 5, p: 3.233499913925281e-11\n"
     ]
    },
    {
     "name": "stderr",
     "output_type": "stream",
     "text": [
      "C:\\Users\\jeff1\\Anaconda3\\lib\\site-packages\\statsmodels\\base\\model.py:488: HessianInversionWarning: Inverting hessian failed, no bse or cov_params available\n",
      "  'available', HessianInversionWarning)\n",
      "C:\\Users\\jeff1\\Anaconda3\\lib\\site-packages\\statsmodels\\base\\model.py:508: ConvergenceWarning: Maximum Likelihood optimization failed to converge. Check mle_retvals\n",
      "  \"Check mle_retvals\", ConvergenceWarning)\n",
      "C:\\Users\\jeff1\\Anaconda3\\lib\\site-packages\\statsmodels\\tsa\\base\\tsa_model.py:221: ValueWarning: An unsupported index was provided and will be ignored when e.g. forecasting.\n",
      "  ' ignored when e.g. forecasting.', ValueWarning)\n"
     ]
    },
    {
     "name": "stdout",
     "output_type": "stream",
     "text": [
      "predictions: [array([278017.44952063]), array([349675.94424889])]\n",
      "delta: 0, p: nan\n",
      "delta: 1, p: 0.9956674964520701\n",
      "delta: 2, p: 0.0\n",
      "bad condition 2: stationarity not adequate\n",
      "delta: 3, p: 0.9955405283989562\n",
      "delta: 4, p: 0.9891627228760266\n",
      "delta: 5, p: 0.9860477020717493\n",
      "delta: 6, p: 2.1063621490188113e-07\n"
     ]
    },
    {
     "name": "stderr",
     "output_type": "stream",
     "text": [
      "C:\\Users\\jeff1\\Anaconda3\\lib\\site-packages\\statsmodels\\tsa\\base\\tsa_model.py:221: ValueWarning: An unsupported index was provided and will be ignored when e.g. forecasting.\n",
      "  ' ignored when e.g. forecasting.', ValueWarning)\n"
     ]
    },
    {
     "name": "stdout",
     "output_type": "stream",
     "text": [
      "predictions: [array([278017.44952063]), array([349675.94424889]), array([350396.38228622])]\n",
      "delta: 0, p: nan\n",
      "delta: 1, p: 0.935529418224813\n",
      "delta: 2, p: 6.0954031626584994e-24\n"
     ]
    },
    {
     "name": "stderr",
     "output_type": "stream",
     "text": [
      "C:\\Users\\jeff1\\Anaconda3\\lib\\site-packages\\statsmodels\\tsa\\base\\tsa_model.py:221: ValueWarning: An unsupported index was provided and will be ignored when e.g. forecasting.\n",
      "  ' ignored when e.g. forecasting.', ValueWarning)\n",
      "C:\\Users\\jeff1\\Anaconda3\\lib\\site-packages\\statsmodels\\base\\model.py:488: HessianInversionWarning: Inverting hessian failed, no bse or cov_params available\n",
      "  'available', HessianInversionWarning)\n",
      "C:\\Users\\jeff1\\Anaconda3\\lib\\site-packages\\statsmodels\\base\\model.py:508: ConvergenceWarning: Maximum Likelihood optimization failed to converge. Check mle_retvals\n",
      "  \"Check mle_retvals\", ConvergenceWarning)\n",
      "C:\\Users\\jeff1\\Anaconda3\\lib\\site-packages\\statsmodels\\tsa\\base\\tsa_model.py:221: ValueWarning: An unsupported index was provided and will be ignored when e.g. forecasting.\n",
      "  ' ignored when e.g. forecasting.', ValueWarning)\n"
     ]
    },
    {
     "name": "stdout",
     "output_type": "stream",
     "text": [
      "predictions: [array([278017.44952063]), array([349675.94424889]), array([350396.38228622]), array([392986.86539092])]\n",
      "delta: 0, p: nan\n",
      "delta: 1, p: 0.949406600767785\n",
      "delta: 2, p: 1.20715063760266e-15\n",
      "bad condition 2: stationarity not adequate\n",
      "delta: 3, p: 1.6297622365100993e-11\n"
     ]
    },
    {
     "name": "stderr",
     "output_type": "stream",
     "text": [
      "C:\\Users\\jeff1\\Anaconda3\\lib\\site-packages\\statsmodels\\tsa\\base\\tsa_model.py:221: ValueWarning: An unsupported index was provided and will be ignored when e.g. forecasting.\n",
      "  ' ignored when e.g. forecasting.', ValueWarning)\n"
     ]
    },
    {
     "name": "stdout",
     "output_type": "stream",
     "text": [
      "bad condition 3: stationarity not adequate\n",
      "delta: 4, p: 9.701795815056792e-15\n"
     ]
    },
    {
     "name": "stderr",
     "output_type": "stream",
     "text": [
      "C:\\Users\\jeff1\\Anaconda3\\lib\\site-packages\\statsmodels\\tsa\\base\\tsa_model.py:221: ValueWarning: An unsupported index was provided and will be ignored when e.g. forecasting.\n",
      "  ' ignored when e.g. forecasting.', ValueWarning)\n"
     ]
    },
    {
     "name": "stdout",
     "output_type": "stream",
     "text": [
      "predictions: [array([278017.44952063]), array([349675.94424889]), array([350396.38228622]), array([392986.86539092]), array([481145.06262082])]\n",
      "delta: 0, p: nan\n",
      "delta: 1, p: 5.419577754153893e-28\n"
     ]
    },
    {
     "name": "stderr",
     "output_type": "stream",
     "text": [
      "C:\\Users\\jeff1\\Anaconda3\\lib\\site-packages\\statsmodels\\tsa\\base\\tsa_model.py:221: ValueWarning: An unsupported index was provided and will be ignored when e.g. forecasting.\n",
      "  ' ignored when e.g. forecasting.', ValueWarning)\n"
     ]
    },
    {
     "name": "stdout",
     "output_type": "stream",
     "text": [
      "predictions: [array([278017.44952063]), array([349675.94424889]), array([350396.38228622]), array([392986.86539092]), array([481145.06262082]), array([457700.32848611])]\n",
      "delta: 0, p: nan\n",
      "delta: 1, p: 4.956632863767731e-28\n",
      "predictions: [array([278017.44952063]), array([349675.94424889]), array([350396.38228622]), array([392986.86539092]), array([481145.06262082]), array([457700.32848611]), array([403598.1654246])]\n"
     ]
    },
    {
     "name": "stderr",
     "output_type": "stream",
     "text": [
      "C:\\Users\\jeff1\\Anaconda3\\lib\\site-packages\\statsmodels\\tsa\\base\\tsa_model.py:221: ValueWarning: An unsupported index was provided and will be ignored when e.g. forecasting.\n",
      "  ' ignored when e.g. forecasting.', ValueWarning)\n"
     ]
    },
    {
     "name": "stdout",
     "output_type": "stream",
     "text": [
      "delta: 0, p: nan\n",
      "delta: 1, p: 0.12421821943617356\n",
      "delta: 2, p: 0.01399241957928992\n"
     ]
    },
    {
     "name": "stderr",
     "output_type": "stream",
     "text": [
      "C:\\Users\\jeff1\\Anaconda3\\lib\\site-packages\\statsmodels\\tsa\\base\\tsa_model.py:221: ValueWarning: An unsupported index was provided and will be ignored when e.g. forecasting.\n",
      "  ' ignored when e.g. forecasting.', ValueWarning)\n"
     ]
    },
    {
     "name": "stdout",
     "output_type": "stream",
     "text": [
      "predictions: [array([367776.75898844])]\n",
      "delta: 0, p: nan\n",
      "delta: 1, p: 0.010757675779545643\n"
     ]
    },
    {
     "name": "stderr",
     "output_type": "stream",
     "text": [
      "C:\\Users\\jeff1\\Anaconda3\\lib\\site-packages\\statsmodels\\tsa\\base\\tsa_model.py:221: ValueWarning: An unsupported index was provided and will be ignored when e.g. forecasting.\n",
      "  ' ignored when e.g. forecasting.', ValueWarning)\n"
     ]
    },
    {
     "name": "stdout",
     "output_type": "stream",
     "text": [
      "predictions: [array([367776.75898844]), array([424058.75369498])]\n",
      "delta: 0, p: nan\n",
      "delta: 1, p: 1.9246284633876202e-11\n"
     ]
    },
    {
     "name": "stderr",
     "output_type": "stream",
     "text": [
      "C:\\Users\\jeff1\\Anaconda3\\lib\\site-packages\\statsmodels\\tsa\\base\\tsa_model.py:221: ValueWarning: An unsupported index was provided and will be ignored when e.g. forecasting.\n",
      "  ' ignored when e.g. forecasting.', ValueWarning)\n"
     ]
    },
    {
     "name": "stdout",
     "output_type": "stream",
     "text": [
      "predictions: [array([367776.75898844]), array([424058.75369498]), array([391097.54793669])]\n",
      "delta: 0, p: nan\n",
      "delta: 1, p: 1.9270544411622268e-11\n"
     ]
    },
    {
     "name": "stderr",
     "output_type": "stream",
     "text": [
      "C:\\Users\\jeff1\\Anaconda3\\lib\\site-packages\\statsmodels\\tsa\\base\\tsa_model.py:221: ValueWarning: An unsupported index was provided and will be ignored when e.g. forecasting.\n",
      "  ' ignored when e.g. forecasting.', ValueWarning)\n"
     ]
    },
    {
     "name": "stdout",
     "output_type": "stream",
     "text": [
      "predictions: [array([367776.75898844]), array([424058.75369498]), array([391097.54793669]), array([397986.12802424])]\n",
      "delta: 0, p: nan\n",
      "delta: 1, p: 1.8838300144155134e-11\n"
     ]
    },
    {
     "name": "stderr",
     "output_type": "stream",
     "text": [
      "C:\\Users\\jeff1\\Anaconda3\\lib\\site-packages\\statsmodels\\tsa\\base\\tsa_model.py:221: ValueWarning: An unsupported index was provided and will be ignored when e.g. forecasting.\n",
      "  ' ignored when e.g. forecasting.', ValueWarning)\n"
     ]
    },
    {
     "name": "stdout",
     "output_type": "stream",
     "text": [
      "predictions: [array([367776.75898844]), array([424058.75369498]), array([391097.54793669]), array([397986.12802424]), array([400973.05542213])]\n",
      "delta: 0, p: nan\n",
      "delta: 1, p: 1.6148286147260534e-11\n"
     ]
    },
    {
     "name": "stderr",
     "output_type": "stream",
     "text": [
      "C:\\Users\\jeff1\\Anaconda3\\lib\\site-packages\\statsmodels\\tsa\\base\\tsa_model.py:221: ValueWarning: An unsupported index was provided and will be ignored when e.g. forecasting.\n",
      "  ' ignored when e.g. forecasting.', ValueWarning)\n"
     ]
    },
    {
     "name": "stdout",
     "output_type": "stream",
     "text": [
      "predictions: [array([367776.75898844]), array([424058.75369498]), array([391097.54793669]), array([397986.12802424]), array([400973.05542213]), array([402671.35263877])]\n",
      "delta: 0, p: nan\n",
      "delta: 1, p: 1.4520763453466079e-11\n"
     ]
    },
    {
     "name": "stderr",
     "output_type": "stream",
     "text": [
      "C:\\Users\\jeff1\\Anaconda3\\lib\\site-packages\\statsmodels\\tsa\\base\\tsa_model.py:221: ValueWarning: An unsupported index was provided and will be ignored when e.g. forecasting.\n",
      "  ' ignored when e.g. forecasting.', ValueWarning)\n"
     ]
    },
    {
     "name": "stdout",
     "output_type": "stream",
     "text": [
      "predictions: [array([367776.75898844]), array([424058.75369498]), array([391097.54793669]), array([397986.12802424]), array([400973.05542213]), array([402671.35263877]), array([403513.89663332])]\n",
      "delta: 0, p: nan\n",
      "delta: 1, p: 0.26431179029547436\n",
      "delta: 2, p: 0.21835281466166268\n",
      "delta: 3, p: 0.1451786610468661\n",
      "delta: 4, p: 0.046163083881405935\n"
     ]
    },
    {
     "name": "stderr",
     "output_type": "stream",
     "text": [
      "C:\\Users\\jeff1\\Anaconda3\\lib\\site-packages\\statsmodels\\tsa\\base\\tsa_model.py:221: ValueWarning: An unsupported index was provided and will be ignored when e.g. forecasting.\n",
      "  ' ignored when e.g. forecasting.', ValueWarning)\n"
     ]
    },
    {
     "name": "stdout",
     "output_type": "stream",
     "text": [
      "predictions: [array([281393.84396617])]\n",
      "delta: 0, p: nan\n",
      "delta: 1, p: 0.9273803608851346\n",
      "delta: 2, p: 0.856463190976072\n",
      "delta: 3, p: 0.9469402193801741\n",
      "delta: 4, p: 3.0969389221001884e-14\n"
     ]
    },
    {
     "name": "stderr",
     "output_type": "stream",
     "text": [
      "C:\\Users\\jeff1\\Anaconda3\\lib\\site-packages\\statsmodels\\tsa\\base\\tsa_model.py:221: ValueWarning: An unsupported index was provided and will be ignored when e.g. forecasting.\n",
      "  ' ignored when e.g. forecasting.', ValueWarning)\n"
     ]
    },
    {
     "name": "stdout",
     "output_type": "stream",
     "text": [
      "predictions: [array([281393.84396617]), array([352006.75153884])]\n",
      "delta: 0, p: nan\n",
      "delta: 1, p: 0.7530158062721645\n",
      "delta: 2, p: 0.0\n"
     ]
    },
    {
     "name": "stderr",
     "output_type": "stream",
     "text": [
      "C:\\Users\\jeff1\\Anaconda3\\lib\\site-packages\\statsmodels\\tsa\\base\\tsa_model.py:221: ValueWarning: An unsupported index was provided and will be ignored when e.g. forecasting.\n",
      "  ' ignored when e.g. forecasting.', ValueWarning)\n"
     ]
    },
    {
     "name": "stdout",
     "output_type": "stream",
     "text": [
      "predictions: [array([281393.84396617]), array([352006.75153884]), array([464277.78663658])]\n",
      "delta: 0, p: nan\n",
      "delta: 1, p: 0.518733116431354\n",
      "delta: 2, p: 3.766146508777787e-21\n"
     ]
    },
    {
     "name": "stderr",
     "output_type": "stream",
     "text": [
      "C:\\Users\\jeff1\\Anaconda3\\lib\\site-packages\\statsmodels\\tsa\\base\\tsa_model.py:221: ValueWarning: An unsupported index was provided and will be ignored when e.g. forecasting.\n",
      "  ' ignored when e.g. forecasting.', ValueWarning)\n"
     ]
    },
    {
     "name": "stdout",
     "output_type": "stream",
     "text": [
      "predictions: [array([281393.84396617]), array([352006.75153884]), array([464277.78663658]), array([381701.22199259])]\n",
      "delta: 0, p: nan\n",
      "delta: 1, p: 0.3798170250967793\n",
      "delta: 2, p: 0.8939640768283528\n",
      "delta: 3, p: 3.792160530968122e-17\n"
     ]
    },
    {
     "name": "stderr",
     "output_type": "stream",
     "text": [
      "C:\\Users\\jeff1\\Anaconda3\\lib\\site-packages\\statsmodels\\tsa\\base\\tsa_model.py:221: ValueWarning: An unsupported index was provided and will be ignored when e.g. forecasting.\n",
      "  ' ignored when e.g. forecasting.', ValueWarning)\n"
     ]
    },
    {
     "name": "stdout",
     "output_type": "stream",
     "text": [
      "predictions: [array([281393.84396617]), array([352006.75153884]), array([464277.78663658]), array([381701.22199259]), array([392027.41785007])]\n",
      "delta: 0, p: nan\n",
      "delta: 1, p: 3.275678816349122e-27\n"
     ]
    },
    {
     "name": "stderr",
     "output_type": "stream",
     "text": [
      "C:\\Users\\jeff1\\Anaconda3\\lib\\site-packages\\statsmodels\\tsa\\base\\tsa_model.py:221: ValueWarning: An unsupported index was provided and will be ignored when e.g. forecasting.\n",
      "  ' ignored when e.g. forecasting.', ValueWarning)\n"
     ]
    },
    {
     "name": "stdout",
     "output_type": "stream",
     "text": [
      "predictions: [array([281393.84396617]), array([352006.75153884]), array([464277.78663658]), array([381701.22199259]), array([392027.41785007]), array([436724.5832763])]\n",
      "delta: 0, p: nan\n",
      "delta: 1, p: 2.969959835647483e-27\n",
      "predictions: [array([281393.84396617]), array([352006.75153884]), array([464277.78663658]), array([381701.22199259]), array([392027.41785007]), array([436724.5832763]), array([403656.64202507])]\n"
     ]
    },
    {
     "name": "stderr",
     "output_type": "stream",
     "text": [
      "C:\\Users\\jeff1\\Anaconda3\\lib\\site-packages\\statsmodels\\tsa\\base\\tsa_model.py:221: ValueWarning: An unsupported index was provided and will be ignored when e.g. forecasting.\n",
      "  ' ignored when e.g. forecasting.', ValueWarning)\n"
     ]
    },
    {
     "name": "stdout",
     "output_type": "stream",
     "text": [
      "delta: 0, p: nan\n",
      "delta: 1, p: 0.3145988588180872\n",
      "delta: 2, p: 0.042248601638278906\n"
     ]
    },
    {
     "name": "stderr",
     "output_type": "stream",
     "text": [
      "C:\\Users\\jeff1\\Anaconda3\\lib\\site-packages\\statsmodels\\tsa\\base\\tsa_model.py:221: ValueWarning: An unsupported index was provided and will be ignored when e.g. forecasting.\n",
      "  ' ignored when e.g. forecasting.', ValueWarning)\n",
      "C:\\Users\\jeff1\\Anaconda3\\lib\\site-packages\\statsmodels\\base\\model.py:488: HessianInversionWarning: Inverting hessian failed, no bse or cov_params available\n",
      "  'available', HessianInversionWarning)\n",
      "C:\\Users\\jeff1\\Anaconda3\\lib\\site-packages\\statsmodels\\tsa\\base\\tsa_model.py:221: ValueWarning: An unsupported index was provided and will be ignored when e.g. forecasting.\n",
      "  ' ignored when e.g. forecasting.', ValueWarning)\n"
     ]
    },
    {
     "name": "stdout",
     "output_type": "stream",
     "text": [
      "predictions: [array([393814.63479131])]\n",
      "delta: 0, p: nan\n",
      "delta: 1, p: 0.2757286280551152\n",
      "delta: 2, p: 0.03018407658070042\n",
      "predictions: [array([393814.63479131]), array([390980.35465326])]\n",
      "delta: 0, p: nan\n",
      "delta: 1, p: 0.3515337876336255\n",
      "delta: 2, p: 0.04373841124093565\n"
     ]
    },
    {
     "name": "stderr",
     "output_type": "stream",
     "text": [
      "C:\\Users\\jeff1\\Anaconda3\\lib\\site-packages\\statsmodels\\tsa\\base\\tsa_model.py:221: ValueWarning: An unsupported index was provided and will be ignored when e.g. forecasting.\n",
      "  ' ignored when e.g. forecasting.', ValueWarning)\n",
      "C:\\Users\\jeff1\\Anaconda3\\lib\\site-packages\\statsmodels\\base\\model.py:488: HessianInversionWarning: Inverting hessian failed, no bse or cov_params available\n",
      "  'available', HessianInversionWarning)\n",
      "C:\\Users\\jeff1\\Anaconda3\\lib\\site-packages\\statsmodels\\tsa\\base\\tsa_model.py:221: ValueWarning: An unsupported index was provided and will be ignored when e.g. forecasting.\n",
      "  ' ignored when e.g. forecasting.', ValueWarning)\n"
     ]
    },
    {
     "name": "stdout",
     "output_type": "stream",
     "text": [
      "predictions: [array([393814.63479131]), array([390980.35465326]), array([392880.52219513])]\n",
      "delta: 0, p: nan\n",
      "delta: 1, p: 0.26927806526307957\n",
      "delta: 2, p: 0.03116993523780614\n"
     ]
    },
    {
     "name": "stderr",
     "output_type": "stream",
     "text": [
      "C:\\Users\\jeff1\\Anaconda3\\lib\\site-packages\\statsmodels\\base\\model.py:488: HessianInversionWarning: Inverting hessian failed, no bse or cov_params available\n",
      "  'available', HessianInversionWarning)\n",
      "C:\\Users\\jeff1\\Anaconda3\\lib\\site-packages\\statsmodels\\tsa\\base\\tsa_model.py:221: ValueWarning: An unsupported index was provided and will be ignored when e.g. forecasting.\n",
      "  ' ignored when e.g. forecasting.', ValueWarning)\n"
     ]
    },
    {
     "name": "stdout",
     "output_type": "stream",
     "text": [
      "predictions: [array([393814.63479131]), array([390980.35465326]), array([392880.52219513]), array([399138.87984166])]\n",
      "delta: 0, p: nan\n",
      "delta: 1, p: 0.32284841854391716\n",
      "delta: 2, p: 0.036097392851171084\n"
     ]
    },
    {
     "name": "stderr",
     "output_type": "stream",
     "text": [
      "C:\\Users\\jeff1\\Anaconda3\\lib\\site-packages\\statsmodels\\base\\model.py:488: HessianInversionWarning: Inverting hessian failed, no bse or cov_params available\n",
      "  'available', HessianInversionWarning)\n",
      "C:\\Users\\jeff1\\Anaconda3\\lib\\site-packages\\statsmodels\\tsa\\base\\tsa_model.py:221: ValueWarning: An unsupported index was provided and will be ignored when e.g. forecasting.\n",
      "  ' ignored when e.g. forecasting.', ValueWarning)\n"
     ]
    },
    {
     "name": "stdout",
     "output_type": "stream",
     "text": [
      "predictions: [array([393814.63479131]), array([390980.35465326]), array([392880.52219513]), array([399138.87984166]), array([400756.32592188])]\n",
      "delta: 0, p: nan\n",
      "delta: 1, p: 0.13785618594060006\n",
      "delta: 2, p: 0.03243962548258898\n"
     ]
    },
    {
     "name": "stderr",
     "output_type": "stream",
     "text": [
      "C:\\Users\\jeff1\\Anaconda3\\lib\\site-packages\\statsmodels\\base\\model.py:488: HessianInversionWarning: Inverting hessian failed, no bse or cov_params available\n",
      "  'available', HessianInversionWarning)\n",
      "C:\\Users\\jeff1\\Anaconda3\\lib\\site-packages\\statsmodels\\tsa\\base\\tsa_model.py:221: ValueWarning: An unsupported index was provided and will be ignored when e.g. forecasting.\n",
      "  ' ignored when e.g. forecasting.', ValueWarning)\n"
     ]
    },
    {
     "name": "stdout",
     "output_type": "stream",
     "text": [
      "predictions: [array([393814.63479131]), array([390980.35465326]), array([392880.52219513]), array([399138.87984166]), array([400756.32592188]), array([402861.31141528])]\n",
      "delta: 0, p: nan\n",
      "delta: 1, p: 0.12518893081528443\n",
      "delta: 2, p: 0.027535593993065478\n"
     ]
    },
    {
     "name": "stderr",
     "output_type": "stream",
     "text": [
      "C:\\Users\\jeff1\\Anaconda3\\lib\\site-packages\\statsmodels\\base\\model.py:488: HessianInversionWarning: Inverting hessian failed, no bse or cov_params available\n",
      "  'available', HessianInversionWarning)\n",
      "C:\\Users\\jeff1\\Anaconda3\\lib\\site-packages\\statsmodels\\tsa\\base\\tsa_model.py:221: ValueWarning: An unsupported index was provided and will be ignored when e.g. forecasting.\n",
      "  ' ignored when e.g. forecasting.', ValueWarning)\n"
     ]
    },
    {
     "name": "stdout",
     "output_type": "stream",
     "text": [
      "predictions: [array([393814.63479131]), array([390980.35465326]), array([392880.52219513]), array([399138.87984166]), array([400756.32592188]), array([402861.31141528]), array([403607.69064843])]\n",
      "delta: 0, p: nan\n",
      "delta: 1, p: 0.11334197041106725\n",
      "delta: 2, p: 0.013804653761822971\n",
      "predictions: [array([442154.25261])]\n",
      "delta: 0, p: nan\n",
      "delta: 1, p: 0.777173073083482\n",
      "delta: 2, p: 0.6224078221305682\n",
      "delta: 3, p: 0.6250141991897153\n",
      "delta: 4, p: 0.7106184565289064\n",
      "delta: 5, p: 0.6538741524277633\n",
      "delta: 6, p: 2.4357139976718076e-27\n"
     ]
    },
    {
     "name": "stderr",
     "output_type": "stream",
     "text": [
      "C:\\Users\\jeff1\\Anaconda3\\lib\\site-packages\\statsmodels\\tsa\\base\\tsa_model.py:221: ValueWarning: An unsupported index was provided and will be ignored when e.g. forecasting.\n",
      "  ' ignored when e.g. forecasting.', ValueWarning)\n"
     ]
    },
    {
     "name": "stdout",
     "output_type": "stream",
     "text": [
      "predictions: [array([442154.25261]), array([376035.98407822])]\n",
      "delta: 0, p: nan\n",
      "delta: 1, p: 0.3393263521528602\n",
      "delta: 2, p: 0.4407340077518676\n",
      "delta: 3, p: 0.11960121357145481\n",
      "delta: 4, p: 0.5261828035140382\n",
      "delta: 5, p: 0.014969244968262855\n"
     ]
    },
    {
     "name": "stderr",
     "output_type": "stream",
     "text": [
      "C:\\Users\\jeff1\\Anaconda3\\lib\\site-packages\\statsmodels\\tsa\\base\\tsa_model.py:221: ValueWarning: An unsupported index was provided and will be ignored when e.g. forecasting.\n",
      "  ' ignored when e.g. forecasting.', ValueWarning)\n"
     ]
    },
    {
     "name": "stdout",
     "output_type": "stream",
     "text": [
      "predictions: [array([442154.25261]), array([376035.98407822]), array([382653.72528071])]\n",
      "delta: 0, p: nan\n",
      "delta: 1, p: 0.007035191210792811\n"
     ]
    },
    {
     "name": "stderr",
     "output_type": "stream",
     "text": [
      "C:\\Users\\jeff1\\Anaconda3\\lib\\site-packages\\statsmodels\\tsa\\base\\tsa_model.py:221: ValueWarning: An unsupported index was provided and will be ignored when e.g. forecasting.\n",
      "  ' ignored when e.g. forecasting.', ValueWarning)\n"
     ]
    },
    {
     "name": "stdout",
     "output_type": "stream",
     "text": [
      "predictions: [array([442154.25261]), array([376035.98407822]), array([382653.72528071]), array([403333.24012616])]\n",
      "delta: 0, p: nan\n",
      "delta: 1, p: 0.009427844772213766\n"
     ]
    },
    {
     "name": "stderr",
     "output_type": "stream",
     "text": [
      "C:\\Users\\jeff1\\Anaconda3\\lib\\site-packages\\statsmodels\\tsa\\base\\tsa_model.py:221: ValueWarning: An unsupported index was provided and will be ignored when e.g. forecasting.\n",
      "  ' ignored when e.g. forecasting.', ValueWarning)\n"
     ]
    },
    {
     "name": "stdout",
     "output_type": "stream",
     "text": [
      "predictions: [array([442154.25261]), array([376035.98407822]), array([382653.72528071]), array([403333.24012616]), array([383036.45733202])]\n",
      "delta: 0, p: nan\n",
      "delta: 1, p: 0.0027584864534701188\n"
     ]
    },
    {
     "name": "stderr",
     "output_type": "stream",
     "text": [
      "C:\\Users\\jeff1\\Anaconda3\\lib\\site-packages\\statsmodels\\tsa\\base\\tsa_model.py:221: ValueWarning: An unsupported index was provided and will be ignored when e.g. forecasting.\n",
      "  ' ignored when e.g. forecasting.', ValueWarning)\n"
     ]
    },
    {
     "name": "stdout",
     "output_type": "stream",
     "text": [
      "predictions: [array([442154.25261]), array([376035.98407822]), array([382653.72528071]), array([403333.24012616]), array([383036.45733202]), array([385740.86122719])]\n",
      "delta: 0, p: nan\n",
      "delta: 1, p: 0.023663099822544623\n",
      "predictions: [array([442154.25261]), array([376035.98407822]), array([382653.72528071]), array([403333.24012616]), array([383036.45733202]), array([385740.86122719]), array([403577.47876828])]\n"
     ]
    },
    {
     "name": "stderr",
     "output_type": "stream",
     "text": [
      "C:\\Users\\jeff1\\Anaconda3\\lib\\site-packages\\statsmodels\\tsa\\base\\tsa_model.py:221: ValueWarning: An unsupported index was provided and will be ignored when e.g. forecasting.\n",
      "  ' ignored when e.g. forecasting.', ValueWarning)\n"
     ]
    },
    {
     "name": "stdout",
     "output_type": "stream",
     "text": [
      "delta: 0, p: nan\n",
      "delta: 1, p: 0.32867566078984545\n",
      "delta: 2, p: 0.14060056081382383\n",
      "delta: 3, p: 0.37671110083338877\n",
      "delta: 4, p: 0.3570278376560222\n",
      "delta: 5, p: 0.1904479194548886\n",
      "delta: 6, p: 0.16659287106982412\n",
      "delta: 7, p: 0.05645726142394875\n",
      "delta: 8, p: 0.01619429397101128\n"
     ]
    },
    {
     "name": "stderr",
     "output_type": "stream",
     "text": [
      "C:\\Users\\jeff1\\Anaconda3\\lib\\site-packages\\statsmodels\\tsa\\base\\tsa_model.py:221: ValueWarning: An unsupported index was provided and will be ignored when e.g. forecasting.\n",
      "  ' ignored when e.g. forecasting.', ValueWarning)\n"
     ]
    },
    {
     "name": "stdout",
     "output_type": "stream",
     "text": [
      "predictions: [array([346194.61959185])]\n",
      "delta: 0, p: nan\n",
      "delta: 1, p: 0.6420239132687141\n",
      "delta: 2, p: 0.3734539255938287\n",
      "delta: 3, p: 0.9171995521852221\n",
      "delta: 4, p: 0.0\n"
     ]
    },
    {
     "name": "stderr",
     "output_type": "stream",
     "text": [
      "C:\\Users\\jeff1\\Anaconda3\\lib\\site-packages\\statsmodels\\tsa\\base\\tsa_model.py:221: ValueWarning: An unsupported index was provided and will be ignored when e.g. forecasting.\n",
      "  ' ignored when e.g. forecasting.', ValueWarning)\n"
     ]
    },
    {
     "name": "stdout",
     "output_type": "stream",
     "text": [
      "predictions: [array([346194.61959185]), array([383569.0353635])]\n",
      "delta: 0, p: nan\n",
      "delta: 1, p: 0.5562668915267949\n",
      "delta: 2, p: 0.5596557931826818\n",
      "delta: 3, p: 0.44243054218826255\n",
      "delta: 4, p: 0.48080783521633436\n",
      "delta: 5, p: 0.4346953631487036\n",
      "delta: 6, p: 0.7963786578043969\n",
      "delta: 7, p: 0.8249821375625199\n",
      "delta: 8, p: 0.31083873988315686\n",
      "delta: 9, p: 0.8492532621539168\n",
      "delta: 0, p: nan\n",
      "bad condition 0: stationarity not adequate\n",
      "delta: 1, p: 0.5562668915267949\n"
     ]
    },
    {
     "name": "stderr",
     "output_type": "stream",
     "text": [
      "C:\\Users\\jeff1\\Anaconda3\\lib\\site-packages\\statsmodels\\tsa\\base\\tsa_model.py:221: ValueWarning: An unsupported index was provided and will be ignored when e.g. forecasting.\n",
      "  ' ignored when e.g. forecasting.', ValueWarning)\n",
      "C:\\Users\\jeff1\\Anaconda3\\lib\\site-packages\\statsmodels\\tsa\\base\\tsa_model.py:221: ValueWarning: An unsupported index was provided and will be ignored when e.g. forecasting.\n",
      "  ' ignored when e.g. forecasting.', ValueWarning)\n"
     ]
    },
    {
     "name": "stdout",
     "output_type": "stream",
     "text": [
      "bad condition 1: stationarity not adequate\n",
      "delta: 2, p: 0.5596557931826818\n"
     ]
    },
    {
     "name": "stderr",
     "output_type": "stream",
     "text": [
      "C:\\Users\\jeff1\\Anaconda3\\lib\\site-packages\\statsmodels\\tsa\\base\\tsa_model.py:221: ValueWarning: An unsupported index was provided and will be ignored when e.g. forecasting.\n",
      "  ' ignored when e.g. forecasting.', ValueWarning)\n"
     ]
    },
    {
     "name": "stdout",
     "output_type": "stream",
     "text": [
      "predictions: [array([346194.61959185]), array([383569.0353635]), array([419629.59667038])]\n",
      "delta: 0, p: nan\n",
      "delta: 1, p: 0.3513402878888202\n",
      "delta: 2, p: 0.16750606604181778\n",
      "delta: 3, p: 0.1370082858938621\n",
      "delta: 4, p: 0.8101189196851887\n",
      "delta: 5, p: 0.3993433173504728\n",
      "delta: 6, p: 0.8623527253023651\n",
      "delta: 7, p: 0.8886693127398855\n",
      "delta: 8, p: 0.5297836556613179\n",
      "delta: 9, p: 0.8459613076504912\n",
      "delta: 0, p: nan\n",
      "bad condition 0: stationarity not adequate\n",
      "delta: 1, p: 0.3513402878888202\n"
     ]
    },
    {
     "name": "stderr",
     "output_type": "stream",
     "text": [
      "C:\\Users\\jeff1\\Anaconda3\\lib\\site-packages\\statsmodels\\tsa\\base\\tsa_model.py:221: ValueWarning: An unsupported index was provided and will be ignored when e.g. forecasting.\n",
      "  ' ignored when e.g. forecasting.', ValueWarning)\n",
      "C:\\Users\\jeff1\\Anaconda3\\lib\\site-packages\\statsmodels\\tsa\\base\\tsa_model.py:221: ValueWarning: An unsupported index was provided and will be ignored when e.g. forecasting.\n",
      "  ' ignored when e.g. forecasting.', ValueWarning)\n"
     ]
    },
    {
     "name": "stdout",
     "output_type": "stream",
     "text": [
      "predictions: [array([346194.61959185]), array([383569.0353635]), array([419629.59667038]), array([413117.33936097])]\n",
      "delta: 0, p: nan\n",
      "delta: 1, p: 0.30487015480003854\n",
      "delta: 2, p: 0.07922525830499155\n",
      "delta: 3, p: 0.22902532145174326\n",
      "delta: 4, p: 0.12438128766449447\n",
      "delta: 5, p: 0.40663376123869477\n",
      "delta: 6, p: 0.8919289226042009\n",
      "delta: 7, p: 0.9245235553409619\n",
      "delta: 8, p: 0.6443276836335962\n",
      "delta: 9, p: 0.8779220064743835\n",
      "delta: 0, p: nan\n",
      "bad condition 0: stationarity not adequate"
     ]
    },
    {
     "name": "stderr",
     "output_type": "stream",
     "text": [
      "C:\\Users\\jeff1\\Anaconda3\\lib\\site-packages\\statsmodels\\tsa\\base\\tsa_model.py:221: ValueWarning: An unsupported index was provided and will be ignored when e.g. forecasting.\n",
      "  ' ignored when e.g. forecasting.', ValueWarning)\n",
      "C:\\Users\\jeff1\\Anaconda3\\lib\\site-packages\\statsmodels\\tsa\\base\\tsa_model.py:221: ValueWarning: An unsupported index was provided and will be ignored when e.g. forecasting.\n",
      "  ' ignored when e.g. forecasting.', ValueWarning)\n"
     ]
    },
    {
     "name": "stdout",
     "output_type": "stream",
     "text": [
      "\n",
      "delta: 1, p: 0.30487015480003854\n",
      "predictions: [array([346194.61959185]), array([383569.0353635]), array([419629.59667038]), array([413117.33936097]), array([412489.53718193])]\n",
      "delta: 0, p: nan\n",
      "delta: 1, p: 0.1598634520060861\n",
      "delta: 2, p: 0.11781870204948725\n",
      "delta: 3, p: 0.17816611153521\n",
      "delta: 4, p: 0.18015501697649539\n",
      "delta: 5, p: 0.33249648225550377\n",
      "delta: 6, p: 0.28486405254462466\n",
      "delta: 7, p: 0.9313656242988664\n",
      "delta: 8, p: 0.6782460795640882\n",
      "delta: 9, p: 0.9113182926522462\n",
      "delta: 0, p: nan\n"
     ]
    },
    {
     "name": "stderr",
     "output_type": "stream",
     "text": [
      "C:\\Users\\jeff1\\Anaconda3\\lib\\site-packages\\statsmodels\\tsa\\base\\tsa_model.py:221: ValueWarning: An unsupported index was provided and will be ignored when e.g. forecasting.\n",
      "  ' ignored when e.g. forecasting.', ValueWarning)\n",
      "C:\\Users\\jeff1\\Anaconda3\\lib\\site-packages\\statsmodels\\tsa\\base\\tsa_model.py:221: ValueWarning: An unsupported index was provided and will be ignored when e.g. forecasting.\n",
      "  ' ignored when e.g. forecasting.', ValueWarning)\n"
     ]
    },
    {
     "name": "stdout",
     "output_type": "stream",
     "text": [
      "bad condition 0: stationarity not adequate\n",
      "delta: 1, p: 0.1598634520060861\n",
      "predictions: [array([346194.61959185]), array([383569.0353635]), array([419629.59667038]), array([413117.33936097]), array([412489.53718193]), array([408205.70552122])]\n",
      "delta: 0, p: nan\n",
      "delta: 1, p: 0.19923648012006273\n",
      "delta: 2, p: 0.13696966535175437\n",
      "delta: 3, p: 0.45819498969265343\n",
      "delta: 4, p: 0.15242261646902644\n",
      "delta: 5, p: 0.21306293851481217\n",
      "delta: 6, p: 0.33257266654500683\n",
      "delta: 7, p: 0.9332392476163697\n",
      "delta: 8, p: 0.673066423755318\n",
      "delta: 9, p: 0.9241431492079685\n",
      "delta: 0, p: nan\n",
      "bad condition 0: stationarity not adequate\n",
      "delta: 1, p: 0.19923648012006273\n",
      "predictions: [array([346194.61959185]), array([383569.0353635]), array([419629.59667038]), array([413117.33936097]), array([412489.53718193]), array([408205.70552122]), array([403795.49932333])]\n",
      "delta: 0, p: nan\n",
      "delta: 1, p: 0.05224441045329144\n"
     ]
    },
    {
     "name": "stderr",
     "output_type": "stream",
     "text": [
      "C:\\Users\\jeff1\\Anaconda3\\lib\\site-packages\\statsmodels\\tsa\\base\\tsa_model.py:221: ValueWarning: An unsupported index was provided and will be ignored when e.g. forecasting.\n",
      "  ' ignored when e.g. forecasting.', ValueWarning)\n",
      "C:\\Users\\jeff1\\Anaconda3\\lib\\site-packages\\statsmodels\\tsa\\base\\tsa_model.py:221: ValueWarning: An unsupported index was provided and will be ignored when e.g. forecasting.\n",
      "  ' ignored when e.g. forecasting.', ValueWarning)\n"
     ]
    },
    {
     "name": "stdout",
     "output_type": "stream",
     "text": [
      "delta: 2, p: 0.07428362614945475\n",
      "delta: 3, p: 0.10757279647059331\n",
      "delta: 4, p: 0.17308360011832313\n",
      "delta: 5, p: 0.17097524627568994\n",
      "delta: 6, p: 0.2402216963591064\n",
      "delta: 7, p: 0.06336395603721491\n",
      "delta: 8, p: 0.005983108352401126\n"
     ]
    },
    {
     "name": "stderr",
     "output_type": "stream",
     "text": [
      "C:\\Users\\jeff1\\Anaconda3\\lib\\site-packages\\statsmodels\\tsa\\base\\tsa_model.py:221: ValueWarning: An unsupported index was provided and will be ignored when e.g. forecasting.\n",
      "  ' ignored when e.g. forecasting.', ValueWarning)\n",
      "C:\\Users\\jeff1\\Anaconda3\\lib\\site-packages\\statsmodels\\base\\model.py:488: HessianInversionWarning: Inverting hessian failed, no bse or cov_params available\n",
      "  'available', HessianInversionWarning)\n",
      "C:\\Users\\jeff1\\Anaconda3\\lib\\site-packages\\statsmodels\\tsa\\base\\tsa_model.py:221: ValueWarning: An unsupported index was provided and will be ignored when e.g. forecasting.\n",
      "  ' ignored when e.g. forecasting.', ValueWarning)\n"
     ]
    },
    {
     "name": "stdout",
     "output_type": "stream",
     "text": [
      "predictions: [array([296589.47667824])]\n",
      "delta: 0, p: nan\n",
      "delta: 1, p: 0.846344945076972\n",
      "delta: 2, p: 0.6801008865165934\n",
      "delta: 3, p: 0.8002972838323033\n",
      "delta: 4, p: 0.0\n",
      "predictions: [array([296589.47667824]), array([358905.30664312])]\n",
      "delta: 0, p: nan\n",
      "delta: 1, p: 0.3247788529497839\n",
      "delta: 2, p: 0.5965894619259985\n",
      "delta: 3, p: 0.1502114844810497\n",
      "delta: 4, p: 0.8421672045108298\n",
      "delta: 5, p: 1.649796013685222e-11\n"
     ]
    },
    {
     "name": "stderr",
     "output_type": "stream",
     "text": [
      "C:\\Users\\jeff1\\Anaconda3\\lib\\site-packages\\statsmodels\\tsa\\base\\tsa_model.py:221: ValueWarning: An unsupported index was provided and will be ignored when e.g. forecasting.\n",
      "  ' ignored when e.g. forecasting.', ValueWarning)\n"
     ]
    },
    {
     "name": "stdout",
     "output_type": "stream",
     "text": [
      "predictions: [array([296589.47667824]), array([358905.30664312]), array([359733.3678076])]\n",
      "delta: 0, p: nan\n",
      "delta: 1, p: 0.7422955574659509\n",
      "delta: 2, p: 0.4949958248672093\n",
      "delta: 3, p: 0.133893055503837\n",
      "delta: 4, p: 0.5554012527213434\n",
      "delta: 5, p: 0.6449121704810237\n",
      "delta: 6, p: 0.9286449796089338\n",
      "delta: 7, p: 6.85267339342476e-06\n"
     ]
    },
    {
     "name": "stderr",
     "output_type": "stream",
     "text": [
      "C:\\Users\\jeff1\\Anaconda3\\lib\\site-packages\\statsmodels\\tsa\\base\\tsa_model.py:221: ValueWarning: An unsupported index was provided and will be ignored when e.g. forecasting.\n",
      "  ' ignored when e.g. forecasting.', ValueWarning)\n"
     ]
    },
    {
     "name": "stdout",
     "output_type": "stream",
     "text": [
      "predictions: [array([296589.47667824]), array([358905.30664312]), array([359733.3678076]), array([363117.31137109])]\n",
      "delta: 0, p: nan\n",
      "delta: 1, p: 1.821324370396334e-27\n"
     ]
    },
    {
     "name": "stderr",
     "output_type": "stream",
     "text": [
      "C:\\Users\\jeff1\\Anaconda3\\lib\\site-packages\\statsmodels\\tsa\\base\\tsa_model.py:221: ValueWarning: An unsupported index was provided and will be ignored when e.g. forecasting.\n",
      "  ' ignored when e.g. forecasting.', ValueWarning)\n"
     ]
    },
    {
     "name": "stdout",
     "output_type": "stream",
     "text": [
      "predictions: [array([296589.47667824]), array([358905.30664312]), array([359733.3678076]), array([363117.31137109]), array([407919.11625058])]\n",
      "delta: 0, p: nan\n",
      "delta: 1, p: 1.6559218851605707e-27\n"
     ]
    },
    {
     "name": "stderr",
     "output_type": "stream",
     "text": [
      "C:\\Users\\jeff1\\Anaconda3\\lib\\site-packages\\statsmodels\\tsa\\base\\tsa_model.py:221: ValueWarning: An unsupported index was provided and will be ignored when e.g. forecasting.\n",
      "  ' ignored when e.g. forecasting.', ValueWarning)\n"
     ]
    },
    {
     "name": "stdout",
     "output_type": "stream",
     "text": [
      "predictions: [array([296589.47667824]), array([358905.30664312]), array([359733.3678076]), array([363117.31137109]), array([407919.11625058]), array([414927.35093553])]\n",
      "delta: 0, p: nan\n",
      "delta: 1, p: 1.505743979268206e-27\n",
      "predictions: [array([296589.47667824]), array([358905.30664312]), array([359733.3678076]), array([363117.31137109]), array([407919.11625058]), array([414927.35093553]), array([403519.82868266])]\n"
     ]
    },
    {
     "name": "stderr",
     "output_type": "stream",
     "text": [
      "C:\\Users\\jeff1\\Anaconda3\\lib\\site-packages\\statsmodels\\tsa\\base\\tsa_model.py:221: ValueWarning: An unsupported index was provided and will be ignored when e.g. forecasting.\n",
      "  ' ignored when e.g. forecasting.', ValueWarning)\n"
     ]
    },
    {
     "name": "stdout",
     "output_type": "stream",
     "text": [
      "delta: 0, p: nan\n",
      "delta: 1, p: 0.629991812225585\n",
      "delta: 2, p: 0.3489850190342237\n",
      "delta: 3, p: 0.33075314063634464\n",
      "delta: 4, p: 0.017492075139684798\n"
     ]
    },
    {
     "name": "stderr",
     "output_type": "stream",
     "text": [
      "C:\\Users\\jeff1\\Anaconda3\\lib\\site-packages\\statsmodels\\tsa\\base\\tsa_model.py:221: ValueWarning: An unsupported index was provided and will be ignored when e.g. forecasting.\n",
      "  ' ignored when e.g. forecasting.', ValueWarning)\n"
     ]
    },
    {
     "name": "stdout",
     "output_type": "stream",
     "text": [
      "predictions: [array([210880.71244214])]\n",
      "delta: 0, p: nan\n",
      "delta: 1, p: 0.9609995444220818\n",
      "delta: 2, p: 0.9937414172915636\n",
      "delta: 3, p: 0.9489175917101266\n",
      "delta: 4, p: 0.9729156177849014\n",
      "delta: 5, p: 0.9793909949124373\n",
      "delta: 6, p: 1.1473676051304083e-07\n"
     ]
    },
    {
     "name": "stderr",
     "output_type": "stream",
     "text": [
      "C:\\Users\\jeff1\\Anaconda3\\lib\\site-packages\\statsmodels\\tsa\\base\\tsa_model.py:221: ValueWarning: An unsupported index was provided and will be ignored when e.g. forecasting.\n",
      "  ' ignored when e.g. forecasting.', ValueWarning)\n"
     ]
    },
    {
     "name": "stdout",
     "output_type": "stream",
     "text": [
      "predictions: [array([210880.71244214]), array([293369.93169688])]\n",
      "delta: 0, p: nan\n",
      "delta: 1, p: 0.9308979887961286\n",
      "delta: 2, p: 0.8514191667277607\n",
      "delta: 3, p: 0.9903009676291739\n",
      "delta: 4, p: 0.9607195461825743\n",
      "delta: 5, p: 0.8821367867304848\n",
      "delta: 6, p: 1.7990710595527058e-18\n"
     ]
    },
    {
     "name": "stderr",
     "output_type": "stream",
     "text": [
      "C:\\Users\\jeff1\\Anaconda3\\lib\\site-packages\\statsmodels\\tsa\\base\\tsa_model.py:221: ValueWarning: An unsupported index was provided and will be ignored when e.g. forecasting.\n",
      "  ' ignored when e.g. forecasting.', ValueWarning)\n"
     ]
    },
    {
     "name": "stdout",
     "output_type": "stream",
     "text": [
      "predictions: [array([210880.71244214]), array([293369.93169688]), array([292825.53078274])]\n",
      "delta: 0, p: nan\n",
      "delta: 1, p: 2.3741704305128804e-28\n"
     ]
    },
    {
     "name": "stderr",
     "output_type": "stream",
     "text": [
      "C:\\Users\\jeff1\\Anaconda3\\lib\\site-packages\\statsmodels\\tsa\\base\\tsa_model.py:221: ValueWarning: An unsupported index was provided and will be ignored when e.g. forecasting.\n",
      "  ' ignored when e.g. forecasting.', ValueWarning)\n"
     ]
    },
    {
     "name": "stdout",
     "output_type": "stream",
     "text": [
      "bad condition 1: stationarity not adequate\n",
      "delta: 2, p: 0.9251893339115933\n",
      "delta: 3, p: 8.561935348104002e-17\n"
     ]
    },
    {
     "name": "stderr",
     "output_type": "stream",
     "text": [
      "C:\\Users\\jeff1\\Anaconda3\\lib\\site-packages\\statsmodels\\tsa\\base\\tsa_model.py:221: ValueWarning: An unsupported index was provided and will be ignored when e.g. forecasting.\n",
      "  ' ignored when e.g. forecasting.', ValueWarning)\n"
     ]
    },
    {
     "name": "stdout",
     "output_type": "stream",
     "text": [
      "bad condition 3: stationarity not adequate\n",
      "delta: 4, p: 0.9080419525334114\n",
      "delta: 5, p: 6.025191544694778e-05\n"
     ]
    },
    {
     "name": "stderr",
     "output_type": "stream",
     "text": [
      "C:\\Users\\jeff1\\Anaconda3\\lib\\site-packages\\statsmodels\\tsa\\base\\tsa_model.py:221: ValueWarning: An unsupported index was provided and will be ignored when e.g. forecasting.\n",
      "  ' ignored when e.g. forecasting.', ValueWarning)\n",
      "C:\\Users\\jeff1\\Anaconda3\\lib\\site-packages\\statsmodels\\base\\model.py:488: HessianInversionWarning: Inverting hessian failed, no bse or cov_params available\n",
      "  'available', HessianInversionWarning)\n",
      "C:\\Users\\jeff1\\Anaconda3\\lib\\site-packages\\statsmodels\\base\\model.py:508: ConvergenceWarning: Maximum Likelihood optimization failed to converge. Check mle_retvals\n",
      "  \"Check mle_retvals\", ConvergenceWarning)\n",
      "C:\\Users\\jeff1\\Anaconda3\\lib\\site-packages\\statsmodels\\tsa\\base\\tsa_model.py:221: ValueWarning: An unsupported index was provided and will be ignored when e.g. forecasting.\n",
      "  ' ignored when e.g. forecasting.', ValueWarning)\n"
     ]
    },
    {
     "name": "stdout",
     "output_type": "stream",
     "text": [
      "predictions: [array([210880.71244214]), array([293369.93169688]), array([292825.53078274]), array([298471.39056215])]\n",
      "delta: 0, p: nan\n",
      "delta: 1, p: 2.191215591078903e-28\n"
     ]
    },
    {
     "name": "stderr",
     "output_type": "stream",
     "text": [
      "C:\\Users\\jeff1\\Anaconda3\\lib\\site-packages\\statsmodels\\base\\model.py:488: HessianInversionWarning: Inverting hessian failed, no bse or cov_params available\n",
      "  'available', HessianInversionWarning)\n",
      "C:\\Users\\jeff1\\Anaconda3\\lib\\site-packages\\statsmodels\\tsa\\base\\tsa_model.py:221: ValueWarning: An unsupported index was provided and will be ignored when e.g. forecasting.\n",
      "  ' ignored when e.g. forecasting.', ValueWarning)\n"
     ]
    },
    {
     "name": "stdout",
     "output_type": "stream",
     "text": [
      "predictions: [array([210880.71244214]), array([293369.93169688]), array([292825.53078274]), array([298471.39056215]), array([312809.79005312])]\n",
      "delta: 0, p: nan\n",
      "delta: 1, p: 2.0151747327045045e-28\n",
      "predictions: [array([210880.71244214]), array([293369.93169688]), array([292825.53078274]), array([298471.39056215]), array([312809.79005312]), array([433715.30568778])]\n",
      "delta: 0, p: nan\n",
      "delta: 1, p: 1.8546512879967525e-28\n",
      "predictions: [array([210880.71244214]), array([293369.93169688]), array([292825.53078274]), array([298471.39056215]), array([312809.79005312]), array([433715.30568778]), array([403542.05239211])]\n",
      "delta: 0, p: nan\n",
      "delta: 1, p: 0.3023710436321694\n"
     ]
    },
    {
     "name": "stderr",
     "output_type": "stream",
     "text": [
      "C:\\Users\\jeff1\\Anaconda3\\lib\\site-packages\\statsmodels\\tsa\\base\\tsa_model.py:221: ValueWarning: An unsupported index was provided and will be ignored when e.g. forecasting.\n",
      "  ' ignored when e.g. forecasting.', ValueWarning)\n",
      "C:\\Users\\jeff1\\Anaconda3\\lib\\site-packages\\statsmodels\\tsa\\base\\tsa_model.py:221: ValueWarning: An unsupported index was provided and will be ignored when e.g. forecasting.\n",
      "  ' ignored when e.g. forecasting.', ValueWarning)\n"
     ]
    },
    {
     "name": "stdout",
     "output_type": "stream",
     "text": [
      "delta: 2, p: 0.055362001433349496\n",
      "delta: 3, p: 0.04739904818119205\n"
     ]
    },
    {
     "name": "stderr",
     "output_type": "stream",
     "text": [
      "C:\\Users\\jeff1\\Anaconda3\\lib\\site-packages\\statsmodels\\base\\model.py:508: ConvergenceWarning: Maximum Likelihood optimization failed to converge. Check mle_retvals\n",
      "  \"Check mle_retvals\", ConvergenceWarning)\n",
      "C:\\Users\\jeff1\\Anaconda3\\lib\\site-packages\\statsmodels\\tsa\\base\\tsa_model.py:221: ValueWarning: An unsupported index was provided and will be ignored when e.g. forecasting.\n",
      "  ' ignored when e.g. forecasting.', ValueWarning)\n"
     ]
    },
    {
     "name": "stdout",
     "output_type": "stream",
     "text": [
      "predictions: [array([242060.68765324])]\n",
      "delta: 0, p: nan\n",
      "delta: 1, p: 0.9508755730327549\n",
      "delta: 2, p: 0.0\n"
     ]
    },
    {
     "name": "stderr",
     "output_type": "stream",
     "text": [
      "C:\\Users\\jeff1\\Anaconda3\\lib\\site-packages\\statsmodels\\base\\model.py:488: HessianInversionWarning: Inverting hessian failed, no bse or cov_params available\n",
      "  'available', HessianInversionWarning)\n",
      "C:\\Users\\jeff1\\Anaconda3\\lib\\site-packages\\statsmodels\\base\\model.py:508: ConvergenceWarning: Maximum Likelihood optimization failed to converge. Check mle_retvals\n",
      "  \"Check mle_retvals\", ConvergenceWarning)\n",
      "C:\\Users\\jeff1\\Anaconda3\\lib\\site-packages\\statsmodels\\tsa\\base\\tsa_model.py:221: ValueWarning: An unsupported index was provided and will be ignored when e.g. forecasting.\n",
      "  ' ignored when e.g. forecasting.', ValueWarning)\n"
     ]
    },
    {
     "name": "stdout",
     "output_type": "stream",
     "text": [
      "predictions: [array([242060.68765324]), array([545829.38356853])]\n",
      "delta: 0, p: nan\n",
      "delta: 1, p: 0.8837582819190544\n",
      "delta: 2, p: 0.0\n",
      "predictions: [array([242060.68765324]), array([545829.38356853]), array([473569.78299107])]\n",
      "delta: 0, p: nan\n",
      "delta: 1, p: 0.8513383830017679\n",
      "delta: 2, p: 3.143435035436548e-23\n"
     ]
    },
    {
     "name": "stderr",
     "output_type": "stream",
     "text": [
      "C:\\Users\\jeff1\\Anaconda3\\lib\\site-packages\\statsmodels\\tsa\\base\\tsa_model.py:221: ValueWarning: An unsupported index was provided and will be ignored when e.g. forecasting.\n",
      "  ' ignored when e.g. forecasting.', ValueWarning)\n"
     ]
    },
    {
     "name": "stdout",
     "output_type": "stream",
     "text": [
      "bad condition 2: stationarity not adequate\n",
      "delta: 3, p: 4.696617715921272e-19\n"
     ]
    },
    {
     "name": "stderr",
     "output_type": "stream",
     "text": [
      "C:\\Users\\jeff1\\Anaconda3\\lib\\site-packages\\statsmodels\\tsa\\base\\tsa_model.py:221: ValueWarning: An unsupported index was provided and will be ignored when e.g. forecasting.\n",
      "  ' ignored when e.g. forecasting.', ValueWarning)\n"
     ]
    },
    {
     "name": "stdout",
     "output_type": "stream",
     "text": [
      "predictions: [array([242060.68765324]), array([545829.38356853]), array([473569.78299107]), array([481301.30076469])]\n",
      "delta: 0, p: nan\n",
      "delta: 1, p: 2.9826253481145725e-28\n"
     ]
    },
    {
     "name": "stderr",
     "output_type": "stream",
     "text": [
      "C:\\Users\\jeff1\\Anaconda3\\lib\\site-packages\\statsmodels\\tsa\\base\\tsa_model.py:221: ValueWarning: An unsupported index was provided and will be ignored when e.g. forecasting.\n",
      "  ' ignored when e.g. forecasting.', ValueWarning)\n"
     ]
    },
    {
     "name": "stdout",
     "output_type": "stream",
     "text": [
      "predictions: [array([242060.68765324]), array([545829.38356853]), array([473569.78299107]), array([481301.30076469]), array([445021.18312812])]\n",
      "delta: 0, p: nan\n",
      "delta: 1, p: 2.737866702504911e-28\n"
     ]
    },
    {
     "name": "stderr",
     "output_type": "stream",
     "text": [
      "C:\\Users\\jeff1\\Anaconda3\\lib\\site-packages\\statsmodels\\tsa\\base\\tsa_model.py:221: ValueWarning: An unsupported index was provided and will be ignored when e.g. forecasting.\n",
      "  ' ignored when e.g. forecasting.', ValueWarning)\n"
     ]
    },
    {
     "name": "stdout",
     "output_type": "stream",
     "text": [
      "predictions: [array([242060.68765324]), array([545829.38356853]), array([473569.78299107]), array([481301.30076469]), array([445021.18312812]), array([451195.52950128])]\n",
      "delta: 0, p: nan\n",
      "delta: 1, p: 2.514632916268513e-28\n"
     ]
    },
    {
     "name": "stderr",
     "output_type": "stream",
     "text": [
      "C:\\Users\\jeff1\\Anaconda3\\lib\\site-packages\\statsmodels\\tsa\\base\\tsa_model.py:221: ValueWarning: An unsupported index was provided and will be ignored when e.g. forecasting.\n",
      "  ' ignored when e.g. forecasting.', ValueWarning)\n"
     ]
    },
    {
     "name": "stdout",
     "output_type": "stream",
     "text": [
      "predictions: [array([242060.68765324]), array([545829.38356853]), array([473569.78299107]), array([481301.30076469]), array([445021.18312812]), array([451195.52950128]), array([403574.41270782])]\n",
      "delta: 0, p: nan\n",
      "delta: 1, p: 0.2796616242628106\n",
      "delta: 2, p: 0.17285600472701051\n",
      "delta: 3, p: 0.07529841091721422\n",
      "delta: 4, p: 0.06669580114764945\n",
      "delta: 5, p: 0.029246094327742358\n"
     ]
    },
    {
     "name": "stderr",
     "output_type": "stream",
     "text": [
      "C:\\Users\\jeff1\\Anaconda3\\lib\\site-packages\\statsmodels\\tsa\\base\\tsa_model.py:221: ValueWarning: An unsupported index was provided and will be ignored when e.g. forecasting.\n",
      "  ' ignored when e.g. forecasting.', ValueWarning)\n"
     ]
    },
    {
     "name": "stdout",
     "output_type": "stream",
     "text": [
      "predictions: [array([407567.34113])]\n",
      "delta: 0, p: nan\n",
      "delta: 1, p: 0.44881387431387226\n",
      "delta: 2, p: 0.6966481227960957\n",
      "delta: 3, p: 0.4489940449658179\n",
      "delta: 4, p: 0.30693502929718836\n",
      "delta: 5, p: 0.26379897921410256\n",
      "delta: 6, p: 0.5818568876384651\n",
      "delta: 7, p: 0.16593563450318977\n",
      "delta: 8, p: 0.03155047348772548\n"
     ]
    },
    {
     "name": "stderr",
     "output_type": "stream",
     "text": [
      "C:\\Users\\jeff1\\Anaconda3\\lib\\site-packages\\statsmodels\\tsa\\base\\tsa_model.py:221: ValueWarning: An unsupported index was provided and will be ignored when e.g. forecasting.\n",
      "  ' ignored when e.g. forecasting.', ValueWarning)\n"
     ]
    },
    {
     "name": "stdout",
     "output_type": "stream",
     "text": [
      "predictions: [array([407567.34113]), array([390986.41666046])]\n",
      "delta: 0, p: nan\n",
      "delta: 1, p: 0.10886249111825735\n",
      "delta: 2, p: 0.037865415433593515\n"
     ]
    },
    {
     "name": "stderr",
     "output_type": "stream",
     "text": [
      "C:\\Users\\jeff1\\Anaconda3\\lib\\site-packages\\statsmodels\\tsa\\base\\tsa_model.py:221: ValueWarning: An unsupported index was provided and will be ignored when e.g. forecasting.\n",
      "  ' ignored when e.g. forecasting.', ValueWarning)\n"
     ]
    },
    {
     "name": "stdout",
     "output_type": "stream",
     "text": [
      "predictions: [array([407567.34113]), array([390986.41666046]), array([382946.21557956])]\n",
      "delta: 0, p: nan\n",
      "delta: 1, p: 0.13668425610319918\n",
      "delta: 2, p: 0.04451862649863177\n"
     ]
    },
    {
     "name": "stderr",
     "output_type": "stream",
     "text": [
      "C:\\Users\\jeff1\\Anaconda3\\lib\\site-packages\\statsmodels\\tsa\\base\\tsa_model.py:221: ValueWarning: An unsupported index was provided and will be ignored when e.g. forecasting.\n",
      "  ' ignored when e.g. forecasting.', ValueWarning)\n"
     ]
    },
    {
     "name": "stdout",
     "output_type": "stream",
     "text": [
      "predictions: [array([407567.34113]), array([390986.41666046]), array([382946.21557956]), array([401981.3091451])]\n",
      "delta: 0, p: nan\n",
      "delta: 1, p: 0.13276320096236116\n",
      "delta: 2, p: 0.036490890897063845\n"
     ]
    },
    {
     "name": "stderr",
     "output_type": "stream",
     "text": [
      "C:\\Users\\jeff1\\Anaconda3\\lib\\site-packages\\statsmodels\\tsa\\base\\tsa_model.py:221: ValueWarning: An unsupported index was provided and will be ignored when e.g. forecasting.\n",
      "  ' ignored when e.g. forecasting.', ValueWarning)\n"
     ]
    },
    {
     "name": "stdout",
     "output_type": "stream",
     "text": [
      "predictions: [array([407567.34113]), array([390986.41666046]), array([382946.21557956]), array([401981.3091451]), array([389602.69395164])]\n",
      "delta: 0, p: nan\n",
      "delta: 1, p: 0.10304875738464553\n",
      "delta: 2, p: 0.11611281840312682\n",
      "delta: 3, p: 0.034044149828138706\n"
     ]
    },
    {
     "name": "stderr",
     "output_type": "stream",
     "text": [
      "C:\\Users\\jeff1\\Anaconda3\\lib\\site-packages\\statsmodels\\tsa\\base\\tsa_model.py:221: ValueWarning: An unsupported index was provided and will be ignored when e.g. forecasting.\n",
      "  ' ignored when e.g. forecasting.', ValueWarning)\n"
     ]
    },
    {
     "name": "stdout",
     "output_type": "stream",
     "text": [
      "predictions: [array([407567.34113]), array([390986.41666046]), array([382946.21557956]), array([401981.3091451]), array([389602.69395164]), array([401873.94773094])]\n",
      "delta: 0, p: nan\n",
      "delta: 1, p: 0.0997681751968087\n",
      "delta: 2, p: 0.15509926013459013\n",
      "delta: 3, p: 0.04952084451365621\n"
     ]
    },
    {
     "name": "stderr",
     "output_type": "stream",
     "text": [
      "C:\\Users\\jeff1\\Anaconda3\\lib\\site-packages\\statsmodels\\tsa\\base\\tsa_model.py:221: ValueWarning: An unsupported index was provided and will be ignored when e.g. forecasting.\n",
      "  ' ignored when e.g. forecasting.', ValueWarning)\n"
     ]
    },
    {
     "name": "stdout",
     "output_type": "stream",
     "text": [
      "predictions: [array([407567.34113]), array([390986.41666046]), array([382946.21557956]), array([401981.3091451]), array([389602.69395164]), array([401873.94773094]), array([400534.83584711])]\n",
      "delta: 0, p: nan\n",
      "delta: 1, p: 0.30418038317380236\n",
      "delta: 2, p: 0.1246777858915818\n",
      "delta: 3, p: 0.27321246297474566\n",
      "delta: 4, p: 0.021004633881034483\n"
     ]
    },
    {
     "name": "stderr",
     "output_type": "stream",
     "text": [
      "C:\\Users\\jeff1\\Anaconda3\\lib\\site-packages\\statsmodels\\tsa\\base\\tsa_model.py:221: ValueWarning: An unsupported index was provided and will be ignored when e.g. forecasting.\n",
      "  ' ignored when e.g. forecasting.', ValueWarning)\n"
     ]
    },
    {
     "name": "stdout",
     "output_type": "stream",
     "text": [
      "predictions: [array([311432.1732741])]\n",
      "delta: 0, p: nan\n",
      "delta: 1, p: 0.9432564123558215\n",
      "delta: 2, p: 0.9195322214908966\n",
      "delta: 3, p: 0.9496632756379095\n",
      "delta: 4, p: 0.0\n"
     ]
    },
    {
     "name": "stderr",
     "output_type": "stream",
     "text": [
      "C:\\Users\\jeff1\\Anaconda3\\lib\\site-packages\\statsmodels\\tsa\\base\\tsa_model.py:221: ValueWarning: An unsupported index was provided and will be ignored when e.g. forecasting.\n",
      "  ' ignored when e.g. forecasting.', ValueWarning)\n"
     ]
    },
    {
     "name": "stdout",
     "output_type": "stream",
     "text": [
      "bad condition 4: stationarity not adequate\n",
      "delta: 5, p: 2.6274738756045922e-17\n"
     ]
    },
    {
     "name": "stderr",
     "output_type": "stream",
     "text": [
      "C:\\Users\\jeff1\\Anaconda3\\lib\\site-packages\\statsmodels\\tsa\\base\\tsa_model.py:221: ValueWarning: An unsupported index was provided and will be ignored when e.g. forecasting.\n",
      "  ' ignored when e.g. forecasting.', ValueWarning)\n",
      "C:\\Users\\jeff1\\Anaconda3\\lib\\site-packages\\statsmodels\\base\\model.py:488: HessianInversionWarning: Inverting hessian failed, no bse or cov_params available\n",
      "  'available', HessianInversionWarning)\n",
      "C:\\Users\\jeff1\\Anaconda3\\lib\\site-packages\\statsmodels\\base\\model.py:508: ConvergenceWarning: Maximum Likelihood optimization failed to converge. Check mle_retvals\n",
      "  \"Check mle_retvals\", ConvergenceWarning)\n",
      "C:\\Users\\jeff1\\Anaconda3\\lib\\site-packages\\statsmodels\\tsa\\base\\tsa_model.py:221: ValueWarning: An unsupported index was provided and will be ignored when e.g. forecasting.\n",
      "  ' ignored when e.g. forecasting.', ValueWarning)\n"
     ]
    },
    {
     "name": "stdout",
     "output_type": "stream",
     "text": [
      "predictions: [array([311432.1732741]), array([371346.36213412])]\n",
      "delta: 0, p: nan\n",
      "delta: 1, p: 0.7050966684737994\n",
      "delta: 2, p: 0.0\n"
     ]
    },
    {
     "name": "stderr",
     "output_type": "stream",
     "text": [
      "C:\\Users\\jeff1\\Anaconda3\\lib\\site-packages\\statsmodels\\base\\model.py:488: HessianInversionWarning: Inverting hessian failed, no bse or cov_params available\n",
      "  'available', HessianInversionWarning)\n",
      "C:\\Users\\jeff1\\Anaconda3\\lib\\site-packages\\statsmodels\\base\\model.py:508: ConvergenceWarning: Maximum Likelihood optimization failed to converge. Check mle_retvals\n",
      "  \"Check mle_retvals\", ConvergenceWarning)\n"
     ]
    },
    {
     "name": "stdout",
     "output_type": "stream",
     "text": [
      "predictions: [array([311432.1732741]), array([371346.36213412]), array([505246.20075237])]\n",
      "delta: 0, p: nan\n",
      "delta: 1, p: 0.35924905506298055\n",
      "delta: 2, p: 0.778234834808306\n",
      "delta: 3, p: 0.505208350240044\n",
      "delta: 4, p: 0.7187144785213062\n",
      "delta: 5, p: 0.8134728243219325\n",
      "delta: 6, p: 0.9660418691404205\n",
      "delta: 7, p: 6.006207294446749e-06\n"
     ]
    },
    {
     "name": "stderr",
     "output_type": "stream",
     "text": [
      "C:\\Users\\jeff1\\Anaconda3\\lib\\site-packages\\statsmodels\\tsa\\base\\tsa_model.py:221: ValueWarning: An unsupported index was provided and will be ignored when e.g. forecasting.\n",
      "  ' ignored when e.g. forecasting.', ValueWarning)\n"
     ]
    },
    {
     "name": "stdout",
     "output_type": "stream",
     "text": [
      "predictions: [array([311432.1732741]), array([371346.36213412]), array([505246.20075237]), array([375537.99020959])]\n",
      "delta: 0, p: nan\n",
      "delta: 1, p: 0.8313654436231719\n",
      "delta: 2, p: 0.4787691987281625\n",
      "delta: 3, p: 0.5196778461318026\n",
      "delta: 4, p: 0.8119441326127599\n",
      "delta: 5, p: 5.164627059417445e-16\n"
     ]
    },
    {
     "name": "stderr",
     "output_type": "stream",
     "text": [
      "C:\\Users\\jeff1\\Anaconda3\\lib\\site-packages\\statsmodels\\tsa\\base\\tsa_model.py:221: ValueWarning: An unsupported index was provided and will be ignored when e.g. forecasting.\n",
      "  ' ignored when e.g. forecasting.', ValueWarning)\n"
     ]
    },
    {
     "name": "stdout",
     "output_type": "stream",
     "text": [
      "predictions: [array([311432.1732741]), array([371346.36213412]), array([505246.20075237]), array([375537.99020959]), array([375489.22381096])]\n",
      "delta: 0, p: nan\n",
      "delta: 1, p: 0.7443512323335322\n",
      "delta: 2, p: 1.3793414946745304e-12\n"
     ]
    },
    {
     "name": "stderr",
     "output_type": "stream",
     "text": [
      "C:\\Users\\jeff1\\Anaconda3\\lib\\site-packages\\statsmodels\\tsa\\base\\tsa_model.py:221: ValueWarning: An unsupported index was provided and will be ignored when e.g. forecasting.\n",
      "  ' ignored when e.g. forecasting.', ValueWarning)\n"
     ]
    },
    {
     "name": "stdout",
     "output_type": "stream",
     "text": [
      "predictions: [array([311432.1732741]), array([371346.36213412]), array([505246.20075237]), array([375537.99020959]), array([375489.22381096]), array([376306.87018124])]\n",
      "delta: 0, p: nan\n",
      "delta: 1, p: 0.7119554309381576\n",
      "delta: 2, p: 0.6811582687067922\n",
      "delta: 3, p: 0.8849453979079875\n",
      "delta: 4, p: 1.2240224828335554e-07\n"
     ]
    },
    {
     "name": "stderr",
     "output_type": "stream",
     "text": [
      "C:\\Users\\jeff1\\Anaconda3\\lib\\site-packages\\statsmodels\\tsa\\base\\tsa_model.py:221: ValueWarning: An unsupported index was provided and will be ignored when e.g. forecasting.\n",
      "  ' ignored when e.g. forecasting.', ValueWarning)\n"
     ]
    },
    {
     "name": "stdout",
     "output_type": "stream",
     "text": [
      "predictions: [array([311432.1732741]), array([371346.36213412]), array([505246.20075237]), array([375537.99020959]), array([375489.22381096]), array([376306.87018124]), array([397529.24518996])]\n",
      "delta: 0, p: nan\n",
      "delta: 1, p: 0.267490038073003\n",
      "delta: 2, p: 0.008636303445765178\n"
     ]
    },
    {
     "name": "stderr",
     "output_type": "stream",
     "text": [
      "C:\\Users\\jeff1\\Anaconda3\\lib\\site-packages\\statsmodels\\tsa\\base\\tsa_model.py:221: ValueWarning: An unsupported index was provided and will be ignored when e.g. forecasting.\n",
      "  ' ignored when e.g. forecasting.', ValueWarning)\n"
     ]
    },
    {
     "name": "stdout",
     "output_type": "stream",
     "text": [
      "predictions: [array([315680.53058298])]\n",
      "delta: 0, p: nan\n",
      "delta: 1, p: 0.800678998738495\n",
      "delta: 2, p: 0.9160285407197811\n",
      "delta: 3, p: 0.8511681310831498\n",
      "delta: 4, p: 0.24566433779675212\n",
      "delta: 5, p: 0.8510222882983617\n",
      "delta: 6, p: 2.4171527419436217e-30\n"
     ]
    },
    {
     "name": "stderr",
     "output_type": "stream",
     "text": [
      "C:\\Users\\jeff1\\Anaconda3\\lib\\site-packages\\statsmodels\\tsa\\base\\tsa_model.py:221: ValueWarning: An unsupported index was provided and will be ignored when e.g. forecasting.\n",
      "  ' ignored when e.g. forecasting.', ValueWarning)\n"
     ]
    },
    {
     "name": "stdout",
     "output_type": "stream",
     "text": [
      "predictions: [array([315680.53058298]), array([367504.91923356])]\n",
      "delta: 0, p: nan\n",
      "delta: 1, p: 0.657387296613425\n",
      "delta: 2, p: 0.7376692759320642\n",
      "delta: 3, p: 0.5733554054868161\n",
      "delta: 4, p: 0.854480573012881\n",
      "delta: 5, p: 0.17503508891564623\n",
      "delta: 6, p: 0.3557719429144678\n",
      "delta: 7, p: 4.936440467149293e-19\n"
     ]
    },
    {
     "name": "stderr",
     "output_type": "stream",
     "text": [
      "C:\\Users\\jeff1\\Anaconda3\\lib\\site-packages\\statsmodels\\tsa\\base\\tsa_model.py:221: ValueWarning: An unsupported index was provided and will be ignored when e.g. forecasting.\n",
      "  ' ignored when e.g. forecasting.', ValueWarning)\n"
     ]
    },
    {
     "name": "stdout",
     "output_type": "stream",
     "text": [
      "predictions: [array([315680.53058298]), array([367504.91923356]), array([370333.94898661])]\n",
      "delta: 0, p: nan\n",
      "delta: 1, p: 0.4673670203708421\n",
      "delta: 2, p: 0.006515536557644903\n"
     ]
    },
    {
     "name": "stderr",
     "output_type": "stream",
     "text": [
      "C:\\Users\\jeff1\\Anaconda3\\lib\\site-packages\\statsmodels\\tsa\\base\\tsa_model.py:221: ValueWarning: An unsupported index was provided and will be ignored when e.g. forecasting.\n",
      "  ' ignored when e.g. forecasting.', ValueWarning)\n"
     ]
    },
    {
     "name": "stdout",
     "output_type": "stream",
     "text": [
      "predictions: [array([315680.53058298]), array([367504.91923356]), array([370333.94898661]), array([393199.80543888])]\n",
      "delta: 0, p: nan\n",
      "delta: 1, p: 0.375401113998575\n",
      "delta: 2, p: 0.3697750008531385\n",
      "delta: 3, p: 0.15003574076577642\n",
      "delta: 4, p: 0.25701513843970203\n",
      "delta: 5, p: 0.37601134714387313\n",
      "delta: 6, p: 4.809246014134472e-11\n"
     ]
    },
    {
     "name": "stderr",
     "output_type": "stream",
     "text": [
      "C:\\Users\\jeff1\\Anaconda3\\lib\\site-packages\\statsmodels\\tsa\\base\\tsa_model.py:221: ValueWarning: An unsupported index was provided and will be ignored when e.g. forecasting.\n",
      "  ' ignored when e.g. forecasting.', ValueWarning)\n"
     ]
    },
    {
     "name": "stdout",
     "output_type": "stream",
     "text": [
      "predictions: [array([315680.53058298]), array([367504.91923356]), array([370333.94898661]), array([393199.80543888]), array([380144.91967737])]\n",
      "delta: 0, p: nan\n",
      "delta: 1, p: 0.3786345525946914\n",
      "delta: 2, p: 0.17125687368016718\n",
      "delta: 3, p: 0.5644408222029513\n",
      "delta: 4, p: 1.5042257178101459e-09\n"
     ]
    },
    {
     "name": "stderr",
     "output_type": "stream",
     "text": [
      "C:\\Users\\jeff1\\Anaconda3\\lib\\site-packages\\statsmodels\\tsa\\base\\tsa_model.py:221: ValueWarning: An unsupported index was provided and will be ignored when e.g. forecasting.\n",
      "  ' ignored when e.g. forecasting.', ValueWarning)\n"
     ]
    },
    {
     "name": "stdout",
     "output_type": "stream",
     "text": [
      "predictions: [array([315680.53058298]), array([367504.91923356]), array([370333.94898661]), array([393199.80543888]), array([380144.91967737]), array([395602.03571957])]\n",
      "delta: 0, p: nan\n",
      "delta: 1, p: 0.35376689047921483\n",
      "delta: 2, p: 0.6816001185884747\n",
      "delta: 3, p: 0.6228116681961718\n",
      "delta: 4, p: 1.2737895749412678e-07\n"
     ]
    },
    {
     "name": "stderr",
     "output_type": "stream",
     "text": [
      "C:\\Users\\jeff1\\Anaconda3\\lib\\site-packages\\statsmodels\\tsa\\base\\tsa_model.py:221: ValueWarning: An unsupported index was provided and will be ignored when e.g. forecasting.\n",
      "  ' ignored when e.g. forecasting.', ValueWarning)\n"
     ]
    },
    {
     "name": "stdout",
     "output_type": "stream",
     "text": [
      "predictions: [array([315680.53058298]), array([367504.91923356]), array([370333.94898661]), array([393199.80543888]), array([380144.91967737]), array([395602.03571957]), array([400001.71745348])]\n",
      "delta: 0, p: nan\n",
      "delta: 1, p: 0.0266300310261062\n"
     ]
    },
    {
     "name": "stderr",
     "output_type": "stream",
     "text": [
      "C:\\Users\\jeff1\\Anaconda3\\lib\\site-packages\\statsmodels\\tsa\\base\\tsa_model.py:221: ValueWarning: An unsupported index was provided and will be ignored when e.g. forecasting.\n",
      "  ' ignored when e.g. forecasting.', ValueWarning)\n"
     ]
    },
    {
     "name": "stdout",
     "output_type": "stream",
     "text": [
      "predictions: [array([503818.3960069])]\n",
      "delta: 0, p: nan\n",
      "delta: 1, p: 0.48522676256844255\n",
      "delta: 2, p: 0.8368055781722781\n",
      "delta: 3, p: 0.9609087436533565\n",
      "delta: 4, p: 0.8443235711353043\n",
      "delta: 5, p: 0.9085172320318137\n",
      "delta: 6, p: 0.5139545783061589\n",
      "delta: 7, p: 0.4941876118446884\n",
      "delta: 8, p: 4.397094070621457e-23\n"
     ]
    },
    {
     "name": "stderr",
     "output_type": "stream",
     "text": [
      "C:\\Users\\jeff1\\Anaconda3\\lib\\site-packages\\statsmodels\\tsa\\base\\tsa_model.py:221: ValueWarning: An unsupported index was provided and will be ignored when e.g. forecasting.\n",
      "  ' ignored when e.g. forecasting.', ValueWarning)\n",
      "C:\\Users\\jeff1\\Anaconda3\\lib\\site-packages\\statsmodels\\base\\model.py:488: HessianInversionWarning: Inverting hessian failed, no bse or cov_params available\n",
      "  'available', HessianInversionWarning)\n"
     ]
    },
    {
     "name": "stdout",
     "output_type": "stream",
     "text": [
      "predictions: [array([503818.3960069]), array([328184.38209874])]\n",
      "delta: 0, p: nan\n",
      "delta: 1, p: 0.09407812379394193\n",
      "delta: 2, p: 0.098933104277799\n",
      "delta: 3, p: 0.42027858012092567\n",
      "delta: 4, p: 0.19737931753792004\n",
      "delta: 5, p: 0.1807545802462483\n",
      "delta: 6, p: 0.0823857001744151\n",
      "delta: 7, p: 0.01056889558485598\n"
     ]
    },
    {
     "name": "stderr",
     "output_type": "stream",
     "text": [
      "C:\\Users\\jeff1\\Anaconda3\\lib\\site-packages\\statsmodels\\tsa\\base\\tsa_model.py:221: ValueWarning: An unsupported index was provided and will be ignored when e.g. forecasting.\n",
      "  ' ignored when e.g. forecasting.', ValueWarning)\n"
     ]
    },
    {
     "name": "stdout",
     "output_type": "stream",
     "text": [
      "predictions: [array([503818.3960069]), array([328184.38209874]), array([334131.83729034])]\n",
      "delta: 0, p: nan\n",
      "delta: 1, p: 0.005910241876907155\n"
     ]
    },
    {
     "name": "stderr",
     "output_type": "stream",
     "text": [
      "C:\\Users\\jeff1\\Anaconda3\\lib\\site-packages\\statsmodels\\tsa\\base\\tsa_model.py:221: ValueWarning: An unsupported index was provided and will be ignored when e.g. forecasting.\n",
      "  ' ignored when e.g. forecasting.', ValueWarning)\n"
     ]
    },
    {
     "name": "stdout",
     "output_type": "stream",
     "text": [
      "predictions: [array([503818.3960069]), array([328184.38209874]), array([334131.83729034]), array([360619.83778046])]\n",
      "delta: 0, p: nan\n",
      "delta: 1, p: 0.0018783624634966666\n"
     ]
    },
    {
     "name": "stderr",
     "output_type": "stream",
     "text": [
      "C:\\Users\\jeff1\\Anaconda3\\lib\\site-packages\\statsmodels\\tsa\\base\\tsa_model.py:221: ValueWarning: An unsupported index was provided and will be ignored when e.g. forecasting.\n",
      "  ' ignored when e.g. forecasting.', ValueWarning)\n"
     ]
    },
    {
     "name": "stdout",
     "output_type": "stream",
     "text": [
      "predictions: [array([503818.3960069]), array([328184.38209874]), array([334131.83729034]), array([360619.83778046]), array([381690.89822497])]\n",
      "delta: 0, p: nan\n",
      "delta: 1, p: 0.000254283348492088\n"
     ]
    },
    {
     "name": "stderr",
     "output_type": "stream",
     "text": [
      "C:\\Users\\jeff1\\Anaconda3\\lib\\site-packages\\statsmodels\\tsa\\base\\tsa_model.py:221: ValueWarning: An unsupported index was provided and will be ignored when e.g. forecasting.\n",
      "  ' ignored when e.g. forecasting.', ValueWarning)\n"
     ]
    },
    {
     "name": "stdout",
     "output_type": "stream",
     "text": [
      "predictions: [array([503818.3960069]), array([328184.38209874]), array([334131.83729034]), array([360619.83778046]), array([381690.89822497]), array([375651.82107714])]\n",
      "delta: 0, p: nan\n",
      "delta: 1, p: 0.00012657290303006723\n"
     ]
    },
    {
     "name": "stderr",
     "output_type": "stream",
     "text": [
      "C:\\Users\\jeff1\\Anaconda3\\lib\\site-packages\\statsmodels\\tsa\\base\\tsa_model.py:221: ValueWarning: An unsupported index was provided and will be ignored when e.g. forecasting.\n",
      "  ' ignored when e.g. forecasting.', ValueWarning)\n"
     ]
    },
    {
     "name": "stdout",
     "output_type": "stream",
     "text": [
      "predictions: [array([503818.3960069]), array([328184.38209874]), array([334131.83729034]), array([360619.83778046]), array([381690.89822497]), array([375651.82107714]), array([403363.86892096])]\n",
      "delta: 0, p: nan\n",
      "delta: 1, p: 0.07372776961135004\n",
      "delta: 2, p: 0.01153782278971164\n"
     ]
    },
    {
     "name": "stderr",
     "output_type": "stream",
     "text": [
      "C:\\Users\\jeff1\\Anaconda3\\lib\\site-packages\\statsmodels\\tsa\\base\\tsa_model.py:221: ValueWarning: An unsupported index was provided and will be ignored when e.g. forecasting.\n",
      "  ' ignored when e.g. forecasting.', ValueWarning)\n",
      "C:\\Users\\jeff1\\Anaconda3\\lib\\site-packages\\statsmodels\\base\\model.py:488: HessianInversionWarning: Inverting hessian failed, no bse or cov_params available\n",
      "  'available', HessianInversionWarning)\n",
      "C:\\Users\\jeff1\\Anaconda3\\lib\\site-packages\\statsmodels\\tsa\\base\\tsa_model.py:221: ValueWarning: An unsupported index was provided and will be ignored when e.g. forecasting.\n",
      "  ' ignored when e.g. forecasting.', ValueWarning)\n"
     ]
    },
    {
     "name": "stdout",
     "output_type": "stream",
     "text": [
      "predictions: [array([261499.48473136])]\n",
      "delta: 0, p: nan\n",
      "delta: 1, p: 0.9695792592438165\n",
      "delta: 2, p: 0.9631366992003847\n",
      "delta: 3, p: 0.9644661006696706\n",
      "delta: 4, p: 0.0\n"
     ]
    },
    {
     "name": "stderr",
     "output_type": "stream",
     "text": [
      "C:\\Users\\jeff1\\Anaconda3\\lib\\site-packages\\statsmodels\\base\\model.py:488: HessianInversionWarning: Inverting hessian failed, no bse or cov_params available\n",
      "  'available', HessianInversionWarning)\n",
      "C:\\Users\\jeff1\\Anaconda3\\lib\\site-packages\\statsmodels\\base\\model.py:508: ConvergenceWarning: Maximum Likelihood optimization failed to converge. Check mle_retvals\n",
      "  \"Check mle_retvals\", ConvergenceWarning)\n",
      "C:\\Users\\jeff1\\Anaconda3\\lib\\site-packages\\statsmodels\\tsa\\base\\tsa_model.py:221: ValueWarning: An unsupported index was provided and will be ignored when e.g. forecasting.\n",
      "  ' ignored when e.g. forecasting.', ValueWarning)\n"
     ]
    },
    {
     "name": "stdout",
     "output_type": "stream",
     "text": [
      "predictions: [array([261499.48473136]), array([346795.48970418])]\n",
      "delta: 0, p: nan\n",
      "delta: 1, p: 0.8903905653748284\n",
      "delta: 2, p: 0.0\n",
      "predictions: [array([261499.48473136]), array([346795.48970418]), array([474736.78801688])]\n",
      "delta: 0, p: nan\n",
      "delta: 1, p: 0.6853254013221961\n",
      "delta: 2, p: 0.9341217161885192\n",
      "delta: 3, p: 3.5311295639455926e-20\n"
     ]
    },
    {
     "name": "stderr",
     "output_type": "stream",
     "text": [
      "C:\\Users\\jeff1\\Anaconda3\\lib\\site-packages\\statsmodels\\tsa\\base\\tsa_model.py:221: ValueWarning: An unsupported index was provided and will be ignored when e.g. forecasting.\n",
      "  ' ignored when e.g. forecasting.', ValueWarning)\n"
     ]
    },
    {
     "name": "stdout",
     "output_type": "stream",
     "text": [
      "predictions: [array([261499.48473136]), array([346795.48970418]), array([474736.78801688]), array([487544.97239747])]\n",
      "delta: 0, p: nan\n",
      "delta: 1, p: 5.1354013254411175e-28\n"
     ]
    },
    {
     "name": "stderr",
     "output_type": "stream",
     "text": [
      "C:\\Users\\jeff1\\Anaconda3\\lib\\site-packages\\statsmodels\\tsa\\base\\tsa_model.py:221: ValueWarning: An unsupported index was provided and will be ignored when e.g. forecasting.\n",
      "  ' ignored when e.g. forecasting.', ValueWarning)\n"
     ]
    },
    {
     "name": "stdout",
     "output_type": "stream",
     "text": [
      "predictions: [array([261499.48473136]), array([346795.48970418]), array([474736.78801688]), array([487544.97239747]), array([431089.45843173])]\n",
      "delta: 0, p: nan\n",
      "delta: 1, p: 4.699133775753511e-28\n"
     ]
    },
    {
     "name": "stderr",
     "output_type": "stream",
     "text": [
      "C:\\Users\\jeff1\\Anaconda3\\lib\\site-packages\\statsmodels\\tsa\\base\\tsa_model.py:221: ValueWarning: An unsupported index was provided and will be ignored when e.g. forecasting.\n",
      "  ' ignored when e.g. forecasting.', ValueWarning)\n"
     ]
    },
    {
     "name": "stdout",
     "output_type": "stream",
     "text": [
      "predictions: [array([261499.48473136]), array([346795.48970418]), array([474736.78801688]), array([487544.97239747]), array([431089.45843173]), array([435375.6122378])]\n",
      "delta: 0, p: nan\n",
      "delta: 1, p: 4.301796473288092e-28\n"
     ]
    },
    {
     "name": "stderr",
     "output_type": "stream",
     "text": [
      "C:\\Users\\jeff1\\Anaconda3\\lib\\site-packages\\statsmodels\\tsa\\base\\tsa_model.py:221: ValueWarning: An unsupported index was provided and will be ignored when e.g. forecasting.\n",
      "  ' ignored when e.g. forecasting.', ValueWarning)\n"
     ]
    },
    {
     "name": "stdout",
     "output_type": "stream",
     "text": [
      "predictions: [array([261499.48473136]), array([346795.48970418]), array([474736.78801688]), array([487544.97239747]), array([431089.45843173]), array([435375.6122378]), array([403545.5717166])]\n",
      "delta: 0, p: nan\n",
      "delta: 1, p: 0.1031964873591873\n",
      "delta: 2, p: 0.2197057017370178\n",
      "delta: 3, p: 0.08456591260315055\n",
      "delta: 4, p: 0.029402681869018454\n"
     ]
    },
    {
     "name": "stderr",
     "output_type": "stream",
     "text": [
      "C:\\Users\\jeff1\\Anaconda3\\lib\\site-packages\\statsmodels\\tsa\\base\\tsa_model.py:221: ValueWarning: An unsupported index was provided and will be ignored when e.g. forecasting.\n",
      "  ' ignored when e.g. forecasting.', ValueWarning)\n",
      "C:\\Users\\jeff1\\Anaconda3\\lib\\site-packages\\statsmodels\\base\\model.py:488: HessianInversionWarning: Inverting hessian failed, no bse or cov_params available\n",
      "  'available', HessianInversionWarning)\n"
     ]
    },
    {
     "name": "stdout",
     "output_type": "stream",
     "text": [
      "predictions: [array([725028.19127481])]\n",
      "delta: 0, p: nan\n",
      "delta: 1, p: 0.9400280790458813\n",
      "delta: 2, p: 0.9772198293717469\n",
      "delta: 3, p: 0.9505047140621258\n",
      "delta: 4, p: 0.8837383638993825\n",
      "delta: 5, p: 0.903262028677232\n",
      "delta: 6, p: 0.844094664363348\n",
      "delta: 7, p: 0.716093868735246\n",
      "delta: 8, p: 0.8977814052330659\n",
      "delta: 9, p: 0.9875527556006181\n",
      "delta: 0, p: nan\n"
     ]
    },
    {
     "name": "stderr",
     "output_type": "stream",
     "text": [
      "C:\\Users\\jeff1\\Anaconda3\\lib\\site-packages\\statsmodels\\tsa\\base\\tsa_model.py:221: ValueWarning: An unsupported index was provided and will be ignored when e.g. forecasting.\n",
      "  ' ignored when e.g. forecasting.', ValueWarning)\n",
      "C:\\Users\\jeff1\\Anaconda3\\lib\\site-packages\\statsmodels\\tsa\\base\\tsa_model.py:221: ValueWarning: An unsupported index was provided and will be ignored when e.g. forecasting.\n",
      "  ' ignored when e.g. forecasting.', ValueWarning)\n"
     ]
    },
    {
     "name": "stdout",
     "output_type": "stream",
     "text": [
      "bad condition 0: stationarity not adequate\n",
      "delta: 1, p: 0.9400280790458813\n",
      "bad condition 1: stationarity not adequate\n",
      "delta: 2, p: 0.9772198293717469\n"
     ]
    },
    {
     "name": "stderr",
     "output_type": "stream",
     "text": [
      "C:\\Users\\jeff1\\Anaconda3\\lib\\site-packages\\statsmodels\\tsa\\base\\tsa_model.py:221: ValueWarning: An unsupported index was provided and will be ignored when e.g. forecasting.\n",
      "  ' ignored when e.g. forecasting.', ValueWarning)\n"
     ]
    },
    {
     "name": "stdout",
     "output_type": "stream",
     "text": [
      "bad condition 2: stationarity not adequate\n",
      "delta: 3, p: 0.9505047140621258\n"
     ]
    },
    {
     "name": "stderr",
     "output_type": "stream",
     "text": [
      "C:\\Users\\jeff1\\Anaconda3\\lib\\site-packages\\statsmodels\\tsa\\base\\tsa_model.py:221: ValueWarning: An unsupported index was provided and will be ignored when e.g. forecasting.\n",
      "  ' ignored when e.g. forecasting.', ValueWarning)\n"
     ]
    },
    {
     "name": "stdout",
     "output_type": "stream",
     "text": [
      "bad condition 3: stationarity not adequate\n",
      "delta: 4, p: 0.8837383638993825\n"
     ]
    },
    {
     "name": "stderr",
     "output_type": "stream",
     "text": [
      "C:\\Users\\jeff1\\Anaconda3\\lib\\site-packages\\statsmodels\\tsa\\base\\tsa_model.py:221: ValueWarning: An unsupported index was provided and will be ignored when e.g. forecasting.\n",
      "  ' ignored when e.g. forecasting.', ValueWarning)\n"
     ]
    }
   ],
   "source": [
    "# iterate columns\n",
    "results = []\n",
    "for column in df_zipcode_clean:\n",
    "    predictions = compute_arima(df_zipcode_clean[column])\n",
    "    results.append({\n",
    "        'zip_code': df_zipcode_clean[column].name,\n",
    "        'predictions': predictions\n",
    "    })"
   ]
  },
  {
   "cell_type": "code",
   "execution_count": null,
   "metadata": {},
   "outputs": [],
   "source": [
    "# compare first test instance against last prediction instance\n",
    "print(len(results['predictions']))"
   ]
  },
  {
   "cell_type": "code",
   "execution_count": null,
   "metadata": {},
   "outputs": [],
   "source": []
  }
 ],
 "metadata": {
  "kernelspec": {
   "display_name": "Python 3",
   "language": "python",
   "name": "python3"
  },
  "language_info": {
   "codemirror_mode": {
    "name": "ipython",
    "version": 3
   },
   "file_extension": ".py",
   "mimetype": "text/x-python",
   "name": "python",
   "nbconvert_exporter": "python",
   "pygments_lexer": "ipython3",
   "version": "3.7.0"
  }
 },
 "nbformat": 4,
 "nbformat_minor": 2
}
