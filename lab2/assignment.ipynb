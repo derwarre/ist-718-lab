{
 "cells": [
  {
   "cell_type": "code",
   "execution_count": 46,
   "metadata": {},
   "outputs": [],
   "source": [
    "import pandas as pd"
   ]
  },
  {
   "cell_type": "code",
   "execution_count": 60,
   "metadata": {
    "scrolled": true
   },
   "outputs": [],
   "source": [
    "# read dataset\n",
    "with open('../data/Zip_Zhvi_SingleFamilyResidence.csv', 'rb') as f:\n",
    "    df = pd.read_csv(f).fillna(0)\n",
    "\n",
    "# convert non-timeseries\n",
    "df[['City', 'State', 'Metro', 'CountyName']] = df[['City', 'State', 'Metro', 'CountyName']].astype(str)\n",
    "df[['RegionID', 'RegionName', 'SizeRank']] = df[['RegionID', 'RegionName', 'SizeRank']].astype(int)\n",
    "\n",
    "# convert to lowercase\n",
    "df[['City', 'State', 'Metro', 'CountyName']] = df[['City', 'State', 'Metro', 'CountyName']].apply(\n",
    "  lambda x: x.astype(str).str.lower()\n",
    ")\n",
    "\n",
    "# timeseries data\n",
    "start_index = df.columns.get_loc('1996-04') + 1\n",
    "date_columns = df.iloc[:,start_index:len(df.columns)].columns.tolist()\n",
    "\n",
    "# ensure integer timeseries\n",
    "df[date_columns] = df[date_columns].astype(int)"
   ]
  },
  {
   "cell_type": "code",
   "execution_count": 90,
   "metadata": {},
   "outputs": [],
   "source": [
    "# metro areas\n",
    "hot_springs = df.loc[(df['Metro'] == 'hot springs') & (df['State'] == 'ar')]\n",
    "little_rock = df.loc[(df['Metro'] == 'little rock') & (df['State'] == 'ar')]\n",
    "fayetteville = df.loc[(df['Metro'] == 'fayetteville') & (df['State'] == 'ar')]\n",
    "searcy = df.loc[(df['Metro'] == 'searcy') & (df['State'] == 'ar')]"
   ]
  }
 ],
 "metadata": {
  "kernelspec": {
   "display_name": "Python 3",
   "language": "python",
   "name": "python3"
  }
 },
 "nbformat": 4,
 "nbformat_minor": 2
}
