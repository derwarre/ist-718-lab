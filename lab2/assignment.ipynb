{
 "cells": [
  {
   "cell_type": "code",
   "execution_count": 1,
   "metadata": {},
   "outputs": [],
   "source": [
    "# import\n",
    "import numpy as np\n",
    "import pandas as pd\n",
    "from pandas import DataFrame\n",
    "import matplotlib.pyplot as plt\n",
    "import zipcodes\n",
    "from statsmodels.tsa.arima_model import ARIMA\n",
    "from statsmodels.tsa.stattools import adfuller\n",
    "from sklearn.metrics import mean_squared_error"
   ]
  },
  {
   "cell_type": "code",
   "execution_count": 2,
   "metadata": {},
   "outputs": [],
   "source": [
    "# read zillow data\n",
    "with open('../data/Zip_Zhvi_SingleFamilyResidence.csv', 'rb') as f:\n",
    "    df_zillow = pd.read_csv(f).fillna(0)\n",
    "\n",
    "# read unemployment data\n",
    "with open('../data/laucnty17.xlsx', 'rb') as f:\n",
    "    df_labor = pd.read_excel(f, skiprows=range(1, 6)).fillna(0)\n",
    "\n",
    "# read crime data\n",
    "with open('../data/district-of-columbia.xls', 'rb') as f:\n",
    "    df_crime_dc = pd.read_excel(f, skiprows=range(1, 2)).fillna(0)\n",
    "\n",
    "with open('../data/maryland.xls', 'rb') as f:\n",
    "    df_crime_md = pd.read_excel(f, skiprows=range(1, 5)).fillna(0)\n",
    "\n",
    "with open('../data/massachusetts.xls', 'rb') as f:\n",
    "    df_crime_ma = pd.read_excel(f, skiprows=range(1, 5)).fillna(0)\n",
    "\n",
    "with open('../data/virginia.xls', 'rb') as f:\n",
    "    df_crime_va = pd.read_excel(f, skiprows=range(1, 5)).fillna(0)\n",
    "\n",
    "with open('../data/new-hampshire.xls', 'rb') as f:\n",
    "    df_crime_nh = pd.read_excel(f, skiprows=range(1, 5)).fillna(0)"
   ]
  },
  {
   "cell_type": "code",
   "execution_count": 3,
   "metadata": {},
   "outputs": [],
   "source": [
    "# crime columns\n",
    "#dc_col_list = df_crime_dc.iloc[:, 3:12].columns.tolist()\n",
    "md_col_list = df_crime_md.iloc[:, 3:12].columns.tolist()\n",
    "ma_col_list = df_crime_ma.iloc[:, 3:12].columns.tolist()\n",
    "va_col_list = df_crime_va.iloc[:, 3:12].columns.tolist()\n",
    "nh_col_list = df_crime_nh.iloc[:, 3:12].columns.tolist()\n",
    "\n",
    "# crime sum: simplified by summing all offense types\n",
    "#dc_sum = df_crime_dc[dc_col_list].sum(axis=1)\n",
    "md_sum = df_crime_md[md_col_list].sum(axis=1)\n",
    "ma_sum = df_crime_ma[ma_col_list].sum(axis=1)\n",
    "va_sum = df_crime_va[va_col_list].sum(axis=1)\n",
    "nh_sum = df_crime_nh[nh_col_list].sum(axis=1)\n",
    "\n",
    "# crime ratio: offense sum / population\n",
    "df_md = df_crime_md\n",
    "df_md['City'] = df_crime_md.iloc[:, 0]\n",
    "df_md['State'] = 'md'\n",
    "df_md['Population'] = df_crime_md.iloc[:, 1]\n",
    "df_md['CrimeRatio'] = md_sum/df_crime_md.iloc[:, 1]\n",
    "df_md = df_crime_md[['City', 'Population', 'CrimeRatio', 'State']]\n",
    "\n",
    "df_ma = df_crime_ma\n",
    "df_ma['City'] = df_crime_ma.iloc[:, 0]\n",
    "df_ma['State'] = 'ma'\n",
    "df_ma['Population'] = df_crime_ma.iloc[:, 1]\n",
    "df_ma['CrimeRatio'] = ma_sum/df_crime_ma.iloc[:, 1]\n",
    "df_ma = df_crime_ma[['City', 'Population', 'CrimeRatio', 'State']]\n",
    "\n",
    "df_va = df_crime_va\n",
    "df_va['City'] = df_crime_va.iloc[:, 0]\n",
    "df_va['State'] = 'va'\n",
    "df_va['Population'] = df_crime_va.iloc[:, 1]\n",
    "df_va['CrimeRatio'] = va_sum/df_crime_va.iloc[:, 1]\n",
    "df_va = df_crime_va[['City', 'Population', 'CrimeRatio', 'State']]\n",
    "\n",
    "df_nh = df_crime_nh\n",
    "df_nh['City'] = df_crime_nh.iloc[:, 0]\n",
    "df_nh['State'] = 'nh'\n",
    "df_nh['Population'] = df_crime_nh.iloc[:, 1]\n",
    "df_nh['CrimeRatio'] = nh_sum/df_crime_nh.iloc[:, 1]\n",
    "df_nh = df_crime_nh[['City', 'Population', 'CrimeRatio', 'State']]\n",
    "\n",
    "# combine dataframe\n",
    "df_crime = pd.concat([df_md, df_ma, df_va, df_nh])\n",
    "\n",
    "# remove unneeded column\n",
    "df_crime.drop(['Population'], axis=1, inplace=True)\n",
    "\n",
    "# convert to lowercase\n",
    "df_crime[['City', 'State']] = df_crime[['City', 'State']].apply(\n",
    "  lambda x: x.astype(str).str.lower().map(lambda x: x.strip())\n",
    ")"
   ]
  },
  {
   "cell_type": "code",
   "execution_count": 4,
   "metadata": {},
   "outputs": [],
   "source": [
    "# restructure labor columns\n",
    "df_labor = pd.DataFrame(df_labor.iloc[:, [3,9]])\n",
    "df_labor.columns = ['Location', 'Unemployment']\n",
    "df_labor[['CountyName', 'State']] = df_labor['Location'].str.split(',', expand=True)\n",
    "df_labor.drop(['Location'], axis=1, inplace=True)"
   ]
  },
  {
   "cell_type": "code",
   "execution_count": 5,
   "metadata": {},
   "outputs": [],
   "source": [
    "# convert non-timeseries\n",
    "df_zillow[['City', 'State', 'Metro', 'CountyName']] = df_zillow[['City', 'State', 'Metro', 'CountyName']].astype(str)\n",
    "df_zillow[['RegionID', 'RegionName', 'SizeRank']] = df_zillow[['RegionID', 'RegionName', 'SizeRank']].astype(int)\n",
    "\n",
    "# convert to lowercase\n",
    "df_zillow[['City', 'State', 'Metro', 'CountyName']] = df_zillow[['City', 'State', 'Metro', 'CountyName']].apply(\n",
    "  lambda x: x.astype(str).str.lower().map(lambda x: x.strip())\n",
    ")\n",
    "df_labor[['CountyName', 'State']] = df_labor[['CountyName', 'State']].apply(\n",
    "  lambda x: x.astype(str).str.lower().map(lambda x: x.strip())\n",
    ")\n",
    "\n",
    "# remove redundant suffix\n",
    "df_labor[['CountyName']] = df_labor['CountyName'].str.rstrip('county').map(lambda x: x.strip())"
   ]
  },
  {
   "cell_type": "code",
   "execution_count": 6,
   "metadata": {},
   "outputs": [],
   "source": [
    "# arkansas metro areas\n",
    "hot_springs = df_zillow.loc[(df_zillow['Metro'] == 'hot springs') & (df_zillow['State'] == 'ar')]\n",
    "little_rock = df_zillow.loc[(df_zillow['Metro'] == 'little rock') & (df_zillow['State'] == 'ar')]\n",
    "fayetteville = df_zillow.loc[(df_zillow['Metro'] == 'fayetteville') & (df_zillow['State'] == 'ar')]\n",
    "searcy = df_zillow.loc[(df_zillow['Metro'] == 'searcy') & (df_zillow['State'] == 'ar')]"
   ]
  },
  {
   "cell_type": "code",
   "execution_count": 7,
   "metadata": {},
   "outputs": [],
   "source": [
    "# merge dataframes\n",
    "df = pd.merge(df_zillow, df_labor, on=['CountyName', 'State'])\n",
    "df = pd.merge(df, df_crime, on=['City', 'State'])\n",
    "\n",
    "# timeseries data\n",
    "ts_start = df.columns.get_loc('1996-04') + 1\n",
    "ts_end = df.columns.get_loc('2017-09')\n",
    "date_columns = df.iloc[:, ts_start:ts_end].columns.tolist()\n",
    "\n",
    "# ensure integer timeseries\n",
    "df[date_columns] = df[date_columns].astype(int)"
   ]
  },
  {
   "cell_type": "code",
   "execution_count": 8,
   "metadata": {},
   "outputs": [
    {
     "data": {
      "image/png": "[encoded data removed]",
      "text/plain": [
       "<Figure size 432x288 with 1 Axes>"
      ]
     },
     "metadata": {
      "needs_background": "light"
     },
     "output_type": "display_data"
    }
   ],
   "source": [
    "# timeseries plot\n",
    "fig, ax = plt.subplots()\n",
    "ax.plot(hot_springs[date_columns].mean(), linestyle='solid')\n",
    "ax.plot(little_rock[date_columns].mean(), linestyle='solid')\n",
    "ax.plot(fayetteville[date_columns].mean(), linestyle='solid')\n",
    "ax.plot(searcy[date_columns].mean(), linestyle='solid')\n",
    "\n",
    "# decrease ticks\n",
    "xmin, xmax = ax.get_xlim()\n",
    "ax.set_xticks(np.round(np.linspace(xmin, xmax, 23), 2))\n",
    "\n",
    "# rotate ticks + show legend\n",
    "plt.xticks(rotation=90)\n",
    "plt.gca().legend(('hot_springs', 'little_rock', 'fayetteville', 'searcy'))\n",
    "\n",
    "# show overall plot\n",
    "plt.show()"
   ]
  },
  {
   "cell_type": "code",
   "execution_count": 9,
   "metadata": {},
   "outputs": [],
   "source": [
    "# remove rows with unemployment >= 4.5%\n",
    "df = df[df.Unemployment < 4.5]\n",
    "\n",
    "# remove rows with crime >= 5%\n",
    "df = df[df.CrimeRatio < 0.05]\n",
    "\n",
    "# remove redundant columns\n",
    "df.drop(['Unemployment'], axis=1, inplace=True)\n",
    "df.drop(['CrimeRatio'], axis=1, inplace=True)"
   ]
  },
  {
   "cell_type": "code",
   "execution_count": 10,
   "metadata": {},
   "outputs": [],
   "source": [
    "# filter specific states\n",
    "df = df.loc[df['State'].isin(['md','va', 'nh', 'ma', 'dc'])]\n",
    "\n",
    "# remove specific cities\n",
    "df = df.loc[-((df['Metro'] == 'baltimore') & (df['State'] == 'md'))]"
   ]
  },
  {
   "cell_type": "code",
   "execution_count": 11,
   "metadata": {},
   "outputs": [],
   "source": [
    "# train: collapse column by median\n",
    "train_start = df.columns.get_loc('1997-01')\n",
    "train_stop = df.columns.get_loc('2017-01')\n",
    "test_stop = df.columns.get_loc('2017-09')\n",
    "train_columns = df.iloc[:, train_start:train_stop].columns.tolist()\n",
    "test_columns = df.iloc[:, (train_stop + 1):test_stop].columns.tolist()"
   ]
  },
  {
   "cell_type": "code",
   "execution_count": 12,
   "metadata": {},
   "outputs": [],
   "source": [
    "# remove rows with 0's beginning (1997-01) with trainset\n",
    "date_columns = df.iloc[:, train_start:test_stop].columns.tolist()\n",
    "\n",
    "df[date_columns] = df[date_columns].replace(0, np.nan).dropna(\n",
    "    axis=0,\n",
    "    how='any',\n",
    "    subset=date_columns\n",
    ")"
   ]
  },
  {
   "cell_type": "code",
   "execution_count": 13,
   "metadata": {},
   "outputs": [
    {
     "name": "stderr",
     "output_type": "stream",
     "text": [
      "C:\\Users\\jeff1\\Anaconda3\\lib\\site-packages\\statsmodels\\tsa\\base\\tsa_model.py:171: ValueWarning: No frequency information was provided, so inferred frequency MS will be used.\n",
      "  % freq, ValueWarning)\n",
      "C:\\Users\\jeff1\\Anaconda3\\lib\\site-packages\\statsmodels\\tsa\\base\\tsa_model.py:171: ValueWarning: No frequency information was provided, so inferred frequency MS will be used.\n",
      "  % freq, ValueWarning)\n"
     ]
    },
    {
     "name": "stdout",
     "output_type": "stream",
     "text": [
      "                             ARIMA Model Results                              \n",
      "==============================================================================\n",
      "Dep. Variable:                    D.y   No. Observations:                  239\n",
      "Model:                 ARIMA(5, 1, 3)   Log Likelihood               -1944.603\n",
      "Method:                       css-mle   S.D. of innovations            817.439\n",
      "Date:                Sun, 18 Nov 2018   AIC                           3909.207\n",
      "Time:                        06:52:51   BIC                           3943.971\n",
      "Sample:                    02-01-1997   HQIC                          3923.216\n",
      "                         - 12-01-2016                                         \n",
      "==============================================================================\n",
      "                 coef    std err          z      P>|z|      [0.025      0.975]\n",
      "------------------------------------------------------------------------------\n",
      "const        872.8122    726.445      1.201      0.231    -550.993    2296.618\n",
      "ar.L1.D.y      0.8794      0.144      6.087      0.000       0.596       1.163\n",
      "ar.L2.D.y     -0.9241      0.088    -10.484      0.000      -1.097      -0.751\n",
      "ar.L3.D.y      1.1455      0.090     12.734      0.000       0.969       1.322\n",
      "ar.L4.D.y     -0.3137      0.117     -2.687      0.008      -0.543      -0.085\n",
      "ar.L5.D.y      0.1545      0.081      1.897      0.059      -0.005       0.314\n",
      "ma.L1.D.y     -0.2954      0.138     -2.140      0.033      -0.566      -0.025\n",
      "ma.L2.D.y      0.8094      0.050     16.280      0.000       0.712       0.907\n",
      "ma.L3.D.y     -0.6084      0.139     -4.365      0.000      -0.882      -0.335\n",
      "                                    Roots                                    \n",
      "=============================================================================\n",
      "                  Real          Imaginary           Modulus         Frequency\n",
      "-----------------------------------------------------------------------------\n",
      "AR.1            1.0285           -0.0000j            1.0285           -0.0000\n",
      "AR.2           -0.1785           -1.0280j            1.0434           -0.2774\n",
      "AR.3           -0.1785           +1.0280j            1.0434            0.2774\n",
      "AR.4            0.6797           -2.3064j            2.4045           -0.2044\n",
      "AR.5            0.6797           +2.3064j            2.4045            0.2044\n",
      "MA.1           -0.1565           -0.9877j            1.0000           -0.2750\n",
      "MA.2           -0.1565           +0.9877j            1.0000            0.2750\n",
      "MA.3            1.6435           -0.0000j            1.6435           -0.0000\n",
      "-----------------------------------------------------------------------------\n"
     ]
    }
   ],
   "source": [
    "#\n",
    "# transpose dataframe: left column data, right column value\n",
    "#\n",
    "#     date1  val1\n",
    "#     date2  val2\n",
    "#      ...   ...\n",
    "#     daten  valn\n",
    "#\n",
    "df_train = df[train_columns].median().T\n",
    "df_test = df[test_columns].median().T\n",
    "\n",
    "#\n",
    "# build arima model:\n",
    "#\n",
    "#     AR: autoregression, uses observations from previous time steps as input to\n",
    "#         a regression equation to predict the value at the next time step.\n",
    "#\n",
    "#     I: integrated, use of differencing of raw observations, or subtracting an\n",
    "#         observation from previous time step. The goal is to attain a time\n",
    "#         series that is stationary.\n",
    "#\n",
    "#     MA: moving average, uses the dependency between an observation and a residual\n",
    "#         error from a moving average model applied to lagged observations.\n",
    "#\n",
    "model = ARIMA(df_train, order=(5,1,3))\n",
    "model_fit = model.fit()\n",
    "print(model_fit.summary())"
   ]
  },
  {
   "cell_type": "code",
   "execution_count": 14,
   "metadata": {},
   "outputs": [
    {
     "data": {
      "image/png": "[encoded data removed]",
      "text/plain": [
       "<Figure size 432x288 with 1 Axes>"
      ]
     },
     "metadata": {
      "needs_background": "light"
     },
     "output_type": "display_data"
    },
    {
     "data": {
      "image/png": "[encoded data removed]",
      "text/plain": [
       "<Figure size 432x288 with 1 Axes>"
      ]
     },
     "metadata": {
      "needs_background": "light"
     },
     "output_type": "display_data"
    }
   ],
   "source": [
    "# plot residual errors\n",
    "residuals = DataFrame(model_fit.resid)\n",
    "residuals.plot()\n",
    "plt.show()\n",
    "\n",
    "# plot kernel density estimation\n",
    "residuals.plot(kind='kde')\n",
    "plt.show()"
   ]
  },
  {
   "cell_type": "code",
   "execution_count": 15,
   "metadata": {},
   "outputs": [
    {
     "name": "stdout",
     "output_type": "stream",
     "text": [
      "                 0\n",
      "count   239.000000\n",
      "mean     10.278937\n",
      "std     824.347853\n",
      "min   -2445.232639\n",
      "25%    -403.627846\n",
      "50%     -25.341565\n",
      "75%     503.617710\n",
      "max    2594.728769\n"
     ]
    }
   ],
   "source": [
    "# descriptive statistics on residual\n",
    "print(residuals.describe())"
   ]
  },
  {
   "cell_type": "code",
   "execution_count": 16,
   "metadata": {},
   "outputs": [
    {
     "ename": "ValueError",
     "evalue": "d > 2 is not supported",
     "output_type": "error",
     "traceback": [
      "\u001b[1;31m---------------------------------------------------------------------------\u001b[0m",
      "\u001b[1;31mValueError\u001b[0m                                Traceback (most recent call last)",
      "\u001b[1;32m<ipython-input-16-19e5c60f3c1a>\u001b[0m in \u001b[0;36m<module>\u001b[1;34m()\u001b[0m\n\u001b[0;32m     12\u001b[0m \u001b[1;33m\u001b[0m\u001b[0m\n\u001b[0;32m     13\u001b[0m \u001b[1;32mfor\u001b[0m \u001b[0mt\u001b[0m \u001b[1;32min\u001b[0m \u001b[0mrange\u001b[0m\u001b[1;33m(\u001b[0m\u001b[0miterations\u001b[0m\u001b[1;33m)\u001b[0m\u001b[1;33m:\u001b[0m\u001b[1;33m\u001b[0m\u001b[0m\n\u001b[1;32m---> 14\u001b[1;33m     \u001b[0mmodel\u001b[0m \u001b[1;33m=\u001b[0m \u001b[0mARIMA\u001b[0m\u001b[1;33m(\u001b[0m\u001b[0mhistory\u001b[0m\u001b[1;33m,\u001b[0m \u001b[0morder\u001b[0m\u001b[1;33m=\u001b[0m\u001b[1;33m(\u001b[0m\u001b[1;36m5\u001b[0m\u001b[1;33m,\u001b[0m\u001b[1;36m4\u001b[0m\u001b[1;33m,\u001b[0m\u001b[1;36m0\u001b[0m\u001b[1;33m)\u001b[0m\u001b[1;33m)\u001b[0m\u001b[1;33m\u001b[0m\u001b[0m\n\u001b[0m\u001b[0;32m     15\u001b[0m     \u001b[0mmodel_fit\u001b[0m \u001b[1;33m=\u001b[0m \u001b[0mmodel\u001b[0m\u001b[1;33m.\u001b[0m\u001b[0mfit\u001b[0m\u001b[1;33m(\u001b[0m\u001b[0mdisp\u001b[0m\u001b[1;33m=\u001b[0m\u001b[1;36m0\u001b[0m\u001b[1;33m)\u001b[0m\u001b[1;33m\u001b[0m\u001b[0m\n\u001b[0;32m     16\u001b[0m     \u001b[0moutput\u001b[0m \u001b[1;33m=\u001b[0m \u001b[0mmodel_fit\u001b[0m\u001b[1;33m.\u001b[0m\u001b[0mforecast\u001b[0m\u001b[1;33m(\u001b[0m\u001b[1;33m)\u001b[0m\u001b[1;33m\u001b[0m\u001b[0m\n",
      "\u001b[1;32m~\\Anaconda3\\lib\\site-packages\\statsmodels\\tsa\\arima_model.py\u001b[0m in \u001b[0;36m__new__\u001b[1;34m(cls, endog, order, exog, dates, freq, missing)\u001b[0m\n\u001b[0;32m    994\u001b[0m         \u001b[1;32melse\u001b[0m\u001b[1;33m:\u001b[0m\u001b[1;33m\u001b[0m\u001b[0m\n\u001b[0;32m    995\u001b[0m             \u001b[0mmod\u001b[0m \u001b[1;33m=\u001b[0m \u001b[0msuper\u001b[0m\u001b[1;33m(\u001b[0m\u001b[0mARIMA\u001b[0m\u001b[1;33m,\u001b[0m \u001b[0mcls\u001b[0m\u001b[1;33m)\u001b[0m\u001b[1;33m.\u001b[0m\u001b[0m__new__\u001b[0m\u001b[1;33m(\u001b[0m\u001b[0mcls\u001b[0m\u001b[1;33m)\u001b[0m\u001b[1;33m\u001b[0m\u001b[0m\n\u001b[1;32m--> 996\u001b[1;33m             \u001b[0mmod\u001b[0m\u001b[1;33m.\u001b[0m\u001b[0m__init__\u001b[0m\u001b[1;33m(\u001b[0m\u001b[0mendog\u001b[0m\u001b[1;33m,\u001b[0m \u001b[0morder\u001b[0m\u001b[1;33m,\u001b[0m \u001b[0mexog\u001b[0m\u001b[1;33m,\u001b[0m \u001b[0mdates\u001b[0m\u001b[1;33m,\u001b[0m \u001b[0mfreq\u001b[0m\u001b[1;33m,\u001b[0m \u001b[0mmissing\u001b[0m\u001b[1;33m)\u001b[0m\u001b[1;33m\u001b[0m\u001b[0m\n\u001b[0m\u001b[0;32m    997\u001b[0m             \u001b[1;32mreturn\u001b[0m \u001b[0mmod\u001b[0m\u001b[1;33m\u001b[0m\u001b[0m\n\u001b[0;32m    998\u001b[0m \u001b[1;33m\u001b[0m\u001b[0m\n",
      "\u001b[1;32m~\\Anaconda3\\lib\\site-packages\\statsmodels\\tsa\\arima_model.py\u001b[0m in \u001b[0;36m__init__\u001b[1;34m(self, endog, order, exog, dates, freq, missing)\u001b[0m\n\u001b[0;32m   1012\u001b[0m             \u001b[1;31m#NOTE: to make more general, need to address the d == 2 stuff\u001b[0m\u001b[1;33m\u001b[0m\u001b[1;33m\u001b[0m\u001b[0m\n\u001b[0;32m   1013\u001b[0m             \u001b[1;31m# in the predict method\u001b[0m\u001b[1;33m\u001b[0m\u001b[1;33m\u001b[0m\u001b[0m\n\u001b[1;32m-> 1014\u001b[1;33m             \u001b[1;32mraise\u001b[0m \u001b[0mValueError\u001b[0m\u001b[1;33m(\u001b[0m\u001b[1;34m\"d > 2 is not supported\"\u001b[0m\u001b[1;33m)\u001b[0m\u001b[1;33m\u001b[0m\u001b[0m\n\u001b[0m\u001b[0;32m   1015\u001b[0m         \u001b[0msuper\u001b[0m\u001b[1;33m(\u001b[0m\u001b[0mARIMA\u001b[0m\u001b[1;33m,\u001b[0m \u001b[0mself\u001b[0m\u001b[1;33m)\u001b[0m\u001b[1;33m.\u001b[0m\u001b[0m__init__\u001b[0m\u001b[1;33m(\u001b[0m\u001b[0mendog\u001b[0m\u001b[1;33m,\u001b[0m \u001b[1;33m(\u001b[0m\u001b[0mp\u001b[0m\u001b[1;33m,\u001b[0m \u001b[0mq\u001b[0m\u001b[1;33m)\u001b[0m\u001b[1;33m,\u001b[0m \u001b[0mexog\u001b[0m\u001b[1;33m,\u001b[0m \u001b[0mdates\u001b[0m\u001b[1;33m,\u001b[0m \u001b[0mfreq\u001b[0m\u001b[1;33m,\u001b[0m \u001b[0mmissing\u001b[0m\u001b[1;33m)\u001b[0m\u001b[1;33m\u001b[0m\u001b[0m\n\u001b[0;32m   1016\u001b[0m         \u001b[0mself\u001b[0m\u001b[1;33m.\u001b[0m\u001b[0mk_diff\u001b[0m \u001b[1;33m=\u001b[0m \u001b[0md\u001b[0m\u001b[1;33m\u001b[0m\u001b[0m\n",
      "\u001b[1;31mValueError\u001b[0m: d > 2 is not supported"
     ]
    }
   ],
   "source": [
    "#\n",
    "# rolling prediction (verify model): month +2, since the train\n",
    "#     includes 2017-01.\n",
    "#\n",
    "# Note: rolling prediction is required since there is an implicit\n",
    "#       dependence on observations in prior time steps inheritted\n",
    "#       when autogressive (AR) model was defined.\n",
    "#\n",
    "history = [x for x in df_train]\n",
    "predictions = list()\n",
    "iterations = (12-len(df_test)) + 18\n",
    "\n",
    "for t in range(iterations):\n",
    "    model = ARIMA(history, order=(5,1,0))\n",
    "    model_fit = model.fit(disp=0)\n",
    "    output = model_fit.forecast()\n",
    "    yhat = output[0]\n",
    "    predictions.append(yhat)\n",
    "\n",
    "    if t > 10:\n",
    "        year = 2018\n",
    "        month = (t+2) % 12\n",
    "        if month == 0:\n",
    "            month = 12\n",
    "    else:\n",
    "        year = 2017\n",
    "        month = t+2\n",
    "        if month == 0:\n",
    "            month = 12\n",
    "\n",
    "    print('\\n===============================================')\n",
    "    print('date: {}-{:01d}'.format(year, month))\n",
    "    print('-----------------------------------------------')\n",
    "\n",
    "    #\n",
    "    # observation: if current value doesn't exist from test, append current\n",
    "    #     predition, to ensure successive rolling prediction computed.\n",
    "    #\n",
    "    try:\n",
    "        obs = df_test[t]\n",
    "        print('predicted={:03f}, expected={:03f}'.format(float(yhat), obs))\n",
    "        print('prediction difference: {:03f}'.format(abs(1-float(yhat)/obs)))\n",
    "        print('\\n===============================================')\n",
    "        error = mean_squared_error(df_test, predictions)\n",
    "        print('Test MSE: {:03f}\\n\\n'.format(error))\n",
    "    except:\n",
    "        obs = yhat\n",
    "        print('predicted={:03f}'.format(float(yhat)))\n",
    "\n",
    "    history.append(obs)"
   ]
  },
  {
   "cell_type": "code",
   "execution_count": null,
   "metadata": {},
   "outputs": [],
   "source": [
    "# plot rolling prediction\n",
    "plt.plot(df_test)\n",
    "plt.plot(predictions, color='red')\n",
    "plt.xticks(rotation=90)\n",
    "plt.show()"
   ]
  },
  {
   "cell_type": "code",
   "execution_count": null,
   "metadata": {},
   "outputs": [],
   "source": [
    "# stationarity test\n",
    "def difference(dataset, delta):\n",
    "    diff = list()\n",
    "    for i in range(1, len(dataset)):\n",
    "        value = dataset[i] - dataset[i - delta]\n",
    "        diff.append(value)\n",
    "    return pd.Series(diff)\n",
    "\n",
    "def compute_arima(df_train):\n",
    "    #\n",
    "    # Note: rolling prediction is required since there is an implicit\n",
    "    #       dependence on observations in prior time steps inheritted\n",
    "    #       when autogressive (AR) model was defined.\n",
    "    #\n",
    "    history = [x for x in df_train]\n",
    "    predictions = list()\n",
    "    iterations = (12-len(df_test)) + 18\n",
    "\n",
    "    for t in range(iterations):\n",
    "        delta = 0\n",
    "        model_fit = False\n",
    "\n",
    "        #\n",
    "        # determine stationarity value: no need to difference more than\n",
    "        #     one third the length of the given series.\n",
    "        #\n",
    "        # @delta, the difference factor.\n",
    "        #\n",
    "        for delta in range(int(len(history) / 3)):\n",
    "            stationary = difference(history, delta)\n",
    "            stationary.index = history[1:]\n",
    "            result = adfuller(stationary)\n",
    "            print('delta: {}, p: {}'.format(delta, result[1]))\n",
    "\n",
    "            #\n",
    "            # generate model: use dickey-fuller significance test using\n",
    "            #     custom 'difference' function. Sometimes, statsmodel's\n",
    "            #     arima algorithm will not agree with our pvalue, so it\n",
    "            #     is forced to search for another significant difference.\n",
    "            #\n",
    "            if (result[1] <= 0.05):\n",
    "                try:\n",
    "                    model = ARIMA(history, order=(delta, 1, 0))\n",
    "                    model_fit = model.fit(disp=0)\n",
    "                    break\n",
    "                except:\n",
    "                    print('stationarity not adequate')\n",
    "                    continue\n",
    "\n",
    "        #\n",
    "        # bad condition: no significant stationarity found on given delta,\n",
    "        #     so have to pick any next one that works.\n",
    "        #        \n",
    "        if not model_fit:\n",
    "            for delta2 in range(delta, len(history)):\n",
    "                try:\n",
    "                    model = ARIMA(history, order=(delta2, 1, 0))\n",
    "                    model_fit = model.fit(disp=0)\n",
    "                    break\n",
    "                except:\n",
    "                    print('bad condition {}: stationarity not adequate'.format(delta2))\n",
    "                    continue\n",
    "\n",
    "        #\n",
    "        # generate forecast: some edge cases will not generate sufficient stationarity,\n",
    "        #     This means successive rolling predictions will not occur. So, the model\n",
    "        #     instance is not useful, and thrown out.\n",
    "        #\n",
    "        if model_fit:\n",
    "            output = model_fit.forecast()\n",
    "            yhat = output[0]\n",
    "        else:\n",
    "            predictions = [None]\n",
    "            break\n",
    "\n",
    "        #\n",
    "        # observation: if current value doesn't exist from test, append current\n",
    "        #     predition, to ensure successive rolling prediction computed.\n",
    "        #\n",
    "        try:\n",
    "            obs = df_test[t]\n",
    "        except:\n",
    "            obs = yhat\n",
    "        history.append(obs)\n",
    "        \n",
    "        predictions.append(yhat)\n",
    "        print('predictions: {}'.format(predictions))\n",
    "\n",
    "    return(predictions)\n",
    "\n",
    "def get_zipcode(city, state):\n",
    "    result = zipcodes.filter_by(\n",
    "        zipcodes.list_all(),\n",
    "        active=True,\n",
    "        city=city,\n",
    "        state=state\n",
    "    )\n",
    "\n",
    "    if result and result[0] and result[0]['zip_code']:\n",
    "        return(result[0]['zip_code'])\n",
    "    else:\n",
    "        return(0)"
   ]
  },
  {
   "cell_type": "code",
   "execution_count": null,
   "metadata": {},
   "outputs": [],
   "source": [
    "# add zipcode column\n",
    "df['zip_code'] = df[['City', 'State']].apply(\n",
    "    lambda x: get_zipcode(\n",
    "        x['City'].upper(),\n",
    "        x['State'].upper()\n",
    "    ),\n",
    "    axis=1\n",
    ")"
   ]
  },
  {
   "cell_type": "code",
   "execution_count": null,
   "metadata": {},
   "outputs": [],
   "source": [
    "# group by zipcode\n",
    "df_zipcode = df.groupby('zip_code').agg(np.median).dropna().T\n",
    "\n",
    "#\n",
    "# remove columns: column 0 indicates an NaN column\n",
    "#\n",
    "df_zipcode_clean = df_zipcode.drop([\n",
    "    'RegionName',\n",
    "    'RegionID',\n",
    "    'SizeRank'\n",
    "], axis=0)\n",
    "df_zipcode_clean = df_zipcode_clean.drop([0], axis=1)\n",
    "\n",
    "df_zipcode_clean.plot(legend=None)\n",
    "plt.show()"
   ]
  },
  {
   "cell_type": "code",
   "execution_count": null,
   "metadata": {},
   "outputs": [],
   "source": [
    "# iterate columns\n",
    "results = []\n",
    "for column in df_zipcode_clean:\n",
    "    predictions = compute_arima(df_zipcode_clean[column])\n",
    "    results.append({\n",
    "        'zip_code': df_zipcode_clean[column].name,\n",
    "        'predictions': predictions\n",
    "    })"
   ]
  },
  {
   "cell_type": "code",
   "execution_count": null,
   "metadata": {},
   "outputs": [],
   "source": [
    "# compare first test instance against last prediction instance\n",
    "print(len(results['predictions']))"
   ]
  },
  {
   "cell_type": "code",
   "execution_count": null,
   "metadata": {},
   "outputs": [],
   "source": []
  }
 ],
 "metadata": {
  "kernelspec": {
   "display_name": "Python 3",
   "language": "python",
   "name": "python3"
  },
  "language_info": {
   "codemirror_mode": {
    "name": "ipython",
    "version": 3
   },
   "file_extension": ".py",
   "mimetype": "text/x-python",
   "name": "python",
   "nbconvert_exporter": "python",
   "pygments_lexer": "ipython3",
   "version": "3.7.0"
  }
 },
 "nbformat": 4,
 "nbformat_minor": 2
}
