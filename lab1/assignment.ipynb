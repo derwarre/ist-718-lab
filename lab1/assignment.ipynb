{
 "cells": [
  {
   "cell_type": "code",
   "execution_count": 388,
   "metadata": {},
   "outputs": [],
   "source": [
    "import pandas as pd\n",
    "from sklearn import linear_model\n",
    "from sklearn.model_selection import train_test_split\n",
    "from sklearn.metrics import mean_squared_error\n",
    "from sklearn.metrics import r2_score\n",
    "import statsmodels.api as sm\n",
    "import matplotlib.pyplot as plt"
   ]
  },
  {
   "cell_type": "code",
   "execution_count": 374,
   "metadata": {
    "scrolled": true
   },
   "outputs": [],
   "source": [
    "# read datast(s)\n",
    "with open('../data/Coaches.csv', 'rb') as f:\n",
    "    coaches = pd.read_csv(f).fillna(0)\n",
    "\n",
    "with open('../data/stadiums-geocoded.csv', 'rb') as f:\n",
    "    stadium = pd.read_csv(f).fillna(0)\n",
    "\n",
    "with open('../data/graduation-rates.csv', 'rb') as f:\n",
    "    grad_rates = pd.read_csv(f).fillna(0)\n",
    "\n",
    "with open('../data/2017-season.csv', 'rb') as f:\n",
    "    season_2017 = pd.read_csv(f).fillna(0)"
   ]
  },
  {
   "cell_type": "code",
   "execution_count": 375,
   "metadata": {},
   "outputs": [],
   "source": [
    "# numerical columns\n",
    "stadium_numerical = ['capacity', 'built', 'expanded']\n",
    "grad_numerical = ['gsr', 'fgr']\n",
    "season_numerical = ['win', 'loss', 'pct']\n",
    "coaches_numerical = [\n",
    "    'schoolpay',\n",
    "    'totalpay',\n",
    "    'bonus',\n",
    "    'bonuspaid',\n",
    "    'assistantpay',\n",
    "    'buyout'\n",
    "]\n",
    "\n",
    "# convert lowercase\n",
    "coaches = coaches.apply(lambda x: x.astype(str).str.lower())\n",
    "stadium = stadium.apply(lambda x: x.astype(str).str.lower())\n",
    "grad_rates = grad_rates.apply(lambda x: x.astype(str).str.lower())\n",
    "season_2017 = season_2017.apply(lambda x: x.astype(str).str.lower())\n",
    "\n",
    "# column names to lowercase\n",
    "coaches.columns = coaches.columns.str.lower()\n",
    "stadium.columns = stadium.columns.str.lower()\n",
    "grad_rates.columns = grad_rates.columns.str.lower()\n",
    "season_2017.columns = season_2017.columns.str.lower()\n",
    "\n",
    "# remove non-numeric to empty space\n",
    "coaches[coaches_numerical] = coaches[coaches_numerical].replace('[\\$,--]', '', regex=True)\n",
    "\n",
    "# convert column name: allows dataframe merge\n",
    "stadium = stadium.rename(columns={'team': 'school'})\n",
    "\n",
    "# coerce monetary to numeric\n",
    "stadium[stadium_numerical] = stadium[stadium_numerical].apply(\n",
    "    pd.to_numeric,\n",
    "    errors='coerce',\n",
    "    axis=1\n",
    ").fillna(0)\n",
    "\n",
    "# coerce monetary to numeric\n",
    "coaches[coaches_numerical] = coaches[coaches_numerical].apply(\n",
    "    pd.to_numeric,\n",
    "    errors='coerce',\n",
    "    axis=1\n",
    ").fillna(0)\n",
    "\n",
    "# coerce graduation rate to numeric\n",
    "grad_rates[grad_numerical] = grad_rates[grad_numerical].apply(\n",
    "    pd.to_numeric,\n",
    "    errors='coerce',\n",
    "    axis=1\n",
    ").fillna(0)\n",
    "\n",
    "# coerce season rate to numeric\n",
    "season_2017[season_numerical] = season_2017[season_numerical].apply(\n",
    "    pd.to_numeric,\n",
    "    errors='coerce',\n",
    "    axis=1\n",
    ").fillna(0)"
   ]
  },
  {
   "cell_type": "code",
   "execution_count": 376,
   "metadata": {},
   "outputs": [],
   "source": [
    "# stadium only columns\n",
    "stadium = stadium[['stadium', 'school'] + stadium_numerical]\n",
    "\n",
    "# replace acronym with school name\n",
    "stadium['school'] = stadium['school'].replace(['ucf'], 'central florida')\n",
    "stadium['school'] = stadium['school'].replace(['usf'], 'south florida')\n",
    "stadium['school'] = stadium['school'].replace(['utsa'], 'texas-san antonio')\n",
    "stadium['school'] = stadium['school'].replace(['byu'], 'brigham young')\n",
    "stadium['school'] = stadium['school'].replace(['utep'], 'texas-el paso')\n",
    "stadium['school'] = stadium['school'].replace(['tcu'], 'texas christian')\n",
    "stadium['school'] = stadium['school'].replace(['unlv'], 'nevada-las vegas')\n",
    "stadium['school'] = stadium['school'].replace(['smu'], 'southern methodist')\n",
    "stadium['school'] = stadium['school'].replace(['niu'], 'northern illinois')\n",
    "stadium['school'] = stadium['school'].replace(['miami (oh)'], 'miami (ohio)')\n",
    "stadium['school'] = stadium['school'].replace(['fiu'], 'florida international')\n",
    "stadium['school'] = stadium['school'].replace(['umass'], 'massachusetts')\n",
    "stadium['school'] = stadium['school'].replace(['yale bulldogs'], 'connecticut')\n",
    "\n",
    "#\n",
    "# stadium pre 2007: attraining stadium data after 2006, will not\n",
    "#      join with the grad_rates dataframe, since the 2006 cohort\n",
    "#      is the focus.\n",
    "#\n",
    "stadium = stadium[stadium['expanded'] <= 2006]"
   ]
  },
  {
   "cell_type": "code",
   "execution_count": 422,
   "metadata": {},
   "outputs": [],
   "source": [
    "# merge coaches + stadium\n",
    "merged_df = pd.merge(coaches, stadium, on='school', how='inner')\n",
    "\n",
    "# merge graduation rates\n",
    "merged_df = pd.merge(merged_df, grad_rates, on='school', how='inner')\n",
    "\n",
    "# merge 2017 season\n",
    "merged_df = pd.merge(merged_df, season_2017, on='school', how='inner')"
   ]
  },
  {
   "cell_type": "code",
   "execution_count": 423,
   "metadata": {},
   "outputs": [],
   "source": [
    "# local variables\n",
    "lin_reg = linear_model.LinearRegression()\n",
    "\n",
    "# split train + test\n",
    "train, test = train_test_split(merged_df, test_size=0.33)\n",
    "\n",
    "#\n",
    "# train model\n",
    "#\n",
    "y_train = train[['schoolpay']]\n",
    "X_train = train[['capacity', 'gsr', 'pct']]\n",
    "lin_reg.fit(X_train, y_train)\n",
    "\n",
    "#\n",
    "# predict\n",
    "#\n",
    "y_test = test[['schoolpay']]\n",
    "X_test = test[['capacity', 'gsr', 'pct']]\n",
    "y_pred = lin_reg.predict(X_test)"
   ]
  },
  {
   "cell_type": "code",
   "execution_count": 424,
   "metadata": {},
   "outputs": [
    {
     "data": {
      "text/plain": [
       "array([[1820960.22815604]])"
      ]
     },
     "execution_count": 424,
     "metadata": {},
     "output_type": "execute_result"
    }
   ],
   "source": [
    "# predict syracuse salary\n",
    "target = merged_df[merged_df['school'] == 'syracuse']\n",
    "lin_reg.predict(target[['capacity', 'gsr', 'pct']])"
   ]
  },
  {
   "cell_type": "code",
   "execution_count": 425,
   "metadata": {},
   "outputs": [
    {
     "data": {
      "text/plain": [
       "[<matplotlib.lines.Line2D at 0x2af3828edd8>]"
      ]
     },
     "execution_count": 425,
     "metadata": {},
     "output_type": "execute_result"
    },
    {
     "data": {
      "image/png": "[encoded data removed]",
      "text/plain": [
       "<Figure size 432x288 with 1 Axes>"
      ]
     },
     "metadata": {
      "needs_background": "light"
     },
     "output_type": "display_data"
    }
   ],
   "source": [
    "# prediction vs actual data\n",
    "plt.plot(y_test, y_pred, '.')"
   ]
  },
  {
   "cell_type": "code",
   "execution_count": 426,
   "metadata": {},
   "outputs": [
    {
     "name": "stdout",
     "output_type": "stream",
     "text": [
      "model coefficients: [[ 5.70014061e+01 -2.14914844e+03  1.27816351e+06]]\n",
      "model intercept: [-1246929.09171447]\n",
      "mean squared error: 1446179963801.0527\n",
      "rsquared: 0.5127873936365184\n"
     ]
    }
   ],
   "source": [
    "print('model coefficients: {}\\nmodel intercept: {}\\nmean squared error: {}\\nrsquared: {}'.format(\n",
    "    lin_reg.coef_,\n",
    "    lin_reg.intercept_,\n",
    "    mean_squared_error(y_test, y_pred),\n",
    "    r2_score(y_test, y_pred)\n",
    "))"
   ]
  },
  {
   "cell_type": "code",
   "execution_count": 432,
   "metadata": {},
   "outputs": [
    {
     "name": "stdout",
     "output_type": "stream",
     "text": [
      "                            OLS Regression Results                            \n",
      "==============================================================================\n",
      "Dep. Variable:              schoolpay   R-squared:                       0.814\n",
      "Model:                            OLS   Adj. R-squared:                  0.804\n",
      "Method:                 Least Squares   F-statistic:                     78.90\n",
      "Date:                Sun, 28 Oct 2018   Prob (F-statistic):           9.84e-20\n",
      "Time:                        01:15:30   Log-Likelihood:                -876.87\n",
      "No. Observations:                  57   AIC:                             1760.\n",
      "Df Residuals:                      54   BIC:                             1766.\n",
      "Df Model:                           3                                         \n",
      "Covariance Type:            nonrobust                                         \n",
      "==============================================================================\n",
      "                 coef    std err          t      P>|t|      [0.025      0.975]\n",
      "------------------------------------------------------------------------------\n",
      "capacity      53.6009      7.966      6.729      0.000      37.630      69.572\n",
      "gsr        -1.436e+04   6615.861     -2.171      0.034   -2.76e+04   -1098.499\n",
      "pct         9.094e+05   6.66e+05      1.365      0.178   -4.26e+05    2.24e+06\n",
      "==============================================================================\n",
      "Omnibus:                        0.365   Durbin-Watson:                   2.424\n",
      "Prob(Omnibus):                  0.833   Jarque-Bera (JB):                0.050\n",
      "Skew:                           0.048   Prob(JB):                        0.976\n",
      "Kurtosis:                       3.109   Cond. No.                     2.26e+05\n",
      "==============================================================================\n",
      "\n",
      "Warnings:\n",
      "[1] Standard Errors assume that the covariance matrix of the errors is correctly specified.\n",
      "[2] The condition number is large, 2.26e+05. This might indicate that there are\n",
      "strong multicollinearity or other numerical problems.\n"
     ]
    }
   ],
   "source": [
    "# train ols\n",
    "est = sm.OLS(y_train, X_train)\n",
    "ols_reg = est.fit()\n",
    "print(ols_reg.summary())"
   ]
  },
  {
   "cell_type": "code",
   "execution_count": 433,
   "metadata": {},
   "outputs": [
    {
     "data": {
      "text/plain": [
       "[<matplotlib.lines.Line2D at 0x2af382fbf60>]"
      ]
     },
     "execution_count": 433,
     "metadata": {},
     "output_type": "execute_result"
    },
    {
     "data": {
      "image/png": "[encoded data removed]",
      "text/plain": [
       "<Figure size 432x288 with 1 Axes>"
      ]
     },
     "metadata": {
      "needs_background": "light"
     },
     "output_type": "display_data"
    }
   ],
   "source": [
    "# plot ols\n",
    "ols_pred = ols_reg.predict(X_test)\n",
    "plt.plot(y_test, ols_pred, '.')"
   ]
  },
  {
   "cell_type": "code",
   "execution_count": 436,
   "metadata": {},
   "outputs": [
    {
     "data": {
      "text/plain": [
       "68    1.837076e+06\n",
       "dtype: float64"
      ]
     },
     "execution_count": 436,
     "metadata": {},
     "output_type": "execute_result"
    }
   ],
   "source": [
    "# predict ols\n",
    "ols_reg.predict(target[['capacity', 'gsr', 'pct']])"
   ]
  },
  {
   "cell_type": "code",
   "execution_count": 448,
   "metadata": {},
   "outputs": [],
   "source": [
    "# big 10: split train + test\n",
    "train_big10, test_big_10 = train_test_split(merged_df[merged_df['conference'] == 'big ten'], test_size=0.33)\n",
    "\n",
    "#\n",
    "# big 10: train model\n",
    "#\n",
    "y_train_big10 = train_big10[['schoolpay']]\n",
    "X_train_big10 = train_big10[['capacity', 'gsr', 'pct']]"
   ]
  },
  {
   "cell_type": "code",
   "execution_count": 449,
   "metadata": {},
   "outputs": [
    {
     "name": "stdout",
     "output_type": "stream",
     "text": [
      "                            OLS Regression Results                            \n",
      "==============================================================================\n",
      "Dep. Variable:              schoolpay   R-squared:                       0.992\n",
      "Model:                            OLS   Adj. R-squared:                  0.969\n",
      "Method:                 Least Squares   F-statistic:                     42.15\n",
      "Date:                Sun, 28 Oct 2018   Prob (F-statistic):              0.113\n",
      "Time:                        01:41:52   Log-Likelihood:                -56.963\n",
      "No. Observations:                   4   AIC:                             119.9\n",
      "Df Residuals:                       1   BIC:                             118.1\n",
      "Df Model:                           3                                         \n",
      "Covariance Type:            nonrobust                                         \n",
      "==============================================================================\n",
      "                 coef    std err          t      P>|t|      [0.025      0.975]\n",
      "------------------------------------------------------------------------------\n",
      "capacity      21.0401     21.313      0.987      0.504    -249.763     291.843\n",
      "gsr         2.861e+04   5.64e+04      0.508      0.701   -6.88e+05    7.45e+05\n",
      "pct          5.94e+05   6.84e+06      0.087      0.945   -8.63e+07    8.75e+07\n",
      "==============================================================================\n",
      "Omnibus:                          nan   Durbin-Watson:                   1.994\n",
      "Prob(Omnibus):                    nan   Jarque-Bera (JB):                0.607\n",
      "Skew:                          -0.004   Prob(JB):                        0.738\n",
      "Kurtosis:                       1.092   Cond. No.                     1.38e+06\n",
      "==============================================================================\n",
      "\n",
      "Warnings:\n",
      "[1] Standard Errors assume that the covariance matrix of the errors is correctly specified.\n",
      "[2] The condition number is large, 1.38e+06. This might indicate that there are\n",
      "strong multicollinearity or other numerical problems.\n"
     ]
    },
    {
     "name": "stderr",
     "output_type": "stream",
     "text": [
      "C:\\Users\\jeff1\\Anaconda3\\lib\\site-packages\\statsmodels\\stats\\stattools.py:72: ValueWarning: omni_normtest is not valid with less than 8 observations; 4 samples were given.\n",
      "  \"samples were given.\" % int(n), ValueWarning)\n"
     ]
    }
   ],
   "source": [
    "# big 10: train ols\n",
    "\n",
    "est_big10 = sm.OLS(y_train_big10, X_train_big10)\n",
    "ols_reg_big10 = est_big10.fit()\n",
    "print(ols_reg_big10.summary())"
   ]
  },
  {
   "cell_type": "code",
   "execution_count": 450,
   "metadata": {},
   "outputs": [
    {
     "data": {
      "text/plain": [
       "68    3.437561e+06\n",
       "dtype: float64"
      ]
     },
     "execution_count": 450,
     "metadata": {},
     "output_type": "execute_result"
    }
   ],
   "source": [
    "# big 10: predict ols\n",
    "ols_reg_big10.predict(target[['capacity', 'gsr', 'pct']])"
   ]
  },
  {
   "cell_type": "code",
   "execution_count": 458,
   "metadata": {},
   "outputs": [
    {
     "name": "stdout",
     "output_type": "stream",
     "text": [
      "0\n"
     ]
    }
   ],
   "source": [
    "print(len(y_train[y_train['schoolpay'] == 0]))"
   ]
  }
 ],
 "metadata": {
  "kernelspec": {
   "display_name": "Python 3",
   "language": "python",
   "name": "python3"
  },
  "language_info": {
   "codemirror_mode": {
    "name": "ipython",
    "version": 3
   },
   "file_extension": ".py",
   "mimetype": "text/x-python",
   "name": "python",
   "nbconvert_exporter": "python",
   "pygments_lexer": "ipython3",
   "version": "3.7.0"
  }
 },
 "nbformat": 4,
 "nbformat_minor": 2
}
