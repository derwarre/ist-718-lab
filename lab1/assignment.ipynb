{
 "cells": [
  {
   "cell_type": "code",
   "execution_count": 3,
   "metadata": {},
   "outputs": [],
   "source": [
    "import csv"
   ]
  },
  {
   "cell_type": "code",
   "execution_count": 9,
   "metadata": {},
   "outputs": [],
   "source": [
    "# read datast(s)\n",
    "with open('../data/Coaches.csv', 'rb') as f:\n",
    "    coaches = csv.reader(f)\n",
    "\n",
    "with open('../data/Stadium.csv', 'rb') as f:\n",
    "    stadium = csv.reader(f)\n",
    "\n",
    "with open('../data/2018RES_File1-DI-NationalAggregation-OverallSA_Cohort9510_v1_20180213.csv', 'rb') as f:\n",
    "    combined = csv.reader(f)\n",
    "\n",
    "with open('../data/2018RES_File2-DI-NationalAggregation-SAgenderrace_Cohort9510_v1_20180213.csv', 'rb') as f:\n",
    "    athletes_only = csv.reader(f)\n",
    "\n",
    "with open('../data/2018RES_File3-DI-NationalAggregation-SB_Coh9510_v1_20180213.csv', 'rb') as f:\n",
    "    students_only = csv.reader(f)"
   ]
  },
  {
   "cell_type": "code",
   "execution_count": 5,
   "metadata": {},
   "outputs": [
    {
     "name": "stdout",
     "output_type": "stream",
     "text": [
      "<_csv.reader object at 0x000002AF3216E8D0>\n"
     ]
    }
   ],
   "source": [
    "print(coaches)"
   ]
  },
  {
   "cell_type": "code",
   "execution_count": null,
   "metadata": {},
   "outputs": [],
   "source": []
  }
 ],
 "metadata": {
  "kernelspec": {
   "display_name": "Python 3",
   "language": "python",
   "name": "python3"
  }
 },
 "nbformat": 4,
 "nbformat_minor": 2
}
