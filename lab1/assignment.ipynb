{
 "cells": [
  {
   "cell_type": "code",
   "execution_count": 172,
   "metadata": {},
   "outputs": [],
   "source": [
    "import pandas as pd"
   ]
  },
  {
   "cell_type": "code",
   "execution_count": 173,
   "metadata": {
    "scrolled": true
   },
   "outputs": [],
   "source": [
    "# read datast(s)\n",
    "with open('../data/Coaches.csv', 'rb') as f:\n",
    "    coaches = pd.read_csv(f).fillna(0)\n",
    "\n",
    "with open('../data/stadiums-geocoded.csv', 'rb') as f:\n",
    "    stadium = pd.read_csv(f).fillna(0)\n",
    "\n",
    "with open('../data/graduation-rates.csv', 'rb') as f:\n",
    "    grad_rates = pd.read_csv(f).fillna(0)\n",
    "\n",
    "with open('../data/2017-season.csv', 'rb') as f:\n",
    "    season_2017 = pd.read_csv(f).fillna(0)"
   ]
  },
  {
   "cell_type": "code",
   "execution_count": 174,
   "metadata": {},
   "outputs": [],
   "source": [
    "# define monetary columns\n",
    "monetary_columns = [\n",
    "    'SchoolPay',\n",
    "    'TotalPay',\n",
    "    'Bonus',\n",
    "    'BonusPaid',\n",
    "    'AssistantPay',\n",
    "    'Buyout'\n",
    "]\n",
    "\n",
    "# convert lowercase\n",
    "coaches = coaches.apply(lambda x: x.astype(str).str.lower())\n",
    "stadium = stadium.apply(lambda x: x.astype(str).str.lower())\n",
    "grad_rates = grad_rates.apply(lambda x: x.astype(str).str.lower())\n",
    "season_2017 = season_2017.apply(lambda x: x.astype(str).str.lower())\n",
    "\n",
    "# remove non-numeric to empty space\n",
    "coaches[monetary_columns] = coaches[monetary_columns].replace('[\\$,--]', '', regex=True)\n",
    "\n",
    "# coerce monetary to numeric\n",
    "coaches[monetary_columns] = coaches[monetary_columns].apply(pd.to_numeric, errors='coerce', axis=1).fillna(0)\n",
    "\n",
    "# column names to lowercase\n",
    "coaches.columns = coaches.columns.str.lower()\n",
    "stadium.columns = stadium.columns.str.lower()\n",
    "grad_rates.columns = grad_rates.columns.str.lower()\n",
    "season_2017.columns = season_2017.columns.str.lower()"
   ]
  },
  {
   "cell_type": "code",
   "execution_count": 175,
   "metadata": {},
   "outputs": [
    {
     "ename": "ValueError",
     "evalue": "can not merge DataFrame with instance of type <class 'pandas.core.indexes.base.Index'>",
     "output_type": "error",
     "traceback": [
      "\u001b[1;31m---------------------------------------------------------------------------\u001b[0m",
      "\u001b[1;31mValueError\u001b[0m                                Traceback (most recent call last)",
      "\u001b[1;32m<ipython-input-175-dca43cb6eed3>\u001b[0m in \u001b[0;36m<module>\u001b[1;34m()\u001b[0m\n\u001b[0;32m     28\u001b[0m \u001b[1;33m\u001b[0m\u001b[0m\n\u001b[0;32m     29\u001b[0m \u001b[1;31m# merge 2017 season\u001b[0m\u001b[1;33m\u001b[0m\u001b[1;33m\u001b[0m\u001b[0m\n\u001b[1;32m---> 30\u001b[1;33m \u001b[0mmerged_df\u001b[0m \u001b[1;33m=\u001b[0m \u001b[0mpd\u001b[0m\u001b[1;33m.\u001b[0m\u001b[0mmerge\u001b[0m\u001b[1;33m(\u001b[0m\u001b[0mmerged_df\u001b[0m\u001b[1;33m,\u001b[0m \u001b[0mseason_2017\u001b[0m\u001b[1;33m,\u001b[0m \u001b[0mon\u001b[0m\u001b[1;33m=\u001b[0m\u001b[1;34m'school'\u001b[0m\u001b[1;33m,\u001b[0m \u001b[0mhow\u001b[0m\u001b[1;33m=\u001b[0m\u001b[1;34m'inner'\u001b[0m\u001b[1;33m)\u001b[0m\u001b[1;33m\u001b[0m\u001b[0m\n\u001b[0m",
      "\u001b[1;32m~\\Anaconda3\\lib\\site-packages\\pandas\\core\\reshape\\merge.py\u001b[0m in \u001b[0;36mmerge\u001b[1;34m(left, right, how, on, left_on, right_on, left_index, right_index, sort, suffixes, copy, indicator, validate)\u001b[0m\n\u001b[0;32m     59\u001b[0m                          \u001b[0mright_index\u001b[0m\u001b[1;33m=\u001b[0m\u001b[0mright_index\u001b[0m\u001b[1;33m,\u001b[0m \u001b[0msort\u001b[0m\u001b[1;33m=\u001b[0m\u001b[0msort\u001b[0m\u001b[1;33m,\u001b[0m \u001b[0msuffixes\u001b[0m\u001b[1;33m=\u001b[0m\u001b[0msuffixes\u001b[0m\u001b[1;33m,\u001b[0m\u001b[1;33m\u001b[0m\u001b[0m\n\u001b[0;32m     60\u001b[0m                          \u001b[0mcopy\u001b[0m\u001b[1;33m=\u001b[0m\u001b[0mcopy\u001b[0m\u001b[1;33m,\u001b[0m \u001b[0mindicator\u001b[0m\u001b[1;33m=\u001b[0m\u001b[0mindicator\u001b[0m\u001b[1;33m,\u001b[0m\u001b[1;33m\u001b[0m\u001b[0m\n\u001b[1;32m---> 61\u001b[1;33m                          validate=validate)\n\u001b[0m\u001b[0;32m     62\u001b[0m     \u001b[1;32mreturn\u001b[0m \u001b[0mop\u001b[0m\u001b[1;33m.\u001b[0m\u001b[0mget_result\u001b[0m\u001b[1;33m(\u001b[0m\u001b[1;33m)\u001b[0m\u001b[1;33m\u001b[0m\u001b[0m\n\u001b[0;32m     63\u001b[0m \u001b[1;33m\u001b[0m\u001b[0m\n",
      "\u001b[1;32m~\\Anaconda3\\lib\\site-packages\\pandas\\core\\reshape\\merge.py\u001b[0m in \u001b[0;36m__init__\u001b[1;34m(self, left, right, how, on, left_on, right_on, axis, left_index, right_index, sort, suffixes, copy, indicator, validate)\u001b[0m\n\u001b[0;32m    525\u001b[0m         \u001b[1;32mif\u001b[0m \u001b[1;32mnot\u001b[0m \u001b[0misinstance\u001b[0m\u001b[1;33m(\u001b[0m\u001b[0mright\u001b[0m\u001b[1;33m,\u001b[0m \u001b[0mDataFrame\u001b[0m\u001b[1;33m)\u001b[0m\u001b[1;33m:\u001b[0m\u001b[1;33m\u001b[0m\u001b[0m\n\u001b[0;32m    526\u001b[0m             raise ValueError('can not merge DataFrame with instance of '\n\u001b[1;32m--> 527\u001b[1;33m                              'type {right}'.format(right=type(right)))\n\u001b[0m\u001b[0;32m    528\u001b[0m \u001b[1;33m\u001b[0m\u001b[0m\n\u001b[0;32m    529\u001b[0m         \u001b[1;32mif\u001b[0m \u001b[1;32mnot\u001b[0m \u001b[0mis_bool\u001b[0m\u001b[1;33m(\u001b[0m\u001b[0mleft_index\u001b[0m\u001b[1;33m)\u001b[0m\u001b[1;33m:\u001b[0m\u001b[1;33m\u001b[0m\u001b[0m\n",
      "\u001b[1;31mValueError\u001b[0m: can not merge DataFrame with instance of type <class 'pandas.core.indexes.base.Index'>"
     ]
    }
   ],
   "source": [
    "# convert column name: allows dataframe merge\n",
    "stadium = stadium.rename(columns={'team': 'school'})\n",
    "\n",
    "# stadium only columns\n",
    "stadium = stadium[['stadium', 'school', 'capacity', 'built', 'expanded']]\n",
    "\n",
    "# replace acronym with school name\n",
    "stadium['school'].replace(['ucf'], 'central florida')\n",
    "stadium['school'].replace(['usf'], 'south florida')\n",
    "stadium['school'].replace(['utsa'], 'texas-san antonio')\n",
    "stadium['school'].replace(['byu'], 'brigham young')\n",
    "stadium['school'].replace(['utep'], 'texas-el paso')\n",
    "stadium['school'].replace(['ucf'], 'central florida')\n",
    "stadium['school'].replace(['tcu'], 'texas christian')\n",
    "stadium['school'].replace(['unlv'], 'nevada-las vegas')\n",
    "stadium['school'].replace(['smu'], 'southern methodist')\n",
    "stadium['school'].replace(['niu'], 'northern illinois')\n",
    "stadium['school'].replace(['miami (oh)'], 'miami (ohio)')\n",
    "stadium['school'].replace(['fiu'], 'florida international')\n",
    "stadium['school'].replace(['umass'], 'massachusetts')\n",
    "stadium['school'].replace(['yale bulldogs'], 'connecticut')\n",
    "\n",
    "# merge coaches + stadium\n",
    "merged_df = pd.merge(coaches, stadium, on='school', how='inner')\n",
    "\n",
    "# merge graduation rates\n",
    "merged_df = pd.merge(merged_df, grad_rates, on='school', how='inner')\n",
    "\n",
    "# merge 2017 season\n",
    "merged_df = pd.merge(merged_df, season_2017, on='school', how='inner')"
   ]
  },
  {
   "cell_type": "code",
   "execution_count": 176,
   "metadata": {},
   "outputs": [
    {
     "name": "stdout",
     "output_type": "stream",
     "text": [
      "Index(['school', 'win', 'loss', 'pct'], dtype='object')\n"
     ]
    }
   ],
   "source": []
  },
  {
   "cell_type": "code",
   "execution_count": null,
   "metadata": {},
   "outputs": [],
   "source": []
  },
  {
   "cell_type": "code",
   "execution_count": null,
   "metadata": {},
   "outputs": [],
   "source": []
  },
  {
   "cell_type": "code",
   "execution_count": null,
   "metadata": {},
   "outputs": [],
   "source": []
  }
 ],
 "metadata": {
  "kernelspec": {
   "display_name": "Python 3",
   "language": "python",
   "name": "python3"
  },
  "language_info": {
   "codemirror_mode": {
    "name": "ipython",
    "version": 3
   },
   "file_extension": ".py",
   "mimetype": "text/x-python",
   "name": "python",
   "nbconvert_exporter": "python",
   "pygments_lexer": "ipython3",
   "version": "3.7.0"
  }
 },
 "nbformat": 4,
 "nbformat_minor": 2
}
