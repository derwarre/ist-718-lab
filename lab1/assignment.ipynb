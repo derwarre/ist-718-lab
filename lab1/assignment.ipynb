{
 "cells": [
  {
   "cell_type": "code",
   "execution_count": 11,
   "metadata": {},
   "outputs": [],
   "source": [
    "import pandas as pd"
   ]
  },
  {
   "cell_type": "code",
   "execution_count": 39,
   "metadata": {},
   "outputs": [],
   "source": [
    "# read datast(s)\n",
    "with open('../data/Coaches.csv', 'rb') as f:\n",
    "    coaches = pd.read_csv(f).fillna(0)\n",
    "\n",
    "with open('../data/Stadium.csv', 'rb') as f:\n",
    "    stadium = pd.read_csv(f).fillna(0)\n",
    "\n",
    "with open('../data/2018RES_File1-DI-NationalAggregation-OverallSA_Cohort9510_v1_20180213.csv', 'rb') as f:\n",
    "    combined = pd.read_csv(f).fillna(0)\n",
    "\n",
    "with open('../data/2018RES_File2-DI-NationalAggregation-SAgenderrace_Cohort9510_v1_20180213.csv', 'rb') as f:\n",
    "    athletes_only = pd.read_csv(f).fillna(0)\n",
    "\n",
    "with open('../data/2018RES_File3-DI-NationalAggregation-SB_Coh9510_v1_20180213.csv', 'rb') as f:\n",
    "    students_only = pd.read_csv(f).fillna(0)"
   ]
  },
  {
   "cell_type": "code",
   "execution_count": 43,
   "metadata": {},
   "outputs": [],
   "source": [
    "# define monetary columns\n",
    "monetary_columns = [\n",
    "    'SchoolPay',\n",
    "    'TotalPay',\n",
    "    'Bonus',\n",
    "    'BonusPaid',\n",
    "    'AssistantPay',\n",
    "    'Buyout'\n",
    "]\n",
    "\n",
    "# remove non-numeric to empty space\n",
    "coaches[monetary_columns] = coaches[monetary_columns].replace('[\\$,--]', '', regex=True)\n",
    "\n",
    "# coerce monetary to numerice\n",
    "coaches[monetary_columns] = coaches[monetary_columns].apply(pd.to_numeric, errors='coerce', axis=1).fillna(0)"
   ]
  },
  {
   "cell_type": "code",
   "execution_count": null,
   "metadata": {},
   "outputs": [],
   "source": []
  }
 ],
 "metadata": {
  "kernelspec": {
   "display_name": "Python 3",
   "language": "python",
   "name": "python3"
  }
 },
 "nbformat": 4,
 "nbformat_minor": 2
}
