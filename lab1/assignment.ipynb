{
 "cells": [
  {
   "cell_type": "code",
   "execution_count": 150,
   "metadata": {},
   "outputs": [],
   "source": [
    "import pandas as pd"
   ]
  },
  {
   "cell_type": "code",
   "execution_count": 164,
   "metadata": {
    "scrolled": true
   },
   "outputs": [],
   "source": [
    "# read datast(s)\n",
    "with open('../data/Coaches.csv', 'rb') as f:\n",
    "    coaches = pd.read_csv(f).fillna(0)\n",
    "\n",
    "with open('../data/stadiums-geocoded.csv', 'rb') as f:\n",
    "    stadium = pd.read_csv(f).fillna(0)\n",
    "\n",
    "with open('../data/graduation-rates.csv', 'rb') as f:\n",
    "    grad_rates = pd.read_csv(f).fillna(0)"
   ]
  },
  {
   "cell_type": "code",
   "execution_count": 165,
   "metadata": {},
   "outputs": [],
   "source": [
    "# define monetary columns\n",
    "monetary_columns = [\n",
    "    'SchoolPay',\n",
    "    'TotalPay',\n",
    "    'Bonus',\n",
    "    'BonusPaid',\n",
    "    'AssistantPay',\n",
    "    'Buyout'\n",
    "]\n",
    "\n",
    "# convert lowercase\n",
    "coaches = coaches.apply(lambda x: x.astype(str).str.lower())\n",
    "stadium = stadium.apply(lambda x: x.astype(str).str.lower())\n",
    "grad_rates = grad_rates.apply(lambda x: x.astype(str).str.lower())\n",
    "\n",
    "# remove non-numeric to empty space\n",
    "coaches[monetary_columns] = coaches[monetary_columns].replace('[\\$,--]', '', regex=True)\n",
    "\n",
    "# coerce monetary to numeric\n",
    "coaches[monetary_columns] = coaches[monetary_columns].apply(pd.to_numeric, errors='coerce', axis=1).fillna(0)\n",
    "\n",
    "# column names to lowercase\n",
    "coaches.columns = coaches.columns.str.lower()\n",
    "stadium.columns = stadium.columns.str.lower()\n",
    "grad_rates.columns = grad_rates.columns.str.lower()"
   ]
  },
  {
   "cell_type": "code",
   "execution_count": 166,
   "metadata": {},
   "outputs": [],
   "source": [
    "# convert column name: allows dataframe merge\n",
    "stadium = stadium.rename(columns={'team': 'school'})\n",
    "\n",
    "# stadium only columns\n",
    "stadium = stadium[['stadium', 'school', 'capacity', 'built', 'expanded']]\n",
    "\n",
    "# replace acronym with school name\n",
    "stadium['school'].replace(['ucf'], 'central florida')\n",
    "stadium['school'].replace(['usf'], 'south florida')\n",
    "stadium['school'].replace(['utsa'], 'texas-san antonio')\n",
    "stadium['school'].replace(['byu'], 'brigham young')\n",
    "stadium['school'].replace(['utep'], 'texas-el paso')\n",
    "stadium['school'].replace(['ucf'], 'central florida')\n",
    "stadium['school'].replace(['tcu'], 'texas christian')\n",
    "stadium['school'].replace(['unlv'], 'nevada-las vegas')\n",
    "stadium['school'].replace(['smu'], 'southern methodist')\n",
    "stadium['school'].replace(['niu'], 'northern illinois')\n",
    "stadium['school'].replace(['miami (oh)'], 'miami (ohio)')\n",
    "stadium['school'].replace(['fiu'], 'florida international')\n",
    "stadium['school'].replace(['umass'], 'massachusetts')\n",
    "stadium['school'].replace(['yale bulldogs'], 'connecticut')\n",
    "\n",
    "# merge coaches + stadium\n",
    "merged_df = pd.merge(coaches, stadium, on='school', how='inner')"
   ]
  },
  {
   "cell_type": "code",
   "execution_count": 169,
   "metadata": {},
   "outputs": [],
   "source": [
    "# merge graduation rates\n",
    "merged_df = pd.merge(merged_df, grad_rates, on='school', how='inner')"
   ]
  },
  {
   "cell_type": "code",
   "execution_count": null,
   "metadata": {},
   "outputs": [],
   "source": []
  },
  {
   "cell_type": "code",
   "execution_count": null,
   "metadata": {},
   "outputs": [],
   "source": []
  },
  {
   "cell_type": "code",
   "execution_count": null,
   "metadata": {},
   "outputs": [],
   "source": []
  }
 ],
 "metadata": {
  "kernelspec": {
   "display_name": "Python 3",
   "language": "python",
   "name": "python3"
  },
  "language_info": {
   "codemirror_mode": {
    "name": "ipython",
    "version": 3
   },
   "file_extension": ".py",
   "mimetype": "text/x-python",
   "name": "python",
   "nbconvert_exporter": "python",
   "pygments_lexer": "ipython3",
   "version": "3.7.0"
  }
 },
 "nbformat": 4,
 "nbformat_minor": 2
}
