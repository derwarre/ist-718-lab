{
 "cells": [
  {
   "cell_type": "code",
   "execution_count": 388,
   "metadata": {},
   "outputs": [],
   "source": [
    "import pandas as pd\n",
    "from sklearn import linear_model\n",
    "from sklearn.model_selection import train_test_split\n",
    "from sklearn.metrics import mean_squared_error\n",
    "from sklearn.metrics import r2_score\n",
    "import statsmodels.api as sm\n",
    "import matplotlib.pyplot as plt"
   ]
  },
  {
   "cell_type": "code",
   "execution_count": 374,
   "metadata": {
    "scrolled": true
   },
   "outputs": [],
   "source": [
    "# read datast(s)\n",
    "with open('../data/Coaches.csv', 'rb') as f:\n",
    "    coaches = pd.read_csv(f).fillna(0)\n",
    "\n",
    "with open('../data/stadiums-geocoded.csv', 'rb') as f:\n",
    "    stadium = pd.read_csv(f).fillna(0)\n",
    "\n",
    "with open('../data/graduation-rates.csv', 'rb') as f:\n",
    "    grad_rates = pd.read_csv(f).fillna(0)\n",
    "\n",
    "with open('../data/2017-season.csv', 'rb') as f:\n",
    "    season_2017 = pd.read_csv(f).fillna(0)"
   ]
  },
  {
   "cell_type": "code",
   "execution_count": 375,
   "metadata": {},
   "outputs": [],
   "source": [
    "# numerical columns\n",
    "stadium_numerical = ['capacity', 'built', 'expanded']\n",
    "grad_numerical = ['gsr', 'fgr']\n",
    "season_numerical = ['win', 'loss', 'pct']\n",
    "coaches_numerical = [\n",
    "    'schoolpay',\n",
    "    'totalpay',\n",
    "    'bonus',\n",
    "    'bonuspaid',\n",
    "    'assistantpay',\n",
    "    'buyout'\n",
    "]\n",
    "\n",
    "# convert lowercase\n",
    "coaches = coaches.apply(lambda x: x.astype(str).str.lower())\n",
    "stadium = stadium.apply(lambda x: x.astype(str).str.lower())\n",
    "grad_rates = grad_rates.apply(lambda x: x.astype(str).str.lower())\n",
    "season_2017 = season_2017.apply(lambda x: x.astype(str).str.lower())\n",
    "\n",
    "# column names to lowercase\n",
    "coaches.columns = coaches.columns.str.lower()\n",
    "stadium.columns = stadium.columns.str.lower()\n",
    "grad_rates.columns = grad_rates.columns.str.lower()\n",
    "season_2017.columns = season_2017.columns.str.lower()\n",
    "\n",
    "# remove non-numeric to empty space\n",
    "coaches[coaches_numerical] = coaches[coaches_numerical].replace('[\\$,--]', '', regex=True)\n",
    "\n",
    "# convert column name: allows dataframe merge\n",
    "stadium = stadium.rename(columns={'team': 'school'})\n",
    "\n",
    "# coerce monetary to numeric\n",
    "stadium[stadium_numerical] = stadium[stadium_numerical].apply(\n",
    "    pd.to_numeric,\n",
    "    errors='coerce',\n",
    "    axis=1\n",
    ").fillna(0)\n",
    "\n",
    "# coerce monetary to numeric\n",
    "coaches[coaches_numerical] = coaches[coaches_numerical].apply(\n",
    "    pd.to_numeric,\n",
    "    errors='coerce',\n",
    "    axis=1\n",
    ").fillna(0)\n",
    "\n",
    "# coerce graduation rate to numeric\n",
    "grad_rates[grad_numerical] = grad_rates[grad_numerical].apply(\n",
    "    pd.to_numeric,\n",
    "    errors='coerce',\n",
    "    axis=1\n",
    ").fillna(0)\n",
    "\n",
    "# coerce season rate to numeric\n",
    "season_2017[season_numerical] = season_2017[season_numerical].apply(\n",
    "    pd.to_numeric,\n",
    "    errors='coerce',\n",
    "    axis=1\n",
    ").fillna(0)"
   ]
  },
  {
   "cell_type": "code",
   "execution_count": 376,
   "metadata": {},
   "outputs": [],
   "source": [
    "# stadium only columns\n",
    "stadium = stadium[['stadium', 'school'] + stadium_numerical]\n",
    "\n",
    "# replace acronym with school name\n",
    "stadium['school'] = stadium['school'].replace(['ucf'], 'central florida')\n",
    "stadium['school'] = stadium['school'].replace(['usf'], 'south florida')\n",
    "stadium['school'] = stadium['school'].replace(['utsa'], 'texas-san antonio')\n",
    "stadium['school'] = stadium['school'].replace(['byu'], 'brigham young')\n",
    "stadium['school'] = stadium['school'].replace(['utep'], 'texas-el paso')\n",
    "stadium['school'] = stadium['school'].replace(['tcu'], 'texas christian')\n",
    "stadium['school'] = stadium['school'].replace(['unlv'], 'nevada-las vegas')\n",
    "stadium['school'] = stadium['school'].replace(['smu'], 'southern methodist')\n",
    "stadium['school'] = stadium['school'].replace(['niu'], 'northern illinois')\n",
    "stadium['school'] = stadium['school'].replace(['miami (oh)'], 'miami (ohio)')\n",
    "stadium['school'] = stadium['school'].replace(['fiu'], 'florida international')\n",
    "stadium['school'] = stadium['school'].replace(['umass'], 'massachusetts')\n",
    "stadium['school'] = stadium['school'].replace(['yale bulldogs'], 'connecticut')\n",
    "\n",
    "#\n",
    "# stadium pre 2007: attraining stadium data after 2006, will not\n",
    "#      join with the grad_rates dataframe, since the 2006 cohort\n",
    "#      is the focus.\n",
    "#\n",
    "stadium = stadium[stadium['expanded'] <= 2006]"
   ]
  },
  {
   "cell_type": "code",
   "execution_count": 377,
   "metadata": {},
   "outputs": [],
   "source": [
    "# merge coaches + stadium\n",
    "merged_df = pd.merge(coaches, stadium, on='school', how='inner')\n",
    "\n",
    "# merge graduation rates\n",
    "merged_df = pd.merge(merged_df, grad_rates, on='school', how='inner')\n",
    "\n",
    "# merge 2017 season\n",
    "merged_df = pd.merge(merged_df, season_2017, on='school', how='inner')"
   ]
  },
  {
   "cell_type": "code",
   "execution_count": 378,
   "metadata": {},
   "outputs": [],
   "source": [
    "# local variables\n",
    "lin_reg = linear_model.LinearRegression()\n",
    "\n",
    "# split train + test\n",
    "train, test = train_test_split(merged_df, test_size=0.33)\n",
    "\n",
    "#\n",
    "# train model\n",
    "#\n",
    "y_train = train[['schoolpay']]\n",
    "X_train = train[['capacity', 'gsr', 'fgr', 'win', 'loss', 'pct']]\n",
    "lin_reg.fit(X_train, y_train)\n",
    "\n",
    "#\n",
    "# predict\n",
    "#\n",
    "y_test = test[['schoolpay']]\n",
    "X_test = test[['capacity', 'gsr', 'fgr', 'win', 'loss', 'pct']]\n",
    "y_pred = lin_reg.predict(X_test)"
   ]
  },
  {
   "cell_type": "code",
   "execution_count": 379,
   "metadata": {},
   "outputs": [
    {
     "data": {
      "text/plain": [
       "array([[1727143.87246036]])"
      ]
     },
     "execution_count": 379,
     "metadata": {},
     "output_type": "execute_result"
    }
   ],
   "source": [
    "# predict syracuse salary\n",
    "target = merged_df[merged_df['school'] == 'syracuse']\n",
    "lin_reg.predict(target[['capacity', 'gsr', 'fgr', 'win', 'loss', 'pct']])"
   ]
  },
  {
   "cell_type": "code",
   "execution_count": 380,
   "metadata": {},
   "outputs": [
    {
     "data": {
      "text/plain": [
       "[<matplotlib.lines.Line2D at 0x2af380c4358>]"
      ]
     },
     "execution_count": 380,
     "metadata": {},
     "output_type": "execute_result"
    },
    {
     "data": {
      "image/png": "[encoded data removed]",
      "text/plain": [
       "<Figure size 432x288 with 1 Axes>"
      ]
     },
     "metadata": {
      "needs_background": "light"
     },
     "output_type": "display_data"
    }
   ],
   "source": [
    "# prediction vs actual data\n",
    "plt.plot(y_test, y_pred, '.')"
   ]
  },
  {
   "cell_type": "code",
   "execution_count": 389,
   "metadata": {},
   "outputs": [
    {
     "name": "stdout",
     "output_type": "stream",
     "text": [
      "model coefficients: [[ 4.05648618e+01 -5.52070896e+03  9.91727990e+03  7.40892358e+05\n",
      "  -5.56710664e+05 -1.41677205e+07]]\n",
      "model intercept: [5732402.49577009]\n",
      "mean squared error: 1353539764140.3342\n",
      " rsquared: 0.4658071841090238\n"
     ]
    }
   ],
   "source": [
    "print('model coefficients: {}\\nmodel intercept: {}\\nmean squared error: {}\\n rsquared: {}'.format(\n",
    "    lin_reg.coef_,\n",
    "    lin_reg.intercept_,\n",
    "    mean_squared_error(y_test, y_pred),\n",
    "    r2_score(y_test, y_pred)\n",
    "))"
   ]
  },
  {
   "cell_type": "code",
   "execution_count": 383,
   "metadata": {},
   "outputs": [
    {
     "name": "stdout",
     "output_type": "stream",
     "text": [
      "                            OLS Regression Results                            \n",
      "==============================================================================\n",
      "Dep. Variable:              schoolpay   R-squared:                       0.588\n",
      "Model:                            OLS   Adj. R-squared:                  0.538\n",
      "Method:                 Least Squares   F-statistic:                     11.88\n",
      "Date:                Sat, 27 Oct 2018   Prob (F-statistic):           3.08e-08\n",
      "Time:                        23:42:03   Log-Likelihood:                -875.22\n",
      "No. Observations:                  57   AIC:                             1764.\n",
      "Df Residuals:                      50   BIC:                             1779.\n",
      "Df Model:                           6                                         \n",
      "Covariance Type:            nonrobust                                         \n",
      "==============================================================================\n",
      "                 coef    std err          t      P>|t|      [0.025      0.975]\n",
      "------------------------------------------------------------------------------\n",
      "const       5.732e+06   4.13e+06      1.389      0.171   -2.55e+06     1.4e+07\n",
      "capacity      40.5649      9.461      4.288      0.000      21.562      59.567\n",
      "gsr        -5520.7090   1.59e+04     -0.346      0.731   -3.75e+04    2.65e+04\n",
      "fgr         9917.2799   1.53e+04      0.649      0.519   -2.08e+04    4.06e+04\n",
      "win         7.409e+05   2.65e+05      2.793      0.007    2.08e+05    1.27e+06\n",
      "loss       -5.567e+05   3.36e+05     -1.656      0.104   -1.23e+06    1.18e+05\n",
      "pct        -1.417e+07   6.61e+06     -2.144      0.037   -2.74e+07   -8.93e+05\n",
      "==============================================================================\n",
      "Omnibus:                        1.442   Durbin-Watson:                   2.474\n",
      "Prob(Omnibus):                  0.486   Jarque-Bera (JB):                1.213\n",
      "Skew:                          -0.167   Prob(JB):                        0.545\n",
      "Kurtosis:                       2.368   Cond. No.                     2.65e+06\n",
      "==============================================================================\n",
      "\n",
      "Warnings:\n",
      "[1] Standard Errors assume that the covariance matrix of the errors is correctly specified.\n",
      "[2] The condition number is large, 2.65e+06. This might indicate that there are\n",
      "strong multicollinearity or other numerical problems.\n"
     ]
    }
   ],
   "source": [
    "X2 = sm.add_constant(X_train)\n",
    "est = sm.OLS(y_train, X2)\n",
    "est2 = est.fit()\n",
    "print(est2.summary())"
   ]
  }
 ],
 "metadata": {
  "kernelspec": {
   "display_name": "Python 3",
   "language": "python",
   "name": "python3"
  },
  "language_info": {
   "codemirror_mode": {
    "name": "ipython",
    "version": 3
   },
   "file_extension": ".py",
   "mimetype": "text/x-python",
   "name": "python",
   "nbconvert_exporter": "python",
   "pygments_lexer": "ipython3",
   "version": "3.7.0"
  }
 },
 "nbformat": 4,
 "nbformat_minor": 2
}
